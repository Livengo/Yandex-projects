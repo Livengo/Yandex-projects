{
 "cells": [
  {
   "cell_type": "markdown",
   "metadata": {},
   "source": [
    "# Определение стоимости автомобилей"
   ]
  },
  {
   "cell_type": "markdown",
   "metadata": {},
   "source": [
    "Сервис по продаже автомобилей с пробегом «Не бит, не крашен» разрабатывает приложение для привлечения новых клиентов. В нём можно быстро узнать рыночную стоимость своего автомобиля. В нашем распоряжении исторические данные: технические характеристики, комплектации и цены автомобилей. Нам нужно построить модель для определения стоимости. \n",
    "\n",
    "Заказчику важны:\n",
    "\n",
    "- качество предсказания;\n",
    "- скорость предсказания;\n",
    "- время обучения."
   ]
  },
  {
   "cell_type": "markdown",
   "metadata": {},
   "source": [
    "# Описание данных"
   ]
  },
  {
   "cell_type": "markdown",
   "metadata": {},
   "source": [
    "**Признаки**\n",
    "\n",
    "- DateCrawled — дата скачивания анкеты из базы\n",
    "- VehicleType — тип автомобильного кузова\n",
    "- RegistrationYear — год регистрации автомобиля\n",
    "- Gearbox — тип коробки передач\n",
    "- Power — мощность (л. с.)\n",
    "- Model — модель автомобиля\n",
    "- Kilometer — пробег (км)\n",
    "- RegistrationMonth — месяц регистрации автомобиля\n",
    "- FuelType — тип топлива\n",
    "- Brand — марка автомобиля\n",
    "- NotRepaired — была машина в ремонте или нет\n",
    "- DateCreated — дата создания анкеты\n",
    "- NumberOfPictures — количество фотографий автомобиля\n",
    "- PostalCode — почтовый индекс владельца анкеты (пользователя)\n",
    "- LastSeen — дата последней активности пользователя\n",
    "\n",
    "**Целевой признак**\n",
    "\n",
    "- Price — цена (евро)"
   ]
  },
  {
   "cell_type": "markdown",
   "metadata": {},
   "source": [
    "## Подготовка данных"
   ]
  },
  {
   "cell_type": "code",
   "execution_count": 1,
   "metadata": {},
   "outputs": [],
   "source": [
    "#Импортируем необходимые библиотеки\n",
    "import pandas as pd\n",
    "import numpy as np\n",
    "\n",
    "from sklearn.linear_model import LinearRegression\n",
    "from sklearn.ensemble import RandomForestRegressor\n",
    "from sklearn.tree import DecisionTreeRegressor\n",
    "\n",
    "from sklearn.preprocessing import LabelEncoder\n",
    "from sklearn.model_selection import train_test_split, GridSearchCV\n",
    "from sklearn.metrics import mean_squared_error\n",
    "\n",
    "from lightgbm import LGBMRegressor\n",
    "\n",
    "import matplotlib.pyplot as plt\n",
    "\n",
    "import warnings\n",
    "warnings.filterwarnings('ignore')"
   ]
  },
  {
   "cell_type": "code",
   "execution_count": 2,
   "metadata": {},
   "outputs": [
    {
     "data": {
      "text/html": [
       "<div>\n",
       "<style scoped>\n",
       "    .dataframe tbody tr th:only-of-type {\n",
       "        vertical-align: middle;\n",
       "    }\n",
       "\n",
       "    .dataframe tbody tr th {\n",
       "        vertical-align: top;\n",
       "    }\n",
       "\n",
       "    .dataframe thead th {\n",
       "        text-align: right;\n",
       "    }\n",
       "</style>\n",
       "<table border=\"1\" class=\"dataframe\">\n",
       "  <thead>\n",
       "    <tr style=\"text-align: right;\">\n",
       "      <th></th>\n",
       "      <th>DateCrawled</th>\n",
       "      <th>Price</th>\n",
       "      <th>VehicleType</th>\n",
       "      <th>RegistrationYear</th>\n",
       "      <th>Gearbox</th>\n",
       "      <th>Power</th>\n",
       "      <th>Model</th>\n",
       "      <th>Kilometer</th>\n",
       "      <th>RegistrationMonth</th>\n",
       "      <th>FuelType</th>\n",
       "      <th>Brand</th>\n",
       "      <th>NotRepaired</th>\n",
       "      <th>DateCreated</th>\n",
       "      <th>NumberOfPictures</th>\n",
       "      <th>PostalCode</th>\n",
       "      <th>LastSeen</th>\n",
       "    </tr>\n",
       "  </thead>\n",
       "  <tbody>\n",
       "    <tr>\n",
       "      <th>0</th>\n",
       "      <td>2016-03-24 11:52:17</td>\n",
       "      <td>480</td>\n",
       "      <td>NaN</td>\n",
       "      <td>1993</td>\n",
       "      <td>manual</td>\n",
       "      <td>0</td>\n",
       "      <td>golf</td>\n",
       "      <td>150000</td>\n",
       "      <td>0</td>\n",
       "      <td>petrol</td>\n",
       "      <td>volkswagen</td>\n",
       "      <td>NaN</td>\n",
       "      <td>2016-03-24 00:00:00</td>\n",
       "      <td>0</td>\n",
       "      <td>70435</td>\n",
       "      <td>2016-04-07 03:16:57</td>\n",
       "    </tr>\n",
       "    <tr>\n",
       "      <th>1</th>\n",
       "      <td>2016-03-24 10:58:45</td>\n",
       "      <td>18300</td>\n",
       "      <td>coupe</td>\n",
       "      <td>2011</td>\n",
       "      <td>manual</td>\n",
       "      <td>190</td>\n",
       "      <td>NaN</td>\n",
       "      <td>125000</td>\n",
       "      <td>5</td>\n",
       "      <td>gasoline</td>\n",
       "      <td>audi</td>\n",
       "      <td>yes</td>\n",
       "      <td>2016-03-24 00:00:00</td>\n",
       "      <td>0</td>\n",
       "      <td>66954</td>\n",
       "      <td>2016-04-07 01:46:50</td>\n",
       "    </tr>\n",
       "    <tr>\n",
       "      <th>2</th>\n",
       "      <td>2016-03-14 12:52:21</td>\n",
       "      <td>9800</td>\n",
       "      <td>suv</td>\n",
       "      <td>2004</td>\n",
       "      <td>auto</td>\n",
       "      <td>163</td>\n",
       "      <td>grand</td>\n",
       "      <td>125000</td>\n",
       "      <td>8</td>\n",
       "      <td>gasoline</td>\n",
       "      <td>jeep</td>\n",
       "      <td>NaN</td>\n",
       "      <td>2016-03-14 00:00:00</td>\n",
       "      <td>0</td>\n",
       "      <td>90480</td>\n",
       "      <td>2016-04-05 12:47:46</td>\n",
       "    </tr>\n",
       "    <tr>\n",
       "      <th>3</th>\n",
       "      <td>2016-03-17 16:54:04</td>\n",
       "      <td>1500</td>\n",
       "      <td>small</td>\n",
       "      <td>2001</td>\n",
       "      <td>manual</td>\n",
       "      <td>75</td>\n",
       "      <td>golf</td>\n",
       "      <td>150000</td>\n",
       "      <td>6</td>\n",
       "      <td>petrol</td>\n",
       "      <td>volkswagen</td>\n",
       "      <td>no</td>\n",
       "      <td>2016-03-17 00:00:00</td>\n",
       "      <td>0</td>\n",
       "      <td>91074</td>\n",
       "      <td>2016-03-17 17:40:17</td>\n",
       "    </tr>\n",
       "    <tr>\n",
       "      <th>4</th>\n",
       "      <td>2016-03-31 17:25:20</td>\n",
       "      <td>3600</td>\n",
       "      <td>small</td>\n",
       "      <td>2008</td>\n",
       "      <td>manual</td>\n",
       "      <td>69</td>\n",
       "      <td>fabia</td>\n",
       "      <td>90000</td>\n",
       "      <td>7</td>\n",
       "      <td>gasoline</td>\n",
       "      <td>skoda</td>\n",
       "      <td>no</td>\n",
       "      <td>2016-03-31 00:00:00</td>\n",
       "      <td>0</td>\n",
       "      <td>60437</td>\n",
       "      <td>2016-04-06 10:17:21</td>\n",
       "    </tr>\n",
       "  </tbody>\n",
       "</table>\n",
       "</div>"
      ],
      "text/plain": [
       "           DateCrawled  Price VehicleType  RegistrationYear Gearbox  Power  \\\n",
       "0  2016-03-24 11:52:17    480         NaN              1993  manual      0   \n",
       "1  2016-03-24 10:58:45  18300       coupe              2011  manual    190   \n",
       "2  2016-03-14 12:52:21   9800         suv              2004    auto    163   \n",
       "3  2016-03-17 16:54:04   1500       small              2001  manual     75   \n",
       "4  2016-03-31 17:25:20   3600       small              2008  manual     69   \n",
       "\n",
       "   Model  Kilometer  RegistrationMonth  FuelType       Brand NotRepaired  \\\n",
       "0   golf     150000                  0    petrol  volkswagen         NaN   \n",
       "1    NaN     125000                  5  gasoline        audi         yes   \n",
       "2  grand     125000                  8  gasoline        jeep         NaN   \n",
       "3   golf     150000                  6    petrol  volkswagen          no   \n",
       "4  fabia      90000                  7  gasoline       skoda          no   \n",
       "\n",
       "           DateCreated  NumberOfPictures  PostalCode             LastSeen  \n",
       "0  2016-03-24 00:00:00                 0       70435  2016-04-07 03:16:57  \n",
       "1  2016-03-24 00:00:00                 0       66954  2016-04-07 01:46:50  \n",
       "2  2016-03-14 00:00:00                 0       90480  2016-04-05 12:47:46  \n",
       "3  2016-03-17 00:00:00                 0       91074  2016-03-17 17:40:17  \n",
       "4  2016-03-31 00:00:00                 0       60437  2016-04-06 10:17:21  "
      ]
     },
     "execution_count": 2,
     "metadata": {},
     "output_type": "execute_result"
    }
   ],
   "source": [
    "#Откроем и изучим датафрейм\n",
    "df = pd.read_csv('/datasets/autos.csv')\n",
    "df.head()"
   ]
  },
  {
   "cell_type": "code",
   "execution_count": 3,
   "metadata": {
    "scrolled": true
   },
   "outputs": [
    {
     "name": "stdout",
     "output_type": "stream",
     "text": [
      "<class 'pandas.core.frame.DataFrame'>\n",
      "RangeIndex: 354369 entries, 0 to 354368\n",
      "Data columns (total 16 columns):\n",
      " #   Column             Non-Null Count   Dtype \n",
      "---  ------             --------------   ----- \n",
      " 0   DateCrawled        354369 non-null  object\n",
      " 1   Price              354369 non-null  int64 \n",
      " 2   VehicleType        316879 non-null  object\n",
      " 3   RegistrationYear   354369 non-null  int64 \n",
      " 4   Gearbox            334536 non-null  object\n",
      " 5   Power              354369 non-null  int64 \n",
      " 6   Model              334664 non-null  object\n",
      " 7   Kilometer          354369 non-null  int64 \n",
      " 8   RegistrationMonth  354369 non-null  int64 \n",
      " 9   FuelType           321474 non-null  object\n",
      " 10  Brand              354369 non-null  object\n",
      " 11  NotRepaired        283215 non-null  object\n",
      " 12  DateCreated        354369 non-null  object\n",
      " 13  NumberOfPictures   354369 non-null  int64 \n",
      " 14  PostalCode         354369 non-null  int64 \n",
      " 15  LastSeen           354369 non-null  object\n",
      "dtypes: int64(7), object(9)\n",
      "memory usage: 43.3+ MB\n"
     ]
    }
   ],
   "source": [
    "#Изучим общую информацию\n",
    "df.info()"
   ]
  },
  {
   "cell_type": "code",
   "execution_count": 4,
   "metadata": {},
   "outputs": [],
   "source": [
    "#Приведём столбцы к нижнему и змеиному регистрам\n",
    "df = df.rename(columns = {'DateCrawled': 'date_crawled', 'Price': 'price', 'VehicleType': 'vehicle_type', 'RegistrationYear':\n",
    "                         'registration_year', 'Gearbox': 'gearbox', 'Power': 'power', 'Model': 'model', 'Kilometer': \n",
    "                          'kilometer', 'RegistrationMonth': 'registration_month', 'FuelType': 'fuel_type', 'Brand': 'brand',\n",
    "                         'NotRepaired': 'not_repaired', 'DateCreated': 'date_created', 'NumberOfPictures': \n",
    "                          'number_of_pictures', 'PostalCode': 'postal_code', 'LastSeen': 'last_seen'})"
   ]
  },
  {
   "cell_type": "code",
   "execution_count": 5,
   "metadata": {},
   "outputs": [
    {
     "data": {
      "text/plain": [
       "Index(['date_crawled', 'price', 'vehicle_type', 'registration_year', 'gearbox',\n",
       "       'power', 'model', 'kilometer', 'registration_month', 'fuel_type',\n",
       "       'brand', 'not_repaired', 'date_created', 'number_of_pictures',\n",
       "       'postal_code', 'last_seen'],\n",
       "      dtype='object')"
      ]
     },
     "execution_count": 5,
     "metadata": {},
     "output_type": "execute_result"
    }
   ],
   "source": [
    "#Проверим изменения\n",
    "df.columns"
   ]
  },
  {
   "cell_type": "code",
   "execution_count": 6,
   "metadata": {},
   "outputs": [],
   "source": [
    "#Заменим тип данных в столбцах с датами на им соответствующий\n",
    "df['date_crawled'] = df['date_crawled'].astype('datetime64')\n",
    "df['date_created'] = df['date_created'].astype('datetime64')\n",
    "df['last_seen'] = df['last_seen'].astype('datetime64')"
   ]
  },
  {
   "cell_type": "code",
   "execution_count": 7,
   "metadata": {},
   "outputs": [
    {
     "data": {
      "text/plain": [
       "date_crawled              0\n",
       "price                     0\n",
       "vehicle_type          37490\n",
       "registration_year         0\n",
       "gearbox               19833\n",
       "power                     0\n",
       "model                 19705\n",
       "kilometer                 0\n",
       "registration_month        0\n",
       "fuel_type             32895\n",
       "brand                     0\n",
       "not_repaired          71154\n",
       "date_created              0\n",
       "number_of_pictures        0\n",
       "postal_code               0\n",
       "last_seen                 0\n",
       "dtype: int64"
      ]
     },
     "execution_count": 7,
     "metadata": {},
     "output_type": "execute_result"
    }
   ],
   "source": [
    "#Посмотрим количество пропусков в столбцах нашего датафрейма\n",
    "df.isna().sum()"
   ]
  },
  {
   "cell_type": "code",
   "execution_count": 8,
   "metadata": {},
   "outputs": [
    {
     "name": "stdout",
     "output_type": "stream",
     "text": [
      "Уникальные значения типа автомобильного кузова: [nan 'coupe' 'suv' 'small' 'sedan' 'convertible' 'bus' 'wagon' 'other']\n",
      "\n",
      "Уникальные значения типа коробки передач: ['manual' 'auto' nan]\n",
      "\n",
      "Уникальные значения модели автомобиля: ['golf' nan 'grand' 'fabia' '3er' '2_reihe' 'other' 'c_max' '3_reihe'\n",
      " 'passat' 'navara' 'ka' 'polo' 'twingo' 'a_klasse' 'scirocco' '5er'\n",
      " 'meriva' 'arosa' 'c4' 'civic' 'transporter' 'punto' 'e_klasse' 'clio'\n",
      " 'kadett' 'kangoo' 'corsa' 'one' 'fortwo' '1er' 'b_klasse' 'signum'\n",
      " 'astra' 'a8' 'jetta' 'fiesta' 'c_klasse' 'micra' 'vito' 'sprinter' '156'\n",
      " 'escort' 'forester' 'xc_reihe' 'scenic' 'a4' 'a1' 'insignia' 'combo'\n",
      " 'focus' 'tt' 'a6' 'jazz' 'omega' 'slk' '7er' '80' '147' '100' 'z_reihe'\n",
      " 'sportage' 'sorento' 'v40' 'ibiza' 'mustang' 'eos' 'touran' 'getz' 'a3'\n",
      " 'almera' 'megane' 'lupo' 'r19' 'zafira' 'caddy' 'mondeo' 'cordoba' 'colt'\n",
      " 'impreza' 'vectra' 'berlingo' 'tiguan' 'i_reihe' 'espace' 'sharan'\n",
      " '6_reihe' 'panda' 'up' 'seicento' 'ceed' '5_reihe' 'yeti' 'octavia' 'mii'\n",
      " 'rx_reihe' '6er' 'modus' 'fox' 'matiz' 'beetle' 'c1' 'rio' 'touareg'\n",
      " 'logan' 'spider' 'cuore' 's_max' 'a2' 'galaxy' 'c3' 'viano' 's_klasse'\n",
      " '1_reihe' 'avensis' 'roomster' 'sl' 'kaefer' 'santa' 'cooper' 'leon'\n",
      " '4_reihe' 'a5' '500' 'laguna' 'ptcruiser' 'clk' 'primera' 'x_reihe'\n",
      " 'exeo' '159' 'transit' 'juke' 'qashqai' 'carisma' 'accord' 'corolla'\n",
      " 'lanos' 'phaeton' 'verso' 'swift' 'rav' 'picanto' 'boxster' 'kalos'\n",
      " 'superb' 'stilo' 'alhambra' 'mx_reihe' 'roadster' 'ypsilon' 'cayenne'\n",
      " 'galant' 'justy' '90' 'sirion' 'crossfire' 'agila' 'duster' 'cr_reihe'\n",
      " 'v50' 'c_reihe' 'v_klasse' 'm_klasse' 'yaris' 'c5' 'aygo' 'cc' 'carnival'\n",
      " 'fusion' '911' 'bora' 'forfour' 'm_reihe' 'cl' 'tigra' '300c' 'spark'\n",
      " 'v70' 'kuga' 'x_type' 'ducato' 's_type' 'x_trail' 'toledo' 'altea'\n",
      " 'voyager' 'calibra' 'bravo' 'antara' 'tucson' 'citigo' 'jimny' 'wrangler'\n",
      " 'lybra' 'q7' 'lancer' 'captiva' 'c2' 'discovery' 'freelander' 'sandero'\n",
      " 'note' '900' 'cherokee' 'clubman' 'samara' 'defender' '601' 'cx_reihe'\n",
      " 'legacy' 'pajero' 'auris' 'niva' 's60' 'nubira' 'vivaro' 'g_klasse'\n",
      " 'lodgy' '850' 'range_rover' 'q3' 'serie_2' 'glk' 'charade' 'croma'\n",
      " 'outlander' 'doblo' 'musa' 'move' '9000' 'v60' '145' 'aveo' '200' 'b_max'\n",
      " 'range_rover_sport' 'terios' 'rangerover' 'q5' 'range_rover_evoque'\n",
      " 'materia' 'delta' 'gl' 'kalina' 'amarok' 'elefantino' 'i3' 'kappa'\n",
      " 'serie_3' 'serie_1']\n",
      "\n",
      "Уникальные значения типа топлива: ['petrol' 'gasoline' nan 'lpg' 'other' 'hybrid' 'cng' 'electric']\n",
      "\n",
      "Уникальные значения столбца not_repaired: [nan 'yes' 'no']\n"
     ]
    }
   ],
   "source": [
    "#Выведем уникальные значения столбцов с пропусками\n",
    "print('Уникальные значения типа автомобильного кузова:', df['vehicle_type'].unique())\n",
    "print()\n",
    "print('Уникальные значения типа коробки передач:', df['gearbox'].unique())\n",
    "print()\n",
    "print('Уникальные значения модели автомобиля:', df['model'].unique())\n",
    "print()\n",
    "print('Уникальные значения типа топлива:', df['fuel_type'].unique())\n",
    "print()\n",
    "print('Уникальные значения столбца not_repaired:', df['not_repaired'].unique())"
   ]
  },
  {
   "cell_type": "code",
   "execution_count": 9,
   "metadata": {},
   "outputs": [],
   "source": [
    "#Заполним пропуски в 3 столбцах на 'other'\n",
    "df['vehicle_type'] = df['vehicle_type'].fillna('other')\n",
    "df['model'] = df['model'].fillna('other')\n",
    "df['fuel_type'] = df['fuel_type'].fillna('other')"
   ]
  },
  {
   "cell_type": "code",
   "execution_count": 10,
   "metadata": {},
   "outputs": [],
   "source": [
    "#Поскольку в столбцах 'gearbox' и 'not_repaired' присутствуют 2 значения (не считая пропусков), и эти значения мы не знаем, чем \n",
    "#заполнить, поскольку при заполнении клиенты могли оставить их пустыми, можно удалить строки, которые имеют в этих значениях \n",
    "#пропуск\n",
    "df = df.dropna() "
   ]
  },
  {
   "cell_type": "code",
   "execution_count": 11,
   "metadata": {},
   "outputs": [
    {
     "name": "stdout",
     "output_type": "stream",
     "text": [
      "<class 'pandas.core.frame.DataFrame'>\n",
      "Int64Index: 276170 entries, 1 to 354367\n",
      "Data columns (total 16 columns):\n",
      " #   Column              Non-Null Count   Dtype         \n",
      "---  ------              --------------   -----         \n",
      " 0   date_crawled        276170 non-null  datetime64[ns]\n",
      " 1   price               276170 non-null  int64         \n",
      " 2   vehicle_type        276170 non-null  object        \n",
      " 3   registration_year   276170 non-null  int64         \n",
      " 4   gearbox             276170 non-null  object        \n",
      " 5   power               276170 non-null  int64         \n",
      " 6   model               276170 non-null  object        \n",
      " 7   kilometer           276170 non-null  int64         \n",
      " 8   registration_month  276170 non-null  int64         \n",
      " 9   fuel_type           276170 non-null  object        \n",
      " 10  brand               276170 non-null  object        \n",
      " 11  not_repaired        276170 non-null  object        \n",
      " 12  date_created        276170 non-null  datetime64[ns]\n",
      " 13  number_of_pictures  276170 non-null  int64         \n",
      " 14  postal_code         276170 non-null  int64         \n",
      " 15  last_seen           276170 non-null  datetime64[ns]\n",
      "dtypes: datetime64[ns](3), int64(7), object(6)\n",
      "memory usage: 35.8+ MB\n"
     ]
    }
   ],
   "source": [
    "#Проверим изменения\n",
    "df.info()"
   ]
  },
  {
   "cell_type": "code",
   "execution_count": 12,
   "metadata": {},
   "outputs": [
    {
     "data": {
      "text/plain": [
       "4"
      ]
     },
     "execution_count": 12,
     "metadata": {},
     "output_type": "execute_result"
    }
   ],
   "source": [
    "#Проверим количество дублирующихся строк\n",
    "df.duplicated().sum()"
   ]
  },
  {
   "cell_type": "code",
   "execution_count": 13,
   "metadata": {},
   "outputs": [],
   "source": [
    "#Удалим дублирующиеся строки\n",
    "df = df.drop_duplicates()"
   ]
  },
  {
   "cell_type": "code",
   "execution_count": 14,
   "metadata": {},
   "outputs": [
    {
     "data": {
      "text/plain": [
       "0"
      ]
     },
     "execution_count": 14,
     "metadata": {},
     "output_type": "execute_result"
    }
   ],
   "source": [
    "#Проверим изменения\n",
    "df.duplicated().sum()"
   ]
  },
  {
   "cell_type": "code",
   "execution_count": 15,
   "metadata": {},
   "outputs": [
    {
     "data": {
      "text/html": [
       "<div>\n",
       "<style scoped>\n",
       "    .dataframe tbody tr th:only-of-type {\n",
       "        vertical-align: middle;\n",
       "    }\n",
       "\n",
       "    .dataframe tbody tr th {\n",
       "        vertical-align: top;\n",
       "    }\n",
       "\n",
       "    .dataframe thead th {\n",
       "        text-align: right;\n",
       "    }\n",
       "</style>\n",
       "<table border=\"1\" class=\"dataframe\">\n",
       "  <thead>\n",
       "    <tr style=\"text-align: right;\">\n",
       "      <th></th>\n",
       "      <th>price</th>\n",
       "      <th>registration_year</th>\n",
       "      <th>power</th>\n",
       "      <th>kilometer</th>\n",
       "      <th>registration_month</th>\n",
       "      <th>number_of_pictures</th>\n",
       "      <th>postal_code</th>\n",
       "    </tr>\n",
       "  </thead>\n",
       "  <tbody>\n",
       "    <tr>\n",
       "      <th>count</th>\n",
       "      <td>276166.000000</td>\n",
       "      <td>276166.000000</td>\n",
       "      <td>276166.000000</td>\n",
       "      <td>276166.000000</td>\n",
       "      <td>276166.000000</td>\n",
       "      <td>276166.0</td>\n",
       "      <td>276166.000000</td>\n",
       "    </tr>\n",
       "    <tr>\n",
       "      <th>mean</th>\n",
       "      <td>4908.733620</td>\n",
       "      <td>2003.439348</td>\n",
       "      <td>118.131178</td>\n",
       "      <td>127685.287110</td>\n",
       "      <td>6.050843</td>\n",
       "      <td>0.0</td>\n",
       "      <td>51068.847997</td>\n",
       "    </tr>\n",
       "    <tr>\n",
       "      <th>std</th>\n",
       "      <td>4670.008341</td>\n",
       "      <td>25.306359</td>\n",
       "      <td>169.628710</td>\n",
       "      <td>37170.861383</td>\n",
       "      <td>3.548716</td>\n",
       "      <td>0.0</td>\n",
       "      <td>25869.378566</td>\n",
       "    </tr>\n",
       "    <tr>\n",
       "      <th>min</th>\n",
       "      <td>0.000000</td>\n",
       "      <td>1000.000000</td>\n",
       "      <td>0.000000</td>\n",
       "      <td>5000.000000</td>\n",
       "      <td>0.000000</td>\n",
       "      <td>0.0</td>\n",
       "      <td>1067.000000</td>\n",
       "    </tr>\n",
       "    <tr>\n",
       "      <th>25%</th>\n",
       "      <td>1340.000000</td>\n",
       "      <td>1999.000000</td>\n",
       "      <td>75.000000</td>\n",
       "      <td>125000.000000</td>\n",
       "      <td>3.000000</td>\n",
       "      <td>0.0</td>\n",
       "      <td>30635.500000</td>\n",
       "    </tr>\n",
       "    <tr>\n",
       "      <th>50%</th>\n",
       "      <td>3200.000000</td>\n",
       "      <td>2003.000000</td>\n",
       "      <td>109.000000</td>\n",
       "      <td>150000.000000</td>\n",
       "      <td>6.000000</td>\n",
       "      <td>0.0</td>\n",
       "      <td>50169.000000</td>\n",
       "    </tr>\n",
       "    <tr>\n",
       "      <th>75%</th>\n",
       "      <td>7000.000000</td>\n",
       "      <td>2008.000000</td>\n",
       "      <td>150.000000</td>\n",
       "      <td>150000.000000</td>\n",
       "      <td>9.000000</td>\n",
       "      <td>0.0</td>\n",
       "      <td>72070.000000</td>\n",
       "    </tr>\n",
       "    <tr>\n",
       "      <th>max</th>\n",
       "      <td>20000.000000</td>\n",
       "      <td>9000.000000</td>\n",
       "      <td>20000.000000</td>\n",
       "      <td>150000.000000</td>\n",
       "      <td>12.000000</td>\n",
       "      <td>0.0</td>\n",
       "      <td>99998.000000</td>\n",
       "    </tr>\n",
       "  </tbody>\n",
       "</table>\n",
       "</div>"
      ],
      "text/plain": [
       "               price  registration_year          power      kilometer  \\\n",
       "count  276166.000000      276166.000000  276166.000000  276166.000000   \n",
       "mean     4908.733620        2003.439348     118.131178  127685.287110   \n",
       "std      4670.008341          25.306359     169.628710   37170.861383   \n",
       "min         0.000000        1000.000000       0.000000    5000.000000   \n",
       "25%      1340.000000        1999.000000      75.000000  125000.000000   \n",
       "50%      3200.000000        2003.000000     109.000000  150000.000000   \n",
       "75%      7000.000000        2008.000000     150.000000  150000.000000   \n",
       "max     20000.000000        9000.000000   20000.000000  150000.000000   \n",
       "\n",
       "       registration_month  number_of_pictures    postal_code  \n",
       "count       276166.000000            276166.0  276166.000000  \n",
       "mean             6.050843                 0.0   51068.847997  \n",
       "std              3.548716                 0.0   25869.378566  \n",
       "min              0.000000                 0.0    1067.000000  \n",
       "25%              3.000000                 0.0   30635.500000  \n",
       "50%              6.000000                 0.0   50169.000000  \n",
       "75%              9.000000                 0.0   72070.000000  \n",
       "max             12.000000                 0.0   99998.000000  "
      ]
     },
     "execution_count": 15,
     "metadata": {},
     "output_type": "execute_result"
    }
   ],
   "source": [
    "#Изучим данные на возможные выбросы\n",
    "df.describe()"
   ]
  },
  {
   "cell_type": "code",
   "execution_count": 16,
   "metadata": {},
   "outputs": [
    {
     "data": {
      "image/png": "[encoded data removed]",
      "text/plain": [
       "<Figure size 432x288 with 1 Axes>"
      ]
     },
     "metadata": {
      "needs_background": "light"
     },
     "output_type": "display_data"
    },
    {
     "data": {
      "image/png": "[encoded data removed]",
      "text/plain": [
       "<Figure size 432x288 with 1 Axes>"
      ]
     },
     "metadata": {
      "needs_background": "light"
     },
     "output_type": "display_data"
    },
    {
     "data": {
      "image/png": "[encoded data removed]",
      "text/plain": [
       "<Figure size 432x288 with 1 Axes>"
      ]
     },
     "metadata": {
      "needs_background": "light"
     },
     "output_type": "display_data"
    },
    {
     "data": {
      "image/png": "[encoded data removed]",
      "text/plain": [
       "<Figure size 432x288 with 1 Axes>"
      ]
     },
     "metadata": {
      "needs_background": "light"
     },
     "output_type": "display_data"
    },
    {
     "data": {
      "image/png": "[encoded data removed]",
      "text/plain": [
       "<Figure size 432x288 with 1 Axes>"
      ]
     },
     "metadata": {
      "needs_background": "light"
     },
     "output_type": "display_data"
    },
    {
     "data": {
      "image/png": "[encoded data removed]",
      "text/plain": [
       "<Figure size 432x288 with 1 Axes>"
      ]
     },
     "metadata": {
      "needs_background": "light"
     },
     "output_type": "display_data"
    },
    {
     "data": {
      "image/png": "[encoded data removed]",
      "text/plain": [
       "<Figure size 432x288 with 1 Axes>"
      ]
     },
     "metadata": {
      "needs_background": "light"
     },
     "output_type": "display_data"
    }
   ],
   "source": [
    "#Построим графики для выбранных данных для изучения выбросов\n",
    "for col in ['price', 'registration_year', 'power', 'kilometer', 'registration_month', 'number_of_pictures', 'postal_code']:\n",
    "    df[col].plot.box()\n",
    "    plt.title(col)\n",
    "    plt.show()"
   ]
  },
  {
   "cell_type": "code",
   "execution_count": 17,
   "metadata": {},
   "outputs": [
    {
     "data": {
      "text/plain": [
       "<AxesSubplot:>"
      ]
     },
     "execution_count": 17,
     "metadata": {},
     "output_type": "execute_result"
    },
    {
     "data": {
      "image/png": "[encoded data removed]",
      "text/plain": [
       "<Figure size 864x648 with 1 Axes>"
      ]
     },
     "metadata": {
      "needs_background": "light"
     },
     "output_type": "display_data"
    }
   ],
   "source": [
    "#Построим гистограмму для столбца 'price'\n",
    "df['price'].hist(bins=100, figsize=(12,9))"
   ]
  },
  {
   "cell_type": "code",
   "execution_count": 18,
   "metadata": {},
   "outputs": [
    {
     "data": {
      "text/plain": [
       "<AxesSubplot:>"
      ]
     },
     "execution_count": 18,
     "metadata": {},
     "output_type": "execute_result"
    },
    {
     "data": {
      "image/png": "[encoded data removed]",
      "text/plain": [
       "<Figure size 864x648 with 1 Axes>"
      ]
     },
     "metadata": {
      "needs_background": "light"
     },
     "output_type": "display_data"
    }
   ],
   "source": [
    "#Построим гистограмму для столбца 'registration_year'\n",
    "df['registration_year'].hist(bins=100, figsize=(12,9))"
   ]
  },
  {
   "cell_type": "code",
   "execution_count": 19,
   "metadata": {},
   "outputs": [
    {
     "data": {
      "text/plain": [
       "<AxesSubplot:>"
      ]
     },
     "execution_count": 19,
     "metadata": {},
     "output_type": "execute_result"
    },
    {
     "data": {
      "image/png": "[encoded data removed]",
      "text/plain": [
       "<Figure size 864x648 with 1 Axes>"
      ]
     },
     "metadata": {
      "needs_background": "light"
     },
     "output_type": "display_data"
    }
   ],
   "source": [
    "#Построим гистограмму для столбца 'power'\n",
    "df['power'].hist(bins=1000, figsize=(12,9))"
   ]
  },
  {
   "cell_type": "code",
   "execution_count": 20,
   "metadata": {},
   "outputs": [
    {
     "data": {
      "text/plain": [
       "Timestamp('2016-04-07 14:36:58')"
      ]
     },
     "execution_count": 20,
     "metadata": {},
     "output_type": "execute_result"
    }
   ],
   "source": [
    "#Узнаем дату последнего скачивания анкеты с базы для понимания того, какого максимального года выпуска была машина\n",
    "df['date_crawled'].max()"
   ]
  },
  {
   "cell_type": "code",
   "execution_count": 21,
   "metadata": {},
   "outputs": [],
   "source": [
    "#По полученным данным отсеим все выбросы в нашем датафрейме\n",
    "df = df.query('1989 < registration_year < 2017 and 50 < power < 200 and 1000 < price < 7500')"
   ]
  },
  {
   "cell_type": "code",
   "execution_count": 22,
   "metadata": {},
   "outputs": [
    {
     "name": "stdout",
     "output_type": "stream",
     "text": [
      "Зависимость цены от года регистрации автомобиля: 0.5229579321013164\n",
      "Зависимость цены от мощности: 0.22896635063210746\n",
      "Зависимость цены от пробега: -0.2622137220094236\n"
     ]
    }
   ],
   "source": [
    "#Посмотрим корреляционную зависимость между признаками\n",
    "print('Зависимость цены от года регистрации автомобиля:', df['price'].corr(df['registration_year']))\n",
    "print('Зависимость цены от мощности:', df['price'].corr(df['power']))\n",
    "print('Зависимость цены от пробега:', df['price'].corr(df['kilometer']))"
   ]
  },
  {
   "cell_type": "markdown",
   "metadata": {},
   "source": [
    "### Вывод"
   ]
  },
  {
   "cell_type": "markdown",
   "metadata": {},
   "source": [
    "Значения были изучены, данные приведены в порядок: \n",
    "- пропуски были заполнены по возможности, либо удалены;\n",
    "- дубликаты были удалены;\n",
    "- названия столбцов были приведены к нижнему и змеиному регистрам;\n",
    "- у столбцов с датами были изменены с типами данных на соответствующий датам;\n",
    "- аномальные выбросы были изучены и отсеяны;"
   ]
  },
  {
   "cell_type": "markdown",
   "metadata": {},
   "source": [
    "## Обучение моделей"
   ]
  },
  {
   "cell_type": "code",
   "execution_count": 23,
   "metadata": {},
   "outputs": [],
   "source": [
    "#Выделим отдельно день, месяц и год из столбца 'date_created'\n",
    "df['weekday'] = df['date_created'].dt.weekday\n",
    "df['month'] = df['date_created'].dt.month\n",
    "df['year'] = df['date_created'].dt.year"
   ]
  },
  {
   "cell_type": "code",
   "execution_count": 24,
   "metadata": {},
   "outputs": [],
   "source": [
    "#Создадим новый датафрейм и удалим из него ненужные столбцы\n",
    "new_df = df.drop(['date_crawled', 'last_seen', 'date_created', 'registration_month', 'number_of_pictures', \n",
    "                  'postal_code'], axis=1)"
   ]
  },
  {
   "cell_type": "code",
   "execution_count": 25,
   "metadata": {},
   "outputs": [],
   "source": [
    "#Выделим категории из нового датафрейма, который имеют тип 'object' и добавим к нему столбцы дня, месяца и года\n",
    "categorical = new_df.select_dtypes(include='object').columns.to_list() + ['weekday', 'month', 'year']"
   ]
  },
  {
   "cell_type": "code",
   "execution_count": 26,
   "metadata": {},
   "outputs": [],
   "source": [
    "#Применим LabelEncoder к столбцам из категорий\n",
    "encoder = LabelEncoder()\n",
    "for col in categorical:\n",
    "    new_df[col] = encoder.fit_transform(new_df[col])"
   ]
  },
  {
   "cell_type": "code",
   "execution_count": 27,
   "metadata": {},
   "outputs": [],
   "source": [
    "#Выделим признаки и обучающую с тестовой выборки\n",
    "X = new_df.drop('price', axis=1)\n",
    "y = new_df['price']\n",
    "\n",
    "X_train, X_test, y_train, y_test = train_test_split(X, y, test_size=0.2, random_state=12345)"
   ]
  },
  {
   "cell_type": "code",
   "execution_count": 28,
   "metadata": {
    "scrolled": true
   },
   "outputs": [
    {
     "name": "stdout",
     "output_type": "stream",
     "text": [
      "CPU times: user 2min 45s, sys: 1.1 s, total: 2min 46s\n",
      "Wall time: 2min 48s\n"
     ]
    },
    {
     "data": {
      "text/plain": [
       "GridSearchCV(cv=5, estimator=LGBMRegressor(),\n",
       "             param_grid={'class_weight': ['balanced', None],\n",
       "                         'learning_rate': [0.1, 0.25, 0.5],\n",
       "                         'max_depth': [1, 30], 'random_state': [12345]})"
      ]
     },
     "execution_count": 28,
     "metadata": {},
     "output_type": "execute_result"
    }
   ],
   "source": [
    "%%time\n",
    "#Проверим модель LightGBM и её скорость обучения\n",
    "parameters_lgbm = {'max_depth':[1, 30], 'learning_rate':[0.1, 0.25, 0.5],\n",
    "                'random_state':[12345], 'class_weight': ['balanced', None]}\n",
    "model_lgbm = LGBMRegressor()\n",
    "grid_lgbm = GridSearchCV(estimator=model_lgbm, param_grid=parameters_lgbm, cv=5)\n",
    "grid_lgbm.fit(X_train, y_train)"
   ]
  },
  {
   "cell_type": "code",
   "execution_count": 29,
   "metadata": {},
   "outputs": [
    {
     "name": "stdout",
     "output_type": "stream",
     "text": [
      "CPU times: user 162 ms, sys: 15.9 ms, total: 178 ms\n",
      "Wall time: 193 ms\n"
     ]
    }
   ],
   "source": [
    "%%time\n",
    "#Проверим скорость предсказания модели LightGBM\n",
    "expected_y  = y_test\n",
    "predicted_y = grid_lgbm.predict(X_test)"
   ]
  },
  {
   "cell_type": "code",
   "execution_count": 30,
   "metadata": {},
   "outputs": [
    {
     "name": "stdout",
     "output_type": "stream",
     "text": [
      "894.6824600662313\n"
     ]
    }
   ],
   "source": [
    "#Проверим качество предсказания RMSE модели LightGBM\n",
    "print(mean_squared_error(expected_y, predicted_y)**(.5))"
   ]
  },
  {
   "cell_type": "code",
   "execution_count": 31,
   "metadata": {},
   "outputs": [
    {
     "name": "stdout",
     "output_type": "stream",
     "text": [
      "CPU times: user 2.2 s, sys: 1.88 s, total: 4.08 s\n",
      "Wall time: 4.1 s\n"
     ]
    },
    {
     "data": {
      "text/plain": [
       "GridSearchCV(cv=5, estimator=LinearRegression(),\n",
       "             param_grid={'fit_intercept': [True, False],\n",
       "                         'normalize': [True, False]})"
      ]
     },
     "execution_count": 31,
     "metadata": {},
     "output_type": "execute_result"
    }
   ],
   "source": [
    "%%time\n",
    "#Проверим модель LinearRegression и её скорость обучения\n",
    "parameters_LR = {'normalize':[True,False], 'fit_intercept':[True,False]}\n",
    "model_LR = LinearRegression()\n",
    "grid_LR = GridSearchCV(estimator=model_LR, param_grid=parameters_LR, cv=5)\n",
    "grid_LR.fit(X_train, y_train)"
   ]
  },
  {
   "cell_type": "code",
   "execution_count": 32,
   "metadata": {},
   "outputs": [
    {
     "name": "stdout",
     "output_type": "stream",
     "text": [
      "CPU times: user 30.2 ms, sys: 12.8 ms, total: 42.9 ms\n",
      "Wall time: 78.8 ms\n"
     ]
    }
   ],
   "source": [
    "%%time\n",
    "#Проверим скорость предсказания модели LinearRegression\n",
    "expected_y  = y_test\n",
    "predicted_y = grid_LR.predict(X_test)"
   ]
  },
  {
   "cell_type": "code",
   "execution_count": 33,
   "metadata": {},
   "outputs": [
    {
     "name": "stdout",
     "output_type": "stream",
     "text": [
      "1300.8710926964172\n"
     ]
    }
   ],
   "source": [
    "#Проверим качество предсказания RMSE модели LinearRegression\n",
    "print(mean_squared_error(expected_y, predicted_y)**(.5))"
   ]
  },
  {
   "cell_type": "code",
   "execution_count": 34,
   "metadata": {},
   "outputs": [
    {
     "name": "stdout",
     "output_type": "stream",
     "text": [
      "CPU times: user 2min 15s, sys: 1.31 s, total: 2min 16s\n",
      "Wall time: 2min 17s\n"
     ]
    },
    {
     "data": {
      "text/plain": [
       "GridSearchCV(cv=5, estimator=RandomForestRegressor(),\n",
       "             param_grid={'max_depth': [1, 30], 'n_estimators': [1, 100],\n",
       "                         'random_state': [12345]})"
      ]
     },
     "execution_count": 34,
     "metadata": {},
     "output_type": "execute_result"
    }
   ],
   "source": [
    "%%time\n",
    "#Проверим модель RandomForestRegressor и её скорость обучения\n",
    "parameters_RFR = {'n_estimators':[1, 100], 'max_depth':[1, 30], \n",
    "                  'random_state':[12345]}\n",
    "model_RFR = RandomForestRegressor()\n",
    "grid_RFR = GridSearchCV(estimator=model_RFR, param_grid=parameters_RFR, cv=5)\n",
    "grid_RFR.fit(X_train, y_train)"
   ]
  },
  {
   "cell_type": "code",
   "execution_count": 35,
   "metadata": {},
   "outputs": [
    {
     "name": "stdout",
     "output_type": "stream",
     "text": [
      "CPU times: user 997 ms, sys: 0 ns, total: 997 ms\n",
      "Wall time: 1.01 s\n"
     ]
    }
   ],
   "source": [
    "%%time\n",
    "#Проверим скорость предсказания модели RandomForestRegressor\n",
    "expected_y  = y_test\n",
    "predicted_y = grid_RFR.predict(X_test)"
   ]
  },
  {
   "cell_type": "code",
   "execution_count": 36,
   "metadata": {},
   "outputs": [
    {
     "name": "stdout",
     "output_type": "stream",
     "text": [
      "920.8894277185415\n"
     ]
    }
   ],
   "source": [
    "#Проверим качество предсказания RMSE модели RandomForestRegressor\n",
    "print(mean_squared_error(expected_y, predicted_y)**(.5))"
   ]
  },
  {
   "cell_type": "code",
   "execution_count": 37,
   "metadata": {},
   "outputs": [
    {
     "name": "stdout",
     "output_type": "stream",
     "text": [
      "CPU times: user 2.05 s, sys: 11.5 ms, total: 2.06 s\n",
      "Wall time: 2.07 s\n"
     ]
    },
    {
     "data": {
      "text/plain": [
       "GridSearchCV(cv=5, estimator=DecisionTreeRegressor(),\n",
       "             param_grid={'max_depth': [1, 30], 'random_state': [12345]})"
      ]
     },
     "execution_count": 37,
     "metadata": {},
     "output_type": "execute_result"
    }
   ],
   "source": [
    "%%time\n",
    "#Проверим модель DecisionTreeRegressor и её скорость обучения\n",
    "parameters_DTR = {'max_depth':[1,30], 'random_state':[12345]}\n",
    "model_DTR = DecisionTreeRegressor()\n",
    "grid_DTR = GridSearchCV(estimator=model_DTR, param_grid=parameters_DTR, cv=5)\n",
    "grid_DTR.fit(X_train, y_train)"
   ]
  },
  {
   "cell_type": "code",
   "execution_count": 38,
   "metadata": {},
   "outputs": [
    {
     "name": "stdout",
     "output_type": "stream",
     "text": [
      "CPU times: user 14.5 ms, sys: 0 ns, total: 14.5 ms\n",
      "Wall time: 13.1 ms\n"
     ]
    }
   ],
   "source": [
    "%%time\n",
    "#Проверим скорость предсказания модели DecisionTreeRegressor\n",
    "expected_y  = y_test\n",
    "predicted_y = grid_DTR.predict(X_test)"
   ]
  },
  {
   "cell_type": "code",
   "execution_count": 39,
   "metadata": {},
   "outputs": [
    {
     "name": "stdout",
     "output_type": "stream",
     "text": [
      "1149.2700995657676\n"
     ]
    }
   ],
   "source": [
    "#Проверим качество предсказания RMSE модели DecisionTreeRegressor\n",
    "print(mean_squared_error(expected_y, predicted_y)**(.5))"
   ]
  },
  {
   "cell_type": "markdown",
   "metadata": {},
   "source": [
    "### Вывод"
   ]
  },
  {
   "cell_type": "markdown",
   "metadata": {},
   "source": [
    "Были обучены различные модели с параметрами, также было оценено качество предсказаний RMSE этих моделей."
   ]
  },
  {
   "cell_type": "markdown",
   "metadata": {},
   "source": [
    "## Анализ моделей"
   ]
  },
  {
   "cell_type": "code",
   "execution_count": 40,
   "metadata": {},
   "outputs": [],
   "source": [
    "#Запишем получившиеся значения\n",
    "data = [['5min 45s', '115 ms', 894],\n",
    "        ['4.05 s', '2.88 ms', 1300],\n",
    "        ['2min 27s', '1.06 s', 920],\n",
    "        ['2.24 s', '14.6 ms', 1149]]\n",
    "models = ['LightGBM', 'LinearRegression', 'RandomForestRegressor', 'DecisionTreeRegressor']"
   ]
  },
  {
   "cell_type": "code",
   "execution_count": 41,
   "metadata": {},
   "outputs": [
    {
     "data": {
      "text/html": [
       "<div>\n",
       "<style scoped>\n",
       "    .dataframe tbody tr th:only-of-type {\n",
       "        vertical-align: middle;\n",
       "    }\n",
       "\n",
       "    .dataframe tbody tr th {\n",
       "        vertical-align: top;\n",
       "    }\n",
       "\n",
       "    .dataframe thead th {\n",
       "        text-align: right;\n",
       "    }\n",
       "</style>\n",
       "<table border=\"1\" class=\"dataframe\">\n",
       "  <thead>\n",
       "    <tr style=\"text-align: right;\">\n",
       "      <th></th>\n",
       "      <th>Время обучения</th>\n",
       "      <th>Скорость предсказания</th>\n",
       "      <th>Качество предсказания RMSE</th>\n",
       "    </tr>\n",
       "  </thead>\n",
       "  <tbody>\n",
       "    <tr>\n",
       "      <th>LightGBM</th>\n",
       "      <td>5min 45s</td>\n",
       "      <td>115 ms</td>\n",
       "      <td>894</td>\n",
       "    </tr>\n",
       "    <tr>\n",
       "      <th>LinearRegression</th>\n",
       "      <td>4.05 s</td>\n",
       "      <td>2.88 ms</td>\n",
       "      <td>1300</td>\n",
       "    </tr>\n",
       "    <tr>\n",
       "      <th>RandomForestRegressor</th>\n",
       "      <td>2min 27s</td>\n",
       "      <td>1.06 s</td>\n",
       "      <td>920</td>\n",
       "    </tr>\n",
       "    <tr>\n",
       "      <th>DecisionTreeRegressor</th>\n",
       "      <td>2.24 s</td>\n",
       "      <td>14.6 ms</td>\n",
       "      <td>1149</td>\n",
       "    </tr>\n",
       "  </tbody>\n",
       "</table>\n",
       "</div>"
      ],
      "text/plain": [
       "                      Время обучения Скорость предсказания  \\\n",
       "LightGBM                    5min 45s                115 ms   \n",
       "LinearRegression              4.05 s               2.88 ms   \n",
       "RandomForestRegressor       2min 27s                1.06 s   \n",
       "DecisionTreeRegressor         2.24 s               14.6 ms   \n",
       "\n",
       "                       Качество предсказания RMSE  \n",
       "LightGBM                                      894  \n",
       "LinearRegression                             1300  \n",
       "RandomForestRegressor                         920  \n",
       "DecisionTreeRegressor                        1149  "
      ]
     },
     "execution_count": 41,
     "metadata": {},
     "output_type": "execute_result"
    }
   ],
   "source": [
    "#Выведем значения в виде датафрейма\n",
    "pd.DataFrame(data=data, index=models, columns=['Время обучения', 'Скорость предсказания', 'Качество предсказания RMSE'])"
   ]
  },
  {
   "cell_type": "markdown",
   "metadata": {},
   "source": [
    "### Вывод"
   ]
  },
  {
   "cell_type": "markdown",
   "metadata": {},
   "source": [
    "Таким образом, мы видим, что самой лучшей по качеству предсказания оказалась модель LightGBM, самой худшей - модель LinearRegression. При этом, по времени обучения LightGBM является самой долгой, а самой быстрой - модель DecisionTreeRegressor."
   ]
  },
  {
   "cell_type": "markdown",
   "metadata": {},
   "source": [
    "## Общий вывод"
   ]
  },
  {
   "cell_type": "markdown",
   "metadata": {},
   "source": [
    "Были взяты и обучены модели LightGBM, LinearRegression, RandomForestRegressor, DecisionTreeRegressor, данные приведены в порядок. \n",
    "\n",
    "Несмотря на то, что модель LightGBM обладает наилучшим качеством, она дольше всего обучается. Модель LinearRegression имеет одно из самых быстрых время обучения и скорость предсказания, но качество предсказания RMSE самое низкое из всех 4. Модель RandomForestRegressor имеет чуть меньше время обучения по сравнению с моделью LightGBM, но качество предсказания RMSE чуть хуже. Модель DesicionTreeRegressor имеет низкое время обучения и скорость предсказания, но качество предсказания будет похуже, чем у модели RandomForestRegressor.\n",
    "\n",
    "**ИТОГ: Среди 4 моделей самыми лучшими является модели DecisionTreeRegressor и RandomForestRegressor:**\n",
    "- RandomForestRegressor имеет относительно долгое время обучения, при этом оно меньше, чем у LightGBM, а их качество предсказания практически совпадают;\n",
    "- DecisionTreeRegressor имеет быстрое время обучения, но его качество хуже, чем у LightGBM и RandomForestRegressor, хотя и не такое, как у LinearRegression;\n"
   ]
  }
 ],
 "metadata": {
  "ExecuteTimeLog": [
   {
    "duration": 73,
    "start_time": "2022-05-16T07:17:59.670Z"
   },
   {
    "duration": 58,
    "start_time": "2022-05-16T07:18:26.289Z"
   },
   {
    "duration": 1482,
    "start_time": "2022-05-16T07:18:43.308Z"
   },
   {
    "duration": 4,
    "start_time": "2022-05-16T07:33:08.494Z"
   },
   {
    "duration": 841,
    "start_time": "2022-05-16T07:33:08.503Z"
   },
   {
    "duration": 142,
    "start_time": "2022-05-16T07:33:09.346Z"
   },
   {
    "duration": 67,
    "start_time": "2022-05-16T07:33:09.490Z"
   },
   {
    "duration": 4,
    "start_time": "2022-05-16T07:33:09.559Z"
   },
   {
    "duration": 304,
    "start_time": "2022-05-16T07:33:09.564Z"
   },
   {
    "duration": 93,
    "start_time": "2022-05-16T07:33:09.870Z"
   },
   {
    "duration": 111,
    "start_time": "2022-05-16T07:33:09.965Z"
   },
   {
    "duration": 73,
    "start_time": "2022-05-16T07:33:10.078Z"
   },
   {
    "duration": 138,
    "start_time": "2022-05-16T07:33:10.153Z"
   },
   {
    "duration": 87,
    "start_time": "2022-05-16T07:33:10.294Z"
   },
   {
    "duration": 225,
    "start_time": "2022-05-16T07:33:10.383Z"
   },
   {
    "duration": 229,
    "start_time": "2022-05-16T07:33:10.610Z"
   },
   {
    "duration": 211,
    "start_time": "2022-05-16T07:33:10.841Z"
   },
   {
    "duration": 84,
    "start_time": "2022-05-16T07:33:11.053Z"
   },
   {
    "duration": 25,
    "start_time": "2022-05-16T07:33:11.139Z"
   },
   {
    "duration": 19,
    "start_time": "2022-05-16T07:33:11.166Z"
   },
   {
    "duration": 357,
    "start_time": "2022-05-16T07:33:11.187Z"
   },
   {
    "duration": 106,
    "start_time": "2022-05-16T07:33:11.546Z"
   },
   {
    "duration": 4,
    "start_time": "2022-05-16T07:33:11.654Z"
   },
   {
    "duration": 0,
    "start_time": "2022-05-16T07:33:11.660Z"
   },
   {
    "duration": 0,
    "start_time": "2022-05-16T07:33:11.661Z"
   },
   {
    "duration": 0,
    "start_time": "2022-05-16T07:33:11.663Z"
   },
   {
    "duration": 0,
    "start_time": "2022-05-16T07:33:11.664Z"
   },
   {
    "duration": 0,
    "start_time": "2022-05-16T07:33:11.666Z"
   },
   {
    "duration": 0,
    "start_time": "2022-05-16T07:33:11.667Z"
   },
   {
    "duration": 0,
    "start_time": "2022-05-16T07:33:11.667Z"
   },
   {
    "duration": 0,
    "start_time": "2022-05-16T07:33:11.668Z"
   },
   {
    "duration": 0,
    "start_time": "2022-05-16T07:33:11.669Z"
   },
   {
    "duration": 0,
    "start_time": "2022-05-16T07:33:11.670Z"
   },
   {
    "duration": 0,
    "start_time": "2022-05-16T07:33:11.671Z"
   },
   {
    "duration": 0,
    "start_time": "2022-05-16T07:33:11.672Z"
   },
   {
    "duration": 0,
    "start_time": "2022-05-16T07:33:11.673Z"
   },
   {
    "duration": 5737,
    "start_time": "2022-05-16T07:33:35.472Z"
   },
   {
    "duration": 4,
    "start_time": "2022-05-16T07:33:46.780Z"
   },
   {
    "duration": 419,
    "start_time": "2022-05-16T07:37:31.296Z"
   },
   {
    "duration": 6,
    "start_time": "2022-05-16T07:37:33.567Z"
   },
   {
    "duration": 214,
    "start_time": "2022-05-16T07:37:34.405Z"
   },
   {
    "duration": 7,
    "start_time": "2022-05-16T07:37:35.163Z"
   },
   {
    "duration": 4,
    "start_time": "2022-05-16T07:37:36.893Z"
   },
   {
    "duration": 286040,
    "start_time": "2022-05-16T07:37:37.362Z"
   },
   {
    "duration": 2497,
    "start_time": "2022-05-16T07:42:23.404Z"
   },
   {
    "duration": 5,
    "start_time": "2022-05-16T07:42:25.903Z"
   },
   {
    "duration": 848,
    "start_time": "2022-05-16T07:42:25.910Z"
   },
   {
    "duration": 10,
    "start_time": "2022-05-16T07:42:26.760Z"
   },
   {
    "duration": 4,
    "start_time": "2022-05-16T07:42:26.772Z"
   },
   {
    "duration": 65,
    "start_time": "2022-05-16T07:55:52.246Z"
   },
   {
    "duration": 1342,
    "start_time": "2022-05-16T12:33:15.356Z"
   },
   {
    "duration": 770,
    "start_time": "2022-05-16T12:33:16.700Z"
   },
   {
    "duration": 137,
    "start_time": "2022-05-16T12:33:17.471Z"
   },
   {
    "duration": 51,
    "start_time": "2022-05-16T12:33:17.610Z"
   },
   {
    "duration": 4,
    "start_time": "2022-05-16T12:33:17.663Z"
   },
   {
    "duration": 280,
    "start_time": "2022-05-16T12:33:17.669Z"
   },
   {
    "duration": 86,
    "start_time": "2022-05-16T12:33:17.951Z"
   },
   {
    "duration": 100,
    "start_time": "2022-05-16T12:33:18.038Z"
   },
   {
    "duration": 55,
    "start_time": "2022-05-16T12:33:18.139Z"
   },
   {
    "duration": 127,
    "start_time": "2022-05-16T12:33:18.207Z"
   },
   {
    "duration": 79,
    "start_time": "2022-05-16T12:33:18.336Z"
   },
   {
    "duration": 196,
    "start_time": "2022-05-16T12:33:18.416Z"
   },
   {
    "duration": 319,
    "start_time": "2022-05-16T12:33:18.614Z"
   },
   {
    "duration": 395,
    "start_time": "2022-05-16T12:33:18.936Z"
   },
   {
    "duration": 178,
    "start_time": "2022-05-16T12:33:19.332Z"
   },
   {
    "duration": 1197,
    "start_time": "2022-05-16T12:33:19.512Z"
   },
   {
    "duration": 281,
    "start_time": "2022-05-16T12:33:20.710Z"
   },
   {
    "duration": 268,
    "start_time": "2022-05-16T12:33:20.993Z"
   },
   {
    "duration": 1288,
    "start_time": "2022-05-16T12:33:21.263Z"
   },
   {
    "duration": 6,
    "start_time": "2022-05-16T12:33:22.552Z"
   },
   {
    "duration": 21,
    "start_time": "2022-05-16T12:33:22.560Z"
   },
   {
    "duration": 29,
    "start_time": "2022-05-16T12:33:22.583Z"
   },
   {
    "duration": 37,
    "start_time": "2022-05-16T12:33:22.614Z"
   },
   {
    "duration": 13,
    "start_time": "2022-05-16T12:33:22.653Z"
   },
   {
    "duration": 39,
    "start_time": "2022-05-16T12:33:22.668Z"
   },
   {
    "duration": 169,
    "start_time": "2022-05-16T12:33:22.709Z"
   },
   {
    "duration": 42,
    "start_time": "2022-05-16T12:33:22.880Z"
   },
   {
    "duration": 168689,
    "start_time": "2022-05-16T12:33:22.924Z"
   },
   {
    "duration": 198,
    "start_time": "2022-05-16T12:36:11.615Z"
   },
   {
    "duration": 3,
    "start_time": "2022-05-16T12:36:11.815Z"
   },
   {
    "duration": 4108,
    "start_time": "2022-05-16T12:36:11.819Z"
   },
   {
    "duration": 84,
    "start_time": "2022-05-16T12:36:15.929Z"
   },
   {
    "duration": 92,
    "start_time": "2022-05-16T12:36:16.016Z"
   },
   {
    "duration": 137114,
    "start_time": "2022-05-16T12:36:16.110Z"
   },
   {
    "duration": 1009,
    "start_time": "2022-05-16T12:38:33.225Z"
   },
   {
    "duration": 4,
    "start_time": "2022-05-16T12:38:34.235Z"
   },
   {
    "duration": 2078,
    "start_time": "2022-05-16T12:38:34.241Z"
   },
   {
    "duration": 16,
    "start_time": "2022-05-16T12:38:36.320Z"
   },
   {
    "duration": 4,
    "start_time": "2022-05-16T12:38:36.338Z"
   },
   {
    "duration": 5,
    "start_time": "2022-05-16T12:38:36.344Z"
   },
   {
    "duration": 8,
    "start_time": "2022-05-16T12:38:36.352Z"
   }
  ],
  "kernelspec": {
   "display_name": "Python 3 (ipykernel)",
   "language": "python",
   "name": "python3"
  },
  "language_info": {
   "codemirror_mode": {
    "name": "ipython",
    "version": 3
   },
   "file_extension": ".py",
   "mimetype": "text/x-python",
   "name": "python",
   "nbconvert_exporter": "python",
   "pygments_lexer": "ipython3",
   "version": "3.9.12"
  },
  "toc": {
   "base_numbering": 1,
   "nav_menu": {},
   "number_sections": true,
   "sideBar": true,
   "skip_h1_title": true,
   "title_cell": "Table of Contents",
   "title_sidebar": "Contents",
   "toc_cell": false,
   "toc_position": {},
   "toc_section_display": true,
   "toc_window_display": true
  }
 },
 "nbformat": 4,
 "nbformat_minor": 2
}
