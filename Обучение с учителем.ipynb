{
 "cells": [
  {
   "cell_type": "markdown",
   "metadata": {},
   "source": [
    "# Отток клиентов"
   ]
  },
  {
   "cell_type": "markdown",
   "metadata": {},
   "source": [
    "Из «Бета-Банка» стали уходить клиенты. Каждый месяц. Немного, но заметно. Банковские маркетологи посчитали: сохранять текущих клиентов дешевле, чем привлекать новых.\n",
    "\n",
    "Нужно спрогнозировать, уйдёт клиент из банка в ближайшее время или нет. Нам предоставлены исторические данные о поведении клиентов и расторжении договоров с банком. \n",
    "\n",
    "Построим модель с предельно большим значением *F1*-меры. Чтобы сдать проект успешно, нужно довести метрику до 0.59. Проверим *F1*-меру на тестовой выборке самостоятельно.\n",
    "\n",
    "Дополнительно измерим *AUC-ROC*, сравнивая её значение с *F1*-мерой.\n",
    "\n",
    "Источник данных: [https://www.kaggle.com/barelydedicated/bank-customer-churn-modeling](https://www.kaggle.com/barelydedicated/bank-customer-churn-modeling)"
   ]
  },
  {
   "cell_type": "markdown",
   "metadata": {},
   "source": [
    "# Описание данных"
   ]
  },
  {
   "cell_type": "markdown",
   "metadata": {},
   "source": [
    "Признаки\n",
    "\n",
    "- RowNumber — индекс строки в данных\n",
    "- CustomerId — уникальный идентификатор клиента\n",
    "- Surname — фамилия\n",
    "- CreditScore — кредитный рейтинг\n",
    "- Geography — страна проживания\n",
    "- Gender — пол\n",
    "- Age — возраст\n",
    "- Tenure — сколько лет человек является клиентом банка\n",
    "- Balance — баланс на счёте\n",
    "- NumOfProducts — количество продуктов банка, используемых клиентом\n",
    "- HasCrCard — наличие кредитной карты\n",
    "- IsActiveMember — активность клиента\n",
    "- EstimatedSalary — предполагаемая зарплата\n",
    "\n",
    "Целевой признак\n",
    "\n",
    "- Exited — факт ухода клиента"
   ]
  },
  {
   "cell_type": "markdown",
   "metadata": {},
   "source": [
    "## Подготовка данных"
   ]
  },
  {
   "cell_type": "code",
   "execution_count": 1,
   "metadata": {},
   "outputs": [],
   "source": [
    "#Импортируем необходимые библиотеки\n",
    "import pandas as pd\n",
    "from sklearn.utils import shuffle\n",
    "from sklearn.model_selection import train_test_split\n",
    "from sklearn.metrics import accuracy_score, f1_score, precision_score, recall_score\n",
    "from sklearn.tree import DecisionTreeClassifier \n",
    "from sklearn.ensemble import RandomForestClassifier\n",
    "from sklearn.linear_model import LogisticRegression\n",
    "from sklearn.preprocessing import StandardScaler\n",
    "from sklearn.metrics import roc_auc_score\n",
    "from sklearn.metrics import roc_curve\n",
    "import warnings\n",
    "warnings.filterwarnings(\"ignore\")\n",
    "pd.options.mode.chained_assignment = None"
   ]
  },
  {
   "cell_type": "code",
   "execution_count": 2,
   "metadata": {},
   "outputs": [],
   "source": [
    "#Откроем файл с данными\n",
    "df = pd.read_csv('/datasets/Churn.csv')"
   ]
  },
  {
   "cell_type": "code",
   "execution_count": 3,
   "metadata": {},
   "outputs": [
    {
     "data": {
      "text/html": [
       "<div>\n",
       "<style scoped>\n",
       "    .dataframe tbody tr th:only-of-type {\n",
       "        vertical-align: middle;\n",
       "    }\n",
       "\n",
       "    .dataframe tbody tr th {\n",
       "        vertical-align: top;\n",
       "    }\n",
       "\n",
       "    .dataframe thead th {\n",
       "        text-align: right;\n",
       "    }\n",
       "</style>\n",
       "<table border=\"1\" class=\"dataframe\">\n",
       "  <thead>\n",
       "    <tr style=\"text-align: right;\">\n",
       "      <th></th>\n",
       "      <th>RowNumber</th>\n",
       "      <th>CustomerId</th>\n",
       "      <th>Surname</th>\n",
       "      <th>CreditScore</th>\n",
       "      <th>Geography</th>\n",
       "      <th>Gender</th>\n",
       "      <th>Age</th>\n",
       "      <th>Tenure</th>\n",
       "      <th>Balance</th>\n",
       "      <th>NumOfProducts</th>\n",
       "      <th>HasCrCard</th>\n",
       "      <th>IsActiveMember</th>\n",
       "      <th>EstimatedSalary</th>\n",
       "      <th>Exited</th>\n",
       "    </tr>\n",
       "  </thead>\n",
       "  <tbody>\n",
       "    <tr>\n",
       "      <th>0</th>\n",
       "      <td>1</td>\n",
       "      <td>15634602</td>\n",
       "      <td>Hargrave</td>\n",
       "      <td>619</td>\n",
       "      <td>France</td>\n",
       "      <td>Female</td>\n",
       "      <td>42</td>\n",
       "      <td>2.0</td>\n",
       "      <td>0.00</td>\n",
       "      <td>1</td>\n",
       "      <td>1</td>\n",
       "      <td>1</td>\n",
       "      <td>101348.88</td>\n",
       "      <td>1</td>\n",
       "    </tr>\n",
       "    <tr>\n",
       "      <th>1</th>\n",
       "      <td>2</td>\n",
       "      <td>15647311</td>\n",
       "      <td>Hill</td>\n",
       "      <td>608</td>\n",
       "      <td>Spain</td>\n",
       "      <td>Female</td>\n",
       "      <td>41</td>\n",
       "      <td>1.0</td>\n",
       "      <td>83807.86</td>\n",
       "      <td>1</td>\n",
       "      <td>0</td>\n",
       "      <td>1</td>\n",
       "      <td>112542.58</td>\n",
       "      <td>0</td>\n",
       "    </tr>\n",
       "    <tr>\n",
       "      <th>2</th>\n",
       "      <td>3</td>\n",
       "      <td>15619304</td>\n",
       "      <td>Onio</td>\n",
       "      <td>502</td>\n",
       "      <td>France</td>\n",
       "      <td>Female</td>\n",
       "      <td>42</td>\n",
       "      <td>8.0</td>\n",
       "      <td>159660.80</td>\n",
       "      <td>3</td>\n",
       "      <td>1</td>\n",
       "      <td>0</td>\n",
       "      <td>113931.57</td>\n",
       "      <td>1</td>\n",
       "    </tr>\n",
       "    <tr>\n",
       "      <th>3</th>\n",
       "      <td>4</td>\n",
       "      <td>15701354</td>\n",
       "      <td>Boni</td>\n",
       "      <td>699</td>\n",
       "      <td>France</td>\n",
       "      <td>Female</td>\n",
       "      <td>39</td>\n",
       "      <td>1.0</td>\n",
       "      <td>0.00</td>\n",
       "      <td>2</td>\n",
       "      <td>0</td>\n",
       "      <td>0</td>\n",
       "      <td>93826.63</td>\n",
       "      <td>0</td>\n",
       "    </tr>\n",
       "    <tr>\n",
       "      <th>4</th>\n",
       "      <td>5</td>\n",
       "      <td>15737888</td>\n",
       "      <td>Mitchell</td>\n",
       "      <td>850</td>\n",
       "      <td>Spain</td>\n",
       "      <td>Female</td>\n",
       "      <td>43</td>\n",
       "      <td>2.0</td>\n",
       "      <td>125510.82</td>\n",
       "      <td>1</td>\n",
       "      <td>1</td>\n",
       "      <td>1</td>\n",
       "      <td>79084.10</td>\n",
       "      <td>0</td>\n",
       "    </tr>\n",
       "    <tr>\n",
       "      <th>5</th>\n",
       "      <td>6</td>\n",
       "      <td>15574012</td>\n",
       "      <td>Chu</td>\n",
       "      <td>645</td>\n",
       "      <td>Spain</td>\n",
       "      <td>Male</td>\n",
       "      <td>44</td>\n",
       "      <td>8.0</td>\n",
       "      <td>113755.78</td>\n",
       "      <td>2</td>\n",
       "      <td>1</td>\n",
       "      <td>0</td>\n",
       "      <td>149756.71</td>\n",
       "      <td>1</td>\n",
       "    </tr>\n",
       "    <tr>\n",
       "      <th>6</th>\n",
       "      <td>7</td>\n",
       "      <td>15592531</td>\n",
       "      <td>Bartlett</td>\n",
       "      <td>822</td>\n",
       "      <td>France</td>\n",
       "      <td>Male</td>\n",
       "      <td>50</td>\n",
       "      <td>7.0</td>\n",
       "      <td>0.00</td>\n",
       "      <td>2</td>\n",
       "      <td>1</td>\n",
       "      <td>1</td>\n",
       "      <td>10062.80</td>\n",
       "      <td>0</td>\n",
       "    </tr>\n",
       "    <tr>\n",
       "      <th>7</th>\n",
       "      <td>8</td>\n",
       "      <td>15656148</td>\n",
       "      <td>Obinna</td>\n",
       "      <td>376</td>\n",
       "      <td>Germany</td>\n",
       "      <td>Female</td>\n",
       "      <td>29</td>\n",
       "      <td>4.0</td>\n",
       "      <td>115046.74</td>\n",
       "      <td>4</td>\n",
       "      <td>1</td>\n",
       "      <td>0</td>\n",
       "      <td>119346.88</td>\n",
       "      <td>1</td>\n",
       "    </tr>\n",
       "    <tr>\n",
       "      <th>8</th>\n",
       "      <td>9</td>\n",
       "      <td>15792365</td>\n",
       "      <td>He</td>\n",
       "      <td>501</td>\n",
       "      <td>France</td>\n",
       "      <td>Male</td>\n",
       "      <td>44</td>\n",
       "      <td>4.0</td>\n",
       "      <td>142051.07</td>\n",
       "      <td>2</td>\n",
       "      <td>0</td>\n",
       "      <td>1</td>\n",
       "      <td>74940.50</td>\n",
       "      <td>0</td>\n",
       "    </tr>\n",
       "    <tr>\n",
       "      <th>9</th>\n",
       "      <td>10</td>\n",
       "      <td>15592389</td>\n",
       "      <td>H?</td>\n",
       "      <td>684</td>\n",
       "      <td>France</td>\n",
       "      <td>Male</td>\n",
       "      <td>27</td>\n",
       "      <td>2.0</td>\n",
       "      <td>134603.88</td>\n",
       "      <td>1</td>\n",
       "      <td>1</td>\n",
       "      <td>1</td>\n",
       "      <td>71725.73</td>\n",
       "      <td>0</td>\n",
       "    </tr>\n",
       "  </tbody>\n",
       "</table>\n",
       "</div>"
      ],
      "text/plain": [
       "   RowNumber  CustomerId   Surname  CreditScore Geography  Gender  Age  \\\n",
       "0          1    15634602  Hargrave          619    France  Female   42   \n",
       "1          2    15647311      Hill          608     Spain  Female   41   \n",
       "2          3    15619304      Onio          502    France  Female   42   \n",
       "3          4    15701354      Boni          699    France  Female   39   \n",
       "4          5    15737888  Mitchell          850     Spain  Female   43   \n",
       "5          6    15574012       Chu          645     Spain    Male   44   \n",
       "6          7    15592531  Bartlett          822    France    Male   50   \n",
       "7          8    15656148    Obinna          376   Germany  Female   29   \n",
       "8          9    15792365        He          501    France    Male   44   \n",
       "9         10    15592389        H?          684    France    Male   27   \n",
       "\n",
       "   Tenure    Balance  NumOfProducts  HasCrCard  IsActiveMember  \\\n",
       "0     2.0       0.00              1          1               1   \n",
       "1     1.0   83807.86              1          0               1   \n",
       "2     8.0  159660.80              3          1               0   \n",
       "3     1.0       0.00              2          0               0   \n",
       "4     2.0  125510.82              1          1               1   \n",
       "5     8.0  113755.78              2          1               0   \n",
       "6     7.0       0.00              2          1               1   \n",
       "7     4.0  115046.74              4          1               0   \n",
       "8     4.0  142051.07              2          0               1   \n",
       "9     2.0  134603.88              1          1               1   \n",
       "\n",
       "   EstimatedSalary  Exited  \n",
       "0        101348.88       1  \n",
       "1        112542.58       0  \n",
       "2        113931.57       1  \n",
       "3         93826.63       0  \n",
       "4         79084.10       0  \n",
       "5        149756.71       1  \n",
       "6         10062.80       0  \n",
       "7        119346.88       1  \n",
       "8         74940.50       0  \n",
       "9         71725.73       0  "
      ]
     },
     "execution_count": 3,
     "metadata": {},
     "output_type": "execute_result"
    }
   ],
   "source": [
    "#Посмотрим первые 10 строк\n",
    "df.head(10)"
   ]
  },
  {
   "cell_type": "code",
   "execution_count": 4,
   "metadata": {},
   "outputs": [
    {
     "name": "stdout",
     "output_type": "stream",
     "text": [
      "<class 'pandas.core.frame.DataFrame'>\n",
      "RangeIndex: 10000 entries, 0 to 9999\n",
      "Data columns (total 14 columns):\n",
      " #   Column           Non-Null Count  Dtype  \n",
      "---  ------           --------------  -----  \n",
      " 0   RowNumber        10000 non-null  int64  \n",
      " 1   CustomerId       10000 non-null  int64  \n",
      " 2   Surname          10000 non-null  object \n",
      " 3   CreditScore      10000 non-null  int64  \n",
      " 4   Geography        10000 non-null  object \n",
      " 5   Gender           10000 non-null  object \n",
      " 6   Age              10000 non-null  int64  \n",
      " 7   Tenure           9091 non-null   float64\n",
      " 8   Balance          10000 non-null  float64\n",
      " 9   NumOfProducts    10000 non-null  int64  \n",
      " 10  HasCrCard        10000 non-null  int64  \n",
      " 11  IsActiveMember   10000 non-null  int64  \n",
      " 12  EstimatedSalary  10000 non-null  float64\n",
      " 13  Exited           10000 non-null  int64  \n",
      "dtypes: float64(3), int64(8), object(3)\n",
      "memory usage: 1.1+ MB\n"
     ]
    }
   ],
   "source": [
    "#Изучим общую информацию\n",
    "df.info()"
   ]
  },
  {
   "cell_type": "code",
   "execution_count": 5,
   "metadata": {},
   "outputs": [],
   "source": [
    "#Приведём заголовки к нижнему регистру и слегка переименуем их\n",
    "df = df.rename(columns = {'RowNumber': 'row_number', 'CustomerId': 'customer_id', 'Surname': 'surname', \n",
    "                          'CreditScore': 'credit_score', 'Geography': 'geography', 'Gender': 'gender', 'Age' : 'age', \n",
    "                          'Tenure' : 'tenure', 'Balance': 'balance', 'NumOfProducts': 'num_of_products', \n",
    "                          'HasCrCard': 'has_cr_card', 'IsActiveMember': 'is_active_member', \n",
    "                          'EstimatedSalary': 'estimated_salary', 'Exited': 'exited'})"
   ]
  },
  {
   "cell_type": "code",
   "execution_count": 6,
   "metadata": {},
   "outputs": [
    {
     "data": {
      "text/plain": [
       "Index(['row_number', 'customer_id', 'surname', 'credit_score', 'geography',\n",
       "       'gender', 'age', 'tenure', 'balance', 'num_of_products', 'has_cr_card',\n",
       "       'is_active_member', 'estimated_salary', 'exited'],\n",
       "      dtype='object')"
      ]
     },
     "execution_count": 6,
     "metadata": {},
     "output_type": "execute_result"
    }
   ],
   "source": [
    "#Проверим изменения\n",
    "df.columns"
   ]
  },
  {
   "cell_type": "code",
   "execution_count": 7,
   "metadata": {},
   "outputs": [
    {
     "data": {
      "text/plain": [
       "909"
      ]
     },
     "execution_count": 7,
     "metadata": {},
     "output_type": "execute_result"
    }
   ],
   "source": [
    "#Посмотрим, сколько пропусков имеет столбец 'tenure'\n",
    "df['tenure'].isna().sum()"
   ]
  },
  {
   "cell_type": "code",
   "execution_count": 8,
   "metadata": {},
   "outputs": [
    {
     "data": {
      "text/plain": [
       "1.0     952\n",
       "2.0     950\n",
       "8.0     933\n",
       "3.0     928\n",
       "5.0     927\n",
       "7.0     925\n",
       "4.0     885\n",
       "9.0     882\n",
       "6.0     881\n",
       "10.0    446\n",
       "0.0     382\n",
       "Name: tenure, dtype: int64"
      ]
     },
     "execution_count": 8,
     "metadata": {},
     "output_type": "execute_result"
    }
   ],
   "source": [
    "#Посмотрим, какие значения в столбце 'tenure'\n",
    "df['tenure'].value_counts()"
   ]
  },
  {
   "cell_type": "code",
   "execution_count": 9,
   "metadata": {},
   "outputs": [],
   "source": [
    "#Заменим тип данных столбца 'tenure' на 'Int64'\n",
    "df['tenure'] = df['tenure'].astype('Int64')"
   ]
  },
  {
   "cell_type": "code",
   "execution_count": 10,
   "metadata": {},
   "outputs": [],
   "source": [
    "#Удалим данные с пропуском\n",
    "df = df.dropna(subset = ['tenure'], axis=0)"
   ]
  },
  {
   "cell_type": "code",
   "execution_count": 11,
   "metadata": {},
   "outputs": [
    {
     "data": {
      "text/plain": [
       "0"
      ]
     },
     "execution_count": 11,
     "metadata": {},
     "output_type": "execute_result"
    }
   ],
   "source": [
    "#Посмотрим количество дубликатов\n",
    "df.duplicated().sum()"
   ]
  },
  {
   "cell_type": "code",
   "execution_count": 12,
   "metadata": {},
   "outputs": [
    {
     "data": {
      "text/html": [
       "<div>\n",
       "<style scoped>\n",
       "    .dataframe tbody tr th:only-of-type {\n",
       "        vertical-align: middle;\n",
       "    }\n",
       "\n",
       "    .dataframe tbody tr th {\n",
       "        vertical-align: top;\n",
       "    }\n",
       "\n",
       "    .dataframe thead th {\n",
       "        text-align: right;\n",
       "    }\n",
       "</style>\n",
       "<table border=\"1\" class=\"dataframe\">\n",
       "  <thead>\n",
       "    <tr style=\"text-align: right;\">\n",
       "      <th></th>\n",
       "      <th>credit_score</th>\n",
       "      <th>geography</th>\n",
       "      <th>gender</th>\n",
       "      <th>age</th>\n",
       "      <th>tenure</th>\n",
       "      <th>balance</th>\n",
       "      <th>num_of_products</th>\n",
       "      <th>has_cr_card</th>\n",
       "      <th>is_active_member</th>\n",
       "      <th>estimated_salary</th>\n",
       "      <th>exited</th>\n",
       "    </tr>\n",
       "  </thead>\n",
       "  <tbody>\n",
       "    <tr>\n",
       "      <th>0</th>\n",
       "      <td>619</td>\n",
       "      <td>France</td>\n",
       "      <td>Female</td>\n",
       "      <td>42</td>\n",
       "      <td>2</td>\n",
       "      <td>0.00</td>\n",
       "      <td>1</td>\n",
       "      <td>1</td>\n",
       "      <td>1</td>\n",
       "      <td>101348.88</td>\n",
       "      <td>1</td>\n",
       "    </tr>\n",
       "    <tr>\n",
       "      <th>1</th>\n",
       "      <td>608</td>\n",
       "      <td>Spain</td>\n",
       "      <td>Female</td>\n",
       "      <td>41</td>\n",
       "      <td>1</td>\n",
       "      <td>83807.86</td>\n",
       "      <td>1</td>\n",
       "      <td>0</td>\n",
       "      <td>1</td>\n",
       "      <td>112542.58</td>\n",
       "      <td>0</td>\n",
       "    </tr>\n",
       "    <tr>\n",
       "      <th>2</th>\n",
       "      <td>502</td>\n",
       "      <td>France</td>\n",
       "      <td>Female</td>\n",
       "      <td>42</td>\n",
       "      <td>8</td>\n",
       "      <td>159660.80</td>\n",
       "      <td>3</td>\n",
       "      <td>1</td>\n",
       "      <td>0</td>\n",
       "      <td>113931.57</td>\n",
       "      <td>1</td>\n",
       "    </tr>\n",
       "    <tr>\n",
       "      <th>3</th>\n",
       "      <td>699</td>\n",
       "      <td>France</td>\n",
       "      <td>Female</td>\n",
       "      <td>39</td>\n",
       "      <td>1</td>\n",
       "      <td>0.00</td>\n",
       "      <td>2</td>\n",
       "      <td>0</td>\n",
       "      <td>0</td>\n",
       "      <td>93826.63</td>\n",
       "      <td>0</td>\n",
       "    </tr>\n",
       "    <tr>\n",
       "      <th>4</th>\n",
       "      <td>850</td>\n",
       "      <td>Spain</td>\n",
       "      <td>Female</td>\n",
       "      <td>43</td>\n",
       "      <td>2</td>\n",
       "      <td>125510.82</td>\n",
       "      <td>1</td>\n",
       "      <td>1</td>\n",
       "      <td>1</td>\n",
       "      <td>79084.10</td>\n",
       "      <td>0</td>\n",
       "    </tr>\n",
       "  </tbody>\n",
       "</table>\n",
       "</div>"
      ],
      "text/plain": [
       "   credit_score geography  gender  age  tenure    balance  num_of_products  \\\n",
       "0           619    France  Female   42       2       0.00                1   \n",
       "1           608     Spain  Female   41       1   83807.86                1   \n",
       "2           502    France  Female   42       8  159660.80                3   \n",
       "3           699    France  Female   39       1       0.00                2   \n",
       "4           850     Spain  Female   43       2  125510.82                1   \n",
       "\n",
       "   has_cr_card  is_active_member  estimated_salary  exited  \n",
       "0            1                 1         101348.88       1  \n",
       "1            0                 1         112542.58       0  \n",
       "2            1                 0         113931.57       1  \n",
       "3            0                 0          93826.63       0  \n",
       "4            1                 1          79084.10       0  "
      ]
     },
     "execution_count": 12,
     "metadata": {},
     "output_type": "execute_result"
    }
   ],
   "source": [
    "#Удалим ненужные данные для алгоритма\n",
    "for_drop = ['row_number','customer_id', 'surname']\n",
    "df_with_drop = df.drop(for_drop, axis=1)\n",
    "df_with_drop.head()"
   ]
  },
  {
   "cell_type": "code",
   "execution_count": 13,
   "metadata": {},
   "outputs": [
    {
     "data": {
      "text/plain": [
       "array(['France', 'Spain', 'Germany'], dtype=object)"
      ]
     },
     "execution_count": 13,
     "metadata": {},
     "output_type": "execute_result"
    }
   ],
   "source": [
    "#Посмотрим уникальные значения столбца 'geography'\n",
    "df['geography'].unique()"
   ]
  },
  {
   "cell_type": "code",
   "execution_count": 14,
   "metadata": {},
   "outputs": [
    {
     "data": {
      "text/plain": [
       "array(['Female', 'Male'], dtype=object)"
      ]
     },
     "execution_count": 14,
     "metadata": {},
     "output_type": "execute_result"
    }
   ],
   "source": [
    "#Посмотрим уникальные значения столбца 'gender'\n",
    "df['gender'].unique()"
   ]
  },
  {
   "cell_type": "code",
   "execution_count": 15,
   "metadata": {},
   "outputs": [
    {
     "data": {
      "text/html": [
       "<div>\n",
       "<style scoped>\n",
       "    .dataframe tbody tr th:only-of-type {\n",
       "        vertical-align: middle;\n",
       "    }\n",
       "\n",
       "    .dataframe tbody tr th {\n",
       "        vertical-align: top;\n",
       "    }\n",
       "\n",
       "    .dataframe thead th {\n",
       "        text-align: right;\n",
       "    }\n",
       "</style>\n",
       "<table border=\"1\" class=\"dataframe\">\n",
       "  <thead>\n",
       "    <tr style=\"text-align: right;\">\n",
       "      <th></th>\n",
       "      <th>credit_score</th>\n",
       "      <th>age</th>\n",
       "      <th>tenure</th>\n",
       "      <th>balance</th>\n",
       "      <th>num_of_products</th>\n",
       "      <th>has_cr_card</th>\n",
       "      <th>is_active_member</th>\n",
       "      <th>estimated_salary</th>\n",
       "      <th>exited</th>\n",
       "      <th>geography_Germany</th>\n",
       "      <th>geography_Spain</th>\n",
       "      <th>gender_Male</th>\n",
       "    </tr>\n",
       "  </thead>\n",
       "  <tbody>\n",
       "    <tr>\n",
       "      <th>0</th>\n",
       "      <td>619</td>\n",
       "      <td>42</td>\n",
       "      <td>2</td>\n",
       "      <td>0.00</td>\n",
       "      <td>1</td>\n",
       "      <td>1</td>\n",
       "      <td>1</td>\n",
       "      <td>101348.88</td>\n",
       "      <td>1</td>\n",
       "      <td>0</td>\n",
       "      <td>0</td>\n",
       "      <td>0</td>\n",
       "    </tr>\n",
       "    <tr>\n",
       "      <th>1</th>\n",
       "      <td>608</td>\n",
       "      <td>41</td>\n",
       "      <td>1</td>\n",
       "      <td>83807.86</td>\n",
       "      <td>1</td>\n",
       "      <td>0</td>\n",
       "      <td>1</td>\n",
       "      <td>112542.58</td>\n",
       "      <td>0</td>\n",
       "      <td>0</td>\n",
       "      <td>1</td>\n",
       "      <td>0</td>\n",
       "    </tr>\n",
       "    <tr>\n",
       "      <th>2</th>\n",
       "      <td>502</td>\n",
       "      <td>42</td>\n",
       "      <td>8</td>\n",
       "      <td>159660.80</td>\n",
       "      <td>3</td>\n",
       "      <td>1</td>\n",
       "      <td>0</td>\n",
       "      <td>113931.57</td>\n",
       "      <td>1</td>\n",
       "      <td>0</td>\n",
       "      <td>0</td>\n",
       "      <td>0</td>\n",
       "    </tr>\n",
       "    <tr>\n",
       "      <th>3</th>\n",
       "      <td>699</td>\n",
       "      <td>39</td>\n",
       "      <td>1</td>\n",
       "      <td>0.00</td>\n",
       "      <td>2</td>\n",
       "      <td>0</td>\n",
       "      <td>0</td>\n",
       "      <td>93826.63</td>\n",
       "      <td>0</td>\n",
       "      <td>0</td>\n",
       "      <td>0</td>\n",
       "      <td>0</td>\n",
       "    </tr>\n",
       "    <tr>\n",
       "      <th>4</th>\n",
       "      <td>850</td>\n",
       "      <td>43</td>\n",
       "      <td>2</td>\n",
       "      <td>125510.82</td>\n",
       "      <td>1</td>\n",
       "      <td>1</td>\n",
       "      <td>1</td>\n",
       "      <td>79084.10</td>\n",
       "      <td>0</td>\n",
       "      <td>0</td>\n",
       "      <td>1</td>\n",
       "      <td>0</td>\n",
       "    </tr>\n",
       "    <tr>\n",
       "      <th>5</th>\n",
       "      <td>645</td>\n",
       "      <td>44</td>\n",
       "      <td>8</td>\n",
       "      <td>113755.78</td>\n",
       "      <td>2</td>\n",
       "      <td>1</td>\n",
       "      <td>0</td>\n",
       "      <td>149756.71</td>\n",
       "      <td>1</td>\n",
       "      <td>0</td>\n",
       "      <td>1</td>\n",
       "      <td>1</td>\n",
       "    </tr>\n",
       "    <tr>\n",
       "      <th>6</th>\n",
       "      <td>822</td>\n",
       "      <td>50</td>\n",
       "      <td>7</td>\n",
       "      <td>0.00</td>\n",
       "      <td>2</td>\n",
       "      <td>1</td>\n",
       "      <td>1</td>\n",
       "      <td>10062.80</td>\n",
       "      <td>0</td>\n",
       "      <td>0</td>\n",
       "      <td>0</td>\n",
       "      <td>1</td>\n",
       "    </tr>\n",
       "    <tr>\n",
       "      <th>7</th>\n",
       "      <td>376</td>\n",
       "      <td>29</td>\n",
       "      <td>4</td>\n",
       "      <td>115046.74</td>\n",
       "      <td>4</td>\n",
       "      <td>1</td>\n",
       "      <td>0</td>\n",
       "      <td>119346.88</td>\n",
       "      <td>1</td>\n",
       "      <td>1</td>\n",
       "      <td>0</td>\n",
       "      <td>0</td>\n",
       "    </tr>\n",
       "    <tr>\n",
       "      <th>8</th>\n",
       "      <td>501</td>\n",
       "      <td>44</td>\n",
       "      <td>4</td>\n",
       "      <td>142051.07</td>\n",
       "      <td>2</td>\n",
       "      <td>0</td>\n",
       "      <td>1</td>\n",
       "      <td>74940.50</td>\n",
       "      <td>0</td>\n",
       "      <td>0</td>\n",
       "      <td>0</td>\n",
       "      <td>1</td>\n",
       "    </tr>\n",
       "    <tr>\n",
       "      <th>9</th>\n",
       "      <td>684</td>\n",
       "      <td>27</td>\n",
       "      <td>2</td>\n",
       "      <td>134603.88</td>\n",
       "      <td>1</td>\n",
       "      <td>1</td>\n",
       "      <td>1</td>\n",
       "      <td>71725.73</td>\n",
       "      <td>0</td>\n",
       "      <td>0</td>\n",
       "      <td>0</td>\n",
       "      <td>1</td>\n",
       "    </tr>\n",
       "  </tbody>\n",
       "</table>\n",
       "</div>"
      ],
      "text/plain": [
       "   credit_score  age  tenure    balance  num_of_products  has_cr_card  \\\n",
       "0           619   42       2       0.00                1            1   \n",
       "1           608   41       1   83807.86                1            0   \n",
       "2           502   42       8  159660.80                3            1   \n",
       "3           699   39       1       0.00                2            0   \n",
       "4           850   43       2  125510.82                1            1   \n",
       "5           645   44       8  113755.78                2            1   \n",
       "6           822   50       7       0.00                2            1   \n",
       "7           376   29       4  115046.74                4            1   \n",
       "8           501   44       4  142051.07                2            0   \n",
       "9           684   27       2  134603.88                1            1   \n",
       "\n",
       "   is_active_member  estimated_salary  exited  geography_Germany  \\\n",
       "0                 1         101348.88       1                  0   \n",
       "1                 1         112542.58       0                  0   \n",
       "2                 0         113931.57       1                  0   \n",
       "3                 0          93826.63       0                  0   \n",
       "4                 1          79084.10       0                  0   \n",
       "5                 0         149756.71       1                  0   \n",
       "6                 1          10062.80       0                  0   \n",
       "7                 0         119346.88       1                  1   \n",
       "8                 1          74940.50       0                  0   \n",
       "9                 1          71725.73       0                  0   \n",
       "\n",
       "   geography_Spain  gender_Male  \n",
       "0                0            0  \n",
       "1                1            0  \n",
       "2                0            0  \n",
       "3                0            0  \n",
       "4                1            0  \n",
       "5                1            1  \n",
       "6                0            1  \n",
       "7                0            0  \n",
       "8                0            1  \n",
       "9                0            1  "
      ]
     },
     "execution_count": 15,
     "metadata": {},
     "output_type": "execute_result"
    }
   ],
   "source": [
    "#Применим метод прямого кодирования и избежим дамми-ловушек\n",
    "df_with_drop = pd.get_dummies(df_with_drop, drop_first=True)\n",
    "df_with_drop.head(10)"
   ]
  },
  {
   "cell_type": "markdown",
   "metadata": {},
   "source": [
    "### Вывод"
   ]
  },
  {
   "cell_type": "markdown",
   "metadata": {},
   "source": [
    "Были исправление заголовки столбцов, изменён тип данных для столбца 'tenure', удалены пропуски, дубликаты отсутствуют. \n",
    "\n",
    "Также был применён метод прямого кодирования с избеганием дамми-ловушек, удалены ненужные столбцы."
   ]
  },
  {
   "cell_type": "markdown",
   "metadata": {},
   "source": [
    "## Исследование задачи"
   ]
  },
  {
   "cell_type": "code",
   "execution_count": 16,
   "metadata": {},
   "outputs": [],
   "source": [
    "#Разделим наши признаки и выделим целевой\n",
    "features = df_with_drop.drop('exited', axis=1)\n",
    "target = df_with_drop['exited']"
   ]
  },
  {
   "cell_type": "code",
   "execution_count": 17,
   "metadata": {},
   "outputs": [],
   "source": [
    "#Разобьём наши данные на тренировочную, валидационную и тестовую выборки\n",
    "features_train, features_val, target_train, target_val = train_test_split(features, target, test_size=0.40, random_state=12345)\n",
    "features_valid, features_test, target_valid, target_test = train_test_split(features_val, target_val, \n",
    "                                                                            test_size=0.50, random_state=12345) "
   ]
  },
  {
   "cell_type": "code",
   "execution_count": 18,
   "metadata": {},
   "outputs": [
    {
     "name": "stdout",
     "output_type": "stream",
     "text": [
      "Размер тренировочной выборки: (5454, 11) (5454,)\n",
      "Размер валидационной выборки: (1818, 11) (1818,)\n",
      "Размер тестовой выборки: (1819, 11) (1819,)\n"
     ]
    }
   ],
   "source": [
    "#Посмотрим размер каждой выборки\n",
    "print('Размер тренировочной выборки:', features_train.shape, target_train.shape)\n",
    "print('Размер валидационной выборки:', features_valid.shape, target_valid.shape)\n",
    "print('Размер тестовой выборки:', features_test.shape, target_test.shape)"
   ]
  },
  {
   "cell_type": "code",
   "execution_count": 19,
   "metadata": {},
   "outputs": [],
   "source": [
    "#Масштамбируем признаки для каждой выборки, выделим необходимые столбцы\n",
    "numeric = ['credit_score', 'age', 'tenure', 'balance', 'num_of_products', 'estimated_salary']"
   ]
  },
  {
   "cell_type": "code",
   "execution_count": 20,
   "metadata": {},
   "outputs": [
    {
     "data": {
      "text/html": [
       "<div>\n",
       "<style scoped>\n",
       "    .dataframe tbody tr th:only-of-type {\n",
       "        vertical-align: middle;\n",
       "    }\n",
       "\n",
       "    .dataframe tbody tr th {\n",
       "        vertical-align: top;\n",
       "    }\n",
       "\n",
       "    .dataframe thead th {\n",
       "        text-align: right;\n",
       "    }\n",
       "</style>\n",
       "<table border=\"1\" class=\"dataframe\">\n",
       "  <thead>\n",
       "    <tr style=\"text-align: right;\">\n",
       "      <th></th>\n",
       "      <th>credit_score</th>\n",
       "      <th>age</th>\n",
       "      <th>tenure</th>\n",
       "      <th>balance</th>\n",
       "      <th>num_of_products</th>\n",
       "      <th>has_cr_card</th>\n",
       "      <th>is_active_member</th>\n",
       "      <th>estimated_salary</th>\n",
       "      <th>geography_Germany</th>\n",
       "      <th>geography_Spain</th>\n",
       "      <th>gender_Male</th>\n",
       "    </tr>\n",
       "  </thead>\n",
       "  <tbody>\n",
       "    <tr>\n",
       "      <th>9344</th>\n",
       "      <td>0.809075</td>\n",
       "      <td>-1.039327</td>\n",
       "      <td>-1.025995</td>\n",
       "      <td>0.554904</td>\n",
       "      <td>-0.908179</td>\n",
       "      <td>1</td>\n",
       "      <td>0</td>\n",
       "      <td>0.019508</td>\n",
       "      <td>0</td>\n",
       "      <td>0</td>\n",
       "      <td>0</td>\n",
       "    </tr>\n",
       "    <tr>\n",
       "      <th>3796</th>\n",
       "      <td>-1.152518</td>\n",
       "      <td>-1.227561</td>\n",
       "      <td>0.696524</td>\n",
       "      <td>0.480609</td>\n",
       "      <td>-0.908179</td>\n",
       "      <td>0</td>\n",
       "      <td>0</td>\n",
       "      <td>0.056167</td>\n",
       "      <td>0</td>\n",
       "      <td>0</td>\n",
       "      <td>1</td>\n",
       "    </tr>\n",
       "    <tr>\n",
       "      <th>7462</th>\n",
       "      <td>-0.398853</td>\n",
       "      <td>0.090079</td>\n",
       "      <td>1.385532</td>\n",
       "      <td>-1.237830</td>\n",
       "      <td>-0.908179</td>\n",
       "      <td>1</td>\n",
       "      <td>1</td>\n",
       "      <td>0.848738</td>\n",
       "      <td>0</td>\n",
       "      <td>0</td>\n",
       "      <td>1</td>\n",
       "    </tr>\n",
       "    <tr>\n",
       "      <th>1508</th>\n",
       "      <td>-0.749875</td>\n",
       "      <td>-0.286389</td>\n",
       "      <td>0.352020</td>\n",
       "      <td>-1.237830</td>\n",
       "      <td>0.809300</td>\n",
       "      <td>1</td>\n",
       "      <td>1</td>\n",
       "      <td>-0.894953</td>\n",
       "      <td>0</td>\n",
       "      <td>0</td>\n",
       "      <td>1</td>\n",
       "    </tr>\n",
       "    <tr>\n",
       "      <th>4478</th>\n",
       "      <td>-1.028628</td>\n",
       "      <td>-0.756975</td>\n",
       "      <td>-0.336987</td>\n",
       "      <td>-1.237830</td>\n",
       "      <td>0.809300</td>\n",
       "      <td>0</td>\n",
       "      <td>1</td>\n",
       "      <td>-1.284516</td>\n",
       "      <td>0</td>\n",
       "      <td>0</td>\n",
       "      <td>1</td>\n",
       "    </tr>\n",
       "  </tbody>\n",
       "</table>\n",
       "</div>"
      ],
      "text/plain": [
       "      credit_score       age    tenure   balance  num_of_products  \\\n",
       "9344      0.809075 -1.039327 -1.025995  0.554904        -0.908179   \n",
       "3796     -1.152518 -1.227561  0.696524  0.480609        -0.908179   \n",
       "7462     -0.398853  0.090079  1.385532 -1.237830        -0.908179   \n",
       "1508     -0.749875 -0.286389  0.352020 -1.237830         0.809300   \n",
       "4478     -1.028628 -0.756975 -0.336987 -1.237830         0.809300   \n",
       "\n",
       "      has_cr_card  is_active_member  estimated_salary  geography_Germany  \\\n",
       "9344            1                 0          0.019508                  0   \n",
       "3796            0                 0          0.056167                  0   \n",
       "7462            1                 1          0.848738                  0   \n",
       "1508            1                 1         -0.894953                  0   \n",
       "4478            0                 1         -1.284516                  0   \n",
       "\n",
       "      geography_Spain  gender_Male  \n",
       "9344                0            0  \n",
       "3796                0            1  \n",
       "7462                0            1  \n",
       "1508                0            1  \n",
       "4478                0            1  "
      ]
     },
     "execution_count": 20,
     "metadata": {},
     "output_type": "execute_result"
    }
   ],
   "source": [
    "#Масштамбируем для тренировочной выборки\n",
    "scaler = StandardScaler()\n",
    "scaler.fit(features_train[numeric])\n",
    "features_train[numeric] = scaler.transform(features_train[numeric])\n",
    "features_train.head()"
   ]
  },
  {
   "cell_type": "code",
   "execution_count": 21,
   "metadata": {},
   "outputs": [
    {
     "data": {
      "text/html": [
       "<div>\n",
       "<style scoped>\n",
       "    .dataframe tbody tr th:only-of-type {\n",
       "        vertical-align: middle;\n",
       "    }\n",
       "\n",
       "    .dataframe tbody tr th {\n",
       "        vertical-align: top;\n",
       "    }\n",
       "\n",
       "    .dataframe thead th {\n",
       "        text-align: right;\n",
       "    }\n",
       "</style>\n",
       "<table border=\"1\" class=\"dataframe\">\n",
       "  <thead>\n",
       "    <tr style=\"text-align: right;\">\n",
       "      <th></th>\n",
       "      <th>credit_score</th>\n",
       "      <th>age</th>\n",
       "      <th>tenure</th>\n",
       "      <th>balance</th>\n",
       "      <th>num_of_products</th>\n",
       "      <th>has_cr_card</th>\n",
       "      <th>is_active_member</th>\n",
       "      <th>estimated_salary</th>\n",
       "      <th>geography_Germany</th>\n",
       "      <th>geography_Spain</th>\n",
       "      <th>gender_Male</th>\n",
       "    </tr>\n",
       "  </thead>\n",
       "  <tbody>\n",
       "    <tr>\n",
       "      <th>7445</th>\n",
       "      <td>-1.369326</td>\n",
       "      <td>0.560665</td>\n",
       "      <td>-0.336987</td>\n",
       "      <td>-1.237830</td>\n",
       "      <td>-0.908179</td>\n",
       "      <td>1</td>\n",
       "      <td>0</td>\n",
       "      <td>-0.086537</td>\n",
       "      <td>0</td>\n",
       "      <td>0</td>\n",
       "      <td>0</td>\n",
       "    </tr>\n",
       "    <tr>\n",
       "      <th>8620</th>\n",
       "      <td>1.232367</td>\n",
       "      <td>0.090079</td>\n",
       "      <td>1.041028</td>\n",
       "      <td>-1.237830</td>\n",
       "      <td>0.809300</td>\n",
       "      <td>0</td>\n",
       "      <td>1</td>\n",
       "      <td>-0.537457</td>\n",
       "      <td>0</td>\n",
       "      <td>0</td>\n",
       "      <td>0</td>\n",
       "    </tr>\n",
       "    <tr>\n",
       "      <th>1714</th>\n",
       "      <td>0.840048</td>\n",
       "      <td>0.560665</td>\n",
       "      <td>0.352020</td>\n",
       "      <td>1.231363</td>\n",
       "      <td>-0.908179</td>\n",
       "      <td>0</td>\n",
       "      <td>0</td>\n",
       "      <td>1.070393</td>\n",
       "      <td>1</td>\n",
       "      <td>0</td>\n",
       "      <td>1</td>\n",
       "    </tr>\n",
       "    <tr>\n",
       "      <th>5441</th>\n",
       "      <td>1.056856</td>\n",
       "      <td>-0.945210</td>\n",
       "      <td>-1.370498</td>\n",
       "      <td>0.951231</td>\n",
       "      <td>-0.908179</td>\n",
       "      <td>1</td>\n",
       "      <td>0</td>\n",
       "      <td>-0.576279</td>\n",
       "      <td>0</td>\n",
       "      <td>0</td>\n",
       "      <td>1</td>\n",
       "    </tr>\n",
       "    <tr>\n",
       "      <th>9001</th>\n",
       "      <td>0.406433</td>\n",
       "      <td>-0.662858</td>\n",
       "      <td>0.352020</td>\n",
       "      <td>0.767800</td>\n",
       "      <td>-0.908179</td>\n",
       "      <td>1</td>\n",
       "      <td>1</td>\n",
       "      <td>0.662068</td>\n",
       "      <td>0</td>\n",
       "      <td>1</td>\n",
       "      <td>1</td>\n",
       "    </tr>\n",
       "  </tbody>\n",
       "</table>\n",
       "</div>"
      ],
      "text/plain": [
       "      credit_score       age    tenure   balance  num_of_products  \\\n",
       "7445     -1.369326  0.560665 -0.336987 -1.237830        -0.908179   \n",
       "8620      1.232367  0.090079  1.041028 -1.237830         0.809300   \n",
       "1714      0.840048  0.560665  0.352020  1.231363        -0.908179   \n",
       "5441      1.056856 -0.945210 -1.370498  0.951231        -0.908179   \n",
       "9001      0.406433 -0.662858  0.352020  0.767800        -0.908179   \n",
       "\n",
       "      has_cr_card  is_active_member  estimated_salary  geography_Germany  \\\n",
       "7445            1                 0         -0.086537                  0   \n",
       "8620            0                 1         -0.537457                  0   \n",
       "1714            0                 0          1.070393                  1   \n",
       "5441            1                 0         -0.576279                  0   \n",
       "9001            1                 1          0.662068                  0   \n",
       "\n",
       "      geography_Spain  gender_Male  \n",
       "7445                0            0  \n",
       "8620                0            0  \n",
       "1714                0            1  \n",
       "5441                0            1  \n",
       "9001                1            1  "
      ]
     },
     "execution_count": 21,
     "metadata": {},
     "output_type": "execute_result"
    }
   ],
   "source": [
    "#Масштамбируем для валидационной выборки\n",
    "features_valid[numeric] = scaler.transform(features_valid[numeric])\n",
    "features_valid.head()"
   ]
  },
  {
   "cell_type": "code",
   "execution_count": 22,
   "metadata": {},
   "outputs": [
    {
     "data": {
      "text/html": [
       "<div>\n",
       "<style scoped>\n",
       "    .dataframe tbody tr th:only-of-type {\n",
       "        vertical-align: middle;\n",
       "    }\n",
       "\n",
       "    .dataframe tbody tr th {\n",
       "        vertical-align: top;\n",
       "    }\n",
       "\n",
       "    .dataframe thead th {\n",
       "        text-align: right;\n",
       "    }\n",
       "</style>\n",
       "<table border=\"1\" class=\"dataframe\">\n",
       "  <thead>\n",
       "    <tr style=\"text-align: right;\">\n",
       "      <th></th>\n",
       "      <th>credit_score</th>\n",
       "      <th>age</th>\n",
       "      <th>tenure</th>\n",
       "      <th>balance</th>\n",
       "      <th>num_of_products</th>\n",
       "      <th>has_cr_card</th>\n",
       "      <th>is_active_member</th>\n",
       "      <th>estimated_salary</th>\n",
       "      <th>geography_Germany</th>\n",
       "      <th>geography_Spain</th>\n",
       "      <th>gender_Male</th>\n",
       "    </tr>\n",
       "  </thead>\n",
       "  <tbody>\n",
       "    <tr>\n",
       "      <th>5170</th>\n",
       "      <td>1.707279</td>\n",
       "      <td>-0.756975</td>\n",
       "      <td>-0.336987</td>\n",
       "      <td>-1.237830</td>\n",
       "      <td>0.809300</td>\n",
       "      <td>1</td>\n",
       "      <td>1</td>\n",
       "      <td>0.718362</td>\n",
       "      <td>0</td>\n",
       "      <td>0</td>\n",
       "      <td>0</td>\n",
       "    </tr>\n",
       "    <tr>\n",
       "      <th>4180</th>\n",
       "      <td>-0.429826</td>\n",
       "      <td>-0.286389</td>\n",
       "      <td>1.730036</td>\n",
       "      <td>0.485538</td>\n",
       "      <td>0.809300</td>\n",
       "      <td>0</td>\n",
       "      <td>0</td>\n",
       "      <td>1.687305</td>\n",
       "      <td>1</td>\n",
       "      <td>0</td>\n",
       "      <td>1</td>\n",
       "    </tr>\n",
       "    <tr>\n",
       "      <th>7349</th>\n",
       "      <td>-0.171721</td>\n",
       "      <td>0.278313</td>\n",
       "      <td>0.352020</td>\n",
       "      <td>-0.269213</td>\n",
       "      <td>0.809300</td>\n",
       "      <td>0</td>\n",
       "      <td>1</td>\n",
       "      <td>0.824128</td>\n",
       "      <td>1</td>\n",
       "      <td>0</td>\n",
       "      <td>1</td>\n",
       "    </tr>\n",
       "    <tr>\n",
       "      <th>7469</th>\n",
       "      <td>0.385784</td>\n",
       "      <td>-0.380507</td>\n",
       "      <td>1.041028</td>\n",
       "      <td>0.464813</td>\n",
       "      <td>-0.908179</td>\n",
       "      <td>1</td>\n",
       "      <td>0</td>\n",
       "      <td>-1.118018</td>\n",
       "      <td>0</td>\n",
       "      <td>0</td>\n",
       "      <td>0</td>\n",
       "    </tr>\n",
       "    <tr>\n",
       "      <th>3467</th>\n",
       "      <td>-1.142194</td>\n",
       "      <td>0.278313</td>\n",
       "      <td>-1.370498</td>\n",
       "      <td>0.353837</td>\n",
       "      <td>0.809300</td>\n",
       "      <td>0</td>\n",
       "      <td>1</td>\n",
       "      <td>-0.107642</td>\n",
       "      <td>1</td>\n",
       "      <td>0</td>\n",
       "      <td>0</td>\n",
       "    </tr>\n",
       "  </tbody>\n",
       "</table>\n",
       "</div>"
      ],
      "text/plain": [
       "      credit_score       age    tenure   balance  num_of_products  \\\n",
       "5170      1.707279 -0.756975 -0.336987 -1.237830         0.809300   \n",
       "4180     -0.429826 -0.286389  1.730036  0.485538         0.809300   \n",
       "7349     -0.171721  0.278313  0.352020 -0.269213         0.809300   \n",
       "7469      0.385784 -0.380507  1.041028  0.464813        -0.908179   \n",
       "3467     -1.142194  0.278313 -1.370498  0.353837         0.809300   \n",
       "\n",
       "      has_cr_card  is_active_member  estimated_salary  geography_Germany  \\\n",
       "5170            1                 1          0.718362                  0   \n",
       "4180            0                 0          1.687305                  1   \n",
       "7349            0                 1          0.824128                  1   \n",
       "7469            1                 0         -1.118018                  0   \n",
       "3467            0                 1         -0.107642                  1   \n",
       "\n",
       "      geography_Spain  gender_Male  \n",
       "5170                0            0  \n",
       "4180                0            1  \n",
       "7349                0            1  \n",
       "7469                0            0  \n",
       "3467                0            0  "
      ]
     },
     "execution_count": 22,
     "metadata": {},
     "output_type": "execute_result"
    }
   ],
   "source": [
    "#Масштамбируем для тестовой выборки\n",
    "features_test[numeric] = scaler.transform(features_test[numeric])\n",
    "features_test.head()"
   ]
  },
  {
   "cell_type": "code",
   "execution_count": 23,
   "metadata": {},
   "outputs": [
    {
     "name": "stdout",
     "output_type": "stream",
     "text": [
      "Точность: 0.7904290429042904\n",
      "F1-мера: 0.4926764314247669\n",
      "AUC-ROC: 0.6797786314764468\n"
     ]
    }
   ],
   "source": [
    "#Рассмотрим модель решающего дерева\n",
    "model_DTC = DecisionTreeClassifier(random_state=12345, max_depth=100)\n",
    "model_DTC.fit(features_train, target_train)\n",
    "predictions_valid = model_DTC.predict(features_valid)\n",
    "accuracy_DTC = accuracy_score(target_valid, predictions_valid)\n",
    "f1_score_DTC = f1_score(target_valid, predictions_valid)\n",
    "auc_roc_DTC = roc_auc_score(target_valid, model_DTC.predict_proba(features_valid)[:, 1])\n",
    "print(\"Точность:\", accuracy_DTC)\n",
    "print('F1-мера:', f1_score_DTC)\n",
    "print('AUC-ROC:', auc_roc_DTC)"
   ]
  },
  {
   "cell_type": "code",
   "execution_count": 24,
   "metadata": {},
   "outputs": [
    {
     "name": "stdout",
     "output_type": "stream",
     "text": [
      "Точность: 0.8619361936193619\n",
      "F1-мера: 0.5851239669421487\n",
      "AUC-ROC: 0.8629313566139046\n"
     ]
    }
   ],
   "source": [
    "#Рассмотрим модель случайного леса\n",
    "model_RFC = RandomForestClassifier(random_state=12345, n_estimators=100)\n",
    "model_RFC.fit(features_train, target_train)\n",
    "predictions_valid = model_RFC.predict(features_valid)\n",
    "accuracy_RFC = accuracy_score(target_valid, predictions_valid)\n",
    "f1_score_RFC = f1_score(target_valid, predictions_valid)\n",
    "auc_roc_RFC = roc_auc_score(target_valid, model_RFC.predict_proba(features_valid)[:, 1])\n",
    "print(\"Точность:\", accuracy_RFC)\n",
    "print('F1-мера:', f1_score_RFC)\n",
    "print('AUC-ROC:', auc_roc_RFC)"
   ]
  },
  {
   "cell_type": "code",
   "execution_count": 25,
   "metadata": {},
   "outputs": [
    {
     "name": "stdout",
     "output_type": "stream",
     "text": [
      "Точность: 0.8085808580858086\n",
      "F1-мера: 0.30400000000000005\n",
      "AUC-ROC: 0.7736191158144302\n"
     ]
    }
   ],
   "source": [
    "#Рассмотрим модель логистической регрессии\n",
    "model_LR = LogisticRegression(solver=\"liblinear\", random_state=12345)\n",
    "model_LR.fit(features_train, target_train)\n",
    "predictions_valid = model_LR.predict(features_valid)\n",
    "accuracy_LR = accuracy_score(target_valid, predictions_valid)\n",
    "f1_score_LR = f1_score(target_valid, predictions_valid)\n",
    "auc_roc_LR = roc_auc_score(target_valid, model_LR.predict_proba(features_valid)[:, 1])\n",
    "print(\"Точность:\", accuracy_LR)\n",
    "print('F1-мера:', f1_score_LR)\n",
    "print('AUC-ROC:', auc_roc_LR)"
   ]
  },
  {
   "cell_type": "code",
   "execution_count": 26,
   "metadata": {},
   "outputs": [
    {
     "data": {
      "text/plain": [
       "0    0.793546\n",
       "1    0.206454\n",
       "Name: exited, dtype: float64"
      ]
     },
     "execution_count": 26,
     "metadata": {},
     "output_type": "execute_result"
    }
   ],
   "source": [
    "#Проверим баланс классов для тренировочной выборки\n",
    "target_train.value_counts(normalize=1)"
   ]
  },
  {
   "cell_type": "code",
   "execution_count": 27,
   "metadata": {},
   "outputs": [
    {
     "data": {
      "text/plain": [
       "0    0.792629\n",
       "1    0.207371\n",
       "Name: exited, dtype: float64"
      ]
     },
     "execution_count": 27,
     "metadata": {},
     "output_type": "execute_result"
    }
   ],
   "source": [
    "#Проверим баланс классов для валидационной выборки\n",
    "target_valid.value_counts(normalize=1)"
   ]
  },
  {
   "cell_type": "markdown",
   "metadata": {},
   "source": [
    "### Вывод"
   ]
  },
  {
   "cell_type": "markdown",
   "metadata": {},
   "source": [
    "Данные разбили следующим образом:\n",
    "\n",
    "- 60% данных - train;\n",
    "- 20% данных - valid;\n",
    "- 20% данных - test;\n",
    "\n",
    "Обучение будет происходить на данных из train.\n",
    "\n",
    "Валидация будет происходить на данных из valid.\n",
    "\n",
    "Лучшая модель по валидации будет применена на данных test.\n",
    "\n",
    "Баланс классов составляет примерно 80% для значения \"0\" и 20% для значения \"1\", надо исправить этот дисбаланс."
   ]
  },
  {
   "cell_type": "markdown",
   "metadata": {},
   "source": [
    "## Борьба с дисбалансом"
   ]
  },
  {
   "cell_type": "code",
   "execution_count": 28,
   "metadata": {},
   "outputs": [],
   "source": [
    "#Для борьбы с дисбалансом воспользуемся методом увеличения выборки, для этого напишем функцию\n",
    "def upsample(features, target, repeat):\n",
    "    features_zeros = features[target == 0]\n",
    "    features_ones = features[target == 1]\n",
    "    target_zeros = target[target == 0]\n",
    "    target_ones = target[target == 1]\n",
    "\n",
    "    features_upsampled = pd.concat([features_zeros] + [features_ones] * repeat)\n",
    "    target_upsampled = pd.concat([target_zeros] + [target_ones] * repeat)\n",
    "    \n",
    "    features_upsampled, target_upsampled = shuffle(\n",
    "        features_upsampled, target_upsampled, random_state=12345)\n",
    "    \n",
    "    return features_upsampled, target_upsampled"
   ]
  },
  {
   "cell_type": "code",
   "execution_count": 29,
   "metadata": {},
   "outputs": [
    {
     "name": "stdout",
     "output_type": "stream",
     "text": [
      "Accuracy: 0.8536853685368537\n",
      "Precision: 0.6831683168316832\n",
      "Recall: 0.5490716180371353\n",
      "F1: 0.6088235294117647\n",
      "AUC-ROC: 0.8590492161168656\n"
     ]
    }
   ],
   "source": [
    "#Применим нашу функцию для модели случайного леса\n",
    "features_upsampled_train, target_upsampled_train = upsample(features_train, target_train, repeat=4)\n",
    "\n",
    "model_RFC = RandomForestClassifier(n_estimators=100, random_state=12345)\n",
    "model_RFC.fit(features_upsampled_train, target_upsampled_train)\n",
    "predicted_valid = model_RFC.predict(features_valid)\n",
    "print('Accuracy:', accuracy_score(target_valid, predicted_valid))\n",
    "print('Precision:', precision_score(target_valid, predicted_valid))\n",
    "print('Recall:', recall_score(target_valid, predicted_valid))\n",
    "print('F1:', f1_score(target_valid, predicted_valid))\n",
    "print('AUC-ROC:', roc_auc_score(target_valid, model_RFC.predict_proba(features_valid)[:, 1]))"
   ]
  },
  {
   "cell_type": "code",
   "execution_count": 30,
   "metadata": {},
   "outputs": [
    {
     "name": "stdout",
     "output_type": "stream",
     "text": [
      "Accuracy: 0.7904290429042904\n",
      "Precision: 0.4735376044568245\n",
      "Recall: 0.4509283819628647\n",
      "F1-мера: 0.46195652173913043\n",
      "AUC-ROC: 0.6598847322722027\n"
     ]
    }
   ],
   "source": [
    "#Применим нашу функцию для модели решающего дерева\n",
    "model_DTC = DecisionTreeClassifier(random_state=12345, max_depth=100)\n",
    "model_DTC.fit(features_upsampled_train, target_upsampled_train)\n",
    "predicted_valid = model_DTC.predict(features_valid)\n",
    "print('Accuracy:', accuracy_DTC)\n",
    "print('Precision:', precision_score(target_valid, predicted_valid))\n",
    "print('Recall:', recall_score(target_valid, predicted_valid))\n",
    "print('F1-мера:', f1_score(target_valid, predicted_valid))\n",
    "print('AUC-ROC:', roc_auc_score(target_valid, model_DTC.predict_proba(features_valid)[:, 1]))"
   ]
  },
  {
   "cell_type": "code",
   "execution_count": 31,
   "metadata": {},
   "outputs": [
    {
     "name": "stdout",
     "output_type": "stream",
     "text": [
      "Accuracy: 0.8085808580858086\n",
      "Precision: 0.385989010989011\n",
      "Recall: 0.7453580901856764\n",
      "F1-мера: 0.5085972850678734\n",
      "AUC-ROC: 0.7779006989325494\n"
     ]
    }
   ],
   "source": [
    "#Применим нашу функцию для модели логистической регрессии\n",
    "model_LR = LogisticRegression(solver=\"liblinear\", random_state=12345)\n",
    "model_LR.fit(features_upsampled_train, target_upsampled_train)\n",
    "predicted_valid = model_LR.predict(features_valid)\n",
    "print('Accuracy:', accuracy_LR)\n",
    "print('Precision:', precision_score(target_valid, predicted_valid))\n",
    "print('Recall:', recall_score(target_valid, predicted_valid))\n",
    "print('F1-мера:', f1_score(target_valid, predicted_valid))\n",
    "print('AUC-ROC:', roc_auc_score(target_valid, model_LR.predict_proba(features_valid)[:, 1]))"
   ]
  },
  {
   "cell_type": "code",
   "execution_count": 32,
   "metadata": {},
   "outputs": [],
   "source": [
    "#Воспользуемся методом уменьшения выборки, для этого напишем функцию\n",
    "def downsample(features, target, fraction):\n",
    "    features_zeros = features[target == 0]\n",
    "    features_ones = features[target == 1]\n",
    "    target_zeros = target[target == 0]\n",
    "    target_ones = target[target == 1]\n",
    "\n",
    "    features_downsampled = pd.concat(\n",
    "        [features_zeros.sample(frac=fraction, random_state=12345)] + [features_ones])\n",
    "    target_downsampled = pd.concat(\n",
    "        [target_zeros.sample(frac=fraction, random_state=12345)] + [target_ones])\n",
    "    \n",
    "    features_downsampled, target_downsampled = shuffle(\n",
    "        features_downsampled, target_downsampled, random_state=12345)\n",
    "    \n",
    "    return features_downsampled, target_downsampled"
   ]
  },
  {
   "cell_type": "code",
   "execution_count": 33,
   "metadata": {},
   "outputs": [
    {
     "name": "stdout",
     "output_type": "stream",
     "text": [
      "Accuracy: 0.7678767876787679\n",
      "Precision: 0.4652241112828439\n",
      "Recall: 0.7984084880636605\n",
      "F1: 0.5878906250000001\n",
      "AUC-ROC: 0.8639851856487814\n"
     ]
    }
   ],
   "source": [
    "#Применим нашу функцию для модели случайного леса\n",
    "features_downsampled_train, target_downsampled_train = downsample(features_train, target_train, fraction=0.25)\n",
    "\n",
    "model_RFC = RandomForestClassifier(n_estimators=100, random_state=12345)\n",
    "model_RFC.fit(features_downsampled_train, target_downsampled_train)\n",
    "predicted_valid = model_RFC.predict(features_valid)\n",
    "print('Accuracy:', accuracy_score(target_valid, predicted_valid))\n",
    "print('Precision:', precision_score(target_valid, predicted_valid))\n",
    "print('Recall:', recall_score(target_valid, predicted_valid))\n",
    "print('F1:', f1_score(target_valid, predicted_valid))\n",
    "print('AUC-ROC:', roc_auc_score(target_valid, model_RFC.predict_proba(features_valid)[:, 1]))"
   ]
  },
  {
   "cell_type": "code",
   "execution_count": 34,
   "metadata": {},
   "outputs": [
    {
     "name": "stdout",
     "output_type": "stream",
     "text": [
      "Accuracy: 0.7904290429042904\n",
      "Precision: 0.38419618528610355\n",
      "Recall: 0.7480106100795756\n",
      "F1-мера: 0.5076507650765076\n",
      "AUC-ROC: 0.7171697741584554\n"
     ]
    }
   ],
   "source": [
    "#Применим нашу функцию для модели решающего дерева\n",
    "model_DTC = DecisionTreeClassifier(random_state=12345, max_depth=100)\n",
    "model_DTC.fit(features_downsampled_train, target_downsampled_train)\n",
    "predicted_valid = model_DTC.predict(features_valid)\n",
    "print('Accuracy:', accuracy_DTC)\n",
    "print('Precision:', precision_score(target_valid, predicted_valid))\n",
    "print('Recall:', recall_score(target_valid, predicted_valid))\n",
    "print('F1-мера:', f1_score(target_valid, predicted_valid))\n",
    "print('AUC-ROC:', roc_auc_score(target_valid, model_DTC.predict_proba(features_valid)[:, 1]))"
   ]
  },
  {
   "cell_type": "code",
   "execution_count": 35,
   "metadata": {},
   "outputs": [
    {
     "name": "stdout",
     "output_type": "stream",
     "text": [
      "Accuracy: 0.8085808580858086\n",
      "Precision: 0.3812754409769335\n",
      "Recall: 0.7453580901856764\n",
      "F1-мера: 0.5044883303411131\n",
      "AUC-ROC: 0.7770355467117773\n"
     ]
    }
   ],
   "source": [
    "#Применим нашу функцию для модели логистической регрессии\n",
    "model_LR = LogisticRegression(solver=\"liblinear\", random_state=12345)\n",
    "model_LR.fit(features_downsampled_train, target_downsampled_train)\n",
    "predicted_valid = model_LR.predict(features_valid)\n",
    "print('Accuracy:', accuracy_LR)\n",
    "print('Precision:', precision_score(target_valid, predicted_valid))\n",
    "print('Recall:', recall_score(target_valid, predicted_valid))\n",
    "print('F1-мера:', f1_score(target_valid, predicted_valid))\n",
    "print('AUC-ROC:', roc_auc_score(target_valid, model_LR.predict_proba(features_valid)[:, 1]))"
   ]
  },
  {
   "cell_type": "markdown",
   "metadata": {},
   "source": [
    "### Вывод"
   ]
  },
  {
   "cell_type": "markdown",
   "metadata": {},
   "source": [
    "Показатели при увеличении выборки для модели решающего дерева:\n",
    "- Точность: 0.7904290429042904\n",
    "- Precision: 0.4735376044568245\n",
    "- Recall: 0.4509283819628647\n",
    "- F1-мера: 0.46195652173913043\n",
    "- AUC-ROC: 0.6598847322722027\n",
    "\n",
    "Показатели при увеличении выборки для модели случайного леса:\n",
    "- Accuracy: 0.8536853685368537\n",
    "- Precision: 0.6831683168316832\n",
    "- Recall: 0.5490716180371353\n",
    "- F1: 0.6088235294117647\n",
    "- AUC-ROC: 0.8590492161168656\n",
    "\n",
    "Показатели при увеличении выборки для модели логистической регрессии:\n",
    "- Accuracy: 0.8085808580858086\n",
    "- Precision: 0.385989010989011\n",
    "- Recall: 0.7453580901856764\n",
    "- F1-мера: 0.5085972850678734\n",
    "- AUC-ROC: 0.7779006989325494\n",
    "\n",
    "Показатели при уменьшении выборки для модели решающего дерева:\n",
    "- Accuracy: 0.7904290429042904\n",
    "- Precision: 0.38419618528610355\n",
    "- Recall: 0.7480106100795756\n",
    "- F1-мера: 0.5076507650765076\n",
    "- AUC-ROC: 0.7171697741584554\n",
    "\n",
    "Показатели при уменьшении выборки для модели случайного леса:\n",
    "- Accuracy: 0.7678767876787679\n",
    "- Precision: 0.4652241112828439\n",
    "- Recall: 0.7984084880636605\n",
    "- F1: 0.5878906250000001\n",
    "- AUC-ROC: 0.8639851856487814\n",
    "\n",
    "Показатели при уменьшении выборки для модели логистической регрессии:\n",
    "- Accuracy: 0.8085808580858086\n",
    "- Precision: 0.3812754409769335\n",
    "- Recall: 0.7453580901856764\n",
    "- F1-мера: 0.5044883303411131\n",
    "- AUC-ROC: 0.7770355467117773\n",
    "\n",
    "Вывод: самая оптимальная модель по параметрам F1-меры и AUC-ROC - модель случайного леса с увеличением выборки."
   ]
  },
  {
   "cell_type": "markdown",
   "metadata": {},
   "source": [
    "## Тестирование модели"
   ]
  },
  {
   "cell_type": "code",
   "execution_count": 36,
   "metadata": {},
   "outputs": [
    {
     "name": "stdout",
     "output_type": "stream",
     "text": [
      "Accuracy: 0.8614623419461243\n",
      "Precision: 0.6655518394648829\n",
      "Recall: 0.5669515669515669\n",
      "F1: 0.6123076923076923\n",
      "AUC-ROC: 0.8498101958592422\n"
     ]
    }
   ],
   "source": [
    "#Протестируем нашу модель случайного леса\n",
    "model_RFC = RandomForestClassifier(n_estimators=100, random_state=12345)\n",
    "model_RFC.fit(features_upsampled_train, target_upsampled_train)\n",
    "predicted_test = model_RFC.predict(features_test)\n",
    "print('Accuracy:', accuracy_score(target_test, predicted_test))\n",
    "print('Precision:', precision_score(target_test, predicted_test))\n",
    "print('Recall:', recall_score(target_test, predicted_test))\n",
    "print('F1:', f1_score(target_test, predicted_test))\n",
    "print('AUC-ROC:', roc_auc_score(target_test, model_RFC.predict_proba(features_test)[:, 1]))"
   ]
  },
  {
   "cell_type": "markdown",
   "metadata": {},
   "source": [
    "### Вывод"
   ]
  },
  {
   "cell_type": "markdown",
   "metadata": {},
   "source": [
    "Были получены относительно высокие показатели, F1-мера > 0.59, AUC-ROC ~ 0.85."
   ]
  },
  {
   "cell_type": "markdown",
   "metadata": {},
   "source": [
    "## Общий вывод"
   ]
  },
  {
   "cell_type": "markdown",
   "metadata": {},
   "source": [
    "Самая эффективная модель - модель случайного леса\n",
    "\n",
    "\n",
    "Значения для модели случайного леса при дисбалансе классов:\n",
    "- F1-мера: 0.5851239669421487\n",
    "- AUC-ROC: 0.8629313566139046\n",
    "\n",
    "Значения для модели случайного леса при увеличении выборки:\n",
    "- F1: 0.6088235294117647\n",
    "- AUC-ROC: 0.8590492161168656\n",
    "\n",
    "Значения для модели случайного леса при уменьшении выборки:\n",
    "- F1: 0.5878906250000001\n",
    "- AUC-ROC: 0.8639851856487814\n",
    "\n",
    "Значения на тестовой модели:\n",
    "- F1: 0.6123076923076923\n",
    "- AUC-ROC: 0.8498101958592422\n",
    "\n",
    "Значение F1-меры > 0.59, AUC-ROC метрика была исследована на всех этапах задачи."
   ]
  }
 ],
 "metadata": {
  "ExecuteTimeLog": [
   {
    "duration": 1299,
    "start_time": "2022-03-13T10:58:39.181Z"
   },
   {
    "duration": 32,
    "start_time": "2022-03-13T11:01:28.793Z"
   },
   {
    "duration": 31,
    "start_time": "2022-03-13T11:01:33.679Z"
   },
   {
    "duration": 13,
    "start_time": "2022-03-13T11:01:39.240Z"
   },
   {
    "duration": 7,
    "start_time": "2022-03-13T11:13:51.425Z"
   },
   {
    "duration": 6,
    "start_time": "2022-03-13T11:13:55.480Z"
   },
   {
    "duration": 7,
    "start_time": "2022-03-13T11:16:17.398Z"
   },
   {
    "duration": 8,
    "start_time": "2022-03-13T11:18:20.595Z"
   },
   {
    "duration": 9,
    "start_time": "2022-03-13T11:18:28.977Z"
   },
   {
    "duration": 6,
    "start_time": "2022-03-13T11:21:17.522Z"
   },
   {
    "duration": 6,
    "start_time": "2022-03-13T11:23:30.935Z"
   },
   {
    "duration": 1323,
    "start_time": "2022-03-13T11:23:58.637Z"
   },
   {
    "duration": 32,
    "start_time": "2022-03-13T11:23:59.962Z"
   },
   {
    "duration": 31,
    "start_time": "2022-03-13T11:24:00.773Z"
   },
   {
    "duration": 12,
    "start_time": "2022-03-13T11:24:02.406Z"
   },
   {
    "duration": 9,
    "start_time": "2022-03-13T11:24:03.141Z"
   },
   {
    "duration": 6,
    "start_time": "2022-03-13T11:24:04.812Z"
   },
   {
    "duration": 8,
    "start_time": "2022-03-13T11:24:05.566Z"
   },
   {
    "duration": 6,
    "start_time": "2022-03-13T11:24:06.463Z"
   },
   {
    "duration": 7,
    "start_time": "2022-03-13T11:26:02.859Z"
   },
   {
    "duration": 6,
    "start_time": "2022-03-13T11:30:59.253Z"
   },
   {
    "duration": 10,
    "start_time": "2022-03-13T11:32:48.918Z"
   },
   {
    "duration": 450,
    "start_time": "2022-03-13T11:39:14.440Z"
   },
   {
    "duration": 20,
    "start_time": "2022-03-13T11:39:20.648Z"
   },
   {
    "duration": 14,
    "start_time": "2022-03-13T11:43:24.478Z"
   },
   {
    "duration": 5,
    "start_time": "2022-03-13T11:44:20.665Z"
   },
   {
    "duration": 105,
    "start_time": "2022-03-13T11:45:04.432Z"
   },
   {
    "duration": 12,
    "start_time": "2022-03-13T11:45:12.470Z"
   },
   {
    "duration": 267,
    "start_time": "2022-03-13T11:46:19.335Z"
   },
   {
    "duration": 5,
    "start_time": "2022-03-13T11:46:49.363Z"
   },
   {
    "duration": 293,
    "start_time": "2022-03-13T11:46:53.686Z"
   },
   {
    "duration": 362,
    "start_time": "2022-03-13T11:49:35.081Z"
   },
   {
    "duration": 1335,
    "start_time": "2022-03-13T11:49:54.143Z"
   },
   {
    "duration": 36,
    "start_time": "2022-03-13T11:49:56.095Z"
   },
   {
    "duration": 33,
    "start_time": "2022-03-13T11:49:56.848Z"
   },
   {
    "duration": 14,
    "start_time": "2022-03-13T11:49:57.608Z"
   },
   {
    "duration": 8,
    "start_time": "2022-03-13T11:49:58.249Z"
   },
   {
    "duration": 5,
    "start_time": "2022-03-13T11:49:58.760Z"
   },
   {
    "duration": 6,
    "start_time": "2022-03-13T11:49:59.281Z"
   },
   {
    "duration": 9,
    "start_time": "2022-03-13T11:49:59.832Z"
   },
   {
    "duration": 6,
    "start_time": "2022-03-13T11:50:00.311Z"
   },
   {
    "duration": 5,
    "start_time": "2022-03-13T11:50:01.049Z"
   },
   {
    "duration": 21,
    "start_time": "2022-03-13T11:50:03.141Z"
   },
   {
    "duration": 8,
    "start_time": "2022-03-13T11:50:03.888Z"
   },
   {
    "duration": 14,
    "start_time": "2022-03-13T11:50:48.751Z"
   },
   {
    "duration": 6,
    "start_time": "2022-03-13T11:50:49.712Z"
   },
   {
    "duration": 11,
    "start_time": "2022-03-13T11:50:51.120Z"
   },
   {
    "duration": 394,
    "start_time": "2022-03-13T11:50:54.703Z"
   },
   {
    "duration": 6,
    "start_time": "2022-03-13T11:53:33.157Z"
   },
   {
    "duration": 6,
    "start_time": "2022-03-13T12:05:18.422Z"
   },
   {
    "duration": 266,
    "start_time": "2022-03-13T12:05:22.262Z"
   },
   {
    "duration": 1354,
    "start_time": "2022-03-13T12:05:48.410Z"
   },
   {
    "duration": 35,
    "start_time": "2022-03-13T12:05:50.258Z"
   },
   {
    "duration": 30,
    "start_time": "2022-03-13T12:05:50.810Z"
   },
   {
    "duration": 13,
    "start_time": "2022-03-13T12:05:51.353Z"
   },
   {
    "duration": 8,
    "start_time": "2022-03-13T12:05:52.106Z"
   },
   {
    "duration": 5,
    "start_time": "2022-03-13T12:05:53.019Z"
   },
   {
    "duration": 6,
    "start_time": "2022-03-13T12:05:53.633Z"
   },
   {
    "duration": 9,
    "start_time": "2022-03-13T12:05:54.241Z"
   },
   {
    "duration": 7,
    "start_time": "2022-03-13T12:05:54.802Z"
   },
   {
    "duration": 5,
    "start_time": "2022-03-13T12:05:55.626Z"
   },
   {
    "duration": 18,
    "start_time": "2022-03-13T12:05:56.378Z"
   },
   {
    "duration": 7,
    "start_time": "2022-03-13T12:05:56.921Z"
   },
   {
    "duration": 433,
    "start_time": "2022-03-13T12:05:58.889Z"
   },
   {
    "duration": 267,
    "start_time": "2022-03-13T12:08:08.769Z"
   },
   {
    "duration": 1291,
    "start_time": "2022-03-13T12:09:08.484Z"
   },
   {
    "duration": 35,
    "start_time": "2022-03-13T12:09:10.299Z"
   },
   {
    "duration": 31,
    "start_time": "2022-03-13T12:09:10.773Z"
   },
   {
    "duration": 13,
    "start_time": "2022-03-13T12:09:11.234Z"
   },
   {
    "duration": 8,
    "start_time": "2022-03-13T12:09:11.810Z"
   },
   {
    "duration": 5,
    "start_time": "2022-03-13T12:09:12.445Z"
   },
   {
    "duration": 6,
    "start_time": "2022-03-13T12:09:13.148Z"
   },
   {
    "duration": 8,
    "start_time": "2022-03-13T12:09:13.604Z"
   },
   {
    "duration": 6,
    "start_time": "2022-03-13T12:09:14.034Z"
   },
   {
    "duration": 5,
    "start_time": "2022-03-13T12:09:15.610Z"
   },
   {
    "duration": 17,
    "start_time": "2022-03-13T12:09:16.323Z"
   },
   {
    "duration": 385,
    "start_time": "2022-03-13T12:09:17.963Z"
   },
   {
    "duration": 14,
    "start_time": "2022-03-13T12:09:33.380Z"
   },
   {
    "duration": 6660,
    "start_time": "2022-03-13T12:11:00.858Z"
   },
   {
    "duration": 1345,
    "start_time": "2022-03-13T12:11:43.922Z"
   },
   {
    "duration": 30,
    "start_time": "2022-03-13T12:11:45.785Z"
   },
   {
    "duration": 29,
    "start_time": "2022-03-13T12:11:46.358Z"
   },
   {
    "duration": 14,
    "start_time": "2022-03-13T12:11:46.824Z"
   },
   {
    "duration": 8,
    "start_time": "2022-03-13T12:11:47.312Z"
   },
   {
    "duration": 5,
    "start_time": "2022-03-13T12:11:47.841Z"
   },
   {
    "duration": 7,
    "start_time": "2022-03-13T12:11:48.360Z"
   },
   {
    "duration": 9,
    "start_time": "2022-03-13T12:11:48.835Z"
   },
   {
    "duration": 6,
    "start_time": "2022-03-13T12:11:49.360Z"
   },
   {
    "duration": 6,
    "start_time": "2022-03-13T12:11:50.233Z"
   },
   {
    "duration": 18,
    "start_time": "2022-03-13T12:11:50.777Z"
   },
   {
    "duration": 460,
    "start_time": "2022-03-13T12:11:51.640Z"
   },
   {
    "duration": 6246,
    "start_time": "2022-03-13T12:12:03.337Z"
   },
   {
    "duration": 8455,
    "start_time": "2022-03-13T12:13:58.391Z"
   },
   {
    "duration": 7033,
    "start_time": "2022-03-13T12:14:43.527Z"
   },
   {
    "duration": 6,
    "start_time": "2022-03-13T12:16:05.719Z"
   },
   {
    "duration": 273,
    "start_time": "2022-03-13T12:16:22.198Z"
   },
   {
    "duration": 15,
    "start_time": "2022-03-13T12:18:05.884Z"
   },
   {
    "duration": 1294,
    "start_time": "2022-03-13T12:18:28.908Z"
   },
   {
    "duration": 31,
    "start_time": "2022-03-13T12:18:30.908Z"
   },
   {
    "duration": 31,
    "start_time": "2022-03-13T12:18:31.433Z"
   },
   {
    "duration": 14,
    "start_time": "2022-03-13T12:18:32.044Z"
   },
   {
    "duration": 8,
    "start_time": "2022-03-13T12:18:32.805Z"
   },
   {
    "duration": 5,
    "start_time": "2022-03-13T12:18:33.684Z"
   },
   {
    "duration": 7,
    "start_time": "2022-03-13T12:18:34.379Z"
   },
   {
    "duration": 9,
    "start_time": "2022-03-13T12:18:34.883Z"
   },
   {
    "duration": 6,
    "start_time": "2022-03-13T12:18:36.611Z"
   },
   {
    "duration": 5,
    "start_time": "2022-03-13T12:18:37.044Z"
   },
   {
    "duration": 18,
    "start_time": "2022-03-13T12:18:37.363Z"
   },
   {
    "duration": 27,
    "start_time": "2022-03-13T12:18:37.828Z"
   },
   {
    "duration": 382,
    "start_time": "2022-03-13T12:18:45.054Z"
   },
   {
    "duration": 7,
    "start_time": "2022-03-13T12:18:51.108Z"
   },
   {
    "duration": 17,
    "start_time": "2022-03-13T12:18:55.021Z"
   },
   {
    "duration": 289,
    "start_time": "2022-03-13T12:18:57.077Z"
   },
   {
    "duration": 16,
    "start_time": "2022-03-13T12:19:01.156Z"
   },
   {
    "duration": 243,
    "start_time": "2022-03-13T12:21:52.419Z"
   },
   {
    "duration": 256,
    "start_time": "2022-03-13T12:22:14.673Z"
   },
   {
    "duration": 1274,
    "start_time": "2022-03-13T12:35:28.698Z"
   },
   {
    "duration": 31,
    "start_time": "2022-03-13T12:35:29.975Z"
   },
   {
    "duration": 44,
    "start_time": "2022-03-13T12:35:30.009Z"
   },
   {
    "duration": 13,
    "start_time": "2022-03-13T12:35:30.522Z"
   },
   {
    "duration": 7,
    "start_time": "2022-03-13T12:36:03.019Z"
   },
   {
    "duration": 564,
    "start_time": "2022-03-13T12:36:05.770Z"
   },
   {
    "duration": 1347,
    "start_time": "2022-03-13T12:36:41.824Z"
   },
   {
    "duration": 30,
    "start_time": "2022-03-13T12:36:43.614Z"
   },
   {
    "duration": 32,
    "start_time": "2022-03-13T12:36:44.127Z"
   },
   {
    "duration": 13,
    "start_time": "2022-03-13T12:36:44.645Z"
   },
   {
    "duration": 8,
    "start_time": "2022-03-13T12:36:45.182Z"
   },
   {
    "duration": 6,
    "start_time": "2022-03-13T12:36:45.894Z"
   },
   {
    "duration": 6,
    "start_time": "2022-03-13T12:36:46.518Z"
   },
   {
    "duration": 9,
    "start_time": "2022-03-13T12:36:48.046Z"
   },
   {
    "duration": 6,
    "start_time": "2022-03-13T12:36:48.542Z"
   },
   {
    "duration": 5,
    "start_time": "2022-03-13T12:36:49.502Z"
   },
   {
    "duration": 17,
    "start_time": "2022-03-13T12:36:50.494Z"
   },
   {
    "duration": 19,
    "start_time": "2022-03-13T12:36:51.821Z"
   },
   {
    "duration": 408,
    "start_time": "2022-03-13T12:36:57.550Z"
   },
   {
    "duration": 7,
    "start_time": "2022-03-13T12:37:13.678Z"
   },
   {
    "duration": 17,
    "start_time": "2022-03-13T12:37:16.182Z"
   },
   {
    "duration": 21,
    "start_time": "2022-03-13T12:38:14.637Z"
   },
   {
    "duration": 1271,
    "start_time": "2022-03-13T12:39:03.810Z"
   },
   {
    "duration": 31,
    "start_time": "2022-03-13T12:39:05.721Z"
   },
   {
    "duration": 29,
    "start_time": "2022-03-13T12:39:06.168Z"
   },
   {
    "duration": 14,
    "start_time": "2022-03-13T12:39:06.664Z"
   },
   {
    "duration": 9,
    "start_time": "2022-03-13T12:39:07.418Z"
   },
   {
    "duration": 6,
    "start_time": "2022-03-13T12:39:08.450Z"
   },
   {
    "duration": 7,
    "start_time": "2022-03-13T12:39:09.649Z"
   },
   {
    "duration": 9,
    "start_time": "2022-03-13T12:39:10.076Z"
   },
   {
    "duration": 6,
    "start_time": "2022-03-13T12:39:10.464Z"
   },
   {
    "duration": 5,
    "start_time": "2022-03-13T12:39:11.657Z"
   },
   {
    "duration": 18,
    "start_time": "2022-03-13T12:39:12.257Z"
   },
   {
    "duration": 6,
    "start_time": "2022-03-13T12:39:13.940Z"
   },
   {
    "duration": 20,
    "start_time": "2022-03-13T12:39:15.104Z"
   },
   {
    "duration": 16,
    "start_time": "2022-03-13T12:39:15.745Z"
   },
   {
    "duration": 385,
    "start_time": "2022-03-13T12:40:03.601Z"
   },
   {
    "duration": 274,
    "start_time": "2022-03-13T12:40:07.121Z"
   },
   {
    "duration": 1301,
    "start_time": "2022-03-13T12:40:31.476Z"
   },
   {
    "duration": 30,
    "start_time": "2022-03-13T12:40:33.147Z"
   },
   {
    "duration": 30,
    "start_time": "2022-03-13T12:40:33.555Z"
   },
   {
    "duration": 12,
    "start_time": "2022-03-13T12:40:33.911Z"
   },
   {
    "duration": 8,
    "start_time": "2022-03-13T12:40:34.339Z"
   },
   {
    "duration": 5,
    "start_time": "2022-03-13T12:40:34.771Z"
   },
   {
    "duration": 7,
    "start_time": "2022-03-13T12:40:35.187Z"
   },
   {
    "duration": 9,
    "start_time": "2022-03-13T12:40:35.539Z"
   },
   {
    "duration": 5,
    "start_time": "2022-03-13T12:40:35.947Z"
   },
   {
    "duration": 6,
    "start_time": "2022-03-13T12:40:36.931Z"
   },
   {
    "duration": 19,
    "start_time": "2022-03-13T12:40:37.267Z"
   },
   {
    "duration": 7,
    "start_time": "2022-03-13T12:40:39.324Z"
   },
   {
    "duration": 433,
    "start_time": "2022-03-13T12:40:42.010Z"
   },
   {
    "duration": 317,
    "start_time": "2022-03-13T12:41:00.547Z"
   },
   {
    "duration": 277,
    "start_time": "2022-03-13T12:41:07.594Z"
   },
   {
    "duration": 1334,
    "start_time": "2022-03-13T12:41:15.200Z"
   },
   {
    "duration": 30,
    "start_time": "2022-03-13T12:41:16.959Z"
   },
   {
    "duration": 34,
    "start_time": "2022-03-13T12:41:17.312Z"
   },
   {
    "duration": 12,
    "start_time": "2022-03-13T12:41:17.650Z"
   },
   {
    "duration": 8,
    "start_time": "2022-03-13T12:41:18.031Z"
   },
   {
    "duration": 5,
    "start_time": "2022-03-13T12:41:18.376Z"
   },
   {
    "duration": 7,
    "start_time": "2022-03-13T12:41:18.736Z"
   },
   {
    "duration": 9,
    "start_time": "2022-03-13T12:41:19.047Z"
   },
   {
    "duration": 8,
    "start_time": "2022-03-13T12:41:19.560Z"
   },
   {
    "duration": 7,
    "start_time": "2022-03-13T12:41:20.464Z"
   },
   {
    "duration": 18,
    "start_time": "2022-03-13T12:41:20.783Z"
   },
   {
    "duration": 7,
    "start_time": "2022-03-13T12:41:22.968Z"
   },
   {
    "duration": 12,
    "start_time": "2022-03-13T12:43:39.142Z"
   },
   {
    "duration": 15,
    "start_time": "2022-03-13T12:43:41.363Z"
   },
   {
    "duration": 17,
    "start_time": "2022-03-13T12:43:57.623Z"
   },
   {
    "duration": 1352,
    "start_time": "2022-03-13T12:44:25.716Z"
   },
   {
    "duration": 30,
    "start_time": "2022-03-13T12:44:27.435Z"
   },
   {
    "duration": 30,
    "start_time": "2022-03-13T12:44:27.830Z"
   },
   {
    "duration": 12,
    "start_time": "2022-03-13T12:44:28.155Z"
   },
   {
    "duration": 8,
    "start_time": "2022-03-13T12:44:28.483Z"
   },
   {
    "duration": 5,
    "start_time": "2022-03-13T12:44:28.828Z"
   },
   {
    "duration": 7,
    "start_time": "2022-03-13T12:44:29.116Z"
   },
   {
    "duration": 8,
    "start_time": "2022-03-13T12:44:29.403Z"
   },
   {
    "duration": 6,
    "start_time": "2022-03-13T12:44:29.852Z"
   },
   {
    "duration": 4,
    "start_time": "2022-03-13T12:44:30.406Z"
   },
   {
    "duration": 18,
    "start_time": "2022-03-13T12:44:30.788Z"
   },
   {
    "duration": 6,
    "start_time": "2022-03-13T12:44:31.260Z"
   },
   {
    "duration": 11,
    "start_time": "2022-03-13T12:44:32.195Z"
   },
   {
    "duration": 20,
    "start_time": "2022-03-13T12:44:33.044Z"
   },
   {
    "duration": 1344,
    "start_time": "2022-03-13T12:45:42.119Z"
   },
   {
    "duration": 30,
    "start_time": "2022-03-13T12:45:43.863Z"
   },
   {
    "duration": 30,
    "start_time": "2022-03-13T12:45:44.319Z"
   },
   {
    "duration": 12,
    "start_time": "2022-03-13T12:45:44.769Z"
   },
   {
    "duration": 9,
    "start_time": "2022-03-13T12:45:45.291Z"
   },
   {
    "duration": 6,
    "start_time": "2022-03-13T12:45:45.903Z"
   },
   {
    "duration": 6,
    "start_time": "2022-03-13T12:45:46.335Z"
   },
   {
    "duration": 9,
    "start_time": "2022-03-13T12:45:46.703Z"
   },
   {
    "duration": 7,
    "start_time": "2022-03-13T12:45:47.159Z"
   },
   {
    "duration": 5,
    "start_time": "2022-03-13T12:45:47.959Z"
   },
   {
    "duration": 18,
    "start_time": "2022-03-13T12:45:48.591Z"
   },
   {
    "duration": 401,
    "start_time": "2022-03-13T12:45:49.095Z"
   },
   {
    "duration": 287,
    "start_time": "2022-03-13T12:45:54.247Z"
   },
   {
    "duration": 19,
    "start_time": "2022-03-13T12:46:09.882Z"
   },
   {
    "duration": 34,
    "start_time": "2022-03-13T12:46:14.087Z"
   },
   {
    "duration": 20,
    "start_time": "2022-03-13T12:52:30.632Z"
   },
   {
    "duration": 35,
    "start_time": "2022-03-13T12:52:31.564Z"
   },
   {
    "duration": 7,
    "start_time": "2022-03-13T12:53:06.604Z"
   },
   {
    "duration": 6,
    "start_time": "2022-03-13T12:53:17.891Z"
   },
   {
    "duration": 30,
    "start_time": "2022-03-13T12:53:29.346Z"
   },
   {
    "duration": 13,
    "start_time": "2022-03-13T12:56:39.023Z"
   },
   {
    "duration": 5,
    "start_time": "2022-03-13T12:56:39.744Z"
   },
   {
    "duration": 10,
    "start_time": "2022-03-13T12:56:42.064Z"
   },
   {
    "duration": 4042,
    "start_time": "2022-03-13T12:56:45.296Z"
   },
   {
    "duration": 288,
    "start_time": "2022-03-13T13:01:12.421Z"
   },
   {
    "duration": 5,
    "start_time": "2022-03-13T13:01:17.822Z"
   },
   {
    "duration": 8,
    "start_time": "2022-03-13T13:03:55.900Z"
   },
   {
    "duration": 1330,
    "start_time": "2022-03-13T13:05:44.243Z"
   },
   {
    "duration": 31,
    "start_time": "2022-03-13T13:05:45.961Z"
   },
   {
    "duration": 33,
    "start_time": "2022-03-13T13:05:46.459Z"
   },
   {
    "duration": 12,
    "start_time": "2022-03-13T13:05:46.876Z"
   },
   {
    "duration": 9,
    "start_time": "2022-03-13T13:05:47.243Z"
   },
   {
    "duration": 6,
    "start_time": "2022-03-13T13:05:47.627Z"
   },
   {
    "duration": 6,
    "start_time": "2022-03-13T13:05:47.971Z"
   },
   {
    "duration": 8,
    "start_time": "2022-03-13T13:05:48.308Z"
   },
   {
    "duration": 6,
    "start_time": "2022-03-13T13:05:48.658Z"
   },
   {
    "duration": 6,
    "start_time": "2022-03-13T13:05:49.075Z"
   },
   {
    "duration": 23,
    "start_time": "2022-03-13T13:05:49.386Z"
   },
   {
    "duration": 23,
    "start_time": "2022-03-13T13:05:49.730Z"
   },
   {
    "duration": 6,
    "start_time": "2022-03-13T13:05:50.105Z"
   },
   {
    "duration": 5,
    "start_time": "2022-03-13T13:05:50.515Z"
   },
   {
    "duration": 37,
    "start_time": "2022-03-13T13:05:50.938Z"
   },
   {
    "duration": 6,
    "start_time": "2022-03-13T13:05:53.203Z"
   },
   {
    "duration": 15,
    "start_time": "2022-03-13T13:05:53.850Z"
   },
   {
    "duration": 398,
    "start_time": "2022-03-13T13:05:54.746Z"
   },
   {
    "duration": 7,
    "start_time": "2022-03-13T13:07:09.306Z"
   },
   {
    "duration": 266,
    "start_time": "2022-03-13T13:08:11.536Z"
   },
   {
    "duration": 6,
    "start_time": "2022-03-13T13:08:46.784Z"
   },
   {
    "duration": 33,
    "start_time": "2022-03-13T13:08:49.575Z"
   },
   {
    "duration": 30,
    "start_time": "2022-03-13T13:09:27.736Z"
   },
   {
    "duration": 31,
    "start_time": "2022-03-13T13:10:29.819Z"
   },
   {
    "duration": 1312,
    "start_time": "2022-03-13T13:11:26.962Z"
   },
   {
    "duration": 30,
    "start_time": "2022-03-13T13:11:28.610Z"
   },
   {
    "duration": 32,
    "start_time": "2022-03-13T13:11:28.964Z"
   },
   {
    "duration": 12,
    "start_time": "2022-03-13T13:11:29.299Z"
   },
   {
    "duration": 8,
    "start_time": "2022-03-13T13:11:29.699Z"
   },
   {
    "duration": 6,
    "start_time": "2022-03-13T13:11:30.081Z"
   },
   {
    "duration": 7,
    "start_time": "2022-03-13T13:11:30.434Z"
   },
   {
    "duration": 9,
    "start_time": "2022-03-13T13:11:30.778Z"
   },
   {
    "duration": 5,
    "start_time": "2022-03-13T13:11:31.122Z"
   },
   {
    "duration": 6,
    "start_time": "2022-03-13T13:11:31.537Z"
   },
   {
    "duration": 20,
    "start_time": "2022-03-13T13:11:31.865Z"
   },
   {
    "duration": 21,
    "start_time": "2022-03-13T13:11:32.202Z"
   },
   {
    "duration": 6,
    "start_time": "2022-03-13T13:11:32.577Z"
   },
   {
    "duration": 7,
    "start_time": "2022-03-13T13:11:33.010Z"
   },
   {
    "duration": 35,
    "start_time": "2022-03-13T13:11:33.442Z"
   },
   {
    "duration": 8,
    "start_time": "2022-03-13T13:11:35.163Z"
   },
   {
    "duration": 13,
    "start_time": "2022-03-13T13:11:36.218Z"
   },
   {
    "duration": 7,
    "start_time": "2022-03-13T13:11:36.786Z"
   },
   {
    "duration": 4,
    "start_time": "2022-03-13T13:11:38.906Z"
   },
   {
    "duration": 38,
    "start_time": "2022-03-13T13:11:39.531Z"
   },
   {
    "duration": 26,
    "start_time": "2022-03-13T13:11:57.626Z"
   },
   {
    "duration": 28,
    "start_time": "2022-03-13T13:12:00.457Z"
   },
   {
    "duration": 6,
    "start_time": "2022-03-13T13:15:24.312Z"
   },
   {
    "duration": 3632,
    "start_time": "2022-03-13T13:29:06.520Z"
   },
   {
    "duration": 49420,
    "start_time": "2022-03-13T13:29:29.622Z"
   },
   {
    "duration": 18965,
    "start_time": "2022-03-13T13:30:22.093Z"
   },
   {
    "duration": 8,
    "start_time": "2022-03-13T13:33:58.819Z"
   },
   {
    "duration": 13,
    "start_time": "2022-03-13T13:34:06.108Z"
   },
   {
    "duration": 9,
    "start_time": "2022-03-13T13:34:15.275Z"
   },
   {
    "duration": 412,
    "start_time": "2022-03-13T13:39:30.498Z"
   },
   {
    "duration": 8,
    "start_time": "2022-03-13T13:40:12.864Z"
   },
   {
    "duration": 19,
    "start_time": "2022-03-13T13:40:17.080Z"
   },
   {
    "duration": 21,
    "start_time": "2022-03-13T13:41:24.967Z"
   },
   {
    "duration": 15,
    "start_time": "2022-03-13T13:43:58.356Z"
   },
   {
    "duration": 21,
    "start_time": "2022-03-13T13:44:02.647Z"
   },
   {
    "duration": 68,
    "start_time": "2022-03-13T13:44:50.796Z"
   },
   {
    "duration": 38,
    "start_time": "2022-03-13T13:47:15.147Z"
   },
   {
    "duration": 113,
    "start_time": "2022-03-13T13:48:05.339Z"
   },
   {
    "duration": 99,
    "start_time": "2022-03-13T13:48:49.153Z"
   },
   {
    "duration": 93,
    "start_time": "2022-03-13T13:54:08.240Z"
   },
   {
    "duration": 19,
    "start_time": "2022-03-13T13:54:43.815Z"
   },
   {
    "duration": 21,
    "start_time": "2022-03-13T14:15:12.368Z"
   },
   {
    "duration": 19,
    "start_time": "2022-03-13T14:19:50.054Z"
   },
   {
    "duration": 9,
    "start_time": "2022-03-13T14:31:49.102Z"
   },
   {
    "duration": 6,
    "start_time": "2022-03-13T14:42:29.366Z"
   },
   {
    "duration": 386,
    "start_time": "2022-03-13T14:42:33.350Z"
   },
   {
    "duration": 136,
    "start_time": "2022-03-13T14:42:45.190Z"
   },
   {
    "duration": 161,
    "start_time": "2022-03-13T14:43:00.471Z"
   },
   {
    "duration": 350,
    "start_time": "2022-03-13T14:43:13.326Z"
   },
   {
    "duration": 2323,
    "start_time": "2022-03-13T14:44:07.047Z"
   },
   {
    "duration": 1409,
    "start_time": "2022-03-13T14:48:02.336Z"
   },
   {
    "duration": 244,
    "start_time": "2022-03-13T14:48:51.914Z"
   },
   {
    "duration": 250,
    "start_time": "2022-03-13T14:49:03.714Z"
   },
   {
    "duration": 8,
    "start_time": "2022-03-13T14:49:20.626Z"
   },
   {
    "duration": 1367,
    "start_time": "2022-03-13T14:53:26.495Z"
   },
   {
    "duration": 1325,
    "start_time": "2022-03-13T15:01:06.341Z"
   },
   {
    "duration": 32,
    "start_time": "2022-03-13T15:01:08.028Z"
   },
   {
    "duration": 32,
    "start_time": "2022-03-13T15:01:08.493Z"
   },
   {
    "duration": 13,
    "start_time": "2022-03-13T15:01:08.861Z"
   },
   {
    "duration": 8,
    "start_time": "2022-03-13T15:01:09.213Z"
   },
   {
    "duration": 5,
    "start_time": "2022-03-13T15:01:09.589Z"
   },
   {
    "duration": 6,
    "start_time": "2022-03-13T15:01:09.900Z"
   },
   {
    "duration": 8,
    "start_time": "2022-03-13T15:01:10.214Z"
   },
   {
    "duration": 6,
    "start_time": "2022-03-13T15:01:10.556Z"
   },
   {
    "duration": 5,
    "start_time": "2022-03-13T15:01:11.013Z"
   },
   {
    "duration": 20,
    "start_time": "2022-03-13T15:01:11.388Z"
   },
   {
    "duration": 18,
    "start_time": "2022-03-13T15:01:11.734Z"
   },
   {
    "duration": 6,
    "start_time": "2022-03-13T15:01:12.078Z"
   },
   {
    "duration": 7,
    "start_time": "2022-03-13T15:01:12.472Z"
   },
   {
    "duration": 39,
    "start_time": "2022-03-13T15:01:12.821Z"
   },
   {
    "duration": 13,
    "start_time": "2022-03-13T15:01:14.174Z"
   },
   {
    "duration": 16,
    "start_time": "2022-03-13T15:01:15.653Z"
   },
   {
    "duration": 7,
    "start_time": "2022-03-13T15:01:16.341Z"
   },
   {
    "duration": 4,
    "start_time": "2022-03-13T15:01:16.869Z"
   },
   {
    "duration": 39,
    "start_time": "2022-03-13T15:01:17.277Z"
   },
   {
    "duration": 27,
    "start_time": "2022-03-13T15:01:17.670Z"
   },
   {
    "duration": 29,
    "start_time": "2022-03-13T15:01:18.132Z"
   },
   {
    "duration": 4053,
    "start_time": "2022-03-13T15:01:18.549Z"
   },
   {
    "duration": 19662,
    "start_time": "2022-03-13T15:02:14.414Z"
   },
   {
    "duration": 50175,
    "start_time": "2022-03-13T15:02:34.080Z"
   },
   {
    "duration": 13,
    "start_time": "2022-03-13T15:03:58.667Z"
   },
   {
    "duration": 8,
    "start_time": "2022-03-13T15:03:59.331Z"
   },
   {
    "duration": 22,
    "start_time": "2022-03-13T15:03:59.788Z"
   },
   {
    "duration": 14,
    "start_time": "2022-03-13T15:04:00.931Z"
   },
   {
    "duration": 68,
    "start_time": "2022-03-13T15:04:02.471Z"
   },
   {
    "duration": 37,
    "start_time": "2022-03-13T15:04:02.542Z"
   },
   {
    "duration": 177,
    "start_time": "2022-03-13T15:04:02.582Z"
   },
   {
    "duration": 20,
    "start_time": "2022-03-13T15:04:03.442Z"
   },
   {
    "duration": 19,
    "start_time": "2022-03-13T15:04:04.267Z"
   },
   {
    "duration": 6,
    "start_time": "2022-03-13T15:04:15.085Z"
   },
   {
    "duration": 399,
    "start_time": "2022-03-13T15:04:16.091Z"
   },
   {
    "duration": 1431,
    "start_time": "2022-03-13T15:04:33.530Z"
   },
   {
    "duration": 1376,
    "start_time": "2022-03-13T15:05:40.346Z"
   },
   {
    "duration": 9,
    "start_time": "2022-03-13T15:06:11.042Z"
   },
   {
    "duration": 9,
    "start_time": "2022-03-13T15:06:18.042Z"
   },
   {
    "duration": 1388,
    "start_time": "2022-03-13T15:11:53.566Z"
   },
   {
    "duration": 1362,
    "start_time": "2022-03-13T15:12:15.310Z"
   },
   {
    "duration": 6,
    "start_time": "2022-03-13T15:14:08.325Z"
   },
   {
    "duration": 258,
    "start_time": "2022-03-13T15:15:07.612Z"
   },
   {
    "duration": 710,
    "start_time": "2022-03-13T15:15:20.420Z"
   },
   {
    "duration": 19442,
    "start_time": "2022-03-13T15:16:30.819Z"
   },
   {
    "duration": 19060,
    "start_time": "2022-03-13T15:17:06.596Z"
   },
   {
    "duration": 3770,
    "start_time": "2022-03-13T15:18:17.298Z"
   },
   {
    "duration": 52274,
    "start_time": "2022-03-13T15:18:58.962Z"
   },
   {
    "duration": 19066,
    "start_time": "2022-03-13T15:20:16.889Z"
   },
   {
    "duration": 3808,
    "start_time": "2022-03-13T15:21:36.599Z"
   },
   {
    "duration": 50241,
    "start_time": "2022-03-13T15:21:46.263Z"
   },
   {
    "duration": 19522,
    "start_time": "2022-03-13T15:22:49.240Z"
   },
   {
    "duration": 8,
    "start_time": "2022-03-13T15:23:24.431Z"
   },
   {
    "duration": 9,
    "start_time": "2022-03-13T15:23:25.542Z"
   },
   {
    "duration": 22,
    "start_time": "2022-03-13T15:23:31.894Z"
   },
   {
    "duration": 17,
    "start_time": "2022-03-13T15:23:36.989Z"
   },
   {
    "duration": 135,
    "start_time": "2022-03-13T15:23:47.590Z"
   },
   {
    "duration": 68,
    "start_time": "2022-03-13T15:23:48.213Z"
   },
   {
    "duration": 96,
    "start_time": "2022-03-13T15:23:48.661Z"
   },
   {
    "duration": 48,
    "start_time": "2022-03-13T15:23:49.414Z"
   },
   {
    "duration": 24,
    "start_time": "2022-03-13T15:23:52.958Z"
   },
   {
    "duration": 7,
    "start_time": "2022-03-13T15:24:10.318Z"
   },
   {
    "duration": 1622,
    "start_time": "2022-03-13T15:24:11.830Z"
   },
   {
    "duration": 6,
    "start_time": "2022-03-13T15:24:28.301Z"
   },
   {
    "duration": 771,
    "start_time": "2022-03-13T15:24:29.533Z"
   },
   {
    "duration": 155,
    "start_time": "2022-03-13T15:28:52.197Z"
   },
   {
    "duration": 358,
    "start_time": "2022-03-13T15:30:14.073Z"
   },
   {
    "duration": 85,
    "start_time": "2022-03-13T15:30:22.377Z"
   },
   {
    "duration": 814,
    "start_time": "2022-03-13T15:40:52.418Z"
   },
   {
    "duration": 1404,
    "start_time": "2022-03-13T15:41:13.507Z"
   },
   {
    "duration": 75,
    "start_time": "2022-03-13T15:41:24.698Z"
   },
   {
    "duration": 2099,
    "start_time": "2022-03-14T07:37:40.364Z"
   },
   {
    "duration": 23,
    "start_time": "2022-03-14T07:37:42.466Z"
   },
   {
    "duration": 77,
    "start_time": "2022-03-14T07:37:42.491Z"
   },
   {
    "duration": 8,
    "start_time": "2022-03-14T07:37:42.570Z"
   },
   {
    "duration": 30,
    "start_time": "2022-03-14T07:37:42.579Z"
   },
   {
    "duration": 4,
    "start_time": "2022-03-14T07:37:42.663Z"
   },
   {
    "duration": 27,
    "start_time": "2022-03-14T07:37:42.669Z"
   },
   {
    "duration": 16,
    "start_time": "2022-03-14T07:37:42.700Z"
   },
   {
    "duration": 5,
    "start_time": "2022-03-14T07:37:42.763Z"
   },
   {
    "duration": 19,
    "start_time": "2022-03-14T07:37:42.770Z"
   },
   {
    "duration": 73,
    "start_time": "2022-03-14T07:37:42.790Z"
   },
   {
    "duration": 13,
    "start_time": "2022-03-14T07:37:42.865Z"
   },
   {
    "duration": 17,
    "start_time": "2022-03-14T07:37:42.880Z"
   },
   {
    "duration": 60,
    "start_time": "2022-03-14T07:37:42.904Z"
   },
   {
    "duration": 40,
    "start_time": "2022-03-14T07:37:42.967Z"
   },
   {
    "duration": 60,
    "start_time": "2022-03-14T07:37:43.009Z"
   },
   {
    "duration": 17,
    "start_time": "2022-03-14T07:37:43.071Z"
   },
   {
    "duration": 19,
    "start_time": "2022-03-14T07:37:43.089Z"
   },
   {
    "duration": 18,
    "start_time": "2022-03-14T07:37:43.162Z"
   },
   {
    "duration": 89,
    "start_time": "2022-03-14T07:37:43.181Z"
   },
   {
    "duration": 17,
    "start_time": "2022-03-14T07:37:43.271Z"
   },
   {
    "duration": 75,
    "start_time": "2022-03-14T07:37:43.289Z"
   },
   {
    "duration": 5223,
    "start_time": "2022-03-14T07:37:43.366Z"
   },
   {
    "duration": 36636,
    "start_time": "2022-03-14T07:37:48.591Z"
   },
   {
    "duration": 14061,
    "start_time": "2022-03-14T07:38:25.229Z"
   },
   {
    "duration": 1757,
    "start_time": "2022-03-14T07:38:37.535Z"
   },
   {
    "duration": 1755,
    "start_time": "2022-03-14T07:38:37.537Z"
   },
   {
    "duration": 1728,
    "start_time": "2022-03-14T07:38:37.565Z"
   },
   {
    "duration": 1727,
    "start_time": "2022-03-14T07:38:37.567Z"
   },
   {
    "duration": 1726,
    "start_time": "2022-03-14T07:38:37.569Z"
   },
   {
    "duration": 1725,
    "start_time": "2022-03-14T07:38:37.570Z"
   },
   {
    "duration": 1725,
    "start_time": "2022-03-14T07:38:37.571Z"
   },
   {
    "duration": 1725,
    "start_time": "2022-03-14T07:38:37.572Z"
   },
   {
    "duration": 1724,
    "start_time": "2022-03-14T07:38:37.574Z"
   },
   {
    "duration": 1724,
    "start_time": "2022-03-14T07:38:37.575Z"
   },
   {
    "duration": 1715,
    "start_time": "2022-03-14T07:38:37.584Z"
   },
   {
    "duration": 1714,
    "start_time": "2022-03-14T07:38:37.586Z"
   },
   {
    "duration": 1713,
    "start_time": "2022-03-14T07:38:37.588Z"
   },
   {
    "duration": 1713,
    "start_time": "2022-03-14T07:38:37.589Z"
   },
   {
    "duration": 10,
    "start_time": "2022-03-14T07:39:56.445Z"
   },
   {
    "duration": 6,
    "start_time": "2022-03-14T07:39:57.167Z"
   },
   {
    "duration": 15,
    "start_time": "2022-03-14T07:39:57.623Z"
   },
   {
    "duration": 10,
    "start_time": "2022-03-14T07:39:58.003Z"
   },
   {
    "duration": 99,
    "start_time": "2022-03-14T07:39:58.385Z"
   },
   {
    "duration": 45,
    "start_time": "2022-03-14T07:39:58.766Z"
   },
   {
    "duration": 101,
    "start_time": "2022-03-14T07:39:59.165Z"
   },
   {
    "duration": 11,
    "start_time": "2022-03-14T07:39:59.605Z"
   },
   {
    "duration": 14,
    "start_time": "2022-03-14T07:40:00.475Z"
   },
   {
    "duration": 4,
    "start_time": "2022-03-14T07:40:04.924Z"
   },
   {
    "duration": 967,
    "start_time": "2022-03-14T07:40:05.166Z"
   },
   {
    "duration": 4,
    "start_time": "2022-03-14T07:40:06.135Z"
   },
   {
    "duration": 450,
    "start_time": "2022-03-14T07:40:06.141Z"
   },
   {
    "duration": 48,
    "start_time": "2022-03-14T07:40:06.852Z"
   },
   {
    "duration": 14402,
    "start_time": "2022-03-14T07:41:11.464Z"
   },
   {
    "duration": 1130,
    "start_time": "2022-03-19T09:26:23.067Z"
   },
   {
    "duration": 27,
    "start_time": "2022-03-19T09:32:02.914Z"
   },
   {
    "duration": 25,
    "start_time": "2022-03-19T09:32:03.544Z"
   },
   {
    "duration": 20,
    "start_time": "2022-03-19T09:32:03.978Z"
   },
   {
    "duration": 5,
    "start_time": "2022-03-19T09:32:04.409Z"
   },
   {
    "duration": 4,
    "start_time": "2022-03-19T09:32:04.865Z"
   },
   {
    "duration": 5,
    "start_time": "2022-03-19T09:32:05.282Z"
   },
   {
    "duration": 8,
    "start_time": "2022-03-19T09:32:05.673Z"
   },
   {
    "duration": 8,
    "start_time": "2022-03-19T09:32:08.587Z"
   },
   {
    "duration": 96,
    "start_time": "2022-03-19T10:17:25.377Z"
   },
   {
    "duration": 10,
    "start_time": "2022-03-19T10:17:32.969Z"
   },
   {
    "duration": 1205,
    "start_time": "2022-03-19T10:19:54.789Z"
   },
   {
    "duration": 32,
    "start_time": "2022-03-19T10:19:56.428Z"
   },
   {
    "duration": 21,
    "start_time": "2022-03-19T10:19:56.797Z"
   },
   {
    "duration": 13,
    "start_time": "2022-03-19T10:19:57.146Z"
   },
   {
    "duration": 5,
    "start_time": "2022-03-19T10:19:57.468Z"
   },
   {
    "duration": 4,
    "start_time": "2022-03-19T10:19:57.779Z"
   },
   {
    "duration": 5,
    "start_time": "2022-03-19T10:19:58.092Z"
   },
   {
    "duration": 6,
    "start_time": "2022-03-19T10:19:58.365Z"
   },
   {
    "duration": 4,
    "start_time": "2022-03-19T10:19:58.643Z"
   },
   {
    "duration": 13,
    "start_time": "2022-03-19T10:19:59.603Z"
   },
   {
    "duration": 13,
    "start_time": "2022-03-19T10:19:59.980Z"
   },
   {
    "duration": 4,
    "start_time": "2022-03-19T10:20:00.371Z"
   },
   {
    "duration": 5,
    "start_time": "2022-03-19T10:20:00.819Z"
   },
   {
    "duration": 23,
    "start_time": "2022-03-19T10:20:01.188Z"
   },
   {
    "duration": 5,
    "start_time": "2022-03-19T10:20:03.228Z"
   },
   {
    "duration": 11,
    "start_time": "2022-03-19T10:20:03.619Z"
   },
   {
    "duration": 4,
    "start_time": "2022-03-19T10:20:04.156Z"
   },
   {
    "duration": 3,
    "start_time": "2022-03-19T10:20:06.547Z"
   },
   {
    "duration": 26,
    "start_time": "2022-03-19T10:20:06.916Z"
   },
   {
    "duration": 20,
    "start_time": "2022-03-19T10:20:07.292Z"
   },
   {
    "duration": 19,
    "start_time": "2022-03-19T10:20:07.652Z"
   },
   {
    "duration": 105,
    "start_time": "2022-03-19T10:20:10.188Z"
   },
   {
    "duration": 17,
    "start_time": "2022-03-19T10:23:00.473Z"
   },
   {
    "duration": 12,
    "start_time": "2022-03-19T10:31:00.851Z"
   },
   {
    "duration": 8,
    "start_time": "2022-03-19T10:31:08.008Z"
   },
   {
    "duration": 8,
    "start_time": "2022-03-19T10:31:33.164Z"
   },
   {
    "duration": 13,
    "start_time": "2022-03-19T10:31:35.908Z"
   },
   {
    "duration": 13,
    "start_time": "2022-03-19T10:31:41.748Z"
   },
   {
    "duration": 17,
    "start_time": "2022-03-19T10:31:52.804Z"
   },
   {
    "duration": 1180,
    "start_time": "2022-03-19T10:32:07.621Z"
   },
   {
    "duration": 27,
    "start_time": "2022-03-19T10:32:13.630Z"
   },
   {
    "duration": 21,
    "start_time": "2022-03-19T10:32:14.084Z"
   },
   {
    "duration": 12,
    "start_time": "2022-03-19T10:32:14.454Z"
   },
   {
    "duration": 5,
    "start_time": "2022-03-19T10:32:14.821Z"
   },
   {
    "duration": 4,
    "start_time": "2022-03-19T10:32:15.173Z"
   },
   {
    "duration": 4,
    "start_time": "2022-03-19T10:32:15.558Z"
   },
   {
    "duration": 6,
    "start_time": "2022-03-19T10:32:15.933Z"
   },
   {
    "duration": 4,
    "start_time": "2022-03-19T10:32:16.773Z"
   },
   {
    "duration": 9,
    "start_time": "2022-03-19T10:32:17.213Z"
   },
   {
    "duration": 12,
    "start_time": "2022-03-19T10:32:18.205Z"
   },
   {
    "duration": 14,
    "start_time": "2022-03-19T10:32:18.606Z"
   },
   {
    "duration": 5,
    "start_time": "2022-03-19T10:32:19.006Z"
   },
   {
    "duration": 5,
    "start_time": "2022-03-19T10:32:19.445Z"
   },
   {
    "duration": 20,
    "start_time": "2022-03-19T10:32:19.837Z"
   },
   {
    "duration": 6,
    "start_time": "2022-03-19T10:32:21.710Z"
   },
   {
    "duration": 10,
    "start_time": "2022-03-19T10:32:22.133Z"
   },
   {
    "duration": 5,
    "start_time": "2022-03-19T10:32:22.654Z"
   },
   {
    "duration": 3,
    "start_time": "2022-03-19T10:32:23.581Z"
   },
   {
    "duration": 28,
    "start_time": "2022-03-19T10:32:23.869Z"
   },
   {
    "duration": 18,
    "start_time": "2022-03-19T10:32:24.318Z"
   },
   {
    "duration": 27,
    "start_time": "2022-03-19T10:32:24.773Z"
   },
   {
    "duration": 139,
    "start_time": "2022-03-19T10:32:25.943Z"
   },
   {
    "duration": 40,
    "start_time": "2022-03-19T10:36:59.866Z"
   },
   {
    "duration": 37,
    "start_time": "2022-03-19T10:38:07.803Z"
   },
   {
    "duration": 39,
    "start_time": "2022-03-19T10:38:16.649Z"
   },
   {
    "duration": 45,
    "start_time": "2022-03-19T10:38:24.592Z"
   },
   {
    "duration": 46,
    "start_time": "2022-03-19T10:39:12.945Z"
   },
   {
    "duration": 49,
    "start_time": "2022-03-19T10:39:26.529Z"
   },
   {
    "duration": 36,
    "start_time": "2022-03-19T10:39:40.984Z"
   },
   {
    "duration": 40,
    "start_time": "2022-03-19T10:52:48.786Z"
   },
   {
    "duration": 38,
    "start_time": "2022-03-19T10:57:05.406Z"
   },
   {
    "duration": 37,
    "start_time": "2022-03-19T10:59:13.725Z"
   },
   {
    "duration": 688,
    "start_time": "2022-03-19T11:00:35.260Z"
   },
   {
    "duration": 56,
    "start_time": "2022-03-19T11:02:52.658Z"
   },
   {
    "duration": 672,
    "start_time": "2022-03-19T11:04:47.241Z"
   },
   {
    "duration": 90,
    "start_time": "2022-03-19T11:04:48.625Z"
   },
   {
    "duration": 38,
    "start_time": "2022-03-19T11:04:53.936Z"
   },
   {
    "duration": 38,
    "start_time": "2022-03-19T11:05:04.473Z"
   },
   {
    "duration": 705,
    "start_time": "2022-03-19T11:05:16.128Z"
   },
   {
    "duration": 37,
    "start_time": "2022-03-19T11:05:18.874Z"
   },
   {
    "duration": 38,
    "start_time": "2022-03-19T11:05:21.297Z"
   },
   {
    "duration": 28,
    "start_time": "2022-03-19T11:06:01.889Z"
   },
   {
    "duration": 37,
    "start_time": "2022-03-19T11:06:06.303Z"
   },
   {
    "duration": 1113,
    "start_time": "2022-03-19T11:06:21.571Z"
   },
   {
    "duration": 28,
    "start_time": "2022-03-19T11:06:23.091Z"
   },
   {
    "duration": 24,
    "start_time": "2022-03-19T11:06:23.522Z"
   },
   {
    "duration": 13,
    "start_time": "2022-03-19T11:06:23.923Z"
   },
   {
    "duration": 6,
    "start_time": "2022-03-19T11:06:24.290Z"
   },
   {
    "duration": 4,
    "start_time": "2022-03-19T11:06:24.634Z"
   },
   {
    "duration": 5,
    "start_time": "2022-03-19T11:06:25.002Z"
   },
   {
    "duration": 6,
    "start_time": "2022-03-19T11:06:25.315Z"
   },
   {
    "duration": 5,
    "start_time": "2022-03-19T11:06:25.666Z"
   },
   {
    "duration": 9,
    "start_time": "2022-03-19T11:06:26.025Z"
   },
   {
    "duration": 12,
    "start_time": "2022-03-19T11:06:27.066Z"
   },
   {
    "duration": 14,
    "start_time": "2022-03-19T11:06:27.571Z"
   },
   {
    "duration": 5,
    "start_time": "2022-03-19T11:06:27.955Z"
   },
   {
    "duration": 6,
    "start_time": "2022-03-19T11:06:28.402Z"
   },
   {
    "duration": 19,
    "start_time": "2022-03-19T11:06:28.866Z"
   },
   {
    "duration": 5,
    "start_time": "2022-03-19T11:06:30.451Z"
   },
   {
    "duration": 10,
    "start_time": "2022-03-19T11:06:30.923Z"
   },
   {
    "duration": 4,
    "start_time": "2022-03-19T11:06:31.346Z"
   },
   {
    "duration": 3,
    "start_time": "2022-03-19T11:06:32.288Z"
   },
   {
    "duration": 26,
    "start_time": "2022-03-19T11:06:32.722Z"
   },
   {
    "duration": 19,
    "start_time": "2022-03-19T11:06:33.418Z"
   },
   {
    "duration": 17,
    "start_time": "2022-03-19T11:06:34.484Z"
   },
   {
    "duration": 127,
    "start_time": "2022-03-19T11:06:35.457Z"
   },
   {
    "duration": 36,
    "start_time": "2022-03-19T11:06:40.731Z"
   },
   {
    "duration": 688,
    "start_time": "2022-03-19T11:06:43.634Z"
   },
   {
    "duration": 133,
    "start_time": "2022-03-19T11:06:46.882Z"
   },
   {
    "duration": 5,
    "start_time": "2022-03-19T11:06:53.154Z"
   },
   {
    "duration": 5,
    "start_time": "2022-03-19T11:06:55.346Z"
   },
   {
    "duration": 16,
    "start_time": "2022-03-19T11:06:57.162Z"
   },
   {
    "duration": 7,
    "start_time": "2022-03-19T11:10:18.734Z"
   },
   {
    "duration": 7,
    "start_time": "2022-03-19T11:10:19.839Z"
   },
   {
    "duration": 4,
    "start_time": "2022-03-19T11:10:25.049Z"
   },
   {
    "duration": 104,
    "start_time": "2022-03-19T11:11:00.775Z"
   },
   {
    "duration": 919,
    "start_time": "2022-03-19T11:11:06.103Z"
   },
   {
    "duration": 912,
    "start_time": "2022-03-19T11:14:30.301Z"
   },
   {
    "duration": 69,
    "start_time": "2022-03-19T11:15:45.349Z"
   },
   {
    "duration": 838,
    "start_time": "2022-03-19T11:15:51.293Z"
   },
   {
    "duration": 848,
    "start_time": "2022-03-19T11:16:13.724Z"
   },
   {
    "duration": 880,
    "start_time": "2022-03-19T11:16:33.708Z"
   },
   {
    "duration": 819,
    "start_time": "2022-03-19T11:16:55.644Z"
   },
   {
    "duration": 900,
    "start_time": "2022-03-19T11:25:13.131Z"
   },
   {
    "duration": 901,
    "start_time": "2022-03-19T11:25:24.292Z"
   },
   {
    "duration": 913,
    "start_time": "2022-03-19T11:25:30.149Z"
   },
   {
    "duration": 10,
    "start_time": "2022-03-19T11:25:54.428Z"
   },
   {
    "duration": 4,
    "start_time": "2022-03-19T11:25:57.700Z"
   },
   {
    "duration": 447,
    "start_time": "2022-03-19T11:25:58.820Z"
   },
   {
    "duration": 60,
    "start_time": "2022-03-19T11:26:38.972Z"
   },
   {
    "duration": 451,
    "start_time": "2022-03-19T11:26:47.364Z"
   },
   {
    "duration": 922,
    "start_time": "2022-03-19T11:27:03.236Z"
   },
   {
    "duration": 50,
    "start_time": "2022-03-19T11:27:17.084Z"
   },
   {
    "duration": 34,
    "start_time": "2022-03-19T11:35:43.386Z"
   },
   {
    "duration": 511,
    "start_time": "2022-03-19T11:36:25.742Z"
   },
   {
    "duration": 397,
    "start_time": "2022-03-19T11:36:47.422Z"
   },
   {
    "duration": 65,
    "start_time": "2022-03-19T11:37:06.082Z"
   },
   {
    "duration": 416,
    "start_time": "2022-03-19T11:38:13.219Z"
   },
   {
    "duration": 26,
    "start_time": "2022-03-19T11:39:02.052Z"
   },
   {
    "duration": 165,
    "start_time": "2022-03-19T11:40:43.947Z"
   },
   {
    "duration": 51,
    "start_time": "2022-03-19T11:41:00.010Z"
   },
   {
    "duration": 45,
    "start_time": "2022-03-19T11:41:00.976Z"
   },
   {
    "duration": 426,
    "start_time": "2022-03-19T11:41:08.387Z"
   },
   {
    "duration": 27,
    "start_time": "2022-03-19T11:41:09.841Z"
   },
   {
    "duration": 122,
    "start_time": "2022-03-19T11:41:48.387Z"
   },
   {
    "duration": 52,
    "start_time": "2022-03-19T11:44:05.838Z"
   },
   {
    "duration": 206,
    "start_time": "2022-03-19T11:44:06.304Z"
   },
   {
    "duration": 4,
    "start_time": "2022-03-19T11:44:07.000Z"
   },
   {
    "duration": 381,
    "start_time": "2022-03-19T11:44:07.489Z"
   },
   {
    "duration": 27,
    "start_time": "2022-03-19T11:44:07.982Z"
   },
   {
    "duration": 83,
    "start_time": "2022-03-19T11:44:08.630Z"
   },
   {
    "duration": 393,
    "start_time": "2022-03-19T11:51:55.179Z"
   },
   {
    "duration": 327,
    "start_time": "2022-03-19T11:52:49.962Z"
   },
   {
    "duration": 409,
    "start_time": "2022-03-19T11:53:02.897Z"
   },
   {
    "duration": 992,
    "start_time": "2022-03-19T11:54:08.122Z"
   },
   {
    "duration": 57,
    "start_time": "2022-03-19T11:54:10.689Z"
   },
   {
    "duration": 56,
    "start_time": "2022-03-19T11:54:13.297Z"
   },
   {
    "duration": 146,
    "start_time": "2022-03-19T11:54:20.762Z"
   },
   {
    "duration": 4,
    "start_time": "2022-03-19T11:54:22.162Z"
   },
   {
    "duration": 404,
    "start_time": "2022-03-19T11:54:23.440Z"
   },
   {
    "duration": 386,
    "start_time": "2022-03-19T12:01:46.596Z"
   },
   {
    "duration": 387,
    "start_time": "2022-03-19T12:03:45.369Z"
   },
   {
    "duration": 1058,
    "start_time": "2022-03-19T12:04:25.377Z"
   },
   {
    "duration": 60,
    "start_time": "2022-03-19T12:07:08.599Z"
   },
   {
    "duration": 1283,
    "start_time": "2022-03-19T14:26:31.600Z"
   },
   {
    "duration": 29,
    "start_time": "2022-03-19T14:26:32.885Z"
   },
   {
    "duration": 21,
    "start_time": "2022-03-19T14:26:32.916Z"
   },
   {
    "duration": 13,
    "start_time": "2022-03-19T14:26:32.939Z"
   },
   {
    "duration": 10,
    "start_time": "2022-03-19T14:26:32.954Z"
   },
   {
    "duration": 5,
    "start_time": "2022-03-19T14:26:32.966Z"
   },
   {
    "duration": 6,
    "start_time": "2022-03-19T14:26:32.973Z"
   },
   {
    "duration": 7,
    "start_time": "2022-03-19T14:26:32.981Z"
   },
   {
    "duration": 4,
    "start_time": "2022-03-19T14:26:32.989Z"
   },
   {
    "duration": 11,
    "start_time": "2022-03-19T14:26:32.994Z"
   },
   {
    "duration": 11,
    "start_time": "2022-03-19T14:26:33.006Z"
   },
   {
    "duration": 49,
    "start_time": "2022-03-19T14:26:33.019Z"
   },
   {
    "duration": 7,
    "start_time": "2022-03-19T14:26:33.070Z"
   },
   {
    "duration": 5,
    "start_time": "2022-03-19T14:26:33.080Z"
   },
   {
    "duration": 19,
    "start_time": "2022-03-19T14:26:33.087Z"
   },
   {
    "duration": 4,
    "start_time": "2022-03-19T14:26:33.108Z"
   },
   {
    "duration": 8,
    "start_time": "2022-03-19T14:26:33.114Z"
   },
   {
    "duration": 5,
    "start_time": "2022-03-19T14:26:33.123Z"
   },
   {
    "duration": 3,
    "start_time": "2022-03-19T14:26:33.129Z"
   },
   {
    "duration": 49,
    "start_time": "2022-03-19T14:26:33.133Z"
   },
   {
    "duration": 18,
    "start_time": "2022-03-19T14:26:33.184Z"
   },
   {
    "duration": 20,
    "start_time": "2022-03-19T14:26:33.203Z"
   },
   {
    "duration": 70,
    "start_time": "2022-03-19T14:26:33.225Z"
   },
   {
    "duration": 663,
    "start_time": "2022-03-19T14:26:33.297Z"
   },
   {
    "duration": 103,
    "start_time": "2022-03-19T14:26:33.962Z"
   },
   {
    "duration": 96,
    "start_time": "2022-03-19T14:26:34.070Z"
   },
   {
    "duration": 5,
    "start_time": "2022-03-19T14:26:34.168Z"
   },
   {
    "duration": 7,
    "start_time": "2022-03-19T14:26:34.174Z"
   },
   {
    "duration": 904,
    "start_time": "2022-03-19T14:26:34.183Z"
   },
   {
    "duration": 46,
    "start_time": "2022-03-19T14:26:35.088Z"
   },
   {
    "duration": 127,
    "start_time": "2022-03-19T14:26:35.136Z"
   },
   {
    "duration": 14,
    "start_time": "2022-03-19T14:26:35.266Z"
   },
   {
    "duration": 441,
    "start_time": "2022-03-19T14:26:35.282Z"
   },
   {
    "duration": 25,
    "start_time": "2022-03-19T14:26:35.725Z"
   },
   {
    "duration": 116,
    "start_time": "2022-03-19T14:26:35.751Z"
   },
   {
    "duration": 953,
    "start_time": "2022-03-19T14:26:35.962Z"
   }
  ],
  "kernelspec": {
   "display_name": "Python 3 (ipykernel)",
   "language": "python",
   "name": "python3"
  },
  "language_info": {
   "codemirror_mode": {
    "name": "ipython",
    "version": 3
   },
   "file_extension": ".py",
   "mimetype": "text/x-python",
   "name": "python",
   "nbconvert_exporter": "python",
   "pygments_lexer": "ipython3",
   "version": "3.9.12"
  },
  "toc": {
   "base_numbering": 1,
   "nav_menu": {},
   "number_sections": true,
   "sideBar": true,
   "skip_h1_title": true,
   "title_cell": "Содержание",
   "title_sidebar": "Contents",
   "toc_cell": true,
   "toc_position": {},
   "toc_section_display": true,
   "toc_window_display": true
  }
 },
 "nbformat": 4,
 "nbformat_minor": 2
}
