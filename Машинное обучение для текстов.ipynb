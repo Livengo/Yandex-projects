{
 "cells": [
  {
   "cell_type": "markdown",
   "metadata": {},
   "source": [
    "# Проект для «Викишоп»"
   ]
  },
  {
   "cell_type": "markdown",
   "metadata": {},
   "source": [
    "Интернет-магазин «Викишоп» запускает новый сервис. Теперь пользователи могут редактировать и дополнять описания товаров, как в вики-сообществах. То есть клиенты предлагают свои правки и комментируют изменения других. Магазину нужен инструмент, который будет искать токсичные комментарии и отправлять их на модерацию. \n",
    "\n",
    "Обучим модель классифицировать комментарии на позитивные и негативные. В нашем распоряжении набор данных с разметкой о токсичности правок.\n",
    "\n",
    "Построим модель со значением метрики качества *F1* не меньше 0.75. \n",
    "\n",
    "**Описание данных**\n",
    "\n",
    "Данные находятся в файле `toxic_comments.csv`. Столбец *text* в нём содержит текст комментария, а *toxic* — целевой признак."
   ]
  },
  {
   "cell_type": "markdown",
   "metadata": {},
   "source": [
    "## Подготовка"
   ]
  },
  {
   "cell_type": "code",
   "execution_count": 1,
   "metadata": {},
   "outputs": [
    {
     "name": "stderr",
     "output_type": "stream",
     "text": [
      "[nltk_data] Downloading package stopwords to /home/jovyan/nltk_data...\n",
      "[nltk_data]   Package stopwords is already up-to-date!\n"
     ]
    }
   ],
   "source": [
    "#Импортируем необходимые библиотеки\n",
    "import pandas as pd\n",
    "import numpy as np\n",
    "\n",
    "import pymorphy2\n",
    "from pymystem3 import Mystem\n",
    "import re\n",
    "\n",
    "from sklearn.feature_extraction.text import CountVectorizer, TfidfVectorizer\n",
    "from sklearn.linear_model import LogisticRegression, SGDClassifier\n",
    "from sklearn.ensemble import RandomForestClassifier\n",
    "from sklearn.tree import DecisionTreeClassifier\n",
    "\n",
    "from sklearn.model_selection import train_test_split, GridSearchCV\n",
    "from sklearn.metrics import f1_score\n",
    "from sklearn.utils import shuffle\n",
    "\n",
    "import nltk\n",
    "from nltk.corpus import stopwords as nltk_stopwords\n",
    "nltk.download('stopwords')\n",
    "stopwords = set(nltk_stopwords.words('english'))\n",
    "\n",
    "import warnings\n",
    "warnings.filterwarnings('ignore')"
   ]
  },
  {
   "cell_type": "code",
   "execution_count": 2,
   "metadata": {},
   "outputs": [
    {
     "data": {
      "text/html": [
       "<div>\n",
       "<style scoped>\n",
       "    .dataframe tbody tr th:only-of-type {\n",
       "        vertical-align: middle;\n",
       "    }\n",
       "\n",
       "    .dataframe tbody tr th {\n",
       "        vertical-align: top;\n",
       "    }\n",
       "\n",
       "    .dataframe thead th {\n",
       "        text-align: right;\n",
       "    }\n",
       "</style>\n",
       "<table border=\"1\" class=\"dataframe\">\n",
       "  <thead>\n",
       "    <tr style=\"text-align: right;\">\n",
       "      <th></th>\n",
       "      <th>text</th>\n",
       "      <th>toxic</th>\n",
       "    </tr>\n",
       "  </thead>\n",
       "  <tbody>\n",
       "    <tr>\n",
       "      <th>0</th>\n",
       "      <td>Explanation\\nWhy the edits made under my usern...</td>\n",
       "      <td>0</td>\n",
       "    </tr>\n",
       "    <tr>\n",
       "      <th>1</th>\n",
       "      <td>D'aww! He matches this background colour I'm s...</td>\n",
       "      <td>0</td>\n",
       "    </tr>\n",
       "    <tr>\n",
       "      <th>2</th>\n",
       "      <td>Hey man, I'm really not trying to edit war. It...</td>\n",
       "      <td>0</td>\n",
       "    </tr>\n",
       "    <tr>\n",
       "      <th>3</th>\n",
       "      <td>\"\\nMore\\nI can't make any real suggestions on ...</td>\n",
       "      <td>0</td>\n",
       "    </tr>\n",
       "    <tr>\n",
       "      <th>4</th>\n",
       "      <td>You, sir, are my hero. Any chance you remember...</td>\n",
       "      <td>0</td>\n",
       "    </tr>\n",
       "    <tr>\n",
       "      <th>5</th>\n",
       "      <td>\"\\n\\nCongratulations from me as well, use the ...</td>\n",
       "      <td>0</td>\n",
       "    </tr>\n",
       "    <tr>\n",
       "      <th>6</th>\n",
       "      <td>COCKSUCKER BEFORE YOU PISS AROUND ON MY WORK</td>\n",
       "      <td>1</td>\n",
       "    </tr>\n",
       "    <tr>\n",
       "      <th>7</th>\n",
       "      <td>Your vandalism to the Matt Shirvington article...</td>\n",
       "      <td>0</td>\n",
       "    </tr>\n",
       "    <tr>\n",
       "      <th>8</th>\n",
       "      <td>Sorry if the word 'nonsense' was offensive to ...</td>\n",
       "      <td>0</td>\n",
       "    </tr>\n",
       "    <tr>\n",
       "      <th>9</th>\n",
       "      <td>alignment on this subject and which are contra...</td>\n",
       "      <td>0</td>\n",
       "    </tr>\n",
       "  </tbody>\n",
       "</table>\n",
       "</div>"
      ],
      "text/plain": [
       "                                                text  toxic\n",
       "0  Explanation\\nWhy the edits made under my usern...      0\n",
       "1  D'aww! He matches this background colour I'm s...      0\n",
       "2  Hey man, I'm really not trying to edit war. It...      0\n",
       "3  \"\\nMore\\nI can't make any real suggestions on ...      0\n",
       "4  You, sir, are my hero. Any chance you remember...      0\n",
       "5  \"\\n\\nCongratulations from me as well, use the ...      0\n",
       "6       COCKSUCKER BEFORE YOU PISS AROUND ON MY WORK      1\n",
       "7  Your vandalism to the Matt Shirvington article...      0\n",
       "8  Sorry if the word 'nonsense' was offensive to ...      0\n",
       "9  alignment on this subject and which are contra...      0"
      ]
     },
     "execution_count": 2,
     "metadata": {},
     "output_type": "execute_result"
    }
   ],
   "source": [
    "#Откроем файл и изучим первые 10 строк\n",
    "df = pd.read_csv('/datasets/toxic_comments.csv')\n",
    "df.head(10)"
   ]
  },
  {
   "cell_type": "code",
   "execution_count": 3,
   "metadata": {},
   "outputs": [
    {
     "name": "stdout",
     "output_type": "stream",
     "text": [
      "<class 'pandas.core.frame.DataFrame'>\n",
      "RangeIndex: 159571 entries, 0 to 159570\n",
      "Data columns (total 2 columns):\n",
      " #   Column  Non-Null Count   Dtype \n",
      "---  ------  --------------   ----- \n",
      " 0   text    159571 non-null  object\n",
      " 1   toxic   159571 non-null  int64 \n",
      "dtypes: int64(1), object(1)\n",
      "memory usage: 2.4+ MB\n"
     ]
    }
   ],
   "source": [
    "#Изучим данные\n",
    "df.info()"
   ]
  },
  {
   "cell_type": "code",
   "execution_count": 4,
   "metadata": {},
   "outputs": [
    {
     "data": {
      "text/plain": [
       "0"
      ]
     },
     "execution_count": 4,
     "metadata": {},
     "output_type": "execute_result"
    }
   ],
   "source": [
    "#Проверим количество дубликатов\n",
    "df.duplicated().sum()"
   ]
  },
  {
   "cell_type": "code",
   "execution_count": 5,
   "metadata": {},
   "outputs": [
    {
     "data": {
      "text/plain": [
       "0    143346\n",
       "1     16225\n",
       "Name: toxic, dtype: int64"
      ]
     },
     "execution_count": 5,
     "metadata": {},
     "output_type": "execute_result"
    }
   ],
   "source": [
    "#Проверим количество значений столбца 'toxic'\n",
    "df['toxic'].value_counts()"
   ]
  },
  {
   "cell_type": "code",
   "execution_count": 6,
   "metadata": {},
   "outputs": [
    {
     "data": {
      "text/plain": [
       "0.1131876717871444"
      ]
     },
     "execution_count": 6,
     "metadata": {},
     "output_type": "execute_result"
    }
   ],
   "source": [
    "#Посмотрим отношение значений столбца 'toxic'\n",
    "df['toxic'].value_counts()[1] / df['toxic'].value_counts()[0]"
   ]
  },
  {
   "cell_type": "code",
   "execution_count": 7,
   "metadata": {},
   "outputs": [],
   "source": [
    "#Напишем функцию лемматизации с регулярными выражениями\n",
    "m = Mystem() \n",
    "\n",
    "def lemmatize(text):\n",
    "    text = text.lower()\n",
    "    corpus = ''.join(m.lemmatize(text))\n",
    "    text = re.sub(r'[^a-zA-Z]', ' ', text)\n",
    "    text = ' '.join(text.split()) \n",
    "    return text"
   ]
  },
  {
   "cell_type": "code",
   "execution_count": 8,
   "metadata": {},
   "outputs": [],
   "source": [
    "#Применим функцию к новом столбцу 'lemm_text' и удалим старый столбец 'text'\n",
    "df['lemm_text'] = df['text'].apply(lemmatize)\n",
    "df = df.drop('text', axis=1)"
   ]
  },
  {
   "cell_type": "code",
   "execution_count": 9,
   "metadata": {},
   "outputs": [
    {
     "data": {
      "text/html": [
       "<div>\n",
       "<style scoped>\n",
       "    .dataframe tbody tr th:only-of-type {\n",
       "        vertical-align: middle;\n",
       "    }\n",
       "\n",
       "    .dataframe tbody tr th {\n",
       "        vertical-align: top;\n",
       "    }\n",
       "\n",
       "    .dataframe thead th {\n",
       "        text-align: right;\n",
       "    }\n",
       "</style>\n",
       "<table border=\"1\" class=\"dataframe\">\n",
       "  <thead>\n",
       "    <tr style=\"text-align: right;\">\n",
       "      <th></th>\n",
       "      <th>toxic</th>\n",
       "      <th>lemm_text</th>\n",
       "    </tr>\n",
       "  </thead>\n",
       "  <tbody>\n",
       "    <tr>\n",
       "      <th>0</th>\n",
       "      <td>0</td>\n",
       "      <td>explanation why the edits made under my userna...</td>\n",
       "    </tr>\n",
       "    <tr>\n",
       "      <th>1</th>\n",
       "      <td>0</td>\n",
       "      <td>d aww he matches this background colour i m se...</td>\n",
       "    </tr>\n",
       "    <tr>\n",
       "      <th>2</th>\n",
       "      <td>0</td>\n",
       "      <td>hey man i m really not trying to edit war it s...</td>\n",
       "    </tr>\n",
       "    <tr>\n",
       "      <th>3</th>\n",
       "      <td>0</td>\n",
       "      <td>more i can t make any real suggestions on impr...</td>\n",
       "    </tr>\n",
       "    <tr>\n",
       "      <th>4</th>\n",
       "      <td>0</td>\n",
       "      <td>you sir are my hero any chance you remember wh...</td>\n",
       "    </tr>\n",
       "    <tr>\n",
       "      <th>5</th>\n",
       "      <td>0</td>\n",
       "      <td>congratulations from me as well use the tools ...</td>\n",
       "    </tr>\n",
       "    <tr>\n",
       "      <th>6</th>\n",
       "      <td>1</td>\n",
       "      <td>cocksucker before you piss around on my work</td>\n",
       "    </tr>\n",
       "    <tr>\n",
       "      <th>7</th>\n",
       "      <td>0</td>\n",
       "      <td>your vandalism to the matt shirvington article...</td>\n",
       "    </tr>\n",
       "    <tr>\n",
       "      <th>8</th>\n",
       "      <td>0</td>\n",
       "      <td>sorry if the word nonsense was offensive to yo...</td>\n",
       "    </tr>\n",
       "    <tr>\n",
       "      <th>9</th>\n",
       "      <td>0</td>\n",
       "      <td>alignment on this subject and which are contra...</td>\n",
       "    </tr>\n",
       "  </tbody>\n",
       "</table>\n",
       "</div>"
      ],
      "text/plain": [
       "   toxic                                          lemm_text\n",
       "0      0  explanation why the edits made under my userna...\n",
       "1      0  d aww he matches this background colour i m se...\n",
       "2      0  hey man i m really not trying to edit war it s...\n",
       "3      0  more i can t make any real suggestions on impr...\n",
       "4      0  you sir are my hero any chance you remember wh...\n",
       "5      0  congratulations from me as well use the tools ...\n",
       "6      1       cocksucker before you piss around on my work\n",
       "7      0  your vandalism to the matt shirvington article...\n",
       "8      0  sorry if the word nonsense was offensive to yo...\n",
       "9      0  alignment on this subject and which are contra..."
      ]
     },
     "execution_count": 9,
     "metadata": {},
     "output_type": "execute_result"
    }
   ],
   "source": [
    "#Проверим изменения\n",
    "df.head(10)"
   ]
  },
  {
   "cell_type": "markdown",
   "metadata": {},
   "source": [
    "### Вывод"
   ]
  },
  {
   "cell_type": "markdown",
   "metadata": {},
   "source": [
    "С данными всё в порядке, дубликатов нет. Была проведена лемматизация и очистка текста с помощью регулярных выражений. В значениях столбца 'toxic' присутствует дисбаланс (значения '1' встречаются реже значения '0' примерно в 10 раз), что может плохо сказаться на обучении моделей."
   ]
  },
  {
   "cell_type": "markdown",
   "metadata": {},
   "source": [
    "## Обучение"
   ]
  },
  {
   "cell_type": "code",
   "execution_count": 10,
   "metadata": {},
   "outputs": [],
   "source": [
    "#Выделим признаки и разделим данные на тренировочную, валидационную и тестовую выборки\n",
    "X = df.drop('toxic', axis=1)\n",
    "y = df['toxic']\n",
    "X_train, X_valid, y_train, y_valid = train_test_split(X, y, test_size=0.4, random_state=12345)\n",
    "X_valid, X_test, y_valid, y_test = train_test_split(X_valid, y_valid, test_size=0.5, random_state=12345)"
   ]
  },
  {
   "cell_type": "code",
   "execution_count": 11,
   "metadata": {},
   "outputs": [
    {
     "name": "stdout",
     "output_type": "stream",
     "text": [
      "X_train: (95742, 1)\n",
      "X_valid: (31914, 1)\n",
      "X_test: (31915, 1)\n"
     ]
    }
   ],
   "source": [
    "#Проверим размеры выборок\n",
    "print('X_train:', X_train.shape)\n",
    "print('X_valid:', X_valid.shape)\n",
    "print('X_test:', X_test.shape)"
   ]
  },
  {
   "cell_type": "code",
   "execution_count": 12,
   "metadata": {},
   "outputs": [
    {
     "name": "stdout",
     "output_type": "stream",
     "text": [
      "X_train: (95742, 125610)\n",
      "X_valid: (31914, 125610)\n",
      "X_test: (31915, 125610)\n"
     ]
    }
   ],
   "source": [
    "#Найдём величину TF-IDF и применим её к нашим выборкам\n",
    "count_tf_idf = TfidfVectorizer(stop_words=stopwords)\n",
    "X_train = count_tf_idf.fit_transform(X_train['lemm_text'].values.astype('U'))\n",
    "X_valid = count_tf_idf.transform(X_valid['lemm_text'].values.astype('U'))\n",
    "X_test = count_tf_idf.transform(X_test['lemm_text'].values.astype('U'))\n",
    "print('X_train:', X_train.shape)\n",
    "print('X_valid:', X_valid.shape)\n",
    "print('X_test:', X_test.shape)"
   ]
  },
  {
   "cell_type": "code",
   "execution_count": 13,
   "metadata": {},
   "outputs": [],
   "source": [
    "#Применим downsampling: напишем функцию для уменьшения дисбаланса классов\n",
    "def downsample(features, target, fraction):\n",
    "    target_zeros = target[target == 0]\n",
    "    target_ones = target[target == 1]\n",
    "    target_zeros_downsample = target_zeros.sample(frac=fraction, random_state=12345)\n",
    "    target_downsampled = pd.concat([target_zeros_downsample, target_ones])\n",
    "    features_downsampled = df.iloc[target_downsampled.index]\n",
    "    features_downsampled, target_downsampled = shuffle(features_downsampled, target_downsampled, random_state=12345)\n",
    "    features_downsampled = count_tf_idf.transform(features_downsampled['lemm_text'].values.astype('U'))\n",
    "    return features_downsampled, target_downsampled"
   ]
  },
  {
   "cell_type": "code",
   "execution_count": 14,
   "metadata": {},
   "outputs": [],
   "source": [
    "#Применим функцию, но возьмём fraction = 0.5, поскольку соотношение положительных и отрицательных комментариев не должно \n",
    "#быть одинаковым\n",
    "X_downsampled_train, y_downsampled_train = downsample(X_train, y_train, 0.5)"
   ]
  },
  {
   "cell_type": "code",
   "execution_count": 15,
   "metadata": {},
   "outputs": [
    {
     "name": "stdout",
     "output_type": "stream",
     "text": [
      "{'C': 5, 'class_weight': 'balanced', 'random_state': 12345, 'solver': 'newton-cg'}\n"
     ]
    }
   ],
   "source": [
    "#Для LogisticRegression найдём лучшие параметры, которые будут использованы на тестовой выборке и обучим модель \n",
    "parameters_log_reg = {'class_weight': ['balanced', None], 'random_state': [12345],\n",
    "                      'C':[0.1, 1, 5], 'solver':['newton-cg', 'lbfgs', 'liblinear']}                   \n",
    "model_log_reg = LogisticRegression()\n",
    "grid_log_reg = GridSearchCV(estimator=model_log_reg, scoring='f1', param_grid=parameters_log_reg, cv=5)\n",
    "grid_log_reg.fit(X_downsampled_train, y_downsampled_train)\n",
    "predicted_y = grid_log_reg.predict(X_valid)\n",
    "log_reg_best_params = grid_log_reg.best_params_\n",
    "print(log_reg_best_params)"
   ]
  },
  {
   "cell_type": "code",
   "execution_count": 16,
   "metadata": {},
   "outputs": [
    {
     "name": "stdout",
     "output_type": "stream",
     "text": [
      "{'eta0': 0.1, 'learning_rate': 'constant', 'loss': 'modified_huber', 'n_jobs': -1, 'random_state': 12345, 'shuffle': True}\n"
     ]
    }
   ],
   "source": [
    "#Для SGDClassifier найдём лучшие параметры, которые будут использованы на тестовой выборке и обучим модель \n",
    "parameters_SGDC = {'loss': ['hinge', 'log', 'modified_huber', 'huber'],\n",
    "                   'n_jobs': [-1, None, 1], 'shuffle': [True, False], 'random_state': [12345], \n",
    "                   'learning_rate': ['constant', 'optimal', 'invscaling', 'adaptive'],\n",
    "                   'eta0': [0.01, 0.05, 0.1, 0.25, 0.5]}\n",
    "model_SGDC = SGDClassifier()\n",
    "grid_SGDC = GridSearchCV(estimator=model_SGDC, param_grid=parameters_SGDC, scoring='f1', cv=5)\n",
    "grid_SGDC.fit(X_downsampled_train, y_downsampled_train)\n",
    "predicted_y = grid_SGDC.predict(X_valid)\n",
    "SGDC_best_params = grid_SGDC.best_params_\n",
    "print(SGDC_best_params)"
   ]
  },
  {
   "cell_type": "code",
   "execution_count": 17,
   "metadata": {},
   "outputs": [
    {
     "name": "stdout",
     "output_type": "stream",
     "text": [
      "{'class_weight': 'balanced', 'criterion': 'entropy', 'max_depth': 30, 'n_estimators': 100, 'n_jobs': -1, 'random_state': 12345}\n"
     ]
    }
   ],
   "source": [
    "#Для RandomForestClassifier найдём лучшие параметры, которые будут использованы на тестовой выборке и обучим модель \n",
    "parameters_RFC = {'n_estimators': [10, 50, 100], 'max_depth': [10, 30], 'random_state': [12345], \n",
    "                  'n_jobs': [-1, None, 1], 'criterion': ['gini', 'entropy', 'log_loss'], \n",
    "                  'class_weight': ['balanced', None]}\n",
    "model_RFC = RandomForestClassifier()\n",
    "grid_RFC = GridSearchCV(estimator=model_RFC, param_grid=parameters_RFC, scoring='f1', cv=5)\n",
    "grid_RFC.fit(X_downsampled_train, y_downsampled_train)\n",
    "predicted_y = grid_RFC.predict(X_valid)\n",
    "RFC_best_params = grid_RFC.best_params_\n",
    "print(RFC_best_params)"
   ]
  },
  {
   "cell_type": "code",
   "execution_count": 18,
   "metadata": {},
   "outputs": [
    {
     "name": "stdout",
     "output_type": "stream",
     "text": [
      "{'class_weight': None, 'criterion': 'gini', 'max_depth': 50, 'random_state': 12345, 'splitter': 'best'}\n"
     ]
    }
   ],
   "source": [
    "#Для DecisionTreeClassifier найдём лучшие параметры, которые будут использованы на тестовой выборке и обучим модель \n",
    "parameters_DTC = {'splitter': ['best', 'random'], 'max_depth': [10, 30, 50], 'random_state': [12345], \n",
    "                  'criterion': ['gini', 'entropy', 'log_loss'], 'class_weight': ['balanced', None]}\n",
    "model_DTC = DecisionTreeClassifier()\n",
    "grid_DTC = GridSearchCV(estimator=model_DTC, param_grid=parameters_DTC, scoring='f1', cv=5)\n",
    "grid_DTC.fit(X_downsampled_train, y_downsampled_train)\n",
    "predicted_y = grid_DTC.predict(X_valid)\n",
    "DTC_best_params = grid_DTC.best_params_\n",
    "print(DTC_best_params)"
   ]
  },
  {
   "cell_type": "markdown",
   "metadata": {},
   "source": [
    "### Вывод"
   ]
  },
  {
   "cell_type": "markdown",
   "metadata": {},
   "source": [
    "Для обучения моделей было сделано 3 выборки:\n",
    "\n",
    "Размер выборки 'train': 60% (95742);\n",
    "\n",
    "Размер выборки 'valid': 20% (31914);\n",
    "\n",
    "Размер выборки 'test': 20% (31915);\n",
    "\n",
    "К признакам был применён метод TfidfVectorizer. Дисбаланс классов был изменён с помощью downsampling.\n",
    "\n",
    "Для моделей были подобраны лучшие параметры с помощью GridSearchCV(), который будут использоваться для нахождения F1 для тестовой выборки.\n",
    "\n",
    "**Лучшие параметры для моделей:**\n",
    "\n",
    "LogisticRegression best parameters: C=5, class_weight='balanced', random_state=12345, solver='newton-cg'\n",
    "\n",
    "SGDClassifier best parameters: eta0=0.1, learning_rate='constant', loss='modified_huber', n_jobs=-1, random_state=12345, shuffle=True\n",
    "\n",
    "RandomForestClassifier best parameters: class_weight='balanced', criterion='entropy', max_depth=30, n_estimators=100, n_jobs=-1, random_state=12345\n",
    "\n",
    "DecisionTreeClassifier best parameters: class_weight=None, criterion='gini', max_depth=50, random_state=12345, splitter='best'"
   ]
  },
  {
   "cell_type": "markdown",
   "metadata": {},
   "source": [
    "## Выводы"
   ]
  },
  {
   "cell_type": "code",
   "execution_count": 19,
   "metadata": {},
   "outputs": [
    {
     "name": "stdout",
     "output_type": "stream",
     "text": [
      "F1 for DecisionTreeClassifier test: 0.6991256643236756\n"
     ]
    }
   ],
   "source": [
    "#Найдём F1 для DecisionTreeClassifier для тестовой выборки\n",
    "model_DTC = DecisionTreeClassifier(**DTC_best_params)\n",
    "model_DTC.fit(X_downsampled_train, y_downsampled_train)\n",
    "DTC_predict = model_DTC.predict(X_test)\n",
    "print('F1 for DecisionTreeClassifier test:', f1_score(y_test, DTC_predict))"
   ]
  },
  {
   "cell_type": "code",
   "execution_count": 20,
   "metadata": {},
   "outputs": [
    {
     "name": "stdout",
     "output_type": "stream",
     "text": [
      "F1 for RandomForestClassifier test: 0.4320234317793507\n"
     ]
    }
   ],
   "source": [
    "#Найдём F1 для RandomForestClassifier для тестовой выборки\n",
    "model_RFC.set_params(**RFC_best_params)\n",
    "model_RFC.fit(X_downsampled_train, y_downsampled_train)\n",
    "RFC_predict = model_RFC.predict(X_test)\n",
    "print('F1 for RandomForestClassifier test:', f1_score(y_test, RFC_predict))"
   ]
  },
  {
   "cell_type": "code",
   "execution_count": 21,
   "metadata": {},
   "outputs": [
    {
     "name": "stdout",
     "output_type": "stream",
     "text": [
      "F1 for SGDClassifier test: 0.7731149778232685\n"
     ]
    }
   ],
   "source": [
    "#Найдём F1 для SGDClassifier для тестовой выборки\n",
    "model_SGDC.set_params(**SGDC_best_params)\n",
    "model_SGDC.fit(X_downsampled_train, y_downsampled_train)\n",
    "SGDC_predict = model_SGDC.predict(X_test)\n",
    "print('F1 for SGDClassifier test:', f1_score(y_test, SGDC_predict))"
   ]
  },
  {
   "cell_type": "code",
   "execution_count": 22,
   "metadata": {},
   "outputs": [
    {
     "name": "stdout",
     "output_type": "stream",
     "text": [
      "F1 for LogisticRegression test: 0.7496883224823383\n"
     ]
    }
   ],
   "source": [
    "#Найдём F1 для LogisticRegression для тестовой выборки\n",
    "model_log_reg.set_params(**log_reg_best_params)\n",
    "model_log_reg.fit(X_downsampled_train, y_downsampled_train)\n",
    "log_reg_predict = model_log_reg.predict(X_test)\n",
    "print('F1 for LogisticRegression test:', f1_score(y_test, log_reg_predict))"
   ]
  },
  {
   "cell_type": "code",
   "execution_count": 25,
   "metadata": {},
   "outputs": [
    {
     "data": {
      "text/html": [
       "<div>\n",
       "<style scoped>\n",
       "    .dataframe tbody tr th:only-of-type {\n",
       "        vertical-align: middle;\n",
       "    }\n",
       "\n",
       "    .dataframe tbody tr th {\n",
       "        vertical-align: top;\n",
       "    }\n",
       "\n",
       "    .dataframe thead th {\n",
       "        text-align: right;\n",
       "    }\n",
       "</style>\n",
       "<table border=\"1\" class=\"dataframe\">\n",
       "  <thead>\n",
       "    <tr style=\"text-align: right;\">\n",
       "      <th></th>\n",
       "      <th>F1</th>\n",
       "    </tr>\n",
       "  </thead>\n",
       "  <tbody>\n",
       "    <tr>\n",
       "      <th>LogisticRegression</th>\n",
       "      <td>0.749688</td>\n",
       "    </tr>\n",
       "    <tr>\n",
       "      <th>SGDClassifier</th>\n",
       "      <td>0.773115</td>\n",
       "    </tr>\n",
       "    <tr>\n",
       "      <th>RandomForestClassifier</th>\n",
       "      <td>0.432023</td>\n",
       "    </tr>\n",
       "    <tr>\n",
       "      <th>DecisionTreeClassifier</th>\n",
       "      <td>0.699126</td>\n",
       "    </tr>\n",
       "  </tbody>\n",
       "</table>\n",
       "</div>"
      ],
      "text/plain": [
       "                              F1\n",
       "LogisticRegression      0.749688\n",
       "SGDClassifier           0.773115\n",
       "RandomForestClassifier  0.432023\n",
       "DecisionTreeClassifier  0.699126"
      ]
     },
     "execution_count": 25,
     "metadata": {},
     "output_type": "execute_result"
    }
   ],
   "source": [
    "#Выведем итог на экран\n",
    "data = {'F1':[f1_score(y_test, log_reg_predict),\n",
    "              f1_score(y_test, SGDC_predict),\n",
    "              f1_score(y_test, RFC_predict),\n",
    "              f1_score(y_test, DTC_predict)]}\n",
    "index = ['LogisticRegression', 'SGDClassifier', 'RandomForestClassifier', 'DecisionTreeClassifier']\n",
    "pd.DataFrame(data=data, index=index)"
   ]
  },
  {
   "cell_type": "markdown",
   "metadata": {},
   "source": [
    "### Вывод"
   ]
  },
  {
   "cell_type": "markdown",
   "metadata": {},
   "source": [
    "На тестовых вариантах мы имеем:\n",
    "- F1 for DecisionTreeClassifier test: 0.6991256643236756\n",
    "- F1 for RandomForestClassifier test: 0.4320234317793507\n",
    "- F1 for SGDClassifier test: 0.7731149778232685\n",
    "- F1 for LogisticRegression test: 0.7496883224823383\n",
    "\n",
    "Можно считать, что 2 из 4 моделей имеют метрику F1 > 0.75 (LogisticRegression очень близка к этому). SDGClassifier имеет наилучшую метрику, а RandomForestClassifier имеет наихудшую метрику."
   ]
  },
  {
   "cell_type": "markdown",
   "metadata": {},
   "source": [
    "## Общий вывод"
   ]
  },
  {
   "cell_type": "markdown",
   "metadata": {},
   "source": [
    "Можно сказать, что самое долгое обучение протекало у моделей RandomForestClassifier и у LogisticRegression, причём первая имеет наихудшую метрику F1. \n",
    "\n",
    "Можно попробовать добавить больше гиперпараметров во все модели и найти новые наилучшие параметры, но тогда на их обучение может потребоваться в разы больше времени.\n",
    "\n",
    "**ИТОГ: Самая лучшая модель для обучения - модель SGDClassifier с параметрами:**\n",
    "\n",
    "eta0=0.1, learning_rate='constant', loss='modified_huber', n_jobs=-1, random_state=12345, shuffle=True\n"
   ]
  }
 ],
 "metadata": {
  "ExecuteTimeLog": [
   {
    "duration": 1878,
    "start_time": "2022-05-22T12:11:41.339Z"
   },
   {
    "duration": 3708,
    "start_time": "2022-05-22T12:12:44.064Z"
   },
   {
    "duration": 951,
    "start_time": "2022-05-22T12:14:34.231Z"
   },
   {
    "duration": 34,
    "start_time": "2022-05-22T12:16:28.180Z"
   },
   {
    "duration": 215,
    "start_time": "2022-05-22T12:17:04.922Z"
   },
   {
    "duration": 6,
    "start_time": "2022-05-22T12:24:35.595Z"
   },
   {
    "duration": 137,
    "start_time": "2022-05-22T12:32:17.975Z"
   },
   {
    "duration": 1370,
    "start_time": "2022-05-22T12:33:07.908Z"
   },
   {
    "duration": 897,
    "start_time": "2022-05-22T12:33:10.234Z"
   },
   {
    "duration": 37,
    "start_time": "2022-05-22T12:33:12.871Z"
   },
   {
    "duration": 237,
    "start_time": "2022-05-22T12:33:13.370Z"
   },
   {
    "duration": 6,
    "start_time": "2022-05-22T12:33:14.171Z"
   },
   {
    "duration": 182,
    "start_time": "2022-05-22T12:33:18.315Z"
   },
   {
    "duration": 1987,
    "start_time": "2022-05-22T12:33:28.067Z"
   },
   {
    "duration": 65,
    "start_time": "2022-05-22T12:33:44.970Z"
   },
   {
    "duration": 1479,
    "start_time": "2022-05-22T12:33:47.975Z"
   },
   {
    "duration": 3505,
    "start_time": "2022-05-22T12:33:50.024Z"
   },
   {
    "duration": 34,
    "start_time": "2022-05-22T12:33:54.089Z"
   },
   {
    "duration": 226,
    "start_time": "2022-05-22T12:33:54.690Z"
   },
   {
    "duration": 6,
    "start_time": "2022-05-22T12:33:55.329Z"
   },
   {
    "duration": 1977,
    "start_time": "2022-05-22T12:33:55.871Z"
   },
   {
    "duration": 79,
    "start_time": "2022-05-22T12:33:59.009Z"
   },
   {
    "duration": 1555,
    "start_time": "2022-05-22T12:35:16.449Z"
   },
   {
    "duration": 891,
    "start_time": "2022-05-22T12:35:18.617Z"
   },
   {
    "duration": 40,
    "start_time": "2022-05-22T12:35:20.067Z"
   },
   {
    "duration": 267,
    "start_time": "2022-05-22T12:35:20.629Z"
   },
   {
    "duration": 6,
    "start_time": "2022-05-22T12:35:21.574Z"
   },
   {
    "duration": 1943,
    "start_time": "2022-05-22T12:35:22.459Z"
   },
   {
    "duration": 128123,
    "start_time": "2022-05-22T12:35:26.257Z"
   },
   {
    "duration": 14,
    "start_time": "2022-05-22T12:37:49.790Z"
   },
   {
    "duration": 1315,
    "start_time": "2022-05-22T12:47:52.736Z"
   },
   {
    "duration": 3699,
    "start_time": "2022-05-22T12:47:57.088Z"
   },
   {
    "duration": 35,
    "start_time": "2022-05-22T12:48:01.583Z"
   },
   {
    "duration": 237,
    "start_time": "2022-05-22T12:48:02.383Z"
   },
   {
    "duration": 7,
    "start_time": "2022-05-22T12:48:03.222Z"
   },
   {
    "duration": 2014,
    "start_time": "2022-05-22T12:48:03.734Z"
   },
   {
    "duration": 121370,
    "start_time": "2022-05-22T12:48:08.112Z"
   },
   {
    "duration": 57,
    "start_time": "2022-05-22T12:50:33.158Z"
   },
   {
    "duration": 1353,
    "start_time": "2022-05-22T12:50:40.552Z"
   },
   {
    "duration": 3413,
    "start_time": "2022-05-22T12:50:42.598Z"
   },
   {
    "duration": 40,
    "start_time": "2022-05-22T12:50:46.485Z"
   },
   {
    "duration": 255,
    "start_time": "2022-05-22T12:50:46.966Z"
   },
   {
    "duration": 8,
    "start_time": "2022-05-22T12:50:47.821Z"
   },
   {
    "duration": 2204,
    "start_time": "2022-05-22T12:50:48.265Z"
   },
   {
    "duration": 116542,
    "start_time": "2022-05-22T12:50:52.621Z"
   },
   {
    "duration": 9,
    "start_time": "2022-05-22T13:10:54.016Z"
   },
   {
    "duration": 96,
    "start_time": "2022-05-22T15:36:39.940Z"
   },
   {
    "duration": 75,
    "start_time": "2022-05-22T15:36:50.285Z"
   },
   {
    "duration": 5,
    "start_time": "2022-05-22T15:37:36.531Z"
   },
   {
    "duration": 1929,
    "start_time": "2022-05-22T15:39:35.460Z"
   },
   {
    "duration": 3187,
    "start_time": "2022-05-22T15:39:38.738Z"
   },
   {
    "duration": 31,
    "start_time": "2022-05-22T15:39:42.833Z"
   },
   {
    "duration": 214,
    "start_time": "2022-05-22T15:39:43.458Z"
   },
   {
    "duration": 8,
    "start_time": "2022-05-22T15:39:44.202Z"
   },
   {
    "duration": 1967,
    "start_time": "2022-05-22T15:39:44.721Z"
   },
   {
    "duration": 91266,
    "start_time": "2022-05-22T15:39:49.714Z"
   },
   {
    "duration": 8,
    "start_time": "2022-05-22T15:41:43.305Z"
   },
   {
    "duration": 70,
    "start_time": "2022-05-22T15:41:46.263Z"
   },
   {
    "duration": 73,
    "start_time": "2022-05-22T15:41:57.160Z"
   },
   {
    "duration": 1959,
    "start_time": "2022-05-22T15:42:01.919Z"
   },
   {
    "duration": 3254,
    "start_time": "2022-05-22T15:42:05.551Z"
   },
   {
    "duration": 31,
    "start_time": "2022-05-22T15:42:10.590Z"
   },
   {
    "duration": 219,
    "start_time": "2022-05-22T15:42:11.207Z"
   },
   {
    "duration": 6,
    "start_time": "2022-05-22T15:42:11.952Z"
   },
   {
    "duration": 2009,
    "start_time": "2022-05-22T15:42:12.535Z"
   },
   {
    "duration": 91200,
    "start_time": "2022-05-22T15:42:16.272Z"
   },
   {
    "duration": 9,
    "start_time": "2022-05-22T15:43:53.357Z"
   },
   {
    "duration": 70,
    "start_time": "2022-05-22T15:43:55.742Z"
   },
   {
    "duration": 57,
    "start_time": "2022-05-22T15:44:02.237Z"
   },
   {
    "duration": 1913,
    "start_time": "2022-05-22T15:44:11.324Z"
   },
   {
    "duration": 3282,
    "start_time": "2022-05-22T15:44:14.781Z"
   },
   {
    "duration": 30,
    "start_time": "2022-05-22T15:44:18.982Z"
   },
   {
    "duration": 220,
    "start_time": "2022-05-22T15:44:19.941Z"
   },
   {
    "duration": 6,
    "start_time": "2022-05-22T15:44:20.693Z"
   },
   {
    "duration": 1990,
    "start_time": "2022-05-22T15:44:21.180Z"
   },
   {
    "duration": 90227,
    "start_time": "2022-05-22T15:44:24.348Z"
   },
   {
    "duration": 10,
    "start_time": "2022-05-22T15:45:56.907Z"
   },
   {
    "duration": 64,
    "start_time": "2022-05-22T15:45:59.588Z"
   },
   {
    "duration": 61,
    "start_time": "2022-05-22T15:46:16.715Z"
   },
   {
    "duration": 1849,
    "start_time": "2022-05-22T15:46:21.981Z"
   },
   {
    "duration": 1389,
    "start_time": "2022-05-22T15:47:24.988Z"
   },
   {
    "duration": 3279,
    "start_time": "2022-05-22T15:47:27.522Z"
   },
   {
    "duration": 29,
    "start_time": "2022-05-22T15:47:31.386Z"
   },
   {
    "duration": 226,
    "start_time": "2022-05-22T15:47:33.554Z"
   },
   {
    "duration": 6,
    "start_time": "2022-05-22T15:47:34.363Z"
   },
   {
    "duration": 1990,
    "start_time": "2022-05-22T15:47:34.889Z"
   },
   {
    "duration": 100444,
    "start_time": "2022-05-22T15:47:54.281Z"
   },
   {
    "duration": 8,
    "start_time": "2022-05-22T15:49:45.801Z"
   },
   {
    "duration": 74,
    "start_time": "2022-05-22T15:49:48.136Z"
   },
   {
    "duration": 16,
    "start_time": "2022-05-22T15:50:13.639Z"
   },
   {
    "duration": 121,
    "start_time": "2022-05-22T15:50:43.838Z"
   },
   {
    "duration": 21,
    "start_time": "2022-05-22T15:50:52.494Z"
   },
   {
    "duration": 14,
    "start_time": "2022-05-22T15:51:15.124Z"
   },
   {
    "duration": 6,
    "start_time": "2022-05-22T15:52:20.027Z"
   },
   {
    "duration": 7,
    "start_time": "2022-05-22T15:54:18.669Z"
   },
   {
    "duration": 20,
    "start_time": "2022-05-22T15:54:27.507Z"
   },
   {
    "duration": 17,
    "start_time": "2022-05-22T15:55:32.338Z"
   },
   {
    "duration": 1508,
    "start_time": "2022-05-22T15:56:06.743Z"
   },
   {
    "duration": 905,
    "start_time": "2022-05-22T15:56:09.533Z"
   },
   {
    "duration": 31,
    "start_time": "2022-05-22T15:56:10.894Z"
   },
   {
    "duration": 229,
    "start_time": "2022-05-22T15:56:11.382Z"
   },
   {
    "duration": 7,
    "start_time": "2022-05-22T15:56:12.013Z"
   },
   {
    "duration": 11,
    "start_time": "2022-05-22T15:56:12.414Z"
   },
   {
    "duration": 1971,
    "start_time": "2022-05-22T15:56:13.446Z"
   },
   {
    "duration": 102456,
    "start_time": "2022-05-22T15:56:15.419Z"
   },
   {
    "duration": 9,
    "start_time": "2022-05-22T15:58:16.684Z"
   },
   {
    "duration": 66,
    "start_time": "2022-05-22T15:58:19.276Z"
   },
   {
    "duration": 1980,
    "start_time": "2022-05-22T15:59:16.245Z"
   },
   {
    "duration": 3271,
    "start_time": "2022-05-22T15:59:37.519Z"
   },
   {
    "duration": 30,
    "start_time": "2022-05-22T15:59:42.620Z"
   },
   {
    "duration": 220,
    "start_time": "2022-05-22T15:59:44.483Z"
   },
   {
    "duration": 9,
    "start_time": "2022-05-22T15:59:47.163Z"
   },
   {
    "duration": 7,
    "start_time": "2022-05-22T15:59:48.851Z"
   },
   {
    "duration": 1970,
    "start_time": "2022-05-22T15:59:51.171Z"
   },
   {
    "duration": 106286,
    "start_time": "2022-05-22T15:59:58.692Z"
   },
   {
    "duration": 10,
    "start_time": "2022-05-22T16:01:53.339Z"
   },
   {
    "duration": 67,
    "start_time": "2022-05-22T16:01:56.035Z"
   },
   {
    "duration": 18,
    "start_time": "2022-05-22T16:01:57.057Z"
   },
   {
    "duration": 5,
    "start_time": "2022-05-22T16:02:00.044Z"
   },
   {
    "duration": 138,
    "start_time": "2022-05-22T16:02:02.201Z"
   },
   {
    "duration": 596,
    "start_time": "2022-05-22T16:03:24.880Z"
   },
   {
    "duration": 13,
    "start_time": "2022-05-22T16:03:33.123Z"
   },
   {
    "duration": 10,
    "start_time": "2022-05-22T16:03:43.843Z"
   },
   {
    "duration": 49,
    "start_time": "2022-05-22T16:03:47.839Z"
   },
   {
    "duration": 4,
    "start_time": "2022-05-22T16:05:22.766Z"
   },
   {
    "duration": 9,
    "start_time": "2022-05-22T16:05:40.797Z"
   },
   {
    "duration": 17,
    "start_time": "2022-05-22T16:05:52.038Z"
   },
   {
    "duration": 28,
    "start_time": "2022-05-22T16:07:31.771Z"
   },
   {
    "duration": 4,
    "start_time": "2022-05-22T16:07:32.780Z"
   },
   {
    "duration": 16,
    "start_time": "2022-05-22T16:07:33.430Z"
   },
   {
    "duration": 1848,
    "start_time": "2022-05-22T16:40:57.472Z"
   },
   {
    "duration": 2225,
    "start_time": "2022-05-22T16:41:01.178Z"
   },
   {
    "duration": 28,
    "start_time": "2022-05-22T16:41:04.295Z"
   },
   {
    "duration": 200,
    "start_time": "2022-05-22T16:41:04.863Z"
   },
   {
    "duration": 6,
    "start_time": "2022-05-22T16:41:05.375Z"
   },
   {
    "duration": 8,
    "start_time": "2022-05-22T16:41:05.845Z"
   },
   {
    "duration": 1857,
    "start_time": "2022-05-22T16:41:07.101Z"
   },
   {
    "duration": 83729,
    "start_time": "2022-05-22T16:41:37.229Z"
   },
   {
    "duration": 1609,
    "start_time": "2022-05-24T10:20:41.040Z"
   },
   {
    "duration": 2366,
    "start_time": "2022-05-24T10:20:44.529Z"
   },
   {
    "duration": 209,
    "start_time": "2022-05-24T10:26:23.956Z"
   },
   {
    "duration": 7,
    "start_time": "2022-05-24T10:26:27.000Z"
   },
   {
    "duration": 8,
    "start_time": "2022-05-24T10:26:28.431Z"
   },
   {
    "duration": 1903,
    "start_time": "2022-05-24T10:26:30.766Z"
   },
   {
    "duration": 94653,
    "start_time": "2022-05-24T10:26:34.230Z"
   },
   {
    "duration": 8,
    "start_time": "2022-05-24T10:28:32.991Z"
   },
   {
    "duration": 73,
    "start_time": "2022-05-24T10:28:37.858Z"
   },
   {
    "duration": 14,
    "start_time": "2022-05-24T10:30:51.567Z"
   },
   {
    "duration": 137,
    "start_time": "2022-05-24T10:30:53.029Z"
   },
   {
    "duration": 14,
    "start_time": "2022-05-24T10:31:20.350Z"
   },
   {
    "duration": 1263,
    "start_time": "2022-05-24T10:31:53.888Z"
   },
   {
    "duration": 830,
    "start_time": "2022-05-24T10:31:56.163Z"
   },
   {
    "duration": 34,
    "start_time": "2022-05-24T10:31:58.965Z"
   },
   {
    "duration": 220,
    "start_time": "2022-05-24T10:32:02.114Z"
   },
   {
    "duration": 6,
    "start_time": "2022-05-24T10:32:05.514Z"
   },
   {
    "duration": 7,
    "start_time": "2022-05-24T10:32:08.186Z"
   },
   {
    "duration": 1876,
    "start_time": "2022-05-24T10:32:09.817Z"
   },
   {
    "duration": 93649,
    "start_time": "2022-05-24T10:32:12.777Z"
   },
   {
    "duration": 8,
    "start_time": "2022-05-24T10:33:56.239Z"
   },
   {
    "duration": 68,
    "start_time": "2022-05-24T10:34:01.028Z"
   },
   {
    "duration": 6,
    "start_time": "2022-05-24T10:34:13.034Z"
   },
   {
    "duration": 5,
    "start_time": "2022-05-24T10:35:13.231Z"
   },
   {
    "duration": 159,
    "start_time": "2022-05-24T10:35:16.326Z"
   },
   {
    "duration": 6,
    "start_time": "2022-05-24T10:35:55.348Z"
   },
   {
    "duration": 4,
    "start_time": "2022-05-24T10:36:03.848Z"
   },
   {
    "duration": 46,
    "start_time": "2022-05-24T10:36:04.665Z"
   },
   {
    "duration": 20,
    "start_time": "2022-05-24T10:45:04.090Z"
   },
   {
    "duration": 1271,
    "start_time": "2022-05-24T10:48:27.290Z"
   },
   {
    "duration": 892,
    "start_time": "2022-05-24T10:48:31.756Z"
   },
   {
    "duration": 31,
    "start_time": "2022-05-24T10:48:34.387Z"
   },
   {
    "duration": 218,
    "start_time": "2022-05-24T10:48:37.135Z"
   },
   {
    "duration": 7,
    "start_time": "2022-05-24T10:48:38.032Z"
   },
   {
    "duration": 7,
    "start_time": "2022-05-24T10:48:42.500Z"
   },
   {
    "duration": 1889,
    "start_time": "2022-05-24T10:48:45.395Z"
   },
   {
    "duration": 94714,
    "start_time": "2022-05-24T10:48:51.628Z"
   },
   {
    "duration": 6,
    "start_time": "2022-05-24T10:52:25.201Z"
   },
   {
    "duration": 1318,
    "start_time": "2022-05-24T10:52:33.133Z"
   },
   {
    "duration": 868,
    "start_time": "2022-05-24T10:52:36.879Z"
   },
   {
    "duration": 30,
    "start_time": "2022-05-24T10:52:38.595Z"
   },
   {
    "duration": 230,
    "start_time": "2022-05-24T10:52:39.795Z"
   },
   {
    "duration": 6,
    "start_time": "2022-05-24T10:52:40.647Z"
   },
   {
    "duration": 7,
    "start_time": "2022-05-24T10:52:41.480Z"
   },
   {
    "duration": 1899,
    "start_time": "2022-05-24T10:52:42.473Z"
   },
   {
    "duration": 92628,
    "start_time": "2022-05-24T10:52:47.014Z"
   },
   {
    "duration": 9,
    "start_time": "2022-05-24T10:54:22.595Z"
   },
   {
    "duration": 60,
    "start_time": "2022-05-24T10:54:28.350Z"
   },
   {
    "duration": 4,
    "start_time": "2022-05-24T10:54:29.574Z"
   },
   {
    "duration": 6,
    "start_time": "2022-05-24T10:54:30.679Z"
   },
   {
    "duration": 5,
    "start_time": "2022-05-24T10:54:42.517Z"
   },
   {
    "duration": 133,
    "start_time": "2022-05-24T10:54:43.623Z"
   },
   {
    "duration": 1244,
    "start_time": "2022-05-24T10:59:12.820Z"
   },
   {
    "duration": 893,
    "start_time": "2022-05-24T10:59:15.236Z"
   },
   {
    "duration": 32,
    "start_time": "2022-05-24T10:59:17.505Z"
   },
   {
    "duration": 234,
    "start_time": "2022-05-24T10:59:18.382Z"
   },
   {
    "duration": 7,
    "start_time": "2022-05-24T10:59:19.200Z"
   },
   {
    "duration": 8,
    "start_time": "2022-05-24T10:59:19.929Z"
   },
   {
    "duration": 1920,
    "start_time": "2022-05-24T10:59:20.777Z"
   },
   {
    "duration": 96881,
    "start_time": "2022-05-24T10:59:25.440Z"
   },
   {
    "duration": 8,
    "start_time": "2022-05-24T11:01:13.370Z"
   },
   {
    "duration": 136,
    "start_time": "2022-05-24T11:01:27.202Z"
   },
   {
    "duration": 50,
    "start_time": "2022-05-24T11:01:39.962Z"
   },
   {
    "duration": 4,
    "start_time": "2022-05-24T11:01:41.260Z"
   },
   {
    "duration": 6,
    "start_time": "2022-05-24T11:01:48.051Z"
   },
   {
    "duration": 4,
    "start_time": "2022-05-24T11:01:49.913Z"
   },
   {
    "duration": 442,
    "start_time": "2022-05-24T11:01:53.433Z"
   },
   {
    "duration": 16,
    "start_time": "2022-05-24T11:06:43.891Z"
   },
   {
    "duration": 10,
    "start_time": "2022-05-24T11:07:33.983Z"
   },
   {
    "duration": 8,
    "start_time": "2022-05-24T11:07:48.221Z"
   },
   {
    "duration": 10,
    "start_time": "2022-05-24T11:08:11.119Z"
   },
   {
    "duration": 10,
    "start_time": "2022-05-24T11:08:14.796Z"
   },
   {
    "duration": 39,
    "start_time": "2022-05-24T11:09:05.865Z"
   },
   {
    "duration": 4,
    "start_time": "2022-05-24T11:09:07.673Z"
   },
   {
    "duration": 5,
    "start_time": "2022-05-24T11:09:08.315Z"
   },
   {
    "duration": 4,
    "start_time": "2022-05-24T11:09:09.105Z"
   },
   {
    "duration": 17,
    "start_time": "2022-05-24T11:09:10.057Z"
   },
   {
    "duration": 9,
    "start_time": "2022-05-24T11:09:13.506Z"
   },
   {
    "duration": 7,
    "start_time": "2022-05-24T11:17:52.976Z"
   },
   {
    "duration": 4,
    "start_time": "2022-05-24T11:21:05.366Z"
   },
   {
    "duration": 16,
    "start_time": "2022-05-24T11:21:07.687Z"
   },
   {
    "duration": 3,
    "start_time": "2022-05-24T11:25:05.216Z"
   },
   {
    "duration": 16,
    "start_time": "2022-05-24T11:25:13.271Z"
   },
   {
    "duration": 5,
    "start_time": "2022-05-24T11:25:23.046Z"
   },
   {
    "duration": 16,
    "start_time": "2022-05-24T11:25:23.650Z"
   },
   {
    "duration": 5,
    "start_time": "2022-05-24T11:25:39.039Z"
   },
   {
    "duration": 27,
    "start_time": "2022-05-24T11:25:39.683Z"
   },
   {
    "duration": 4,
    "start_time": "2022-05-24T11:26:12.637Z"
   },
   {
    "duration": 1764,
    "start_time": "2022-05-24T11:26:24.162Z"
   },
   {
    "duration": 2299,
    "start_time": "2022-05-24T11:27:15.281Z"
   },
   {
    "duration": 30,
    "start_time": "2022-05-24T11:27:18.804Z"
   },
   {
    "duration": 212,
    "start_time": "2022-05-24T11:27:19.568Z"
   },
   {
    "duration": 7,
    "start_time": "2022-05-24T11:27:20.663Z"
   },
   {
    "duration": 8,
    "start_time": "2022-05-24T11:27:21.439Z"
   },
   {
    "duration": 1890,
    "start_time": "2022-05-24T11:27:22.208Z"
   },
   {
    "duration": 95679,
    "start_time": "2022-05-24T11:27:37.543Z"
   },
   {
    "duration": 10,
    "start_time": "2022-05-24T11:29:28.437Z"
   },
   {
    "duration": 50,
    "start_time": "2022-05-24T11:29:31.607Z"
   },
   {
    "duration": 9,
    "start_time": "2022-05-24T11:29:33.759Z"
   },
   {
    "duration": 3,
    "start_time": "2022-05-24T11:29:40.992Z"
   },
   {
    "duration": 22,
    "start_time": "2022-05-24T11:29:42.539Z"
   },
   {
    "duration": 139,
    "start_time": "2022-05-24T11:31:12.506Z"
   },
   {
    "duration": 6,
    "start_time": "2022-05-24T11:31:36.474Z"
   },
   {
    "duration": 12,
    "start_time": "2022-05-24T11:31:42.891Z"
   },
   {
    "duration": 20,
    "start_time": "2022-05-24T11:32:16.650Z"
   },
   {
    "duration": 23,
    "start_time": "2022-05-24T11:36:01.631Z"
   },
   {
    "duration": 6971,
    "start_time": "2022-05-24T11:36:49.298Z"
   },
   {
    "duration": 521,
    "start_time": "2022-05-24T11:37:33.002Z"
   },
   {
    "duration": 1735,
    "start_time": "2022-05-24T11:39:37.065Z"
   },
   {
    "duration": 1488,
    "start_time": "2022-05-24T11:39:43.082Z"
   },
   {
    "duration": 31,
    "start_time": "2022-05-24T11:39:48.708Z"
   },
   {
    "duration": 218,
    "start_time": "2022-05-24T11:39:49.548Z"
   },
   {
    "duration": 6,
    "start_time": "2022-05-24T11:39:50.896Z"
   },
   {
    "duration": 7,
    "start_time": "2022-05-24T11:39:51.674Z"
   },
   {
    "duration": 1886,
    "start_time": "2022-05-24T11:39:52.471Z"
   },
   {
    "duration": 93674,
    "start_time": "2022-05-24T11:40:00.476Z"
   },
   {
    "duration": 8,
    "start_time": "2022-05-24T11:41:47.426Z"
   },
   {
    "duration": 56,
    "start_time": "2022-05-24T11:41:52.255Z"
   },
   {
    "duration": 6,
    "start_time": "2022-05-24T11:41:54.928Z"
   },
   {
    "duration": 3,
    "start_time": "2022-05-24T11:41:57.315Z"
   },
   {
    "duration": 25,
    "start_time": "2022-05-24T11:41:58.719Z"
   },
   {
    "duration": 656,
    "start_time": "2022-05-24T11:42:44.262Z"
   },
   {
    "duration": 57,
    "start_time": "2022-05-24T11:43:00.884Z"
   },
   {
    "duration": 4,
    "start_time": "2022-05-24T11:43:01.575Z"
   },
   {
    "duration": 5,
    "start_time": "2022-05-24T11:43:02.963Z"
   },
   {
    "duration": 29,
    "start_time": "2022-05-24T11:43:03.645Z"
   },
   {
    "duration": 522,
    "start_time": "2022-05-24T11:43:04.393Z"
   },
   {
    "duration": 526,
    "start_time": "2022-05-24T11:43:23.501Z"
   },
   {
    "duration": 1298,
    "start_time": "2022-05-24T11:46:06.327Z"
   },
   {
    "duration": 863,
    "start_time": "2022-05-24T11:46:10.742Z"
   },
   {
    "duration": 31,
    "start_time": "2022-05-24T11:46:14.804Z"
   },
   {
    "duration": 226,
    "start_time": "2022-05-24T11:46:15.726Z"
   },
   {
    "duration": 6,
    "start_time": "2022-05-24T11:46:16.669Z"
   },
   {
    "duration": 6,
    "start_time": "2022-05-24T11:46:17.594Z"
   },
   {
    "duration": 1934,
    "start_time": "2022-05-24T11:46:18.921Z"
   },
   {
    "duration": 91431,
    "start_time": "2022-05-24T11:46:28.940Z"
   },
   {
    "duration": 9,
    "start_time": "2022-05-24T11:48:04.164Z"
   },
   {
    "duration": 73,
    "start_time": "2022-05-24T11:48:08.002Z"
   },
   {
    "duration": 1859,
    "start_time": "2022-05-24T11:49:30.219Z"
   },
   {
    "duration": 2313,
    "start_time": "2022-05-24T11:49:44.410Z"
   },
   {
    "duration": 32,
    "start_time": "2022-05-24T11:49:47.771Z"
   },
   {
    "duration": 227,
    "start_time": "2022-05-24T11:49:48.747Z"
   },
   {
    "duration": 6,
    "start_time": "2022-05-24T11:49:49.772Z"
   },
   {
    "duration": 7,
    "start_time": "2022-05-24T11:49:50.421Z"
   },
   {
    "duration": 1908,
    "start_time": "2022-05-24T11:49:51.204Z"
   },
   {
    "duration": 90659,
    "start_time": "2022-05-24T11:49:54.561Z"
   },
   {
    "duration": 9,
    "start_time": "2022-05-24T11:51:28.943Z"
   },
   {
    "duration": 45,
    "start_time": "2022-05-24T11:51:42.310Z"
   },
   {
    "duration": 10,
    "start_time": "2022-05-24T11:51:44.300Z"
   },
   {
    "duration": 4,
    "start_time": "2022-05-24T11:51:46.990Z"
   },
   {
    "duration": 21,
    "start_time": "2022-05-24T11:51:49.609Z"
   },
   {
    "duration": 514,
    "start_time": "2022-05-24T11:51:52.545Z"
   },
   {
    "duration": 15,
    "start_time": "2022-05-24T11:53:55.127Z"
   },
   {
    "duration": 1355,
    "start_time": "2022-05-24T11:54:30.157Z"
   },
   {
    "duration": 882,
    "start_time": "2022-05-24T11:54:39.427Z"
   },
   {
    "duration": 31,
    "start_time": "2022-05-24T11:54:41.496Z"
   },
   {
    "duration": 229,
    "start_time": "2022-05-24T11:54:42.855Z"
   },
   {
    "duration": 7,
    "start_time": "2022-05-24T11:54:44.449Z"
   },
   {
    "duration": 7,
    "start_time": "2022-05-24T11:54:45.244Z"
   },
   {
    "duration": 1933,
    "start_time": "2022-05-24T11:54:46.458Z"
   },
   {
    "duration": 89870,
    "start_time": "2022-05-24T11:54:52.472Z"
   },
   {
    "duration": 7,
    "start_time": "2022-05-24T11:56:25.952Z"
   },
   {
    "duration": 34,
    "start_time": "2022-05-24T11:56:29.428Z"
   },
   {
    "duration": 6,
    "start_time": "2022-05-24T11:56:31.310Z"
   },
   {
    "duration": 139,
    "start_time": "2022-05-24T11:56:47.896Z"
   },
   {
    "duration": 20,
    "start_time": "2022-05-24T11:57:36.950Z"
   },
   {
    "duration": 7,
    "start_time": "2022-05-24T11:58:31.448Z"
   },
   {
    "duration": 1393,
    "start_time": "2022-05-24T11:58:58.566Z"
   },
   {
    "duration": 841,
    "start_time": "2022-05-24T11:59:05.991Z"
   },
   {
    "duration": 32,
    "start_time": "2022-05-24T11:59:08.802Z"
   },
   {
    "duration": 221,
    "start_time": "2022-05-24T11:59:09.895Z"
   },
   {
    "duration": 6,
    "start_time": "2022-05-24T11:59:10.884Z"
   },
   {
    "duration": 8,
    "start_time": "2022-05-24T11:59:11.626Z"
   },
   {
    "duration": 1953,
    "start_time": "2022-05-24T11:59:12.711Z"
   },
   {
    "duration": 89753,
    "start_time": "2022-05-24T11:59:22.926Z"
   },
   {
    "duration": 7,
    "start_time": "2022-05-24T12:01:03.749Z"
   },
   {
    "duration": 9,
    "start_time": "2022-05-24T12:01:05.633Z"
   },
   {
    "duration": 45,
    "start_time": "2022-05-24T12:01:09.083Z"
   },
   {
    "duration": 7,
    "start_time": "2022-05-24T12:01:14.061Z"
   },
   {
    "duration": 139,
    "start_time": "2022-05-24T12:01:26.573Z"
   },
   {
    "duration": 7,
    "start_time": "2022-05-24T12:01:36.004Z"
   },
   {
    "duration": 1422,
    "start_time": "2022-05-24T12:02:23.683Z"
   },
   {
    "duration": 874,
    "start_time": "2022-05-24T12:02:29.518Z"
   },
   {
    "duration": 33,
    "start_time": "2022-05-24T12:02:34.202Z"
   },
   {
    "duration": 219,
    "start_time": "2022-05-24T12:02:35.107Z"
   },
   {
    "duration": 7,
    "start_time": "2022-05-24T12:02:36.071Z"
   },
   {
    "duration": 8,
    "start_time": "2022-05-24T12:02:36.862Z"
   },
   {
    "duration": 2027,
    "start_time": "2022-05-24T12:02:38.112Z"
   },
   {
    "duration": 92005,
    "start_time": "2022-05-24T12:02:42.152Z"
   },
   {
    "duration": 10,
    "start_time": "2022-05-24T12:04:19.077Z"
   },
   {
    "duration": 39,
    "start_time": "2022-05-24T12:04:24.457Z"
   },
   {
    "duration": 7,
    "start_time": "2022-05-24T12:04:29.384Z"
   },
   {
    "duration": 137,
    "start_time": "2022-05-24T12:05:12.342Z"
   },
   {
    "duration": 1352,
    "start_time": "2022-05-24T12:08:36.646Z"
   },
   {
    "duration": 904,
    "start_time": "2022-05-24T12:08:41.051Z"
   },
   {
    "duration": 32,
    "start_time": "2022-05-24T12:08:45.956Z"
   },
   {
    "duration": 223,
    "start_time": "2022-05-24T12:08:46.789Z"
   },
   {
    "duration": 6,
    "start_time": "2022-05-24T12:08:47.766Z"
   },
   {
    "duration": 7,
    "start_time": "2022-05-24T12:08:48.457Z"
   },
   {
    "duration": 1967,
    "start_time": "2022-05-24T12:08:49.203Z"
   },
   {
    "duration": 91472,
    "start_time": "2022-05-24T12:09:13.417Z"
   },
   {
    "duration": 7,
    "start_time": "2022-05-24T12:10:53.724Z"
   },
   {
    "duration": 125,
    "start_time": "2022-05-24T12:10:56.877Z"
   },
   {
    "duration": 41,
    "start_time": "2022-05-24T12:11:06.672Z"
   },
   {
    "duration": 2176,
    "start_time": "2022-05-24T12:12:30.904Z"
   },
   {
    "duration": 2408,
    "start_time": "2022-05-24T12:12:50.156Z"
   },
   {
    "duration": 33,
    "start_time": "2022-05-24T12:12:54.370Z"
   },
   {
    "duration": 226,
    "start_time": "2022-05-24T12:12:55.283Z"
   },
   {
    "duration": 6,
    "start_time": "2022-05-24T12:12:56.146Z"
   },
   {
    "duration": 8,
    "start_time": "2022-05-24T12:12:56.845Z"
   },
   {
    "duration": 2010,
    "start_time": "2022-05-24T12:12:57.645Z"
   },
   {
    "duration": 91369,
    "start_time": "2022-05-24T12:12:59.657Z"
   },
   {
    "duration": 8,
    "start_time": "2022-05-24T12:14:54.215Z"
   },
   {
    "duration": 37,
    "start_time": "2022-05-24T12:14:57.598Z"
   },
   {
    "duration": 59,
    "start_time": "2022-05-24T12:15:06.334Z"
   },
   {
    "duration": 1762,
    "start_time": "2022-05-24T12:16:18.607Z"
   },
   {
    "duration": 2315,
    "start_time": "2022-05-24T12:16:23.261Z"
   },
   {
    "duration": 32,
    "start_time": "2022-05-24T12:16:28.447Z"
   },
   {
    "duration": 221,
    "start_time": "2022-05-24T12:16:29.274Z"
   },
   {
    "duration": 5,
    "start_time": "2022-05-24T12:16:29.923Z"
   },
   {
    "duration": 7,
    "start_time": "2022-05-24T12:16:30.657Z"
   },
   {
    "duration": 1974,
    "start_time": "2022-05-24T12:16:31.547Z"
   },
   {
    "duration": 1796,
    "start_time": "2022-05-24T12:18:33.659Z"
   },
   {
    "duration": 2360,
    "start_time": "2022-05-24T12:18:36.814Z"
   },
   {
    "duration": 31,
    "start_time": "2022-05-24T12:18:40.242Z"
   },
   {
    "duration": 225,
    "start_time": "2022-05-24T12:18:43.343Z"
   },
   {
    "duration": 8,
    "start_time": "2022-05-24T12:18:44.250Z"
   },
   {
    "duration": 7,
    "start_time": "2022-05-24T12:18:45.150Z"
   },
   {
    "duration": 1949,
    "start_time": "2022-05-24T12:18:48.966Z"
   },
   {
    "duration": 90094,
    "start_time": "2022-05-24T12:18:54.425Z"
   },
   {
    "duration": 1241,
    "start_time": "2022-05-24T12:21:21.677Z"
   },
   {
    "duration": 855,
    "start_time": "2022-05-24T12:21:24.051Z"
   },
   {
    "duration": 32,
    "start_time": "2022-05-24T12:21:25.748Z"
   },
   {
    "duration": 229,
    "start_time": "2022-05-24T12:21:26.558Z"
   },
   {
    "duration": 6,
    "start_time": "2022-05-24T12:21:27.576Z"
   },
   {
    "duration": 7,
    "start_time": "2022-05-24T12:21:28.408Z"
   },
   {
    "duration": 4,
    "start_time": "2022-05-24T12:21:30.055Z"
   },
   {
    "duration": 2112,
    "start_time": "2022-05-24T12:24:58.559Z"
   },
   {
    "duration": 2407,
    "start_time": "2022-05-24T12:25:01.338Z"
   },
   {
    "duration": 32,
    "start_time": "2022-05-24T12:25:04.499Z"
   },
   {
    "duration": 225,
    "start_time": "2022-05-24T12:25:05.369Z"
   },
   {
    "duration": 6,
    "start_time": "2022-05-24T12:25:06.346Z"
   },
   {
    "duration": 7,
    "start_time": "2022-05-24T12:25:07.052Z"
   },
   {
    "duration": 4,
    "start_time": "2022-05-24T12:25:07.849Z"
   },
   {
    "duration": 91288,
    "start_time": "2022-05-24T12:25:09.771Z"
   },
   {
    "duration": 7,
    "start_time": "2022-05-24T12:26:44.018Z"
   },
   {
    "duration": 48,
    "start_time": "2022-05-24T12:27:59.747Z"
   },
   {
    "duration": 18,
    "start_time": "2022-05-24T12:28:49.112Z"
   },
   {
    "duration": 3,
    "start_time": "2022-05-24T12:30:34.353Z"
   },
   {
    "duration": 18,
    "start_time": "2022-05-24T12:30:35.116Z"
   },
   {
    "duration": 134,
    "start_time": "2022-05-24T12:31:28.689Z"
   },
   {
    "duration": 384,
    "start_time": "2022-05-24T12:32:01.120Z"
   },
   {
    "duration": 1347,
    "start_time": "2022-05-24T12:34:33.274Z"
   },
   {
    "duration": 885,
    "start_time": "2022-05-24T12:34:35.298Z"
   },
   {
    "duration": 34,
    "start_time": "2022-05-24T12:34:36.934Z"
   },
   {
    "duration": 227,
    "start_time": "2022-05-24T12:34:37.640Z"
   },
   {
    "duration": 6,
    "start_time": "2022-05-24T12:34:38.524Z"
   },
   {
    "duration": 7,
    "start_time": "2022-05-24T12:34:39.166Z"
   },
   {
    "duration": 3,
    "start_time": "2022-05-24T12:34:39.782Z"
   },
   {
    "duration": 92113,
    "start_time": "2022-05-24T12:34:40.455Z"
   },
   {
    "duration": 9,
    "start_time": "2022-05-24T12:36:15.014Z"
   },
   {
    "duration": 46,
    "start_time": "2022-05-24T12:36:18.406Z"
   },
   {
    "duration": 14,
    "start_time": "2022-05-24T12:36:20.301Z"
   },
   {
    "duration": 118,
    "start_time": "2022-05-24T12:36:36.789Z"
   },
   {
    "duration": 15,
    "start_time": "2022-05-24T12:36:41.176Z"
   },
   {
    "duration": 19,
    "start_time": "2022-05-24T12:38:16.095Z"
   },
   {
    "duration": 45,
    "start_time": "2022-05-24T12:38:31.669Z"
   },
   {
    "duration": 12,
    "start_time": "2022-05-24T12:38:32.410Z"
   },
   {
    "duration": 15,
    "start_time": "2022-05-24T12:38:39.682Z"
   },
   {
    "duration": 15,
    "start_time": "2022-05-24T12:39:45.175Z"
   },
   {
    "duration": 4,
    "start_time": "2022-05-24T12:40:40.742Z"
   },
   {
    "duration": 4,
    "start_time": "2022-05-24T12:41:16.265Z"
   },
   {
    "duration": 1275,
    "start_time": "2022-05-24T12:41:35.947Z"
   },
   {
    "duration": 871,
    "start_time": "2022-05-24T12:41:39.090Z"
   },
   {
    "duration": 32,
    "start_time": "2022-05-24T12:41:41.536Z"
   },
   {
    "duration": 222,
    "start_time": "2022-05-24T12:41:42.260Z"
   },
   {
    "duration": 7,
    "start_time": "2022-05-24T12:41:43.060Z"
   },
   {
    "duration": 8,
    "start_time": "2022-05-24T12:41:43.769Z"
   },
   {
    "duration": 4,
    "start_time": "2022-05-24T12:41:44.900Z"
   },
   {
    "duration": 91755,
    "start_time": "2022-05-24T12:41:46.363Z"
   },
   {
    "duration": 7,
    "start_time": "2022-05-24T12:43:28.398Z"
   },
   {
    "duration": 4,
    "start_time": "2022-05-24T12:43:36.056Z"
   },
   {
    "duration": 50,
    "start_time": "2022-05-24T12:43:47.280Z"
   },
   {
    "duration": 4,
    "start_time": "2022-05-24T12:43:55.623Z"
   },
   {
    "duration": 4,
    "start_time": "2022-05-24T12:44:03.139Z"
   },
   {
    "duration": 4,
    "start_time": "2022-05-24T12:44:51.694Z"
   },
   {
    "duration": 13,
    "start_time": "2022-05-24T12:44:58.786Z"
   },
   {
    "duration": 3,
    "start_time": "2022-05-24T12:44:59.463Z"
   },
   {
    "duration": 1297,
    "start_time": "2022-05-24T12:48:06.000Z"
   },
   {
    "duration": 881,
    "start_time": "2022-05-24T12:48:10.339Z"
   },
   {
    "duration": 32,
    "start_time": "2022-05-24T12:48:14.686Z"
   },
   {
    "duration": 230,
    "start_time": "2022-05-24T12:48:15.479Z"
   },
   {
    "duration": 6,
    "start_time": "2022-05-24T12:48:16.517Z"
   },
   {
    "duration": 10,
    "start_time": "2022-05-24T12:48:17.407Z"
   },
   {
    "duration": 3,
    "start_time": "2022-05-24T12:48:18.243Z"
   },
   {
    "duration": 92278,
    "start_time": "2022-05-24T12:48:19.813Z"
   },
   {
    "duration": 8,
    "start_time": "2022-05-24T12:49:58.469Z"
   },
   {
    "duration": 10990,
    "start_time": "2022-05-24T12:50:01.948Z"
   },
   {
    "duration": 1221,
    "start_time": "2022-05-24T12:52:36.009Z"
   },
   {
    "duration": 914,
    "start_time": "2022-05-24T12:52:38.639Z"
   },
   {
    "duration": 32,
    "start_time": "2022-05-24T12:52:40.516Z"
   },
   {
    "duration": 229,
    "start_time": "2022-05-24T12:52:45.354Z"
   },
   {
    "duration": 8,
    "start_time": "2022-05-24T12:52:48.912Z"
   },
   {
    "duration": 8,
    "start_time": "2022-05-24T12:52:49.872Z"
   },
   {
    "duration": 4,
    "start_time": "2022-05-24T12:52:50.919Z"
   },
   {
    "duration": 92851,
    "start_time": "2022-05-24T12:52:52.070Z"
   },
   {
    "duration": 8,
    "start_time": "2022-05-24T12:54:31.194Z"
   },
   {
    "duration": 46,
    "start_time": "2022-05-24T12:54:34.051Z"
   },
   {
    "duration": 4,
    "start_time": "2022-05-24T12:54:35.577Z"
   },
   {
    "duration": 11106,
    "start_time": "2022-05-24T12:54:39.401Z"
   },
   {
    "duration": 4,
    "start_time": "2022-05-24T12:55:04.607Z"
   },
   {
    "duration": 16,
    "start_time": "2022-05-24T12:55:17.551Z"
   },
   {
    "duration": 460,
    "start_time": "2022-05-24T12:55:36.435Z"
   },
   {
    "duration": 410,
    "start_time": "2022-05-24T12:57:18.817Z"
   },
   {
    "duration": 31,
    "start_time": "2022-05-24T12:58:22.115Z"
   },
   {
    "duration": 1431,
    "start_time": "2022-05-24T13:01:08.755Z"
   },
   {
    "duration": 964,
    "start_time": "2022-05-24T13:01:21.658Z"
   },
   {
    "duration": 33,
    "start_time": "2022-05-24T13:01:24.289Z"
   },
   {
    "duration": 233,
    "start_time": "2022-05-24T13:01:24.998Z"
   },
   {
    "duration": 6,
    "start_time": "2022-05-24T13:01:26.597Z"
   },
   {
    "duration": 11,
    "start_time": "2022-05-24T13:01:26.606Z"
   },
   {
    "duration": 3,
    "start_time": "2022-05-24T13:01:27.868Z"
   },
   {
    "duration": 106969,
    "start_time": "2022-05-24T13:01:29.277Z"
   },
   {
    "duration": 8,
    "start_time": "2022-05-24T13:03:20.249Z"
   },
   {
    "duration": 51,
    "start_time": "2022-05-24T13:03:23.309Z"
   },
   {
    "duration": 5,
    "start_time": "2022-05-24T13:03:29.079Z"
   },
   {
    "duration": 134,
    "start_time": "2022-05-24T13:03:32.688Z"
   },
   {
    "duration": 21,
    "start_time": "2022-05-24T13:03:46.128Z"
   },
   {
    "duration": 1312,
    "start_time": "2022-05-24T13:07:37.820Z"
   },
   {
    "duration": 891,
    "start_time": "2022-05-24T13:07:40.499Z"
   },
   {
    "duration": 34,
    "start_time": "2022-05-24T13:07:42.522Z"
   },
   {
    "duration": 234,
    "start_time": "2022-05-24T13:07:43.445Z"
   },
   {
    "duration": 6,
    "start_time": "2022-05-24T13:07:44.449Z"
   },
   {
    "duration": 8,
    "start_time": "2022-05-24T13:07:45.161Z"
   },
   {
    "duration": 4,
    "start_time": "2022-05-24T13:07:46.017Z"
   },
   {
    "duration": 101902,
    "start_time": "2022-05-24T13:07:49.179Z"
   },
   {
    "duration": 9,
    "start_time": "2022-05-24T13:10:12.879Z"
   },
   {
    "duration": 51,
    "start_time": "2022-05-24T13:10:16.515Z"
   },
   {
    "duration": 4,
    "start_time": "2022-05-24T13:10:17.436Z"
   },
   {
    "duration": 11243,
    "start_time": "2022-05-24T13:10:26.473Z"
   },
   {
    "duration": 38064,
    "start_time": "2022-05-24T13:10:41.708Z"
   },
   {
    "duration": 4,
    "start_time": "2022-05-24T13:11:30.022Z"
   },
   {
    "duration": 19,
    "start_time": "2022-05-24T13:11:31.910Z"
   },
   {
    "duration": 4803,
    "start_time": "2022-05-24T13:11:52.064Z"
   },
   {
    "duration": 1412,
    "start_time": "2022-05-24T13:12:21.232Z"
   },
   {
    "duration": 893,
    "start_time": "2022-05-24T13:12:23.782Z"
   },
   {
    "duration": 37,
    "start_time": "2022-05-24T13:12:25.598Z"
   },
   {
    "duration": 238,
    "start_time": "2022-05-24T13:12:26.293Z"
   },
   {
    "duration": 7,
    "start_time": "2022-05-24T13:12:27.093Z"
   },
   {
    "duration": 8,
    "start_time": "2022-05-24T13:12:27.662Z"
   },
   {
    "duration": 3,
    "start_time": "2022-05-24T13:12:28.456Z"
   },
   {
    "duration": 123165,
    "start_time": "2022-05-24T13:12:29.433Z"
   },
   {
    "duration": 8,
    "start_time": "2022-05-24T13:14:38.772Z"
   },
   {
    "duration": 46,
    "start_time": "2022-05-24T13:14:41.276Z"
   },
   {
    "duration": 3,
    "start_time": "2022-05-24T13:14:42.142Z"
   },
   {
    "duration": 11289,
    "start_time": "2022-05-24T13:14:43.512Z"
   },
   {
    "duration": 5,
    "start_time": "2022-05-24T13:14:57.454Z"
   },
   {
    "duration": 21,
    "start_time": "2022-05-24T13:15:04.767Z"
   },
   {
    "duration": 4929,
    "start_time": "2022-05-24T13:15:23.218Z"
   },
   {
    "duration": 5,
    "start_time": "2022-05-24T13:17:03.171Z"
   },
   {
    "duration": 1167,
    "start_time": "2022-05-24T13:17:05.018Z"
   },
   {
    "duration": 1241,
    "start_time": "2022-05-24T13:49:55.439Z"
   },
   {
    "duration": 881,
    "start_time": "2022-05-24T13:50:11.178Z"
   },
   {
    "duration": 34,
    "start_time": "2022-05-24T13:50:12.951Z"
   },
   {
    "duration": 240,
    "start_time": "2022-05-24T13:50:13.832Z"
   },
   {
    "duration": 7,
    "start_time": "2022-05-24T13:50:14.777Z"
   },
   {
    "duration": 9,
    "start_time": "2022-05-24T13:50:15.482Z"
   },
   {
    "duration": 4,
    "start_time": "2022-05-24T13:50:17.311Z"
   },
   {
    "duration": 89909,
    "start_time": "2022-05-24T13:50:18.430Z"
   },
   {
    "duration": 8,
    "start_time": "2022-05-24T13:52:20.270Z"
   },
   {
    "duration": 44,
    "start_time": "2022-05-24T13:52:22.810Z"
   },
   {
    "duration": 4,
    "start_time": "2022-05-24T13:52:23.545Z"
   },
   {
    "duration": 10765,
    "start_time": "2022-05-24T13:52:24.577Z"
   },
   {
    "duration": 128,
    "start_time": "2022-05-24T13:52:38.598Z"
   },
   {
    "duration": 4,
    "start_time": "2022-05-24T13:53:56.923Z"
   },
   {
    "duration": 1134,
    "start_time": "2022-05-24T13:53:59.102Z"
   },
   {
    "duration": 11,
    "start_time": "2022-05-24T13:54:03.633Z"
   },
   {
    "duration": 31,
    "start_time": "2022-05-24T13:54:38.781Z"
   },
   {
    "duration": 1213,
    "start_time": "2022-05-24T14:26:50.416Z"
   },
   {
    "duration": 878,
    "start_time": "2022-05-24T14:26:52.711Z"
   },
   {
    "duration": 31,
    "start_time": "2022-05-24T14:26:54.435Z"
   },
   {
    "duration": 218,
    "start_time": "2022-05-24T14:26:55.250Z"
   },
   {
    "duration": 7,
    "start_time": "2022-05-24T14:26:56.013Z"
   },
   {
    "duration": 7,
    "start_time": "2022-05-24T14:26:56.637Z"
   },
   {
    "duration": 4,
    "start_time": "2022-05-24T14:26:57.320Z"
   },
   {
    "duration": 93202,
    "start_time": "2022-05-24T14:26:58.062Z"
   },
   {
    "duration": 7,
    "start_time": "2022-05-24T14:28:34.586Z"
   },
   {
    "duration": 50,
    "start_time": "2022-05-24T14:28:37.329Z"
   },
   {
    "duration": 4,
    "start_time": "2022-05-24T14:28:38.019Z"
   },
   {
    "duration": 11435,
    "start_time": "2022-05-24T14:28:38.886Z"
   },
   {
    "duration": 4,
    "start_time": "2022-05-24T14:28:51.483Z"
   },
   {
    "duration": 1236,
    "start_time": "2022-05-24T14:28:54.467Z"
   },
   {
    "duration": 62266,
    "start_time": "2022-05-24T14:29:04.648Z"
   },
   {
    "duration": 61420,
    "start_time": "2022-05-24T14:35:19.857Z"
   },
   {
    "duration": 6,
    "start_time": "2022-05-24T14:40:49.202Z"
   },
   {
    "duration": 271368,
    "start_time": "2022-05-24T14:48:33.748Z"
   },
   {
    "duration": 34,
    "start_time": "2022-05-24T14:54:25.042Z"
   },
   {
    "duration": 9090,
    "start_time": "2022-05-24T14:55:40.018Z"
   },
   {
    "duration": 1284,
    "start_time": "2022-05-24T17:01:13.072Z"
   },
   {
    "duration": 2536,
    "start_time": "2022-05-24T17:01:15.273Z"
   },
   {
    "duration": 28,
    "start_time": "2022-05-24T17:01:18.296Z"
   },
   {
    "duration": 215,
    "start_time": "2022-05-24T17:01:19.268Z"
   },
   {
    "duration": 5,
    "start_time": "2022-05-24T17:01:19.920Z"
   },
   {
    "duration": 7,
    "start_time": "2022-05-24T17:01:20.472Z"
   },
   {
    "duration": 3,
    "start_time": "2022-05-24T17:01:21.497Z"
   },
   {
    "duration": 90994,
    "start_time": "2022-05-24T17:01:23.180Z"
   },
   {
    "duration": 7,
    "start_time": "2022-05-24T17:04:41.006Z"
   },
   {
    "duration": 61,
    "start_time": "2022-05-24T17:04:42.908Z"
   },
   {
    "duration": 3,
    "start_time": "2022-05-24T17:04:43.404Z"
   },
   {
    "duration": 11106,
    "start_time": "2022-05-24T17:04:43.940Z"
   },
   {
    "duration": 4,
    "start_time": "2022-05-24T17:04:56.294Z"
   },
   {
    "duration": 1492,
    "start_time": "2022-05-24T17:04:57.917Z"
   },
   {
    "duration": 1423,
    "start_time": "2022-05-24T17:31:26.149Z"
   },
   {
    "duration": 895,
    "start_time": "2022-05-24T17:31:28.080Z"
   },
   {
    "duration": 31,
    "start_time": "2022-05-24T17:31:29.384Z"
   },
   {
    "duration": 230,
    "start_time": "2022-05-24T17:31:29.869Z"
   },
   {
    "duration": 7,
    "start_time": "2022-05-24T17:31:30.392Z"
   },
   {
    "duration": 9,
    "start_time": "2022-05-24T17:31:30.848Z"
   },
   {
    "duration": 3,
    "start_time": "2022-05-24T17:31:31.328Z"
   },
   {
    "duration": 97869,
    "start_time": "2022-05-24T17:31:32.119Z"
   },
   {
    "duration": 7,
    "start_time": "2022-05-24T17:34:18.439Z"
   },
   {
    "duration": 46,
    "start_time": "2022-05-24T17:34:19.964Z"
   },
   {
    "duration": 3,
    "start_time": "2022-05-24T17:34:20.440Z"
   },
   {
    "duration": 11269,
    "start_time": "2022-05-24T17:34:20.904Z"
   },
   {
    "duration": 5,
    "start_time": "2022-05-24T17:34:32.772Z"
   },
   {
    "duration": 1169,
    "start_time": "2022-05-24T17:34:34.079Z"
   },
   {
    "duration": 1303,
    "start_time": "2022-05-24T18:12:48.199Z"
   },
   {
    "duration": 972,
    "start_time": "2022-05-24T18:12:50.154Z"
   },
   {
    "duration": 44,
    "start_time": "2022-05-24T18:12:51.655Z"
   },
   {
    "duration": 251,
    "start_time": "2022-05-24T18:12:52.156Z"
   },
   {
    "duration": 8,
    "start_time": "2022-05-24T18:12:52.999Z"
   },
   {
    "duration": 12,
    "start_time": "2022-05-24T18:12:53.451Z"
   },
   {
    "duration": 4,
    "start_time": "2022-05-24T18:12:53.954Z"
   },
   {
    "duration": 107008,
    "start_time": "2022-05-24T18:12:54.652Z"
   },
   {
    "duration": 10,
    "start_time": "2022-05-24T18:14:46.183Z"
   },
   {
    "duration": 43,
    "start_time": "2022-05-24T18:14:48.186Z"
   },
   {
    "duration": 4,
    "start_time": "2022-05-24T18:14:48.755Z"
   },
   {
    "duration": 12303,
    "start_time": "2022-05-24T18:14:49.272Z"
   },
   {
    "duration": 197,
    "start_time": "2022-05-24T18:15:01.580Z"
   },
   {
    "duration": 6,
    "start_time": "2022-05-24T18:15:08.984Z"
   },
   {
    "duration": 1339,
    "start_time": "2022-05-24T18:15:09.485Z"
   },
   {
    "duration": 609300,
    "start_time": "2022-05-24T18:15:14.352Z"
   },
   {
    "duration": 846780,
    "start_time": "2022-05-24T18:41:45.126Z"
   },
   {
    "duration": 1278,
    "start_time": "2022-05-24T20:15:29.581Z"
   },
   {
    "duration": 2328,
    "start_time": "2022-05-24T20:15:31.261Z"
   },
   {
    "duration": 30,
    "start_time": "2022-05-24T20:15:34.044Z"
   },
   {
    "duration": 212,
    "start_time": "2022-05-24T20:15:34.573Z"
   },
   {
    "duration": 6,
    "start_time": "2022-05-24T20:15:35.372Z"
   },
   {
    "duration": 8,
    "start_time": "2022-05-24T20:15:35.812Z"
   },
   {
    "duration": 4,
    "start_time": "2022-05-24T20:15:36.287Z"
   },
   {
    "duration": 89680,
    "start_time": "2022-05-24T20:15:36.973Z"
   },
   {
    "duration": 7,
    "start_time": "2022-05-24T20:17:36.413Z"
   },
   {
    "duration": 46,
    "start_time": "2022-05-24T20:17:37.780Z"
   },
   {
    "duration": 3,
    "start_time": "2022-05-24T20:17:38.269Z"
   },
   {
    "duration": 10374,
    "start_time": "2022-05-24T20:17:38.820Z"
   },
   {
    "duration": 4,
    "start_time": "2022-05-24T20:17:52.604Z"
   },
   {
    "duration": 1134,
    "start_time": "2022-05-24T20:17:55.165Z"
   },
   {
    "duration": 1201,
    "start_time": "2022-05-24T20:43:10.497Z"
   },
   {
    "duration": 844,
    "start_time": "2022-05-24T20:43:13.089Z"
   },
   {
    "duration": 29,
    "start_time": "2022-05-24T20:43:14.905Z"
   },
   {
    "duration": 213,
    "start_time": "2022-05-24T20:43:15.402Z"
   },
   {
    "duration": 8,
    "start_time": "2022-05-24T20:43:16.088Z"
   },
   {
    "duration": 9,
    "start_time": "2022-05-24T20:43:16.497Z"
   },
   {
    "duration": 4,
    "start_time": "2022-05-24T20:43:16.873Z"
   },
   {
    "duration": 92674,
    "start_time": "2022-05-24T20:43:17.490Z"
   },
   {
    "duration": 7,
    "start_time": "2022-05-24T20:44:52.873Z"
   },
   {
    "duration": 42,
    "start_time": "2022-05-24T20:44:54.456Z"
   },
   {
    "duration": 3,
    "start_time": "2022-05-24T20:44:54.840Z"
   },
   {
    "duration": 10629,
    "start_time": "2022-05-24T20:44:55.561Z"
   },
   {
    "duration": 5,
    "start_time": "2022-05-24T20:45:08.585Z"
   },
   {
    "duration": 1109,
    "start_time": "2022-05-24T20:45:10.681Z"
   },
   {
    "duration": 1217,
    "start_time": "2022-05-24T20:54:58.774Z"
   },
   {
    "duration": 868,
    "start_time": "2022-05-24T20:55:02.877Z"
   },
   {
    "duration": 31,
    "start_time": "2022-05-24T20:55:05.221Z"
   },
   {
    "duration": 228,
    "start_time": "2022-05-24T20:55:05.734Z"
   },
   {
    "duration": 7,
    "start_time": "2022-05-24T20:55:06.445Z"
   },
   {
    "duration": 8,
    "start_time": "2022-05-24T20:55:06.872Z"
   },
   {
    "duration": 8,
    "start_time": "2022-05-24T20:55:07.336Z"
   },
   {
    "duration": 88849,
    "start_time": "2022-05-24T20:55:09.183Z"
   },
   {
    "duration": 8,
    "start_time": "2022-05-24T20:56:49.044Z"
   },
   {
    "duration": 45,
    "start_time": "2022-05-24T20:56:50.348Z"
   },
   {
    "duration": 3,
    "start_time": "2022-05-24T20:56:50.845Z"
   },
   {
    "duration": 10694,
    "start_time": "2022-05-24T20:56:51.365Z"
   },
   {
    "duration": 5,
    "start_time": "2022-05-24T20:57:02.516Z"
   },
   {
    "duration": 1163,
    "start_time": "2022-05-24T20:57:03.948Z"
   },
   {
    "duration": 1321,
    "start_time": "2022-05-24T20:57:49.212Z"
   },
   {
    "duration": 844,
    "start_time": "2022-05-24T20:57:54.153Z"
   },
   {
    "duration": 32,
    "start_time": "2022-05-24T20:57:55.464Z"
   },
   {
    "duration": 216,
    "start_time": "2022-05-24T20:57:55.865Z"
   },
   {
    "duration": 6,
    "start_time": "2022-05-24T20:57:56.240Z"
   },
   {
    "duration": 8,
    "start_time": "2022-05-24T20:57:56.664Z"
   },
   {
    "duration": 4,
    "start_time": "2022-05-24T20:57:56.994Z"
   },
   {
    "duration": 87971,
    "start_time": "2022-05-24T20:57:57.457Z"
   },
   {
    "duration": 8,
    "start_time": "2022-05-24T20:59:33.951Z"
   },
   {
    "duration": 45,
    "start_time": "2022-05-24T20:59:35.528Z"
   },
   {
    "duration": 4,
    "start_time": "2022-05-24T20:59:35.983Z"
   },
   {
    "duration": 10487,
    "start_time": "2022-05-24T20:59:36.448Z"
   },
   {
    "duration": 4,
    "start_time": "2022-05-24T20:59:47.576Z"
   },
   {
    "duration": 1129,
    "start_time": "2022-05-24T20:59:49.711Z"
   },
   {
    "duration": 1407,
    "start_time": "2022-05-25T05:57:45.982Z"
   },
   {
    "duration": 3548,
    "start_time": "2022-05-25T05:57:48.423Z"
   },
   {
    "duration": 38,
    "start_time": "2022-05-25T05:57:52.829Z"
   },
   {
    "duration": 239,
    "start_time": "2022-05-25T05:57:53.569Z"
   },
   {
    "duration": 6,
    "start_time": "2022-05-25T05:57:54.303Z"
   },
   {
    "duration": 7,
    "start_time": "2022-05-25T05:57:54.943Z"
   },
   {
    "duration": 3,
    "start_time": "2022-05-25T05:57:55.835Z"
   },
   {
    "duration": 96245,
    "start_time": "2022-05-25T05:57:57.052Z"
   },
   {
    "duration": 8,
    "start_time": "2022-05-25T05:59:38.124Z"
   },
   {
    "duration": 42,
    "start_time": "2022-05-25T05:59:40.773Z"
   },
   {
    "duration": 4,
    "start_time": "2022-05-25T05:59:41.969Z"
   },
   {
    "duration": 11491,
    "start_time": "2022-05-25T05:59:43.290Z"
   },
   {
    "duration": 6,
    "start_time": "2022-05-25T05:59:58.509Z"
   },
   {
    "duration": 1667,
    "start_time": "2022-05-25T06:00:00.240Z"
   },
   {
    "duration": 666115,
    "start_time": "2022-05-25T06:01:56.994Z"
   },
   {
    "duration": 609333,
    "start_time": "2022-05-25T06:15:00.474Z"
   },
   {
    "duration": 819333,
    "start_time": "2022-05-25T06:27:16.984Z"
   },
   {
    "duration": 261228,
    "start_time": "2022-05-25T06:42:02.430Z"
   },
   {
    "duration": 4891,
    "start_time": "2022-05-25T06:50:49.393Z"
   },
   {
    "duration": 8118,
    "start_time": "2022-05-25T06:51:07.917Z"
   },
   {
    "duration": 285,
    "start_time": "2022-05-25T06:51:22.662Z"
   },
   {
    "duration": 6699,
    "start_time": "2022-05-25T06:51:26.458Z"
   },
   {
    "duration": 7910,
    "start_time": "2022-05-25T06:53:07.413Z"
   },
   {
    "duration": 31672,
    "start_time": "2022-05-25T06:56:27.051Z"
   },
   {
    "duration": 13949,
    "start_time": "2022-05-25T06:57:41.412Z"
   },
   {
    "duration": 573,
    "start_time": "2022-05-25T06:58:06.923Z"
   },
   {
    "duration": 24694,
    "start_time": "2022-05-25T06:58:16.867Z"
   },
   {
    "duration": 24013,
    "start_time": "2022-05-25T06:58:54.041Z"
   },
   {
    "duration": 33859,
    "start_time": "2022-05-25T06:59:53.198Z"
   },
   {
    "duration": 5268,
    "start_time": "2022-05-25T07:00:48.269Z"
   },
   {
    "duration": 5,
    "start_time": "2022-05-25T07:07:35.940Z"
   },
   {
    "duration": 38,
    "start_time": "2022-05-25T07:07:37.139Z"
   },
   {
    "duration": 5,
    "start_time": "2022-05-25T07:08:54.795Z"
   },
   {
    "duration": 20,
    "start_time": "2022-05-25T07:08:57.868Z"
   },
   {
    "duration": 4,
    "start_time": "2022-05-25T07:09:42.827Z"
   },
   {
    "duration": 22,
    "start_time": "2022-05-25T07:09:44.283Z"
   },
   {
    "duration": 4,
    "start_time": "2022-05-25T07:10:13.837Z"
   },
   {
    "duration": 19,
    "start_time": "2022-05-25T07:10:14.617Z"
   },
   {
    "duration": 12,
    "start_time": "2022-05-25T07:11:32.792Z"
   },
   {
    "duration": 17,
    "start_time": "2022-05-25T07:11:33.456Z"
   },
   {
    "duration": 4,
    "start_time": "2022-05-25T07:11:59.316Z"
   },
   {
    "duration": 27,
    "start_time": "2022-05-25T07:11:59.980Z"
   },
   {
    "duration": 4,
    "start_time": "2022-05-25T07:14:15.962Z"
   },
   {
    "duration": 27,
    "start_time": "2022-05-25T07:14:16.561Z"
   },
   {
    "duration": 5,
    "start_time": "2022-05-25T07:15:26.976Z"
   },
   {
    "duration": 1153,
    "start_time": "2022-05-25T07:15:27.539Z"
   },
   {
    "duration": 4895,
    "start_time": "2022-05-25T07:15:45.515Z"
   },
   {
    "duration": 8980,
    "start_time": "2022-05-25T07:16:40.710Z"
   },
   {
    "duration": 355,
    "start_time": "2022-05-25T07:17:00.848Z"
   },
   {
    "duration": 6858,
    "start_time": "2022-05-25T07:17:06.957Z"
   },
   {
    "duration": 6,
    "start_time": "2022-05-25T07:19:24.579Z"
   },
   {
    "duration": 38,
    "start_time": "2022-05-25T07:19:25.547Z"
   },
   {
    "duration": 5,
    "start_time": "2022-05-25T07:20:20.868Z"
   },
   {
    "duration": 34,
    "start_time": "2022-05-25T07:20:21.468Z"
   },
   {
    "duration": 4,
    "start_time": "2022-05-25T07:26:23.366Z"
   },
   {
    "duration": 34,
    "start_time": "2022-05-25T07:26:23.917Z"
   },
   {
    "duration": 4,
    "start_time": "2022-05-25T07:26:32.053Z"
   },
   {
    "duration": 33,
    "start_time": "2022-05-25T07:26:32.756Z"
   },
   {
    "duration": 4,
    "start_time": "2022-05-25T07:26:40.466Z"
   },
   {
    "duration": 42,
    "start_time": "2022-05-25T07:26:40.976Z"
   },
   {
    "duration": 9,
    "start_time": "2022-05-25T07:29:27.072Z"
   },
   {
    "duration": 5,
    "start_time": "2022-05-25T07:29:29.240Z"
   },
   {
    "duration": 9,
    "start_time": "2022-05-25T07:29:29.938Z"
   },
   {
    "duration": 20,
    "start_time": "2022-05-25T07:29:36.766Z"
   },
   {
    "duration": 5,
    "start_time": "2022-05-25T07:29:54.951Z"
   },
   {
    "duration": 1220,
    "start_time": "2022-05-25T07:29:55.531Z"
   },
   {
    "duration": 5018,
    "start_time": "2022-05-25T07:30:01.607Z"
   },
   {
    "duration": 8319,
    "start_time": "2022-05-25T07:30:14.943Z"
   },
   {
    "duration": 5280,
    "start_time": "2022-05-25T07:35:56.651Z"
   },
   {
    "duration": 5,
    "start_time": "2022-05-25T07:43:05.961Z"
   },
   {
    "duration": 1227,
    "start_time": "2022-05-25T07:43:06.731Z"
   },
   {
    "duration": 4926,
    "start_time": "2022-05-25T07:43:14.079Z"
   },
   {
    "duration": 8935,
    "start_time": "2022-05-25T07:43:34.077Z"
   },
   {
    "duration": 381,
    "start_time": "2022-05-25T07:45:37.897Z"
   },
   {
    "duration": 6691,
    "start_time": "2022-05-25T07:45:40.519Z"
   },
   {
    "duration": 4,
    "start_time": "2022-05-25T08:02:44.096Z"
   },
   {
    "duration": 2229,
    "start_time": "2022-05-25T08:02:44.772Z"
   },
   {
    "duration": 10390,
    "start_time": "2022-05-25T08:02:51.164Z"
   },
   {
    "duration": 18231,
    "start_time": "2022-05-25T08:03:07.638Z"
   },
   {
    "duration": 429,
    "start_time": "2022-05-25T08:03:30.081Z"
   },
   {
    "duration": 9179,
    "start_time": "2022-05-25T08:03:33.149Z"
   },
   {
    "duration": 4,
    "start_time": "2022-05-25T08:04:12.062Z"
   },
   {
    "duration": 3745,
    "start_time": "2022-05-25T08:04:13.689Z"
   },
   {
    "duration": 21043,
    "start_time": "2022-05-25T08:04:22.246Z"
   },
   {
    "duration": 32864,
    "start_time": "2022-05-25T08:04:46.766Z"
   },
   {
    "duration": 526,
    "start_time": "2022-05-25T08:05:21.766Z"
   },
   {
    "duration": 16213,
    "start_time": "2022-05-25T08:05:26.022Z"
   },
   {
    "duration": 1340,
    "start_time": "2022-05-25T08:07:09.641Z"
   },
   {
    "duration": 1024,
    "start_time": "2022-05-25T08:07:11.817Z"
   },
   {
    "duration": 32,
    "start_time": "2022-05-25T08:07:13.629Z"
   },
   {
    "duration": 251,
    "start_time": "2022-05-25T08:07:14.431Z"
   },
   {
    "duration": 7,
    "start_time": "2022-05-25T08:07:15.378Z"
   },
   {
    "duration": 8,
    "start_time": "2022-05-25T08:07:15.992Z"
   },
   {
    "duration": 4,
    "start_time": "2022-05-25T08:07:16.780Z"
   },
   {
    "duration": 103341,
    "start_time": "2022-05-25T08:07:17.873Z"
   },
   {
    "duration": 10,
    "start_time": "2022-05-25T08:09:09.214Z"
   },
   {
    "duration": 49,
    "start_time": "2022-05-25T08:09:14.314Z"
   },
   {
    "duration": 5,
    "start_time": "2022-05-25T08:09:15.146Z"
   },
   {
    "duration": 11870,
    "start_time": "2022-05-25T08:09:16.122Z"
   },
   {
    "duration": 5,
    "start_time": "2022-05-25T08:09:30.960Z"
   },
   {
    "duration": 3805,
    "start_time": "2022-05-25T08:09:38.287Z"
   },
   {
    "duration": 1323653,
    "start_time": "2022-05-25T08:09:48.774Z"
   },
   {
    "duration": 1021975,
    "start_time": "2022-05-25T08:32:35.468Z"
   },
   {
    "duration": 3201124,
    "start_time": "2022-05-25T08:50:43.821Z"
   },
   {
    "duration": 1014813,
    "start_time": "2022-05-25T10:12:10.317Z"
   },
   {
    "duration": 15973,
    "start_time": "2022-05-25T10:29:55.202Z"
   },
   {
    "duration": 34300,
    "start_time": "2022-05-25T10:30:41.018Z"
   },
   {
    "duration": 351,
    "start_time": "2022-05-25T10:31:32.918Z"
   },
   {
    "duration": 18401,
    "start_time": "2022-05-25T10:32:04.145Z"
   },
   {
    "duration": 192,
    "start_time": "2022-05-25T10:36:50.777Z"
   },
   {
    "duration": 47,
    "start_time": "2022-05-25T10:37:23.716Z"
   },
   {
    "duration": 52,
    "start_time": "2022-05-25T10:40:05.970Z"
   }
  ],
  "kernelspec": {
   "display_name": "Python 3 (ipykernel)",
   "language": "python",
   "name": "python3"
  },
  "language_info": {
   "codemirror_mode": {
    "name": "ipython",
    "version": 3
   },
   "file_extension": ".py",
   "mimetype": "text/x-python",
   "name": "python",
   "nbconvert_exporter": "python",
   "pygments_lexer": "ipython3",
   "version": "3.9.12"
  },
  "toc": {
   "base_numbering": 1,
   "nav_menu": {},
   "number_sections": true,
   "sideBar": true,
   "skip_h1_title": true,
   "title_cell": "Содержание",
   "title_sidebar": "Contents",
   "toc_cell": true,
   "toc_position": {
    "height": "calc(100% - 180px)",
    "left": "10px",
    "top": "150px",
    "width": "302.391px"
   },
   "toc_section_display": true,
   "toc_window_display": false
  }
 },
 "nbformat": 4,
 "nbformat_minor": 2
}
