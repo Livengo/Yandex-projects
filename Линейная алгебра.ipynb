{
 "cells": [
  {
   "cell_type": "markdown",
   "metadata": {},
   "source": [
    "# Защита персональных данных клиентов"
   ]
  },
  {
   "cell_type": "markdown",
   "metadata": {},
   "source": [
    "Нам нужно защитить данные клиентов страховой компании «Хоть потоп». Разработаем такой метод преобразования данных, чтобы по ним было сложно восстановить персональную информацию. Обоснуем корректность его работы.\n",
    "\n",
    "Нужно защитить данные, чтобы при преобразовании качество моделей машинного обучения не ухудшилось. Подбирать наилучшую модель не требуется."
   ]
  },
  {
   "cell_type": "markdown",
   "metadata": {},
   "source": [
    "# Описание данных"
   ]
  },
  {
   "cell_type": "markdown",
   "metadata": {},
   "source": [
    "- Признаки: пол, возраст и зарплата застрахованного, количество членов его семьи.\n",
    "\n",
    "- Целевой признак: количество страховых выплат клиенту за последние 5 лет."
   ]
  },
  {
   "cell_type": "markdown",
   "metadata": {},
   "source": [
    "## Загрузка данных"
   ]
  },
  {
   "cell_type": "code",
   "execution_count": 1,
   "metadata": {},
   "outputs": [],
   "source": [
    "#Импортируем необходимые библиотеки\n",
    "import pandas as pd\n",
    "import numpy as np\n",
    "from sklearn.linear_model import LinearRegression\n",
    "from sklearn.metrics import r2_score\n",
    "import warnings\n",
    "warnings.filterwarnings('ignore')"
   ]
  },
  {
   "cell_type": "code",
   "execution_count": 2,
   "metadata": {},
   "outputs": [
    {
     "data": {
      "text/html": [
       "<div>\n",
       "<style scoped>\n",
       "    .dataframe tbody tr th:only-of-type {\n",
       "        vertical-align: middle;\n",
       "    }\n",
       "\n",
       "    .dataframe tbody tr th {\n",
       "        vertical-align: top;\n",
       "    }\n",
       "\n",
       "    .dataframe thead th {\n",
       "        text-align: right;\n",
       "    }\n",
       "</style>\n",
       "<table border=\"1\" class=\"dataframe\">\n",
       "  <thead>\n",
       "    <tr style=\"text-align: right;\">\n",
       "      <th></th>\n",
       "      <th>Пол</th>\n",
       "      <th>Возраст</th>\n",
       "      <th>Зарплата</th>\n",
       "      <th>Члены семьи</th>\n",
       "      <th>Страховые выплаты</th>\n",
       "    </tr>\n",
       "  </thead>\n",
       "  <tbody>\n",
       "    <tr>\n",
       "      <th>0</th>\n",
       "      <td>1</td>\n",
       "      <td>41.0</td>\n",
       "      <td>49600.0</td>\n",
       "      <td>1</td>\n",
       "      <td>0</td>\n",
       "    </tr>\n",
       "    <tr>\n",
       "      <th>1</th>\n",
       "      <td>0</td>\n",
       "      <td>46.0</td>\n",
       "      <td>38000.0</td>\n",
       "      <td>1</td>\n",
       "      <td>1</td>\n",
       "    </tr>\n",
       "    <tr>\n",
       "      <th>2</th>\n",
       "      <td>0</td>\n",
       "      <td>29.0</td>\n",
       "      <td>21000.0</td>\n",
       "      <td>0</td>\n",
       "      <td>0</td>\n",
       "    </tr>\n",
       "    <tr>\n",
       "      <th>3</th>\n",
       "      <td>0</td>\n",
       "      <td>21.0</td>\n",
       "      <td>41700.0</td>\n",
       "      <td>2</td>\n",
       "      <td>0</td>\n",
       "    </tr>\n",
       "    <tr>\n",
       "      <th>4</th>\n",
       "      <td>1</td>\n",
       "      <td>28.0</td>\n",
       "      <td>26100.0</td>\n",
       "      <td>0</td>\n",
       "      <td>0</td>\n",
       "    </tr>\n",
       "  </tbody>\n",
       "</table>\n",
       "</div>"
      ],
      "text/plain": [
       "   Пол  Возраст  Зарплата  Члены семьи  Страховые выплаты\n",
       "0    1     41.0   49600.0            1                  0\n",
       "1    0     46.0   38000.0            1                  1\n",
       "2    0     29.0   21000.0            0                  0\n",
       "3    0     21.0   41700.0            2                  0\n",
       "4    1     28.0   26100.0            0                  0"
      ]
     },
     "execution_count": 2,
     "metadata": {},
     "output_type": "execute_result"
    }
   ],
   "source": [
    "#Запишем и изучим значения датафрейма\n",
    "df = pd.read_csv(\"/datasets/insurance.csv\")\n",
    "df.head()"
   ]
  },
  {
   "cell_type": "code",
   "execution_count": 3,
   "metadata": {},
   "outputs": [
    {
     "name": "stdout",
     "output_type": "stream",
     "text": [
      "<class 'pandas.core.frame.DataFrame'>\n",
      "RangeIndex: 5000 entries, 0 to 4999\n",
      "Data columns (total 5 columns):\n",
      " #   Column             Non-Null Count  Dtype  \n",
      "---  ------             --------------  -----  \n",
      " 0   Пол                5000 non-null   int64  \n",
      " 1   Возраст            5000 non-null   float64\n",
      " 2   Зарплата           5000 non-null   float64\n",
      " 3   Члены семьи        5000 non-null   int64  \n",
      " 4   Страховые выплаты  5000 non-null   int64  \n",
      "dtypes: float64(2), int64(3)\n",
      "memory usage: 195.4 KB\n"
     ]
    }
   ],
   "source": [
    "#Изучим тип данных и количество заполненных значений \n",
    "df.info()"
   ]
  },
  {
   "cell_type": "code",
   "execution_count": 4,
   "metadata": {},
   "outputs": [],
   "source": [
    "#Приведём заголовки столбцов к нижнему и змеиному регистру\n",
    "df = df.rename(columns = {'Пол': 'пол', 'Возраст': 'возраст', 'Зарплата': 'зарплата', 'Члены семьи': 'члены_семьи', \n",
    "                          'Страховые выплаты': 'страховые_выплаты'})"
   ]
  },
  {
   "cell_type": "code",
   "execution_count": 5,
   "metadata": {},
   "outputs": [
    {
     "data": {
      "text/html": [
       "<div>\n",
       "<style scoped>\n",
       "    .dataframe tbody tr th:only-of-type {\n",
       "        vertical-align: middle;\n",
       "    }\n",
       "\n",
       "    .dataframe tbody tr th {\n",
       "        vertical-align: top;\n",
       "    }\n",
       "\n",
       "    .dataframe thead th {\n",
       "        text-align: right;\n",
       "    }\n",
       "</style>\n",
       "<table border=\"1\" class=\"dataframe\">\n",
       "  <thead>\n",
       "    <tr style=\"text-align: right;\">\n",
       "      <th></th>\n",
       "      <th>пол</th>\n",
       "      <th>возраст</th>\n",
       "      <th>зарплата</th>\n",
       "      <th>члены_семьи</th>\n",
       "      <th>страховые_выплаты</th>\n",
       "    </tr>\n",
       "  </thead>\n",
       "  <tbody>\n",
       "    <tr>\n",
       "      <th>0</th>\n",
       "      <td>1</td>\n",
       "      <td>41.0</td>\n",
       "      <td>49600.0</td>\n",
       "      <td>1</td>\n",
       "      <td>0</td>\n",
       "    </tr>\n",
       "    <tr>\n",
       "      <th>1</th>\n",
       "      <td>0</td>\n",
       "      <td>46.0</td>\n",
       "      <td>38000.0</td>\n",
       "      <td>1</td>\n",
       "      <td>1</td>\n",
       "    </tr>\n",
       "    <tr>\n",
       "      <th>2</th>\n",
       "      <td>0</td>\n",
       "      <td>29.0</td>\n",
       "      <td>21000.0</td>\n",
       "      <td>0</td>\n",
       "      <td>0</td>\n",
       "    </tr>\n",
       "    <tr>\n",
       "      <th>3</th>\n",
       "      <td>0</td>\n",
       "      <td>21.0</td>\n",
       "      <td>41700.0</td>\n",
       "      <td>2</td>\n",
       "      <td>0</td>\n",
       "    </tr>\n",
       "    <tr>\n",
       "      <th>4</th>\n",
       "      <td>1</td>\n",
       "      <td>28.0</td>\n",
       "      <td>26100.0</td>\n",
       "      <td>0</td>\n",
       "      <td>0</td>\n",
       "    </tr>\n",
       "  </tbody>\n",
       "</table>\n",
       "</div>"
      ],
      "text/plain": [
       "   пол  возраст  зарплата  члены_семьи  страховые_выплаты\n",
       "0    1     41.0   49600.0            1                  0\n",
       "1    0     46.0   38000.0            1                  1\n",
       "2    0     29.0   21000.0            0                  0\n",
       "3    0     21.0   41700.0            2                  0\n",
       "4    1     28.0   26100.0            0                  0"
      ]
     },
     "execution_count": 5,
     "metadata": {},
     "output_type": "execute_result"
    }
   ],
   "source": [
    "#Проверим изменения\n",
    "df.head()"
   ]
  },
  {
   "cell_type": "markdown",
   "metadata": {},
   "source": [
    "### Вывод"
   ]
  },
  {
   "cell_type": "markdown",
   "metadata": {},
   "source": [
    "С данными всё в порядке, нет пропусков, тип значений менять тоже не нужно. Заголовки были приведены к нижнему и змеиному регистру."
   ]
  },
  {
   "cell_type": "markdown",
   "metadata": {},
   "source": [
    "## Умножение матриц"
   ]
  },
  {
   "cell_type": "markdown",
   "metadata": {},
   "source": [
    "Обозначения:\n",
    "\n",
    "- $X$ — матрица признаков (нулевой столбец состоит из единиц)\n",
    "\n",
    "- $y$ — вектор целевого признака\n",
    "\n",
    "- $P$ — матрица, на которую умножаются признаки\n",
    "\n",
    "- $w$ — вектор весов линейной регрессии (нулевой элемент равен сдвигу)"
   ]
  },
  {
   "cell_type": "markdown",
   "metadata": {},
   "source": [
    "Предсказания:\n",
    "\n",
    "$$\n",
    "a = Xw\n",
    "$$\n",
    "\n",
    "Задача обучения:\n",
    "\n",
    "$$\n",
    "w = \\arg\\min_w MSE(Xw, y)\n",
    "$$\n",
    "\n",
    "Формула обучения:\n",
    "\n",
    "$$\n",
    "w = (X^T X)^{-1} X^T y\n",
    "$$"
   ]
  },
  {
   "cell_type": "markdown",
   "metadata": {},
   "source": [
    "**Ответ:** $R2$ не изменится.\n",
    "\n",
    "\n",
    "**Обоснование:** \n",
    " \n",
    "**ДОКАЗАТЕЛЬСТВО**\n",
    "\n",
    "*До умножения на обратимую матрицу:*\n",
    "\n",
    "$a = Xw$\n",
    "\n",
    "$a = X(X^{T}X)^{-1}X^{T}y$ - для общего случая\n",
    "\n",
    "Но, если у нас матрица $X$ - квадратная и её определитель $det$ $\\ne$ 0, тогда для неё существует обратная к ней матрица $X^{-1}$, и наша формула преобразуется в:\n",
    "\n",
    "$a = X(X^{T}X)^{-1}X^{T}y = XX^{-1}(X^{T})^{-1}X^{T}y = y$, т.к. $XX^{-1} = X^{-1}X = E$\n",
    "\n",
    "\n",
    "*После умножения на обратимую матрицу:*\n",
    "\n",
    "$a = XPw$,  где $P$ - обратимая матрица\n",
    "\n",
    "*Тогда*\n",
    "\n",
    "$a = XP((XP)^{T}(XP))^{-1}(XP)^{T}y = XP(P^{T}(X^{T}X)P)^{-1}(XP)^{T}y = XPP^{-1}(X^{T}X)^{-1}(P^{T})^{-1}P^{T}X^{T}y =  X(X^{T}X)^{-1}X^{T}y$ \n",
    "\n",
    "что совпадает с первоначальным вариантом, значит, качество линейной регрессии не изменится.\n",
    "\n",
    "*По аналогии, если у нас матрица $X$ - квадратная и её определитель $det$ $\\ne$ 0, тогда для неё существует обратная к ней матрица $X^{-1}$, и наша формула преобразуется в:*\n",
    "\n",
    "$a = y$\n",
    "\n",
    "                                                                                                                \n",
    "                                                                                                                ч.т.д"
   ]
  },
  {
   "cell_type": "markdown",
   "metadata": {},
   "source": [
    "## Алгоритм преобразования"
   ]
  },
  {
   "cell_type": "markdown",
   "metadata": {},
   "source": [
    "**Алгоритм**\n",
    "\n",
    "1. Выделим признаки и целевой признак.\n",
    "2. Сгенерируем случайную матрицу 4x4 и проверим, что она обратимая.\n",
    "3. Попробуем провести математические операции (сложение, вычитание, умножение, деление) со значениями нашего датасета.\n",
    "4. Умножим на сгенерированную матрицу 4x4."
   ]
  },
  {
   "cell_type": "markdown",
   "metadata": {},
   "source": [
    "**Обоснование**\n",
    "\n",
    "Считаю, что для проверки качества моделей до и после преобразования достаточно \"поиграться\" со значениями нашего датафрейма. Измения будут практически минимальные."
   ]
  },
  {
   "cell_type": "markdown",
   "metadata": {},
   "source": [
    "## Проверка алгоритма"
   ]
  },
  {
   "cell_type": "code",
   "execution_count": 6,
   "metadata": {},
   "outputs": [],
   "source": [
    "#Выделим признаки\n",
    "X = df.drop('страховые_выплаты', axis=1)\n",
    "y = df['страховые_выплаты']"
   ]
  },
  {
   "cell_type": "code",
   "execution_count": 7,
   "metadata": {},
   "outputs": [
    {
     "data": {
      "text/plain": [
       "((5000, 4), (5000,))"
      ]
     },
     "execution_count": 7,
     "metadata": {},
     "output_type": "execute_result"
    }
   ],
   "source": [
    "#Посмотрим форму\n",
    "X.shape, y.shape"
   ]
  },
  {
   "cell_type": "code",
   "execution_count": 8,
   "metadata": {},
   "outputs": [],
   "source": [
    "#Напишем функцию для расчёта метрики качества для модели линейной регрессии\n",
    "def R_2_score(x, y):\n",
    "    model = LinearRegression().fit(x, y)\n",
    "    prediction = model.predict(x)\n",
    "    r2 = r2_score(y, prediction)\n",
    "    return r2"
   ]
  },
  {
   "cell_type": "code",
   "execution_count": 15,
   "metadata": {},
   "outputs": [
    {
     "name": "stdout",
     "output_type": "stream",
     "text": [
      "Матрица A:\n",
      "[[0.47639273 0.80964218 0.06077061 0.64103875]\n",
      " [0.53343748 0.36137606 0.01980998 0.13318678]\n",
      " [0.29236239 0.28362317 0.44342489 0.71119766]\n",
      " [0.19237033 0.35160552 0.42813262 0.494111  ]]\n",
      "Обратная к матрице A:\n",
      "[[-0.98075023  2.49249205  1.42867485 -1.45582326]\n",
      " [ 1.19057178 -0.45939804 -3.15395842  3.11887601]\n",
      " [-1.62048302  0.81459492 -1.59868517  4.18383781]\n",
      " [ 0.93873092 -1.34931077  3.07332518 -3.25391304]]\n"
     ]
    }
   ],
   "source": [
    "#Создадим случайную матрицу 4x4 и проверим её обратимость\n",
    "A = np.random.rand(4, 4)\n",
    "B = np.linalg.inv(A)\n",
    "print('Матрица A:')\n",
    "print(A)\n",
    "print('Обратная к матрице A:')\n",
    "print(B)"
   ]
  },
  {
   "cell_type": "code",
   "execution_count": 11,
   "metadata": {},
   "outputs": [
    {
     "data": {
      "text/plain": [
       "0.42494550286668"
      ]
     },
     "execution_count": 11,
     "metadata": {},
     "output_type": "execute_result"
    }
   ],
   "source": [
    "#Проверим метрику R2 до всех преобразований\n",
    "R_2_score(X, y)"
   ]
  },
  {
   "cell_type": "code",
   "execution_count": 12,
   "metadata": {},
   "outputs": [
    {
     "data": {
      "text/plain": [
       "0.42494550286668153"
      ]
     },
     "execution_count": 12,
     "metadata": {},
     "output_type": "execute_result"
    }
   ],
   "source": [
    "#Проверим метрику R2 с перемножением на матрицу\n",
    "X_new_1 = X @ A\n",
    "R_2_score(X_new_1, y)"
   ]
  },
  {
   "cell_type": "code",
   "execution_count": 13,
   "metadata": {},
   "outputs": [
    {
     "data": {
      "text/plain": [
       "0.42494550286668"
      ]
     },
     "execution_count": 13,
     "metadata": {},
     "output_type": "execute_result"
    }
   ],
   "source": [
    "#Проверим метрику R2 с математическими операциями\n",
    "X_new_2 = (((X * 10) - 15) + 7) / 2 \n",
    "R_2_score(X_new_2, y)"
   ]
  },
  {
   "cell_type": "code",
   "execution_count": 14,
   "metadata": {},
   "outputs": [
    {
     "data": {
      "text/plain": [
       "0.4249455028666965"
      ]
     },
     "execution_count": 14,
     "metadata": {},
     "output_type": "execute_result"
    }
   ],
   "source": [
    "#Проверим метрику R2 с математическими операциями и перемножением на матрицу\n",
    "X_new_3 = X_new_2 @ A\n",
    "R_2_score(X_new_3, y)"
   ]
  },
  {
   "cell_type": "markdown",
   "metadata": {},
   "source": [
    "### Вывод"
   ]
  },
  {
   "cell_type": "markdown",
   "metadata": {},
   "source": [
    "Метрика R2 до всех преобразований = 0.42494550286668\n",
    "\n",
    "Метрика R2 с перемножением на матрицу = 0.4249455028667004\n",
    "\n",
    "Метрика R2 с математическими операциями = 0.42494550286668\n",
    "\n",
    "Метрика R2 с математическими операциями и перемножением на матрицу = 0.42494550286667965\n",
    "\n",
    "Как видно, изменения очень незначительные.\n",
    "\n"
   ]
  },
  {
   "cell_type": "markdown",
   "metadata": {},
   "source": [
    "## Общий вывод"
   ]
  },
  {
   "cell_type": "markdown",
   "metadata": {},
   "source": [
    "Таким образом, была проверена теория об умножении матриц (качество метрики не изменится), был предложен алгоритм преобразования, и всё это проверено на примерах с проведением умножения на случайную обратимую матрицу и математическими операциями над данными нашего датафрейма.\n",
    "\n",
    "**ИТОГ: качество метрики R2 до и после преобразований почти не изменяется (можно сказать, что не изменяется).**"
   ]
  }
 ],
 "metadata": {
  "ExecuteTimeLog": [
   {
    "duration": 1385,
    "start_time": "2022-05-10T10:39:52.225Z"
   },
   {
    "duration": 31,
    "start_time": "2022-05-10T10:39:54.544Z"
   },
   {
    "duration": 15,
    "start_time": "2022-05-10T10:46:45.592Z"
   },
   {
    "duration": 5,
    "start_time": "2022-05-10T10:48:28.453Z"
   },
   {
    "duration": 15,
    "start_time": "2022-05-10T10:48:35.324Z"
   },
   {
    "duration": 5,
    "start_time": "2022-05-10T10:49:11.763Z"
   },
   {
    "duration": 104,
    "start_time": "2022-05-10T11:17:18.220Z"
   },
   {
    "duration": 5,
    "start_time": "2022-05-10T11:17:34.346Z"
   },
   {
    "duration": 4,
    "start_time": "2022-05-10T11:22:00.667Z"
   },
   {
    "duration": 17,
    "start_time": "2022-05-10T12:40:51.761Z"
   },
   {
    "duration": 1279,
    "start_time": "2022-05-10T12:41:04.939Z"
   },
   {
    "duration": 75,
    "start_time": "2022-05-10T12:41:07.315Z"
   },
   {
    "duration": 11,
    "start_time": "2022-05-10T12:41:07.844Z"
   },
   {
    "duration": 4,
    "start_time": "2022-05-10T12:41:08.242Z"
   },
   {
    "duration": 8,
    "start_time": "2022-05-10T12:41:08.667Z"
   },
   {
    "duration": 117,
    "start_time": "2022-05-10T12:41:15.067Z"
   },
   {
    "duration": 4,
    "start_time": "2022-05-10T12:41:36.193Z"
   },
   {
    "duration": 4,
    "start_time": "2022-05-10T12:47:36.175Z"
   },
   {
    "duration": 3,
    "start_time": "2022-05-10T13:01:04.043Z"
   },
   {
    "duration": 14,
    "start_time": "2022-05-10T13:01:27.662Z"
   },
   {
    "duration": 3,
    "start_time": "2022-05-10T13:02:04.661Z"
   },
   {
    "duration": 9,
    "start_time": "2022-05-10T13:02:14.926Z"
   },
   {
    "duration": 6,
    "start_time": "2022-05-10T13:02:18.493Z"
   },
   {
    "duration": 12,
    "start_time": "2022-05-10T13:03:04.916Z"
   },
   {
    "duration": 3,
    "start_time": "2022-05-10T13:03:07.843Z"
   },
   {
    "duration": 18,
    "start_time": "2022-05-10T13:03:09.268Z"
   },
   {
    "duration": 10,
    "start_time": "2022-05-10T13:03:27.965Z"
   },
   {
    "duration": 7,
    "start_time": "2022-05-10T13:05:00.580Z"
   },
   {
    "duration": 3,
    "start_time": "2022-05-10T13:05:16.383Z"
   },
   {
    "duration": 3,
    "start_time": "2022-05-10T13:05:17.098Z"
   },
   {
    "duration": 6,
    "start_time": "2022-05-10T13:05:17.468Z"
   },
   {
    "duration": 13,
    "start_time": "2022-05-10T13:05:18.044Z"
   },
   {
    "duration": 11,
    "start_time": "2022-05-10T13:05:18.787Z"
   },
   {
    "duration": 5,
    "start_time": "2022-05-10T13:05:22.356Z"
   },
   {
    "duration": 9,
    "start_time": "2022-05-10T13:05:23.339Z"
   },
   {
    "duration": 11,
    "start_time": "2022-05-10T13:05:24.003Z"
   },
   {
    "duration": 12,
    "start_time": "2022-05-10T13:05:35.161Z"
   },
   {
    "duration": 14,
    "start_time": "2022-05-10T13:06:09.018Z"
   },
   {
    "duration": 5,
    "start_time": "2022-05-10T13:10:20.462Z"
   },
   {
    "duration": 39,
    "start_time": "2022-05-10T13:16:00.396Z"
   },
   {
    "duration": 12,
    "start_time": "2022-05-10T13:16:30.269Z"
   },
   {
    "duration": 8,
    "start_time": "2022-05-10T13:27:52.605Z"
   },
   {
    "duration": 1669,
    "start_time": "2022-05-10T13:29:41.092Z"
   },
   {
    "duration": 31,
    "start_time": "2022-05-10T13:29:43.372Z"
   },
   {
    "duration": 16,
    "start_time": "2022-05-10T13:29:43.853Z"
   },
   {
    "duration": 5,
    "start_time": "2022-05-10T13:29:44.236Z"
   },
   {
    "duration": 9,
    "start_time": "2022-05-10T13:29:44.628Z"
   },
   {
    "duration": 4,
    "start_time": "2022-05-10T13:29:49.020Z"
   },
   {
    "duration": 4,
    "start_time": "2022-05-10T13:29:49.804Z"
   },
   {
    "duration": 3,
    "start_time": "2022-05-10T13:29:50.268Z"
   },
   {
    "duration": 4,
    "start_time": "2022-05-10T13:29:50.741Z"
   },
   {
    "duration": 6,
    "start_time": "2022-05-10T13:29:51.210Z"
   },
   {
    "duration": 34,
    "start_time": "2022-05-10T13:29:51.988Z"
   },
   {
    "duration": 109,
    "start_time": "2022-05-10T13:29:52.596Z"
   },
   {
    "duration": 99,
    "start_time": "2022-05-10T13:29:58.724Z"
   },
   {
    "duration": 15,
    "start_time": "2022-05-10T13:29:59.708Z"
   },
   {
    "duration": 10,
    "start_time": "2022-05-10T13:30:00.724Z"
   },
   {
    "duration": 1292,
    "start_time": "2022-05-10T13:30:33.908Z"
   },
   {
    "duration": 31,
    "start_time": "2022-05-10T13:30:35.636Z"
   },
   {
    "duration": 13,
    "start_time": "2022-05-10T13:30:36.075Z"
   },
   {
    "duration": 4,
    "start_time": "2022-05-10T13:30:36.404Z"
   },
   {
    "duration": 9,
    "start_time": "2022-05-10T13:30:36.747Z"
   },
   {
    "duration": 4,
    "start_time": "2022-05-10T13:30:40.588Z"
   },
   {
    "duration": 4,
    "start_time": "2022-05-10T13:30:41.336Z"
   },
   {
    "duration": 4,
    "start_time": "2022-05-10T13:30:41.851Z"
   },
   {
    "duration": 5,
    "start_time": "2022-05-10T13:30:42.339Z"
   },
   {
    "duration": 5,
    "start_time": "2022-05-10T13:30:42.891Z"
   },
   {
    "duration": 19,
    "start_time": "2022-05-10T13:30:44.171Z"
   },
   {
    "duration": 24,
    "start_time": "2022-05-10T13:30:44.988Z"
   },
   {
    "duration": 17,
    "start_time": "2022-05-10T13:30:45.723Z"
   },
   {
    "duration": 11,
    "start_time": "2022-05-10T13:30:47.095Z"
   },
   {
    "duration": 2068,
    "start_time": "2022-05-11T11:26:21.846Z"
   },
   {
    "duration": 35,
    "start_time": "2022-05-11T11:26:30.593Z"
   },
   {
    "duration": 12,
    "start_time": "2022-05-11T11:26:45.720Z"
   },
   {
    "duration": 8,
    "start_time": "2022-05-11T11:26:54.261Z"
   },
   {
    "duration": 8,
    "start_time": "2022-05-11T11:26:58.601Z"
   },
   {
    "duration": 8,
    "start_time": "2022-05-11T11:27:01.431Z"
   },
   {
    "duration": 4,
    "start_time": "2022-05-11T11:27:49.049Z"
   },
   {
    "duration": 13,
    "start_time": "2022-05-11T11:28:04.338Z"
   },
   {
    "duration": 7,
    "start_time": "2022-05-11T11:28:05.238Z"
   },
   {
    "duration": 8,
    "start_time": "2022-05-11T11:28:07.948Z"
   },
   {
    "duration": 8,
    "start_time": "2022-05-11T11:28:29.281Z"
   },
   {
    "duration": 9,
    "start_time": "2022-05-11T11:28:32.408Z"
   },
   {
    "duration": 6,
    "start_time": "2022-05-11T11:28:41.152Z"
   },
   {
    "duration": 5,
    "start_time": "2022-05-11T11:28:43.540Z"
   },
   {
    "duration": 8,
    "start_time": "2022-05-11T11:28:47.420Z"
   },
   {
    "duration": 9,
    "start_time": "2022-05-11T11:28:51.411Z"
   },
   {
    "duration": 12,
    "start_time": "2022-05-11T11:28:54.524Z"
   },
   {
    "duration": 9,
    "start_time": "2022-05-11T11:28:57.141Z"
   },
   {
    "duration": 9,
    "start_time": "2022-05-11T11:29:03.620Z"
   },
   {
    "duration": 9,
    "start_time": "2022-05-11T11:29:06.556Z"
   },
   {
    "duration": 99,
    "start_time": "2022-05-11T11:29:44.808Z"
   },
   {
    "duration": 9,
    "start_time": "2022-05-11T11:29:58.292Z"
   },
   {
    "duration": 9,
    "start_time": "2022-05-11T11:30:32.378Z"
   },
   {
    "duration": 6,
    "start_time": "2022-05-11T11:30:37.911Z"
   },
   {
    "duration": 5,
    "start_time": "2022-05-11T11:30:38.841Z"
   },
   {
    "duration": 11,
    "start_time": "2022-05-11T11:30:46.037Z"
   },
   {
    "duration": 7,
    "start_time": "2022-05-11T11:30:51.350Z"
   },
   {
    "duration": 8,
    "start_time": "2022-05-11T11:30:57.004Z"
   },
   {
    "duration": 5,
    "start_time": "2022-05-11T11:31:01.795Z"
   },
   {
    "duration": 9,
    "start_time": "2022-05-11T11:31:02.445Z"
   },
   {
    "duration": 7,
    "start_time": "2022-05-11T11:31:05.118Z"
   },
   {
    "duration": 8,
    "start_time": "2022-05-11T11:31:05.892Z"
   },
   {
    "duration": 11,
    "start_time": "2022-05-11T11:31:08.872Z"
   },
   {
    "duration": 6,
    "start_time": "2022-05-11T11:31:16.093Z"
   },
   {
    "duration": 9,
    "start_time": "2022-05-11T11:31:17.051Z"
   },
   {
    "duration": 6,
    "start_time": "2022-05-11T11:31:19.541Z"
   },
   {
    "duration": 10,
    "start_time": "2022-05-11T11:31:20.444Z"
   },
   {
    "duration": 9,
    "start_time": "2022-05-11T11:31:24.721Z"
   },
   {
    "duration": 9,
    "start_time": "2022-05-11T11:31:53.325Z"
   },
   {
    "duration": 2023,
    "start_time": "2022-05-11T11:32:04.077Z"
   },
   {
    "duration": 39,
    "start_time": "2022-05-11T11:32:07.108Z"
   },
   {
    "duration": 19,
    "start_time": "2022-05-11T11:32:07.820Z"
   },
   {
    "duration": 6,
    "start_time": "2022-05-11T11:32:08.422Z"
   },
   {
    "duration": 17,
    "start_time": "2022-05-11T11:32:09.630Z"
   },
   {
    "duration": 5,
    "start_time": "2022-05-11T11:32:17.336Z"
   },
   {
    "duration": 7,
    "start_time": "2022-05-11T11:32:17.989Z"
   },
   {
    "duration": 4,
    "start_time": "2022-05-11T11:32:18.654Z"
   },
   {
    "duration": 11,
    "start_time": "2022-05-11T11:32:19.605Z"
   },
   {
    "duration": 43,
    "start_time": "2022-05-11T11:32:21.687Z"
   },
   {
    "duration": 15,
    "start_time": "2022-05-11T11:32:22.485Z"
   },
   {
    "duration": 20,
    "start_time": "2022-05-11T11:32:23.191Z"
   },
   {
    "duration": 18,
    "start_time": "2022-05-11T11:32:25.904Z"
   },
   {
    "duration": 1352,
    "start_time": "2022-05-11T20:41:36.389Z"
   },
   {
    "duration": 41,
    "start_time": "2022-05-11T20:41:37.743Z"
   },
   {
    "duration": 12,
    "start_time": "2022-05-11T20:41:37.785Z"
   },
   {
    "duration": 4,
    "start_time": "2022-05-11T20:41:37.798Z"
   },
   {
    "duration": 9,
    "start_time": "2022-05-11T20:41:37.804Z"
   },
   {
    "duration": 5,
    "start_time": "2022-05-11T20:41:37.814Z"
   },
   {
    "duration": 5,
    "start_time": "2022-05-11T20:41:37.820Z"
   },
   {
    "duration": 4,
    "start_time": "2022-05-11T20:41:37.827Z"
   },
   {
    "duration": 7,
    "start_time": "2022-05-11T20:41:37.832Z"
   },
   {
    "duration": 109,
    "start_time": "2022-05-11T20:41:48.750Z"
   },
   {
    "duration": 4,
    "start_time": "2022-05-11T20:42:05.292Z"
   },
   {
    "duration": 1642,
    "start_time": "2022-05-12T05:56:43.237Z"
   },
   {
    "duration": 38,
    "start_time": "2022-05-12T05:56:45.554Z"
   },
   {
    "duration": 17,
    "start_time": "2022-05-12T05:56:46.229Z"
   },
   {
    "duration": 6,
    "start_time": "2022-05-12T05:56:46.691Z"
   },
   {
    "duration": 13,
    "start_time": "2022-05-12T05:56:47.849Z"
   },
   {
    "duration": 6,
    "start_time": "2022-05-12T05:56:58.559Z"
   },
   {
    "duration": 6,
    "start_time": "2022-05-12T05:56:59.466Z"
   },
   {
    "duration": 5,
    "start_time": "2022-05-12T05:57:00.073Z"
   },
   {
    "duration": 10,
    "start_time": "2022-05-12T05:57:00.754Z"
   },
   {
    "duration": 5,
    "start_time": "2022-05-12T05:57:02.937Z"
   },
   {
    "duration": 8,
    "start_time": "2022-05-12T05:58:08.907Z"
   },
   {
    "duration": 10,
    "start_time": "2022-05-12T05:58:17.009Z"
   },
   {
    "duration": 9,
    "start_time": "2022-05-12T05:58:21.907Z"
   },
   {
    "duration": 9,
    "start_time": "2022-05-12T05:58:26.641Z"
   },
   {
    "duration": 9,
    "start_time": "2022-05-12T05:58:31.303Z"
   },
   {
    "duration": 9,
    "start_time": "2022-05-12T05:59:04.780Z"
   },
   {
    "duration": 7,
    "start_time": "2022-05-12T06:00:07.002Z"
   },
   {
    "duration": 115,
    "start_time": "2022-05-12T06:01:22.316Z"
   },
   {
    "duration": 1500,
    "start_time": "2022-05-12T06:01:53.477Z"
   },
   {
    "duration": 33,
    "start_time": "2022-05-12T06:01:56.019Z"
   },
   {
    "duration": 20,
    "start_time": "2022-05-12T06:01:56.587Z"
   },
   {
    "duration": 5,
    "start_time": "2022-05-12T06:01:57.113Z"
   },
   {
    "duration": 11,
    "start_time": "2022-05-12T06:01:58.089Z"
   },
   {
    "duration": 5,
    "start_time": "2022-05-12T06:02:08.354Z"
   },
   {
    "duration": 5,
    "start_time": "2022-05-12T06:02:08.962Z"
   },
   {
    "duration": 5,
    "start_time": "2022-05-12T06:02:09.529Z"
   },
   {
    "duration": 9,
    "start_time": "2022-05-12T06:02:10.025Z"
   },
   {
    "duration": 9,
    "start_time": "2022-05-12T06:02:22.761Z"
   },
   {
    "duration": 100,
    "start_time": "2022-05-12T06:02:26.289Z"
   },
   {
    "duration": 18,
    "start_time": "2022-05-12T06:02:27.128Z"
   },
   {
    "duration": 52,
    "start_time": "2022-05-12T06:02:27.833Z"
   },
   {
    "duration": 15,
    "start_time": "2022-05-12T06:02:28.641Z"
   },
   {
    "duration": 12,
    "start_time": "2022-05-12T06:02:43.553Z"
   }
  ],
  "kernelspec": {
   "display_name": "Python 3 (ipykernel)",
   "language": "python",
   "name": "python3"
  },
  "language_info": {
   "codemirror_mode": {
    "name": "ipython",
    "version": 3
   },
   "file_extension": ".py",
   "mimetype": "text/x-python",
   "name": "python",
   "nbconvert_exporter": "python",
   "pygments_lexer": "ipython3",
   "version": "3.9.12"
  },
  "toc": {
   "base_numbering": 1,
   "nav_menu": {},
   "number_sections": true,
   "sideBar": true,
   "skip_h1_title": true,
   "title_cell": "Содержание",
   "title_sidebar": "Contents",
   "toc_cell": true,
   "toc_position": {
    "height": "calc(100% - 180px)",
    "left": "10px",
    "top": "150px",
    "width": "165px"
   },
   "toc_section_display": true,
   "toc_window_display": true
  }
 },
 "nbformat": 4,
 "nbformat_minor": 2
}
