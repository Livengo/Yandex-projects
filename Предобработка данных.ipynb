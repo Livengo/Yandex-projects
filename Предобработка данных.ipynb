{
 "cells": [
  {
   "cell_type": "markdown",
   "metadata": {},
   "source": [
    "# Исследование надёжности заёмщиков\n",
    "\n",
    "Заказчик — кредитный отдел банка. Нужно разобраться, влияет ли семейное положение и количество детей клиента на факт погашения кредита в срок. Входные данные от банка — статистика о платёжеспособности клиентов.\n",
    "\n",
    "Результаты исследования будут учтены при построении модели **кредитного скоринга** — специальной системы, которая оценивает способность потенциального заёмщика вернуть кредит банку."
   ]
  },
  {
   "cell_type": "markdown",
   "metadata": {},
   "source": [
    "## Шаг 1. Откроем файл с данными и изучите общую информацию"
   ]
  },
  {
   "cell_type": "code",
   "execution_count": 1,
   "metadata": {},
   "outputs": [
    {
     "data": {
      "text/html": [
       "<div>\n",
       "<style scoped>\n",
       "    .dataframe tbody tr th:only-of-type {\n",
       "        vertical-align: middle;\n",
       "    }\n",
       "\n",
       "    .dataframe tbody tr th {\n",
       "        vertical-align: top;\n",
       "    }\n",
       "\n",
       "    .dataframe thead th {\n",
       "        text-align: right;\n",
       "    }\n",
       "</style>\n",
       "<table border=\"1\" class=\"dataframe\">\n",
       "  <thead>\n",
       "    <tr style=\"text-align: right;\">\n",
       "      <th></th>\n",
       "      <th>children</th>\n",
       "      <th>days_employed</th>\n",
       "      <th>dob_years</th>\n",
       "      <th>education</th>\n",
       "      <th>education_id</th>\n",
       "      <th>family_status</th>\n",
       "      <th>family_status_id</th>\n",
       "      <th>gender</th>\n",
       "      <th>income_type</th>\n",
       "      <th>debt</th>\n",
       "      <th>total_income</th>\n",
       "      <th>purpose</th>\n",
       "    </tr>\n",
       "  </thead>\n",
       "  <tbody>\n",
       "    <tr>\n",
       "      <td>0</td>\n",
       "      <td>1</td>\n",
       "      <td>-8437.673028</td>\n",
       "      <td>42</td>\n",
       "      <td>высшее</td>\n",
       "      <td>0</td>\n",
       "      <td>женат / замужем</td>\n",
       "      <td>0</td>\n",
       "      <td>F</td>\n",
       "      <td>сотрудник</td>\n",
       "      <td>0</td>\n",
       "      <td>253875.639453</td>\n",
       "      <td>покупка жилья</td>\n",
       "    </tr>\n",
       "    <tr>\n",
       "      <td>1</td>\n",
       "      <td>1</td>\n",
       "      <td>-4024.803754</td>\n",
       "      <td>36</td>\n",
       "      <td>среднее</td>\n",
       "      <td>1</td>\n",
       "      <td>женат / замужем</td>\n",
       "      <td>0</td>\n",
       "      <td>F</td>\n",
       "      <td>сотрудник</td>\n",
       "      <td>0</td>\n",
       "      <td>112080.014102</td>\n",
       "      <td>приобретение автомобиля</td>\n",
       "    </tr>\n",
       "    <tr>\n",
       "      <td>2</td>\n",
       "      <td>0</td>\n",
       "      <td>-5623.422610</td>\n",
       "      <td>33</td>\n",
       "      <td>Среднее</td>\n",
       "      <td>1</td>\n",
       "      <td>женат / замужем</td>\n",
       "      <td>0</td>\n",
       "      <td>M</td>\n",
       "      <td>сотрудник</td>\n",
       "      <td>0</td>\n",
       "      <td>145885.952297</td>\n",
       "      <td>покупка жилья</td>\n",
       "    </tr>\n",
       "    <tr>\n",
       "      <td>3</td>\n",
       "      <td>3</td>\n",
       "      <td>-4124.747207</td>\n",
       "      <td>32</td>\n",
       "      <td>среднее</td>\n",
       "      <td>1</td>\n",
       "      <td>женат / замужем</td>\n",
       "      <td>0</td>\n",
       "      <td>M</td>\n",
       "      <td>сотрудник</td>\n",
       "      <td>0</td>\n",
       "      <td>267628.550329</td>\n",
       "      <td>дополнительное образование</td>\n",
       "    </tr>\n",
       "    <tr>\n",
       "      <td>4</td>\n",
       "      <td>0</td>\n",
       "      <td>340266.072047</td>\n",
       "      <td>53</td>\n",
       "      <td>среднее</td>\n",
       "      <td>1</td>\n",
       "      <td>гражданский брак</td>\n",
       "      <td>1</td>\n",
       "      <td>F</td>\n",
       "      <td>пенсионер</td>\n",
       "      <td>0</td>\n",
       "      <td>158616.077870</td>\n",
       "      <td>сыграть свадьбу</td>\n",
       "    </tr>\n",
       "    <tr>\n",
       "      <td>5</td>\n",
       "      <td>0</td>\n",
       "      <td>-926.185831</td>\n",
       "      <td>27</td>\n",
       "      <td>высшее</td>\n",
       "      <td>0</td>\n",
       "      <td>гражданский брак</td>\n",
       "      <td>1</td>\n",
       "      <td>M</td>\n",
       "      <td>компаньон</td>\n",
       "      <td>0</td>\n",
       "      <td>255763.565419</td>\n",
       "      <td>покупка жилья</td>\n",
       "    </tr>\n",
       "    <tr>\n",
       "      <td>6</td>\n",
       "      <td>0</td>\n",
       "      <td>-2879.202052</td>\n",
       "      <td>43</td>\n",
       "      <td>высшее</td>\n",
       "      <td>0</td>\n",
       "      <td>женат / замужем</td>\n",
       "      <td>0</td>\n",
       "      <td>F</td>\n",
       "      <td>компаньон</td>\n",
       "      <td>0</td>\n",
       "      <td>240525.971920</td>\n",
       "      <td>операции с жильем</td>\n",
       "    </tr>\n",
       "    <tr>\n",
       "      <td>7</td>\n",
       "      <td>0</td>\n",
       "      <td>-152.779569</td>\n",
       "      <td>50</td>\n",
       "      <td>СРЕДНЕЕ</td>\n",
       "      <td>1</td>\n",
       "      <td>женат / замужем</td>\n",
       "      <td>0</td>\n",
       "      <td>M</td>\n",
       "      <td>сотрудник</td>\n",
       "      <td>0</td>\n",
       "      <td>135823.934197</td>\n",
       "      <td>образование</td>\n",
       "    </tr>\n",
       "    <tr>\n",
       "      <td>8</td>\n",
       "      <td>2</td>\n",
       "      <td>-6929.865299</td>\n",
       "      <td>35</td>\n",
       "      <td>ВЫСШЕЕ</td>\n",
       "      <td>0</td>\n",
       "      <td>гражданский брак</td>\n",
       "      <td>1</td>\n",
       "      <td>F</td>\n",
       "      <td>сотрудник</td>\n",
       "      <td>0</td>\n",
       "      <td>95856.832424</td>\n",
       "      <td>на проведение свадьбы</td>\n",
       "    </tr>\n",
       "    <tr>\n",
       "      <td>9</td>\n",
       "      <td>0</td>\n",
       "      <td>-2188.756445</td>\n",
       "      <td>41</td>\n",
       "      <td>среднее</td>\n",
       "      <td>1</td>\n",
       "      <td>женат / замужем</td>\n",
       "      <td>0</td>\n",
       "      <td>M</td>\n",
       "      <td>сотрудник</td>\n",
       "      <td>0</td>\n",
       "      <td>144425.938277</td>\n",
       "      <td>покупка жилья для семьи</td>\n",
       "    </tr>\n",
       "  </tbody>\n",
       "</table>\n",
       "</div>"
      ],
      "text/plain": [
       "   children  days_employed  dob_years education  education_id  \\\n",
       "0         1   -8437.673028         42    высшее             0   \n",
       "1         1   -4024.803754         36   среднее             1   \n",
       "2         0   -5623.422610         33   Среднее             1   \n",
       "3         3   -4124.747207         32   среднее             1   \n",
       "4         0  340266.072047         53   среднее             1   \n",
       "5         0    -926.185831         27    высшее             0   \n",
       "6         0   -2879.202052         43    высшее             0   \n",
       "7         0    -152.779569         50   СРЕДНЕЕ             1   \n",
       "8         2   -6929.865299         35    ВЫСШЕЕ             0   \n",
       "9         0   -2188.756445         41   среднее             1   \n",
       "\n",
       "      family_status  family_status_id gender income_type  debt   total_income  \\\n",
       "0   женат / замужем                 0      F   сотрудник     0  253875.639453   \n",
       "1   женат / замужем                 0      F   сотрудник     0  112080.014102   \n",
       "2   женат / замужем                 0      M   сотрудник     0  145885.952297   \n",
       "3   женат / замужем                 0      M   сотрудник     0  267628.550329   \n",
       "4  гражданский брак                 1      F   пенсионер     0  158616.077870   \n",
       "5  гражданский брак                 1      M   компаньон     0  255763.565419   \n",
       "6   женат / замужем                 0      F   компаньон     0  240525.971920   \n",
       "7   женат / замужем                 0      M   сотрудник     0  135823.934197   \n",
       "8  гражданский брак                 1      F   сотрудник     0   95856.832424   \n",
       "9   женат / замужем                 0      M   сотрудник     0  144425.938277   \n",
       "\n",
       "                      purpose  \n",
       "0               покупка жилья  \n",
       "1     приобретение автомобиля  \n",
       "2               покупка жилья  \n",
       "3  дополнительное образование  \n",
       "4             сыграть свадьбу  \n",
       "5               покупка жилья  \n",
       "6           операции с жильем  \n",
       "7                 образование  \n",
       "8       на проведение свадьбы  \n",
       "9     покупка жилья для семьи  "
      ]
     },
     "execution_count": 1,
     "metadata": {},
     "output_type": "execute_result"
    }
   ],
   "source": [
    "#Импортируем библиотеку Pandas, Mystem, Counter (последние 2 для лемматизации) открываем наш файл с данными и смотрим общую \n",
    "#информацию с типами данных и количеством значений в каждом столбце\n",
    "import pandas as pd\n",
    "pd.options.mode.chained_assignment = None\n",
    "from pymystem3 import Mystem\n",
    "from collections import Counter\n",
    "m = Mystem()\n",
    "df = pd.read_csv('/datasets/data.csv')\n",
    "df.head(10)"
   ]
  },
  {
   "cell_type": "code",
   "execution_count": 2,
   "metadata": {},
   "outputs": [
    {
     "name": "stdout",
     "output_type": "stream",
     "text": [
      "<class 'pandas.core.frame.DataFrame'>\n",
      "RangeIndex: 21525 entries, 0 to 21524\n",
      "Data columns (total 12 columns):\n",
      "children            21525 non-null int64\n",
      "days_employed       19351 non-null float64\n",
      "dob_years           21525 non-null int64\n",
      "education           21525 non-null object\n",
      "education_id        21525 non-null int64\n",
      "family_status       21525 non-null object\n",
      "family_status_id    21525 non-null int64\n",
      "gender              21525 non-null object\n",
      "income_type         21525 non-null object\n",
      "debt                21525 non-null int64\n",
      "total_income        19351 non-null float64\n",
      "purpose             21525 non-null object\n",
      "dtypes: float64(2), int64(5), object(5)\n",
      "memory usage: 2.0+ MB\n"
     ]
    }
   ],
   "source": [
    "df.info()"
   ]
  },
  {
   "cell_type": "markdown",
   "metadata": {},
   "source": [
    "**Вывод**"
   ]
  },
  {
   "cell_type": "markdown",
   "metadata": {},
   "source": [
    "Можно заметить, что в столбцах \"days_employed\" и \"total_income\" (общий трудовой стаж в днях и ежемесячный доход) в некоторых строках отсутствуют значения, при этом тип данных в этих столбцах float64.\n",
    "В столбце \"days_employed\" также имеются отрицательные значения. \n",
    "С названиями столбцов проблем не обнаружено."
   ]
  },
  {
   "cell_type": "markdown",
   "metadata": {},
   "source": [
    "## Шаг 2. Предобработка данных"
   ]
  },
  {
   "cell_type": "markdown",
   "metadata": {},
   "source": [
    "### Обработка пропусков"
   ]
  },
  {
   "cell_type": "code",
   "execution_count": 3,
   "metadata": {},
   "outputs": [
    {
     "data": {
      "text/plain": [
       "children               0\n",
       "days_employed       2174\n",
       "dob_years              0\n",
       "education              0\n",
       "education_id           0\n",
       "family_status          0\n",
       "family_status_id       0\n",
       "gender                 0\n",
       "income_type            0\n",
       "debt                   0\n",
       "total_income        2174\n",
       "purpose                0\n",
       "dtype: int64"
      ]
     },
     "execution_count": 3,
     "metadata": {},
     "output_type": "execute_result"
    }
   ],
   "source": [
    "#Посмотрим пропущенные значения в столбцах файла с помощью метода isna() и sum()\n",
    "df.isna().sum()"
   ]
  },
  {
   "cell_type": "code",
   "execution_count": 4,
   "metadata": {},
   "outputs": [
    {
     "data": {
      "text/html": [
       "<div>\n",
       "<style scoped>\n",
       "    .dataframe tbody tr th:only-of-type {\n",
       "        vertical-align: middle;\n",
       "    }\n",
       "\n",
       "    .dataframe tbody tr th {\n",
       "        vertical-align: top;\n",
       "    }\n",
       "\n",
       "    .dataframe thead th {\n",
       "        text-align: right;\n",
       "    }\n",
       "</style>\n",
       "<table border=\"1\" class=\"dataframe\">\n",
       "  <thead>\n",
       "    <tr style=\"text-align: right;\">\n",
       "      <th></th>\n",
       "      <th>children</th>\n",
       "      <th>days_employed</th>\n",
       "      <th>dob_years</th>\n",
       "      <th>education</th>\n",
       "      <th>education_id</th>\n",
       "      <th>family_status</th>\n",
       "      <th>family_status_id</th>\n",
       "      <th>gender</th>\n",
       "      <th>income_type</th>\n",
       "      <th>debt</th>\n",
       "      <th>total_income</th>\n",
       "      <th>purpose</th>\n",
       "    </tr>\n",
       "  </thead>\n",
       "  <tbody>\n",
       "    <tr>\n",
       "      <td>12</td>\n",
       "      <td>0</td>\n",
       "      <td>NaN</td>\n",
       "      <td>65</td>\n",
       "      <td>среднее</td>\n",
       "      <td>1</td>\n",
       "      <td>гражданский брак</td>\n",
       "      <td>1</td>\n",
       "      <td>M</td>\n",
       "      <td>пенсионер</td>\n",
       "      <td>0</td>\n",
       "      <td>NaN</td>\n",
       "      <td>сыграть свадьбу</td>\n",
       "    </tr>\n",
       "    <tr>\n",
       "      <td>26</td>\n",
       "      <td>0</td>\n",
       "      <td>NaN</td>\n",
       "      <td>41</td>\n",
       "      <td>среднее</td>\n",
       "      <td>1</td>\n",
       "      <td>женат / замужем</td>\n",
       "      <td>0</td>\n",
       "      <td>M</td>\n",
       "      <td>госслужащий</td>\n",
       "      <td>0</td>\n",
       "      <td>NaN</td>\n",
       "      <td>образование</td>\n",
       "    </tr>\n",
       "    <tr>\n",
       "      <td>29</td>\n",
       "      <td>0</td>\n",
       "      <td>NaN</td>\n",
       "      <td>63</td>\n",
       "      <td>среднее</td>\n",
       "      <td>1</td>\n",
       "      <td>Не женат / не замужем</td>\n",
       "      <td>4</td>\n",
       "      <td>F</td>\n",
       "      <td>пенсионер</td>\n",
       "      <td>0</td>\n",
       "      <td>NaN</td>\n",
       "      <td>строительство жилой недвижимости</td>\n",
       "    </tr>\n",
       "    <tr>\n",
       "      <td>41</td>\n",
       "      <td>0</td>\n",
       "      <td>NaN</td>\n",
       "      <td>50</td>\n",
       "      <td>среднее</td>\n",
       "      <td>1</td>\n",
       "      <td>женат / замужем</td>\n",
       "      <td>0</td>\n",
       "      <td>F</td>\n",
       "      <td>госслужащий</td>\n",
       "      <td>0</td>\n",
       "      <td>NaN</td>\n",
       "      <td>сделка с подержанным автомобилем</td>\n",
       "    </tr>\n",
       "    <tr>\n",
       "      <td>55</td>\n",
       "      <td>0</td>\n",
       "      <td>NaN</td>\n",
       "      <td>54</td>\n",
       "      <td>среднее</td>\n",
       "      <td>1</td>\n",
       "      <td>гражданский брак</td>\n",
       "      <td>1</td>\n",
       "      <td>F</td>\n",
       "      <td>пенсионер</td>\n",
       "      <td>1</td>\n",
       "      <td>NaN</td>\n",
       "      <td>сыграть свадьбу</td>\n",
       "    </tr>\n",
       "    <tr>\n",
       "      <td>...</td>\n",
       "      <td>...</td>\n",
       "      <td>...</td>\n",
       "      <td>...</td>\n",
       "      <td>...</td>\n",
       "      <td>...</td>\n",
       "      <td>...</td>\n",
       "      <td>...</td>\n",
       "      <td>...</td>\n",
       "      <td>...</td>\n",
       "      <td>...</td>\n",
       "      <td>...</td>\n",
       "      <td>...</td>\n",
       "    </tr>\n",
       "    <tr>\n",
       "      <td>21489</td>\n",
       "      <td>2</td>\n",
       "      <td>NaN</td>\n",
       "      <td>47</td>\n",
       "      <td>Среднее</td>\n",
       "      <td>1</td>\n",
       "      <td>женат / замужем</td>\n",
       "      <td>0</td>\n",
       "      <td>M</td>\n",
       "      <td>компаньон</td>\n",
       "      <td>0</td>\n",
       "      <td>NaN</td>\n",
       "      <td>сделка с автомобилем</td>\n",
       "    </tr>\n",
       "    <tr>\n",
       "      <td>21495</td>\n",
       "      <td>1</td>\n",
       "      <td>NaN</td>\n",
       "      <td>50</td>\n",
       "      <td>среднее</td>\n",
       "      <td>1</td>\n",
       "      <td>гражданский брак</td>\n",
       "      <td>1</td>\n",
       "      <td>F</td>\n",
       "      <td>сотрудник</td>\n",
       "      <td>0</td>\n",
       "      <td>NaN</td>\n",
       "      <td>свадьба</td>\n",
       "    </tr>\n",
       "    <tr>\n",
       "      <td>21497</td>\n",
       "      <td>0</td>\n",
       "      <td>NaN</td>\n",
       "      <td>48</td>\n",
       "      <td>ВЫСШЕЕ</td>\n",
       "      <td>0</td>\n",
       "      <td>женат / замужем</td>\n",
       "      <td>0</td>\n",
       "      <td>F</td>\n",
       "      <td>компаньон</td>\n",
       "      <td>0</td>\n",
       "      <td>NaN</td>\n",
       "      <td>строительство недвижимости</td>\n",
       "    </tr>\n",
       "    <tr>\n",
       "      <td>21502</td>\n",
       "      <td>1</td>\n",
       "      <td>NaN</td>\n",
       "      <td>42</td>\n",
       "      <td>среднее</td>\n",
       "      <td>1</td>\n",
       "      <td>женат / замужем</td>\n",
       "      <td>0</td>\n",
       "      <td>F</td>\n",
       "      <td>сотрудник</td>\n",
       "      <td>0</td>\n",
       "      <td>NaN</td>\n",
       "      <td>строительство жилой недвижимости</td>\n",
       "    </tr>\n",
       "    <tr>\n",
       "      <td>21510</td>\n",
       "      <td>2</td>\n",
       "      <td>NaN</td>\n",
       "      <td>28</td>\n",
       "      <td>среднее</td>\n",
       "      <td>1</td>\n",
       "      <td>женат / замужем</td>\n",
       "      <td>0</td>\n",
       "      <td>F</td>\n",
       "      <td>сотрудник</td>\n",
       "      <td>0</td>\n",
       "      <td>NaN</td>\n",
       "      <td>приобретение автомобиля</td>\n",
       "    </tr>\n",
       "  </tbody>\n",
       "</table>\n",
       "<p>2174 rows × 12 columns</p>\n",
       "</div>"
      ],
      "text/plain": [
       "       children  days_employed  dob_years education  education_id  \\\n",
       "12            0            NaN         65   среднее             1   \n",
       "26            0            NaN         41   среднее             1   \n",
       "29            0            NaN         63   среднее             1   \n",
       "41            0            NaN         50   среднее             1   \n",
       "55            0            NaN         54   среднее             1   \n",
       "...         ...            ...        ...       ...           ...   \n",
       "21489         2            NaN         47   Среднее             1   \n",
       "21495         1            NaN         50   среднее             1   \n",
       "21497         0            NaN         48    ВЫСШЕЕ             0   \n",
       "21502         1            NaN         42   среднее             1   \n",
       "21510         2            NaN         28   среднее             1   \n",
       "\n",
       "               family_status  family_status_id gender  income_type  debt  \\\n",
       "12          гражданский брак                 1      M    пенсионер     0   \n",
       "26           женат / замужем                 0      M  госслужащий     0   \n",
       "29     Не женат / не замужем                 4      F    пенсионер     0   \n",
       "41           женат / замужем                 0      F  госслужащий     0   \n",
       "55          гражданский брак                 1      F    пенсионер     1   \n",
       "...                      ...               ...    ...          ...   ...   \n",
       "21489        женат / замужем                 0      M    компаньон     0   \n",
       "21495       гражданский брак                 1      F    сотрудник     0   \n",
       "21497        женат / замужем                 0      F    компаньон     0   \n",
       "21502        женат / замужем                 0      F    сотрудник     0   \n",
       "21510        женат / замужем                 0      F    сотрудник     0   \n",
       "\n",
       "       total_income                           purpose  \n",
       "12              NaN                   сыграть свадьбу  \n",
       "26              NaN                       образование  \n",
       "29              NaN  строительство жилой недвижимости  \n",
       "41              NaN  сделка с подержанным автомобилем  \n",
       "55              NaN                   сыграть свадьбу  \n",
       "...             ...                               ...  \n",
       "21489           NaN              сделка с автомобилем  \n",
       "21495           NaN                           свадьба  \n",
       "21497           NaN        строительство недвижимости  \n",
       "21502           NaN  строительство жилой недвижимости  \n",
       "21510           NaN           приобретение автомобиля  \n",
       "\n",
       "[2174 rows x 12 columns]"
      ]
     },
     "execution_count": 4,
     "metadata": {},
     "output_type": "execute_result"
    }
   ],
   "source": [
    "#Теперь посмотрим, совпадают ли пропуски в одних и тех же ячейках столбцов 'days_employed' и 'total_income'\n",
    "df_nan = df[(df['days_employed'].isna()) & (df['total_income'].isna())]\n",
    "df_nan"
   ]
  },
  {
   "cell_type": "code",
   "execution_count": 5,
   "metadata": {},
   "outputs": [
    {
     "data": {
      "text/plain": [
       "income_type\n",
       "безработный        131339.751676\n",
       "в декрете           53829.130729\n",
       "госслужащий        170898.309923\n",
       "компаньон          202417.461462\n",
       "пенсионер          137127.465690\n",
       "предприниматель    499163.144947\n",
       "сотрудник          161380.260488\n",
       "студент             98201.625314\n",
       "Name: total_income, dtype: float64"
      ]
     },
     "execution_count": 5,
     "metadata": {},
     "output_type": "execute_result"
    }
   ],
   "source": [
    "#Рассчитаем средний ежемесячный доход для каждого типа занятости с помощью метода groupby() и mean()\n",
    "df.groupby('income_type')['total_income'].mean()"
   ]
  },
  {
   "cell_type": "code",
   "execution_count": 6,
   "metadata": {},
   "outputs": [],
   "source": [
    "#Запишем функцию, которая заменит пропуски на средний ежемесячный доход для каждого типа занятости\n",
    "def average_income(row):\n",
    "    income_type = row['income_type']\n",
    "    total_income = row['total_income']\n",
    "    if income_type == 'безработный':\n",
    "        return 131339.751676\n",
    "    if income_type == 'в декрете':\n",
    "        return 53829.130729\n",
    "    if income_type == 'госслужащий':\n",
    "        return 170898.309923\n",
    "    if income_type == 'компаньон':\n",
    "        return 202417.461462\n",
    "    if income_type == 'пенсионер':\n",
    "        return 137127.465690\n",
    "    if income_type == 'предприниматель':\n",
    "        return 499163.144947\n",
    "    if income_type == 'сотрудник':\n",
    "        return 161380.260488\n",
    "    return 98201.625314    "
   ]
  },
  {
   "cell_type": "code",
   "execution_count": 7,
   "metadata": {},
   "outputs": [],
   "source": [
    "#Теперь применим функцию для замены всех пропусков в значениях столбца 'total_income'\n",
    "df['total_income'] = df['total_income'].fillna(df_nan.apply(average_income, axis=1))"
   ]
  },
  {
   "cell_type": "code",
   "execution_count": 8,
   "metadata": {},
   "outputs": [
    {
     "data": {
      "text/html": [
       "<div>\n",
       "<style scoped>\n",
       "    .dataframe tbody tr th:only-of-type {\n",
       "        vertical-align: middle;\n",
       "    }\n",
       "\n",
       "    .dataframe tbody tr th {\n",
       "        vertical-align: top;\n",
       "    }\n",
       "\n",
       "    .dataframe thead th {\n",
       "        text-align: right;\n",
       "    }\n",
       "</style>\n",
       "<table border=\"1\" class=\"dataframe\">\n",
       "  <thead>\n",
       "    <tr style=\"text-align: right;\">\n",
       "      <th></th>\n",
       "      <th>children</th>\n",
       "      <th>days_employed</th>\n",
       "      <th>dob_years</th>\n",
       "      <th>education</th>\n",
       "      <th>education_id</th>\n",
       "      <th>family_status</th>\n",
       "      <th>family_status_id</th>\n",
       "      <th>gender</th>\n",
       "      <th>income_type</th>\n",
       "      <th>debt</th>\n",
       "      <th>total_income</th>\n",
       "      <th>purpose</th>\n",
       "    </tr>\n",
       "  </thead>\n",
       "  <tbody>\n",
       "    <tr>\n",
       "      <td>12</td>\n",
       "      <td>0</td>\n",
       "      <td>NaN</td>\n",
       "      <td>65</td>\n",
       "      <td>среднее</td>\n",
       "      <td>1</td>\n",
       "      <td>гражданский брак</td>\n",
       "      <td>1</td>\n",
       "      <td>M</td>\n",
       "      <td>пенсионер</td>\n",
       "      <td>0</td>\n",
       "      <td>137127.465690</td>\n",
       "      <td>сыграть свадьбу</td>\n",
       "    </tr>\n",
       "    <tr>\n",
       "      <td>26</td>\n",
       "      <td>0</td>\n",
       "      <td>NaN</td>\n",
       "      <td>41</td>\n",
       "      <td>среднее</td>\n",
       "      <td>1</td>\n",
       "      <td>женат / замужем</td>\n",
       "      <td>0</td>\n",
       "      <td>M</td>\n",
       "      <td>госслужащий</td>\n",
       "      <td>0</td>\n",
       "      <td>170898.309923</td>\n",
       "      <td>образование</td>\n",
       "    </tr>\n",
       "    <tr>\n",
       "      <td>29</td>\n",
       "      <td>0</td>\n",
       "      <td>NaN</td>\n",
       "      <td>63</td>\n",
       "      <td>среднее</td>\n",
       "      <td>1</td>\n",
       "      <td>Не женат / не замужем</td>\n",
       "      <td>4</td>\n",
       "      <td>F</td>\n",
       "      <td>пенсионер</td>\n",
       "      <td>0</td>\n",
       "      <td>137127.465690</td>\n",
       "      <td>строительство жилой недвижимости</td>\n",
       "    </tr>\n",
       "    <tr>\n",
       "      <td>41</td>\n",
       "      <td>0</td>\n",
       "      <td>NaN</td>\n",
       "      <td>50</td>\n",
       "      <td>среднее</td>\n",
       "      <td>1</td>\n",
       "      <td>женат / замужем</td>\n",
       "      <td>0</td>\n",
       "      <td>F</td>\n",
       "      <td>госслужащий</td>\n",
       "      <td>0</td>\n",
       "      <td>170898.309923</td>\n",
       "      <td>сделка с подержанным автомобилем</td>\n",
       "    </tr>\n",
       "    <tr>\n",
       "      <td>55</td>\n",
       "      <td>0</td>\n",
       "      <td>NaN</td>\n",
       "      <td>54</td>\n",
       "      <td>среднее</td>\n",
       "      <td>1</td>\n",
       "      <td>гражданский брак</td>\n",
       "      <td>1</td>\n",
       "      <td>F</td>\n",
       "      <td>пенсионер</td>\n",
       "      <td>1</td>\n",
       "      <td>137127.465690</td>\n",
       "      <td>сыграть свадьбу</td>\n",
       "    </tr>\n",
       "    <tr>\n",
       "      <td>...</td>\n",
       "      <td>...</td>\n",
       "      <td>...</td>\n",
       "      <td>...</td>\n",
       "      <td>...</td>\n",
       "      <td>...</td>\n",
       "      <td>...</td>\n",
       "      <td>...</td>\n",
       "      <td>...</td>\n",
       "      <td>...</td>\n",
       "      <td>...</td>\n",
       "      <td>...</td>\n",
       "      <td>...</td>\n",
       "    </tr>\n",
       "    <tr>\n",
       "      <td>21489</td>\n",
       "      <td>2</td>\n",
       "      <td>NaN</td>\n",
       "      <td>47</td>\n",
       "      <td>Среднее</td>\n",
       "      <td>1</td>\n",
       "      <td>женат / замужем</td>\n",
       "      <td>0</td>\n",
       "      <td>M</td>\n",
       "      <td>компаньон</td>\n",
       "      <td>0</td>\n",
       "      <td>202417.461462</td>\n",
       "      <td>сделка с автомобилем</td>\n",
       "    </tr>\n",
       "    <tr>\n",
       "      <td>21495</td>\n",
       "      <td>1</td>\n",
       "      <td>NaN</td>\n",
       "      <td>50</td>\n",
       "      <td>среднее</td>\n",
       "      <td>1</td>\n",
       "      <td>гражданский брак</td>\n",
       "      <td>1</td>\n",
       "      <td>F</td>\n",
       "      <td>сотрудник</td>\n",
       "      <td>0</td>\n",
       "      <td>161380.260488</td>\n",
       "      <td>свадьба</td>\n",
       "    </tr>\n",
       "    <tr>\n",
       "      <td>21497</td>\n",
       "      <td>0</td>\n",
       "      <td>NaN</td>\n",
       "      <td>48</td>\n",
       "      <td>ВЫСШЕЕ</td>\n",
       "      <td>0</td>\n",
       "      <td>женат / замужем</td>\n",
       "      <td>0</td>\n",
       "      <td>F</td>\n",
       "      <td>компаньон</td>\n",
       "      <td>0</td>\n",
       "      <td>202417.461462</td>\n",
       "      <td>строительство недвижимости</td>\n",
       "    </tr>\n",
       "    <tr>\n",
       "      <td>21502</td>\n",
       "      <td>1</td>\n",
       "      <td>NaN</td>\n",
       "      <td>42</td>\n",
       "      <td>среднее</td>\n",
       "      <td>1</td>\n",
       "      <td>женат / замужем</td>\n",
       "      <td>0</td>\n",
       "      <td>F</td>\n",
       "      <td>сотрудник</td>\n",
       "      <td>0</td>\n",
       "      <td>161380.260488</td>\n",
       "      <td>строительство жилой недвижимости</td>\n",
       "    </tr>\n",
       "    <tr>\n",
       "      <td>21510</td>\n",
       "      <td>2</td>\n",
       "      <td>NaN</td>\n",
       "      <td>28</td>\n",
       "      <td>среднее</td>\n",
       "      <td>1</td>\n",
       "      <td>женат / замужем</td>\n",
       "      <td>0</td>\n",
       "      <td>F</td>\n",
       "      <td>сотрудник</td>\n",
       "      <td>0</td>\n",
       "      <td>161380.260488</td>\n",
       "      <td>приобретение автомобиля</td>\n",
       "    </tr>\n",
       "  </tbody>\n",
       "</table>\n",
       "<p>2174 rows × 12 columns</p>\n",
       "</div>"
      ],
      "text/plain": [
       "       children  days_employed  dob_years education  education_id  \\\n",
       "12            0            NaN         65   среднее             1   \n",
       "26            0            NaN         41   среднее             1   \n",
       "29            0            NaN         63   среднее             1   \n",
       "41            0            NaN         50   среднее             1   \n",
       "55            0            NaN         54   среднее             1   \n",
       "...         ...            ...        ...       ...           ...   \n",
       "21489         2            NaN         47   Среднее             1   \n",
       "21495         1            NaN         50   среднее             1   \n",
       "21497         0            NaN         48    ВЫСШЕЕ             0   \n",
       "21502         1            NaN         42   среднее             1   \n",
       "21510         2            NaN         28   среднее             1   \n",
       "\n",
       "               family_status  family_status_id gender  income_type  debt  \\\n",
       "12          гражданский брак                 1      M    пенсионер     0   \n",
       "26           женат / замужем                 0      M  госслужащий     0   \n",
       "29     Не женат / не замужем                 4      F    пенсионер     0   \n",
       "41           женат / замужем                 0      F  госслужащий     0   \n",
       "55          гражданский брак                 1      F    пенсионер     1   \n",
       "...                      ...               ...    ...          ...   ...   \n",
       "21489        женат / замужем                 0      M    компаньон     0   \n",
       "21495       гражданский брак                 1      F    сотрудник     0   \n",
       "21497        женат / замужем                 0      F    компаньон     0   \n",
       "21502        женат / замужем                 0      F    сотрудник     0   \n",
       "21510        женат / замужем                 0      F    сотрудник     0   \n",
       "\n",
       "        total_income                           purpose  \n",
       "12     137127.465690                   сыграть свадьбу  \n",
       "26     170898.309923                       образование  \n",
       "29     137127.465690  строительство жилой недвижимости  \n",
       "41     170898.309923  сделка с подержанным автомобилем  \n",
       "55     137127.465690                   сыграть свадьбу  \n",
       "...              ...                               ...  \n",
       "21489  202417.461462              сделка с автомобилем  \n",
       "21495  161380.260488                           свадьба  \n",
       "21497  202417.461462        строительство недвижимости  \n",
       "21502  161380.260488  строительство жилой недвижимости  \n",
       "21510  161380.260488           приобретение автомобиля  \n",
       "\n",
       "[2174 rows x 12 columns]"
      ]
     },
     "execution_count": 8,
     "metadata": {},
     "output_type": "execute_result"
    }
   ],
   "source": [
    "#Проверим данные\n",
    "df[df['days_employed'].isna()]"
   ]
  },
  {
   "cell_type": "code",
   "execution_count": 9,
   "metadata": {},
   "outputs": [],
   "source": [
    "#Пропуски в значениях столбца 'days_employed' нас не сильно интересуют, поскольку здесь сложно сказать, сколько дней кто \n",
    "#отработал даже в среднем, поэтому можно просто заменить на 0\n",
    "df['days_employed'] = df['days_employed'].fillna(0)"
   ]
  },
  {
   "cell_type": "code",
   "execution_count": 10,
   "metadata": {},
   "outputs": [
    {
     "name": "stdout",
     "output_type": "stream",
     "text": [
      "<class 'pandas.core.frame.DataFrame'>\n",
      "RangeIndex: 21525 entries, 0 to 21524\n",
      "Data columns (total 12 columns):\n",
      "children            21525 non-null int64\n",
      "days_employed       21525 non-null float64\n",
      "dob_years           21525 non-null int64\n",
      "education           21525 non-null object\n",
      "education_id        21525 non-null int64\n",
      "family_status       21525 non-null object\n",
      "family_status_id    21525 non-null int64\n",
      "gender              21525 non-null object\n",
      "income_type         21525 non-null object\n",
      "debt                21525 non-null int64\n",
      "total_income        21525 non-null float64\n",
      "purpose             21525 non-null object\n",
      "dtypes: float64(2), int64(5), object(5)\n",
      "memory usage: 2.0+ MB\n"
     ]
    }
   ],
   "source": [
    "#Проверим наши данные на наличие пропусков\n",
    "df.info()"
   ]
  },
  {
   "cell_type": "markdown",
   "metadata": {},
   "source": [
    "**Вывод**"
   ]
  },
  {
   "cell_type": "markdown",
   "metadata": {},
   "source": [
    "Строки с пропущенными значениями в столбцах 'days_employed' и 'total_income' совпадают.\n",
    "Пропуски в столбце 'total_income' можно заменить на средние значения ежемесячного дохода для каждого типа занятости 'income_type', поскольку эти данные могут пригодиться нам позже.\n",
    "Пропуски в значениях столбца 'days_employed' нас не сильно интересуют, поскольку здесь сложно сказать, сколько дней кто \n",
    "отработал даже в среднем, поэтому можно просто заменить на 0. Помимо этого, встречаются достаточно большие значения даже в днях, скорее всего ошибка в вводе данных (возможно, вводили в часах или вообще по другому принципу)\n",
    "Отсутствующие значения говорят о том, что их не внесли в данные, что странно, поскольку эта информация является достаточно \n",
    "важной."
   ]
  },
  {
   "cell_type": "markdown",
   "metadata": {},
   "source": [
    "### Замена типа данных"
   ]
  },
  {
   "cell_type": "code",
   "execution_count": 11,
   "metadata": {},
   "outputs": [],
   "source": [
    "#Изменим тип данных в столбцах 'days_employed' и 'total_income' с помощью метода astype()\n",
    "df['days_employed'] = df['days_employed'].astype('int')\n",
    "df['total_income'] = df['total_income'].astype('int')"
   ]
  },
  {
   "cell_type": "code",
   "execution_count": 12,
   "metadata": {},
   "outputs": [
    {
     "data": {
      "text/html": [
       "<div>\n",
       "<style scoped>\n",
       "    .dataframe tbody tr th:only-of-type {\n",
       "        vertical-align: middle;\n",
       "    }\n",
       "\n",
       "    .dataframe tbody tr th {\n",
       "        vertical-align: top;\n",
       "    }\n",
       "\n",
       "    .dataframe thead th {\n",
       "        text-align: right;\n",
       "    }\n",
       "</style>\n",
       "<table border=\"1\" class=\"dataframe\">\n",
       "  <thead>\n",
       "    <tr style=\"text-align: right;\">\n",
       "      <th></th>\n",
       "      <th>children</th>\n",
       "      <th>days_employed</th>\n",
       "      <th>dob_years</th>\n",
       "      <th>education</th>\n",
       "      <th>education_id</th>\n",
       "      <th>family_status</th>\n",
       "      <th>family_status_id</th>\n",
       "      <th>gender</th>\n",
       "      <th>income_type</th>\n",
       "      <th>debt</th>\n",
       "      <th>total_income</th>\n",
       "      <th>purpose</th>\n",
       "    </tr>\n",
       "  </thead>\n",
       "  <tbody>\n",
       "    <tr>\n",
       "      <td>0</td>\n",
       "      <td>1</td>\n",
       "      <td>-8437</td>\n",
       "      <td>42</td>\n",
       "      <td>высшее</td>\n",
       "      <td>0</td>\n",
       "      <td>женат / замужем</td>\n",
       "      <td>0</td>\n",
       "      <td>F</td>\n",
       "      <td>сотрудник</td>\n",
       "      <td>0</td>\n",
       "      <td>253875</td>\n",
       "      <td>покупка жилья</td>\n",
       "    </tr>\n",
       "    <tr>\n",
       "      <td>1</td>\n",
       "      <td>1</td>\n",
       "      <td>-4024</td>\n",
       "      <td>36</td>\n",
       "      <td>среднее</td>\n",
       "      <td>1</td>\n",
       "      <td>женат / замужем</td>\n",
       "      <td>0</td>\n",
       "      <td>F</td>\n",
       "      <td>сотрудник</td>\n",
       "      <td>0</td>\n",
       "      <td>112080</td>\n",
       "      <td>приобретение автомобиля</td>\n",
       "    </tr>\n",
       "    <tr>\n",
       "      <td>2</td>\n",
       "      <td>0</td>\n",
       "      <td>-5623</td>\n",
       "      <td>33</td>\n",
       "      <td>Среднее</td>\n",
       "      <td>1</td>\n",
       "      <td>женат / замужем</td>\n",
       "      <td>0</td>\n",
       "      <td>M</td>\n",
       "      <td>сотрудник</td>\n",
       "      <td>0</td>\n",
       "      <td>145885</td>\n",
       "      <td>покупка жилья</td>\n",
       "    </tr>\n",
       "    <tr>\n",
       "      <td>3</td>\n",
       "      <td>3</td>\n",
       "      <td>-4124</td>\n",
       "      <td>32</td>\n",
       "      <td>среднее</td>\n",
       "      <td>1</td>\n",
       "      <td>женат / замужем</td>\n",
       "      <td>0</td>\n",
       "      <td>M</td>\n",
       "      <td>сотрудник</td>\n",
       "      <td>0</td>\n",
       "      <td>267628</td>\n",
       "      <td>дополнительное образование</td>\n",
       "    </tr>\n",
       "    <tr>\n",
       "      <td>4</td>\n",
       "      <td>0</td>\n",
       "      <td>340266</td>\n",
       "      <td>53</td>\n",
       "      <td>среднее</td>\n",
       "      <td>1</td>\n",
       "      <td>гражданский брак</td>\n",
       "      <td>1</td>\n",
       "      <td>F</td>\n",
       "      <td>пенсионер</td>\n",
       "      <td>0</td>\n",
       "      <td>158616</td>\n",
       "      <td>сыграть свадьбу</td>\n",
       "    </tr>\n",
       "  </tbody>\n",
       "</table>\n",
       "</div>"
      ],
      "text/plain": [
       "   children  days_employed  dob_years education  education_id  \\\n",
       "0         1          -8437         42    высшее             0   \n",
       "1         1          -4024         36   среднее             1   \n",
       "2         0          -5623         33   Среднее             1   \n",
       "3         3          -4124         32   среднее             1   \n",
       "4         0         340266         53   среднее             1   \n",
       "\n",
       "      family_status  family_status_id gender income_type  debt  total_income  \\\n",
       "0   женат / замужем                 0      F   сотрудник     0        253875   \n",
       "1   женат / замужем                 0      F   сотрудник     0        112080   \n",
       "2   женат / замужем                 0      M   сотрудник     0        145885   \n",
       "3   женат / замужем                 0      M   сотрудник     0        267628   \n",
       "4  гражданский брак                 1      F   пенсионер     0        158616   \n",
       "\n",
       "                      purpose  \n",
       "0               покупка жилья  \n",
       "1     приобретение автомобиля  \n",
       "2               покупка жилья  \n",
       "3  дополнительное образование  \n",
       "4             сыграть свадьбу  "
      ]
     },
     "execution_count": 12,
     "metadata": {},
     "output_type": "execute_result"
    }
   ],
   "source": [
    "#Проверим изменения\n",
    "df.head()"
   ]
  },
  {
   "cell_type": "code",
   "execution_count": 13,
   "metadata": {},
   "outputs": [
    {
     "name": "stdout",
     "output_type": "stream",
     "text": [
      "<class 'pandas.core.frame.DataFrame'>\n",
      "RangeIndex: 21525 entries, 0 to 21524\n",
      "Data columns (total 12 columns):\n",
      "children            21525 non-null int64\n",
      "days_employed       21525 non-null int64\n",
      "dob_years           21525 non-null int64\n",
      "education           21525 non-null object\n",
      "education_id        21525 non-null int64\n",
      "family_status       21525 non-null object\n",
      "family_status_id    21525 non-null int64\n",
      "gender              21525 non-null object\n",
      "income_type         21525 non-null object\n",
      "debt                21525 non-null int64\n",
      "total_income        21525 non-null int64\n",
      "purpose             21525 non-null object\n",
      "dtypes: int64(7), object(5)\n",
      "memory usage: 2.0+ MB\n"
     ]
    }
   ],
   "source": [
    "#И тип данных\n",
    "df.info()"
   ]
  },
  {
   "cell_type": "markdown",
   "metadata": {},
   "source": [
    "**Вывод**"
   ]
  },
  {
   "cell_type": "markdown",
   "metadata": {},
   "source": [
    "Были преобразованы данные из типа 'float' в тип 'int'."
   ]
  },
  {
   "cell_type": "markdown",
   "metadata": {},
   "source": [
    "### Обработка дубликатов"
   ]
  },
  {
   "cell_type": "code",
   "execution_count": 14,
   "metadata": {},
   "outputs": [
    {
     "data": {
      "text/plain": [
       "array([ 1,  0,  3,  2, -1,  4, 20,  5])"
      ]
     },
     "execution_count": 14,
     "metadata": {},
     "output_type": "execute_result"
    }
   ],
   "source": [
    "#Посмотрим все уникальные значения для столбца 'children' с помощью unique()\n",
    "df['children'].unique()"
   ]
  },
  {
   "cell_type": "code",
   "execution_count": 15,
   "metadata": {},
   "outputs": [
    {
     "data": {
      "text/plain": [
       " 0     14149\n",
       " 1      4818\n",
       " 2      2055\n",
       " 3       330\n",
       " 20       76\n",
       "-1        47\n",
       " 4        41\n",
       " 5         9\n",
       "Name: children, dtype: int64"
      ]
     },
     "execution_count": 15,
     "metadata": {},
     "output_type": "execute_result"
    }
   ],
   "source": [
    "#Посмотрим сколько строк имеют значения -1 и 20\n",
    "df['children'].value_counts()"
   ]
  },
  {
   "cell_type": "code",
   "execution_count": 16,
   "metadata": {},
   "outputs": [
    {
     "data": {
      "text/plain": [
       "array([42, 36, 33, 32, 53, 27, 43, 50, 35, 41, 40, 65, 54, 56, 26, 48, 24,\n",
       "       21, 57, 67, 28, 63, 62, 47, 34, 68, 25, 31, 30, 20, 49, 37, 45, 61,\n",
       "       64, 44, 52, 46, 23, 38, 39, 51,  0, 59, 29, 60, 55, 58, 71, 22, 73,\n",
       "       66, 69, 19, 72, 70, 74, 75])"
      ]
     },
     "execution_count": 16,
     "metadata": {},
     "output_type": "execute_result"
    }
   ],
   "source": [
    "#Посмотрим все уникальные значения для столбца 'dob_years' с помощью unique()\n",
    "df['dob_years'].unique()"
   ]
  },
  {
   "cell_type": "code",
   "execution_count": 17,
   "metadata": {},
   "outputs": [
    {
     "data": {
      "text/plain": [
       "array(['высшее', 'среднее', 'Среднее', 'СРЕДНЕЕ', 'ВЫСШЕЕ',\n",
       "       'неоконченное высшее', 'начальное', 'Высшее',\n",
       "       'НЕОКОНЧЕННОЕ ВЫСШЕЕ', 'Неоконченное высшее', 'НАЧАЛЬНОЕ',\n",
       "       'Начальное', 'Ученая степень', 'УЧЕНАЯ СТЕПЕНЬ', 'ученая степень'],\n",
       "      dtype=object)"
      ]
     },
     "execution_count": 17,
     "metadata": {},
     "output_type": "execute_result"
    }
   ],
   "source": [
    "#Посмотрим все уникальные значения для столбца 'education' с помощью unique()\n",
    "df['education'].unique()"
   ]
  },
  {
   "cell_type": "code",
   "execution_count": 18,
   "metadata": {},
   "outputs": [],
   "source": [
    "#Преобразуем все значения в столбце 'education' к одному виду с помощью метода str.lower()\n",
    "df['education'] = df['education'].str.lower()"
   ]
  },
  {
   "cell_type": "code",
   "execution_count": 19,
   "metadata": {},
   "outputs": [
    {
     "data": {
      "text/plain": [
       "array(['высшее', 'среднее', 'неоконченное высшее', 'начальное',\n",
       "       'ученая степень'], dtype=object)"
      ]
     },
     "execution_count": 19,
     "metadata": {},
     "output_type": "execute_result"
    }
   ],
   "source": [
    "#Проверим изменения\n",
    "df['education'].unique()"
   ]
  },
  {
   "cell_type": "code",
   "execution_count": 20,
   "metadata": {},
   "outputs": [
    {
     "data": {
      "text/plain": [
       "array([0, 1, 2, 3, 4])"
      ]
     },
     "execution_count": 20,
     "metadata": {},
     "output_type": "execute_result"
    }
   ],
   "source": [
    "#Посмотрим все уникальные значения для столбца 'education_id' с помощью unique()\n",
    "df['education_id'].unique()"
   ]
  },
  {
   "cell_type": "code",
   "execution_count": 21,
   "metadata": {},
   "outputs": [
    {
     "data": {
      "text/plain": [
       "array(['женат / замужем', 'гражданский брак', 'вдовец / вдова',\n",
       "       'в разводе', 'Не женат / не замужем'], dtype=object)"
      ]
     },
     "execution_count": 21,
     "metadata": {},
     "output_type": "execute_result"
    }
   ],
   "source": [
    "#Посмотрим все уникальные значения для столбца 'family_status' с помощью unique() \n",
    "df['family_status'].unique()"
   ]
  },
  {
   "cell_type": "code",
   "execution_count": 22,
   "metadata": {},
   "outputs": [
    {
     "data": {
      "text/plain": [
       "array([0, 1, 2, 3, 4])"
      ]
     },
     "execution_count": 22,
     "metadata": {},
     "output_type": "execute_result"
    }
   ],
   "source": [
    "#Посмотрим все уникальные значения для столбца 'family_status_id' с помощью unique()\n",
    "df['family_status_id'].unique()"
   ]
  },
  {
   "cell_type": "code",
   "execution_count": 23,
   "metadata": {},
   "outputs": [
    {
     "data": {
      "text/plain": [
       "array(['F', 'M', 'XNA'], dtype=object)"
      ]
     },
     "execution_count": 23,
     "metadata": {},
     "output_type": "execute_result"
    }
   ],
   "source": [
    "#Посмотрим все уникальные значения для столбца 'gender' с помощью unique()\n",
    "df['gender'].unique()"
   ]
  },
  {
   "cell_type": "code",
   "execution_count": 24,
   "metadata": {},
   "outputs": [
    {
     "data": {
      "text/plain": [
       "F      14236\n",
       "M       7288\n",
       "XNA        1\n",
       "Name: gender, dtype: int64"
      ]
     },
     "execution_count": 24,
     "metadata": {},
     "output_type": "execute_result"
    }
   ],
   "source": [
    "#Посмотрим сколько строк имеют значения XNA\n",
    "df['gender'].value_counts()"
   ]
  },
  {
   "cell_type": "code",
   "execution_count": 25,
   "metadata": {},
   "outputs": [
    {
     "data": {
      "text/plain": [
       "array([0, 1])"
      ]
     },
     "execution_count": 25,
     "metadata": {},
     "output_type": "execute_result"
    }
   ],
   "source": [
    "#Посмотрим все уникальные значения для столбца 'debt' с помощью unique()\n",
    "df['debt'].unique()"
   ]
  },
  {
   "cell_type": "code",
   "execution_count": 26,
   "metadata": {},
   "outputs": [
    {
     "data": {
      "text/plain": [
       "array(['покупка жилья', 'приобретение автомобиля',\n",
       "       'дополнительное образование', 'сыграть свадьбу',\n",
       "       'операции с жильем', 'образование', 'на проведение свадьбы',\n",
       "       'покупка жилья для семьи', 'покупка недвижимости',\n",
       "       'покупка коммерческой недвижимости', 'покупка жилой недвижимости',\n",
       "       'строительство собственной недвижимости', 'недвижимость',\n",
       "       'строительство недвижимости', 'на покупку подержанного автомобиля',\n",
       "       'на покупку своего автомобиля',\n",
       "       'операции с коммерческой недвижимостью',\n",
       "       'строительство жилой недвижимости', 'жилье',\n",
       "       'операции со своей недвижимостью', 'автомобили',\n",
       "       'заняться образованием', 'сделка с подержанным автомобилем',\n",
       "       'получение образования', 'автомобиль', 'свадьба',\n",
       "       'получение дополнительного образования', 'покупка своего жилья',\n",
       "       'операции с недвижимостью', 'получение высшего образования',\n",
       "       'свой автомобиль', 'сделка с автомобилем',\n",
       "       'профильное образование', 'высшее образование',\n",
       "       'покупка жилья для сдачи', 'на покупку автомобиля', 'ремонт жилью',\n",
       "       'заняться высшим образованием'], dtype=object)"
      ]
     },
     "execution_count": 26,
     "metadata": {},
     "output_type": "execute_result"
    }
   ],
   "source": [
    "#Посмотрим все уникальные значения для столбца 'purpose' с помощью unique()\n",
    "df['purpose'].unique()"
   ]
  },
  {
   "cell_type": "code",
   "execution_count": 27,
   "metadata": {},
   "outputs": [
    {
     "data": {
      "text/plain": [
       "71"
      ]
     },
     "execution_count": 27,
     "metadata": {},
     "output_type": "execute_result"
    }
   ],
   "source": [
    "#Теперь посмотрим количество дубликатов\n",
    "df.duplicated().sum()"
   ]
  },
  {
   "cell_type": "code",
   "execution_count": 28,
   "metadata": {},
   "outputs": [],
   "source": [
    "#Удалим все дубликаты\n",
    "df = df.drop_duplicates()"
   ]
  },
  {
   "cell_type": "code",
   "execution_count": 29,
   "metadata": {},
   "outputs": [
    {
     "data": {
      "text/plain": [
       "0"
      ]
     },
     "execution_count": 29,
     "metadata": {},
     "output_type": "execute_result"
    }
   ],
   "source": [
    "#Проверим количество дубликатов\n",
    "df.duplicated().sum()"
   ]
  },
  {
   "cell_type": "markdown",
   "metadata": {},
   "source": [
    "**Вывод**"
   ]
  },
  {
   "cell_type": "markdown",
   "metadata": {},
   "source": [
    "Приведение к одному виду потребовалось только для столбца 'education'. В столбце 'children' значения -1 скорее всего означают, что данных о количестве детей нет, что странно. Значение в столбце 'children' 20 скорее всего возможно, но слишком много строк с этим значением. Значение 0 в столбце 'dob_years' скорее всего говорит об отсутствии данных о возрасте, что тоже странно. Есть одно значение XNA в столбце 'gender', что скорее всего говорит о том, что пол не указан.\n",
    "Возможные дубликаты скорее всего были получены вследствие задвоения данных или создали ошибочно повтор."
   ]
  },
  {
   "cell_type": "markdown",
   "metadata": {},
   "source": [
    "### Лемматизация"
   ]
  },
  {
   "cell_type": "code",
   "execution_count": 30,
   "metadata": {},
   "outputs": [
    {
     "data": {
      "text/plain": [
       "свадьба                                   791\n",
       "на проведение свадьбы                     768\n",
       "сыграть свадьбу                           765\n",
       "операции с недвижимостью                  675\n",
       "покупка коммерческой недвижимости         661\n",
       "операции с жильем                         652\n",
       "покупка жилья для сдачи                   651\n",
       "операции с коммерческой недвижимостью     650\n",
       "покупка жилья                             646\n",
       "жилье                                     646\n",
       "покупка жилья для семьи                   638\n",
       "строительство собственной недвижимости    635\n",
       "недвижимость                              633\n",
       "операции со своей недвижимостью           627\n",
       "строительство жилой недвижимости          624\n",
       "покупка недвижимости                      621\n",
       "покупка своего жилья                      620\n",
       "строительство недвижимости                619\n",
       "ремонт жилью                              607\n",
       "покупка жилой недвижимости                606\n",
       "на покупку своего автомобиля              505\n",
       "заняться высшим образованием              496\n",
       "автомобиль                                494\n",
       "сделка с подержанным автомобилем          486\n",
       "на покупку подержанного автомобиля        478\n",
       "автомобили                                478\n",
       "свой автомобиль                           478\n",
       "на покупку автомобиля                     471\n",
       "приобретение автомобиля                   461\n",
       "дополнительное образование                460\n",
       "сделка с автомобилем                      455\n",
       "высшее образование                        452\n",
       "образование                               447\n",
       "получение дополнительного образования     446\n",
       "получение образования                     442\n",
       "профильное образование                    436\n",
       "получение высшего образования             426\n",
       "заняться образованием                     408\n",
       "Name: purpose, dtype: int64"
      ]
     },
     "execution_count": 30,
     "metadata": {},
     "output_type": "execute_result"
    }
   ],
   "source": [
    "#Посмотрим, сколько значений в каждой категории\n",
    "df['purpose'].value_counts()"
   ]
  },
  {
   "cell_type": "code",
   "execution_count": 31,
   "metadata": {},
   "outputs": [],
   "source": [
    "#Выделим общие слова из всех имеющихся категорий\n",
    "categories = ['свадьба', 'недвижимость', 'образование', 'автомобиль', 'жилье']"
   ]
  },
  {
   "cell_type": "code",
   "execution_count": 32,
   "metadata": {},
   "outputs": [],
   "source": [
    "#Применим лемматизацию\n",
    "def lemmatize(text):\n",
    "    lemma = m.lemmatize(text)\n",
    "    for word in categories:\n",
    "        if word in lemma:\n",
    "            lemma = word\n",
    "    return lemma\n",
    "df['purpose_group'] = df['purpose'].apply(lemmatize)     "
   ]
  },
  {
   "cell_type": "code",
   "execution_count": 33,
   "metadata": {},
   "outputs": [],
   "source": [
    "#Заменим значения, где есть слово 'жилье' на слово 'недвижимость'\n",
    "df.loc[df['purpose_group'] == 'жилье', 'purpose_group'] = 'недвижимость'"
   ]
  },
  {
   "cell_type": "code",
   "execution_count": 34,
   "metadata": {},
   "outputs": [
    {
     "data": {
      "text/plain": [
       "недвижимость    10811\n",
       "автомобиль       4306\n",
       "образование      4013\n",
       "свадьба          2324\n",
       "Name: purpose_group, dtype: int64"
      ]
     },
     "execution_count": 34,
     "metadata": {},
     "output_type": "execute_result"
    }
   ],
   "source": [
    "#Подсчитаем получившиеся значения в новых категориях\n",
    "df['purpose_group'].value_counts()"
   ]
  },
  {
   "cell_type": "markdown",
   "metadata": {},
   "source": [
    "**Вывод**"
   ]
  },
  {
   "cell_type": "markdown",
   "metadata": {},
   "source": [
    "С помощью лемматизации из всех категорий столбца 'purpose' были выведены общие категории в отдельный столбец 'purpose_group'. В категориях предназначения кредита скорее всего по-разному записывали информацию."
   ]
  },
  {
   "cell_type": "markdown",
   "metadata": {},
   "source": [
    "### Категоризация данных"
   ]
  },
  {
   "cell_type": "code",
   "execution_count": 35,
   "metadata": {},
   "outputs": [
    {
     "data": {
      "text/html": [
       "<div>\n",
       "<style scoped>\n",
       "    .dataframe tbody tr th:only-of-type {\n",
       "        vertical-align: middle;\n",
       "    }\n",
       "\n",
       "    .dataframe tbody tr th {\n",
       "        vertical-align: top;\n",
       "    }\n",
       "\n",
       "    .dataframe thead th {\n",
       "        text-align: right;\n",
       "    }\n",
       "</style>\n",
       "<table border=\"1\" class=\"dataframe\">\n",
       "  <thead>\n",
       "    <tr style=\"text-align: right;\">\n",
       "      <th></th>\n",
       "      <th>children</th>\n",
       "      <th>days_employed</th>\n",
       "      <th>dob_years</th>\n",
       "      <th>education</th>\n",
       "      <th>education_id</th>\n",
       "      <th>family_status</th>\n",
       "      <th>family_status_id</th>\n",
       "      <th>gender</th>\n",
       "      <th>income_type</th>\n",
       "      <th>debt</th>\n",
       "      <th>total_income</th>\n",
       "      <th>purpose</th>\n",
       "      <th>purpose_group</th>\n",
       "    </tr>\n",
       "  </thead>\n",
       "  <tbody>\n",
       "    <tr>\n",
       "      <td>0</td>\n",
       "      <td>1</td>\n",
       "      <td>8437</td>\n",
       "      <td>42</td>\n",
       "      <td>высшее</td>\n",
       "      <td>0</td>\n",
       "      <td>женат / замужем</td>\n",
       "      <td>0</td>\n",
       "      <td>F</td>\n",
       "      <td>сотрудник</td>\n",
       "      <td>0</td>\n",
       "      <td>253875</td>\n",
       "      <td>покупка жилья</td>\n",
       "      <td>недвижимость</td>\n",
       "    </tr>\n",
       "    <tr>\n",
       "      <td>1</td>\n",
       "      <td>1</td>\n",
       "      <td>4024</td>\n",
       "      <td>36</td>\n",
       "      <td>среднее</td>\n",
       "      <td>1</td>\n",
       "      <td>женат / замужем</td>\n",
       "      <td>0</td>\n",
       "      <td>F</td>\n",
       "      <td>сотрудник</td>\n",
       "      <td>0</td>\n",
       "      <td>112080</td>\n",
       "      <td>приобретение автомобиля</td>\n",
       "      <td>автомобиль</td>\n",
       "    </tr>\n",
       "    <tr>\n",
       "      <td>2</td>\n",
       "      <td>0</td>\n",
       "      <td>5623</td>\n",
       "      <td>33</td>\n",
       "      <td>среднее</td>\n",
       "      <td>1</td>\n",
       "      <td>женат / замужем</td>\n",
       "      <td>0</td>\n",
       "      <td>M</td>\n",
       "      <td>сотрудник</td>\n",
       "      <td>0</td>\n",
       "      <td>145885</td>\n",
       "      <td>покупка жилья</td>\n",
       "      <td>недвижимость</td>\n",
       "    </tr>\n",
       "    <tr>\n",
       "      <td>3</td>\n",
       "      <td>3</td>\n",
       "      <td>4124</td>\n",
       "      <td>32</td>\n",
       "      <td>среднее</td>\n",
       "      <td>1</td>\n",
       "      <td>женат / замужем</td>\n",
       "      <td>0</td>\n",
       "      <td>M</td>\n",
       "      <td>сотрудник</td>\n",
       "      <td>0</td>\n",
       "      <td>267628</td>\n",
       "      <td>дополнительное образование</td>\n",
       "      <td>образование</td>\n",
       "    </tr>\n",
       "    <tr>\n",
       "      <td>4</td>\n",
       "      <td>0</td>\n",
       "      <td>340266</td>\n",
       "      <td>53</td>\n",
       "      <td>среднее</td>\n",
       "      <td>1</td>\n",
       "      <td>гражданский брак</td>\n",
       "      <td>1</td>\n",
       "      <td>F</td>\n",
       "      <td>пенсионер</td>\n",
       "      <td>0</td>\n",
       "      <td>158616</td>\n",
       "      <td>сыграть свадьбу</td>\n",
       "      <td>свадьба</td>\n",
       "    </tr>\n",
       "    <tr>\n",
       "      <td>...</td>\n",
       "      <td>...</td>\n",
       "      <td>...</td>\n",
       "      <td>...</td>\n",
       "      <td>...</td>\n",
       "      <td>...</td>\n",
       "      <td>...</td>\n",
       "      <td>...</td>\n",
       "      <td>...</td>\n",
       "      <td>...</td>\n",
       "      <td>...</td>\n",
       "      <td>...</td>\n",
       "      <td>...</td>\n",
       "      <td>...</td>\n",
       "    </tr>\n",
       "    <tr>\n",
       "      <td>21520</td>\n",
       "      <td>1</td>\n",
       "      <td>4529</td>\n",
       "      <td>43</td>\n",
       "      <td>среднее</td>\n",
       "      <td>1</td>\n",
       "      <td>гражданский брак</td>\n",
       "      <td>1</td>\n",
       "      <td>F</td>\n",
       "      <td>компаньон</td>\n",
       "      <td>0</td>\n",
       "      <td>224791</td>\n",
       "      <td>операции с жильем</td>\n",
       "      <td>недвижимость</td>\n",
       "    </tr>\n",
       "    <tr>\n",
       "      <td>21521</td>\n",
       "      <td>0</td>\n",
       "      <td>343937</td>\n",
       "      <td>67</td>\n",
       "      <td>среднее</td>\n",
       "      <td>1</td>\n",
       "      <td>женат / замужем</td>\n",
       "      <td>0</td>\n",
       "      <td>F</td>\n",
       "      <td>пенсионер</td>\n",
       "      <td>0</td>\n",
       "      <td>155999</td>\n",
       "      <td>сделка с автомобилем</td>\n",
       "      <td>автомобиль</td>\n",
       "    </tr>\n",
       "    <tr>\n",
       "      <td>21522</td>\n",
       "      <td>1</td>\n",
       "      <td>2113</td>\n",
       "      <td>38</td>\n",
       "      <td>среднее</td>\n",
       "      <td>1</td>\n",
       "      <td>гражданский брак</td>\n",
       "      <td>1</td>\n",
       "      <td>M</td>\n",
       "      <td>сотрудник</td>\n",
       "      <td>1</td>\n",
       "      <td>89672</td>\n",
       "      <td>недвижимость</td>\n",
       "      <td>недвижимость</td>\n",
       "    </tr>\n",
       "    <tr>\n",
       "      <td>21523</td>\n",
       "      <td>3</td>\n",
       "      <td>3112</td>\n",
       "      <td>38</td>\n",
       "      <td>среднее</td>\n",
       "      <td>1</td>\n",
       "      <td>женат / замужем</td>\n",
       "      <td>0</td>\n",
       "      <td>M</td>\n",
       "      <td>сотрудник</td>\n",
       "      <td>1</td>\n",
       "      <td>244093</td>\n",
       "      <td>на покупку своего автомобиля</td>\n",
       "      <td>автомобиль</td>\n",
       "    </tr>\n",
       "    <tr>\n",
       "      <td>21524</td>\n",
       "      <td>2</td>\n",
       "      <td>1984</td>\n",
       "      <td>40</td>\n",
       "      <td>среднее</td>\n",
       "      <td>1</td>\n",
       "      <td>женат / замужем</td>\n",
       "      <td>0</td>\n",
       "      <td>F</td>\n",
       "      <td>сотрудник</td>\n",
       "      <td>0</td>\n",
       "      <td>82047</td>\n",
       "      <td>на покупку автомобиля</td>\n",
       "      <td>автомобиль</td>\n",
       "    </tr>\n",
       "  </tbody>\n",
       "</table>\n",
       "<p>21454 rows × 13 columns</p>\n",
       "</div>"
      ],
      "text/plain": [
       "       children  days_employed  dob_years education  education_id  \\\n",
       "0             1           8437         42    высшее             0   \n",
       "1             1           4024         36   среднее             1   \n",
       "2             0           5623         33   среднее             1   \n",
       "3             3           4124         32   среднее             1   \n",
       "4             0         340266         53   среднее             1   \n",
       "...         ...            ...        ...       ...           ...   \n",
       "21520         1           4529         43   среднее             1   \n",
       "21521         0         343937         67   среднее             1   \n",
       "21522         1           2113         38   среднее             1   \n",
       "21523         3           3112         38   среднее             1   \n",
       "21524         2           1984         40   среднее             1   \n",
       "\n",
       "          family_status  family_status_id gender income_type  debt  \\\n",
       "0       женат / замужем                 0      F   сотрудник     0   \n",
       "1       женат / замужем                 0      F   сотрудник     0   \n",
       "2       женат / замужем                 0      M   сотрудник     0   \n",
       "3       женат / замужем                 0      M   сотрудник     0   \n",
       "4      гражданский брак                 1      F   пенсионер     0   \n",
       "...                 ...               ...    ...         ...   ...   \n",
       "21520  гражданский брак                 1      F   компаньон     0   \n",
       "21521   женат / замужем                 0      F   пенсионер     0   \n",
       "21522  гражданский брак                 1      M   сотрудник     1   \n",
       "21523   женат / замужем                 0      M   сотрудник     1   \n",
       "21524   женат / замужем                 0      F   сотрудник     0   \n",
       "\n",
       "       total_income                       purpose purpose_group  \n",
       "0            253875                 покупка жилья  недвижимость  \n",
       "1            112080       приобретение автомобиля    автомобиль  \n",
       "2            145885                 покупка жилья  недвижимость  \n",
       "3            267628    дополнительное образование   образование  \n",
       "4            158616               сыграть свадьбу       свадьба  \n",
       "...             ...                           ...           ...  \n",
       "21520        224791             операции с жильем  недвижимость  \n",
       "21521        155999          сделка с автомобилем    автомобиль  \n",
       "21522         89672                  недвижимость  недвижимость  \n",
       "21523        244093  на покупку своего автомобиля    автомобиль  \n",
       "21524         82047         на покупку автомобиля    автомобиль  \n",
       "\n",
       "[21454 rows x 13 columns]"
      ]
     },
     "execution_count": 35,
     "metadata": {},
     "output_type": "execute_result"
    }
   ],
   "source": [
    "#Для начала возьмём все отрицательные значения в столбце 'days_employed' по модулю\n",
    "df['days_employed'] = abs(df['days_employed'])\n",
    "df"
   ]
  },
  {
   "cell_type": "code",
   "execution_count": 36,
   "metadata": {},
   "outputs": [
    {
     "data": {
      "text/plain": [
       "family_status          family_status_id\n",
       "Не женат / не замужем  4                    2810\n",
       "в разводе              3                    1195\n",
       "вдовец / вдова         2                     959\n",
       "гражданский брак       1                    4151\n",
       "женат / замужем        0                   12339\n",
       "Name: family_status, dtype: int64"
      ]
     },
     "execution_count": 36,
     "metadata": {},
     "output_type": "execute_result"
    }
   ],
   "source": [
    "#Проверим, каким названиям какой 'id' присваивается и сколько семейных положений с каждым статусом и 'id'\n",
    "df.groupby(['family_status','family_status_id'])['family_status'].count()"
   ]
  },
  {
   "cell_type": "code",
   "execution_count": 37,
   "metadata": {},
   "outputs": [
    {
     "data": {
      "text/plain": [
       "education            education_id\n",
       "высшее               0                5250\n",
       "начальное            3                 282\n",
       "неоконченное высшее  2                 744\n",
       "среднее              1               15172\n",
       "ученая степень       4                   6\n",
       "Name: education, dtype: int64"
      ]
     },
     "execution_count": 37,
     "metadata": {},
     "output_type": "execute_result"
    }
   ],
   "source": [
    "#Проверим, каким названиям какой 'id' присваивается и сколько разных видов образований и 'id'\n",
    "df.groupby(['education','education_id'])['education'].count()"
   ]
  },
  {
   "cell_type": "code",
   "execution_count": 38,
   "metadata": {},
   "outputs": [],
   "source": [
    "#Далее разделим возраст людей по группам с помощью функции\n",
    "def human_age(row):\n",
    "    dob_years = row['dob_years']\n",
    "    if dob_years <= 30:\n",
    "        return 'До 30 лет'\n",
    "    if 30 < dob_years <= 55:\n",
    "        return 'До 55 лет'\n",
    "    return 'Старше 55 лет'    "
   ]
  },
  {
   "cell_type": "code",
   "execution_count": 39,
   "metadata": {},
   "outputs": [],
   "source": [
    "#Разделим людей по ежемесячному доходу с помощью функции\n",
    "def salary_level(row):\n",
    "    salary = row['total_income']\n",
    "    if salary <= 50000:\n",
    "        return 'Низкий'\n",
    "    if 50000 < salary <= 100000:\n",
    "        return 'Средний'\n",
    "    if 100000 < salary <= 500000:\n",
    "        return 'Высокий'\n",
    "    return 'Очень высокий' "
   ]
  },
  {
   "cell_type": "code",
   "execution_count": 40,
   "metadata": {},
   "outputs": [],
   "source": [
    "#Разделим людей по количеству детей (поскольку у нас есть значения -1, то для него будет вынесен отдельный пункт с названием \n",
    "#'Нет данных')\n",
    "def child_count(row):\n",
    "    child_count = row['children']\n",
    "    if child_count == 0:\n",
    "        return 'Не имеет детей'\n",
    "    if 1 <= child_count <= 2:\n",
    "        return 'Имеет 1-2 ребёнка'\n",
    "    if child_count >= 3:\n",
    "        return 'Имеет много детей'\n",
    "    else:\n",
    "        return 'Нет данных'"
   ]
  },
  {
   "cell_type": "code",
   "execution_count": 41,
   "metadata": {},
   "outputs": [],
   "source": [
    "#Теперь применим все эти функции для наших данных\n",
    "df['age_range'] = df.apply(human_age, axis=1)\n",
    "df['salary_level'] = df.apply(salary_level, axis=1)\n",
    "df['child_count_range'] = df.apply(child_count, axis=1)"
   ]
  },
  {
   "cell_type": "code",
   "execution_count": 42,
   "metadata": {},
   "outputs": [
    {
     "data": {
      "text/html": [
       "<div>\n",
       "<style scoped>\n",
       "    .dataframe tbody tr th:only-of-type {\n",
       "        vertical-align: middle;\n",
       "    }\n",
       "\n",
       "    .dataframe tbody tr th {\n",
       "        vertical-align: top;\n",
       "    }\n",
       "\n",
       "    .dataframe thead th {\n",
       "        text-align: right;\n",
       "    }\n",
       "</style>\n",
       "<table border=\"1\" class=\"dataframe\">\n",
       "  <thead>\n",
       "    <tr style=\"text-align: right;\">\n",
       "      <th></th>\n",
       "      <th>children</th>\n",
       "      <th>days_employed</th>\n",
       "      <th>dob_years</th>\n",
       "      <th>education</th>\n",
       "      <th>education_id</th>\n",
       "      <th>family_status</th>\n",
       "      <th>family_status_id</th>\n",
       "      <th>gender</th>\n",
       "      <th>income_type</th>\n",
       "      <th>debt</th>\n",
       "      <th>total_income</th>\n",
       "      <th>purpose</th>\n",
       "      <th>purpose_group</th>\n",
       "      <th>age_range</th>\n",
       "      <th>salary_level</th>\n",
       "      <th>child_count_range</th>\n",
       "    </tr>\n",
       "  </thead>\n",
       "  <tbody>\n",
       "    <tr>\n",
       "      <td>0</td>\n",
       "      <td>1</td>\n",
       "      <td>8437</td>\n",
       "      <td>42</td>\n",
       "      <td>высшее</td>\n",
       "      <td>0</td>\n",
       "      <td>женат / замужем</td>\n",
       "      <td>0</td>\n",
       "      <td>F</td>\n",
       "      <td>сотрудник</td>\n",
       "      <td>0</td>\n",
       "      <td>253875</td>\n",
       "      <td>покупка жилья</td>\n",
       "      <td>недвижимость</td>\n",
       "      <td>До 55 лет</td>\n",
       "      <td>Высокий</td>\n",
       "      <td>Имеет 1-2 ребёнка</td>\n",
       "    </tr>\n",
       "    <tr>\n",
       "      <td>1</td>\n",
       "      <td>1</td>\n",
       "      <td>4024</td>\n",
       "      <td>36</td>\n",
       "      <td>среднее</td>\n",
       "      <td>1</td>\n",
       "      <td>женат / замужем</td>\n",
       "      <td>0</td>\n",
       "      <td>F</td>\n",
       "      <td>сотрудник</td>\n",
       "      <td>0</td>\n",
       "      <td>112080</td>\n",
       "      <td>приобретение автомобиля</td>\n",
       "      <td>автомобиль</td>\n",
       "      <td>До 55 лет</td>\n",
       "      <td>Высокий</td>\n",
       "      <td>Имеет 1-2 ребёнка</td>\n",
       "    </tr>\n",
       "    <tr>\n",
       "      <td>2</td>\n",
       "      <td>0</td>\n",
       "      <td>5623</td>\n",
       "      <td>33</td>\n",
       "      <td>среднее</td>\n",
       "      <td>1</td>\n",
       "      <td>женат / замужем</td>\n",
       "      <td>0</td>\n",
       "      <td>M</td>\n",
       "      <td>сотрудник</td>\n",
       "      <td>0</td>\n",
       "      <td>145885</td>\n",
       "      <td>покупка жилья</td>\n",
       "      <td>недвижимость</td>\n",
       "      <td>До 55 лет</td>\n",
       "      <td>Высокий</td>\n",
       "      <td>Не имеет детей</td>\n",
       "    </tr>\n",
       "    <tr>\n",
       "      <td>3</td>\n",
       "      <td>3</td>\n",
       "      <td>4124</td>\n",
       "      <td>32</td>\n",
       "      <td>среднее</td>\n",
       "      <td>1</td>\n",
       "      <td>женат / замужем</td>\n",
       "      <td>0</td>\n",
       "      <td>M</td>\n",
       "      <td>сотрудник</td>\n",
       "      <td>0</td>\n",
       "      <td>267628</td>\n",
       "      <td>дополнительное образование</td>\n",
       "      <td>образование</td>\n",
       "      <td>До 55 лет</td>\n",
       "      <td>Высокий</td>\n",
       "      <td>Имеет много детей</td>\n",
       "    </tr>\n",
       "    <tr>\n",
       "      <td>4</td>\n",
       "      <td>0</td>\n",
       "      <td>340266</td>\n",
       "      <td>53</td>\n",
       "      <td>среднее</td>\n",
       "      <td>1</td>\n",
       "      <td>гражданский брак</td>\n",
       "      <td>1</td>\n",
       "      <td>F</td>\n",
       "      <td>пенсионер</td>\n",
       "      <td>0</td>\n",
       "      <td>158616</td>\n",
       "      <td>сыграть свадьбу</td>\n",
       "      <td>свадьба</td>\n",
       "      <td>До 55 лет</td>\n",
       "      <td>Высокий</td>\n",
       "      <td>Не имеет детей</td>\n",
       "    </tr>\n",
       "  </tbody>\n",
       "</table>\n",
       "</div>"
      ],
      "text/plain": [
       "   children  days_employed  dob_years education  education_id  \\\n",
       "0         1           8437         42    высшее             0   \n",
       "1         1           4024         36   среднее             1   \n",
       "2         0           5623         33   среднее             1   \n",
       "3         3           4124         32   среднее             1   \n",
       "4         0         340266         53   среднее             1   \n",
       "\n",
       "      family_status  family_status_id gender income_type  debt  total_income  \\\n",
       "0   женат / замужем                 0      F   сотрудник     0        253875   \n",
       "1   женат / замужем                 0      F   сотрудник     0        112080   \n",
       "2   женат / замужем                 0      M   сотрудник     0        145885   \n",
       "3   женат / замужем                 0      M   сотрудник     0        267628   \n",
       "4  гражданский брак                 1      F   пенсионер     0        158616   \n",
       "\n",
       "                      purpose purpose_group  age_range salary_level  \\\n",
       "0               покупка жилья  недвижимость  До 55 лет      Высокий   \n",
       "1     приобретение автомобиля    автомобиль  До 55 лет      Высокий   \n",
       "2               покупка жилья  недвижимость  До 55 лет      Высокий   \n",
       "3  дополнительное образование   образование  До 55 лет      Высокий   \n",
       "4             сыграть свадьбу       свадьба  До 55 лет      Высокий   \n",
       "\n",
       "   child_count_range  \n",
       "0  Имеет 1-2 ребёнка  \n",
       "1  Имеет 1-2 ребёнка  \n",
       "2     Не имеет детей  \n",
       "3  Имеет много детей  \n",
       "4     Не имеет детей  "
      ]
     },
     "execution_count": 42,
     "metadata": {},
     "output_type": "execute_result"
    }
   ],
   "source": [
    "#Теперь посмотрим как всё это выглядит\n",
    "df.head()"
   ]
  },
  {
   "cell_type": "markdown",
   "metadata": {},
   "source": [
    "**Вывод**"
   ]
  },
  {
   "cell_type": "markdown",
   "metadata": {},
   "source": [
    "Были категоризованы данные по разным группам (возраст, количество детей, уровень зарплаты) с целью дальнейшего получения финальной статистики на основе этих данных. \n",
    "Помимо этого, были проверены какие 'id' каким названиям принадлежат для образования и семейного положения (ошибок не обнаружено). "
   ]
  },
  {
   "cell_type": "markdown",
   "metadata": {},
   "source": [
    "## Шаг 3. Ответы на вопросы"
   ]
  },
  {
   "cell_type": "markdown",
   "metadata": {},
   "source": [
    "- Есть ли зависимость между наличием детей и возвратом кредита в срок?"
   ]
  },
  {
   "cell_type": "code",
   "execution_count": 43,
   "metadata": {},
   "outputs": [
    {
     "data": {
      "text/plain": [
       "child_count_range  debt\n",
       "Имеет 1-2 ребёнка  0        6222\n",
       "                   1         638\n",
       "Имеет много детей  0         417\n",
       "                   1          39\n",
       "Не имеет детей     0       13028\n",
       "                   1        1063\n",
       "Нет данных         0          46\n",
       "                   1           1\n",
       "Name: debt, dtype: int64"
      ]
     },
     "execution_count": 43,
     "metadata": {},
     "output_type": "execute_result"
    }
   ],
   "source": [
    "#Посмотрим все значения с наличием или отсутствием задолженности для разных категорий\n",
    "df.groupby(['child_count_range', 'debt'])['debt'].count()"
   ]
  },
  {
   "cell_type": "code",
   "execution_count": 44,
   "metadata": {},
   "outputs": [],
   "source": [
    "#Создадим новый датафрейм для нахождения отношения количества людей с \"разными категориями детей\" на сумму значений с \n",
    "#задолженностями (0 - не имеет задолженности, 1 - имеет задолженность)\n",
    "children_debt = pd.DataFrame()\n",
    "children_debt['count'] = df.groupby('child_count_range')['debt'].count()\n",
    "children_debt['sum'] = df.groupby('child_count_range')['debt'].sum()\n",
    "children_debt['result'] = children_debt['sum'] / children_debt['count']"
   ]
  },
  {
   "cell_type": "code",
   "execution_count": 45,
   "metadata": {},
   "outputs": [
    {
     "data": {
      "text/html": [
       "<div>\n",
       "<style scoped>\n",
       "    .dataframe tbody tr th:only-of-type {\n",
       "        vertical-align: middle;\n",
       "    }\n",
       "\n",
       "    .dataframe tbody tr th {\n",
       "        vertical-align: top;\n",
       "    }\n",
       "\n",
       "    .dataframe thead th {\n",
       "        text-align: right;\n",
       "    }\n",
       "</style>\n",
       "<table border=\"1\" class=\"dataframe\">\n",
       "  <thead>\n",
       "    <tr style=\"text-align: right;\">\n",
       "      <th></th>\n",
       "      <th>count</th>\n",
       "      <th>sum</th>\n",
       "      <th>result</th>\n",
       "    </tr>\n",
       "    <tr>\n",
       "      <th>child_count_range</th>\n",
       "      <th></th>\n",
       "      <th></th>\n",
       "      <th></th>\n",
       "    </tr>\n",
       "  </thead>\n",
       "  <tbody>\n",
       "    <tr>\n",
       "      <td>Имеет 1-2 ребёнка</td>\n",
       "      <td>6860</td>\n",
       "      <td>638</td>\n",
       "      <td>0.093003</td>\n",
       "    </tr>\n",
       "    <tr>\n",
       "      <td>Имеет много детей</td>\n",
       "      <td>456</td>\n",
       "      <td>39</td>\n",
       "      <td>0.085526</td>\n",
       "    </tr>\n",
       "    <tr>\n",
       "      <td>Не имеет детей</td>\n",
       "      <td>14091</td>\n",
       "      <td>1063</td>\n",
       "      <td>0.075438</td>\n",
       "    </tr>\n",
       "    <tr>\n",
       "      <td>Нет данных</td>\n",
       "      <td>47</td>\n",
       "      <td>1</td>\n",
       "      <td>0.021277</td>\n",
       "    </tr>\n",
       "  </tbody>\n",
       "</table>\n",
       "</div>"
      ],
      "text/plain": [
       "                   count   sum    result\n",
       "child_count_range                       \n",
       "Имеет 1-2 ребёнка   6860   638  0.093003\n",
       "Имеет много детей    456    39  0.085526\n",
       "Не имеет детей     14091  1063  0.075438\n",
       "Нет данных            47     1  0.021277"
      ]
     },
     "execution_count": 45,
     "metadata": {},
     "output_type": "execute_result"
    }
   ],
   "source": [
    "#Выведим получившуюся информацию на экран\n",
    "children_debt.sort_values(by='result', ascending=False)"
   ]
  },
  {
   "cell_type": "code",
   "execution_count": 46,
   "metadata": {},
   "outputs": [
    {
     "data": {
      "text/html": [
       "<div>\n",
       "<style scoped>\n",
       "    .dataframe tbody tr th:only-of-type {\n",
       "        vertical-align: middle;\n",
       "    }\n",
       "\n",
       "    .dataframe tbody tr th {\n",
       "        vertical-align: top;\n",
       "    }\n",
       "\n",
       "    .dataframe thead th {\n",
       "        text-align: right;\n",
       "    }\n",
       "</style>\n",
       "<table border=\"1\" class=\"dataframe\">\n",
       "  <thead>\n",
       "    <tr style=\"text-align: right;\">\n",
       "      <th>debt</th>\n",
       "      <th>0</th>\n",
       "      <th>1</th>\n",
       "      <th>result, %</th>\n",
       "    </tr>\n",
       "    <tr>\n",
       "      <th>child_count_range</th>\n",
       "      <th></th>\n",
       "      <th></th>\n",
       "      <th></th>\n",
       "    </tr>\n",
       "  </thead>\n",
       "  <tbody>\n",
       "    <tr>\n",
       "      <td>Имеет 1-2 ребёнка</td>\n",
       "      <td>6222</td>\n",
       "      <td>638</td>\n",
       "      <td>9.3</td>\n",
       "    </tr>\n",
       "    <tr>\n",
       "      <td>Имеет много детей</td>\n",
       "      <td>417</td>\n",
       "      <td>39</td>\n",
       "      <td>8.6</td>\n",
       "    </tr>\n",
       "    <tr>\n",
       "      <td>Не имеет детей</td>\n",
       "      <td>13028</td>\n",
       "      <td>1063</td>\n",
       "      <td>7.5</td>\n",
       "    </tr>\n",
       "    <tr>\n",
       "      <td>Нет данных</td>\n",
       "      <td>46</td>\n",
       "      <td>1</td>\n",
       "      <td>2.1</td>\n",
       "    </tr>\n",
       "  </tbody>\n",
       "</table>\n",
       "</div>"
      ],
      "text/plain": [
       "debt                   0     1  result, %\n",
       "child_count_range                        \n",
       "Имеет 1-2 ребёнка   6222   638        9.3\n",
       "Имеет много детей    417    39        8.6\n",
       "Не имеет детей     13028  1063        7.5\n",
       "Нет данных            46     1        2.1"
      ]
     },
     "execution_count": 46,
     "metadata": {},
     "output_type": "execute_result"
    }
   ],
   "source": [
    "#Сделаем то же самое, но с помощью сводной таблицы и в %\n",
    "children_debt_pivot_table = df.pivot_table(index='child_count_range', columns='debt', values='children', \n",
    "                                           aggfunc='count')\n",
    "children_debt_pivot_table['result, %'] = round((children_debt_pivot_table[1] / (children_debt_pivot_table[0] \n",
    "                                                                            + children_debt_pivot_table[1])) * 100, 1)\n",
    "children_debt_pivot_table.sort_values(by='result, %', ascending=False)"
   ]
  },
  {
   "cell_type": "markdown",
   "metadata": {},
   "source": [
    "**Вывод**"
   ]
  },
  {
   "cell_type": "markdown",
   "metadata": {},
   "source": [
    "Как можно заметить из получившейся статистики, те, кто имеют 1-2 ребёнка, чуть чаще имеют задолженность, чем те, кто имеет много детей или не имеет их вообще, хоть разница примерно в 1-2 %. По поводу 'Нет данных' сложно дать информацию из-за её отсутствия. Возможно, потребуется большая выборка в дальнейших исследованиях для получения более подробных данных."
   ]
  },
  {
   "cell_type": "markdown",
   "metadata": {},
   "source": [
    "- Есть ли зависимость между семейным положением и возвратом кредита в срок?"
   ]
  },
  {
   "cell_type": "code",
   "execution_count": 47,
   "metadata": {},
   "outputs": [
    {
     "data": {
      "text/plain": [
       "family_status          debt\n",
       "Не женат / не замужем  0        2536\n",
       "                       1         274\n",
       "в разводе              0        1110\n",
       "                       1          85\n",
       "вдовец / вдова         0         896\n",
       "                       1          63\n",
       "гражданский брак       0        3763\n",
       "                       1         388\n",
       "женат / замужем        0       11408\n",
       "                       1         931\n",
       "Name: debt, dtype: int64"
      ]
     },
     "execution_count": 47,
     "metadata": {},
     "output_type": "execute_result"
    }
   ],
   "source": [
    "#Посмотрим все значения с наличием или отсутствием задолженности для разных категорий\n",
    "df.groupby(['family_status', 'debt'])['debt'].count()"
   ]
  },
  {
   "cell_type": "code",
   "execution_count": 48,
   "metadata": {},
   "outputs": [],
   "source": [
    "#Создадим новый датафрейм для нахождения отношения количества людей с \"разным семейным положением\" на сумму значений с \n",
    "#задолженностями (0 - не имеет задолженности, 1 - имеет задолженность)\n",
    "family_debt = pd.DataFrame()\n",
    "family_debt['count'] = df.groupby('family_status')['debt'].count()\n",
    "family_debt['sum'] = df.groupby('family_status')['debt'].sum()\n",
    "family_debt['result'] = family_debt['sum'] / family_debt['count']"
   ]
  },
  {
   "cell_type": "code",
   "execution_count": 49,
   "metadata": {},
   "outputs": [
    {
     "data": {
      "text/html": [
       "<div>\n",
       "<style scoped>\n",
       "    .dataframe tbody tr th:only-of-type {\n",
       "        vertical-align: middle;\n",
       "    }\n",
       "\n",
       "    .dataframe tbody tr th {\n",
       "        vertical-align: top;\n",
       "    }\n",
       "\n",
       "    .dataframe thead th {\n",
       "        text-align: right;\n",
       "    }\n",
       "</style>\n",
       "<table border=\"1\" class=\"dataframe\">\n",
       "  <thead>\n",
       "    <tr style=\"text-align: right;\">\n",
       "      <th></th>\n",
       "      <th>count</th>\n",
       "      <th>sum</th>\n",
       "      <th>result</th>\n",
       "    </tr>\n",
       "    <tr>\n",
       "      <th>family_status</th>\n",
       "      <th></th>\n",
       "      <th></th>\n",
       "      <th></th>\n",
       "    </tr>\n",
       "  </thead>\n",
       "  <tbody>\n",
       "    <tr>\n",
       "      <td>Не женат / не замужем</td>\n",
       "      <td>2810</td>\n",
       "      <td>274</td>\n",
       "      <td>0.097509</td>\n",
       "    </tr>\n",
       "    <tr>\n",
       "      <td>гражданский брак</td>\n",
       "      <td>4151</td>\n",
       "      <td>388</td>\n",
       "      <td>0.093471</td>\n",
       "    </tr>\n",
       "    <tr>\n",
       "      <td>женат / замужем</td>\n",
       "      <td>12339</td>\n",
       "      <td>931</td>\n",
       "      <td>0.075452</td>\n",
       "    </tr>\n",
       "    <tr>\n",
       "      <td>в разводе</td>\n",
       "      <td>1195</td>\n",
       "      <td>85</td>\n",
       "      <td>0.071130</td>\n",
       "    </tr>\n",
       "    <tr>\n",
       "      <td>вдовец / вдова</td>\n",
       "      <td>959</td>\n",
       "      <td>63</td>\n",
       "      <td>0.065693</td>\n",
       "    </tr>\n",
       "  </tbody>\n",
       "</table>\n",
       "</div>"
      ],
      "text/plain": [
       "                       count  sum    result\n",
       "family_status                              \n",
       "Не женат / не замужем   2810  274  0.097509\n",
       "гражданский брак        4151  388  0.093471\n",
       "женат / замужем        12339  931  0.075452\n",
       "в разводе               1195   85  0.071130\n",
       "вдовец / вдова           959   63  0.065693"
      ]
     },
     "execution_count": 49,
     "metadata": {},
     "output_type": "execute_result"
    }
   ],
   "source": [
    "#Посмотрим все значения с наличием или отсутствием задолженности для разных категорий по убыванию столбца \"result\"\n",
    "family_debt.sort_values(by='result', ascending=False)"
   ]
  },
  {
   "cell_type": "code",
   "execution_count": 50,
   "metadata": {},
   "outputs": [
    {
     "data": {
      "text/html": [
       "<div>\n",
       "<style scoped>\n",
       "    .dataframe tbody tr th:only-of-type {\n",
       "        vertical-align: middle;\n",
       "    }\n",
       "\n",
       "    .dataframe tbody tr th {\n",
       "        vertical-align: top;\n",
       "    }\n",
       "\n",
       "    .dataframe thead th {\n",
       "        text-align: right;\n",
       "    }\n",
       "</style>\n",
       "<table border=\"1\" class=\"dataframe\">\n",
       "  <thead>\n",
       "    <tr style=\"text-align: right;\">\n",
       "      <th>debt</th>\n",
       "      <th>0</th>\n",
       "      <th>1</th>\n",
       "      <th>result, %</th>\n",
       "    </tr>\n",
       "    <tr>\n",
       "      <th>family_status</th>\n",
       "      <th></th>\n",
       "      <th></th>\n",
       "      <th></th>\n",
       "    </tr>\n",
       "  </thead>\n",
       "  <tbody>\n",
       "    <tr>\n",
       "      <td>Не женат / не замужем</td>\n",
       "      <td>2536</td>\n",
       "      <td>274</td>\n",
       "      <td>9.8</td>\n",
       "    </tr>\n",
       "    <tr>\n",
       "      <td>гражданский брак</td>\n",
       "      <td>3763</td>\n",
       "      <td>388</td>\n",
       "      <td>9.3</td>\n",
       "    </tr>\n",
       "    <tr>\n",
       "      <td>женат / замужем</td>\n",
       "      <td>11408</td>\n",
       "      <td>931</td>\n",
       "      <td>7.5</td>\n",
       "    </tr>\n",
       "    <tr>\n",
       "      <td>в разводе</td>\n",
       "      <td>1110</td>\n",
       "      <td>85</td>\n",
       "      <td>7.1</td>\n",
       "    </tr>\n",
       "    <tr>\n",
       "      <td>вдовец / вдова</td>\n",
       "      <td>896</td>\n",
       "      <td>63</td>\n",
       "      <td>6.6</td>\n",
       "    </tr>\n",
       "  </tbody>\n",
       "</table>\n",
       "</div>"
      ],
      "text/plain": [
       "debt                       0    1  result, %\n",
       "family_status                               \n",
       "Не женат / не замужем   2536  274        9.8\n",
       "гражданский брак        3763  388        9.3\n",
       "женат / замужем        11408  931        7.5\n",
       "в разводе               1110   85        7.1\n",
       "вдовец / вдова           896   63        6.6"
      ]
     },
     "execution_count": 50,
     "metadata": {},
     "output_type": "execute_result"
    }
   ],
   "source": [
    "#Сделаем то же самое, но с помощью сводной таблицы и в %\n",
    "family_debt_pivot_table = df.pivot_table(index='family_status', columns='debt', values='children', \n",
    "                                           aggfunc='count')\n",
    "family_debt_pivot_table['result, %'] = round((family_debt_pivot_table[1] / (family_debt_pivot_table[0] \n",
    "                                                                            + family_debt_pivot_table[1])) * 100, 1)\n",
    "family_debt_pivot_table.sort_values(by='result, %', ascending=False)"
   ]
  },
  {
   "cell_type": "markdown",
   "metadata": {},
   "source": [
    "**Вывод**"
   ]
  },
  {
   "cell_type": "markdown",
   "metadata": {},
   "source": [
    "Те, кто не женат/не замужем и имеют гражданский брак, реже возвращают задолженность вовремя, чем те, кто женат/замужем, в разводе или вдовец/вдова (с последними разница аж в ~3 %) "
   ]
  },
  {
   "cell_type": "markdown",
   "metadata": {},
   "source": [
    "- Есть ли зависимость между уровнем дохода и возвратом кредита в срок?"
   ]
  },
  {
   "cell_type": "code",
   "execution_count": 51,
   "metadata": {},
   "outputs": [
    {
     "data": {
      "text/plain": [
       "salary_level   debt\n",
       "Высокий        0       15396\n",
       "               1        1373\n",
       "Низкий         0         349\n",
       "               1          23\n",
       "Очень высокий  0         208\n",
       "               1          14\n",
       "Средний        0        3760\n",
       "               1         331\n",
       "Name: debt, dtype: int64"
      ]
     },
     "execution_count": 51,
     "metadata": {},
     "output_type": "execute_result"
    }
   ],
   "source": [
    "#Посмотрим все значения с наличием или отсутствием задолженности для разных категорий\n",
    "df.groupby(['salary_level', 'debt'])['debt'].count()"
   ]
  },
  {
   "cell_type": "code",
   "execution_count": 52,
   "metadata": {},
   "outputs": [],
   "source": [
    "#Создадим новый датафрейм для нахождения отношения количества людей с разным уровнем дохода на сумму значений с \n",
    "#задолженностями (0 - не имеет задолженности, 1 - имеет задолженность)\n",
    "salary_debt = pd.DataFrame()\n",
    "salary_debt['count'] = df.groupby('salary_level')['debt'].count()\n",
    "salary_debt['sum'] = df.groupby('salary_level')['debt'].sum()\n",
    "salary_debt['result'] = salary_debt['sum'] / salary_debt['count']"
   ]
  },
  {
   "cell_type": "code",
   "execution_count": 53,
   "metadata": {},
   "outputs": [
    {
     "data": {
      "text/html": [
       "<div>\n",
       "<style scoped>\n",
       "    .dataframe tbody tr th:only-of-type {\n",
       "        vertical-align: middle;\n",
       "    }\n",
       "\n",
       "    .dataframe tbody tr th {\n",
       "        vertical-align: top;\n",
       "    }\n",
       "\n",
       "    .dataframe thead th {\n",
       "        text-align: right;\n",
       "    }\n",
       "</style>\n",
       "<table border=\"1\" class=\"dataframe\">\n",
       "  <thead>\n",
       "    <tr style=\"text-align: right;\">\n",
       "      <th></th>\n",
       "      <th>count</th>\n",
       "      <th>sum</th>\n",
       "      <th>result</th>\n",
       "    </tr>\n",
       "    <tr>\n",
       "      <th>salary_level</th>\n",
       "      <th></th>\n",
       "      <th></th>\n",
       "      <th></th>\n",
       "    </tr>\n",
       "  </thead>\n",
       "  <tbody>\n",
       "    <tr>\n",
       "      <td>Высокий</td>\n",
       "      <td>16769</td>\n",
       "      <td>1373</td>\n",
       "      <td>0.081877</td>\n",
       "    </tr>\n",
       "    <tr>\n",
       "      <td>Средний</td>\n",
       "      <td>4091</td>\n",
       "      <td>331</td>\n",
       "      <td>0.080909</td>\n",
       "    </tr>\n",
       "    <tr>\n",
       "      <td>Очень высокий</td>\n",
       "      <td>222</td>\n",
       "      <td>14</td>\n",
       "      <td>0.063063</td>\n",
       "    </tr>\n",
       "    <tr>\n",
       "      <td>Низкий</td>\n",
       "      <td>372</td>\n",
       "      <td>23</td>\n",
       "      <td>0.061828</td>\n",
       "    </tr>\n",
       "  </tbody>\n",
       "</table>\n",
       "</div>"
      ],
      "text/plain": [
       "               count   sum    result\n",
       "salary_level                        \n",
       "Высокий        16769  1373  0.081877\n",
       "Средний         4091   331  0.080909\n",
       "Очень высокий    222    14  0.063063\n",
       "Низкий           372    23  0.061828"
      ]
     },
     "execution_count": 53,
     "metadata": {},
     "output_type": "execute_result"
    }
   ],
   "source": [
    "#Посмотрим все значения с наличием или отсутствием задолженности для разных категорий по убыванию столбца \"result\"\n",
    "salary_debt.sort_values(by='result', ascending=False)"
   ]
  },
  {
   "cell_type": "code",
   "execution_count": 54,
   "metadata": {},
   "outputs": [
    {
     "data": {
      "text/html": [
       "<div>\n",
       "<style scoped>\n",
       "    .dataframe tbody tr th:only-of-type {\n",
       "        vertical-align: middle;\n",
       "    }\n",
       "\n",
       "    .dataframe tbody tr th {\n",
       "        vertical-align: top;\n",
       "    }\n",
       "\n",
       "    .dataframe thead th {\n",
       "        text-align: right;\n",
       "    }\n",
       "</style>\n",
       "<table border=\"1\" class=\"dataframe\">\n",
       "  <thead>\n",
       "    <tr style=\"text-align: right;\">\n",
       "      <th>debt</th>\n",
       "      <th>0</th>\n",
       "      <th>1</th>\n",
       "      <th>result, %</th>\n",
       "    </tr>\n",
       "    <tr>\n",
       "      <th>salary_level</th>\n",
       "      <th></th>\n",
       "      <th></th>\n",
       "      <th></th>\n",
       "    </tr>\n",
       "  </thead>\n",
       "  <tbody>\n",
       "    <tr>\n",
       "      <td>Высокий</td>\n",
       "      <td>15396</td>\n",
       "      <td>1373</td>\n",
       "      <td>8.2</td>\n",
       "    </tr>\n",
       "    <tr>\n",
       "      <td>Средний</td>\n",
       "      <td>3760</td>\n",
       "      <td>331</td>\n",
       "      <td>8.1</td>\n",
       "    </tr>\n",
       "    <tr>\n",
       "      <td>Очень высокий</td>\n",
       "      <td>208</td>\n",
       "      <td>14</td>\n",
       "      <td>6.3</td>\n",
       "    </tr>\n",
       "    <tr>\n",
       "      <td>Низкий</td>\n",
       "      <td>349</td>\n",
       "      <td>23</td>\n",
       "      <td>6.2</td>\n",
       "    </tr>\n",
       "  </tbody>\n",
       "</table>\n",
       "</div>"
      ],
      "text/plain": [
       "debt               0     1  result, %\n",
       "salary_level                         \n",
       "Высокий        15396  1373        8.2\n",
       "Средний         3760   331        8.1\n",
       "Очень высокий    208    14        6.3\n",
       "Низкий           349    23        6.2"
      ]
     },
     "execution_count": 54,
     "metadata": {},
     "output_type": "execute_result"
    }
   ],
   "source": [
    "#Сделаем то же самое, но с помощью сводной таблицы и в %\n",
    "salary_debt_pivot_table = df.pivot_table(index='salary_level', columns='debt', values='children', \n",
    "                                           aggfunc='count')\n",
    "salary_debt_pivot_table['result, %'] = round((salary_debt_pivot_table[1] / (salary_debt_pivot_table[0] \n",
    "                                                                            + salary_debt_pivot_table[1])) * 100, 1)\n",
    "salary_debt_pivot_table.sort_values(by='result, %', ascending=False)"
   ]
  },
  {
   "cell_type": "markdown",
   "metadata": {},
   "source": [
    "**Вывод**"
   ]
  },
  {
   "cell_type": "markdown",
   "metadata": {},
   "source": [
    "Те, у кого высокий и средний уровни зарплаты, имеют больше задолженностей, чем те, у кого очень высокий и низкий уровни зарплаты (разница примерно в ~2 %). Возможно, потребуется большая выборка, поскольку были взяты различные диапазоны зарплат (для низкой <= 50000, для средней 50000 - 100000, для высокой 100000 - 500000, для очень высокой > 500000)"
   ]
  },
  {
   "cell_type": "markdown",
   "metadata": {},
   "source": [
    "- Как разные цели кредита влияют на его возврат в срок?"
   ]
  },
  {
   "cell_type": "code",
   "execution_count": 55,
   "metadata": {},
   "outputs": [
    {
     "data": {
      "text/plain": [
       "purpose_group  debt\n",
       "автомобиль     0        3903\n",
       "               1         403\n",
       "недвижимость   0       10029\n",
       "               1         782\n",
       "образование    0        3643\n",
       "               1         370\n",
       "свадьба        0        2138\n",
       "               1         186\n",
       "Name: debt, dtype: int64"
      ]
     },
     "execution_count": 55,
     "metadata": {},
     "output_type": "execute_result"
    }
   ],
   "source": [
    "#Посмотрим все значения с наличием или отсутствием задолженности для разных категорий\n",
    "df.groupby(['purpose_group', 'debt'])['debt'].count()"
   ]
  },
  {
   "cell_type": "code",
   "execution_count": 56,
   "metadata": {},
   "outputs": [],
   "source": [
    "#Создадим новый датафрейм для нахождения отношения количества людей с разными целями кредита на сумму значений с \n",
    "#задолженностями (0 - не имеет задолженности, 1 - имеет задолженность)\n",
    "purpose_debt = pd.DataFrame()\n",
    "purpose_debt['count'] = df.groupby('purpose_group')['debt'].count()\n",
    "purpose_debt['sum'] = df.groupby('purpose_group')['debt'].sum()\n",
    "purpose_debt['result'] = purpose_debt['sum'] / purpose_debt['count']"
   ]
  },
  {
   "cell_type": "code",
   "execution_count": 57,
   "metadata": {},
   "outputs": [
    {
     "data": {
      "text/html": [
       "<div>\n",
       "<style scoped>\n",
       "    .dataframe tbody tr th:only-of-type {\n",
       "        vertical-align: middle;\n",
       "    }\n",
       "\n",
       "    .dataframe tbody tr th {\n",
       "        vertical-align: top;\n",
       "    }\n",
       "\n",
       "    .dataframe thead th {\n",
       "        text-align: right;\n",
       "    }\n",
       "</style>\n",
       "<table border=\"1\" class=\"dataframe\">\n",
       "  <thead>\n",
       "    <tr style=\"text-align: right;\">\n",
       "      <th></th>\n",
       "      <th>count</th>\n",
       "      <th>sum</th>\n",
       "      <th>result</th>\n",
       "    </tr>\n",
       "    <tr>\n",
       "      <th>purpose_group</th>\n",
       "      <th></th>\n",
       "      <th></th>\n",
       "      <th></th>\n",
       "    </tr>\n",
       "  </thead>\n",
       "  <tbody>\n",
       "    <tr>\n",
       "      <td>автомобиль</td>\n",
       "      <td>4306</td>\n",
       "      <td>403</td>\n",
       "      <td>0.093590</td>\n",
       "    </tr>\n",
       "    <tr>\n",
       "      <td>образование</td>\n",
       "      <td>4013</td>\n",
       "      <td>370</td>\n",
       "      <td>0.092200</td>\n",
       "    </tr>\n",
       "    <tr>\n",
       "      <td>свадьба</td>\n",
       "      <td>2324</td>\n",
       "      <td>186</td>\n",
       "      <td>0.080034</td>\n",
       "    </tr>\n",
       "    <tr>\n",
       "      <td>недвижимость</td>\n",
       "      <td>10811</td>\n",
       "      <td>782</td>\n",
       "      <td>0.072334</td>\n",
       "    </tr>\n",
       "  </tbody>\n",
       "</table>\n",
       "</div>"
      ],
      "text/plain": [
       "               count  sum    result\n",
       "purpose_group                      \n",
       "автомобиль      4306  403  0.093590\n",
       "образование     4013  370  0.092200\n",
       "свадьба         2324  186  0.080034\n",
       "недвижимость   10811  782  0.072334"
      ]
     },
     "execution_count": 57,
     "metadata": {},
     "output_type": "execute_result"
    }
   ],
   "source": [
    "#Посмотрим все значения с наличием или отсутствием задолженности для разных категорий по убыванию столбца \"result\"\n",
    "purpose_debt.sort_values(by='result', ascending=False)"
   ]
  },
  {
   "cell_type": "code",
   "execution_count": 58,
   "metadata": {},
   "outputs": [
    {
     "data": {
      "text/html": [
       "<div>\n",
       "<style scoped>\n",
       "    .dataframe tbody tr th:only-of-type {\n",
       "        vertical-align: middle;\n",
       "    }\n",
       "\n",
       "    .dataframe tbody tr th {\n",
       "        vertical-align: top;\n",
       "    }\n",
       "\n",
       "    .dataframe thead th {\n",
       "        text-align: right;\n",
       "    }\n",
       "</style>\n",
       "<table border=\"1\" class=\"dataframe\">\n",
       "  <thead>\n",
       "    <tr style=\"text-align: right;\">\n",
       "      <th>debt</th>\n",
       "      <th>0</th>\n",
       "      <th>1</th>\n",
       "      <th>result, %</th>\n",
       "    </tr>\n",
       "    <tr>\n",
       "      <th>purpose_group</th>\n",
       "      <th></th>\n",
       "      <th></th>\n",
       "      <th></th>\n",
       "    </tr>\n",
       "  </thead>\n",
       "  <tbody>\n",
       "    <tr>\n",
       "      <td>автомобиль</td>\n",
       "      <td>3903</td>\n",
       "      <td>403</td>\n",
       "      <td>9.4</td>\n",
       "    </tr>\n",
       "    <tr>\n",
       "      <td>образование</td>\n",
       "      <td>3643</td>\n",
       "      <td>370</td>\n",
       "      <td>9.2</td>\n",
       "    </tr>\n",
       "    <tr>\n",
       "      <td>свадьба</td>\n",
       "      <td>2138</td>\n",
       "      <td>186</td>\n",
       "      <td>8.0</td>\n",
       "    </tr>\n",
       "    <tr>\n",
       "      <td>недвижимость</td>\n",
       "      <td>10029</td>\n",
       "      <td>782</td>\n",
       "      <td>7.2</td>\n",
       "    </tr>\n",
       "  </tbody>\n",
       "</table>\n",
       "</div>"
      ],
      "text/plain": [
       "debt               0    1  result, %\n",
       "purpose_group                       \n",
       "автомобиль      3903  403        9.4\n",
       "образование     3643  370        9.2\n",
       "свадьба         2138  186        8.0\n",
       "недвижимость   10029  782        7.2"
      ]
     },
     "execution_count": 58,
     "metadata": {},
     "output_type": "execute_result"
    }
   ],
   "source": [
    "#Сделаем то же самое, но с помощью сводной таблицы и в %\n",
    "purpose_debt_pivot_table = df.pivot_table(index='purpose_group', columns='debt', values='children', \n",
    "                                           aggfunc='count')\n",
    "purpose_debt_pivot_table['result, %'] = round((purpose_debt_pivot_table[1] / (purpose_debt_pivot_table[0] \n",
    "                                                                            + purpose_debt_pivot_table[1])) * 100, 1)\n",
    "purpose_debt_pivot_table.sort_values(by='result, %', ascending=False)"
   ]
  },
  {
   "cell_type": "markdown",
   "metadata": {},
   "source": [
    "**Вывод**"
   ]
  },
  {
   "cell_type": "markdown",
   "metadata": {},
   "source": [
    "Те, кто имели задолженности по кредиту на автомобили и образование, имеют на 1-2 % больше вероятность не погасить задолженность вовремя, чем те, кто брал кредит на свадьбу и недвижимость. Опять же, скорее всего нужна более крупная выборка, поскольку неизвестно, на какую машину, какое образование и какую недвижимость брали деньги."
   ]
  },
  {
   "cell_type": "markdown",
   "metadata": {},
   "source": [
    "## Шаг 4. Общий вывод"
   ]
  },
  {
   "cell_type": "markdown",
   "metadata": {},
   "source": [
    "Общий вывод сделать достаточно сложно, поскольку требуются дополнительные исследования во многих пунктах. Например, много непонятных значений в разных столбцах и неизвестно, как и по какому принципу они заполнялись. Для нахождения завимости между разными категориями в большинстве случаев потребуется большая выборка. В целом: те, кто имеют 1-2 ребёнка, чуть чаще имеют задолженность, чем те, кто имеет много детей или не имеет их вообще, хоть разница примерно в 1-2 %; те, кто не женат/не замужем и имеют гражданский брак, реже возвращают задолженность вовремя, чем те, кто женат/замужем, в разводе или вдовец/вдова (с последними разница аж в ~3 %); те, у кого высокий и средний уровни зарплаты, имеют больше задолженностей, чем те, у кого очень высокий и низкий уровни зарплаты (разница примерно в ~2 %); те, кто имели задолженности по кредиту на автомобили и образование, имеют на 1-2 % больше вероятность не погасить задолженность вовремя, чем те, кто брал кредит на свадьбу и недвижимость."
   ]
  }
 ],
 "metadata": {
  "ExecuteTimeLog": [
   {
    "duration": 64,
    "start_time": "2022-01-08T12:51:35.317Z"
   },
   {
    "duration": 69,
    "start_time": "2022-01-08T13:08:13.037Z"
   },
   {
    "duration": 55,
    "start_time": "2022-01-08T13:08:27.021Z"
   },
   {
    "duration": 95,
    "start_time": "2022-01-08T13:08:33.908Z"
   },
   {
    "duration": 8,
    "start_time": "2022-01-08T13:22:08.899Z"
   },
   {
    "duration": 6,
    "start_time": "2022-01-08T13:22:50.596Z"
   },
   {
    "duration": 4,
    "start_time": "2022-01-08T13:23:21.052Z"
   },
   {
    "duration": 240,
    "start_time": "2022-01-08T13:25:14.676Z"
   },
   {
    "duration": 9,
    "start_time": "2022-01-08T13:25:24.901Z"
   },
   {
    "duration": 8,
    "start_time": "2022-01-08T13:25:36.948Z"
   },
   {
    "duration": 10,
    "start_time": "2022-01-08T13:25:52.388Z"
   },
   {
    "duration": 7,
    "start_time": "2022-01-08T13:26:02.291Z"
   },
   {
    "duration": 8,
    "start_time": "2022-01-08T13:26:59.236Z"
   },
   {
    "duration": 6,
    "start_time": "2022-01-08T13:28:43.908Z"
   },
   {
    "duration": 8,
    "start_time": "2022-01-08T13:30:34.829Z"
   },
   {
    "duration": 13,
    "start_time": "2022-01-08T13:30:44.780Z"
   },
   {
    "duration": 8,
    "start_time": "2022-01-08T13:30:57.996Z"
   },
   {
    "duration": 315,
    "start_time": "2022-01-08T13:32:29.900Z"
   },
   {
    "duration": 8,
    "start_time": "2022-01-08T13:32:50.284Z"
   },
   {
    "duration": 10,
    "start_time": "2022-01-08T13:33:18.060Z"
   },
   {
    "duration": 20,
    "start_time": "2022-01-08T13:34:19.508Z"
   },
   {
    "duration": 8,
    "start_time": "2022-01-08T13:36:35.333Z"
   },
   {
    "duration": 21,
    "start_time": "2022-01-08T13:36:41.739Z"
   },
   {
    "duration": 10,
    "start_time": "2022-01-08T13:37:50.349Z"
   },
   {
    "duration": 23,
    "start_time": "2022-01-08T13:37:58.492Z"
   },
   {
    "duration": 22,
    "start_time": "2022-01-08T13:38:21.741Z"
   },
   {
    "duration": 18,
    "start_time": "2022-01-08T13:38:40.125Z"
   },
   {
    "duration": 7,
    "start_time": "2022-01-08T13:39:28.068Z"
   },
   {
    "duration": 10,
    "start_time": "2022-01-08T13:39:38.204Z"
   },
   {
    "duration": 5,
    "start_time": "2022-01-08T13:41:37.644Z"
   },
   {
    "duration": 4,
    "start_time": "2022-01-08T13:42:54.013Z"
   },
   {
    "duration": 285,
    "start_time": "2022-01-08T13:43:15.343Z"
   },
   {
    "duration": 5,
    "start_time": "2022-01-08T13:43:28.861Z"
   },
   {
    "duration": 7,
    "start_time": "2022-01-08T13:46:19.069Z"
   },
   {
    "duration": 9,
    "start_time": "2022-01-08T13:46:25.668Z"
   },
   {
    "duration": 70,
    "start_time": "2022-01-08T13:46:32.691Z"
   },
   {
    "duration": 62,
    "start_time": "2022-01-08T13:46:50.796Z"
   },
   {
    "duration": 11,
    "start_time": "2022-01-08T13:46:56.452Z"
   },
   {
    "duration": 21,
    "start_time": "2022-01-08T13:47:02.093Z"
   },
   {
    "duration": 8,
    "start_time": "2022-01-08T13:47:04.764Z"
   },
   {
    "duration": 13,
    "start_time": "2022-01-08T13:47:06.900Z"
   },
   {
    "duration": 239,
    "start_time": "2022-01-08T13:47:35.596Z"
   },
   {
    "duration": 21,
    "start_time": "2022-01-08T13:47:38.995Z"
   },
   {
    "duration": 9,
    "start_time": "2022-01-08T13:47:49.460Z"
   },
   {
    "duration": 10,
    "start_time": "2022-01-08T13:47:51.635Z"
   },
   {
    "duration": 11,
    "start_time": "2022-01-08T13:47:57.534Z"
   },
   {
    "duration": 7,
    "start_time": "2022-01-08T13:48:04.956Z"
   },
   {
    "duration": 9,
    "start_time": "2022-01-08T13:48:09.276Z"
   },
   {
    "duration": 9,
    "start_time": "2022-01-08T13:48:13.436Z"
   },
   {
    "duration": 234,
    "start_time": "2022-01-08T13:48:23.925Z"
   },
   {
    "duration": 5,
    "start_time": "2022-01-08T13:48:28.044Z"
   },
   {
    "duration": 10,
    "start_time": "2022-01-08T13:51:50.373Z"
   },
   {
    "duration": 231,
    "start_time": "2022-01-08T13:52:06.253Z"
   },
   {
    "duration": 84,
    "start_time": "2022-01-08T13:52:53.109Z"
   },
   {
    "duration": 7,
    "start_time": "2022-01-08T13:52:57.980Z"
   },
   {
    "duration": 11,
    "start_time": "2022-01-08T13:53:00.060Z"
   },
   {
    "duration": 390,
    "start_time": "2022-01-08T13:54:02.525Z"
   },
   {
    "duration": 637,
    "start_time": "2022-01-08T13:54:11.134Z"
   },
   {
    "duration": 10,
    "start_time": "2022-01-08T13:54:14.964Z"
   },
   {
    "duration": 19,
    "start_time": "2022-01-08T13:54:18.204Z"
   },
   {
    "duration": 6,
    "start_time": "2022-01-08T13:54:20.676Z"
   },
   {
    "duration": 20,
    "start_time": "2022-01-08T13:54:22.571Z"
   },
   {
    "duration": 5,
    "start_time": "2022-01-08T13:54:35.020Z"
   },
   {
    "duration": 9,
    "start_time": "2022-01-08T13:54:43.468Z"
   },
   {
    "duration": 603,
    "start_time": "2022-01-08T13:56:34.072Z"
   },
   {
    "duration": 12,
    "start_time": "2022-01-08T13:56:37.703Z"
   },
   {
    "duration": 20,
    "start_time": "2022-01-08T13:56:40.600Z"
   },
   {
    "duration": 6,
    "start_time": "2022-01-08T13:56:43.247Z"
   },
   {
    "duration": 10,
    "start_time": "2022-01-08T13:56:45.679Z"
   },
   {
    "duration": 6,
    "start_time": "2022-01-08T13:57:03.039Z"
   },
   {
    "duration": 11,
    "start_time": "2022-01-08T13:57:05.447Z"
   },
   {
    "duration": 7,
    "start_time": "2022-01-08T13:57:14.478Z"
   },
   {
    "duration": 6,
    "start_time": "2022-01-08T13:57:18.288Z"
   },
   {
    "duration": 10,
    "start_time": "2022-01-08T13:57:34.274Z"
   },
   {
    "duration": 6,
    "start_time": "2022-01-08T13:57:51.240Z"
   },
   {
    "duration": 5,
    "start_time": "2022-01-08T13:58:07.095Z"
   },
   {
    "duration": 10,
    "start_time": "2022-01-08T13:58:12.679Z"
   },
   {
    "duration": 21,
    "start_time": "2022-01-08T14:16:29.151Z"
   },
   {
    "duration": 384,
    "start_time": "2022-01-08T14:16:45.663Z"
   },
   {
    "duration": 16,
    "start_time": "2022-01-08T14:17:07.040Z"
   },
   {
    "duration": 20,
    "start_time": "2022-01-08T14:30:37.850Z"
   },
   {
    "duration": 7,
    "start_time": "2022-01-08T14:31:33.761Z"
   },
   {
    "duration": 15,
    "start_time": "2022-01-08T14:31:45.579Z"
   },
   {
    "duration": 6,
    "start_time": "2022-01-08T14:32:36.706Z"
   },
   {
    "duration": 14,
    "start_time": "2022-01-08T14:32:38.801Z"
   },
   {
    "duration": 5,
    "start_time": "2022-01-08T14:37:37.898Z"
   },
   {
    "duration": 5,
    "start_time": "2022-01-08T14:37:40.194Z"
   },
   {
    "duration": 12,
    "start_time": "2022-01-08T14:37:42.305Z"
   },
   {
    "duration": 1027,
    "start_time": "2022-01-08T14:41:25.558Z"
   },
   {
    "duration": 256,
    "start_time": "2022-01-08T14:43:54.298Z"
   },
   {
    "duration": 9,
    "start_time": "2022-01-08T14:44:04.843Z"
   },
   {
    "duration": 572,
    "start_time": "2022-01-08T14:44:17.396Z"
   },
   {
    "duration": 12,
    "start_time": "2022-01-08T14:44:20.499Z"
   },
   {
    "duration": 19,
    "start_time": "2022-01-08T14:44:22.580Z"
   },
   {
    "duration": 7,
    "start_time": "2022-01-08T14:44:24.771Z"
   },
   {
    "duration": 5,
    "start_time": "2022-01-08T14:44:47.100Z"
   },
   {
    "duration": 14,
    "start_time": "2022-01-08T14:44:50.347Z"
   },
   {
    "duration": 321,
    "start_time": "2022-01-08T14:45:24.794Z"
   },
   {
    "duration": 4,
    "start_time": "2022-01-08T14:48:18.300Z"
   },
   {
    "duration": 248,
    "start_time": "2022-01-08T14:48:32.052Z"
   },
   {
    "duration": 5,
    "start_time": "2022-01-08T14:48:41.052Z"
   },
   {
    "duration": 265,
    "start_time": "2022-01-08T14:49:39.611Z"
   },
   {
    "duration": 7,
    "start_time": "2022-01-08T14:49:44.892Z"
   },
   {
    "duration": 58,
    "start_time": "2022-01-08T14:49:55.187Z"
   },
   {
    "duration": 10,
    "start_time": "2022-01-08T14:49:57.611Z"
   },
   {
    "duration": 20,
    "start_time": "2022-01-08T14:49:59.644Z"
   },
   {
    "duration": 242,
    "start_time": "2022-01-08T14:50:30.955Z"
   },
   {
    "duration": 5,
    "start_time": "2022-01-08T14:55:45.702Z"
   },
   {
    "duration": 8,
    "start_time": "2022-01-08T15:02:33.083Z"
   },
   {
    "duration": 4,
    "start_time": "2022-01-08T15:03:05.795Z"
   },
   {
    "duration": 13,
    "start_time": "2022-01-08T15:03:17.236Z"
   },
   {
    "duration": 729,
    "start_time": "2022-01-08T15:03:36.843Z"
   },
   {
    "duration": 14,
    "start_time": "2022-01-08T15:03:39.475Z"
   },
   {
    "duration": 20,
    "start_time": "2022-01-08T15:03:41.596Z"
   },
   {
    "duration": 7,
    "start_time": "2022-01-08T15:03:44.186Z"
   },
   {
    "duration": 23,
    "start_time": "2022-01-08T15:03:49.634Z"
   },
   {
    "duration": 5,
    "start_time": "2022-01-08T15:04:28.763Z"
   },
   {
    "duration": 8,
    "start_time": "2022-01-08T15:04:30.939Z"
   },
   {
    "duration": 21,
    "start_time": "2022-01-08T15:04:32.763Z"
   },
   {
    "duration": 6,
    "start_time": "2022-01-08T15:04:36.291Z"
   },
   {
    "duration": 17,
    "start_time": "2022-01-08T15:04:38.491Z"
   },
   {
    "duration": 732,
    "start_time": "2022-01-08T15:11:34.543Z"
   },
   {
    "duration": 11,
    "start_time": "2022-01-08T15:11:37.486Z"
   },
   {
    "duration": 21,
    "start_time": "2022-01-08T15:11:39.582Z"
   },
   {
    "duration": 7,
    "start_time": "2022-01-08T15:11:43.206Z"
   },
   {
    "duration": 6,
    "start_time": "2022-01-08T15:11:53.806Z"
   },
   {
    "duration": 14,
    "start_time": "2022-01-08T15:11:59.046Z"
   },
   {
    "duration": 19,
    "start_time": "2022-01-08T15:19:58.886Z"
   },
   {
    "duration": 5,
    "start_time": "2022-01-08T15:20:31.110Z"
   },
   {
    "duration": 10,
    "start_time": "2022-01-08T15:20:42.830Z"
   },
   {
    "duration": 6,
    "start_time": "2022-01-08T15:20:44.710Z"
   },
   {
    "duration": 6,
    "start_time": "2022-01-08T15:30:05.998Z"
   },
   {
    "duration": 364,
    "start_time": "2022-01-08T15:30:17.149Z"
   },
   {
    "duration": 9,
    "start_time": "2022-01-08T15:33:14.310Z"
   },
   {
    "duration": 67,
    "start_time": "2022-01-08T15:33:20.669Z"
   },
   {
    "duration": 10,
    "start_time": "2022-01-08T15:33:23.102Z"
   },
   {
    "duration": 24,
    "start_time": "2022-01-08T15:33:25.429Z"
   },
   {
    "duration": 5828,
    "start_time": "2022-01-08T15:33:34.565Z"
   },
   {
    "duration": 5,
    "start_time": "2022-01-08T15:33:47.383Z"
   },
   {
    "duration": 9,
    "start_time": "2022-01-08T15:33:53.261Z"
   },
   {
    "duration": 18,
    "start_time": "2022-01-08T15:34:47.317Z"
   },
   {
    "duration": 21,
    "start_time": "2022-01-08T15:35:54.773Z"
   },
   {
    "duration": 5,
    "start_time": "2022-01-08T15:44:45.453Z"
   },
   {
    "duration": 2,
    "start_time": "2022-01-08T15:44:54.806Z"
   },
   {
    "duration": 241,
    "start_time": "2022-01-08T15:45:00.886Z"
   },
   {
    "duration": 272,
    "start_time": "2022-01-08T15:45:21.046Z"
   },
   {
    "duration": 230,
    "start_time": "2022-01-08T15:45:25.957Z"
   },
   {
    "duration": 278,
    "start_time": "2022-01-08T15:45:28.430Z"
   },
   {
    "duration": 233,
    "start_time": "2022-01-08T15:45:32.526Z"
   },
   {
    "duration": 704,
    "start_time": "2022-01-08T15:45:42.563Z"
   },
   {
    "duration": 11,
    "start_time": "2022-01-08T15:45:46.962Z"
   },
   {
    "duration": 10,
    "start_time": "2022-01-08T15:45:49.922Z"
   },
   {
    "duration": 27,
    "start_time": "2022-01-08T15:45:52.362Z"
   },
   {
    "duration": 6,
    "start_time": "2022-01-08T15:45:54.890Z"
   },
   {
    "duration": 5,
    "start_time": "2022-01-08T15:45:56.714Z"
   },
   {
    "duration": 8,
    "start_time": "2022-01-08T15:46:24.514Z"
   },
   {
    "duration": 10,
    "start_time": "2022-01-08T15:47:00.378Z"
   },
   {
    "duration": 17,
    "start_time": "2022-01-08T15:47:23.307Z"
   },
   {
    "duration": 7,
    "start_time": "2022-01-08T15:47:28.154Z"
   },
   {
    "duration": 10,
    "start_time": "2022-01-08T15:47:46.427Z"
   },
   {
    "duration": 8,
    "start_time": "2022-01-08T15:47:48.290Z"
   },
   {
    "duration": 8,
    "start_time": "2022-01-08T15:48:40.570Z"
   },
   {
    "duration": 315,
    "start_time": "2022-01-08T15:48:57.163Z"
   },
   {
    "duration": 7,
    "start_time": "2022-01-08T15:49:40.547Z"
   },
   {
    "duration": 10,
    "start_time": "2022-01-08T15:52:10.307Z"
   },
   {
    "duration": 228,
    "start_time": "2022-01-08T15:52:24.843Z"
   },
   {
    "duration": 7,
    "start_time": "2022-01-08T15:52:36.243Z"
   },
   {
    "duration": 235,
    "start_time": "2022-01-08T15:52:47.963Z"
   },
   {
    "duration": 7,
    "start_time": "2022-01-08T15:53:01.515Z"
   },
   {
    "duration": 743,
    "start_time": "2022-01-08T15:53:12.218Z"
   },
   {
    "duration": 13,
    "start_time": "2022-01-08T15:53:14.880Z"
   },
   {
    "duration": 14,
    "start_time": "2022-01-08T15:53:17.145Z"
   },
   {
    "duration": 21,
    "start_time": "2022-01-08T15:53:19.985Z"
   },
   {
    "duration": 11,
    "start_time": "2022-01-08T15:53:22.377Z"
   },
   {
    "duration": 21,
    "start_time": "2022-01-08T15:53:24.865Z"
   },
   {
    "duration": 11,
    "start_time": "2022-01-08T15:53:33.808Z"
   },
   {
    "duration": 8,
    "start_time": "2022-01-08T15:54:08.961Z"
   },
   {
    "duration": 11,
    "start_time": "2022-01-08T15:54:10.705Z"
   },
   {
    "duration": 633,
    "start_time": "2022-01-08T15:54:21.876Z"
   },
   {
    "duration": 16,
    "start_time": "2022-01-08T15:54:24.420Z"
   },
   {
    "duration": 10,
    "start_time": "2022-01-08T15:54:26.874Z"
   },
   {
    "duration": 21,
    "start_time": "2022-01-08T15:54:28.571Z"
   },
   {
    "duration": 9,
    "start_time": "2022-01-08T15:54:31.955Z"
   },
   {
    "duration": 12,
    "start_time": "2022-01-08T15:54:33.731Z"
   },
   {
    "duration": 7,
    "start_time": "2022-01-08T15:55:10.738Z"
   },
   {
    "duration": 9,
    "start_time": "2022-01-08T15:55:33.412Z"
   },
   {
    "duration": 5,
    "start_time": "2022-01-08T15:55:39.082Z"
   },
   {
    "duration": 8,
    "start_time": "2022-01-08T15:55:43.915Z"
   },
   {
    "duration": 8,
    "start_time": "2022-01-08T15:55:49.459Z"
   },
   {
    "duration": 7,
    "start_time": "2022-01-08T15:56:01.835Z"
   },
   {
    "duration": 13,
    "start_time": "2022-01-08T15:56:29.595Z"
   },
   {
    "duration": 12,
    "start_time": "2022-01-08T15:57:07.003Z"
   },
   {
    "duration": 11,
    "start_time": "2022-01-08T15:57:35.868Z"
   },
   {
    "duration": 14,
    "start_time": "2022-01-08T15:57:49.243Z"
   },
   {
    "duration": 319,
    "start_time": "2022-01-08T16:02:57.396Z"
   },
   {
    "duration": 6,
    "start_time": "2022-01-08T16:03:02.979Z"
   },
   {
    "duration": 7,
    "start_time": "2022-01-08T16:03:04.715Z"
   },
   {
    "duration": 11,
    "start_time": "2022-01-08T16:03:11.226Z"
   },
   {
    "duration": 691,
    "start_time": "2022-01-08T16:03:30.626Z"
   },
   {
    "duration": 14,
    "start_time": "2022-01-08T16:03:32.953Z"
   },
   {
    "duration": 9,
    "start_time": "2022-01-08T16:03:37.107Z"
   },
   {
    "duration": 21,
    "start_time": "2022-01-08T16:03:38.843Z"
   },
   {
    "duration": 6,
    "start_time": "2022-01-08T16:03:41.083Z"
   },
   {
    "duration": 6,
    "start_time": "2022-01-08T16:03:42.498Z"
   },
   {
    "duration": 11,
    "start_time": "2022-01-08T16:03:44.078Z"
   },
   {
    "duration": 7,
    "start_time": "2022-01-08T16:04:21.618Z"
   },
   {
    "duration": 10,
    "start_time": "2022-01-08T16:04:27.827Z"
   },
   {
    "duration": 11,
    "start_time": "2022-01-08T16:04:29.666Z"
   },
   {
    "duration": 20,
    "start_time": "2022-01-08T16:04:42.643Z"
   },
   {
    "duration": 3750,
    "start_time": "2022-01-08T16:05:33.450Z"
   },
   {
    "duration": 5,
    "start_time": "2022-01-08T16:05:44.426Z"
   },
   {
    "duration": 9,
    "start_time": "2022-01-08T16:05:46.794Z"
   },
   {
    "duration": 24,
    "start_time": "2022-01-08T16:05:53.963Z"
   },
   {
    "duration": 100,
    "start_time": "2022-01-08T19:28:38.669Z"
   },
   {
    "duration": 3,
    "start_time": "2022-01-08T19:29:09.854Z"
   },
   {
    "duration": 230,
    "start_time": "2022-01-08T19:30:35.189Z"
   },
   {
    "duration": 233,
    "start_time": "2022-01-08T19:30:40.292Z"
   },
   {
    "duration": 229,
    "start_time": "2022-01-08T19:30:48.292Z"
   },
   {
    "duration": 240,
    "start_time": "2022-01-08T19:32:40.077Z"
   },
   {
    "duration": 4,
    "start_time": "2022-01-08T19:33:37.773Z"
   },
   {
    "duration": 10,
    "start_time": "2022-01-08T19:34:08.519Z"
   },
   {
    "duration": 26,
    "start_time": "2022-01-08T19:34:48.825Z"
   },
   {
    "duration": 769,
    "start_time": "2022-01-08T19:35:14.332Z"
   },
   {
    "duration": 12,
    "start_time": "2022-01-08T19:35:17.052Z"
   },
   {
    "duration": 11,
    "start_time": "2022-01-08T19:35:20.236Z"
   },
   {
    "duration": 22,
    "start_time": "2022-01-08T19:35:22.412Z"
   },
   {
    "duration": 7,
    "start_time": "2022-01-08T19:35:24.723Z"
   },
   {
    "duration": 4,
    "start_time": "2022-01-08T19:35:28.332Z"
   },
   {
    "duration": 7,
    "start_time": "2022-01-08T19:35:30.084Z"
   },
   {
    "duration": 26,
    "start_time": "2022-01-08T19:35:32.668Z"
   },
   {
    "duration": 406,
    "start_time": "2022-01-08T19:36:51.996Z"
   },
   {
    "duration": 20,
    "start_time": "2022-01-08T19:36:55.845Z"
   },
   {
    "duration": 1055,
    "start_time": "2022-01-08T19:37:20.445Z"
   },
   {
    "duration": 1642,
    "start_time": "2022-01-08T19:37:31.789Z"
   },
   {
    "duration": 23,
    "start_time": "2022-01-08T19:38:03.211Z"
   },
   {
    "duration": 3856,
    "start_time": "2022-01-08T19:38:32.828Z"
   },
   {
    "duration": 29828,
    "start_time": "2022-01-08T19:38:06.858Z"
   },
   {
    "duration": 6,
    "start_time": "2022-01-08T19:39:16.468Z"
   },
   {
    "duration": 11,
    "start_time": "2022-01-08T19:39:33.948Z"
   },
   {
    "duration": 641,
    "start_time": "2022-01-08T19:39:43.057Z"
   },
   {
    "duration": 11,
    "start_time": "2022-01-08T19:39:45.245Z"
   },
   {
    "duration": 9,
    "start_time": "2022-01-08T19:39:48.113Z"
   },
   {
    "duration": 21,
    "start_time": "2022-01-08T19:39:50.344Z"
   },
   {
    "duration": 7,
    "start_time": "2022-01-08T19:39:53.409Z"
   },
   {
    "duration": 279,
    "start_time": "2022-01-08T19:40:16.576Z"
   },
   {
    "duration": 4,
    "start_time": "2022-01-08T19:40:26.265Z"
   },
   {
    "duration": 3969,
    "start_time": "2022-01-08T19:40:28.009Z"
   },
   {
    "duration": 40,
    "start_time": "2022-01-08T19:40:40.593Z"
   },
   {
    "duration": 21,
    "start_time": "2022-01-08T19:40:42.857Z"
   },
   {
    "duration": 4,
    "start_time": "2022-01-08T19:48:14.072Z"
   },
   {
    "duration": 10,
    "start_time": "2022-01-08T19:48:39.137Z"
   },
   {
    "duration": 5,
    "start_time": "2022-01-08T19:51:53.752Z"
   },
   {
    "duration": 17,
    "start_time": "2022-01-08T19:51:56.776Z"
   },
   {
    "duration": 15,
    "start_time": "2022-01-08T19:53:59.401Z"
   },
   {
    "duration": 13,
    "start_time": "2022-01-08T19:54:03.575Z"
   },
   {
    "duration": 10,
    "start_time": "2022-01-08T19:54:30.873Z"
   },
   {
    "duration": 10,
    "start_time": "2022-01-08T19:55:06.008Z"
   },
   {
    "duration": 15,
    "start_time": "2022-01-08T19:55:20.175Z"
   },
   {
    "duration": 5,
    "start_time": "2022-01-08T20:04:17.008Z"
   },
   {
    "duration": 18,
    "start_time": "2022-01-08T20:06:21.744Z"
   },
   {
    "duration": 5,
    "start_time": "2022-01-08T20:09:18.977Z"
   },
   {
    "duration": 7,
    "start_time": "2022-01-08T20:09:48.208Z"
   },
   {
    "duration": 7,
    "start_time": "2022-01-08T20:10:36.761Z"
   },
   {
    "duration": 8,
    "start_time": "2022-01-08T20:11:04.936Z"
   },
   {
    "duration": 7770,
    "start_time": "2022-01-08T20:11:17.296Z"
   },
   {
    "duration": 8,
    "start_time": "2022-01-08T20:11:29.673Z"
   },
   {
    "duration": 15,
    "start_time": "2022-01-08T20:12:08.760Z"
   },
   {
    "duration": 10,
    "start_time": "2022-01-08T20:12:44.577Z"
   },
   {
    "duration": 5,
    "start_time": "2022-01-08T20:16:31.233Z"
   },
   {
    "duration": 10,
    "start_time": "2022-01-08T20:17:19.304Z"
   },
   {
    "duration": 8,
    "start_time": "2022-01-08T20:17:32.584Z"
   },
   {
    "duration": 640,
    "start_time": "2022-01-08T20:17:47.624Z"
   },
   {
    "duration": 13,
    "start_time": "2022-01-08T20:17:51.856Z"
   },
   {
    "duration": 10,
    "start_time": "2022-01-08T20:17:58.711Z"
   },
   {
    "duration": 24,
    "start_time": "2022-01-08T20:18:00.576Z"
   },
   {
    "duration": 7,
    "start_time": "2022-01-08T20:18:02.839Z"
   },
   {
    "duration": 4,
    "start_time": "2022-01-08T20:18:04.975Z"
   },
   {
    "duration": 39,
    "start_time": "2022-01-08T20:18:07.408Z"
   },
   {
    "duration": 20,
    "start_time": "2022-01-08T20:18:09.223Z"
   },
   {
    "duration": 3,
    "start_time": "2022-01-08T20:18:15.888Z"
   },
   {
    "duration": 10,
    "start_time": "2022-01-08T20:18:17.616Z"
   },
   {
    "duration": 5,
    "start_time": "2022-01-08T20:18:20.464Z"
   },
   {
    "duration": 10,
    "start_time": "2022-01-08T20:18:37.096Z"
   },
   {
    "duration": 11,
    "start_time": "2022-01-08T20:18:38.872Z"
   },
   {
    "duration": 10,
    "start_time": "2022-01-08T20:18:54.631Z"
   },
   {
    "duration": 21,
    "start_time": "2022-01-08T20:19:11.872Z"
   },
   {
    "duration": 5,
    "start_time": "2022-01-08T20:19:52.952Z"
   },
   {
    "duration": 516,
    "start_time": "2022-01-08T20:21:38.487Z"
   },
   {
    "duration": 376,
    "start_time": "2022-01-08T20:21:44.783Z"
   },
   {
    "duration": 22,
    "start_time": "2022-01-08T20:22:15.809Z"
   },
   {
    "duration": 22,
    "start_time": "2022-01-08T20:22:24.505Z"
   },
   {
    "duration": 7,
    "start_time": "2022-01-08T20:23:25.296Z"
   },
   {
    "duration": 6,
    "start_time": "2022-01-08T20:23:45.711Z"
   },
   {
    "duration": 406,
    "start_time": "2022-01-08T20:24:52.759Z"
   },
   {
    "duration": 7,
    "start_time": "2022-01-08T20:25:30.903Z"
   },
   {
    "duration": 4,
    "start_time": "2022-01-08T20:25:36.390Z"
   },
   {
    "duration": 4,
    "start_time": "2022-01-08T20:25:51.519Z"
   },
   {
    "duration": 4,
    "start_time": "2022-01-08T20:25:55.783Z"
   },
   {
    "duration": 9,
    "start_time": "2022-01-08T20:26:07.383Z"
   },
   {
    "duration": 6,
    "start_time": "2022-01-08T20:26:09.855Z"
   },
   {
    "duration": 7,
    "start_time": "2022-01-08T20:26:31.839Z"
   },
   {
    "duration": 7,
    "start_time": "2022-01-08T20:26:33.631Z"
   },
   {
    "duration": 673,
    "start_time": "2022-01-08T20:26:44.923Z"
   },
   {
    "duration": 12,
    "start_time": "2022-01-08T20:26:47.596Z"
   },
   {
    "duration": 11,
    "start_time": "2022-01-08T20:26:49.443Z"
   },
   {
    "duration": 21,
    "start_time": "2022-01-08T20:26:51.099Z"
   },
   {
    "duration": 11,
    "start_time": "2022-01-08T20:26:53.474Z"
   },
   {
    "duration": 4,
    "start_time": "2022-01-08T20:26:56.524Z"
   },
   {
    "duration": 39,
    "start_time": "2022-01-08T20:26:58.443Z"
   },
   {
    "duration": 28,
    "start_time": "2022-01-08T20:27:00.331Z"
   },
   {
    "duration": 4,
    "start_time": "2022-01-08T20:27:02.619Z"
   },
   {
    "duration": 11,
    "start_time": "2022-01-08T20:27:09.974Z"
   },
   {
    "duration": 5,
    "start_time": "2022-01-08T20:27:13.132Z"
   },
   {
    "duration": 11,
    "start_time": "2022-01-08T20:27:14.779Z"
   },
   {
    "duration": 11,
    "start_time": "2022-01-08T20:27:21.675Z"
   },
   {
    "duration": 5,
    "start_time": "2022-01-08T20:27:23.939Z"
   },
   {
    "duration": 3,
    "start_time": "2022-01-08T20:27:25.819Z"
   },
   {
    "duration": 5,
    "start_time": "2022-01-08T20:27:27.243Z"
   },
   {
    "duration": 313,
    "start_time": "2022-01-08T20:28:39.955Z"
   },
   {
    "duration": 258,
    "start_time": "2022-01-08T20:28:54.083Z"
   },
   {
    "duration": 15,
    "start_time": "2022-01-08T20:29:12.651Z"
   },
   {
    "duration": 720,
    "start_time": "2022-01-08T20:29:47.157Z"
   },
   {
    "duration": 14,
    "start_time": "2022-01-08T20:29:49.900Z"
   },
   {
    "duration": 13,
    "start_time": "2022-01-08T20:29:52.100Z"
   },
   {
    "duration": 23,
    "start_time": "2022-01-08T20:29:53.732Z"
   },
   {
    "duration": 9,
    "start_time": "2022-01-08T20:29:56.123Z"
   },
   {
    "duration": 4,
    "start_time": "2022-01-08T20:29:59.245Z"
   },
   {
    "duration": 42,
    "start_time": "2022-01-08T20:30:00.892Z"
   },
   {
    "duration": 25,
    "start_time": "2022-01-08T20:30:03.412Z"
   },
   {
    "duration": 4,
    "start_time": "2022-01-08T20:30:05.733Z"
   },
   {
    "duration": 12,
    "start_time": "2022-01-08T20:30:07.460Z"
   },
   {
    "duration": 5,
    "start_time": "2022-01-08T20:30:09.980Z"
   },
   {
    "duration": 12,
    "start_time": "2022-01-08T20:30:11.885Z"
   },
   {
    "duration": 14,
    "start_time": "2022-01-08T20:30:15.203Z"
   },
   {
    "duration": 4,
    "start_time": "2022-01-08T20:30:18.500Z"
   },
   {
    "duration": 4,
    "start_time": "2022-01-08T20:30:20.339Z"
   },
   {
    "duration": 305,
    "start_time": "2022-01-08T20:32:25.548Z"
   },
   {
    "duration": 41,
    "start_time": "2022-01-08T20:32:43.877Z"
   },
   {
    "duration": 4,
    "start_time": "2022-01-08T20:32:52.268Z"
   },
   {
    "duration": 609,
    "start_time": "2022-01-08T20:33:10.476Z"
   },
   {
    "duration": 10,
    "start_time": "2022-01-08T20:33:11.088Z"
   },
   {
    "duration": 10,
    "start_time": "2022-01-08T20:33:13.355Z"
   },
   {
    "duration": 647,
    "start_time": "2022-01-08T20:33:21.019Z"
   },
   {
    "duration": 11,
    "start_time": "2022-01-08T20:33:23.580Z"
   },
   {
    "duration": 10,
    "start_time": "2022-01-08T20:33:25.995Z"
   },
   {
    "duration": 21,
    "start_time": "2022-01-08T20:33:28.012Z"
   },
   {
    "duration": 7,
    "start_time": "2022-01-08T20:33:30.387Z"
   },
   {
    "duration": 4,
    "start_time": "2022-01-08T20:33:33.548Z"
   },
   {
    "duration": 41,
    "start_time": "2022-01-08T20:33:35.562Z"
   },
   {
    "duration": 20,
    "start_time": "2022-01-08T20:33:37.451Z"
   },
   {
    "duration": 4,
    "start_time": "2022-01-08T20:33:39.788Z"
   },
   {
    "duration": 10,
    "start_time": "2022-01-08T20:33:41.443Z"
   },
   {
    "duration": 5,
    "start_time": "2022-01-08T20:33:46.067Z"
   },
   {
    "duration": 11,
    "start_time": "2022-01-08T20:33:47.731Z"
   },
   {
    "duration": 13,
    "start_time": "2022-01-08T20:33:50.010Z"
   },
   {
    "duration": 4,
    "start_time": "2022-01-08T20:33:52.827Z"
   },
   {
    "duration": 4,
    "start_time": "2022-01-08T20:33:54.755Z"
   },
   {
    "duration": 35,
    "start_time": "2022-01-08T20:33:56.651Z"
   },
   {
    "duration": 5,
    "start_time": "2022-01-08T20:33:58.379Z"
   },
   {
    "duration": 5,
    "start_time": "2022-01-08T20:36:56.396Z"
   },
   {
    "duration": 5,
    "start_time": "2022-01-08T20:37:11.570Z"
   },
   {
    "duration": 5,
    "start_time": "2022-01-08T20:37:24.275Z"
   },
   {
    "duration": 6,
    "start_time": "2022-01-08T20:37:35.979Z"
   },
   {
    "duration": 309,
    "start_time": "2022-01-08T20:38:02.875Z"
   },
   {
    "duration": 5,
    "start_time": "2022-01-08T20:38:09.699Z"
   },
   {
    "duration": 5,
    "start_time": "2022-01-08T20:38:20.907Z"
   },
   {
    "duration": 234,
    "start_time": "2022-01-08T20:38:30.715Z"
   },
   {
    "duration": 5,
    "start_time": "2022-01-08T20:38:56.444Z"
   },
   {
    "duration": 4,
    "start_time": "2022-01-08T20:38:59.251Z"
   },
   {
    "duration": 242,
    "start_time": "2022-01-08T20:39:01.412Z"
   },
   {
    "duration": 4,
    "start_time": "2022-01-08T20:39:08.291Z"
   },
   {
    "duration": 945,
    "start_time": "2022-01-08T20:42:33.235Z"
   },
   {
    "duration": 682,
    "start_time": "2022-01-08T20:43:03.218Z"
   },
   {
    "duration": 11,
    "start_time": "2022-01-08T20:43:35.465Z"
   },
   {
    "duration": 10,
    "start_time": "2022-01-08T20:43:38.497Z"
   },
   {
    "duration": 22,
    "start_time": "2022-01-08T20:43:40.074Z"
   },
   {
    "duration": 9,
    "start_time": "2022-01-08T20:43:42.105Z"
   },
   {
    "duration": 4,
    "start_time": "2022-01-08T20:43:45.418Z"
   },
   {
    "duration": 1105,
    "start_time": "2022-01-08T20:43:51.290Z"
   },
   {
    "duration": 2461,
    "start_time": "2022-01-08T20:43:59.481Z"
   },
   {
    "duration": 46,
    "start_time": "2022-01-08T20:44:28.802Z"
   },
   {
    "duration": 21,
    "start_time": "2022-01-08T20:44:31.202Z"
   },
   {
    "duration": 3,
    "start_time": "2022-01-08T20:44:34.098Z"
   },
   {
    "duration": 11,
    "start_time": "2022-01-08T20:44:35.658Z"
   },
   {
    "duration": 4,
    "start_time": "2022-01-08T20:44:38.746Z"
   },
   {
    "duration": 16,
    "start_time": "2022-01-08T20:44:40.417Z"
   },
   {
    "duration": 12,
    "start_time": "2022-01-08T20:44:42.361Z"
   },
   {
    "duration": 4,
    "start_time": "2022-01-08T20:44:44.537Z"
   },
   {
    "duration": 9,
    "start_time": "2022-01-08T20:52:02.289Z"
   },
   {
    "duration": 8,
    "start_time": "2022-01-08T20:52:08.466Z"
   },
   {
    "duration": 625,
    "start_time": "2022-01-08T20:52:21.873Z"
   },
   {
    "duration": 12,
    "start_time": "2022-01-08T20:52:24.425Z"
   },
   {
    "duration": 20,
    "start_time": "2022-01-08T20:52:27.074Z"
   },
   {
    "duration": 7,
    "start_time": "2022-01-08T20:52:30.818Z"
   },
   {
    "duration": 4,
    "start_time": "2022-01-08T20:52:35.050Z"
   },
   {
    "duration": 44,
    "start_time": "2022-01-08T20:52:36.777Z"
   },
   {
    "duration": 5,
    "start_time": "2022-01-08T20:52:38.984Z"
   },
   {
    "duration": 12,
    "start_time": "2022-01-08T20:52:40.720Z"
   },
   {
    "duration": 7,
    "start_time": "2022-01-08T20:53:59.962Z"
   },
   {
    "duration": 12,
    "start_time": "2022-01-08T20:54:01.562Z"
   },
   {
    "duration": 13,
    "start_time": "2022-01-08T20:54:03.481Z"
   },
   {
    "duration": 5,
    "start_time": "2022-01-08T20:54:07.001Z"
   },
   {
    "duration": 4,
    "start_time": "2022-01-08T20:54:12.129Z"
   },
   {
    "duration": 5,
    "start_time": "2022-01-08T20:56:08.537Z"
   },
   {
    "duration": 5,
    "start_time": "2022-01-08T20:56:34.497Z"
   },
   {
    "duration": 5,
    "start_time": "2022-01-08T20:56:48.697Z"
   },
   {
    "duration": 11,
    "start_time": "2022-01-08T20:57:55.651Z"
   },
   {
    "duration": 7,
    "start_time": "2022-01-08T20:58:09.217Z"
   },
   {
    "duration": 5,
    "start_time": "2022-01-08T20:58:41.401Z"
   },
   {
    "duration": 5,
    "start_time": "2022-01-08T20:59:01.794Z"
   },
   {
    "duration": 5,
    "start_time": "2022-01-08T20:59:27.257Z"
   },
   {
    "duration": 5,
    "start_time": "2022-01-08T21:00:03.690Z"
   },
   {
    "duration": 7,
    "start_time": "2022-01-08T21:00:32.049Z"
   },
   {
    "duration": 7,
    "start_time": "2022-01-08T21:01:36.249Z"
   },
   {
    "duration": 7,
    "start_time": "2022-01-08T21:02:52.922Z"
   },
   {
    "duration": 4,
    "start_time": "2022-01-08T21:03:35.458Z"
   },
   {
    "duration": 7,
    "start_time": "2022-01-08T21:04:04.305Z"
   },
   {
    "duration": 591,
    "start_time": "2022-01-08T21:04:18.282Z"
   },
   {
    "duration": 11,
    "start_time": "2022-01-08T21:04:20.482Z"
   },
   {
    "duration": 10,
    "start_time": "2022-01-08T21:04:22.730Z"
   },
   {
    "duration": 20,
    "start_time": "2022-01-08T21:04:24.994Z"
   },
   {
    "duration": 7,
    "start_time": "2022-01-08T21:04:27.386Z"
   },
   {
    "duration": 4,
    "start_time": "2022-01-08T21:04:30.611Z"
   },
   {
    "duration": 42,
    "start_time": "2022-01-08T21:04:32.890Z"
   },
   {
    "duration": 23,
    "start_time": "2022-01-08T21:04:35.665Z"
   },
   {
    "duration": 4,
    "start_time": "2022-01-08T21:04:38.970Z"
   },
   {
    "duration": 10,
    "start_time": "2022-01-08T21:04:40.755Z"
   },
   {
    "duration": 5,
    "start_time": "2022-01-08T21:04:43.106Z"
   },
   {
    "duration": 11,
    "start_time": "2022-01-08T21:04:44.546Z"
   },
   {
    "duration": 11,
    "start_time": "2022-01-08T21:04:47.145Z"
   },
   {
    "duration": 5,
    "start_time": "2022-01-08T21:04:49.034Z"
   },
   {
    "duration": 6,
    "start_time": "2022-01-08T21:04:50.594Z"
   },
   {
    "duration": 4,
    "start_time": "2022-01-08T21:04:53.978Z"
   },
   {
    "duration": 5,
    "start_time": "2022-01-08T21:04:55.665Z"
   },
   {
    "duration": 11,
    "start_time": "2022-01-08T21:04:57.298Z"
   },
   {
    "duration": 7,
    "start_time": "2022-01-08T21:04:58.938Z"
   },
   {
    "duration": 4,
    "start_time": "2022-01-08T21:05:04.547Z"
   },
   {
    "duration": 5,
    "start_time": "2022-01-08T21:05:09.763Z"
   },
   {
    "duration": 5,
    "start_time": "2022-01-08T21:05:12.010Z"
   },
   {
    "duration": 5,
    "start_time": "2022-01-08T21:05:13.715Z"
   },
   {
    "duration": 8,
    "start_time": "2022-01-08T21:05:15.426Z"
   },
   {
    "duration": 4,
    "start_time": "2022-01-08T21:05:17.475Z"
   },
   {
    "duration": 6,
    "start_time": "2022-01-08T21:05:19.658Z"
   },
   {
    "duration": 8,
    "start_time": "2022-01-08T21:21:50.235Z"
   },
   {
    "duration": 8,
    "start_time": "2022-01-08T21:23:51.227Z"
   },
   {
    "duration": 78,
    "start_time": "2022-01-08T21:24:16.940Z"
   },
   {
    "duration": 3,
    "start_time": "2022-01-08T21:24:22.772Z"
   },
   {
    "duration": 40,
    "start_time": "2022-01-08T21:24:24.900Z"
   },
   {
    "duration": 8,
    "start_time": "2022-01-08T21:24:26.964Z"
   },
   {
    "duration": 645,
    "start_time": "2022-01-08T21:24:58.008Z"
   },
   {
    "duration": 12,
    "start_time": "2022-01-08T21:25:00.628Z"
   },
   {
    "duration": 9,
    "start_time": "2022-01-08T21:25:02.742Z"
   },
   {
    "duration": 21,
    "start_time": "2022-01-08T21:25:04.351Z"
   },
   {
    "duration": 7,
    "start_time": "2022-01-08T21:25:06.392Z"
   },
   {
    "duration": 4,
    "start_time": "2022-01-08T21:25:10.375Z"
   },
   {
    "duration": 39,
    "start_time": "2022-01-08T21:25:12.335Z"
   },
   {
    "duration": 19,
    "start_time": "2022-01-08T21:25:14.619Z"
   },
   {
    "duration": 9,
    "start_time": "2022-01-08T21:25:32.464Z"
   },
   {
    "duration": 12,
    "start_time": "2022-01-08T21:25:59.863Z"
   },
   {
    "duration": 3,
    "start_time": "2022-01-08T21:26:27.160Z"
   },
   {
    "duration": 288,
    "start_time": "2022-01-08T21:26:46.159Z"
   },
   {
    "duration": 20,
    "start_time": "2022-01-08T21:26:51.407Z"
   },
   {
    "duration": 611,
    "start_time": "2022-01-08T21:26:59.261Z"
   },
   {
    "duration": 12,
    "start_time": "2022-01-08T21:27:01.666Z"
   },
   {
    "duration": 10,
    "start_time": "2022-01-08T21:27:04.012Z"
   },
   {
    "duration": 21,
    "start_time": "2022-01-08T21:27:06.052Z"
   },
   {
    "duration": 7,
    "start_time": "2022-01-08T21:27:09.744Z"
   },
   {
    "duration": 6,
    "start_time": "2022-01-08T21:27:16.252Z"
   },
   {
    "duration": 4,
    "start_time": "2022-01-08T21:27:18.739Z"
   },
   {
    "duration": 39,
    "start_time": "2022-01-08T21:27:21.140Z"
   },
   {
    "duration": 21,
    "start_time": "2022-01-08T21:27:23.324Z"
   },
   {
    "duration": 4,
    "start_time": "2022-01-08T21:27:27.355Z"
   },
   {
    "duration": 10,
    "start_time": "2022-01-08T21:27:29.099Z"
   },
   {
    "duration": 5,
    "start_time": "2022-01-08T21:27:32.211Z"
   },
   {
    "duration": 13,
    "start_time": "2022-01-08T21:27:33.868Z"
   },
   {
    "duration": 11,
    "start_time": "2022-01-08T21:27:35.739Z"
   },
   {
    "duration": 4,
    "start_time": "2022-01-08T21:27:38.035Z"
   },
   {
    "duration": 5,
    "start_time": "2022-01-08T21:27:39.499Z"
   },
   {
    "duration": 4,
    "start_time": "2022-01-08T21:27:41.498Z"
   },
   {
    "duration": 4,
    "start_time": "2022-01-08T21:27:43.164Z"
   },
   {
    "duration": 11,
    "start_time": "2022-01-08T21:27:45.420Z"
   },
   {
    "duration": 6,
    "start_time": "2022-01-08T21:27:47.323Z"
   },
   {
    "duration": 5,
    "start_time": "2022-01-08T21:27:49.051Z"
   },
   {
    "duration": 5,
    "start_time": "2022-01-08T21:27:51.003Z"
   },
   {
    "duration": 5,
    "start_time": "2022-01-08T21:27:52.979Z"
   },
   {
    "duration": 5,
    "start_time": "2022-01-08T21:27:54.923Z"
   },
   {
    "duration": 4,
    "start_time": "2022-01-08T21:27:57.565Z"
   },
   {
    "duration": 7,
    "start_time": "2022-01-08T21:27:59.659Z"
   },
   {
    "duration": 4,
    "start_time": "2022-01-08T21:28:01.892Z"
   },
   {
    "duration": 6,
    "start_time": "2022-01-08T21:28:04.548Z"
   },
   {
    "duration": 4,
    "start_time": "2022-01-08T21:39:11.817Z"
   },
   {
    "duration": 8,
    "start_time": "2022-01-08T21:39:39.405Z"
   },
   {
    "duration": 1775,
    "start_time": "2022-01-08T21:44:55.563Z"
   },
   {
    "duration": 76,
    "start_time": "2022-01-08T21:45:16.499Z"
   },
   {
    "duration": 1195,
    "start_time": "2022-01-08T21:45:18.595Z"
   },
   {
    "duration": 3,
    "start_time": "2022-01-08T21:45:29.770Z"
   },
   {
    "duration": 2622,
    "start_time": "2022-01-08T21:45:31.619Z"
   },
   {
    "duration": 19,
    "start_time": "2022-01-08T21:45:38.235Z"
   },
   {
    "duration": 12,
    "start_time": "2022-01-08T21:50:03.211Z"
   },
   {
    "duration": 6,
    "start_time": "2022-01-08T21:50:30.938Z"
   },
   {
    "duration": 7,
    "start_time": "2022-01-08T21:50:44.946Z"
   },
   {
    "duration": 5,
    "start_time": "2022-01-08T21:50:46.482Z"
   },
   {
    "duration": 627,
    "start_time": "2022-01-08T21:50:56.959Z"
   },
   {
    "duration": 13,
    "start_time": "2022-01-08T21:50:59.296Z"
   },
   {
    "duration": 10,
    "start_time": "2022-01-08T21:51:20.269Z"
   },
   {
    "duration": 22,
    "start_time": "2022-01-08T21:51:21.895Z"
   },
   {
    "duration": 7,
    "start_time": "2022-01-08T21:51:24.126Z"
   },
   {
    "duration": 4,
    "start_time": "2022-01-08T21:51:26.791Z"
   },
   {
    "duration": 41,
    "start_time": "2022-01-08T21:51:28.445Z"
   },
   {
    "duration": 21,
    "start_time": "2022-01-08T21:51:30.949Z"
   },
   {
    "duration": 3,
    "start_time": "2022-01-08T21:51:33.118Z"
   },
   {
    "duration": 11,
    "start_time": "2022-01-08T21:51:34.822Z"
   },
   {
    "duration": 5,
    "start_time": "2022-01-08T21:51:37.702Z"
   },
   {
    "duration": 11,
    "start_time": "2022-01-08T21:51:39.278Z"
   },
   {
    "duration": 11,
    "start_time": "2022-01-08T21:51:40.957Z"
   },
   {
    "duration": 5,
    "start_time": "2022-01-08T21:51:43.557Z"
   },
   {
    "duration": 6,
    "start_time": "2022-01-08T21:51:45.709Z"
   },
   {
    "duration": 4,
    "start_time": "2022-01-08T21:51:47.702Z"
   },
   {
    "duration": 5,
    "start_time": "2022-01-08T21:51:49.470Z"
   },
   {
    "duration": 11,
    "start_time": "2022-01-08T21:51:51.438Z"
   },
   {
    "duration": 7,
    "start_time": "2022-01-08T21:51:54.117Z"
   },
   {
    "duration": 5,
    "start_time": "2022-01-08T21:51:55.709Z"
   },
   {
    "duration": 5,
    "start_time": "2022-01-08T21:51:57.174Z"
   },
   {
    "duration": 5,
    "start_time": "2022-01-08T21:51:59.222Z"
   },
   {
    "duration": 6,
    "start_time": "2022-01-08T21:52:00.645Z"
   },
   {
    "duration": 7,
    "start_time": "2022-01-08T21:52:02.286Z"
   },
   {
    "duration": 4,
    "start_time": "2022-01-08T21:52:06.318Z"
   },
   {
    "duration": 5,
    "start_time": "2022-01-08T21:52:08.862Z"
   },
   {
    "duration": 7,
    "start_time": "2022-01-08T21:52:12.246Z"
   },
   {
    "duration": 8,
    "start_time": "2022-01-08T21:52:14.997Z"
   },
   {
    "duration": 3,
    "start_time": "2022-01-08T21:52:17.694Z"
   },
   {
    "duration": 3289,
    "start_time": "2022-01-08T21:52:19.758Z"
   },
   {
    "duration": 2119,
    "start_time": "2022-01-08T21:52:26.918Z"
   },
   {
    "duration": 11,
    "start_time": "2022-01-08T21:53:30.687Z"
   },
   {
    "duration": 12,
    "start_time": "2022-01-08T21:53:49.230Z"
   },
   {
    "duration": 7,
    "start_time": "2022-01-08T21:54:39.085Z"
   },
   {
    "duration": 10,
    "start_time": "2022-01-08T21:54:40.789Z"
   },
   {
    "duration": 623,
    "start_time": "2022-01-08T21:55:02.180Z"
   },
   {
    "duration": 13,
    "start_time": "2022-01-08T21:55:04.900Z"
   },
   {
    "duration": 11,
    "start_time": "2022-01-08T21:55:10.652Z"
   },
   {
    "duration": 21,
    "start_time": "2022-01-08T21:55:12.341Z"
   },
   {
    "duration": 7,
    "start_time": "2022-01-08T21:55:14.516Z"
   },
   {
    "duration": 4,
    "start_time": "2022-01-08T21:55:19.044Z"
   },
   {
    "duration": 38,
    "start_time": "2022-01-08T21:55:20.964Z"
   },
   {
    "duration": 21,
    "start_time": "2022-01-08T21:55:22.781Z"
   },
   {
    "duration": 3,
    "start_time": "2022-01-08T21:55:25.141Z"
   },
   {
    "duration": 10,
    "start_time": "2022-01-08T21:55:26.821Z"
   },
   {
    "duration": 4,
    "start_time": "2022-01-08T21:55:29.148Z"
   },
   {
    "duration": 11,
    "start_time": "2022-01-08T21:55:30.709Z"
   },
   {
    "duration": 12,
    "start_time": "2022-01-08T21:55:32.516Z"
   },
   {
    "duration": 4,
    "start_time": "2022-01-08T21:55:35.005Z"
   },
   {
    "duration": 5,
    "start_time": "2022-01-08T21:55:36.685Z"
   },
   {
    "duration": 4,
    "start_time": "2022-01-08T21:55:38.420Z"
   },
   {
    "duration": 4,
    "start_time": "2022-01-08T21:55:40.077Z"
   },
   {
    "duration": 10,
    "start_time": "2022-01-08T21:55:42.501Z"
   },
   {
    "duration": 6,
    "start_time": "2022-01-08T21:55:43.956Z"
   },
   {
    "duration": 4,
    "start_time": "2022-01-08T21:55:45.372Z"
   },
   {
    "duration": 6,
    "start_time": "2022-01-08T21:55:46.820Z"
   },
   {
    "duration": 5,
    "start_time": "2022-01-08T21:55:48.748Z"
   },
   {
    "duration": 5,
    "start_time": "2022-01-08T21:55:50.412Z"
   },
   {
    "duration": 7,
    "start_time": "2022-01-08T21:55:52.148Z"
   },
   {
    "duration": 4,
    "start_time": "2022-01-08T21:55:53.989Z"
   },
   {
    "duration": 5,
    "start_time": "2022-01-08T21:55:55.101Z"
   },
   {
    "duration": 6,
    "start_time": "2022-01-08T21:55:57.828Z"
   },
   {
    "duration": 7,
    "start_time": "2022-01-08T21:55:59.724Z"
   },
   {
    "duration": 3,
    "start_time": "2022-01-08T21:56:03.797Z"
   },
   {
    "duration": 3185,
    "start_time": "2022-01-08T21:56:05.702Z"
   },
   {
    "duration": 11,
    "start_time": "2022-01-08T21:56:10.869Z"
   },
   {
    "duration": 10,
    "start_time": "2022-01-08T21:56:12.532Z"
   },
   {
    "duration": 3,
    "start_time": "2022-01-08T21:58:47.804Z"
   },
   {
    "duration": 2798,
    "start_time": "2022-01-08T21:58:49.421Z"
   },
   {
    "duration": 7,
    "start_time": "2022-01-08T21:58:53.380Z"
   },
   {
    "duration": 7,
    "start_time": "2022-01-08T21:58:54.949Z"
   },
   {
    "duration": 6,
    "start_time": "2022-01-08T22:09:19.821Z"
   },
   {
    "duration": 295,
    "start_time": "2022-01-08T22:09:35.325Z"
   },
   {
    "duration": 236,
    "start_time": "2022-01-08T22:09:47.245Z"
   },
   {
    "duration": 20,
    "start_time": "2022-01-08T22:09:57.357Z"
   },
   {
    "duration": 18,
    "start_time": "2022-01-08T22:16:30.461Z"
   },
   {
    "duration": 19,
    "start_time": "2022-01-08T22:16:53.702Z"
   },
   {
    "duration": 19,
    "start_time": "2022-01-08T22:17:37.629Z"
   },
   {
    "duration": 17,
    "start_time": "2022-01-08T22:17:48.398Z"
   },
   {
    "duration": 18,
    "start_time": "2022-01-08T22:24:19.598Z"
   },
   {
    "duration": 4,
    "start_time": "2022-01-08T22:24:56.646Z"
   },
   {
    "duration": 4127,
    "start_time": "2022-01-08T22:24:59.406Z"
   },
   {
    "duration": 3604,
    "start_time": "2022-01-08T22:25:14.390Z"
   },
   {
    "duration": 4,
    "start_time": "2022-01-08T22:25:50.342Z"
   },
   {
    "duration": 2993,
    "start_time": "2022-01-08T22:26:16.309Z"
   },
   {
    "duration": 647,
    "start_time": "2022-01-08T22:26:28.817Z"
   },
   {
    "duration": 11,
    "start_time": "2022-01-08T22:26:31.369Z"
   },
   {
    "duration": 9,
    "start_time": "2022-01-08T22:26:33.536Z"
   },
   {
    "duration": 22,
    "start_time": "2022-01-08T22:26:34.985Z"
   },
   {
    "duration": 7,
    "start_time": "2022-01-08T22:26:37.442Z"
   },
   {
    "duration": 628,
    "start_time": "2022-01-08T22:26:46.551Z"
   },
   {
    "duration": 12,
    "start_time": "2022-01-08T22:26:49.167Z"
   },
   {
    "duration": 9,
    "start_time": "2022-01-08T22:26:51.263Z"
   },
   {
    "duration": 20,
    "start_time": "2022-01-08T22:26:52.784Z"
   },
   {
    "duration": 7,
    "start_time": "2022-01-08T22:26:55.063Z"
   },
   {
    "duration": 4,
    "start_time": "2022-01-08T22:26:56.887Z"
   },
   {
    "duration": 38,
    "start_time": "2022-01-08T22:26:58.695Z"
   },
   {
    "duration": 22,
    "start_time": "2022-01-08T22:27:01.599Z"
   },
   {
    "duration": 4,
    "start_time": "2022-01-08T22:27:03.623Z"
   },
   {
    "duration": 10,
    "start_time": "2022-01-08T22:27:05.240Z"
   },
   {
    "duration": 4,
    "start_time": "2022-01-08T22:27:07.839Z"
   },
   {
    "duration": 10,
    "start_time": "2022-01-08T22:27:09.791Z"
   },
   {
    "duration": 15,
    "start_time": "2022-01-08T22:27:11.494Z"
   },
   {
    "duration": 4,
    "start_time": "2022-01-08T22:27:13.543Z"
   },
   {
    "duration": 6,
    "start_time": "2022-01-08T22:27:14.958Z"
   },
   {
    "duration": 4,
    "start_time": "2022-01-08T22:27:16.415Z"
   },
   {
    "duration": 4,
    "start_time": "2022-01-08T22:27:18.336Z"
   },
   {
    "duration": 12,
    "start_time": "2022-01-08T22:27:19.943Z"
   },
   {
    "duration": 7,
    "start_time": "2022-01-08T22:27:21.407Z"
   },
   {
    "duration": 5,
    "start_time": "2022-01-08T22:27:22.943Z"
   },
   {
    "duration": 6,
    "start_time": "2022-01-08T22:27:24.848Z"
   },
   {
    "duration": 5,
    "start_time": "2022-01-08T22:27:26.494Z"
   },
   {
    "duration": 5,
    "start_time": "2022-01-08T22:27:27.911Z"
   },
   {
    "duration": 7,
    "start_time": "2022-01-08T22:27:30.040Z"
   },
   {
    "duration": 4,
    "start_time": "2022-01-08T22:27:31.927Z"
   },
   {
    "duration": 6,
    "start_time": "2022-01-08T22:27:33.247Z"
   },
   {
    "duration": 15,
    "start_time": "2022-01-08T22:27:35.167Z"
   },
   {
    "duration": 15,
    "start_time": "2022-01-08T22:27:36.911Z"
   },
   {
    "duration": 15,
    "start_time": "2022-01-08T22:27:45.080Z"
   },
   {
    "duration": 7,
    "start_time": "2022-01-08T22:27:47.431Z"
   },
   {
    "duration": 8,
    "start_time": "2022-01-08T22:27:49.927Z"
   },
   {
    "duration": 3,
    "start_time": "2022-01-08T22:27:53.559Z"
   },
   {
    "duration": 3164,
    "start_time": "2022-01-08T22:27:55.304Z"
   },
   {
    "duration": 11,
    "start_time": "2022-01-08T22:27:58.470Z"
   },
   {
    "duration": 2818,
    "start_time": "2022-01-08T22:28:01.495Z"
   },
   {
    "duration": 8,
    "start_time": "2022-01-08T22:28:14.406Z"
   },
   {
    "duration": 7,
    "start_time": "2022-01-08T22:28:19.560Z"
   },
   {
    "duration": 7,
    "start_time": "2022-01-08T22:28:24.688Z"
   },
   {
    "duration": 2669,
    "start_time": "2022-01-08T22:28:27.439Z"
   },
   {
    "duration": 606,
    "start_time": "2022-01-08T22:28:42.575Z"
   },
   {
    "duration": 12,
    "start_time": "2022-01-08T22:28:44.678Z"
   },
   {
    "duration": 10,
    "start_time": "2022-01-08T22:28:46.742Z"
   },
   {
    "duration": 23,
    "start_time": "2022-01-08T22:28:48.127Z"
   },
   {
    "duration": 8,
    "start_time": "2022-01-08T22:28:51.615Z"
   },
   {
    "duration": 4,
    "start_time": "2022-01-08T22:28:53.511Z"
   },
   {
    "duration": 39,
    "start_time": "2022-01-08T22:28:56.694Z"
   },
   {
    "duration": 21,
    "start_time": "2022-01-08T22:28:58.775Z"
   },
   {
    "duration": 4,
    "start_time": "2022-01-08T22:29:06.262Z"
   },
   {
    "duration": 10,
    "start_time": "2022-01-08T22:29:13.046Z"
   },
   {
    "duration": 5,
    "start_time": "2022-01-08T22:29:15.711Z"
   },
   {
    "duration": 10,
    "start_time": "2022-01-08T22:29:17.317Z"
   },
   {
    "duration": 10,
    "start_time": "2022-01-08T22:29:20.070Z"
   },
   {
    "duration": 4,
    "start_time": "2022-01-08T22:29:22.159Z"
   },
   {
    "duration": 6,
    "start_time": "2022-01-08T22:29:23.567Z"
   },
   {
    "duration": 4,
    "start_time": "2022-01-08T22:29:25.335Z"
   },
   {
    "duration": 5,
    "start_time": "2022-01-08T22:29:26.734Z"
   },
   {
    "duration": 12,
    "start_time": "2022-01-08T22:29:28.638Z"
   },
   {
    "duration": 6,
    "start_time": "2022-01-08T22:29:30.031Z"
   },
   {
    "duration": 4,
    "start_time": "2022-01-08T22:29:31.655Z"
   },
   {
    "duration": 6,
    "start_time": "2022-01-08T22:29:32.686Z"
   },
   {
    "duration": 5,
    "start_time": "2022-01-08T22:29:33.230Z"
   },
   {
    "duration": 5,
    "start_time": "2022-01-08T22:29:33.735Z"
   },
   {
    "duration": 7,
    "start_time": "2022-01-08T22:29:34.254Z"
   },
   {
    "duration": 4,
    "start_time": "2022-01-08T22:29:34.807Z"
   },
   {
    "duration": 6,
    "start_time": "2022-01-08T22:29:35.710Z"
   },
   {
    "duration": 15,
    "start_time": "2022-01-08T22:29:36.270Z"
   },
   {
    "duration": 15,
    "start_time": "2022-01-08T22:29:36.822Z"
   },
   {
    "duration": 17,
    "start_time": "2022-01-08T22:29:37.550Z"
   },
   {
    "duration": 7,
    "start_time": "2022-01-08T22:29:40.382Z"
   },
   {
    "duration": 7,
    "start_time": "2022-01-08T22:29:41.470Z"
   },
   {
    "duration": 2,
    "start_time": "2022-01-08T22:29:44.470Z"
   },
   {
    "duration": 3366,
    "start_time": "2022-01-08T22:29:45.494Z"
   },
   {
    "duration": 11,
    "start_time": "2022-01-08T22:29:56.863Z"
   },
   {
    "duration": 8,
    "start_time": "2022-01-08T22:29:59.535Z"
   },
   {
    "duration": 19,
    "start_time": "2022-01-08T22:31:11.758Z"
   },
   {
    "duration": 2789,
    "start_time": "2022-01-08T22:32:01.671Z"
   },
   {
    "duration": 2623,
    "start_time": "2022-01-08T22:32:07.734Z"
   },
   {
    "duration": 93,
    "start_time": "2022-01-08T22:33:52.654Z"
   },
   {
    "duration": 2689,
    "start_time": "2022-01-08T22:33:59.326Z"
   },
   {
    "duration": 9,
    "start_time": "2022-01-08T22:34:03.990Z"
   },
   {
    "duration": 7,
    "start_time": "2022-01-08T22:34:07.526Z"
   },
   {
    "duration": 621,
    "start_time": "2022-01-08T22:35:07.183Z"
   },
   {
    "duration": 11,
    "start_time": "2022-01-08T22:35:10.233Z"
   },
   {
    "duration": 9,
    "start_time": "2022-01-08T22:35:11.751Z"
   },
   {
    "duration": 21,
    "start_time": "2022-01-08T22:35:12.551Z"
   },
   {
    "duration": 7,
    "start_time": "2022-01-08T22:35:15.025Z"
   },
   {
    "duration": 4,
    "start_time": "2022-01-08T22:35:15.711Z"
   },
   {
    "duration": 40,
    "start_time": "2022-01-08T22:35:16.782Z"
   },
   {
    "duration": 19,
    "start_time": "2022-01-08T22:35:17.431Z"
   },
   {
    "duration": 3,
    "start_time": "2022-01-08T22:35:20.279Z"
   },
   {
    "duration": 10,
    "start_time": "2022-01-08T22:35:20.711Z"
   },
   {
    "duration": 4,
    "start_time": "2022-01-08T22:35:47.783Z"
   },
   {
    "duration": 10,
    "start_time": "2022-01-08T22:35:49.151Z"
   },
   {
    "duration": 12,
    "start_time": "2022-01-08T22:35:49.961Z"
   },
   {
    "duration": 4,
    "start_time": "2022-01-08T22:35:52.975Z"
   },
   {
    "duration": 6,
    "start_time": "2022-01-08T22:35:53.398Z"
   },
   {
    "duration": 4,
    "start_time": "2022-01-08T22:35:53.815Z"
   },
   {
    "duration": 4,
    "start_time": "2022-01-08T22:35:55.535Z"
   },
   {
    "duration": 15,
    "start_time": "2022-01-08T22:35:55.984Z"
   },
   {
    "duration": 7,
    "start_time": "2022-01-08T22:35:56.342Z"
   },
   {
    "duration": 4,
    "start_time": "2022-01-08T22:35:56.847Z"
   },
   {
    "duration": 5,
    "start_time": "2022-01-08T22:35:57.319Z"
   },
   {
    "duration": 5,
    "start_time": "2022-01-08T22:35:57.799Z"
   },
   {
    "duration": 5,
    "start_time": "2022-01-08T22:35:58.271Z"
   },
   {
    "duration": 7,
    "start_time": "2022-01-08T22:35:58.711Z"
   },
   {
    "duration": 4,
    "start_time": "2022-01-08T22:36:00.408Z"
   },
   {
    "duration": 5,
    "start_time": "2022-01-08T22:36:00.815Z"
   },
   {
    "duration": 17,
    "start_time": "2022-01-08T22:36:02.679Z"
   },
   {
    "duration": 17,
    "start_time": "2022-01-08T22:36:03.103Z"
   },
   {
    "duration": 17,
    "start_time": "2022-01-08T22:36:03.503Z"
   },
   {
    "duration": 7,
    "start_time": "2022-01-08T22:36:05.942Z"
   },
   {
    "duration": 8,
    "start_time": "2022-01-08T22:36:06.646Z"
   },
   {
    "duration": 2,
    "start_time": "2022-01-08T22:36:08.711Z"
   },
   {
    "duration": 3250,
    "start_time": "2022-01-08T22:36:09.142Z"
   },
   {
    "duration": 10,
    "start_time": "2022-01-08T22:36:12.394Z"
   },
   {
    "duration": 8,
    "start_time": "2022-01-08T22:36:14.583Z"
   },
   {
    "duration": 20,
    "start_time": "2022-01-08T22:36:19.215Z"
   },
   {
    "duration": 3,
    "start_time": "2022-01-08T22:41:25.319Z"
   },
   {
    "duration": 4,
    "start_time": "2022-01-08T22:42:31.383Z"
   },
   {
    "duration": 306,
    "start_time": "2022-01-08T22:42:59.791Z"
   },
   {
    "duration": 5,
    "start_time": "2022-01-08T22:43:17.551Z"
   },
   {
    "duration": 8,
    "start_time": "2022-01-08T22:43:47.168Z"
   },
   {
    "duration": 19,
    "start_time": "2022-01-08T22:44:52.864Z"
   },
   {
    "duration": 8,
    "start_time": "2022-01-08T22:45:41.815Z"
   },
   {
    "duration": 10,
    "start_time": "2022-01-08T22:47:20.223Z"
   },
   {
    "duration": 351,
    "start_time": "2022-01-08T22:55:51.242Z"
   },
   {
    "duration": 3,
    "start_time": "2022-01-08T22:55:53.479Z"
   },
   {
    "duration": 207,
    "start_time": "2022-01-08T22:55:55.631Z"
   },
   {
    "duration": 22,
    "start_time": "2022-01-08T22:56:00.543Z"
   },
   {
    "duration": 4,
    "start_time": "2022-01-08T23:00:17.600Z"
   },
   {
    "duration": 104,
    "start_time": "2022-01-08T23:04:08.286Z"
   },
   {
    "duration": 3,
    "start_time": "2022-01-08T23:04:18.503Z"
   },
   {
    "duration": 647,
    "start_time": "2022-01-08T23:06:56.680Z"
   },
   {
    "duration": 22,
    "start_time": "2022-01-08T23:07:01.567Z"
   },
   {
    "duration": 3,
    "start_time": "2022-01-08T23:07:23.927Z"
   },
   {
    "duration": 3,
    "start_time": "2022-01-08T23:07:25.799Z"
   },
   {
    "duration": 606,
    "start_time": "2022-01-08T23:07:27.224Z"
   },
   {
    "duration": 21,
    "start_time": "2022-01-08T23:07:29.024Z"
   },
   {
    "duration": 2,
    "start_time": "2022-01-08T23:08:20.732Z"
   },
   {
    "duration": 13,
    "start_time": "2022-01-08T23:08:25.071Z"
   },
   {
    "duration": 5,
    "start_time": "2022-01-08T23:12:50.928Z"
   },
   {
    "duration": 7,
    "start_time": "2022-01-08T23:13:00.399Z"
   },
   {
    "duration": 8,
    "start_time": "2022-01-08T23:15:47.856Z"
   },
   {
    "duration": 22,
    "start_time": "2022-01-08T23:17:07.383Z"
   },
   {
    "duration": 13,
    "start_time": "2022-01-08T23:22:56.177Z"
   },
   {
    "duration": 6,
    "start_time": "2022-01-08T23:23:00.602Z"
   },
   {
    "duration": 9,
    "start_time": "2022-01-08T23:29:54.984Z"
   },
   {
    "duration": 10,
    "start_time": "2022-01-08T23:31:27.681Z"
   },
   {
    "duration": 6,
    "start_time": "2022-01-08T23:31:36.912Z"
   },
   {
    "duration": 7,
    "start_time": "2022-01-08T23:32:17.889Z"
   },
   {
    "duration": 8,
    "start_time": "2022-01-08T23:35:53.752Z"
   },
   {
    "duration": 9,
    "start_time": "2022-01-08T23:38:35.593Z"
   },
   {
    "duration": 10,
    "start_time": "2022-01-08T23:38:57.561Z"
   },
   {
    "duration": 8,
    "start_time": "2022-01-08T23:38:59.007Z"
   },
   {
    "duration": 267,
    "start_time": "2022-01-08T23:39:12.473Z"
   },
   {
    "duration": 9,
    "start_time": "2022-01-08T23:39:18.184Z"
   },
   {
    "duration": 7,
    "start_time": "2022-01-08T23:39:54.633Z"
   },
   {
    "duration": 245,
    "start_time": "2022-01-08T23:43:35.384Z"
   },
   {
    "duration": 8,
    "start_time": "2022-01-08T23:43:46.607Z"
   },
   {
    "duration": 9,
    "start_time": "2022-01-08T23:45:46.633Z"
   },
   {
    "duration": 7,
    "start_time": "2022-01-08T23:45:48.525Z"
   },
   {
    "duration": 708,
    "start_time": "2022-01-08T23:55:59.904Z"
   },
   {
    "duration": 11,
    "start_time": "2022-01-08T23:56:02.846Z"
   },
   {
    "duration": 9,
    "start_time": "2022-01-08T23:56:05.392Z"
   },
   {
    "duration": 22,
    "start_time": "2022-01-08T23:56:06.264Z"
   },
   {
    "duration": 8,
    "start_time": "2022-01-08T23:56:08.542Z"
   },
   {
    "duration": 4,
    "start_time": "2022-01-08T23:56:09.135Z"
   },
   {
    "duration": 40,
    "start_time": "2022-01-08T23:56:12.903Z"
   },
   {
    "duration": 21,
    "start_time": "2022-01-08T23:56:15.064Z"
   },
   {
    "duration": 4,
    "start_time": "2022-01-08T23:56:17.639Z"
   },
   {
    "duration": 11,
    "start_time": "2022-01-08T23:56:19.206Z"
   },
   {
    "duration": 5,
    "start_time": "2022-01-08T23:56:21.366Z"
   },
   {
    "duration": 11,
    "start_time": "2022-01-08T23:56:22.831Z"
   },
   {
    "duration": 11,
    "start_time": "2022-01-08T23:56:24.672Z"
   },
   {
    "duration": 4,
    "start_time": "2022-01-08T23:56:26.551Z"
   },
   {
    "duration": 5,
    "start_time": "2022-01-08T23:56:28.015Z"
   },
   {
    "duration": 4,
    "start_time": "2022-01-08T23:56:30.343Z"
   },
   {
    "duration": 4,
    "start_time": "2022-01-08T23:56:32.207Z"
   },
   {
    "duration": 10,
    "start_time": "2022-01-08T23:56:34.807Z"
   },
   {
    "duration": 7,
    "start_time": "2022-01-08T23:56:36.278Z"
   },
   {
    "duration": 4,
    "start_time": "2022-01-08T23:56:36.888Z"
   },
   {
    "duration": 5,
    "start_time": "2022-01-08T23:56:37.383Z"
   },
   {
    "duration": 5,
    "start_time": "2022-01-08T23:56:37.855Z"
   },
   {
    "duration": 5,
    "start_time": "2022-01-08T23:56:38.910Z"
   },
   {
    "duration": 6,
    "start_time": "2022-01-08T23:56:39.399Z"
   },
   {
    "duration": 5,
    "start_time": "2022-01-08T23:56:39.871Z"
   },
   {
    "duration": 6,
    "start_time": "2022-01-08T23:56:40.654Z"
   },
   {
    "duration": 14,
    "start_time": "2022-01-08T23:56:44.792Z"
   },
   {
    "duration": 14,
    "start_time": "2022-01-08T23:56:45.359Z"
   },
   {
    "duration": 16,
    "start_time": "2022-01-08T23:56:45.888Z"
   },
   {
    "duration": 7,
    "start_time": "2022-01-08T23:56:48.462Z"
   },
   {
    "duration": 8,
    "start_time": "2022-01-08T23:56:48.959Z"
   },
   {
    "duration": 3,
    "start_time": "2022-01-08T23:56:51.198Z"
   },
   {
    "duration": 3105,
    "start_time": "2022-01-08T23:56:51.663Z"
   },
   {
    "duration": 10,
    "start_time": "2022-01-08T23:56:54.770Z"
   },
   {
    "duration": 6,
    "start_time": "2022-01-08T23:56:54.782Z"
   },
   {
    "duration": 19,
    "start_time": "2022-01-08T23:56:58.727Z"
   },
   {
    "duration": 9,
    "start_time": "2022-01-08T23:57:01.568Z"
   },
   {
    "duration": 9,
    "start_time": "2022-01-08T23:57:02.416Z"
   },
   {
    "duration": 3,
    "start_time": "2022-01-08T23:57:04.183Z"
   },
   {
    "duration": 3,
    "start_time": "2022-01-08T23:57:04.632Z"
   },
   {
    "duration": 3,
    "start_time": "2022-01-08T23:57:05.031Z"
   },
   {
    "duration": 612,
    "start_time": "2022-01-08T23:57:06.495Z"
   },
   {
    "duration": 11,
    "start_time": "2022-01-08T23:57:07.109Z"
   },
   {
    "duration": 11,
    "start_time": "2022-01-08T23:57:10.431Z"
   },
   {
    "duration": 15,
    "start_time": "2022-01-08T23:57:11.719Z"
   },
   {
    "duration": 8,
    "start_time": "2022-01-08T23:57:12.095Z"
   },
   {
    "duration": 8,
    "start_time": "2022-01-08T23:57:14.888Z"
   },
   {
    "duration": 10,
    "start_time": "2022-01-08T23:57:18.270Z"
   },
   {
    "duration": 8,
    "start_time": "2022-01-08T23:57:18.819Z"
   },
   {
    "duration": 8,
    "start_time": "2022-01-08T23:57:45.583Z"
   },
   {
    "duration": 9,
    "start_time": "2022-01-08T23:57:46.088Z"
   },
   {
    "duration": 7,
    "start_time": "2022-01-08T23:57:47.832Z"
   },
   {
    "duration": 9,
    "start_time": "2022-01-08T23:57:49.631Z"
   },
   {
    "duration": 11,
    "start_time": "2022-01-08T23:57:50.120Z"
   },
   {
    "duration": 7,
    "start_time": "2022-01-08T23:57:51.359Z"
   },
   {
    "duration": 59,
    "start_time": "2022-01-10T09:29:00.850Z"
   },
   {
    "duration": 807,
    "start_time": "2022-01-10T09:54:21.740Z"
   },
   {
    "duration": 404,
    "start_time": "2022-01-10T10:13:41.377Z"
   },
   {
    "duration": 920,
    "start_time": "2022-01-10T10:15:19.509Z"
   },
   {
    "duration": 15,
    "start_time": "2022-01-10T10:15:23.780Z"
   },
   {
    "duration": 13,
    "start_time": "2022-01-10T10:15:30.261Z"
   },
   {
    "duration": 35,
    "start_time": "2022-01-10T10:15:32.110Z"
   },
   {
    "duration": 10,
    "start_time": "2022-01-10T10:15:34.490Z"
   },
   {
    "duration": 5,
    "start_time": "2022-01-10T10:15:36.715Z"
   },
   {
    "duration": 67,
    "start_time": "2022-01-10T10:15:38.699Z"
   },
   {
    "duration": 36,
    "start_time": "2022-01-10T10:15:39.641Z"
   },
   {
    "duration": 5,
    "start_time": "2022-01-10T10:15:41.860Z"
   },
   {
    "duration": 14,
    "start_time": "2022-01-10T10:15:42.758Z"
   },
   {
    "duration": 7,
    "start_time": "2022-01-10T10:15:45.858Z"
   },
   {
    "duration": 15,
    "start_time": "2022-01-10T10:15:47.066Z"
   },
   {
    "duration": 16,
    "start_time": "2022-01-10T10:15:48.066Z"
   },
   {
    "duration": 6,
    "start_time": "2022-01-10T10:15:53.859Z"
   },
   {
    "duration": 11,
    "start_time": "2022-01-10T10:15:55.022Z"
   },
   {
    "duration": 5,
    "start_time": "2022-01-10T10:15:55.722Z"
   },
   {
    "duration": 8,
    "start_time": "2022-01-10T10:15:56.705Z"
   },
   {
    "duration": 15,
    "start_time": "2022-01-10T10:15:57.444Z"
   },
   {
    "duration": 8,
    "start_time": "2022-01-10T10:15:58.065Z"
   },
   {
    "duration": 8,
    "start_time": "2022-01-10T10:15:58.696Z"
   },
   {
    "duration": 8,
    "start_time": "2022-01-10T10:16:00.955Z"
   },
   {
    "duration": 7,
    "start_time": "2022-01-10T10:16:01.587Z"
   },
   {
    "duration": 9,
    "start_time": "2022-01-10T10:16:02.155Z"
   },
   {
    "duration": 10,
    "start_time": "2022-01-10T10:16:02.779Z"
   },
   {
    "duration": 6,
    "start_time": "2022-01-10T10:16:03.410Z"
   },
   {
    "duration": 7,
    "start_time": "2022-01-10T10:16:04.083Z"
   },
   {
    "duration": 23,
    "start_time": "2022-01-10T10:16:06.349Z"
   },
   {
    "duration": 26,
    "start_time": "2022-01-10T10:16:06.995Z"
   },
   {
    "duration": 24,
    "start_time": "2022-01-10T10:16:07.635Z"
   },
   {
    "duration": 15,
    "start_time": "2022-01-10T10:17:42.426Z"
   },
   {
    "duration": 3,
    "start_time": "2022-01-10T10:17:46.540Z"
   },
   {
    "duration": 4926,
    "start_time": "2022-01-10T10:17:48.300Z"
   },
   {
    "duration": 15,
    "start_time": "2022-01-10T10:17:55.468Z"
   },
   {
    "duration": 10,
    "start_time": "2022-01-10T10:17:57.714Z"
   },
   {
    "duration": 31,
    "start_time": "2022-01-10T10:18:07.543Z"
   },
   {
    "duration": 13,
    "start_time": "2022-01-10T10:18:10.538Z"
   },
   {
    "duration": 13,
    "start_time": "2022-01-10T10:18:11.457Z"
   },
   {
    "duration": 5,
    "start_time": "2022-01-10T10:18:12.089Z"
   },
   {
    "duration": 5,
    "start_time": "2022-01-10T10:18:14.676Z"
   },
   {
    "duration": 5,
    "start_time": "2022-01-10T10:18:15.364Z"
   },
   {
    "duration": 1918,
    "start_time": "2022-01-10T10:18:16.963Z"
   },
   {
    "duration": 33,
    "start_time": "2022-01-10T10:18:18.883Z"
   },
   {
    "duration": 17,
    "start_time": "2022-01-10T10:18:22.994Z"
   },
   {
    "duration": 19,
    "start_time": "2022-01-10T10:18:25.499Z"
   },
   {
    "duration": 11,
    "start_time": "2022-01-10T10:18:27.339Z"
   },
   {
    "duration": 11,
    "start_time": "2022-01-10T10:18:31.853Z"
   },
   {
    "duration": 16,
    "start_time": "2022-01-10T10:18:41.835Z"
   },
   {
    "duration": 571,
    "start_time": "2022-01-10T10:19:07.967Z"
   },
   {
    "duration": 17,
    "start_time": "2022-01-10T10:19:15.043Z"
   },
   {
    "duration": 22,
    "start_time": "2022-01-10T10:19:53.451Z"
   },
   {
    "duration": 20,
    "start_time": "2022-01-10T10:20:03.125Z"
   },
   {
    "duration": 20,
    "start_time": "2022-01-10T10:20:17.856Z"
   },
   {
    "duration": 385,
    "start_time": "2022-01-10T11:40:26.522Z"
   },
   {
    "duration": 28,
    "start_time": "2022-01-10T11:41:56.313Z"
   },
   {
    "duration": 22,
    "start_time": "2022-01-10T11:42:06.568Z"
   },
   {
    "duration": 78,
    "start_time": "2022-01-10T11:45:21.370Z"
   },
   {
    "duration": 32,
    "start_time": "2022-01-10T11:45:33.777Z"
   },
   {
    "duration": 19,
    "start_time": "2022-01-10T11:46:21.744Z"
   },
   {
    "duration": 254,
    "start_time": "2022-01-10T11:47:49.562Z"
   },
   {
    "duration": 36,
    "start_time": "2022-01-10T11:48:04.008Z"
   },
   {
    "duration": 280,
    "start_time": "2022-01-10T12:05:14.889Z"
   },
   {
    "duration": 39,
    "start_time": "2022-01-10T12:07:54.458Z"
   },
   {
    "duration": 49,
    "start_time": "2022-01-10T12:08:01.314Z"
   },
   {
    "duration": 703,
    "start_time": "2022-01-10T12:10:50.577Z"
   },
   {
    "duration": 35,
    "start_time": "2022-01-10T12:10:59.866Z"
   },
   {
    "duration": 31,
    "start_time": "2022-01-10T12:19:11.532Z"
   },
   {
    "duration": 6863,
    "start_time": "2022-01-10T12:21:35.250Z"
   },
   {
    "duration": 105,
    "start_time": "2022-01-10T12:22:02.545Z"
   },
   {
    "duration": 29,
    "start_time": "2022-01-10T12:22:08.890Z"
   },
   {
    "duration": 31,
    "start_time": "2022-01-10T12:22:20.025Z"
   },
   {
    "duration": 29,
    "start_time": "2022-01-10T12:22:32.276Z"
   },
   {
    "duration": 41,
    "start_time": "2022-01-10T12:23:07.901Z"
   },
   {
    "duration": 88,
    "start_time": "2022-01-10T12:23:23.060Z"
   },
   {
    "duration": 92,
    "start_time": "2022-01-10T12:23:31.788Z"
   },
   {
    "duration": 280,
    "start_time": "2022-01-10T12:23:57.362Z"
   },
   {
    "duration": 38,
    "start_time": "2022-01-10T12:24:15.101Z"
   },
   {
    "duration": 45,
    "start_time": "2022-01-10T12:24:35.164Z"
   },
   {
    "duration": 40,
    "start_time": "2022-01-10T12:25:12.684Z"
   },
   {
    "duration": 294,
    "start_time": "2022-01-10T12:25:47.235Z"
   },
   {
    "duration": 42,
    "start_time": "2022-01-10T12:26:02.243Z"
   },
   {
    "duration": 35,
    "start_time": "2022-01-10T12:27:20.803Z"
   },
   {
    "duration": 323,
    "start_time": "2022-01-10T12:28:49.754Z"
   },
   {
    "duration": 35,
    "start_time": "2022-01-10T12:29:00.930Z"
   },
   {
    "duration": 32,
    "start_time": "2022-01-10T12:30:37.547Z"
   },
   {
    "duration": 1097,
    "start_time": "2022-01-10T12:34:20.648Z"
   },
   {
    "duration": 16,
    "start_time": "2022-01-10T12:34:25.111Z"
   },
   {
    "duration": 108,
    "start_time": "2022-01-10T12:34:52.151Z"
   },
   {
    "duration": 95,
    "start_time": "2022-01-10T12:34:59.386Z"
   },
   {
    "duration": 15,
    "start_time": "2022-01-10T12:35:18.375Z"
   },
   {
    "duration": 1013,
    "start_time": "2022-01-10T12:35:26.379Z"
   },
   {
    "duration": 16,
    "start_time": "2022-01-10T12:35:30.169Z"
   },
   {
    "duration": 14,
    "start_time": "2022-01-10T12:35:33.539Z"
   },
   {
    "duration": 35,
    "start_time": "2022-01-10T12:35:35.514Z"
   },
   {
    "duration": 11,
    "start_time": "2022-01-10T12:35:37.681Z"
   },
   {
    "duration": 6,
    "start_time": "2022-01-10T12:35:38.481Z"
   },
   {
    "duration": 72,
    "start_time": "2022-01-10T12:35:40.266Z"
   },
   {
    "duration": 51,
    "start_time": "2022-01-10T12:35:40.981Z"
   },
   {
    "duration": 6,
    "start_time": "2022-01-10T12:35:42.948Z"
   },
   {
    "duration": 21,
    "start_time": "2022-01-10T12:35:43.787Z"
   },
   {
    "duration": 7,
    "start_time": "2022-01-10T12:35:55.354Z"
   },
   {
    "duration": 16,
    "start_time": "2022-01-10T12:35:56.097Z"
   },
   {
    "duration": 16,
    "start_time": "2022-01-10T12:35:57.594Z"
   },
   {
    "duration": 6,
    "start_time": "2022-01-10T12:36:04.172Z"
   },
   {
    "duration": 8,
    "start_time": "2022-01-10T12:36:05.001Z"
   },
   {
    "duration": 7,
    "start_time": "2022-01-10T12:36:06.698Z"
   },
   {
    "duration": 8,
    "start_time": "2022-01-10T12:36:07.361Z"
   },
   {
    "duration": 17,
    "start_time": "2022-01-10T12:36:08.004Z"
   },
   {
    "duration": 10,
    "start_time": "2022-01-10T12:36:08.625Z"
   },
   {
    "duration": 6,
    "start_time": "2022-01-10T12:36:10.547Z"
   },
   {
    "duration": 7,
    "start_time": "2022-01-10T12:36:11.162Z"
   },
   {
    "duration": 814,
    "start_time": "2022-01-10T12:36:11.777Z"
   },
   {
    "duration": 251,
    "start_time": "2022-01-10T12:36:12.595Z"
   },
   {
    "duration": 11,
    "start_time": "2022-01-10T12:36:14.095Z"
   },
   {
    "duration": 7,
    "start_time": "2022-01-10T12:36:16.579Z"
   },
   {
    "duration": 8,
    "start_time": "2022-01-10T12:36:17.361Z"
   },
   {
    "duration": 28,
    "start_time": "2022-01-10T12:36:19.532Z"
   },
   {
    "duration": 24,
    "start_time": "2022-01-10T12:36:20.234Z"
   },
   {
    "duration": 25,
    "start_time": "2022-01-10T12:36:20.919Z"
   },
   {
    "duration": 10,
    "start_time": "2022-01-10T12:36:24.809Z"
   },
   {
    "duration": 4,
    "start_time": "2022-01-10T12:36:27.576Z"
   },
   {
    "duration": 5119,
    "start_time": "2022-01-10T12:36:28.363Z"
   },
   {
    "duration": 16,
    "start_time": "2022-01-10T12:36:35.538Z"
   },
   {
    "duration": 11,
    "start_time": "2022-01-10T12:36:36.796Z"
   },
   {
    "duration": 38,
    "start_time": "2022-01-10T12:36:42.742Z"
   },
   {
    "duration": 16,
    "start_time": "2022-01-10T12:36:46.514Z"
   },
   {
    "duration": 21,
    "start_time": "2022-01-10T12:36:47.346Z"
   },
   {
    "duration": 5,
    "start_time": "2022-01-10T12:36:49.013Z"
   },
   {
    "duration": 5,
    "start_time": "2022-01-10T12:36:49.875Z"
   },
   {
    "duration": 5,
    "start_time": "2022-01-10T12:36:50.742Z"
   },
   {
    "duration": 1165,
    "start_time": "2022-01-10T12:36:52.722Z"
   },
   {
    "duration": 29,
    "start_time": "2022-01-10T12:36:53.890Z"
   },
   {
    "duration": 21,
    "start_time": "2022-01-10T12:37:00.461Z"
   },
   {
    "duration": 62,
    "start_time": "2022-01-10T12:37:01.179Z"
   },
   {
    "duration": 12,
    "start_time": "2022-01-10T12:37:02.700Z"
   },
   {
    "duration": 45,
    "start_time": "2022-01-10T12:37:03.932Z"
   },
   {
    "duration": 13,
    "start_time": "2022-01-10T12:37:08.138Z"
   },
   {
    "duration": 16,
    "start_time": "2022-01-10T12:37:10.468Z"
   },
   {
    "duration": 16,
    "start_time": "2022-01-10T12:37:11.267Z"
   },
   {
    "duration": 32,
    "start_time": "2022-01-10T12:37:13.150Z"
   },
   {
    "duration": 12,
    "start_time": "2022-01-10T12:37:28.853Z"
   },
   {
    "duration": 13,
    "start_time": "2022-01-10T12:37:30.444Z"
   },
   {
    "duration": 14,
    "start_time": "2022-01-10T12:37:31.177Z"
   },
   {
    "duration": 39,
    "start_time": "2022-01-10T12:37:32.754Z"
   },
   {
    "duration": 13,
    "start_time": "2022-01-10T12:37:35.795Z"
   },
   {
    "duration": 14,
    "start_time": "2022-01-10T12:37:36.602Z"
   },
   {
    "duration": 12,
    "start_time": "2022-01-10T12:37:37.506Z"
   },
   {
    "duration": 30,
    "start_time": "2022-01-10T12:37:39.318Z"
   }
  ],
  "kernelspec": {
   "display_name": "Python 3 (ipykernel)",
   "language": "python",
   "name": "python3"
  },
  "language_info": {
   "codemirror_mode": {
    "name": "ipython",
    "version": 3
   },
   "file_extension": ".py",
   "mimetype": "text/x-python",
   "name": "python",
   "nbconvert_exporter": "python",
   "pygments_lexer": "ipython3",
   "version": "3.9.5"
  },
  "toc": {
   "base_numbering": 1,
   "nav_menu": {},
   "number_sections": true,
   "sideBar": true,
   "skip_h1_title": true,
   "title_cell": "Table of Contents",
   "title_sidebar": "Contents",
   "toc_cell": false,
   "toc_position": {},
   "toc_section_display": true,
   "toc_window_display": false
  }
 },
 "nbformat": 4,
 "nbformat_minor": 2
}
