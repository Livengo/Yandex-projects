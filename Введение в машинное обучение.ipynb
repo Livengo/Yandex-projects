{
 "cells": [
  {
   "cell_type": "markdown",
   "metadata": {},
   "source": [
    "# Описание проекта\n",
    "Оператор мобильной связи «Мегалайн» выяснил: многие клиенты пользуются архивными тарифами. Они хотят построить систему, способную проанализировать поведение клиентов и предложить пользователям новый тариф: «Смарт» или «Ультра».\n",
    "\n",
    "В нашем распоряжении данные о поведении клиентов, которые уже перешли на эти тарифы (из проекта курса «Статистический анализ данных»). Нужно построить модель для задачи классификации, которая выберет подходящий тариф. Предобработка данных не понадобится — мы её уже сделали.\n",
    "Построим модель с максимально большим значением accuracy. Чтобы сдать проект успешно, нужно довести долю правильных ответов по крайней мере до 0.75. Проверим accuracy на тестовой выборке самостоятельно."
   ]
  },
  {
   "cell_type": "markdown",
   "metadata": {},
   "source": [
    "# Описание данных"
   ]
  },
  {
   "cell_type": "markdown",
   "metadata": {},
   "source": [
    "Каждый объект в наборе данных — это информация о поведении одного пользователя за месяц. Известно:\n",
    "- сalls — количество звонков,\n",
    "- minutes — суммарная длительность звонков в минутах,\n",
    "- messages — количество sms-сообщений,\n",
    "- mb_used — израсходованный интернет-трафик в Мб,\n",
    "- is_ultra — каким тарифом пользовался в течение месяца («Ультра» — 1, «Смарт» — 0)."
   ]
  },
  {
   "cell_type": "markdown",
   "metadata": {},
   "source": [
    "## Откроем и изучите файл"
   ]
  },
  {
   "cell_type": "code",
   "execution_count": 1,
   "metadata": {},
   "outputs": [],
   "source": [
    "#Импортируем необходимые библиотеки\n",
    "import pandas as pd\n",
    "from sklearn.model_selection import train_test_split\n",
    "from sklearn.tree import DecisionTreeClassifier \n",
    "from sklearn.ensemble import RandomForestClassifier\n",
    "from sklearn.linear_model import LogisticRegression\n",
    "from sklearn.metrics import accuracy_score\n",
    "from sklearn.metrics import precision_score\n",
    "from sklearn.metrics import recall_score\n",
    "from sklearn.metrics import f1_score\n",
    "import warnings\n",
    "warnings.filterwarnings('ignore')"
   ]
  },
  {
   "cell_type": "code",
   "execution_count": 2,
   "metadata": {},
   "outputs": [],
   "source": [
    "#Откроем файл с данными\n",
    "df = pd.read_csv('/datasets/users_behavior.csv')"
   ]
  },
  {
   "cell_type": "code",
   "execution_count": 3,
   "metadata": {},
   "outputs": [
    {
     "data": {
      "text/html": [
       "<div>\n",
       "<style scoped>\n",
       "    .dataframe tbody tr th:only-of-type {\n",
       "        vertical-align: middle;\n",
       "    }\n",
       "\n",
       "    .dataframe tbody tr th {\n",
       "        vertical-align: top;\n",
       "    }\n",
       "\n",
       "    .dataframe thead th {\n",
       "        text-align: right;\n",
       "    }\n",
       "</style>\n",
       "<table border=\"1\" class=\"dataframe\">\n",
       "  <thead>\n",
       "    <tr style=\"text-align: right;\">\n",
       "      <th></th>\n",
       "      <th>calls</th>\n",
       "      <th>minutes</th>\n",
       "      <th>messages</th>\n",
       "      <th>mb_used</th>\n",
       "      <th>is_ultra</th>\n",
       "    </tr>\n",
       "  </thead>\n",
       "  <tbody>\n",
       "    <tr>\n",
       "      <td>0</td>\n",
       "      <td>40.0</td>\n",
       "      <td>311.90</td>\n",
       "      <td>83.0</td>\n",
       "      <td>19915.42</td>\n",
       "      <td>0</td>\n",
       "    </tr>\n",
       "    <tr>\n",
       "      <td>1</td>\n",
       "      <td>85.0</td>\n",
       "      <td>516.75</td>\n",
       "      <td>56.0</td>\n",
       "      <td>22696.96</td>\n",
       "      <td>0</td>\n",
       "    </tr>\n",
       "    <tr>\n",
       "      <td>2</td>\n",
       "      <td>77.0</td>\n",
       "      <td>467.66</td>\n",
       "      <td>86.0</td>\n",
       "      <td>21060.45</td>\n",
       "      <td>0</td>\n",
       "    </tr>\n",
       "    <tr>\n",
       "      <td>3</td>\n",
       "      <td>106.0</td>\n",
       "      <td>745.53</td>\n",
       "      <td>81.0</td>\n",
       "      <td>8437.39</td>\n",
       "      <td>1</td>\n",
       "    </tr>\n",
       "    <tr>\n",
       "      <td>4</td>\n",
       "      <td>66.0</td>\n",
       "      <td>418.74</td>\n",
       "      <td>1.0</td>\n",
       "      <td>14502.75</td>\n",
       "      <td>0</td>\n",
       "    </tr>\n",
       "    <tr>\n",
       "      <td>5</td>\n",
       "      <td>58.0</td>\n",
       "      <td>344.56</td>\n",
       "      <td>21.0</td>\n",
       "      <td>15823.37</td>\n",
       "      <td>0</td>\n",
       "    </tr>\n",
       "    <tr>\n",
       "      <td>6</td>\n",
       "      <td>57.0</td>\n",
       "      <td>431.64</td>\n",
       "      <td>20.0</td>\n",
       "      <td>3738.90</td>\n",
       "      <td>1</td>\n",
       "    </tr>\n",
       "    <tr>\n",
       "      <td>7</td>\n",
       "      <td>15.0</td>\n",
       "      <td>132.40</td>\n",
       "      <td>6.0</td>\n",
       "      <td>21911.60</td>\n",
       "      <td>0</td>\n",
       "    </tr>\n",
       "    <tr>\n",
       "      <td>8</td>\n",
       "      <td>7.0</td>\n",
       "      <td>43.39</td>\n",
       "      <td>3.0</td>\n",
       "      <td>2538.67</td>\n",
       "      <td>1</td>\n",
       "    </tr>\n",
       "    <tr>\n",
       "      <td>9</td>\n",
       "      <td>90.0</td>\n",
       "      <td>665.41</td>\n",
       "      <td>38.0</td>\n",
       "      <td>17358.61</td>\n",
       "      <td>0</td>\n",
       "    </tr>\n",
       "  </tbody>\n",
       "</table>\n",
       "</div>"
      ],
      "text/plain": [
       "   calls  minutes  messages   mb_used  is_ultra\n",
       "0   40.0   311.90      83.0  19915.42         0\n",
       "1   85.0   516.75      56.0  22696.96         0\n",
       "2   77.0   467.66      86.0  21060.45         0\n",
       "3  106.0   745.53      81.0   8437.39         1\n",
       "4   66.0   418.74       1.0  14502.75         0\n",
       "5   58.0   344.56      21.0  15823.37         0\n",
       "6   57.0   431.64      20.0   3738.90         1\n",
       "7   15.0   132.40       6.0  21911.60         0\n",
       "8    7.0    43.39       3.0   2538.67         1\n",
       "9   90.0   665.41      38.0  17358.61         0"
      ]
     },
     "execution_count": 3,
     "metadata": {},
     "output_type": "execute_result"
    }
   ],
   "source": [
    "#Посмотрим первые 10 строк\n",
    "df.head(10)"
   ]
  },
  {
   "cell_type": "code",
   "execution_count": 4,
   "metadata": {},
   "outputs": [
    {
     "name": "stdout",
     "output_type": "stream",
     "text": [
      "<class 'pandas.core.frame.DataFrame'>\n",
      "RangeIndex: 3214 entries, 0 to 3213\n",
      "Data columns (total 5 columns):\n",
      "calls       3214 non-null float64\n",
      "minutes     3214 non-null float64\n",
      "messages    3214 non-null float64\n",
      "mb_used     3214 non-null float64\n",
      "is_ultra    3214 non-null int64\n",
      "dtypes: float64(4), int64(1)\n",
      "memory usage: 125.7 KB\n"
     ]
    }
   ],
   "source": [
    "#Изучим общую информацию о данных\n",
    "df.info()"
   ]
  },
  {
   "cell_type": "code",
   "execution_count": 5,
   "metadata": {},
   "outputs": [],
   "source": [
    "#Заменим тип данных в столбцах 'messages' и 'calls' на int\n",
    "df['messages'] = df['messages'].astype('int')\n",
    "df['calls'] = df['calls'].astype('int')"
   ]
  },
  {
   "cell_type": "code",
   "execution_count": 6,
   "metadata": {},
   "outputs": [
    {
     "name": "stdout",
     "output_type": "stream",
     "text": [
      "<class 'pandas.core.frame.DataFrame'>\n",
      "RangeIndex: 3214 entries, 0 to 3213\n",
      "Data columns (total 5 columns):\n",
      "calls       3214 non-null int64\n",
      "minutes     3214 non-null float64\n",
      "messages    3214 non-null int64\n",
      "mb_used     3214 non-null float64\n",
      "is_ultra    3214 non-null int64\n",
      "dtypes: float64(2), int64(3)\n",
      "memory usage: 125.7 KB\n"
     ]
    }
   ],
   "source": [
    "#Проверим изменения\n",
    "df.info()"
   ]
  },
  {
   "cell_type": "code",
   "execution_count": 7,
   "metadata": {},
   "outputs": [
    {
     "data": {
      "text/plain": [
       "0"
      ]
     },
     "execution_count": 7,
     "metadata": {},
     "output_type": "execute_result"
    }
   ],
   "source": [
    "#Посмотрим количество дубликатов\n",
    "df.duplicated().sum()"
   ]
  },
  {
   "cell_type": "markdown",
   "metadata": {},
   "source": [
    "### Вывод"
   ]
  },
  {
   "cell_type": "markdown",
   "metadata": {},
   "source": [
    "С данными по большей части всё в порядке, нет пропусков и дубликатов, были только заменены столбцы \"messages\" и \"calls\" на тип \"int\"."
   ]
  },
  {
   "cell_type": "markdown",
   "metadata": {},
   "source": [
    "## Разобьём данные на выборки"
   ]
  },
  {
   "cell_type": "code",
   "execution_count": 8,
   "metadata": {},
   "outputs": [],
   "source": [
    "#Разобьём наши данные на тренировочную, валидационную и тестовую выборки\n",
    "df_train, df_val = train_test_split(df, test_size=0.40, random_state=12345)\n",
    "df_valid, df_test = train_test_split(df_val, test_size=0.50, random_state=12345)"
   ]
  },
  {
   "cell_type": "code",
   "execution_count": 9,
   "metadata": {},
   "outputs": [
    {
     "name": "stdout",
     "output_type": "stream",
     "text": [
      "Размер тренировочной выборки: 1928\n",
      "Размер валидационной выборки: 643\n",
      "Размер тестовой выборки: 643\n"
     ]
    }
   ],
   "source": [
    "#Посмотрим размер каждой выборки\n",
    "print('Размер тренировочной выборки:', df_train.shape[0])\n",
    "print('Размер валидационной выборки:', df_valid.shape[0])\n",
    "print('Размер тестовой выборки:', df_test.shape[0])"
   ]
  },
  {
   "cell_type": "code",
   "execution_count": 10,
   "metadata": {},
   "outputs": [],
   "source": [
    "#Составим признаки для каждой выборки\n",
    "df_train_features = df_train.drop(['is_ultra'], axis=1)\n",
    "df_train_target = df_train['is_ultra']\n",
    "df_valid_features = df_valid.drop(['is_ultra'], axis=1)\n",
    "df_valid_target = df_valid['is_ultra']\n",
    "df_test_features = df_test.drop(['is_ultra'], axis=1)\n",
    "df_test_target = df_test['is_ultra']"
   ]
  },
  {
   "cell_type": "markdown",
   "metadata": {},
   "source": [
    "### Вывод"
   ]
  },
  {
   "cell_type": "markdown",
   "metadata": {},
   "source": [
    "Данные разбили следующим образом:\n",
    "\n",
    "- 60% данных - df_train;\n",
    "- 20% данных - df_valid;\n",
    "- 20% данных - df_test;\n",
    "\n",
    "Обучение будет происходить на данных из df_train\n",
    "\n",
    "Валидация будет происходить на данных из df_valid\n",
    "\n",
    "Лучшая модель по валидации будет применена на данных df_test"
   ]
  },
  {
   "cell_type": "markdown",
   "metadata": {},
   "source": [
    "## Исследуем модели"
   ]
  },
  {
   "cell_type": "code",
   "execution_count": 11,
   "metadata": {},
   "outputs": [
    {
     "name": "stdout",
     "output_type": "stream",
     "text": [
      "Лучшая точность: 0.7853810264385692 Глубина дерева: 3\n"
     ]
    }
   ],
   "source": [
    "#Рассмотрим модель решающего дерева и выберем там наилучшую точность и глубину дерева\n",
    "best_model_DTC = None\n",
    "best_depth = 0\n",
    "best_accuracy_DTC = 0\n",
    "for depth in range(1, 101):\n",
    "    model = DecisionTreeClassifier(random_state=12345, max_depth=depth)\n",
    "    model.fit(df_train_features, df_train_target)\n",
    "    predictions_valid = model.predict(df_valid_features)\n",
    "    accuracy = accuracy_score(df_valid_target, predictions_valid)\n",
    "    if accuracy > best_accuracy_DTC:\n",
    "        best_model_DTC = model\n",
    "        best_accuracy_DTC = accuracy\n",
    "        best_depth = depth\n",
    "print(\"Лучшая точность:\", best_accuracy_DTC, \"Глубина дерева:\", best_depth)"
   ]
  },
  {
   "cell_type": "code",
   "execution_count": 12,
   "metadata": {},
   "outputs": [
    {
     "name": "stdout",
     "output_type": "stream",
     "text": [
      "Лучшая точность: 0.7947122861586314 Количество деревьев: 23\n"
     ]
    }
   ],
   "source": [
    "#Рассмотрим модель случайного леса и выберем там наилучшую точность и количество деревьев\n",
    "best_model_RFC = None\n",
    "best_est = 0\n",
    "best_accuracy_RFC = 0\n",
    "\n",
    "for est in range(1, 101):\n",
    "    model = RandomForestClassifier(random_state=12345, n_estimators=est)\n",
    "    model.fit(df_train_features, df_train_target)\n",
    "    predictions_valid = model.predict(df_valid_features)\n",
    "    accuracy = accuracy_score(df_valid_target, predictions_valid)\n",
    "    if accuracy > best_accuracy_RFC:\n",
    "        best_model_RFC = model\n",
    "        best_accuracy_RFC = accuracy\n",
    "        best_est = est\n",
    "print(\"Лучшая точность:\", best_accuracy_RFC, \"Количество деревьев:\", best_est)  "
   ]
  },
  {
   "cell_type": "code",
   "execution_count": 13,
   "metadata": {},
   "outputs": [
    {
     "name": "stdout",
     "output_type": "stream",
     "text": [
      "Лучшая точность: 0.7589424572317263 Итерация: 1\n"
     ]
    }
   ],
   "source": [
    "##Рассмотрим модель логистической регрессии и выберем там наилучшую точность и итерацию\n",
    "best_model_LR = None\n",
    "best_accuracy_LR = 0\n",
    "best_iteration = 0\n",
    "\n",
    "for iteration in range(1, 101):\n",
    "    model = LogisticRegression(random_state=12345)\n",
    "    model.fit(df_train_features, df_train_target)\n",
    "    predictions_valid = model.predict(df_valid_features)\n",
    "    accuracy = accuracy_score(df_valid_target, predictions_valid)\n",
    "    if accuracy > best_accuracy_LR:\n",
    "        best_model_LR = model\n",
    "        best_accuracy_LR = accuracy\n",
    "        best_iteration = iteration\n",
    "print(\"Лучшая точность:\", best_accuracy_LR, \"Итерация:\", best_iteration)  "
   ]
  },
  {
   "cell_type": "code",
   "execution_count": 14,
   "metadata": {},
   "outputs": [
    {
     "name": "stdout",
     "output_type": "stream",
     "text": [
      "DecisionTreeClassifier: 0.7853810264385692\n",
      "RandomForestClassifier: 0.7947122861586314\n",
      "LogisticRegression: 0.7589424572317263\n"
     ]
    }
   ],
   "source": [
    "#Выпишем все наилучшие точности для каждой модели\n",
    "print('DecisionTreeClassifier:', best_accuracy_DTC)\n",
    "print('RandomForestClassifier:', best_accuracy_RFC)\n",
    "print('LogisticRegression:', best_accuracy_LR)"
   ]
  },
  {
   "cell_type": "markdown",
   "metadata": {},
   "source": [
    "### Вывод"
   ]
  },
  {
   "cell_type": "markdown",
   "metadata": {},
   "source": [
    "Были исследованы модели решающего дерева, случайного леса и логистической регрессии.\n",
    "\n",
    "Для модели решающего дерева:\n",
    "- Лучшая точность: 0.7853810264385692 Глубина дерева: 3\n",
    "\n",
    "Для модели случайного леса:\n",
    "- Лучшая точность: 0.7947122861586314 Количество деревьев: 23\n",
    "\n",
    "Для модели логистической регрессии:\n",
    "- Лучшая точность: 0.7589424572317263 Итерация: 1\n",
    "\n",
    "Наилучшая модель - модель случайного леса."
   ]
  },
  {
   "cell_type": "markdown",
   "metadata": {},
   "source": [
    "## Проверим модель на тестовой выборке"
   ]
  },
  {
   "cell_type": "code",
   "execution_count": 15,
   "metadata": {},
   "outputs": [],
   "source": [
    "#Оценим точность каждой модели на тестовой выборке\n",
    "test_predictions_DTC = best_model_DTC.predict(df_test_features)\n",
    "accuracy_DTC = accuracy_score(df_test_target, test_predictions_DTC)\n",
    "test_predictions_RFC = best_model_RFC.predict(df_test_features)\n",
    "accuracy_RFC = accuracy_score(df_test_target, test_predictions_RFC)\n",
    "test_predictions_LR = best_model_LR.predict(df_test_features)\n",
    "accuracy_LR = accuracy_score(df_test_target, test_predictions_LR)"
   ]
  },
  {
   "cell_type": "code",
   "execution_count": 16,
   "metadata": {},
   "outputs": [
    {
     "name": "stdout",
     "output_type": "stream",
     "text": [
      "Точность модели решающего дерева на тестовой выборке: 0.7791601866251944\n",
      "Точность модели случайного леса на тестовой выборке: 0.7807153965785381\n",
      "Точность модели логистической регресиии на тестовой выборке: 0.7402799377916018\n"
     ]
    }
   ],
   "source": [
    "#Выведем точности каждой модели на экран\n",
    "print('Точность модели решающего дерева на тестовой выборке:', accuracy_DTC)\n",
    "print('Точность модели случайного леса на тестовой выборке:', accuracy_RFC)\n",
    "print('Точность модели логистической регресиии на тестовой выборке:', accuracy_LR)"
   ]
  },
  {
   "cell_type": "markdown",
   "metadata": {},
   "source": [
    "### Вывод"
   ]
  },
  {
   "cell_type": "markdown",
   "metadata": {},
   "source": [
    "Были получены точности для каждой модели:\n",
    "- Точность модели решающего дерева на тестовой выборке: 0.7791601866251944\n",
    "- Точность модели случайного леса на тестовой выборке: 0.7807153965785381\n",
    "- Точность модели логистической регресиии на тестовой выборке: 0.7402799377916018\n",
    "\n",
    "В принципе, для всех моделей, кроме модели логистической регрессии accuracy > 0.75.\n",
    "\n",
    "Если брать разницу между валидационной и тестовой выборкой для модели логистической регрессии, то там разница примерно в ~0.18, можно сделать вывод о слабой переобученности модели.\n",
    "\n",
    "В итоге наилучшая модель на тестовой выборке - модель случайного леса."
   ]
  },
  {
   "cell_type": "markdown",
   "metadata": {},
   "source": [
    "## (бонус) Проверим модели на адекватность"
   ]
  },
  {
   "cell_type": "markdown",
   "metadata": {},
   "source": [
    "Оценить модели на адекватность можно с помощью:\n",
    "\n",
    "- accuracy - точность совпадения прогнозов с правильными ответами.\n",
    "- precision - определяет, как много отрицательных ответов нашла модель, пока искала положительные. Чем больше отрицательных, тем ниже точность. Модель считается хорошей, если точность близка к единице.\n",
    "- recall - Полнота выявляет, какую долю положительных среди всех ответов выделила модель. Полнота — это доля TP-ответов среди всех с истинной меткой «1». Хорошо, когда значение recall близко к единице: модель хорошо ищет положительные объекты. Если ближе к нулю — модель надо перепроверить и починить.\n",
    "- F1-мера - объединение precision и recall.\n",
    "\n",
    "Recall описывает, как хорошо модель разобралась в особенностях этого класса и распознала его. Precision выявляет, не переусердствует ли модель, присваивая положительные метки."
   ]
  },
  {
   "cell_type": "code",
   "execution_count": 17,
   "metadata": {},
   "outputs": [],
   "source": [
    "#Рассчитаем все метрики для модели решающего дерева\n",
    "test_predictions_DTC = best_model_DTC.predict(df_test_features)\n",
    "accuracy_DTC = accuracy_score(df_test_target, test_predictions_DTC)\n",
    "precision_DTC = precision_score(df_test_target, test_predictions_DTC)\n",
    "recall_DTC = recall_score(df_test_target, test_predictions_DTC)\n",
    "f_score_DTC = f1_score(df_test_target, test_predictions_DTC)"
   ]
  },
  {
   "cell_type": "code",
   "execution_count": 18,
   "metadata": {},
   "outputs": [],
   "source": [
    "#Рассчитаем все метрики для модели случайного леса\n",
    "test_predictions_RFC = best_model_RFC.predict(df_test_features)\n",
    "accuracy_RFC = accuracy_score(df_test_target, test_predictions_RFC)\n",
    "precision_RFC = precision_score(df_test_target, test_predictions_RFC)\n",
    "recall_RFC = recall_score(df_test_target, test_predictions_RFC)\n",
    "f_score_RFC = f1_score(df_test_target, test_predictions_RFC)"
   ]
  },
  {
   "cell_type": "code",
   "execution_count": 19,
   "metadata": {},
   "outputs": [],
   "source": [
    "#Рассчитаем все метрики для модели логистической регрессии\n",
    "test_predictions_LR = best_model_LR.predict(df_test_features)\n",
    "accuracy_LR = accuracy_score(df_test_target, test_predictions_LR)\n",
    "precision_LR = precision_score(df_test_target, test_predictions_LR)\n",
    "recall_LR = recall_score(df_test_target, test_predictions_LR)\n",
    "f_score_LR = f1_score(df_test_target, test_predictions_LR)"
   ]
  },
  {
   "cell_type": "code",
   "execution_count": 20,
   "metadata": {},
   "outputs": [
    {
     "name": "stdout",
     "output_type": "stream",
     "text": [
      "Для модели решающего дерева\n",
      "\n",
      "\n",
      "Accuracy_DTC: 0.7791601866251944 Precision_DTC: 0.744 Recall_DTC: 0.458128078817734 F-мера: 0.5670731707317074\n",
      "\n",
      "\n",
      "Для модели случайного леса\n",
      "\n",
      "\n",
      "Accuracy_RFC: 0.7807153965785381 Precision_RFC: 0.6781609195402298 Recall_RFC: 0.5812807881773399 F-мера: 0.6259946949602121\n",
      "\n",
      "\n",
      "Для модели логистической регрессии\n",
      "\n",
      "\n",
      "Accuracy_LR: 0.7402799377916018 Precision_LR: 0.8214285714285714 Recall_LR: 0.22660098522167488 F-мера: 0.3552123552123553\n"
     ]
    }
   ],
   "source": [
    "#Выведем всё на экран\n",
    "print('Для модели решающего дерева')\n",
    "print('\\n')\n",
    "print('Accuracy_DTC:', accuracy_DTC, 'Precision_DTC:', precision_DTC, 'Recall_DTC:', recall_DTC, \"F-мера:\", f_score_DTC)\n",
    "print('\\n')\n",
    "print('Для модели случайного леса')\n",
    "print('\\n')\n",
    "print('Accuracy_RFC:', accuracy_RFC, 'Precision_RFC:', precision_RFC, 'Recall_RFC:', recall_RFC, \"F-мера:\", f_score_RFC)\n",
    "print('\\n')\n",
    "print('Для модели логистической регрессии')\n",
    "print('\\n')\n",
    "print('Accuracy_LR:', accuracy_LR, 'Precision_LR:', precision_LR, 'Recall_LR:', recall_LR, \"F-мера:\", f_score_LR)"
   ]
  },
  {
   "cell_type": "markdown",
   "metadata": {},
   "source": [
    "### Вывод"
   ]
  },
  {
   "cell_type": "markdown",
   "metadata": {},
   "source": [
    "Адекватность модели оценивается с помощью accuracy, precision, recall, F-мера (объединение precision и recall). Наилучшая F-мера у модели случайного леса, как и accuracy с recall, при этом худший показатель precision по сравнению с 2 другими моделами."
   ]
  },
  {
   "cell_type": "markdown",
   "metadata": {},
   "source": [
    "## Общий вывод"
   ]
  },
  {
   "cell_type": "markdown",
   "metadata": {},
   "source": [
    "С данными по большей части всё в порядке, нет пропусков и дубликатов, были только заменены столбцы \"messages\" и \"calls\" на тип \"int\".\n",
    "\n",
    "Данные разбили следующим образом:\n",
    "\n",
    "60% данных - df_train;\n",
    "20% данных - df_valid;\n",
    "20% данных - df_test;\n",
    "\n",
    "Были исследованы модели решающего дерева, случайного леса и логистической регрессии.\n",
    "\n",
    "Для модели решающего дерева:\n",
    "\n",
    "Лучшая точность: 0.7853810264385692 Глубина дерева: 3\n",
    "\n",
    "Для модели случайного леса:\n",
    "\n",
    "Лучшая точность: 0.7947122861586314 Количество деревьев: 23\n",
    "\n",
    "Для модели логистической регрессии:\n",
    "\n",
    "Лучшая точность: 0.7589424572317263 Итерация: 1\n",
    "\n",
    "Были получены точности для каждой модели:\n",
    "\n",
    "- Точность модели решающего дерева на тестовой выборке: 0.7791601866251944\n",
    "- Точность модели случайного леса на тестовой выборке: 0.7807153965785381\n",
    "- Точность модели логистической регресиии на тестовой выборке: 0.7402799377916018\n",
    "\n",
    "В принципе, для всех моделей, кроме модели логистической регрессии accuracy > 0.75.\n",
    "\n",
    "Если брать разницу между валидационной и тестовой выборкой для модели логистической регрессии, то там разница примерно в ~0.18, можно сделать вывод о слабой переобученности модели.\n",
    "\n",
    "Адекватность модели оценивается с помощью accuracy, precision, recall, F-мера (объединение precision и recall). Наилучшая F-мера у модели случайного леса, как и accuracy с recall, при этом худший показатель precision по сравнению с 2 другими моделами.\n",
    "\n",
    "В целом можно сказать, что наилучшая модель из всех - это модель случайного леса, хотя она и самая медленная по скорости выполнения по сравнению с другими моделями.\n"
   ]
  }
 ],
 "metadata": {
  "ExecuteTimeLog": [
   {
    "duration": 1124,
    "start_time": "2022-03-12T10:56:53.379Z"
   },
   {
    "duration": 14,
    "start_time": "2022-03-12T10:57:29.463Z"
   },
   {
    "duration": 8,
    "start_time": "2022-03-12T10:58:04.086Z"
   },
   {
    "duration": 11,
    "start_time": "2022-03-12T10:58:12.194Z"
   },
   {
    "duration": 6,
    "start_time": "2022-03-12T10:58:19.823Z"
   },
   {
    "duration": 4,
    "start_time": "2022-03-12T10:58:41.133Z"
   },
   {
    "duration": 319,
    "start_time": "2022-03-12T10:58:49.029Z"
   },
   {
    "duration": 240,
    "start_time": "2022-03-12T10:58:59.357Z"
   },
   {
    "duration": 291,
    "start_time": "2022-03-12T10:59:18.198Z"
   },
   {
    "duration": 6,
    "start_time": "2022-03-12T10:59:31.750Z"
   },
   {
    "duration": 5,
    "start_time": "2022-03-12T11:00:52.196Z"
   },
   {
    "duration": 7,
    "start_time": "2022-03-12T11:01:01.140Z"
   },
   {
    "duration": 13,
    "start_time": "2022-03-12T11:11:24.970Z"
   },
   {
    "duration": 9,
    "start_time": "2022-03-12T11:11:45.066Z"
   },
   {
    "duration": 13,
    "start_time": "2022-03-12T11:12:07.491Z"
   },
   {
    "duration": 6,
    "start_time": "2022-03-12T11:12:30.580Z"
   },
   {
    "duration": 7,
    "start_time": "2022-03-12T11:12:34.299Z"
   },
   {
    "duration": 7,
    "start_time": "2022-03-12T11:12:40.595Z"
   },
   {
    "duration": 6,
    "start_time": "2022-03-12T11:12:52.963Z"
   },
   {
    "duration": 3,
    "start_time": "2022-03-12T11:19:47.367Z"
   },
   {
    "duration": 1129,
    "start_time": "2022-03-12T11:34:51.374Z"
   },
   {
    "duration": 18,
    "start_time": "2022-03-12T11:34:52.505Z"
   },
   {
    "duration": 11,
    "start_time": "2022-03-12T11:34:52.525Z"
   },
   {
    "duration": 8,
    "start_time": "2022-03-12T11:34:54.718Z"
   },
   {
    "duration": 5,
    "start_time": "2022-03-12T11:34:55.174Z"
   },
   {
    "duration": 6,
    "start_time": "2022-03-12T11:34:55.648Z"
   },
   {
    "duration": 6,
    "start_time": "2022-03-12T11:34:57.542Z"
   },
   {
    "duration": 319,
    "start_time": "2022-03-12T11:39:26.721Z"
   },
   {
    "duration": 7,
    "start_time": "2022-03-12T11:39:29.555Z"
   },
   {
    "duration": 6,
    "start_time": "2022-03-12T11:39:31.724Z"
   },
   {
    "duration": 7,
    "start_time": "2022-03-12T11:57:30.624Z"
   },
   {
    "duration": 225,
    "start_time": "2022-03-12T11:57:33.168Z"
   },
   {
    "duration": 237,
    "start_time": "2022-03-12T11:57:54.220Z"
   },
   {
    "duration": 1077,
    "start_time": "2022-03-12T11:58:17.320Z"
   },
   {
    "duration": 233,
    "start_time": "2022-03-12T12:00:54.610Z"
   },
   {
    "duration": 282,
    "start_time": "2022-03-12T12:01:05.299Z"
   },
   {
    "duration": 18138,
    "start_time": "2022-03-12T12:01:11.117Z"
   },
   {
    "duration": 242,
    "start_time": "2022-03-12T12:08:52.920Z"
   },
   {
    "duration": 893,
    "start_time": "2022-03-12T12:09:00.132Z"
   },
   {
    "duration": 4,
    "start_time": "2022-03-12T12:09:33.296Z"
   },
   {
    "duration": 811,
    "start_time": "2022-03-12T12:09:37.370Z"
   },
   {
    "duration": 429,
    "start_time": "2022-03-12T12:25:12.948Z"
   },
   {
    "duration": 834,
    "start_time": "2022-03-12T12:25:18.916Z"
   },
   {
    "duration": 854,
    "start_time": "2022-03-12T12:27:57.625Z"
   },
   {
    "duration": 19046,
    "start_time": "2022-03-12T12:27:59.676Z"
   },
   {
    "duration": 1024,
    "start_time": "2022-03-12T12:28:23.043Z"
   },
   {
    "duration": 804,
    "start_time": "2022-03-12T12:28:36.643Z"
   },
   {
    "duration": 225,
    "start_time": "2022-03-12T12:29:26.978Z"
   },
   {
    "duration": 5,
    "start_time": "2022-03-12T12:29:34.610Z"
   },
   {
    "duration": 862,
    "start_time": "2022-03-12T12:53:44.183Z"
   },
   {
    "duration": 19372,
    "start_time": "2022-03-12T12:53:46.018Z"
   },
   {
    "duration": 770,
    "start_time": "2022-03-12T12:54:32.618Z"
   },
   {
    "duration": 4,
    "start_time": "2022-03-12T12:54:34.153Z"
   },
   {
    "duration": 16,
    "start_time": "2022-03-12T12:56:28.460Z"
   },
   {
    "duration": 4,
    "start_time": "2022-03-12T12:56:30.304Z"
   },
   {
    "duration": 5,
    "start_time": "2022-03-12T13:11:03.051Z"
   },
   {
    "duration": 4,
    "start_time": "2022-03-12T13:12:48.407Z"
   },
   {
    "duration": 9,
    "start_time": "2022-03-12T13:15:51.128Z"
   },
   {
    "duration": 12,
    "start_time": "2022-03-12T13:15:52.739Z"
   },
   {
    "duration": 237,
    "start_time": "2022-03-12T13:15:56.435Z"
   },
   {
    "duration": 236,
    "start_time": "2022-03-12T13:16:38.927Z"
   },
   {
    "duration": 81,
    "start_time": "2022-03-12T13:16:44.803Z"
   },
   {
    "duration": 238,
    "start_time": "2022-03-12T13:17:13.971Z"
   },
   {
    "duration": 231,
    "start_time": "2022-03-12T13:17:23.611Z"
   },
   {
    "duration": 365,
    "start_time": "2022-03-12T13:17:53.546Z"
   },
   {
    "duration": 279,
    "start_time": "2022-03-12T13:23:48.605Z"
   },
   {
    "duration": 8,
    "start_time": "2022-03-12T13:24:00.616Z"
   },
   {
    "duration": 237,
    "start_time": "2022-03-12T13:24:02.797Z"
   },
   {
    "duration": 9,
    "start_time": "2022-03-12T13:24:16.781Z"
   },
   {
    "duration": 8,
    "start_time": "2022-03-12T13:24:18.516Z"
   },
   {
    "duration": 1068,
    "start_time": "2022-03-12T13:40:21.531Z"
   },
   {
    "duration": 15,
    "start_time": "2022-03-12T13:40:23.303Z"
   },
   {
    "duration": 21,
    "start_time": "2022-03-12T13:40:24.111Z"
   },
   {
    "duration": 7,
    "start_time": "2022-03-12T13:40:24.622Z"
   },
   {
    "duration": 4,
    "start_time": "2022-03-12T13:40:25.335Z"
   },
   {
    "duration": 7,
    "start_time": "2022-03-12T13:40:25.887Z"
   },
   {
    "duration": 7,
    "start_time": "2022-03-12T13:40:26.359Z"
   },
   {
    "duration": 7,
    "start_time": "2022-03-12T13:40:27.967Z"
   },
   {
    "duration": 5,
    "start_time": "2022-03-12T13:40:28.607Z"
   },
   {
    "duration": 7,
    "start_time": "2022-03-12T13:40:29.254Z"
   },
   {
    "duration": 834,
    "start_time": "2022-03-12T13:40:31.110Z"
   },
   {
    "duration": 17857,
    "start_time": "2022-03-12T13:40:32.438Z"
   },
   {
    "duration": 763,
    "start_time": "2022-03-12T13:40:52.270Z"
   },
   {
    "duration": 4,
    "start_time": "2022-03-12T13:40:53.688Z"
   },
   {
    "duration": 11,
    "start_time": "2022-03-12T13:40:59.159Z"
   },
   {
    "duration": 3,
    "start_time": "2022-03-12T13:40:59.783Z"
   },
   {
    "duration": 8,
    "start_time": "2022-03-12T13:41:01.959Z"
   },
   {
    "duration": 14,
    "start_time": "2022-03-12T13:41:02.518Z"
   },
   {
    "duration": 9,
    "start_time": "2022-03-12T13:41:03.014Z"
   },
   {
    "duration": 9,
    "start_time": "2022-03-12T13:41:03.559Z"
   }
  ],
  "kernelspec": {
   "display_name": "Python 3 (ipykernel)",
   "language": "python",
   "name": "python3"
  },
  "language_info": {
   "codemirror_mode": {
    "name": "ipython",
    "version": 3
   },
   "file_extension": ".py",
   "mimetype": "text/x-python",
   "name": "python",
   "nbconvert_exporter": "python",
   "pygments_lexer": "ipython3",
   "version": "3.9.12"
  },
  "toc": {
   "base_numbering": 1,
   "nav_menu": {},
   "number_sections": true,
   "sideBar": true,
   "skip_h1_title": true,
   "title_cell": "Table of Contents",
   "title_sidebar": "Contents",
   "toc_cell": false,
   "toc_position": {},
   "toc_section_display": true,
   "toc_window_display": false
  }
 },
 "nbformat": 4,
 "nbformat_minor": 2
}
