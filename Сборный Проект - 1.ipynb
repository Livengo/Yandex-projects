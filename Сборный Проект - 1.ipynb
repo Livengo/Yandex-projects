{
 "cells": [
  {
   "cell_type": "markdown",
   "metadata": {},
   "source": [
    "# Описание проекта\n",
    "\n",
    "Вы работаете в интернет-магазине «Стримчик», который продаёт по всему миру компьютерные игры. Из открытых источников доступны исторические данные о продажах игр, оценки пользователей и экспертов, жанры и платформы (например, Xbox или PlayStation). Вам нужно выявить определяющие успешность игры закономерности. Это позволит сделать ставку на потенциально популярный продукт и спланировать рекламные кампании.\n",
    "Перед вами данные до 2016 года. Представим, что сейчас декабрь 2016 г., и вы планируете кампанию на 2017-й. Нужно отработать принцип работы с данными. Неважно, прогнозируете ли вы продажи на 2017 год по данным 2016-го или же 2027-й — по данным 2026 года.\n",
    "В наборе данных попадается аббревиатура ESRB (Entertainment Software Rating Board) — это ассоциация, определяющая возрастной рейтинг компьютерных игр. ESRB оценивает игровой контент и присваивает ему подходящую возрастную категорию, например, «Для взрослых», «Для детей младшего возраста» или «Для подростков»."
   ]
  },
  {
   "cell_type": "markdown",
   "metadata": {},
   "source": [
    "# Описание данных\n",
    "- Name — название игры\n",
    "- Platform — платформа\n",
    "- Year_of_Release — год выпуска\n",
    "- Genre — жанр игры\n",
    "- NA_sales — продажи в Северной Америке (миллионы проданных копий)\n",
    "- EU_sales — продажи в Европе (миллионы проданных копий)\n",
    "- JP_sales — продажи в Японии (миллионы проданных копий)\n",
    "- Other_sales — продажи в других странах (миллионы проданных копий)\n",
    "- Critic_Score — оценка критиков (максимум 100)\n",
    "- User_Score — оценка пользователей (максимум 10)\n",
    "- Rating — рейтинг от организации ESRB (англ. Entertainment Software Rating Board). Эта ассоциация определяет рейтинг компьютерных игр и присваивает им подходящую возрастную категорию.\n",
    "\n",
    "Данные за 2016 год могут быть неполными."
   ]
  },
  {
   "cell_type": "markdown",
   "metadata": {},
   "source": [
    "## Откроем файл с данными и изучим общую информацию"
   ]
  },
  {
   "cell_type": "code",
   "execution_count": 1,
   "metadata": {},
   "outputs": [],
   "source": [
    "#Импортируем необходимые библиотеки для проекта\n",
    "import pandas as pd \n",
    "import matplotlib.pyplot as plt\n",
    "import seaborn as sns\n",
    "import numpy as np\n",
    "from scipy import stats as st"
   ]
  },
  {
   "cell_type": "code",
   "execution_count": 2,
   "metadata": {},
   "outputs": [],
   "source": [
    "#Откроем файл\n",
    "df = pd.read_csv('/datasets/games.csv')"
   ]
  },
  {
   "cell_type": "code",
   "execution_count": 3,
   "metadata": {},
   "outputs": [
    {
     "data": {
      "text/html": [
       "<div>\n",
       "<style scoped>\n",
       "    .dataframe tbody tr th:only-of-type {\n",
       "        vertical-align: middle;\n",
       "    }\n",
       "\n",
       "    .dataframe tbody tr th {\n",
       "        vertical-align: top;\n",
       "    }\n",
       "\n",
       "    .dataframe thead th {\n",
       "        text-align: right;\n",
       "    }\n",
       "</style>\n",
       "<table border=\"1\" class=\"dataframe\">\n",
       "  <thead>\n",
       "    <tr style=\"text-align: right;\">\n",
       "      <th></th>\n",
       "      <th>Name</th>\n",
       "      <th>Platform</th>\n",
       "      <th>Year_of_Release</th>\n",
       "      <th>Genre</th>\n",
       "      <th>NA_sales</th>\n",
       "      <th>EU_sales</th>\n",
       "      <th>JP_sales</th>\n",
       "      <th>Other_sales</th>\n",
       "      <th>Critic_Score</th>\n",
       "      <th>User_Score</th>\n",
       "      <th>Rating</th>\n",
       "    </tr>\n",
       "  </thead>\n",
       "  <tbody>\n",
       "    <tr>\n",
       "      <td>0</td>\n",
       "      <td>Wii Sports</td>\n",
       "      <td>Wii</td>\n",
       "      <td>2006.0</td>\n",
       "      <td>Sports</td>\n",
       "      <td>41.36</td>\n",
       "      <td>28.96</td>\n",
       "      <td>3.77</td>\n",
       "      <td>8.45</td>\n",
       "      <td>76.0</td>\n",
       "      <td>8</td>\n",
       "      <td>E</td>\n",
       "    </tr>\n",
       "    <tr>\n",
       "      <td>1</td>\n",
       "      <td>Super Mario Bros.</td>\n",
       "      <td>NES</td>\n",
       "      <td>1985.0</td>\n",
       "      <td>Platform</td>\n",
       "      <td>29.08</td>\n",
       "      <td>3.58</td>\n",
       "      <td>6.81</td>\n",
       "      <td>0.77</td>\n",
       "      <td>NaN</td>\n",
       "      <td>NaN</td>\n",
       "      <td>NaN</td>\n",
       "    </tr>\n",
       "    <tr>\n",
       "      <td>2</td>\n",
       "      <td>Mario Kart Wii</td>\n",
       "      <td>Wii</td>\n",
       "      <td>2008.0</td>\n",
       "      <td>Racing</td>\n",
       "      <td>15.68</td>\n",
       "      <td>12.76</td>\n",
       "      <td>3.79</td>\n",
       "      <td>3.29</td>\n",
       "      <td>82.0</td>\n",
       "      <td>8.3</td>\n",
       "      <td>E</td>\n",
       "    </tr>\n",
       "    <tr>\n",
       "      <td>3</td>\n",
       "      <td>Wii Sports Resort</td>\n",
       "      <td>Wii</td>\n",
       "      <td>2009.0</td>\n",
       "      <td>Sports</td>\n",
       "      <td>15.61</td>\n",
       "      <td>10.93</td>\n",
       "      <td>3.28</td>\n",
       "      <td>2.95</td>\n",
       "      <td>80.0</td>\n",
       "      <td>8</td>\n",
       "      <td>E</td>\n",
       "    </tr>\n",
       "    <tr>\n",
       "      <td>4</td>\n",
       "      <td>Pokemon Red/Pokemon Blue</td>\n",
       "      <td>GB</td>\n",
       "      <td>1996.0</td>\n",
       "      <td>Role-Playing</td>\n",
       "      <td>11.27</td>\n",
       "      <td>8.89</td>\n",
       "      <td>10.22</td>\n",
       "      <td>1.00</td>\n",
       "      <td>NaN</td>\n",
       "      <td>NaN</td>\n",
       "      <td>NaN</td>\n",
       "    </tr>\n",
       "    <tr>\n",
       "      <td>5</td>\n",
       "      <td>Tetris</td>\n",
       "      <td>GB</td>\n",
       "      <td>1989.0</td>\n",
       "      <td>Puzzle</td>\n",
       "      <td>23.20</td>\n",
       "      <td>2.26</td>\n",
       "      <td>4.22</td>\n",
       "      <td>0.58</td>\n",
       "      <td>NaN</td>\n",
       "      <td>NaN</td>\n",
       "      <td>NaN</td>\n",
       "    </tr>\n",
       "    <tr>\n",
       "      <td>6</td>\n",
       "      <td>New Super Mario Bros.</td>\n",
       "      <td>DS</td>\n",
       "      <td>2006.0</td>\n",
       "      <td>Platform</td>\n",
       "      <td>11.28</td>\n",
       "      <td>9.14</td>\n",
       "      <td>6.50</td>\n",
       "      <td>2.88</td>\n",
       "      <td>89.0</td>\n",
       "      <td>8.5</td>\n",
       "      <td>E</td>\n",
       "    </tr>\n",
       "    <tr>\n",
       "      <td>7</td>\n",
       "      <td>Wii Play</td>\n",
       "      <td>Wii</td>\n",
       "      <td>2006.0</td>\n",
       "      <td>Misc</td>\n",
       "      <td>13.96</td>\n",
       "      <td>9.18</td>\n",
       "      <td>2.93</td>\n",
       "      <td>2.84</td>\n",
       "      <td>58.0</td>\n",
       "      <td>6.6</td>\n",
       "      <td>E</td>\n",
       "    </tr>\n",
       "    <tr>\n",
       "      <td>8</td>\n",
       "      <td>New Super Mario Bros. Wii</td>\n",
       "      <td>Wii</td>\n",
       "      <td>2009.0</td>\n",
       "      <td>Platform</td>\n",
       "      <td>14.44</td>\n",
       "      <td>6.94</td>\n",
       "      <td>4.70</td>\n",
       "      <td>2.24</td>\n",
       "      <td>87.0</td>\n",
       "      <td>8.4</td>\n",
       "      <td>E</td>\n",
       "    </tr>\n",
       "    <tr>\n",
       "      <td>9</td>\n",
       "      <td>Duck Hunt</td>\n",
       "      <td>NES</td>\n",
       "      <td>1984.0</td>\n",
       "      <td>Shooter</td>\n",
       "      <td>26.93</td>\n",
       "      <td>0.63</td>\n",
       "      <td>0.28</td>\n",
       "      <td>0.47</td>\n",
       "      <td>NaN</td>\n",
       "      <td>NaN</td>\n",
       "      <td>NaN</td>\n",
       "    </tr>\n",
       "  </tbody>\n",
       "</table>\n",
       "</div>"
      ],
      "text/plain": [
       "                        Name Platform  Year_of_Release         Genre  \\\n",
       "0                 Wii Sports      Wii           2006.0        Sports   \n",
       "1          Super Mario Bros.      NES           1985.0      Platform   \n",
       "2             Mario Kart Wii      Wii           2008.0        Racing   \n",
       "3          Wii Sports Resort      Wii           2009.0        Sports   \n",
       "4   Pokemon Red/Pokemon Blue       GB           1996.0  Role-Playing   \n",
       "5                     Tetris       GB           1989.0        Puzzle   \n",
       "6      New Super Mario Bros.       DS           2006.0      Platform   \n",
       "7                   Wii Play      Wii           2006.0          Misc   \n",
       "8  New Super Mario Bros. Wii      Wii           2009.0      Platform   \n",
       "9                  Duck Hunt      NES           1984.0       Shooter   \n",
       "\n",
       "   NA_sales  EU_sales  JP_sales  Other_sales  Critic_Score User_Score Rating  \n",
       "0     41.36     28.96      3.77         8.45          76.0          8      E  \n",
       "1     29.08      3.58      6.81         0.77           NaN        NaN    NaN  \n",
       "2     15.68     12.76      3.79         3.29          82.0        8.3      E  \n",
       "3     15.61     10.93      3.28         2.95          80.0          8      E  \n",
       "4     11.27      8.89     10.22         1.00           NaN        NaN    NaN  \n",
       "5     23.20      2.26      4.22         0.58           NaN        NaN    NaN  \n",
       "6     11.28      9.14      6.50         2.88          89.0        8.5      E  \n",
       "7     13.96      9.18      2.93         2.84          58.0        6.6      E  \n",
       "8     14.44      6.94      4.70         2.24          87.0        8.4      E  \n",
       "9     26.93      0.63      0.28         0.47           NaN        NaN    NaN  "
      ]
     },
     "execution_count": 3,
     "metadata": {},
     "output_type": "execute_result"
    }
   ],
   "source": [
    "#Изучим строки в файле\n",
    "df.head(10)"
   ]
  },
  {
   "cell_type": "code",
   "execution_count": 4,
   "metadata": {},
   "outputs": [
    {
     "name": "stdout",
     "output_type": "stream",
     "text": [
      "<class 'pandas.core.frame.DataFrame'>\n",
      "RangeIndex: 16715 entries, 0 to 16714\n",
      "Data columns (total 11 columns):\n",
      "Name               16713 non-null object\n",
      "Platform           16715 non-null object\n",
      "Year_of_Release    16446 non-null float64\n",
      "Genre              16713 non-null object\n",
      "NA_sales           16715 non-null float64\n",
      "EU_sales           16715 non-null float64\n",
      "JP_sales           16715 non-null float64\n",
      "Other_sales        16715 non-null float64\n",
      "Critic_Score       8137 non-null float64\n",
      "User_Score         10014 non-null object\n",
      "Rating             9949 non-null object\n",
      "dtypes: float64(6), object(5)\n",
      "memory usage: 1.4+ MB\n"
     ]
    }
   ],
   "source": [
    "#Посмотрим информацию в файле, какой тип данных у столбцов и общее количество строк\n",
    "df.info()"
   ]
  },
  {
   "cell_type": "markdown",
   "metadata": {},
   "source": [
    "### Вывод"
   ]
  },
  {
   "cell_type": "markdown",
   "metadata": {},
   "source": [
    "Был открыт и изучен файл с данными. С первого взгляда можно заметить, что в некоторых столбцах есть пропуски, также все названия столбцов необходимо будет привести к нижнему регистру. В следующем пункте можно подробнее изучить пропуски в каждом столбце (заполнить по возможности), посмотреть количество дубликатов, а также заменить тип данных."
   ]
  },
  {
   "cell_type": "markdown",
   "metadata": {},
   "source": [
    "## Подготовим данные"
   ]
  },
  {
   "cell_type": "code",
   "execution_count": 5,
   "metadata": {},
   "outputs": [
    {
     "data": {
      "text/plain": [
       "Index(['name', 'platform', 'year_of_release', 'genre', 'na_sales', 'eu_sales',\n",
       "       'jp_sales', 'other_sales', 'critic_score', 'user_score', 'rating'],\n",
       "      dtype='object')"
      ]
     },
     "execution_count": 5,
     "metadata": {},
     "output_type": "execute_result"
    }
   ],
   "source": [
    "#Приведём к нижнему регистру названия столбцов\n",
    "df.columns = df.columns.str.lower()\n",
    "df.columns"
   ]
  },
  {
   "cell_type": "code",
   "execution_count": 6,
   "metadata": {},
   "outputs": [],
   "source": [
    "#Преобразуем данные в столбцах year_of_release в тип Int64\n",
    "df['year_of_release'] = df['year_of_release'].astype('Int64')"
   ]
  },
  {
   "cell_type": "code",
   "execution_count": 7,
   "metadata": {},
   "outputs": [
    {
     "name": "stdout",
     "output_type": "stream",
     "text": [
      "<class 'pandas.core.frame.DataFrame'>\n",
      "RangeIndex: 16715 entries, 0 to 16714\n",
      "Data columns (total 11 columns):\n",
      "name               16713 non-null object\n",
      "platform           16715 non-null object\n",
      "year_of_release    16446 non-null Int64\n",
      "genre              16713 non-null object\n",
      "na_sales           16715 non-null float64\n",
      "eu_sales           16715 non-null float64\n",
      "jp_sales           16715 non-null float64\n",
      "other_sales        16715 non-null float64\n",
      "critic_score       8137 non-null float64\n",
      "user_score         10014 non-null object\n",
      "rating             9949 non-null object\n",
      "dtypes: Int64(1), float64(5), object(5)\n",
      "memory usage: 1.4+ MB\n"
     ]
    }
   ],
   "source": [
    "df.info()"
   ]
  },
  {
   "cell_type": "code",
   "execution_count": 8,
   "metadata": {},
   "outputs": [
    {
     "data": {
      "text/plain": [
       "name                  2\n",
       "platform              0\n",
       "year_of_release     269\n",
       "genre                 2\n",
       "na_sales              0\n",
       "eu_sales              0\n",
       "jp_sales              0\n",
       "other_sales           0\n",
       "critic_score       8578\n",
       "user_score         6701\n",
       "rating             6766\n",
       "dtype: int64"
      ]
     },
     "execution_count": 8,
     "metadata": {},
     "output_type": "execute_result"
    }
   ],
   "source": [
    "#Посмотрим, в каких столбцах сколько у нас пропусков\n",
    "df.isna().sum()"
   ]
  },
  {
   "cell_type": "code",
   "execution_count": 9,
   "metadata": {},
   "outputs": [
    {
     "data": {
      "text/html": [
       "<div>\n",
       "<style scoped>\n",
       "    .dataframe tbody tr th:only-of-type {\n",
       "        vertical-align: middle;\n",
       "    }\n",
       "\n",
       "    .dataframe tbody tr th {\n",
       "        vertical-align: top;\n",
       "    }\n",
       "\n",
       "    .dataframe thead th {\n",
       "        text-align: right;\n",
       "    }\n",
       "</style>\n",
       "<table border=\"1\" class=\"dataframe\">\n",
       "  <thead>\n",
       "    <tr style=\"text-align: right;\">\n",
       "      <th></th>\n",
       "      <th>name</th>\n",
       "      <th>platform</th>\n",
       "      <th>year_of_release</th>\n",
       "      <th>genre</th>\n",
       "      <th>na_sales</th>\n",
       "      <th>eu_sales</th>\n",
       "      <th>jp_sales</th>\n",
       "      <th>other_sales</th>\n",
       "      <th>critic_score</th>\n",
       "      <th>user_score</th>\n",
       "      <th>rating</th>\n",
       "    </tr>\n",
       "  </thead>\n",
       "  <tbody>\n",
       "    <tr>\n",
       "      <td>659</td>\n",
       "      <td>NaN</td>\n",
       "      <td>GEN</td>\n",
       "      <td>1993</td>\n",
       "      <td>NaN</td>\n",
       "      <td>1.78</td>\n",
       "      <td>0.53</td>\n",
       "      <td>0.00</td>\n",
       "      <td>0.08</td>\n",
       "      <td>NaN</td>\n",
       "      <td>NaN</td>\n",
       "      <td>NaN</td>\n",
       "    </tr>\n",
       "    <tr>\n",
       "      <td>14244</td>\n",
       "      <td>NaN</td>\n",
       "      <td>GEN</td>\n",
       "      <td>1993</td>\n",
       "      <td>NaN</td>\n",
       "      <td>0.00</td>\n",
       "      <td>0.00</td>\n",
       "      <td>0.03</td>\n",
       "      <td>0.00</td>\n",
       "      <td>NaN</td>\n",
       "      <td>NaN</td>\n",
       "      <td>NaN</td>\n",
       "    </tr>\n",
       "  </tbody>\n",
       "</table>\n",
       "</div>"
      ],
      "text/plain": [
       "      name platform  year_of_release genre  na_sales  eu_sales  jp_sales  \\\n",
       "659    NaN      GEN             1993   NaN      1.78      0.53      0.00   \n",
       "14244  NaN      GEN             1993   NaN      0.00      0.00      0.03   \n",
       "\n",
       "       other_sales  critic_score user_score rating  \n",
       "659           0.08           NaN        NaN    NaN  \n",
       "14244         0.00           NaN        NaN    NaN  "
      ]
     },
     "execution_count": 9,
     "metadata": {},
     "output_type": "execute_result"
    }
   ],
   "source": [
    "#Посмотрим пропуски для жанра\n",
    "df[df['genre'].isna()]"
   ]
  },
  {
   "cell_type": "code",
   "execution_count": 10,
   "metadata": {},
   "outputs": [],
   "source": [
    "#Для столбца year_of_release напишем цикл, который заполнит год по названию игры с других платформ, если она на них имеется\n",
    "for i in df[df['year_of_release'].isna() == True].index:  \n",
    "    df['year_of_release'][i] = df.loc[df['name'] == df['name'][i], 'year_of_release'].max()"
   ]
  },
  {
   "cell_type": "code",
   "execution_count": 11,
   "metadata": {},
   "outputs": [
    {
     "data": {
      "text/plain": [
       "146"
      ]
     },
     "execution_count": 11,
     "metadata": {},
     "output_type": "execute_result"
    }
   ],
   "source": [
    "#Посмотрим, сколько осталось пропусков в столбце year_of_release\n",
    "df['year_of_release'].isna().sum()"
   ]
  },
  {
   "cell_type": "code",
   "execution_count": 12,
   "metadata": {},
   "outputs": [
    {
     "data": {
      "text/plain": [
       "PS2     2161\n",
       "DS      2151\n",
       "PS3     1331\n",
       "Wii     1320\n",
       "X360    1262\n",
       "PSP     1209\n",
       "PS      1197\n",
       "PC       974\n",
       "XB       824\n",
       "GBA      822\n",
       "GC       556\n",
       "3DS      520\n",
       "PSV      430\n",
       "PS4      392\n",
       "N64      319\n",
       "XOne     247\n",
       "SNES     239\n",
       "SAT      173\n",
       "WiiU     147\n",
       "2600     133\n",
       "NES       98\n",
       "GB        98\n",
       "DC        52\n",
       "GEN       29\n",
       "NG        12\n",
       "WS         6\n",
       "SCD        6\n",
       "3DO        3\n",
       "TG16       2\n",
       "PCFX       1\n",
       "GG         1\n",
       "Name: platform, dtype: int64"
      ]
     },
     "execution_count": 12,
     "metadata": {},
     "output_type": "execute_result"
    }
   ],
   "source": [
    "#Изучим значения столбца platform\n",
    "df['platform'].value_counts()"
   ]
  },
  {
   "cell_type": "code",
   "execution_count": 13,
   "metadata": {},
   "outputs": [
    {
     "data": {
      "text/plain": [
       "Action          3369\n",
       "Sports          2348\n",
       "Misc            1750\n",
       "Role-Playing    1498\n",
       "Shooter         1323\n",
       "Adventure       1303\n",
       "Racing          1249\n",
       "Platform         888\n",
       "Simulation       873\n",
       "Fighting         849\n",
       "Strategy         683\n",
       "Puzzle           580\n",
       "Name: genre, dtype: int64"
      ]
     },
     "execution_count": 13,
     "metadata": {},
     "output_type": "execute_result"
    }
   ],
   "source": [
    "#Изучим значения столбца genre\n",
    "df['genre'].value_counts()"
   ]
  },
  {
   "cell_type": "code",
   "execution_count": 14,
   "metadata": {},
   "outputs": [
    {
     "data": {
      "text/plain": [
       "E       3990\n",
       "T       2961\n",
       "M       1563\n",
       "E10+    1420\n",
       "EC         8\n",
       "RP         3\n",
       "K-A        3\n",
       "AO         1\n",
       "Name: rating, dtype: int64"
      ]
     },
     "execution_count": 14,
     "metadata": {},
     "output_type": "execute_result"
    }
   ],
   "source": [
    "#Изучим значения столбца rating\n",
    "df['rating'].value_counts()"
   ]
  },
  {
   "cell_type": "code",
   "execution_count": 15,
   "metadata": {},
   "outputs": [
    {
     "data": {
      "text/plain": [
       "tbd    2424\n",
       "7.8     324\n",
       "8       290\n",
       "8.2     282\n",
       "8.3     254\n",
       "       ... \n",
       "0.3       2\n",
       "1         2\n",
       "1.5       2\n",
       "9.7       1\n",
       "0         1\n",
       "Name: user_score, Length: 96, dtype: int64"
      ]
     },
     "execution_count": 15,
     "metadata": {},
     "output_type": "execute_result"
    }
   ],
   "source": [
    "#Изучим значения столбца user_score\n",
    "df['user_score'].value_counts()"
   ]
  },
  {
   "cell_type": "code",
   "execution_count": 16,
   "metadata": {},
   "outputs": [
    {
     "data": {
      "text/plain": [
       "2008    1440\n",
       "2009    1431\n",
       "2010    1271\n",
       "2007    1202\n",
       "2011    1153\n",
       "2006    1020\n",
       "2005     947\n",
       "2002     845\n",
       "2003     785\n",
       "2004     765\n",
       "2012     662\n",
       "2015     606\n",
       "2014     582\n",
       "2013     547\n",
       "2016     502\n",
       "2001     484\n",
       "1998     379\n",
       "2000     350\n",
       "1999     339\n",
       "1997     289\n",
       "1996     263\n",
       "1995     219\n",
       "1994     121\n",
       "1993      62\n",
       "1981      46\n",
       "1992      43\n",
       "1991      41\n",
       "1982      36\n",
       "1986      21\n",
       "1983      17\n",
       "1989      17\n",
       "1987      16\n",
       "1990      16\n",
       "1988      15\n",
       "1984      14\n",
       "1985      14\n",
       "1980       9\n",
       "Name: year_of_release, dtype: int64"
      ]
     },
     "execution_count": 16,
     "metadata": {},
     "output_type": "execute_result"
    }
   ],
   "source": [
    "df['year_of_release'].value_counts()"
   ]
  },
  {
   "cell_type": "code",
   "execution_count": 17,
   "metadata": {},
   "outputs": [],
   "source": [
    "#tbd - to be determined, to be done, это означает, что данные не заполнили специально, поэтому их можно заменить на Nan\n",
    "df.loc[df['user_score'] == 'tbd', 'user_score'] = np.nan"
   ]
  },
  {
   "cell_type": "code",
   "execution_count": 18,
   "metadata": {},
   "outputs": [
    {
     "data": {
      "text/plain": [
       "7.8    324\n",
       "8      290\n",
       "8.2    282\n",
       "8.3    254\n",
       "8.5    253\n",
       "      ... \n",
       "0.9      2\n",
       "1.3      2\n",
       "0.6      2\n",
       "9.7      1\n",
       "0        1\n",
       "Name: user_score, Length: 95, dtype: int64"
      ]
     },
     "execution_count": 18,
     "metadata": {},
     "output_type": "execute_result"
    }
   ],
   "source": [
    "#Вновь изучим значения столбца user_score\n",
    "df['user_score'].value_counts()"
   ]
  },
  {
   "cell_type": "code",
   "execution_count": 19,
   "metadata": {},
   "outputs": [],
   "source": [
    "#Заменим значения столбца user_score на тип данных Float64\n",
    "df['user_score'] = df['user_score'].astype('Float64')"
   ]
  },
  {
   "cell_type": "code",
   "execution_count": 20,
   "metadata": {},
   "outputs": [
    {
     "data": {
      "text/plain": [
       "0"
      ]
     },
     "execution_count": 20,
     "metadata": {},
     "output_type": "execute_result"
    }
   ],
   "source": [
    "#Посмотрим количество дубликатов в нашем датафрейме\n",
    "df.duplicated().sum()"
   ]
  },
  {
   "cell_type": "code",
   "execution_count": 21,
   "metadata": {},
   "outputs": [],
   "source": [
    "#Введём новый столбец total_sales, который будет показывать сумму продаж во всех регионах\n",
    "df['total_sales'] = df['na_sales'] + df['eu_sales'] + df['jp_sales'] + df['other_sales']"
   ]
  },
  {
   "cell_type": "markdown",
   "metadata": {},
   "source": [
    "<div class=\"alert alert-success\" style=\"border-radius: 15px; box-shadow: 4px 4px 4px; border: 1px solid \">\n",
    "<b> Комментарий ревьюера ✔️</b>\n",
    "    \n",
    "Можно еще взять метод **sum** с аргументом **axis=1**.\n",
    "    \n",
    "</div>\n",
    "\n",
    "```python\n",
    "\n",
    "\n",
    "df['total_sales'] = df[['na_sales','eu_sales','jp_sales','other_sales']].sum(axis=1)\n",
    "```"
   ]
  },
  {
   "cell_type": "code",
   "execution_count": 22,
   "metadata": {},
   "outputs": [
    {
     "data": {
      "text/html": [
       "<div>\n",
       "<style scoped>\n",
       "    .dataframe tbody tr th:only-of-type {\n",
       "        vertical-align: middle;\n",
       "    }\n",
       "\n",
       "    .dataframe tbody tr th {\n",
       "        vertical-align: top;\n",
       "    }\n",
       "\n",
       "    .dataframe thead th {\n",
       "        text-align: right;\n",
       "    }\n",
       "</style>\n",
       "<table border=\"1\" class=\"dataframe\">\n",
       "  <thead>\n",
       "    <tr style=\"text-align: right;\">\n",
       "      <th></th>\n",
       "      <th>name</th>\n",
       "      <th>platform</th>\n",
       "      <th>year_of_release</th>\n",
       "      <th>genre</th>\n",
       "      <th>na_sales</th>\n",
       "      <th>eu_sales</th>\n",
       "      <th>jp_sales</th>\n",
       "      <th>other_sales</th>\n",
       "      <th>critic_score</th>\n",
       "      <th>user_score</th>\n",
       "      <th>rating</th>\n",
       "      <th>total_sales</th>\n",
       "    </tr>\n",
       "  </thead>\n",
       "  <tbody>\n",
       "    <tr>\n",
       "      <td>0</td>\n",
       "      <td>Wii Sports</td>\n",
       "      <td>Wii</td>\n",
       "      <td>2006</td>\n",
       "      <td>Sports</td>\n",
       "      <td>41.36</td>\n",
       "      <td>28.96</td>\n",
       "      <td>3.77</td>\n",
       "      <td>8.45</td>\n",
       "      <td>76.0</td>\n",
       "      <td>8.0</td>\n",
       "      <td>E</td>\n",
       "      <td>82.54</td>\n",
       "    </tr>\n",
       "    <tr>\n",
       "      <td>1</td>\n",
       "      <td>Super Mario Bros.</td>\n",
       "      <td>NES</td>\n",
       "      <td>1985</td>\n",
       "      <td>Platform</td>\n",
       "      <td>29.08</td>\n",
       "      <td>3.58</td>\n",
       "      <td>6.81</td>\n",
       "      <td>0.77</td>\n",
       "      <td>NaN</td>\n",
       "      <td>NaN</td>\n",
       "      <td>NaN</td>\n",
       "      <td>40.24</td>\n",
       "    </tr>\n",
       "    <tr>\n",
       "      <td>2</td>\n",
       "      <td>Mario Kart Wii</td>\n",
       "      <td>Wii</td>\n",
       "      <td>2008</td>\n",
       "      <td>Racing</td>\n",
       "      <td>15.68</td>\n",
       "      <td>12.76</td>\n",
       "      <td>3.79</td>\n",
       "      <td>3.29</td>\n",
       "      <td>82.0</td>\n",
       "      <td>8.3</td>\n",
       "      <td>E</td>\n",
       "      <td>35.52</td>\n",
       "    </tr>\n",
       "    <tr>\n",
       "      <td>3</td>\n",
       "      <td>Wii Sports Resort</td>\n",
       "      <td>Wii</td>\n",
       "      <td>2009</td>\n",
       "      <td>Sports</td>\n",
       "      <td>15.61</td>\n",
       "      <td>10.93</td>\n",
       "      <td>3.28</td>\n",
       "      <td>2.95</td>\n",
       "      <td>80.0</td>\n",
       "      <td>8.0</td>\n",
       "      <td>E</td>\n",
       "      <td>32.77</td>\n",
       "    </tr>\n",
       "    <tr>\n",
       "      <td>4</td>\n",
       "      <td>Pokemon Red/Pokemon Blue</td>\n",
       "      <td>GB</td>\n",
       "      <td>1996</td>\n",
       "      <td>Role-Playing</td>\n",
       "      <td>11.27</td>\n",
       "      <td>8.89</td>\n",
       "      <td>10.22</td>\n",
       "      <td>1.00</td>\n",
       "      <td>NaN</td>\n",
       "      <td>NaN</td>\n",
       "      <td>NaN</td>\n",
       "      <td>31.38</td>\n",
       "    </tr>\n",
       "    <tr>\n",
       "      <td>5</td>\n",
       "      <td>Tetris</td>\n",
       "      <td>GB</td>\n",
       "      <td>1989</td>\n",
       "      <td>Puzzle</td>\n",
       "      <td>23.20</td>\n",
       "      <td>2.26</td>\n",
       "      <td>4.22</td>\n",
       "      <td>0.58</td>\n",
       "      <td>NaN</td>\n",
       "      <td>NaN</td>\n",
       "      <td>NaN</td>\n",
       "      <td>30.26</td>\n",
       "    </tr>\n",
       "    <tr>\n",
       "      <td>6</td>\n",
       "      <td>New Super Mario Bros.</td>\n",
       "      <td>DS</td>\n",
       "      <td>2006</td>\n",
       "      <td>Platform</td>\n",
       "      <td>11.28</td>\n",
       "      <td>9.14</td>\n",
       "      <td>6.50</td>\n",
       "      <td>2.88</td>\n",
       "      <td>89.0</td>\n",
       "      <td>8.5</td>\n",
       "      <td>E</td>\n",
       "      <td>29.80</td>\n",
       "    </tr>\n",
       "    <tr>\n",
       "      <td>7</td>\n",
       "      <td>Wii Play</td>\n",
       "      <td>Wii</td>\n",
       "      <td>2006</td>\n",
       "      <td>Misc</td>\n",
       "      <td>13.96</td>\n",
       "      <td>9.18</td>\n",
       "      <td>2.93</td>\n",
       "      <td>2.84</td>\n",
       "      <td>58.0</td>\n",
       "      <td>6.6</td>\n",
       "      <td>E</td>\n",
       "      <td>28.91</td>\n",
       "    </tr>\n",
       "    <tr>\n",
       "      <td>8</td>\n",
       "      <td>New Super Mario Bros. Wii</td>\n",
       "      <td>Wii</td>\n",
       "      <td>2009</td>\n",
       "      <td>Platform</td>\n",
       "      <td>14.44</td>\n",
       "      <td>6.94</td>\n",
       "      <td>4.70</td>\n",
       "      <td>2.24</td>\n",
       "      <td>87.0</td>\n",
       "      <td>8.4</td>\n",
       "      <td>E</td>\n",
       "      <td>28.32</td>\n",
       "    </tr>\n",
       "    <tr>\n",
       "      <td>9</td>\n",
       "      <td>Duck Hunt</td>\n",
       "      <td>NES</td>\n",
       "      <td>1984</td>\n",
       "      <td>Shooter</td>\n",
       "      <td>26.93</td>\n",
       "      <td>0.63</td>\n",
       "      <td>0.28</td>\n",
       "      <td>0.47</td>\n",
       "      <td>NaN</td>\n",
       "      <td>NaN</td>\n",
       "      <td>NaN</td>\n",
       "      <td>28.31</td>\n",
       "    </tr>\n",
       "  </tbody>\n",
       "</table>\n",
       "</div>"
      ],
      "text/plain": [
       "                        name platform  year_of_release         genre  \\\n",
       "0                 Wii Sports      Wii             2006        Sports   \n",
       "1          Super Mario Bros.      NES             1985      Platform   \n",
       "2             Mario Kart Wii      Wii             2008        Racing   \n",
       "3          Wii Sports Resort      Wii             2009        Sports   \n",
       "4   Pokemon Red/Pokemon Blue       GB             1996  Role-Playing   \n",
       "5                     Tetris       GB             1989        Puzzle   \n",
       "6      New Super Mario Bros.       DS             2006      Platform   \n",
       "7                   Wii Play      Wii             2006          Misc   \n",
       "8  New Super Mario Bros. Wii      Wii             2009      Platform   \n",
       "9                  Duck Hunt      NES             1984       Shooter   \n",
       "\n",
       "   na_sales  eu_sales  jp_sales  other_sales  critic_score  user_score rating  \\\n",
       "0     41.36     28.96      3.77         8.45          76.0         8.0      E   \n",
       "1     29.08      3.58      6.81         0.77           NaN         NaN    NaN   \n",
       "2     15.68     12.76      3.79         3.29          82.0         8.3      E   \n",
       "3     15.61     10.93      3.28         2.95          80.0         8.0      E   \n",
       "4     11.27      8.89     10.22         1.00           NaN         NaN    NaN   \n",
       "5     23.20      2.26      4.22         0.58           NaN         NaN    NaN   \n",
       "6     11.28      9.14      6.50         2.88          89.0         8.5      E   \n",
       "7     13.96      9.18      2.93         2.84          58.0         6.6      E   \n",
       "8     14.44      6.94      4.70         2.24          87.0         8.4      E   \n",
       "9     26.93      0.63      0.28         0.47           NaN         NaN    NaN   \n",
       "\n",
       "   total_sales  \n",
       "0        82.54  \n",
       "1        40.24  \n",
       "2        35.52  \n",
       "3        32.77  \n",
       "4        31.38  \n",
       "5        30.26  \n",
       "6        29.80  \n",
       "7        28.91  \n",
       "8        28.32  \n",
       "9        28.31  "
      ]
     },
     "execution_count": 22,
     "metadata": {},
     "output_type": "execute_result"
    }
   ],
   "source": [
    "#Выведем на экран обновлённый датафрейм\n",
    "df.head(10)"
   ]
  },
  {
   "cell_type": "markdown",
   "metadata": {},
   "source": [
    "### Вывод"
   ]
  },
  {
   "cell_type": "markdown",
   "metadata": {},
   "source": [
    "Были изучены и подготовлены данные для дальнейшего анализа, а именно:\n",
    "- все названия столбцов были приведены к нижнему регистру;\n",
    "- были просмотрены и изучены значения в столбцах нашего датафрейма;\n",
    "- столбцы 'year_of_release' и 'user_score' были преобразованы в другой тип данных;\n",
    "- для столбца 'year_of_release' были частично заполнены пропуски с помощью названия игр на других платформах;\n",
    "- дубликаты отсутствуют;\n",
    "- в столбце 'user_score' было значение tbd, которое означало to be determined, to be done, т.е. эти данные оставили незаполненными специально, поэтому они были заменены на NaN;\n",
    "- был рассчитан новый столбец 'total_sales', который показывает общую сумму продаж со всех регионов;"
   ]
  },
  {
   "cell_type": "markdown",
   "metadata": {},
   "source": [
    "## Проведём исследовательский анализ данных"
   ]
  },
  {
   "cell_type": "markdown",
   "metadata": {},
   "source": [
    "### Посмотрим, сколько игр выпускалось в разные годы"
   ]
  },
  {
   "cell_type": "code",
   "execution_count": 23,
   "metadata": {},
   "outputs": [
    {
     "data": {
      "text/plain": [
       "<matplotlib.legend.Legend at 0x7fcb94576910>"
      ]
     },
     "execution_count": 23,
     "metadata": {},
     "output_type": "execute_result"
    },
    {
     "data": {
      "image/png": "[encoded data removed]",
      "text/plain": [
       "<Figure size 432x288 with 1 Axes>"
      ]
     },
     "metadata": {
      "needs_background": "light"
     },
     "output_type": "display_data"
    }
   ],
   "source": [
    "#Сделаем сводную таблицу с помощью метода pivot_table и для наглядности построим график с помощью метода plot\n",
    "year_of_release_games_count = df.pivot_table(index='year_of_release', values='name', aggfunc='count')\n",
    "year_of_release_games_count.plot()\n",
    "plt.title('График количества игр в зависимости от года выпуска')\n",
    "plt.xlabel('Год выпуска игр')\n",
    "plt.ylabel('Количество выпущенных игр')\n",
    "plt.legend('')"
   ]
  },
  {
   "cell_type": "markdown",
   "metadata": {},
   "source": [
    "### Вывод"
   ]
  },
  {
   "cell_type": "markdown",
   "metadata": {},
   "source": [
    "По графику можно сказать, что наибольший скачок по продажам игр был с 1990 до 2010, дальше игры стали выходить гораздо реже, скорее всего это говорит о том, что популярными стали мобильные приложения."
   ]
  },
  {
   "cell_type": "markdown",
   "metadata": {},
   "source": [
    "### Посмотрим, как менялись продажи по платформам"
   ]
  },
  {
   "cell_type": "code",
   "execution_count": 24,
   "metadata": {},
   "outputs": [
    {
     "data": {
      "text/plain": [
       "Text(0, 0.5, 'Сумма продаж')"
      ]
     },
     "execution_count": 24,
     "metadata": {},
     "output_type": "execute_result"
    },
    {
     "data": {
      "image/png": "[encoded data removed]",
      "text/plain": [
       "<Figure size 1080x504 with 1 Axes>"
      ]
     },
     "metadata": {
      "needs_background": "light"
     },
     "output_type": "display_data"
    }
   ],
   "source": [
    "#Сделаем сводную таблицу с помощью метода pivot_table и для наглядности построим график с помощью библиотеки seaborn\n",
    "platform_sales = df.query('year_of_release >= 2013').pivot_table(index='platform', values='total_sales', \n",
    "                                                                 aggfunc='sum').sort_values(\n",
    "                                                                 by='total_sales', ascending=False)\n",
    "plt.figure(figsize=(15,7))\n",
    "sns.barplot(x=platform_sales.index,y=platform_sales['total_sales'])\n",
    "plt.title('График продаж в зависимости от платформы')\n",
    "plt.xlabel('Название платформы')\n",
    "plt.ylabel('Сумма продаж')"
   ]
  },
  {
   "cell_type": "code",
   "execution_count": 25,
   "metadata": {},
   "outputs": [
    {
     "data": {
      "text/html": [
       "<div>\n",
       "<style scoped>\n",
       "    .dataframe tbody tr th:only-of-type {\n",
       "        vertical-align: middle;\n",
       "    }\n",
       "\n",
       "    .dataframe tbody tr th {\n",
       "        vertical-align: top;\n",
       "    }\n",
       "\n",
       "    .dataframe thead th {\n",
       "        text-align: right;\n",
       "    }\n",
       "</style>\n",
       "<table border=\"1\" class=\"dataframe\">\n",
       "  <thead>\n",
       "    <tr style=\"text-align: right;\">\n",
       "      <th></th>\n",
       "      <th>total_sales</th>\n",
       "    </tr>\n",
       "    <tr>\n",
       "      <th>platform</th>\n",
       "      <th></th>\n",
       "    </tr>\n",
       "  </thead>\n",
       "  <tbody>\n",
       "    <tr>\n",
       "      <td>PS4</td>\n",
       "      <td>314.14</td>\n",
       "    </tr>\n",
       "    <tr>\n",
       "      <td>PS3</td>\n",
       "      <td>181.43</td>\n",
       "    </tr>\n",
       "    <tr>\n",
       "      <td>XOne</td>\n",
       "      <td>159.32</td>\n",
       "    </tr>\n",
       "    <tr>\n",
       "      <td>3DS</td>\n",
       "      <td>143.25</td>\n",
       "    </tr>\n",
       "    <tr>\n",
       "      <td>X360</td>\n",
       "      <td>136.80</td>\n",
       "    </tr>\n",
       "  </tbody>\n",
       "</table>\n",
       "</div>"
      ],
      "text/plain": [
       "          total_sales\n",
       "platform             \n",
       "PS4            314.14\n",
       "PS3            181.43\n",
       "XOne           159.32\n",
       "3DS            143.25\n",
       "X360           136.80"
      ]
     },
     "execution_count": 25,
     "metadata": {},
     "output_type": "execute_result"
    }
   ],
   "source": [
    "#Посмотрим топ-5 консолей по продажам в цифрах\n",
    "platform_sales.head()"
   ]
  },
  {
   "cell_type": "code",
   "execution_count": 26,
   "metadata": {},
   "outputs": [],
   "source": [
    "#Учитывая даты выхода консолей, для анализа топ-5 продаж возьмём промежуток с 2006 года, напишем для этого функцию\n",
    "def total_sales_for_platforms_from_2006(platform_name, data):\n",
    "    selection = data[(data['platform'] == platform_name) & (data['year_of_release'] >= 2013)]\n",
    "    total = selection.pivot_table(index='year_of_release', values='total_sales', aggfunc='sum').sort_values(\n",
    "                                                                                                 by='year_of_release', \n",
    "                                                                                                ascending=False)\n",
    "    return total"
   ]
  },
  {
   "cell_type": "code",
   "execution_count": 27,
   "metadata": {},
   "outputs": [
    {
     "data": {
      "text/html": [
       "<div>\n",
       "<style scoped>\n",
       "    .dataframe tbody tr th:only-of-type {\n",
       "        vertical-align: middle;\n",
       "    }\n",
       "\n",
       "    .dataframe tbody tr th {\n",
       "        vertical-align: top;\n",
       "    }\n",
       "\n",
       "    .dataframe thead th {\n",
       "        text-align: right;\n",
       "    }\n",
       "</style>\n",
       "<table border=\"1\" class=\"dataframe\">\n",
       "  <thead>\n",
       "    <tr style=\"text-align: right;\">\n",
       "      <th></th>\n",
       "      <th>platform</th>\n",
       "      <th>total_sales</th>\n",
       "    </tr>\n",
       "  </thead>\n",
       "  <tbody>\n",
       "    <tr>\n",
       "      <td>0</td>\n",
       "      <td>PS4</td>\n",
       "      <td>314.14</td>\n",
       "    </tr>\n",
       "    <tr>\n",
       "      <td>1</td>\n",
       "      <td>PS3</td>\n",
       "      <td>181.43</td>\n",
       "    </tr>\n",
       "    <tr>\n",
       "      <td>2</td>\n",
       "      <td>XOne</td>\n",
       "      <td>159.32</td>\n",
       "    </tr>\n",
       "    <tr>\n",
       "      <td>3</td>\n",
       "      <td>3DS</td>\n",
       "      <td>143.25</td>\n",
       "    </tr>\n",
       "    <tr>\n",
       "      <td>4</td>\n",
       "      <td>X360</td>\n",
       "      <td>136.80</td>\n",
       "    </tr>\n",
       "  </tbody>\n",
       "</table>\n",
       "</div>"
      ],
      "text/plain": [
       "  platform  total_sales\n",
       "0      PS4       314.14\n",
       "1      PS3       181.43\n",
       "2     XOne       159.32\n",
       "3      3DS       143.25\n",
       "4     X360       136.80"
      ]
     },
     "execution_count": 27,
     "metadata": {},
     "output_type": "execute_result"
    }
   ],
   "source": [
    "#Обозначим отдельно топ-5 платформ по продажам\n",
    "top_5_platforms = platform_sales.head()\n",
    "top_5_platforms = top_5_platforms.reset_index().rename_axis(None, axis=1)\n",
    "top_5_platforms"
   ]
  },
  {
   "cell_type": "code",
   "execution_count": 28,
   "metadata": {},
   "outputs": [
    {
     "data": {
      "image/png": "[encoded data removed]",
      "text/plain": [
       "<Figure size 1080x432 with 1 Axes>"
      ]
     },
     "metadata": {
      "needs_background": "light"
     },
     "output_type": "display_data"
    }
   ],
   "source": [
    "#Построим графики для продаж игр для топ-5 платформ с 2006 года\n",
    "plt.figure(figsize=(15,6))\n",
    "plt.title('Продажи игр топ-5 игровых платформ')\n",
    "plt.xlabel('Годы релизов игр')\n",
    "plt.ylabel('Сумма продаж')\n",
    "for platform in list(top_5_platforms['platform']):\n",
    "    sns.lineplot(data=total_sales_for_platforms_from_2006(platform, df)['total_sales'], label=platform)"
   ]
  },
  {
   "cell_type": "markdown",
   "metadata": {},
   "source": [
    "### Вывод"
   ]
  },
  {
   "cell_type": "markdown",
   "metadata": {},
   "source": [
    "Топ-5 консолей по продажам игр:\n",
    "- PS4 - 314.14 млн. копий\n",
    "- PS3 - 181.43 млн. копий\n",
    "- XboxOne - 159.32 млн. копий\n",
    "- 3DS - 143.25 млн. копий\n",
    "- Xbox360 - 136.80 млн. копий\n",
    "\n",
    "По графикам:\n",
    "- Игры для PS4 продолжают продаваться и после 2016 года, остальные игры для других консолей же идут на спад;\n",
    "- Пик продаж игр для всех консолей разный;"
   ]
  },
  {
   "cell_type": "markdown",
   "metadata": {},
   "source": [
    "### Построим график «ящик с усами» по глобальным продажам игр в разбивке по платформам"
   ]
  },
  {
   "cell_type": "code",
   "execution_count": 29,
   "metadata": {},
   "outputs": [
    {
     "data": {
      "text/plain": [
       "count    1302.000000\n",
       "mean        0.261636\n",
       "std         0.312161\n",
       "min         0.010000\n",
       "25%         0.040000\n",
       "50%         0.120000\n",
       "75%         0.360000\n",
       "max         1.390000\n",
       "Name: total_sales, dtype: float64"
      ]
     },
     "execution_count": 29,
     "metadata": {},
     "output_type": "execute_result"
    }
   ],
   "source": [
    "#Для начала выберем данные только для топ-5 платформ и сразу избавимся от выбросов\n",
    "top_5_platform_sales = df.query(\n",
    "    'platform in [\"PS4\", \"X360\", \"PS3\", \"XOne\", \"3DS\"] and total_sales < 1.4 and year_of_release >= 2013')\n",
    "top_5_platform_sales['total_sales'].describe()"
   ]
  },
  {
   "cell_type": "code",
   "execution_count": 30,
   "metadata": {},
   "outputs": [
    {
     "data": {
      "text/plain": [
       "Text(0, 0.5, 'Глобальные продажи')"
      ]
     },
     "execution_count": 30,
     "metadata": {},
     "output_type": "execute_result"
    },
    {
     "data": {
      "image/png": "[encoded data removed]",
      "text/plain": [
       "<Figure size 1080x432 with 1 Axes>"
      ]
     },
     "metadata": {
      "needs_background": "light"
     },
     "output_type": "display_data"
    }
   ],
   "source": [
    "#Построим график «ящик с усами» по глобальным продажам игр в разбивке по платформам\n",
    "plt.figure(figsize=(15,6))\n",
    "sns.boxplot(data=top_5_platform_sales, x='platform', y='total_sales')\n",
    "plt.title('\"Ящик с усами\"')\n",
    "plt.xlabel('Платформа')\n",
    "plt.ylabel('Глобальные продажи')"
   ]
  },
  {
   "cell_type": "markdown",
   "metadata": {},
   "source": [
    "### Вывод"
   ]
  },
  {
   "cell_type": "markdown",
   "metadata": {},
   "source": [
    "По \"ящику с усами\" видно, что медиана у всех протекает по-разному.\n",
    "Выбросы скорее всего говорят о том, что есть игры, которые очень хорошо продавались."
   ]
  },
  {
   "cell_type": "markdown",
   "metadata": {},
   "source": [
    "### Посмотрим, как влияют на продажи внутри одной популярной платформы отзывы пользователей и критиков"
   ]
  },
  {
   "cell_type": "code",
   "execution_count": 31,
   "metadata": {},
   "outputs": [],
   "source": [
    "#Выберем самую популярную платформу по продажам игр за всё время (PS2)\n",
    "sony_playstation_4 = df[(df['platform'] == 'PS4') & (df['year_of_release'] >= 2013)]"
   ]
  },
  {
   "cell_type": "code",
   "execution_count": 32,
   "metadata": {},
   "outputs": [
    {
     "data": {
      "text/plain": [
       "-0.031957110204556424"
      ]
     },
     "execution_count": 32,
     "metadata": {},
     "output_type": "execute_result"
    }
   ],
   "source": [
    "#Найдём коэффициент корреляции между продажами и отзывами пользователей\n",
    "sony_playstation_4['user_score'].corr(sony_playstation_4['total_sales'])"
   ]
  },
  {
   "cell_type": "code",
   "execution_count": 33,
   "metadata": {},
   "outputs": [
    {
     "data": {
      "text/plain": [
       "0.40656790206178095"
      ]
     },
     "execution_count": 33,
     "metadata": {},
     "output_type": "execute_result"
    }
   ],
   "source": [
    "#Найдём коэффициент корреляции между продажами и отзывами критиков\n",
    "sony_playstation_4['critic_score'].corr(sony_playstation_4['total_sales'])"
   ]
  },
  {
   "cell_type": "code",
   "execution_count": 34,
   "metadata": {},
   "outputs": [
    {
     "data": {
      "text/plain": [
       "Text(0.5, 1.0, 'Диаграмма рассеяния для пользователей')"
      ]
     },
     "execution_count": 34,
     "metadata": {},
     "output_type": "execute_result"
    },
    {
     "data": {
      "image/png": "[encoded data removed]",
      "text/plain": [
       "<Figure size 1080x432 with 1 Axes>"
      ]
     },
     "metadata": {
      "needs_background": "light"
     },
     "output_type": "display_data"
    }
   ],
   "source": [
    "#Построим диаграмму рассеяния для продаж и отзывов пользователей\n",
    "plt.figure(figsize=(15,6))\n",
    "sns.scatterplot(x='user_score', y='total_sales', data=sony_playstation_4)\n",
    "plt.title('Диаграмма рассеяния для пользователей')"
   ]
  },
  {
   "cell_type": "code",
   "execution_count": 35,
   "metadata": {},
   "outputs": [
    {
     "data": {
      "text/plain": [
       "Text(0.5, 1.0, 'Диаграмма рассеяния для критиков')"
      ]
     },
     "execution_count": 35,
     "metadata": {},
     "output_type": "execute_result"
    },
    {
     "data": {
      "image/png": "[encoded data removed]",
      "text/plain": [
       "<Figure size 1080x432 with 1 Axes>"
      ]
     },
     "metadata": {
      "needs_background": "light"
     },
     "output_type": "display_data"
    }
   ],
   "source": [
    "#Построим диаграмму рассеяния для продаж и отзывов критиков\n",
    "plt.figure(figsize=(15,6))\n",
    "sns.scatterplot(x='critic_score', y='total_sales', data=sony_playstation_4)\n",
    "plt.title('Диаграмма рассеяния для критиков')"
   ]
  },
  {
   "cell_type": "code",
   "execution_count": 36,
   "metadata": {},
   "outputs": [],
   "source": [
    "#Выберем оставшиеся популярные платформы по продажам игр из топ-5 за всё время\n",
    "ds3 = df[(df['platform'] == '3DS') & (df['year_of_release'] >= 2013)]\n",
    "xbox_360 = df[(df['platform'] == 'X360') & (df['year_of_release'] >= 2013)]\n",
    "sony_playstation_3 = df[(df['platform'] == 'PS3') & (df['year_of_release'] >= 2013)]\n",
    "xone = df[(df['platform'] == 'XOne') & (df['year_of_release'] >= 2013)]"
   ]
  },
  {
   "cell_type": "code",
   "execution_count": 37,
   "metadata": {},
   "outputs": [
    {
     "name": "stdout",
     "output_type": "stream",
     "text": [
      "Коэффициент корреляции между продажами и отзывами пользователей для PS4: -0.031957110204556424\n",
      "Коэффициент корреляции между продажами и отзывами пользователей для 3DS: 0.24150411773563016\n",
      "Коэффициент корреляции между продажами и отзывами пользователей для XBOX360: -0.011742185147181342\n",
      "Коэффициент корреляции между продажами и отзывами пользователей для PS3: 0.0023944027357566925\n",
      "Коэффициент корреляции между продажами и отзывами пользователей для XBOXONE: -0.06892505328279414\n"
     ]
    }
   ],
   "source": [
    "#Выведем все коэффициенты корреляции между продажами и отзывами пользователей для топ-5 платформ\n",
    "print('Коэффициент корреляции между продажами и отзывами пользователей для PS4:', sony_playstation_4['user_score'].corr(\n",
    "    sony_playstation_4['total_sales']))\n",
    "print('Коэффициент корреляции между продажами и отзывами пользователей для 3DS:', ds3['user_score'].corr(ds3['total_sales']))\n",
    "print('Коэффициент корреляции между продажами и отзывами пользователей для XBOX360:', xbox_360['user_score'].corr(\n",
    "    xbox_360['total_sales']))\n",
    "print('Коэффициент корреляции между продажами и отзывами пользователей для PS3:', sony_playstation_3['user_score'].corr(\n",
    "    sony_playstation_3['total_sales']))\n",
    "print('Коэффициент корреляции между продажами и отзывами пользователей для XBOXONE:', xone['user_score'].corr(\n",
    "    xone['total_sales']))"
   ]
  },
  {
   "cell_type": "code",
   "execution_count": 38,
   "metadata": {},
   "outputs": [
    {
     "name": "stdout",
     "output_type": "stream",
     "text": [
      "Коэффициент корреляции между продажами и отзывами критиков для PS4: 0.40656790206178095\n",
      "Коэффициент корреляции между продажами и отзывами критиков для 3DS: 0.3570566142288103\n",
      "Коэффициент корреляции между продажами и отзывами критиков для XBOX360: 0.3503445460228664\n",
      "Коэффициент корреляции между продажами и отзывами критиков для PS3: 0.3342853393371919\n",
      "Коэффициент корреляции между продажами и отзывами критиков для XBOXONE: 0.4169983280084017\n"
     ]
    }
   ],
   "source": [
    "#Выведем все коэффициенты корреляции между продажами и отзывами критиков для топ-5 платформ\n",
    "print('Коэффициент корреляции между продажами и отзывами критиков для PS4:', sony_playstation_4['critic_score'].corr(\n",
    "    sony_playstation_4['total_sales']))\n",
    "print('Коэффициент корреляции между продажами и отзывами критиков для 3DS:', ds3['critic_score'].corr(ds3['total_sales']))\n",
    "print('Коэффициент корреляции между продажами и отзывами критиков для XBOX360:', xbox_360['critic_score'].corr(\n",
    "    xbox_360['total_sales']))\n",
    "print('Коэффициент корреляции между продажами и отзывами критиков для PS3:', sony_playstation_3['critic_score'].corr(\n",
    "    sony_playstation_3['total_sales']))\n",
    "print('Коэффициент корреляции между продажами и отзывами критиков для XBOXONE:', xone['critic_score'].corr(xone['total_sales']))"
   ]
  },
  {
   "cell_type": "code",
   "execution_count": 39,
   "metadata": {},
   "outputs": [
    {
     "data": {
      "text/plain": [
       "Text(0.5, 1.0, 'Диаграмма рассеяния для пользователей для PS4')"
      ]
     },
     "execution_count": 39,
     "metadata": {},
     "output_type": "execute_result"
    },
    {
     "data": {
      "image/png": "[encoded data removed]",
      "text/plain": [
       "<Figure size 1080x432 with 1 Axes>"
      ]
     },
     "metadata": {
      "needs_background": "light"
     },
     "output_type": "display_data"
    }
   ],
   "source": [
    "#Построим диаграмму рассеяния для продаж и отзывов пользователей/критиков для остальных платформ\n",
    "plt.figure(figsize=(15,6))\n",
    "sns.scatterplot(x='user_score', y='total_sales', data=sony_playstation_4)\n",
    "plt.title('Диаграмма рассеяния для пользователей для PS4')"
   ]
  },
  {
   "cell_type": "code",
   "execution_count": 40,
   "metadata": {},
   "outputs": [
    {
     "data": {
      "text/plain": [
       "Text(0.5, 1.0, 'Диаграмма рассеяния для критиков для PS4')"
      ]
     },
     "execution_count": 40,
     "metadata": {},
     "output_type": "execute_result"
    },
    {
     "data": {
      "image/png": "[encoded data removed]",
      "text/plain": [
       "<Figure size 1080x432 with 1 Axes>"
      ]
     },
     "metadata": {
      "needs_background": "light"
     },
     "output_type": "display_data"
    }
   ],
   "source": [
    "plt.figure(figsize=(15,6))\n",
    "sns.scatterplot(x='critic_score', y='total_sales', data=sony_playstation_4)\n",
    "plt.title('Диаграмма рассеяния для критиков для PS4')"
   ]
  },
  {
   "cell_type": "code",
   "execution_count": 41,
   "metadata": {},
   "outputs": [
    {
     "data": {
      "text/plain": [
       "Text(0.5, 1.0, 'Диаграмма рассеяния для пользователей для 3DS')"
      ]
     },
     "execution_count": 41,
     "metadata": {},
     "output_type": "execute_result"
    },
    {
     "data": {
      "image/png": "[encoded data removed]",
      "text/plain": [
       "<Figure size 1080x432 with 1 Axes>"
      ]
     },
     "metadata": {
      "needs_background": "light"
     },
     "output_type": "display_data"
    }
   ],
   "source": [
    "plt.figure(figsize=(15,6))\n",
    "sns.scatterplot(x='user_score', y='total_sales', data=ds3)\n",
    "plt.title('Диаграмма рассеяния для пользователей для 3DS')"
   ]
  },
  {
   "cell_type": "code",
   "execution_count": 42,
   "metadata": {},
   "outputs": [
    {
     "data": {
      "text/plain": [
       "Text(0.5, 1.0, 'Диаграмма рассеяния для критиков для 3DS')"
      ]
     },
     "execution_count": 42,
     "metadata": {},
     "output_type": "execute_result"
    },
    {
     "data": {
      "image/png": "[encoded data removed]",
      "text/plain": [
       "<Figure size 1080x432 with 1 Axes>"
      ]
     },
     "metadata": {
      "needs_background": "light"
     },
     "output_type": "display_data"
    }
   ],
   "source": [
    "plt.figure(figsize=(15,6))\n",
    "sns.scatterplot(x='critic_score', y='total_sales', data=ds3)\n",
    "plt.title('Диаграмма рассеяния для критиков для 3DS')"
   ]
  },
  {
   "cell_type": "code",
   "execution_count": 43,
   "metadata": {},
   "outputs": [
    {
     "data": {
      "text/plain": [
       "Text(0.5, 1.0, 'Диаграмма рассеяния для пользователей для XBOX360')"
      ]
     },
     "execution_count": 43,
     "metadata": {},
     "output_type": "execute_result"
    },
    {
     "data": {
      "image/png": "[encoded data removed]",
      "text/plain": [
       "<Figure size 1080x432 with 1 Axes>"
      ]
     },
     "metadata": {
      "needs_background": "light"
     },
     "output_type": "display_data"
    }
   ],
   "source": [
    "plt.figure(figsize=(15,6))\n",
    "sns.scatterplot(x='user_score', y='total_sales', data=xbox_360)\n",
    "plt.title('Диаграмма рассеяния для пользователей для XBOX360')"
   ]
  },
  {
   "cell_type": "code",
   "execution_count": 44,
   "metadata": {},
   "outputs": [
    {
     "data": {
      "text/plain": [
       "Text(0.5, 1.0, 'Диаграмма рассеяния для критиков для XBOX360')"
      ]
     },
     "execution_count": 44,
     "metadata": {},
     "output_type": "execute_result"
    },
    {
     "data": {
      "image/png": "[encoded data removed]",
      "text/plain": [
       "<Figure size 1080x432 with 1 Axes>"
      ]
     },
     "metadata": {
      "needs_background": "light"
     },
     "output_type": "display_data"
    }
   ],
   "source": [
    "plt.figure(figsize=(15,6))\n",
    "sns.scatterplot(x='critic_score', y='total_sales', data=xbox_360)\n",
    "plt.title('Диаграмма рассеяния для критиков для XBOX360')"
   ]
  },
  {
   "cell_type": "code",
   "execution_count": 45,
   "metadata": {},
   "outputs": [
    {
     "data": {
      "text/plain": [
       "Text(0.5, 1.0, 'Диаграмма рассеяния для пользователей для PS3')"
      ]
     },
     "execution_count": 45,
     "metadata": {},
     "output_type": "execute_result"
    },
    {
     "data": {
      "image/png": "[encoded data removed]",
      "text/plain": [
       "<Figure size 1080x432 with 1 Axes>"
      ]
     },
     "metadata": {
      "needs_background": "light"
     },
     "output_type": "display_data"
    }
   ],
   "source": [
    "plt.figure(figsize=(15,6))\n",
    "sns.scatterplot(x='user_score', y='total_sales', data=sony_playstation_3)\n",
    "plt.title('Диаграмма рассеяния для пользователей для PS3')"
   ]
  },
  {
   "cell_type": "code",
   "execution_count": 46,
   "metadata": {},
   "outputs": [
    {
     "data": {
      "text/plain": [
       "Text(0.5, 1.0, 'Диаграмма рассеяния для критиков для PS3')"
      ]
     },
     "execution_count": 46,
     "metadata": {},
     "output_type": "execute_result"
    },
    {
     "data": {
      "image/png": "[encoded data removed]",
      "text/plain": [
       "<Figure size 1080x432 with 1 Axes>"
      ]
     },
     "metadata": {
      "needs_background": "light"
     },
     "output_type": "display_data"
    }
   ],
   "source": [
    "plt.figure(figsize=(15,6))\n",
    "sns.scatterplot(x='critic_score', y='total_sales', data=sony_playstation_3)\n",
    "plt.title('Диаграмма рассеяния для критиков для PS3')"
   ]
  },
  {
   "cell_type": "code",
   "execution_count": 47,
   "metadata": {},
   "outputs": [
    {
     "data": {
      "text/plain": [
       "Text(0.5, 1.0, 'Диаграмма рассеяния для пользователей для Xbox One')"
      ]
     },
     "execution_count": 47,
     "metadata": {},
     "output_type": "execute_result"
    },
    {
     "data": {
      "image/png": "[encoded data removed]",
      "text/plain": [
       "<Figure size 1080x432 with 1 Axes>"
      ]
     },
     "metadata": {
      "needs_background": "light"
     },
     "output_type": "display_data"
    }
   ],
   "source": [
    "plt.figure(figsize=(15,6))\n",
    "sns.scatterplot(x='user_score', y='total_sales', data=xone)\n",
    "plt.title('Диаграмма рассеяния для пользователей для Xbox One')"
   ]
  },
  {
   "cell_type": "code",
   "execution_count": 48,
   "metadata": {},
   "outputs": [
    {
     "data": {
      "text/plain": [
       "Text(0.5, 1.0, 'Диаграмма рассеяния для критиков для Xbox One')"
      ]
     },
     "execution_count": 48,
     "metadata": {},
     "output_type": "execute_result"
    },
    {
     "data": {
      "image/png": "[encoded data removed]",
      "text/plain": [
       "<Figure size 1080x432 with 1 Axes>"
      ]
     },
     "metadata": {
      "needs_background": "light"
     },
     "output_type": "display_data"
    }
   ],
   "source": [
    "plt.figure(figsize=(15,6))\n",
    "sns.scatterplot(x='critic_score', y='total_sales', data=xone)\n",
    "plt.title('Диаграмма рассеяния для критиков для Xbox One')"
   ]
  },
  {
   "cell_type": "markdown",
   "metadata": {},
   "source": [
    "### Вывод"
   ]
  },
  {
   "cell_type": "markdown",
   "metadata": {},
   "source": [
    "- Коэффициент корреляции между продажами и отзывами пользователей для PS4: -0.031957110204556424\n",
    "- Коэффициент корреляции между продажами и отзывами пользователей для 3DS: 0.24150411773563016\n",
    "- Коэффициент корреляции между продажами и отзывами пользователей для XBOX360: -0.011742185147181342\n",
    "- Коэффициент корреляции между продажами и отзывами пользователей для PS3: 0.0023944027357566925\n",
    "- Коэффициент корреляции между продажами и отзывами пользователей для XBOXONE: -0.06892505328279414\n",
    "- Коэффициент корреляции между продажами и отзывами критиков для PS4: 0.40656790206178095\n",
    "- Коэффициент корреляции между продажами и отзывами критиков для 3DS: 0.3570566142288103\n",
    "- Коэффициент корреляции между продажами и отзывами критиков для XBOX360: 0.3503445460228664\n",
    "- Коэффициент корреляции между продажами и отзывами критиков для PS3: 0.3342853393371919\n",
    "- Коэффициент корреляции между продажами и отзывами критиков для XBOXONE: 0.4169983280084017\n",
    "\n",
    "По этим данным можно сказать, что есть небольшая зависимость между продажами и отзывами пользователей/критиков, но она не настолько сильная (особенно по отзывам пользователей). Самая большая зависимость между продажами и отзывами критиков для Xbox One и PS4, скорее всего иногда люди прислушиваются к мнению критиков, но тоже не всегда."
   ]
  },
  {
   "cell_type": "markdown",
   "metadata": {},
   "source": [
    "### Посмотрим на общее распределение игр по жанрам"
   ]
  },
  {
   "cell_type": "code",
   "execution_count": 49,
   "metadata": {},
   "outputs": [
    {
     "data": {
      "text/html": [
       "<div>\n",
       "<style scoped>\n",
       "    .dataframe tbody tr th:only-of-type {\n",
       "        vertical-align: middle;\n",
       "    }\n",
       "\n",
       "    .dataframe tbody tr th {\n",
       "        vertical-align: top;\n",
       "    }\n",
       "\n",
       "    .dataframe thead th {\n",
       "        text-align: right;\n",
       "    }\n",
       "</style>\n",
       "<table border=\"1\" class=\"dataframe\">\n",
       "  <thead>\n",
       "    <tr style=\"text-align: right;\">\n",
       "      <th></th>\n",
       "      <th>genre</th>\n",
       "      <th>total_sales</th>\n",
       "    </tr>\n",
       "  </thead>\n",
       "  <tbody>\n",
       "    <tr>\n",
       "      <td>0</td>\n",
       "      <td>Action</td>\n",
       "      <td>322.50</td>\n",
       "    </tr>\n",
       "    <tr>\n",
       "      <td>1</td>\n",
       "      <td>Shooter</td>\n",
       "      <td>232.98</td>\n",
       "    </tr>\n",
       "    <tr>\n",
       "      <td>2</td>\n",
       "      <td>Sports</td>\n",
       "      <td>150.65</td>\n",
       "    </tr>\n",
       "    <tr>\n",
       "      <td>3</td>\n",
       "      <td>Role-Playing</td>\n",
       "      <td>145.89</td>\n",
       "    </tr>\n",
       "    <tr>\n",
       "      <td>4</td>\n",
       "      <td>Misc</td>\n",
       "      <td>63.06</td>\n",
       "    </tr>\n",
       "    <tr>\n",
       "      <td>5</td>\n",
       "      <td>Platform</td>\n",
       "      <td>42.63</td>\n",
       "    </tr>\n",
       "    <tr>\n",
       "      <td>6</td>\n",
       "      <td>Racing</td>\n",
       "      <td>39.89</td>\n",
       "    </tr>\n",
       "    <tr>\n",
       "      <td>7</td>\n",
       "      <td>Fighting</td>\n",
       "      <td>35.31</td>\n",
       "    </tr>\n",
       "    <tr>\n",
       "      <td>8</td>\n",
       "      <td>Adventure</td>\n",
       "      <td>23.64</td>\n",
       "    </tr>\n",
       "    <tr>\n",
       "      <td>9</td>\n",
       "      <td>Simulation</td>\n",
       "      <td>21.76</td>\n",
       "    </tr>\n",
       "    <tr>\n",
       "      <td>10</td>\n",
       "      <td>Strategy</td>\n",
       "      <td>10.08</td>\n",
       "    </tr>\n",
       "    <tr>\n",
       "      <td>11</td>\n",
       "      <td>Puzzle</td>\n",
       "      <td>3.17</td>\n",
       "    </tr>\n",
       "  </tbody>\n",
       "</table>\n",
       "</div>"
      ],
      "text/plain": [
       "           genre  total_sales\n",
       "0         Action       322.50\n",
       "1        Shooter       232.98\n",
       "2         Sports       150.65\n",
       "3   Role-Playing       145.89\n",
       "4           Misc        63.06\n",
       "5       Platform        42.63\n",
       "6         Racing        39.89\n",
       "7       Fighting        35.31\n",
       "8      Adventure        23.64\n",
       "9     Simulation        21.76\n",
       "10      Strategy        10.08\n",
       "11        Puzzle         3.17"
      ]
     },
     "execution_count": 49,
     "metadata": {},
     "output_type": "execute_result"
    }
   ],
   "source": [
    "#Изучим продажи в зависимости от жанра, сделаем сводную таблицу\n",
    "genre_sales = df.query('year_of_release >= 2013').pivot_table(index='genre', values='total_sales', aggfunc='sum').sort_values(\n",
    "                                                                                            by='total_sales', ascending=False)\n",
    "genre_sales = genre_sales.reset_index().rename_axis(None, axis=1)\n",
    "genre_sales"
   ]
  },
  {
   "cell_type": "code",
   "execution_count": 50,
   "metadata": {},
   "outputs": [
    {
     "data": {
      "text/plain": [
       "Text(0, 0.5, 'Продажи')"
      ]
     },
     "execution_count": 50,
     "metadata": {},
     "output_type": "execute_result"
    },
    {
     "data": {
      "image/png": "[encoded data removed]",
      "text/plain": [
       "<Figure size 1080x432 with 1 Axes>"
      ]
     },
     "metadata": {
      "needs_background": "light"
     },
     "output_type": "display_data"
    }
   ],
   "source": [
    "#Построим график\n",
    "plt.figure(figsize=(15,6))\n",
    "sns.barplot(data=genre_sales, x='genre', y='total_sales')\n",
    "plt.title('Продажи игр по жанрам')\n",
    "plt.xlabel('Жанр')\n",
    "plt.ylabel('Продажи')"
   ]
  },
  {
   "cell_type": "code",
   "execution_count": 51,
   "metadata": {},
   "outputs": [
    {
     "data": {
      "text/html": [
       "<div>\n",
       "<style scoped>\n",
       "    .dataframe tbody tr th:only-of-type {\n",
       "        vertical-align: middle;\n",
       "    }\n",
       "\n",
       "    .dataframe tbody tr th {\n",
       "        vertical-align: top;\n",
       "    }\n",
       "\n",
       "    .dataframe thead th {\n",
       "        text-align: right;\n",
       "    }\n",
       "</style>\n",
       "<table border=\"1\" class=\"dataframe\">\n",
       "  <thead>\n",
       "    <tr style=\"text-align: right;\">\n",
       "      <th></th>\n",
       "      <th>genre</th>\n",
       "      <th>total_sales</th>\n",
       "    </tr>\n",
       "  </thead>\n",
       "  <tbody>\n",
       "    <tr>\n",
       "      <td>0</td>\n",
       "      <td>Shooter</td>\n",
       "      <td>1.245882</td>\n",
       "    </tr>\n",
       "    <tr>\n",
       "      <td>1</td>\n",
       "      <td>Sports</td>\n",
       "      <td>0.703972</td>\n",
       "    </tr>\n",
       "    <tr>\n",
       "      <td>2</td>\n",
       "      <td>Platform</td>\n",
       "      <td>0.576081</td>\n",
       "    </tr>\n",
       "    <tr>\n",
       "      <td>3</td>\n",
       "      <td>Role-Playing</td>\n",
       "      <td>0.499623</td>\n",
       "    </tr>\n",
       "    <tr>\n",
       "      <td>4</td>\n",
       "      <td>Racing</td>\n",
       "      <td>0.469294</td>\n",
       "    </tr>\n",
       "    <tr>\n",
       "      <td>5</td>\n",
       "      <td>Fighting</td>\n",
       "      <td>0.441375</td>\n",
       "    </tr>\n",
       "    <tr>\n",
       "      <td>6</td>\n",
       "      <td>Action</td>\n",
       "      <td>0.419376</td>\n",
       "    </tr>\n",
       "    <tr>\n",
       "      <td>7</td>\n",
       "      <td>Misc</td>\n",
       "      <td>0.404231</td>\n",
       "    </tr>\n",
       "    <tr>\n",
       "      <td>8</td>\n",
       "      <td>Simulation</td>\n",
       "      <td>0.350968</td>\n",
       "    </tr>\n",
       "    <tr>\n",
       "      <td>9</td>\n",
       "      <td>Puzzle</td>\n",
       "      <td>0.186471</td>\n",
       "    </tr>\n",
       "    <tr>\n",
       "      <td>10</td>\n",
       "      <td>Strategy</td>\n",
       "      <td>0.180000</td>\n",
       "    </tr>\n",
       "    <tr>\n",
       "      <td>11</td>\n",
       "      <td>Adventure</td>\n",
       "      <td>0.096490</td>\n",
       "    </tr>\n",
       "  </tbody>\n",
       "</table>\n",
       "</div>"
      ],
      "text/plain": [
       "           genre  total_sales\n",
       "0        Shooter     1.245882\n",
       "1         Sports     0.703972\n",
       "2       Platform     0.576081\n",
       "3   Role-Playing     0.499623\n",
       "4         Racing     0.469294\n",
       "5       Fighting     0.441375\n",
       "6         Action     0.419376\n",
       "7           Misc     0.404231\n",
       "8     Simulation     0.350968\n",
       "9         Puzzle     0.186471\n",
       "10      Strategy     0.180000\n",
       "11     Adventure     0.096490"
      ]
     },
     "execution_count": 51,
     "metadata": {},
     "output_type": "execute_result"
    }
   ],
   "source": [
    "#Изучим cредние продажи в зависимости от жанра, сделаем сводную таблицу\n",
    "genre_sales_mean = df.query('year_of_release >= 2013').pivot_table(index='genre', values='total_sales', \n",
    "                                                                   aggfunc='mean').sort_values(by='total_sales', \n",
    "                                                                                               ascending=False)\n",
    "genre_sales_mean = genre_sales_mean.reset_index().rename_axis(None, axis=1)\n",
    "genre_sales_mean"
   ]
  },
  {
   "cell_type": "code",
   "execution_count": 52,
   "metadata": {},
   "outputs": [
    {
     "data": {
      "text/plain": [
       "Text(0, 0.5, 'Продажи')"
      ]
     },
     "execution_count": 52,
     "metadata": {},
     "output_type": "execute_result"
    },
    {
     "data": {
      "image/png": "[encoded data removed]",
      "text/plain": [
       "<Figure size 1080x432 with 1 Axes>"
      ]
     },
     "metadata": {
      "needs_background": "light"
     },
     "output_type": "display_data"
    }
   ],
   "source": [
    "#Построим график\n",
    "plt.figure(figsize=(15,6))\n",
    "sns.barplot(data=genre_sales_mean, x='genre', y='total_sales')\n",
    "plt.title('Средние продажи игр на жанр')\n",
    "plt.xlabel('Жанр')\n",
    "plt.ylabel('Продажи')"
   ]
  },
  {
   "cell_type": "markdown",
   "metadata": {},
   "source": [
    "### Вывод"
   ]
  },
  {
   "cell_type": "markdown",
   "metadata": {},
   "source": [
    "Лучше всего продавались игры жанров Action и Shooter, хуже всего продавались стратегии и симуляторы с паззлами.\n",
    "\n",
    "- Action - 322.50 млн. копий\n",
    "- Shooter - 232.98 млн. копий\n",
    "- Sports - 150.65 млн. копий\n",
    "- Role-Playing - 145.89 млн. копий\n",
    "- Misc - 63.06 млн. копий\n",
    "- Platform - 42.63 млн. копий\n",
    "- Racing - 39.89 млн. копий\n",
    "- Fighting - 35.31 млн. копий\n",
    "- Adventure - 23.64 млн. копий\n",
    "- Simulation - 21.76 млн. копий\n",
    "- Strategy - 10.08 млн. копий\n",
    "- Puzzle - 3.17 млн. копий \n"
   ]
  },
  {
   "cell_type": "markdown",
   "metadata": {},
   "source": [
    "## Составим портрет пользователя каждого региона"
   ]
  },
  {
   "cell_type": "markdown",
   "metadata": {},
   "source": [
    "Определим для пользователя каждого региона (NA, EU, JP)"
   ]
  },
  {
   "cell_type": "markdown",
   "metadata": {},
   "source": [
    "### Самые популярные платформы (топ-5). Опишем различия в долях продаж"
   ]
  },
  {
   "cell_type": "code",
   "execution_count": 53,
   "metadata": {},
   "outputs": [
    {
     "data": {
      "text/html": [
       "<div>\n",
       "<style scoped>\n",
       "    .dataframe tbody tr th:only-of-type {\n",
       "        vertical-align: middle;\n",
       "    }\n",
       "\n",
       "    .dataframe tbody tr th {\n",
       "        vertical-align: top;\n",
       "    }\n",
       "\n",
       "    .dataframe thead th {\n",
       "        text-align: right;\n",
       "    }\n",
       "</style>\n",
       "<table border=\"1\" class=\"dataframe\">\n",
       "  <thead>\n",
       "    <tr style=\"text-align: right;\">\n",
       "      <th></th>\n",
       "      <th>platform</th>\n",
       "      <th>na_sales</th>\n",
       "    </tr>\n",
       "  </thead>\n",
       "  <tbody>\n",
       "    <tr>\n",
       "      <td>0</td>\n",
       "      <td>PS4</td>\n",
       "      <td>108.74</td>\n",
       "    </tr>\n",
       "    <tr>\n",
       "      <td>1</td>\n",
       "      <td>XOne</td>\n",
       "      <td>93.12</td>\n",
       "    </tr>\n",
       "    <tr>\n",
       "      <td>2</td>\n",
       "      <td>X360</td>\n",
       "      <td>81.66</td>\n",
       "    </tr>\n",
       "    <tr>\n",
       "      <td>3</td>\n",
       "      <td>PS3</td>\n",
       "      <td>63.50</td>\n",
       "    </tr>\n",
       "    <tr>\n",
       "      <td>4</td>\n",
       "      <td>3DS</td>\n",
       "      <td>38.20</td>\n",
       "    </tr>\n",
       "    <tr>\n",
       "      <td>5</td>\n",
       "      <td>WiiU</td>\n",
       "      <td>29.21</td>\n",
       "    </tr>\n",
       "    <tr>\n",
       "      <td>6</td>\n",
       "      <td>PC</td>\n",
       "      <td>11.19</td>\n",
       "    </tr>\n",
       "    <tr>\n",
       "      <td>7</td>\n",
       "      <td>Wii</td>\n",
       "      <td>6.56</td>\n",
       "    </tr>\n",
       "    <tr>\n",
       "      <td>8</td>\n",
       "      <td>PSV</td>\n",
       "      <td>5.04</td>\n",
       "    </tr>\n",
       "    <tr>\n",
       "      <td>9</td>\n",
       "      <td>DS</td>\n",
       "      <td>0.57</td>\n",
       "    </tr>\n",
       "    <tr>\n",
       "      <td>10</td>\n",
       "      <td>PSP</td>\n",
       "      <td>0.00</td>\n",
       "    </tr>\n",
       "  </tbody>\n",
       "</table>\n",
       "</div>"
      ],
      "text/plain": [
       "   platform  na_sales\n",
       "0       PS4    108.74\n",
       "1      XOne     93.12\n",
       "2      X360     81.66\n",
       "3       PS3     63.50\n",
       "4       3DS     38.20\n",
       "5      WiiU     29.21\n",
       "6        PC     11.19\n",
       "7       Wii      6.56\n",
       "8       PSV      5.04\n",
       "9        DS      0.57\n",
       "10      PSP      0.00"
      ]
     },
     "execution_count": 53,
     "metadata": {},
     "output_type": "execute_result"
    }
   ],
   "source": [
    "#Создадим сводную таблицу для платформ с продажами только в регионе NA\n",
    "na_platform_sales = df.query('year_of_release >= 2013').pivot_table(index='platform', values='na_sales', \n",
    "                                                                    aggfunc='sum').sort_values(by='na_sales',\n",
    "                                                                    ascending=False)                                                                                   \n",
    "na_platform_sales = na_platform_sales.reset_index().rename_axis(None, axis=1)\n",
    "na_platform_sales"
   ]
  },
  {
   "cell_type": "code",
   "execution_count": 54,
   "metadata": {},
   "outputs": [
    {
     "data": {
      "text/plain": [
       "Text(0, 0.5, 'Продажи')"
      ]
     },
     "execution_count": 54,
     "metadata": {},
     "output_type": "execute_result"
    },
    {
     "data": {
      "image/png": "[encoded data removed]",
      "text/plain": [
       "<Figure size 1080x432 with 1 Axes>"
      ]
     },
     "metadata": {
      "needs_background": "light"
     },
     "output_type": "display_data"
    }
   ],
   "source": [
    "#Построим график для региона NA\n",
    "plt.figure(figsize=(15,6))\n",
    "sns.barplot(data=na_platform_sales, x='platform', y='na_sales')\n",
    "plt.title('Продажи для платформ для региона NA')\n",
    "plt.xlabel('Платформа')\n",
    "plt.ylabel('Продажи')"
   ]
  },
  {
   "cell_type": "code",
   "execution_count": 55,
   "metadata": {},
   "outputs": [
    {
     "data": {
      "text/html": [
       "<div>\n",
       "<style scoped>\n",
       "    .dataframe tbody tr th:only-of-type {\n",
       "        vertical-align: middle;\n",
       "    }\n",
       "\n",
       "    .dataframe tbody tr th {\n",
       "        vertical-align: top;\n",
       "    }\n",
       "\n",
       "    .dataframe thead th {\n",
       "        text-align: right;\n",
       "    }\n",
       "</style>\n",
       "<table border=\"1\" class=\"dataframe\">\n",
       "  <thead>\n",
       "    <tr style=\"text-align: right;\">\n",
       "      <th></th>\n",
       "      <th>platform</th>\n",
       "      <th>eu_sales</th>\n",
       "    </tr>\n",
       "  </thead>\n",
       "  <tbody>\n",
       "    <tr>\n",
       "      <td>0</td>\n",
       "      <td>PS4</td>\n",
       "      <td>141.09</td>\n",
       "    </tr>\n",
       "    <tr>\n",
       "      <td>1</td>\n",
       "      <td>PS3</td>\n",
       "      <td>67.81</td>\n",
       "    </tr>\n",
       "    <tr>\n",
       "      <td>2</td>\n",
       "      <td>XOne</td>\n",
       "      <td>51.59</td>\n",
       "    </tr>\n",
       "    <tr>\n",
       "      <td>3</td>\n",
       "      <td>X360</td>\n",
       "      <td>42.52</td>\n",
       "    </tr>\n",
       "    <tr>\n",
       "      <td>4</td>\n",
       "      <td>3DS</td>\n",
       "      <td>30.96</td>\n",
       "    </tr>\n",
       "    <tr>\n",
       "      <td>5</td>\n",
       "      <td>PC</td>\n",
       "      <td>25.84</td>\n",
       "    </tr>\n",
       "    <tr>\n",
       "      <td>6</td>\n",
       "      <td>WiiU</td>\n",
       "      <td>19.85</td>\n",
       "    </tr>\n",
       "    <tr>\n",
       "      <td>7</td>\n",
       "      <td>PSV</td>\n",
       "      <td>6.10</td>\n",
       "    </tr>\n",
       "    <tr>\n",
       "      <td>8</td>\n",
       "      <td>Wii</td>\n",
       "      <td>5.93</td>\n",
       "    </tr>\n",
       "    <tr>\n",
       "      <td>9</td>\n",
       "      <td>DS</td>\n",
       "      <td>0.85</td>\n",
       "    </tr>\n",
       "    <tr>\n",
       "      <td>10</td>\n",
       "      <td>PSP</td>\n",
       "      <td>0.17</td>\n",
       "    </tr>\n",
       "  </tbody>\n",
       "</table>\n",
       "</div>"
      ],
      "text/plain": [
       "   platform  eu_sales\n",
       "0       PS4    141.09\n",
       "1       PS3     67.81\n",
       "2      XOne     51.59\n",
       "3      X360     42.52\n",
       "4       3DS     30.96\n",
       "5        PC     25.84\n",
       "6      WiiU     19.85\n",
       "7       PSV      6.10\n",
       "8       Wii      5.93\n",
       "9        DS      0.85\n",
       "10      PSP      0.17"
      ]
     },
     "execution_count": 55,
     "metadata": {},
     "output_type": "execute_result"
    }
   ],
   "source": [
    "#Создадим сводную таблицу для платформ с продажами только в регионе EU\n",
    "eu_platform_sales = df.query('year_of_release >= 2013').pivot_table(index='platform', values='eu_sales', \n",
    "                                                                    aggfunc='sum').sort_values(by='eu_sales',\n",
    "                                                                                                   ascending=False)                                                                                   \n",
    "eu_platform_sales = eu_platform_sales.reset_index().rename_axis(None, axis=1)\n",
    "eu_platform_sales"
   ]
  },
  {
   "cell_type": "code",
   "execution_count": 56,
   "metadata": {},
   "outputs": [
    {
     "data": {
      "text/plain": [
       "Text(0, 0.5, 'Продажи')"
      ]
     },
     "execution_count": 56,
     "metadata": {},
     "output_type": "execute_result"
    },
    {
     "data": {
      "image/png": "[encoded data removed]",
      "text/plain": [
       "<Figure size 1080x432 with 1 Axes>"
      ]
     },
     "metadata": {
      "needs_background": "light"
     },
     "output_type": "display_data"
    }
   ],
   "source": [
    "#Построим график для региона EU\n",
    "plt.figure(figsize=(15,6))\n",
    "sns.barplot(data=eu_platform_sales, x='platform', y='eu_sales')\n",
    "plt.title('Продажи для платформ для региона EU')\n",
    "plt.xlabel('Платформа')\n",
    "plt.ylabel('Продажи')"
   ]
  },
  {
   "cell_type": "code",
   "execution_count": 57,
   "metadata": {},
   "outputs": [
    {
     "data": {
      "text/html": [
       "<div>\n",
       "<style scoped>\n",
       "    .dataframe tbody tr th:only-of-type {\n",
       "        vertical-align: middle;\n",
       "    }\n",
       "\n",
       "    .dataframe tbody tr th {\n",
       "        vertical-align: top;\n",
       "    }\n",
       "\n",
       "    .dataframe thead th {\n",
       "        text-align: right;\n",
       "    }\n",
       "</style>\n",
       "<table border=\"1\" class=\"dataframe\">\n",
       "  <thead>\n",
       "    <tr style=\"text-align: right;\">\n",
       "      <th></th>\n",
       "      <th>platform</th>\n",
       "      <th>jp_sales</th>\n",
       "    </tr>\n",
       "  </thead>\n",
       "  <tbody>\n",
       "    <tr>\n",
       "      <td>0</td>\n",
       "      <td>3DS</td>\n",
       "      <td>67.81</td>\n",
       "    </tr>\n",
       "    <tr>\n",
       "      <td>1</td>\n",
       "      <td>PS3</td>\n",
       "      <td>23.35</td>\n",
       "    </tr>\n",
       "    <tr>\n",
       "      <td>2</td>\n",
       "      <td>PSV</td>\n",
       "      <td>18.59</td>\n",
       "    </tr>\n",
       "    <tr>\n",
       "      <td>3</td>\n",
       "      <td>PS4</td>\n",
       "      <td>15.96</td>\n",
       "    </tr>\n",
       "    <tr>\n",
       "      <td>4</td>\n",
       "      <td>WiiU</td>\n",
       "      <td>10.88</td>\n",
       "    </tr>\n",
       "    <tr>\n",
       "      <td>5</td>\n",
       "      <td>PSP</td>\n",
       "      <td>3.53</td>\n",
       "    </tr>\n",
       "    <tr>\n",
       "      <td>6</td>\n",
       "      <td>X360</td>\n",
       "      <td>0.51</td>\n",
       "    </tr>\n",
       "    <tr>\n",
       "      <td>7</td>\n",
       "      <td>XOne</td>\n",
       "      <td>0.34</td>\n",
       "    </tr>\n",
       "    <tr>\n",
       "      <td>8</td>\n",
       "      <td>Wii</td>\n",
       "      <td>0.05</td>\n",
       "    </tr>\n",
       "    <tr>\n",
       "      <td>9</td>\n",
       "      <td>DS</td>\n",
       "      <td>0.00</td>\n",
       "    </tr>\n",
       "    <tr>\n",
       "      <td>10</td>\n",
       "      <td>PC</td>\n",
       "      <td>0.00</td>\n",
       "    </tr>\n",
       "  </tbody>\n",
       "</table>\n",
       "</div>"
      ],
      "text/plain": [
       "   platform  jp_sales\n",
       "0       3DS     67.81\n",
       "1       PS3     23.35\n",
       "2       PSV     18.59\n",
       "3       PS4     15.96\n",
       "4      WiiU     10.88\n",
       "5       PSP      3.53\n",
       "6      X360      0.51\n",
       "7      XOne      0.34\n",
       "8       Wii      0.05\n",
       "9        DS      0.00\n",
       "10       PC      0.00"
      ]
     },
     "execution_count": 57,
     "metadata": {},
     "output_type": "execute_result"
    }
   ],
   "source": [
    "#Создадим сводную таблицу для платформ с продажами только в регионе JP\n",
    "jp_platform_sales = df.query('year_of_release >= 2013').pivot_table(index='platform', values='jp_sales', \n",
    "                                                                    aggfunc='sum').sort_values(by='jp_sales',\n",
    "                                                                                                   ascending=False)                                                                                   \n",
    "jp_platform_sales = jp_platform_sales.reset_index().rename_axis(None, axis=1)\n",
    "jp_platform_sales"
   ]
  },
  {
   "cell_type": "code",
   "execution_count": 58,
   "metadata": {},
   "outputs": [
    {
     "data": {
      "text/plain": [
       "Text(0, 0.5, 'Продажи')"
      ]
     },
     "execution_count": 58,
     "metadata": {},
     "output_type": "execute_result"
    },
    {
     "data": {
      "image/png": "[encoded data removed]",
      "text/plain": [
       "<Figure size 1080x432 with 1 Axes>"
      ]
     },
     "metadata": {
      "needs_background": "light"
     },
     "output_type": "display_data"
    }
   ],
   "source": [
    "#Построим график для региона JP\n",
    "plt.figure(figsize=(15,6))\n",
    "sns.barplot(data=jp_platform_sales, x='platform', y='jp_sales')\n",
    "plt.title('Продажи для платформ для региона JP')\n",
    "plt.xlabel('Платформа')\n",
    "plt.ylabel('Продажи')"
   ]
  },
  {
   "cell_type": "markdown",
   "metadata": {},
   "source": [
    "### Вывод"
   ]
  },
  {
   "cell_type": "markdown",
   "metadata": {},
   "source": [
    "Самые популярные платформы (топ-5) по продажам в NA за период с 2013 года:\n",
    "- PS4 - 108.74 млн. копий\n",
    "- XOne - 93.12 млн. копий\n",
    "- X360 - 81.66 млн. копий\n",
    "- PS3 - 63.50 млн. копий\n",
    "- 3DS - 38.20 млн. копий\n",
    "\n",
    "Самые популярные платформы (топ-5) по продажам в EU за период с 2013 года:\n",
    "- PS4 - 141.09 млн. копий\n",
    "- PS3 - 67.81 млн. копий\n",
    "- XOne - 51.59 млн. копий\n",
    "- X360 - 42.52 млн. копий\n",
    "- 3DS - 30.96 млн. копий\n",
    "\n",
    "Самые популярные платформы (топ-5) по продажам в JP за период с 2013 года:\n",
    "- 3DS - 67.81 млн. копий\n",
    "- PS3 - 23.35 млн. копий\n",
    "- PSV - 18.59 млн. копий\n",
    "- PS4 - 15.96 млн. копий\n",
    "- WiiU - 10.88 млн. копий\n",
    "\n",
    "Видно, что во всех регионах были популярны консоли фирм Nintendo, Microsoft (кроме японского региона) и Sony, они входили в топ-5."
   ]
  },
  {
   "cell_type": "markdown",
   "metadata": {},
   "source": [
    "### Самые популярные жанры (топ-5)"
   ]
  },
  {
   "cell_type": "code",
   "execution_count": 59,
   "metadata": {},
   "outputs": [
    {
     "data": {
      "text/html": [
       "<div>\n",
       "<style scoped>\n",
       "    .dataframe tbody tr th:only-of-type {\n",
       "        vertical-align: middle;\n",
       "    }\n",
       "\n",
       "    .dataframe tbody tr th {\n",
       "        vertical-align: top;\n",
       "    }\n",
       "\n",
       "    .dataframe thead th {\n",
       "        text-align: right;\n",
       "    }\n",
       "</style>\n",
       "<table border=\"1\" class=\"dataframe\">\n",
       "  <thead>\n",
       "    <tr style=\"text-align: right;\">\n",
       "      <th></th>\n",
       "      <th>genre</th>\n",
       "      <th>na_sales</th>\n",
       "    </tr>\n",
       "  </thead>\n",
       "  <tbody>\n",
       "    <tr>\n",
       "      <td>0</td>\n",
       "      <td>Action</td>\n",
       "      <td>126.13</td>\n",
       "    </tr>\n",
       "    <tr>\n",
       "      <td>1</td>\n",
       "      <td>Shooter</td>\n",
       "      <td>109.74</td>\n",
       "    </tr>\n",
       "    <tr>\n",
       "      <td>2</td>\n",
       "      <td>Sports</td>\n",
       "      <td>65.27</td>\n",
       "    </tr>\n",
       "    <tr>\n",
       "      <td>3</td>\n",
       "      <td>Role-Playing</td>\n",
       "      <td>46.40</td>\n",
       "    </tr>\n",
       "    <tr>\n",
       "      <td>4</td>\n",
       "      <td>Misc</td>\n",
       "      <td>27.49</td>\n",
       "    </tr>\n",
       "    <tr>\n",
       "      <td>5</td>\n",
       "      <td>Platform</td>\n",
       "      <td>18.14</td>\n",
       "    </tr>\n",
       "    <tr>\n",
       "      <td>6</td>\n",
       "      <td>Fighting</td>\n",
       "      <td>15.55</td>\n",
       "    </tr>\n",
       "    <tr>\n",
       "      <td>7</td>\n",
       "      <td>Racing</td>\n",
       "      <td>12.96</td>\n",
       "    </tr>\n",
       "    <tr>\n",
       "      <td>8</td>\n",
       "      <td>Adventure</td>\n",
       "      <td>7.14</td>\n",
       "    </tr>\n",
       "    <tr>\n",
       "      <td>9</td>\n",
       "      <td>Simulation</td>\n",
       "      <td>4.86</td>\n",
       "    </tr>\n",
       "    <tr>\n",
       "      <td>10</td>\n",
       "      <td>Strategy</td>\n",
       "      <td>3.28</td>\n",
       "    </tr>\n",
       "    <tr>\n",
       "      <td>11</td>\n",
       "      <td>Puzzle</td>\n",
       "      <td>0.83</td>\n",
       "    </tr>\n",
       "  </tbody>\n",
       "</table>\n",
       "</div>"
      ],
      "text/plain": [
       "           genre  na_sales\n",
       "0         Action    126.13\n",
       "1        Shooter    109.74\n",
       "2         Sports     65.27\n",
       "3   Role-Playing     46.40\n",
       "4           Misc     27.49\n",
       "5       Platform     18.14\n",
       "6       Fighting     15.55\n",
       "7         Racing     12.96\n",
       "8      Adventure      7.14\n",
       "9     Simulation      4.86\n",
       "10      Strategy      3.28\n",
       "11        Puzzle      0.83"
      ]
     },
     "execution_count": 59,
     "metadata": {},
     "output_type": "execute_result"
    }
   ],
   "source": [
    "#Создадим сводную таблицу для жанров с продажами только в регионе NA\n",
    "na_genre_sales = df.query('year_of_release >= 2013').pivot_table(index='genre', values='na_sales', \n",
    "                                                                 aggfunc='sum').sort_values(by='na_sales',\n",
    "                                                                                                   ascending=False)                                                                                   \n",
    "na_genre_sales = na_genre_sales.reset_index().rename_axis(None, axis=1)\n",
    "na_genre_sales"
   ]
  },
  {
   "cell_type": "code",
   "execution_count": 60,
   "metadata": {},
   "outputs": [
    {
     "data": {
      "text/plain": [
       "Text(0.5, 0, 'Жанр')"
      ]
     },
     "execution_count": 60,
     "metadata": {},
     "output_type": "execute_result"
    },
    {
     "data": {
      "image/png": "[encoded data removed]",
      "text/plain": [
       "<Figure size 1080x432 with 1 Axes>"
      ]
     },
     "metadata": {
      "needs_background": "light"
     },
     "output_type": "display_data"
    }
   ],
   "source": [
    "#Построим график для региона NA\n",
    "plt.figure(figsize=(15,6))\n",
    "sns.barplot(data=na_genre_sales, x='genre', y='na_sales')\n",
    "plt.title('Продажи по жанрам для региона NA')\n",
    "plt.xlabel('Жанр')"
   ]
  },
  {
   "cell_type": "code",
   "execution_count": 61,
   "metadata": {},
   "outputs": [
    {
     "data": {
      "text/html": [
       "<div>\n",
       "<style scoped>\n",
       "    .dataframe tbody tr th:only-of-type {\n",
       "        vertical-align: middle;\n",
       "    }\n",
       "\n",
       "    .dataframe tbody tr th {\n",
       "        vertical-align: top;\n",
       "    }\n",
       "\n",
       "    .dataframe thead th {\n",
       "        text-align: right;\n",
       "    }\n",
       "</style>\n",
       "<table border=\"1\" class=\"dataframe\">\n",
       "  <thead>\n",
       "    <tr style=\"text-align: right;\">\n",
       "      <th></th>\n",
       "      <th>genre</th>\n",
       "      <th>eu_sales</th>\n",
       "    </tr>\n",
       "  </thead>\n",
       "  <tbody>\n",
       "    <tr>\n",
       "      <td>0</td>\n",
       "      <td>Action</td>\n",
       "      <td>118.61</td>\n",
       "    </tr>\n",
       "    <tr>\n",
       "      <td>1</td>\n",
       "      <td>Shooter</td>\n",
       "      <td>87.86</td>\n",
       "    </tr>\n",
       "    <tr>\n",
       "      <td>2</td>\n",
       "      <td>Sports</td>\n",
       "      <td>60.52</td>\n",
       "    </tr>\n",
       "    <tr>\n",
       "      <td>3</td>\n",
       "      <td>Role-Playing</td>\n",
       "      <td>36.97</td>\n",
       "    </tr>\n",
       "    <tr>\n",
       "      <td>4</td>\n",
       "      <td>Racing</td>\n",
       "      <td>20.19</td>\n",
       "    </tr>\n",
       "    <tr>\n",
       "      <td>5</td>\n",
       "      <td>Misc</td>\n",
       "      <td>20.04</td>\n",
       "    </tr>\n",
       "    <tr>\n",
       "      <td>6</td>\n",
       "      <td>Platform</td>\n",
       "      <td>15.58</td>\n",
       "    </tr>\n",
       "    <tr>\n",
       "      <td>7</td>\n",
       "      <td>Simulation</td>\n",
       "      <td>10.92</td>\n",
       "    </tr>\n",
       "    <tr>\n",
       "      <td>8</td>\n",
       "      <td>Fighting</td>\n",
       "      <td>8.55</td>\n",
       "    </tr>\n",
       "    <tr>\n",
       "      <td>9</td>\n",
       "      <td>Adventure</td>\n",
       "      <td>8.25</td>\n",
       "    </tr>\n",
       "    <tr>\n",
       "      <td>10</td>\n",
       "      <td>Strategy</td>\n",
       "      <td>4.22</td>\n",
       "    </tr>\n",
       "    <tr>\n",
       "      <td>11</td>\n",
       "      <td>Puzzle</td>\n",
       "      <td>1.00</td>\n",
       "    </tr>\n",
       "  </tbody>\n",
       "</table>\n",
       "</div>"
      ],
      "text/plain": [
       "           genre  eu_sales\n",
       "0         Action    118.61\n",
       "1        Shooter     87.86\n",
       "2         Sports     60.52\n",
       "3   Role-Playing     36.97\n",
       "4         Racing     20.19\n",
       "5           Misc     20.04\n",
       "6       Platform     15.58\n",
       "7     Simulation     10.92\n",
       "8       Fighting      8.55\n",
       "9      Adventure      8.25\n",
       "10      Strategy      4.22\n",
       "11        Puzzle      1.00"
      ]
     },
     "execution_count": 61,
     "metadata": {},
     "output_type": "execute_result"
    }
   ],
   "source": [
    "#Создадим сводную таблицу для жанров с продажами только в регионе EU\n",
    "eu_genre_sales = df.query('year_of_release >= 2013').pivot_table(index='genre', values='eu_sales', \n",
    "                                                                 aggfunc='sum').sort_values(by='eu_sales',\n",
    "                                                                                                   ascending=False)                                                                                   \n",
    "eu_genre_sales = eu_genre_sales.reset_index().rename_axis(None, axis=1)\n",
    "eu_genre_sales"
   ]
  },
  {
   "cell_type": "code",
   "execution_count": 62,
   "metadata": {},
   "outputs": [
    {
     "data": {
      "text/plain": [
       "Text(0.5, 0, 'Жанр')"
      ]
     },
     "execution_count": 62,
     "metadata": {},
     "output_type": "execute_result"
    },
    {
     "data": {
      "image/png": "[encoded data removed]",
      "text/plain": [
       "<Figure size 1080x432 with 1 Axes>"
      ]
     },
     "metadata": {
      "needs_background": "light"
     },
     "output_type": "display_data"
    }
   ],
   "source": [
    "#Построим график для региона EU\n",
    "plt.figure(figsize=(15,6))\n",
    "sns.barplot(data=eu_genre_sales, x='genre', y='eu_sales')\n",
    "plt.title('Продажи по жанрам для региона EU')\n",
    "plt.xlabel('Жанр')"
   ]
  },
  {
   "cell_type": "code",
   "execution_count": 63,
   "metadata": {},
   "outputs": [
    {
     "data": {
      "text/html": [
       "<div>\n",
       "<style scoped>\n",
       "    .dataframe tbody tr th:only-of-type {\n",
       "        vertical-align: middle;\n",
       "    }\n",
       "\n",
       "    .dataframe tbody tr th {\n",
       "        vertical-align: top;\n",
       "    }\n",
       "\n",
       "    .dataframe thead th {\n",
       "        text-align: right;\n",
       "    }\n",
       "</style>\n",
       "<table border=\"1\" class=\"dataframe\">\n",
       "  <thead>\n",
       "    <tr style=\"text-align: right;\">\n",
       "      <th></th>\n",
       "      <th>genre</th>\n",
       "      <th>jp_sales</th>\n",
       "    </tr>\n",
       "  </thead>\n",
       "  <tbody>\n",
       "    <tr>\n",
       "      <td>0</td>\n",
       "      <td>Role-Playing</td>\n",
       "      <td>51.04</td>\n",
       "    </tr>\n",
       "    <tr>\n",
       "      <td>1</td>\n",
       "      <td>Action</td>\n",
       "      <td>40.49</td>\n",
       "    </tr>\n",
       "    <tr>\n",
       "      <td>2</td>\n",
       "      <td>Misc</td>\n",
       "      <td>9.44</td>\n",
       "    </tr>\n",
       "    <tr>\n",
       "      <td>3</td>\n",
       "      <td>Fighting</td>\n",
       "      <td>7.65</td>\n",
       "    </tr>\n",
       "    <tr>\n",
       "      <td>4</td>\n",
       "      <td>Shooter</td>\n",
       "      <td>6.61</td>\n",
       "    </tr>\n",
       "    <tr>\n",
       "      <td>5</td>\n",
       "      <td>Adventure</td>\n",
       "      <td>5.82</td>\n",
       "    </tr>\n",
       "    <tr>\n",
       "      <td>6</td>\n",
       "      <td>Sports</td>\n",
       "      <td>5.41</td>\n",
       "    </tr>\n",
       "    <tr>\n",
       "      <td>7</td>\n",
       "      <td>Platform</td>\n",
       "      <td>4.79</td>\n",
       "    </tr>\n",
       "    <tr>\n",
       "      <td>8</td>\n",
       "      <td>Simulation</td>\n",
       "      <td>4.52</td>\n",
       "    </tr>\n",
       "    <tr>\n",
       "      <td>9</td>\n",
       "      <td>Racing</td>\n",
       "      <td>2.30</td>\n",
       "    </tr>\n",
       "    <tr>\n",
       "      <td>10</td>\n",
       "      <td>Strategy</td>\n",
       "      <td>1.77</td>\n",
       "    </tr>\n",
       "    <tr>\n",
       "      <td>11</td>\n",
       "      <td>Puzzle</td>\n",
       "      <td>1.18</td>\n",
       "    </tr>\n",
       "  </tbody>\n",
       "</table>\n",
       "</div>"
      ],
      "text/plain": [
       "           genre  jp_sales\n",
       "0   Role-Playing     51.04\n",
       "1         Action     40.49\n",
       "2           Misc      9.44\n",
       "3       Fighting      7.65\n",
       "4        Shooter      6.61\n",
       "5      Adventure      5.82\n",
       "6         Sports      5.41\n",
       "7       Platform      4.79\n",
       "8     Simulation      4.52\n",
       "9         Racing      2.30\n",
       "10      Strategy      1.77\n",
       "11        Puzzle      1.18"
      ]
     },
     "execution_count": 63,
     "metadata": {},
     "output_type": "execute_result"
    }
   ],
   "source": [
    "#Создадим сводную таблицу для жанров с продажами только в регионе JP\n",
    "jp_genre_sales = df.query('year_of_release >= 2013').pivot_table(index='genre', values='jp_sales', \n",
    "                                                                 aggfunc='sum').sort_values(by='jp_sales',\n",
    "                                                                                                   ascending=False)                                                                                   \n",
    "jp_genre_sales = jp_genre_sales.reset_index().rename_axis(None, axis=1)\n",
    "jp_genre_sales"
   ]
  },
  {
   "cell_type": "code",
   "execution_count": 64,
   "metadata": {},
   "outputs": [
    {
     "data": {
      "text/plain": [
       "Text(0.5, 0, 'Жанр')"
      ]
     },
     "execution_count": 64,
     "metadata": {},
     "output_type": "execute_result"
    },
    {
     "data": {
      "image/png": "[encoded data removed]",
      "text/plain": [
       "<Figure size 1080x432 with 1 Axes>"
      ]
     },
     "metadata": {
      "needs_background": "light"
     },
     "output_type": "display_data"
    }
   ],
   "source": [
    "#Построим график для региона JP\n",
    "plt.figure(figsize=(15,6))\n",
    "sns.barplot(data=jp_genre_sales, x='genre', y='jp_sales')\n",
    "plt.title('Продажи по жанрам для региона JP')\n",
    "plt.xlabel('Жанр')"
   ]
  },
  {
   "cell_type": "markdown",
   "metadata": {},
   "source": [
    "### Вывод"
   ]
  },
  {
   "cell_type": "markdown",
   "metadata": {},
   "source": [
    "Самые популярные жанры (топ-5) в NA с 2013 года:\n",
    "- Action - 126.13 млн.копий\n",
    "- Shooter - 109.74 млн.копий\n",
    "- Sports - 65.27 млн.копий\n",
    "- Role-Playing - 46.40 млн.копий\n",
    "- Misc - 27.49 млн.копий\n",
    "\n",
    "Самые популярные жанры (топ-5) в EU с 2013 года:\n",
    "- Action - 118.61 млн.копий\n",
    "- Shooter - 87.86 млн.копий\n",
    "- Sports - 60.52 млн.копий\n",
    "- Role-Playing - 36.97 млн.копий\n",
    "- Racing - 20.19 млн.копий\n",
    "\n",
    "Самые популярные жанры (топ-5) в JP с 2013 года:\n",
    "- Role-Playing - 51.04 млн.копий\n",
    "- Action - 40.49 млн.копий\n",
    "- Misc - 9.44 млн.копий\n",
    "- Fighting - 7.65 млн.копий\n",
    "- Shooter - 6.61 млн.копий\n",
    "\n",
    "В принципе, во всех регионах в топ входят жанры Action, Role-Playing, Shooter, но есть и некоторая специфика для региона (например, в JP больше всего продавалось игр жанра Role-Playing)."
   ]
  },
  {
   "cell_type": "markdown",
   "metadata": {},
   "source": [
    "### Влияет ли рейтинг ESRB на продажи в отдельном регионе?"
   ]
  },
  {
   "cell_type": "code",
   "execution_count": 65,
   "metadata": {},
   "outputs": [
    {
     "data": {
      "text/html": [
       "<div>\n",
       "<style scoped>\n",
       "    .dataframe tbody tr th:only-of-type {\n",
       "        vertical-align: middle;\n",
       "    }\n",
       "\n",
       "    .dataframe tbody tr th {\n",
       "        vertical-align: top;\n",
       "    }\n",
       "\n",
       "    .dataframe thead th {\n",
       "        text-align: right;\n",
       "    }\n",
       "</style>\n",
       "<table border=\"1\" class=\"dataframe\">\n",
       "  <thead>\n",
       "    <tr style=\"text-align: right;\">\n",
       "      <th></th>\n",
       "      <th>rating</th>\n",
       "      <th>na_sales</th>\n",
       "    </tr>\n",
       "  </thead>\n",
       "  <tbody>\n",
       "    <tr>\n",
       "      <td>0</td>\n",
       "      <td>M</td>\n",
       "      <td>165.29</td>\n",
       "    </tr>\n",
       "    <tr>\n",
       "      <td>1</td>\n",
       "      <td>No rating</td>\n",
       "      <td>89.42</td>\n",
       "    </tr>\n",
       "    <tr>\n",
       "      <td>2</td>\n",
       "      <td>E</td>\n",
       "      <td>79.05</td>\n",
       "    </tr>\n",
       "    <tr>\n",
       "      <td>3</td>\n",
       "      <td>E10+</td>\n",
       "      <td>54.24</td>\n",
       "    </tr>\n",
       "    <tr>\n",
       "      <td>4</td>\n",
       "      <td>T</td>\n",
       "      <td>49.79</td>\n",
       "    </tr>\n",
       "  </tbody>\n",
       "</table>\n",
       "</div>"
      ],
      "text/plain": [
       "      rating  na_sales\n",
       "0          M    165.29\n",
       "1  No rating     89.42\n",
       "2          E     79.05\n",
       "3       E10+     54.24\n",
       "4          T     49.79"
      ]
     },
     "execution_count": 65,
     "metadata": {},
     "output_type": "execute_result"
    }
   ],
   "source": [
    "#Создадим сводную таблицу для рейтинга с продажами только в регионе NA\n",
    "df['rating'] = df['rating'].fillna('No rating')\n",
    "na_rating_sales = df.query('year_of_release >= 2013').pivot_table(index='rating', values='na_sales', \n",
    "                                                                  aggfunc='sum').sort_values(by='na_sales',\n",
    "                                                                                                   ascending=False)                                                                                   \n",
    "na_rating_sales = na_rating_sales.reset_index().rename_axis(None, axis=1)\n",
    "na_rating_sales"
   ]
  },
  {
   "cell_type": "code",
   "execution_count": 66,
   "metadata": {},
   "outputs": [
    {
     "data": {
      "text/plain": [
       "Text(0.5, 0, 'Рейтинг ESRB')"
      ]
     },
     "execution_count": 66,
     "metadata": {},
     "output_type": "execute_result"
    },
    {
     "data": {
      "image/png": "[encoded data removed]",
      "text/plain": [
       "<Figure size 1080x432 with 1 Axes>"
      ]
     },
     "metadata": {
      "needs_background": "light"
     },
     "output_type": "display_data"
    }
   ],
   "source": [
    "#Построим график для региона NA\n",
    "plt.figure(figsize=(15,6))\n",
    "sns.barplot(data=na_rating_sales, x='rating', y='na_sales')\n",
    "plt.title('Продажи по рейтингу для региона NA')\n",
    "plt.xlabel('Рейтинг ESRB')"
   ]
  },
  {
   "cell_type": "code",
   "execution_count": 67,
   "metadata": {},
   "outputs": [
    {
     "data": {
      "text/html": [
       "<div>\n",
       "<style scoped>\n",
       "    .dataframe tbody tr th:only-of-type {\n",
       "        vertical-align: middle;\n",
       "    }\n",
       "\n",
       "    .dataframe tbody tr th {\n",
       "        vertical-align: top;\n",
       "    }\n",
       "\n",
       "    .dataframe thead th {\n",
       "        text-align: right;\n",
       "    }\n",
       "</style>\n",
       "<table border=\"1\" class=\"dataframe\">\n",
       "  <thead>\n",
       "    <tr style=\"text-align: right;\">\n",
       "      <th></th>\n",
       "      <th>rating</th>\n",
       "      <th>eu_sales</th>\n",
       "    </tr>\n",
       "  </thead>\n",
       "  <tbody>\n",
       "    <tr>\n",
       "      <td>0</td>\n",
       "      <td>M</td>\n",
       "      <td>145.80</td>\n",
       "    </tr>\n",
       "    <tr>\n",
       "      <td>1</td>\n",
       "      <td>E</td>\n",
       "      <td>83.36</td>\n",
       "    </tr>\n",
       "    <tr>\n",
       "      <td>2</td>\n",
       "      <td>No rating</td>\n",
       "      <td>78.91</td>\n",
       "    </tr>\n",
       "    <tr>\n",
       "      <td>3</td>\n",
       "      <td>E10+</td>\n",
       "      <td>42.69</td>\n",
       "    </tr>\n",
       "    <tr>\n",
       "      <td>4</td>\n",
       "      <td>T</td>\n",
       "      <td>41.95</td>\n",
       "    </tr>\n",
       "  </tbody>\n",
       "</table>\n",
       "</div>"
      ],
      "text/plain": [
       "      rating  eu_sales\n",
       "0          M    145.80\n",
       "1          E     83.36\n",
       "2  No rating     78.91\n",
       "3       E10+     42.69\n",
       "4          T     41.95"
      ]
     },
     "execution_count": 67,
     "metadata": {},
     "output_type": "execute_result"
    }
   ],
   "source": [
    "#Создадим сводную таблицу для рейтинга с продажами только в регионе EU\n",
    "eu_rating_sales = df.query('year_of_release >= 2013').pivot_table(index='rating', values='eu_sales', \n",
    "                                                                  aggfunc='sum').sort_values(by='eu_sales',\n",
    "                                                                                                   ascending=False)                                                                                   \n",
    "eu_rating_sales = eu_rating_sales.reset_index().rename_axis(None, axis=1)\n",
    "eu_rating_sales"
   ]
  },
  {
   "cell_type": "code",
   "execution_count": 68,
   "metadata": {},
   "outputs": [
    {
     "data": {
      "text/plain": [
       "Text(0.5, 0, 'Рейтинг ESRB')"
      ]
     },
     "execution_count": 68,
     "metadata": {},
     "output_type": "execute_result"
    },
    {
     "data": {
      "image/png": "[encoded data removed]",
      "text/plain": [
       "<Figure size 1080x432 with 1 Axes>"
      ]
     },
     "metadata": {
      "needs_background": "light"
     },
     "output_type": "display_data"
    }
   ],
   "source": [
    "#Построим график для региона EU\n",
    "plt.figure(figsize=(15,6))\n",
    "sns.barplot(data=eu_rating_sales, x='rating', y='eu_sales')\n",
    "plt.title('Продажи по рейтингу для региона EU')\n",
    "plt.xlabel('Рейтинг ESRB')"
   ]
  },
  {
   "cell_type": "code",
   "execution_count": 69,
   "metadata": {},
   "outputs": [
    {
     "data": {
      "text/html": [
       "<div>\n",
       "<style scoped>\n",
       "    .dataframe tbody tr th:only-of-type {\n",
       "        vertical-align: middle;\n",
       "    }\n",
       "\n",
       "    .dataframe tbody tr th {\n",
       "        vertical-align: top;\n",
       "    }\n",
       "\n",
       "    .dataframe thead th {\n",
       "        text-align: right;\n",
       "    }\n",
       "</style>\n",
       "<table border=\"1\" class=\"dataframe\">\n",
       "  <thead>\n",
       "    <tr style=\"text-align: right;\">\n",
       "      <th></th>\n",
       "      <th>rating</th>\n",
       "      <th>jp_sales</th>\n",
       "    </tr>\n",
       "  </thead>\n",
       "  <tbody>\n",
       "    <tr>\n",
       "      <td>0</td>\n",
       "      <td>No rating</td>\n",
       "      <td>85.29</td>\n",
       "    </tr>\n",
       "    <tr>\n",
       "      <td>1</td>\n",
       "      <td>T</td>\n",
       "      <td>20.59</td>\n",
       "    </tr>\n",
       "    <tr>\n",
       "      <td>2</td>\n",
       "      <td>E</td>\n",
       "      <td>15.14</td>\n",
       "    </tr>\n",
       "    <tr>\n",
       "      <td>3</td>\n",
       "      <td>M</td>\n",
       "      <td>14.11</td>\n",
       "    </tr>\n",
       "    <tr>\n",
       "      <td>4</td>\n",
       "      <td>E10+</td>\n",
       "      <td>5.89</td>\n",
       "    </tr>\n",
       "  </tbody>\n",
       "</table>\n",
       "</div>"
      ],
      "text/plain": [
       "      rating  jp_sales\n",
       "0  No rating     85.29\n",
       "1          T     20.59\n",
       "2          E     15.14\n",
       "3          M     14.11\n",
       "4       E10+      5.89"
      ]
     },
     "execution_count": 69,
     "metadata": {},
     "output_type": "execute_result"
    }
   ],
   "source": [
    "#Создадим сводную таблицу для рейтинга с продажами только в регионе JP\n",
    "jp_rating_sales = df.query('year_of_release >= 2013').pivot_table(index='rating', values='jp_sales', \n",
    "                                                                  aggfunc='sum').sort_values(by='jp_sales',\n",
    "                                                                                                   ascending=False)                                                                                   \n",
    "jp_rating_sales = jp_rating_sales.reset_index().rename_axis(None, axis=1)\n",
    "jp_rating_sales"
   ]
  },
  {
   "cell_type": "code",
   "execution_count": 70,
   "metadata": {},
   "outputs": [
    {
     "data": {
      "text/plain": [
       "Text(0.5, 0, 'Рейтинг ESRB')"
      ]
     },
     "execution_count": 70,
     "metadata": {},
     "output_type": "execute_result"
    },
    {
     "data": {
      "image/png": "[encoded data removed]",
      "text/plain": [
       "<Figure size 1080x432 with 1 Axes>"
      ]
     },
     "metadata": {
      "needs_background": "light"
     },
     "output_type": "display_data"
    }
   ],
   "source": [
    "#Построим график для региона JP\n",
    "plt.figure(figsize=(15,6))\n",
    "sns.barplot(data=jp_rating_sales, x='rating', y='jp_sales')\n",
    "plt.title('Продажи по рейтингу для региона JP')\n",
    "plt.xlabel('Рейтинг ESRB')"
   ]
  },
  {
   "cell_type": "markdown",
   "metadata": {},
   "source": [
    "### Вывод"
   ]
  },
  {
   "cell_type": "markdown",
   "metadata": {},
   "source": [
    "Во всех регионах популярный рейтинг ESRB - No rating, E, T, M, E10+, поэтому можно сказать, что нет никакой специфики для отдельного региона.\n",
    "\n",
    "No rating скорее всего говорит о том, что нет никакого возрастного ограничения для игр, или же просто забыли указать, когда вносились данные."
   ]
  },
  {
   "cell_type": "markdown",
   "metadata": {},
   "source": [
    "## Проверим гипотезы"
   ]
  },
  {
   "cell_type": "markdown",
   "metadata": {},
   "source": [
    "### Средние пользовательские рейтинги платформ Xbox One и PC одинаковые"
   ]
  },
  {
   "cell_type": "markdown",
   "metadata": {},
   "source": [
    "Сформулируем гипотезы:\n",
    "\n",
    "- Нулевая гипотеза: Средние пользовательские рейтинги платформ Xbox One и PC одинаковые;\n",
    "- Альтернативная гипотеза: Средние пользовательские рейтинги платформ Xbox One и PC различаются;"
   ]
  },
  {
   "cell_type": "code",
   "execution_count": 71,
   "metadata": {
    "scrolled": true
   },
   "outputs": [],
   "source": [
    "#Возьмём рейтинг для Xbox One и PC с 2013 года, поскольку консоль вышла именно в 2013 году\n",
    "pc_rating_from_2013 = df.query('platform == \"PC\" and year_of_release >= 2013')['user_score']\n",
    "xbox_one_rating = df.query('platform == \"XOne\"')['user_score']"
   ]
  },
  {
   "cell_type": "code",
   "execution_count": 72,
   "metadata": {},
   "outputs": [
    {
     "name": "stdout",
     "output_type": "stream",
     "text": [
      "Средний рейтинг пользователей PC с 2013 года: 6.280379746835442\n",
      "Средний рейтинг пользователей Xbox One: 6.521428571428572\n"
     ]
    }
   ],
   "source": [
    "#Выведем средний рейтинг для каждой платформы\n",
    "print('Средний рейтинг пользователей PC с 2013 года:', pc_rating_from_2013.mean())\n",
    "print('Средний рейтинг пользователей Xbox One:', xbox_one_rating.mean())"
   ]
  },
  {
   "cell_type": "code",
   "execution_count": 73,
   "metadata": {},
   "outputs": [
    {
     "name": "stdout",
     "output_type": "stream",
     "text": [
      "p-значение: 0.16174359801784308\n",
      "Не получилось отвергнуть нулевую гипотезу\n"
     ]
    }
   ],
   "source": [
    "#Выполним проверку гипотезы\n",
    "alpha = .05\n",
    "results = st.ttest_ind(xbox_one_rating.dropna(), pc_rating_from_2013.dropna(), equal_var=False)\n",
    "print('p-значение:', results.pvalue)\n",
    "if (results.pvalue < alpha):\n",
    "    print(\"Отвергаем нулевую гипотезу\")\n",
    "else:\n",
    "    print(\"Не получилось отвергнуть нулевую гипотезу\")"
   ]
  },
  {
   "cell_type": "code",
   "execution_count": 74,
   "metadata": {},
   "outputs": [
    {
     "name": "stdout",
     "output_type": "stream",
     "text": [
      "Средний рейтинг пользователей PC 6.835942492012778\n",
      "Средний рейтинг пользователей Xbox One: 6.521428571428572\n"
     ]
    }
   ],
   "source": [
    "#Для наглядности можем сравнить с рейтингом PC с 2006 года\n",
    "pc_rating = df.query('platform == \"PC\" and year_of_release >= 2006')['user_score']\n",
    "print('Средний рейтинг пользователей PC', pc_rating.mean())\n",
    "print('Средний рейтинг пользователей Xbox One:', xbox_one_rating.mean())      "
   ]
  },
  {
   "cell_type": "code",
   "execution_count": 75,
   "metadata": {},
   "outputs": [
    {
     "name": "stdout",
     "output_type": "stream",
     "text": [
      "p-значение: 0.008603496501781193\n",
      "Отвергаем нулевую гипотезу\n"
     ]
    }
   ],
   "source": [
    "#Выполним проверку гипотезы\n",
    "alpha = .05\n",
    "results = st.ttest_ind(xbox_one_rating.dropna(), pc_rating.dropna(), equal_var=False)\n",
    "print('p-значение:', results.pvalue)\n",
    "if (results.pvalue < alpha):\n",
    "    print(\"Отвергаем нулевую гипотезу\")\n",
    "else:\n",
    "    print(\"Не получилось отвергнуть нулевую гипотезу\")"
   ]
  },
  {
   "cell_type": "markdown",
   "metadata": {},
   "source": [
    "### Вывод"
   ]
  },
  {
   "cell_type": "markdown",
   "metadata": {},
   "source": [
    "Для Xbox One и PC с 2013 года:\n",
    "\n",
    "- Значение p-value чуть больше 16%, нулевую гипотезу не получилось отвергнуть.\n",
    "\n",
    "Для Xbox One и PC с 2006 года:\n",
    "\n",
    "- Значение p-value около 0.86%, нулевую гипотезу отвергаем."
   ]
  },
  {
   "cell_type": "markdown",
   "metadata": {},
   "source": [
    "### Средние пользовательские рейтинги жанров Action (англ. «действие», экшен-игры) и Sports (англ. «спортивные соревнования») разные"
   ]
  },
  {
   "cell_type": "markdown",
   "metadata": {},
   "source": [
    "Сформулируем гипотезы:\n",
    "\n",
    "- Нулевая гипотеза: Средние пользовательские рейтинги жанров Action и Sports одинаковые;\n",
    "- Альтернативная гипотеза: Средние пользовательские рейтинги жанров Action и Sports различаются;"
   ]
  },
  {
   "cell_type": "code",
   "execution_count": 76,
   "metadata": {},
   "outputs": [],
   "source": [
    "#Возьмём рейтинг пользователей для жанров Action и Sports за всё время\n",
    "action_rating = df.query('genre == \"Action\"')['user_score']\n",
    "sports_rating = df.query('genre == \"Sports\"')['user_score']"
   ]
  },
  {
   "cell_type": "code",
   "execution_count": 77,
   "metadata": {},
   "outputs": [
    {
     "name": "stdout",
     "output_type": "stream",
     "text": [
      "Средний рейтинг пользователей жанра Action: 7.054043715846995\n",
      "Средний рейтинг пользователей жанра Sports: 6.96119673617407\n"
     ]
    }
   ],
   "source": [
    "#Посмотрим средние значения оценки пользователей для 2 жанров\n",
    "print('Средний рейтинг пользователей жанра Action:', action_rating.mean())\n",
    "print('Средний рейтинг пользователей жанра Sports:', sports_rating.mean())"
   ]
  },
  {
   "cell_type": "code",
   "execution_count": 78,
   "metadata": {},
   "outputs": [
    {
     "name": "stdout",
     "output_type": "stream",
     "text": [
      "p-значение: 0.11483818791498286\n",
      "Не получилось отвергнуть нулевую гипотезу\n"
     ]
    }
   ],
   "source": [
    "#Выполним проверку гипотезы\n",
    "alpha = .05\n",
    "results = st.ttest_ind(action_rating.dropna(), sports_rating.dropna(), equal_var=False)\n",
    "print('p-значение:', results.pvalue)\n",
    "if (results.pvalue < alpha):\n",
    "    print(\"Отвергаем нулевую гипотезу\")\n",
    "else:\n",
    "    print(\"Не получилось отвергнуть нулевую гипотезу\")"
   ]
  },
  {
   "cell_type": "code",
   "execution_count": 81,
   "metadata": {},
   "outputs": [],
   "source": [
    "#Возьмём теперь те же самые данные, но с 2013 года\n",
    "action_rating_from_2013 = df.query('genre == \"Action\" and year_of_release >= 2013')['user_score']\n",
    "sports_rating_from_2013 = df.query('genre == \"Sports\" and year_of_release >= 2013')['user_score']"
   ]
  },
  {
   "cell_type": "code",
   "execution_count": 82,
   "metadata": {},
   "outputs": [
    {
     "name": "stdout",
     "output_type": "stream",
     "text": [
      "Средний рейтинг пользователей жанра Action с 2013 года: 6.8374999999999995\n",
      "Средний рейтинг пользователей жанра Sports с 2013 года: 5.238124999999999\n"
     ]
    }
   ],
   "source": [
    "#Посмотрим средние значения оценки пользователей для 2 жанров\n",
    "print('Средний рейтинг пользователей жанра Action с 2013 года:', action_rating_from_2013.mean())\n",
    "print('Средний рейтинг пользователей жанра Sports с 2013 года:', sports_rating_from_2013.mean())"
   ]
  },
  {
   "cell_type": "code",
   "execution_count": 83,
   "metadata": {},
   "outputs": [
    {
     "name": "stdout",
     "output_type": "stream",
     "text": [
      "p-значение: 1.3883444596405356e-20\n",
      "Отвергаем нулевую гипотезу\n"
     ]
    }
   ],
   "source": [
    "#Выполним проверку гипотезы\n",
    "alpha = .05\n",
    "results = st.ttest_ind(action_rating_from_2013.dropna(), sports_rating_from_2013.dropna(), equal_var=False)\n",
    "print('p-значение:', results.pvalue)\n",
    "if (results.pvalue < alpha):\n",
    "    print(\"Отвергаем нулевую гипотезу\")\n",
    "else:\n",
    "    print(\"Не получилось отвергнуть нулевую гипотезу\")"
   ]
  },
  {
   "cell_type": "markdown",
   "metadata": {},
   "source": [
    "### Вывод"
   ]
  },
  {
   "cell_type": "markdown",
   "metadata": {},
   "source": [
    "Для жанров Action и Sports за всё время:\n",
    "\n",
    "- Значение p-value около 11%, нулевую гипотезу не получилось отвергнуть.\n",
    "\n",
    "Для жанров Action и Sports с 2013 года:\n",
    "\n",
    " - Значение p-value большое, нулевую гипотезу отвергаем."
   ]
  },
  {
   "cell_type": "markdown",
   "metadata": {},
   "source": [
    "## Общий вывод"
   ]
  },
  {
   "cell_type": "markdown",
   "metadata": {},
   "source": [
    "Были изучены и подготовлены данные для анализа, а именно:\n",
    "\n",
    "- все названия столбцов были приведены к нижнему регистру;\n",
    "- были просмотрены и изучены значения в столбцах нашего датафрейма;\n",
    "- столбцы 'year_of_release' и 'user_score' были преобразованы в другой тип данных;\n",
    "- для столбца 'year_of_release' были частично заполнены пропуски с помощью названия игр на других платформах;\n",
    "- дубликаты отсутствуют;\n",
    "- в столбце 'user_score' было значение tbd, которое означало to be determined, to be done, т.е. эти данные оставили незаполненными специально, поэтому они были заменены на NaN;\n",
    "- был рассчитан новый столбец 'total_sales', который показывает общую сумму продаж со всех регионов;\n",
    "\n",
    "Наибольший скачок по продажам игр был с 1990 до 2010, дальше игры стали выходить гораздо реже, скорее всего это говорит о том, что популярными стали мобильные приложения.\n",
    "\n",
    "Топ-5 консолей по продажам игр с 2013 года:\n",
    "- PS4 - 314.14 млн. копий\n",
    "- PS3 - 181.43 млн. копий\n",
    "- XboxOne - 159.32 млн. копий\n",
    "- 3DS - 143.25 млн. копий\n",
    "- Xbox360 - 136.80 млн. копий\n",
    "\n",
    "Есть небольшая зависимость между продажами и отзывами пользователей/критиков, но она не настолько сильная (особенно по отзывам пользователей). Самая большая зависимость между продажами и отзывами критиков для Xbox One и PS4, скорее всего иногда люди прислушиваются к мнению критиков, но тоже не всегда.\n",
    "\n",
    "Лучше всего продавались игры жанров Action и Shooter, хуже всего продавались стратегии и симуляторы с паззлами.\n",
    "\n",
    "во всех регионах в топ входят жанры Action, Role-Playing, Shooter, но есть и некоторая специфика для региона (например, в JP больше всего продавалось игр жанра Role-Playing).\n",
    "\n",
    "Самые популярные платформы (топ-3) по продажам в NA с 2013 года - PS4, Xbox One, Xbox 360\n",
    "\n",
    "Самые популярные платформы (топ-3) по продажам в EU с 2013 года - PS4, PS3, Xbox One\n",
    "\n",
    "Самые популярные платформы (топ-3) по продажам в JP с 2013 года - 3DS, PS3, PSV\n",
    "\n",
    "Во всех регионах популярный рейтинг ESRB - No rating, E, T, M, E10+, поэтому можно сказать, что нет никакой специфики для отдельного региона.\n",
    "\n",
    "No rating скорее всего говорит о том, что нет никакого возрастного ограничения для игр, или же просто забыли указать, когда вносились данные.\n",
    "\n",
    "По гипотезам:\n",
    "- Средние пользовательские рейтинги платформ Xbox One и PC одинаковые - эту гипотезу можно как принять, так и опровергнуть, всё зависит от рассматриваемого периода;\n",
    "- Средние пользовательские рейтинги жанров Action и Sports одинаковые - эту гипотезу можно как принять, так и опровергнуть, всё зависит от рассматриваемого периода (возможно, когда-то 1 жанр был популярнее другого и у него были более высокие оценки пользователей);\n",
    "\n",
    "Если предсказывать, какая консоль будут популярный в 2017 году и далее, то это скорее всего будет Sony Playstation 4.\n",
    "\n",
    "Для более подробной информации лучше изучить каждый вывод в соответствующем пункте."
   ]
  }
 ],
 "metadata": {
  "ExecuteTimeLog": [
   {
    "duration": 935,
    "start_time": "2022-02-27T10:24:20.120Z"
   },
   {
    "duration": 47,
    "start_time": "2022-02-27T10:25:42.376Z"
   },
   {
    "duration": 14,
    "start_time": "2022-02-27T10:25:48.719Z"
   },
   {
    "duration": 12,
    "start_time": "2022-02-27T10:25:53.144Z"
   },
   {
    "duration": 13,
    "start_time": "2022-02-27T10:27:50.256Z"
   },
   {
    "duration": 4,
    "start_time": "2022-02-27T10:29:50.908Z"
   },
   {
    "duration": 44,
    "start_time": "2022-02-27T10:29:51.933Z"
   },
   {
    "duration": 13,
    "start_time": "2022-02-27T10:29:52.286Z"
   },
   {
    "duration": 8,
    "start_time": "2022-02-27T10:29:52.684Z"
   },
   {
    "duration": 6,
    "start_time": "2022-02-27T10:35:10.908Z"
   },
   {
    "duration": 5,
    "start_time": "2022-02-27T10:35:41.206Z"
   },
   {
    "duration": 1327,
    "start_time": "2022-02-27T10:38:57.232Z"
   },
   {
    "duration": 280,
    "start_time": "2022-02-27T10:41:19.875Z"
   },
   {
    "duration": 800,
    "start_time": "2022-02-27T10:41:41.543Z"
   },
   {
    "duration": 5,
    "start_time": "2022-02-27T10:41:56.718Z"
   },
   {
    "duration": 7,
    "start_time": "2022-02-27T10:43:01.038Z"
   },
   {
    "duration": 14,
    "start_time": "2022-02-27T10:44:11.636Z"
   },
   {
    "duration": 321,
    "start_time": "2022-02-27T10:56:00.140Z"
   },
   {
    "duration": 15,
    "start_time": "2022-02-27T10:56:23.696Z"
   },
   {
    "duration": 9,
    "start_time": "2022-02-27T10:56:33.385Z"
   },
   {
    "duration": 177,
    "start_time": "2022-02-27T10:58:19.264Z"
   },
   {
    "duration": 307,
    "start_time": "2022-02-27T11:01:20.191Z"
   },
   {
    "duration": 7,
    "start_time": "2022-02-27T11:01:38.284Z"
   },
   {
    "duration": 6,
    "start_time": "2022-02-27T11:02:14.760Z"
   },
   {
    "duration": 8,
    "start_time": "2022-02-27T11:03:11.895Z"
   },
   {
    "duration": 7,
    "start_time": "2022-02-27T11:03:36.015Z"
   },
   {
    "duration": 1822,
    "start_time": "2022-02-27T11:05:15.093Z"
   },
   {
    "duration": 7,
    "start_time": "2022-02-27T11:05:21.470Z"
   },
   {
    "duration": 5,
    "start_time": "2022-02-27T11:05:33.870Z"
   },
   {
    "duration": 5,
    "start_time": "2022-02-27T11:05:46.293Z"
   },
   {
    "duration": 997,
    "start_time": "2022-02-27T11:06:14.447Z"
   },
   {
    "duration": 34,
    "start_time": "2022-02-27T11:06:15.960Z"
   },
   {
    "duration": 14,
    "start_time": "2022-02-27T11:06:16.425Z"
   },
   {
    "duration": 9,
    "start_time": "2022-02-27T11:06:16.872Z"
   },
   {
    "duration": 5,
    "start_time": "2022-02-27T11:06:18.600Z"
   },
   {
    "duration": 5,
    "start_time": "2022-02-27T11:06:19.073Z"
   },
   {
    "duration": 9,
    "start_time": "2022-02-27T11:06:19.585Z"
   },
   {
    "duration": 8,
    "start_time": "2022-02-27T11:06:21.609Z"
   },
   {
    "duration": 314,
    "start_time": "2022-02-27T11:06:22.536Z"
   },
   {
    "duration": 6,
    "start_time": "2022-02-27T11:06:23.442Z"
   },
   {
    "duration": 6,
    "start_time": "2022-02-27T11:06:24.168Z"
   },
   {
    "duration": 6,
    "start_time": "2022-02-27T11:06:25.505Z"
   },
   {
    "duration": 6,
    "start_time": "2022-02-27T11:06:26.120Z"
   },
   {
    "duration": 6,
    "start_time": "2022-02-27T11:06:27.784Z"
   },
   {
    "duration": 7,
    "start_time": "2022-02-27T11:06:28.344Z"
   },
   {
    "duration": 4,
    "start_time": "2022-02-27T11:07:01.714Z"
   },
   {
    "duration": 5,
    "start_time": "2022-02-27T11:10:29.522Z"
   },
   {
    "duration": 18,
    "start_time": "2022-02-27T11:28:24.168Z"
   },
   {
    "duration": 11,
    "start_time": "2022-02-27T11:30:36.634Z"
   },
   {
    "duration": 6,
    "start_time": "2022-02-27T11:30:40.369Z"
   },
   {
    "duration": 13,
    "start_time": "2022-02-27T11:30:41.904Z"
   },
   {
    "duration": 202,
    "start_time": "2022-02-27T11:35:44.389Z"
   },
   {
    "duration": 173,
    "start_time": "2022-02-27T11:37:20.668Z"
   },
   {
    "duration": 292,
    "start_time": "2022-02-27T11:47:49.945Z"
   },
   {
    "duration": 338,
    "start_time": "2022-02-27T11:48:29.164Z"
   },
   {
    "duration": 288,
    "start_time": "2022-02-27T11:49:21.780Z"
   },
   {
    "duration": 6934,
    "start_time": "2022-02-27T11:49:43.851Z"
   },
   {
    "duration": 270,
    "start_time": "2022-02-27T11:50:42.374Z"
   },
   {
    "duration": 354,
    "start_time": "2022-02-27T11:51:27.754Z"
   },
   {
    "duration": 423,
    "start_time": "2022-02-27T11:51:46.946Z"
   },
   {
    "duration": 385,
    "start_time": "2022-02-27T11:53:06.666Z"
   },
   {
    "duration": 277,
    "start_time": "2022-02-27T11:54:12.920Z"
   },
   {
    "duration": 765,
    "start_time": "2022-02-27T11:56:26.351Z"
   },
   {
    "duration": 739,
    "start_time": "2022-02-27T11:57:30.630Z"
   },
   {
    "duration": 1084,
    "start_time": "2022-02-27T12:00:27.380Z"
   },
   {
    "duration": 576,
    "start_time": "2022-02-27T12:00:37.043Z"
   },
   {
    "duration": 120,
    "start_time": "2022-02-27T12:01:53.043Z"
   },
   {
    "duration": 289,
    "start_time": "2022-02-27T12:02:34.603Z"
   },
   {
    "duration": 358,
    "start_time": "2022-02-27T12:03:17.873Z"
   },
   {
    "duration": 8028,
    "start_time": "2022-02-27T12:03:33.643Z"
   },
   {
    "duration": 360,
    "start_time": "2022-02-27T12:03:57.861Z"
   },
   {
    "duration": 369,
    "start_time": "2022-02-27T12:04:58.818Z"
   },
   {
    "duration": 6,
    "start_time": "2022-02-27T12:08:33.662Z"
   },
   {
    "duration": 6,
    "start_time": "2022-02-27T12:08:39.998Z"
   },
   {
    "duration": 4,
    "start_time": "2022-02-27T12:08:45.686Z"
   },
   {
    "duration": 2,
    "start_time": "2022-02-27T12:10:35.190Z"
   },
   {
    "duration": 4,
    "start_time": "2022-02-27T12:18:42.952Z"
   },
   {
    "duration": 2169,
    "start_time": "2022-02-27T12:19:33.039Z"
   },
   {
    "duration": 20785,
    "start_time": "2022-02-27T12:20:06.183Z"
   },
   {
    "duration": 7,
    "start_time": "2022-02-27T12:27:19.831Z"
   },
   {
    "duration": 10,
    "start_time": "2022-02-27T12:29:25.928Z"
   },
   {
    "duration": 759,
    "start_time": "2022-02-27T12:32:25.939Z"
   },
   {
    "duration": 259,
    "start_time": "2022-02-27T12:33:07.854Z"
   },
   {
    "duration": 323,
    "start_time": "2022-02-27T12:34:34.972Z"
   },
   {
    "duration": 10,
    "start_time": "2022-02-27T12:36:42.621Z"
   },
   {
    "duration": 8,
    "start_time": "2022-02-27T12:37:24.634Z"
   },
   {
    "duration": 133,
    "start_time": "2022-02-27T12:37:26.547Z"
   },
   {
    "duration": 136,
    "start_time": "2022-02-27T12:37:31.067Z"
   },
   {
    "duration": 297,
    "start_time": "2022-02-27T12:38:45.065Z"
   },
   {
    "duration": 230,
    "start_time": "2022-02-27T12:40:29.056Z"
   },
   {
    "duration": 263,
    "start_time": "2022-02-27T12:41:00.345Z"
   },
   {
    "duration": 262,
    "start_time": "2022-02-27T12:41:26.433Z"
   },
   {
    "duration": 260,
    "start_time": "2022-02-27T12:41:49.815Z"
   },
   {
    "duration": 262,
    "start_time": "2022-02-27T12:41:57.981Z"
   },
   {
    "duration": 217,
    "start_time": "2022-02-27T12:43:42.134Z"
   },
   {
    "duration": 332,
    "start_time": "2022-02-27T12:43:56.118Z"
   },
   {
    "duration": 10,
    "start_time": "2022-02-27T12:44:38.733Z"
   },
   {
    "duration": 309,
    "start_time": "2022-02-27T12:44:40.094Z"
   },
   {
    "duration": 12,
    "start_time": "2022-02-27T12:45:09.540Z"
   },
   {
    "duration": 190,
    "start_time": "2022-02-27T12:45:10.989Z"
   },
   {
    "duration": 886,
    "start_time": "2022-02-27T12:45:21.957Z"
   },
   {
    "duration": 273,
    "start_time": "2022-02-27T12:45:28.332Z"
   },
   {
    "duration": 27,
    "start_time": "2022-02-27T12:45:51.261Z"
   },
   {
    "duration": 17,
    "start_time": "2022-02-27T12:45:58.741Z"
   },
   {
    "duration": 16,
    "start_time": "2022-02-27T12:46:13.515Z"
   },
   {
    "duration": 18,
    "start_time": "2022-02-27T12:46:36.468Z"
   },
   {
    "duration": 7,
    "start_time": "2022-02-27T12:47:15.484Z"
   },
   {
    "duration": 361,
    "start_time": "2022-02-27T12:50:45.679Z"
   },
   {
    "duration": 5,
    "start_time": "2022-02-27T12:50:50.393Z"
   },
   {
    "duration": 12,
    "start_time": "2022-02-27T12:50:52.294Z"
   },
   {
    "duration": 5,
    "start_time": "2022-02-27T12:51:02.761Z"
   },
   {
    "duration": 12,
    "start_time": "2022-02-27T12:51:04.705Z"
   },
   {
    "duration": 16,
    "start_time": "2022-02-27T12:52:43.291Z"
   },
   {
    "duration": 20,
    "start_time": "2022-02-27T12:52:49.575Z"
   },
   {
    "duration": 19,
    "start_time": "2022-02-27T12:53:16.391Z"
   },
   {
    "duration": 5,
    "start_time": "2022-02-27T12:53:43.078Z"
   },
   {
    "duration": 15,
    "start_time": "2022-02-27T12:53:44.606Z"
   },
   {
    "duration": 6,
    "start_time": "2022-02-27T12:54:00.510Z"
   },
   {
    "duration": 12,
    "start_time": "2022-02-27T12:54:08.231Z"
   },
   {
    "duration": 3,
    "start_time": "2022-02-27T13:04:26.151Z"
   },
   {
    "duration": 6,
    "start_time": "2022-02-27T13:04:33.230Z"
   },
   {
    "duration": 7033,
    "start_time": "2022-02-27T13:05:07.375Z"
   },
   {
    "duration": 7092,
    "start_time": "2022-02-27T13:06:04.670Z"
   },
   {
    "duration": 7329,
    "start_time": "2022-02-27T13:07:25.676Z"
   },
   {
    "duration": 4,
    "start_time": "2022-02-27T13:09:11.225Z"
   },
   {
    "duration": 8,
    "start_time": "2022-02-27T13:09:21.451Z"
   },
   {
    "duration": 274,
    "start_time": "2022-02-27T13:09:26.332Z"
   },
   {
    "duration": 3,
    "start_time": "2022-02-27T13:09:35.803Z"
   },
   {
    "duration": 8,
    "start_time": "2022-02-27T13:09:37.683Z"
   },
   {
    "duration": 266,
    "start_time": "2022-02-27T13:09:39.388Z"
   },
   {
    "duration": 445,
    "start_time": "2022-02-27T13:11:20.794Z"
   },
   {
    "duration": 2,
    "start_time": "2022-02-27T13:20:08.292Z"
   },
   {
    "duration": 86,
    "start_time": "2022-02-27T13:22:28.411Z"
   },
   {
    "duration": 133,
    "start_time": "2022-02-27T13:22:38.602Z"
   },
   {
    "duration": 294,
    "start_time": "2022-02-27T13:23:15.033Z"
   },
   {
    "duration": 6,
    "start_time": "2022-02-27T13:25:02.961Z"
   },
   {
    "duration": 217,
    "start_time": "2022-02-27T13:25:23.809Z"
   },
   {
    "duration": 242,
    "start_time": "2022-02-27T13:26:01.704Z"
   },
   {
    "duration": 227,
    "start_time": "2022-02-27T13:26:51.321Z"
   },
   {
    "duration": 272,
    "start_time": "2022-02-27T13:27:17.679Z"
   },
   {
    "duration": 12,
    "start_time": "2022-02-27T13:27:27.190Z"
   },
   {
    "duration": 234,
    "start_time": "2022-02-27T13:28:31.390Z"
   },
   {
    "duration": 286,
    "start_time": "2022-02-27T13:57:16.961Z"
   },
   {
    "duration": 5,
    "start_time": "2022-02-27T13:57:19.113Z"
   },
   {
    "duration": 321,
    "start_time": "2022-02-27T13:57:20.674Z"
   },
   {
    "duration": 4,
    "start_time": "2022-02-27T13:57:33.002Z"
   },
   {
    "duration": 364,
    "start_time": "2022-02-27T13:58:13.272Z"
   },
   {
    "duration": 952,
    "start_time": "2022-02-27T14:01:20.062Z"
   },
   {
    "duration": 4,
    "start_time": "2022-02-27T14:01:48.118Z"
   },
   {
    "duration": 862,
    "start_time": "2022-02-27T14:01:54.174Z"
   },
   {
    "duration": 3,
    "start_time": "2022-02-27T14:03:47.790Z"
   },
   {
    "duration": 1029,
    "start_time": "2022-02-27T14:03:58.595Z"
   },
   {
    "duration": 35,
    "start_time": "2022-02-27T14:03:59.625Z"
   },
   {
    "duration": 15,
    "start_time": "2022-02-27T14:04:00.316Z"
   },
   {
    "duration": 9,
    "start_time": "2022-02-27T14:04:00.764Z"
   },
   {
    "duration": 5,
    "start_time": "2022-02-27T14:04:02.162Z"
   },
   {
    "duration": 4,
    "start_time": "2022-02-27T14:04:02.636Z"
   },
   {
    "duration": 9,
    "start_time": "2022-02-27T14:04:03.067Z"
   },
   {
    "duration": 10,
    "start_time": "2022-02-27T14:04:03.435Z"
   },
   {
    "duration": 321,
    "start_time": "2022-02-27T14:04:03.898Z"
   },
   {
    "duration": 4,
    "start_time": "2022-02-27T14:04:04.298Z"
   },
   {
    "duration": 6,
    "start_time": "2022-02-27T14:04:05.098Z"
   },
   {
    "duration": 6,
    "start_time": "2022-02-27T14:04:05.605Z"
   },
   {
    "duration": 6,
    "start_time": "2022-02-27T14:04:06.125Z"
   },
   {
    "duration": 6,
    "start_time": "2022-02-27T14:04:06.595Z"
   },
   {
    "duration": 7,
    "start_time": "2022-02-27T14:04:07.387Z"
   },
   {
    "duration": 6,
    "start_time": "2022-02-27T14:04:07.923Z"
   },
   {
    "duration": 7,
    "start_time": "2022-02-27T14:04:08.459Z"
   },
   {
    "duration": 4,
    "start_time": "2022-02-27T14:04:09.003Z"
   },
   {
    "duration": 17,
    "start_time": "2022-02-27T14:04:09.474Z"
   },
   {
    "duration": 8,
    "start_time": "2022-02-27T14:04:09.931Z"
   },
   {
    "duration": 14,
    "start_time": "2022-02-27T14:04:10.435Z"
   },
   {
    "duration": 175,
    "start_time": "2022-02-27T14:04:13.028Z"
   },
   {
    "duration": 371,
    "start_time": "2022-02-27T14:04:15.906Z"
   },
   {
    "duration": 6,
    "start_time": "2022-02-27T14:04:17.010Z"
   },
   {
    "duration": 3,
    "start_time": "2022-02-27T14:04:17.659Z"
   },
   {
    "duration": 7,
    "start_time": "2022-02-27T14:04:18.299Z"
   },
   {
    "duration": 804,
    "start_time": "2022-02-27T14:04:19.059Z"
   },
   {
    "duration": 11,
    "start_time": "2022-02-27T14:04:21.963Z"
   },
   {
    "duration": 243,
    "start_time": "2022-02-27T14:04:22.546Z"
   },
   {
    "duration": 7,
    "start_time": "2022-02-27T14:04:24.572Z"
   },
   {
    "duration": 4,
    "start_time": "2022-02-27T14:04:25.099Z"
   },
   {
    "duration": 4,
    "start_time": "2022-02-27T14:04:28.619Z"
   },
   {
    "duration": 364,
    "start_time": "2022-02-27T14:10:34.190Z"
   },
   {
    "duration": 3,
    "start_time": "2022-02-27T14:13:39.677Z"
   },
   {
    "duration": 8,
    "start_time": "2022-02-27T14:13:40.222Z"
   },
   {
    "duration": 775,
    "start_time": "2022-02-27T14:13:41.117Z"
   },
   {
    "duration": 3,
    "start_time": "2022-02-27T14:13:59.093Z"
   },
   {
    "duration": 7,
    "start_time": "2022-02-27T14:13:59.508Z"
   },
   {
    "duration": 813,
    "start_time": "2022-02-27T14:13:59.916Z"
   },
   {
    "duration": 1245,
    "start_time": "2022-02-27T14:14:50.976Z"
   },
   {
    "duration": 36,
    "start_time": "2022-02-27T14:14:52.704Z"
   },
   {
    "duration": 14,
    "start_time": "2022-02-27T14:14:53.105Z"
   },
   {
    "duration": 9,
    "start_time": "2022-02-27T14:14:53.520Z"
   },
   {
    "duration": 5,
    "start_time": "2022-02-27T14:14:55.167Z"
   },
   {
    "duration": 4,
    "start_time": "2022-02-27T14:14:55.736Z"
   },
   {
    "duration": 8,
    "start_time": "2022-02-27T14:14:56.216Z"
   },
   {
    "duration": 9,
    "start_time": "2022-02-27T14:14:56.648Z"
   },
   {
    "duration": 330,
    "start_time": "2022-02-27T14:14:57.120Z"
   },
   {
    "duration": 4,
    "start_time": "2022-02-27T14:14:57.575Z"
   },
   {
    "duration": 7,
    "start_time": "2022-02-27T14:14:58.304Z"
   },
   {
    "duration": 6,
    "start_time": "2022-02-27T14:14:58.760Z"
   },
   {
    "duration": 6,
    "start_time": "2022-02-27T14:14:59.232Z"
   },
   {
    "duration": 7,
    "start_time": "2022-02-27T14:14:59.688Z"
   },
   {
    "duration": 6,
    "start_time": "2022-02-27T14:15:00.176Z"
   },
   {
    "duration": 6,
    "start_time": "2022-02-27T14:15:00.633Z"
   },
   {
    "duration": 8,
    "start_time": "2022-02-27T14:15:01.096Z"
   },
   {
    "duration": 4,
    "start_time": "2022-02-27T14:15:01.530Z"
   },
   {
    "duration": 17,
    "start_time": "2022-02-27T14:15:02.008Z"
   },
   {
    "duration": 8,
    "start_time": "2022-02-27T14:15:02.544Z"
   },
   {
    "duration": 15,
    "start_time": "2022-02-27T14:15:03.088Z"
   },
   {
    "duration": 178,
    "start_time": "2022-02-27T14:15:05.319Z"
   },
   {
    "duration": 368,
    "start_time": "2022-02-27T14:15:07.465Z"
   },
   {
    "duration": 5,
    "start_time": "2022-02-27T14:15:08.128Z"
   },
   {
    "duration": 3,
    "start_time": "2022-02-27T14:15:08.792Z"
   },
   {
    "duration": 7,
    "start_time": "2022-02-27T14:15:09.384Z"
   },
   {
    "duration": 856,
    "start_time": "2022-02-27T14:15:13.240Z"
   },
   {
    "duration": 3,
    "start_time": "2022-02-27T14:17:49.670Z"
   },
   {
    "duration": 8,
    "start_time": "2022-02-27T14:17:51.373Z"
   },
   {
    "duration": 350,
    "start_time": "2022-02-27T14:17:52.110Z"
   },
   {
    "duration": 11,
    "start_time": "2022-02-27T14:17:58.086Z"
   },
   {
    "duration": 240,
    "start_time": "2022-02-27T14:17:58.918Z"
   },
   {
    "duration": 5,
    "start_time": "2022-02-27T14:18:06.085Z"
   },
   {
    "duration": 4,
    "start_time": "2022-02-27T14:18:06.550Z"
   },
   {
    "duration": 5,
    "start_time": "2022-02-27T14:18:06.949Z"
   },
   {
    "duration": 337,
    "start_time": "2022-02-27T14:18:07.439Z"
   },
   {
    "duration": 430,
    "start_time": "2022-02-27T14:18:07.837Z"
   },
   {
    "duration": 2,
    "start_time": "2022-02-27T14:18:08.494Z"
   },
   {
    "duration": 11,
    "start_time": "2022-02-27T14:19:36.694Z"
   },
   {
    "duration": 104,
    "start_time": "2022-02-27T14:22:20.104Z"
   },
   {
    "duration": 7,
    "start_time": "2022-02-27T14:22:38.691Z"
   },
   {
    "duration": 7,
    "start_time": "2022-02-27T14:24:47.282Z"
   },
   {
    "duration": 8,
    "start_time": "2022-02-27T14:25:34.601Z"
   },
   {
    "duration": 337,
    "start_time": "2022-02-27T14:27:38.784Z"
   },
   {
    "duration": 338,
    "start_time": "2022-02-27T14:27:41.850Z"
   },
   {
    "duration": 315,
    "start_time": "2022-02-27T14:27:43.919Z"
   },
   {
    "duration": 339,
    "start_time": "2022-02-27T14:27:46.287Z"
   },
   {
    "duration": 330,
    "start_time": "2022-02-27T14:27:48.807Z"
   },
   {
    "duration": 373,
    "start_time": "2022-02-27T14:29:36.159Z"
   },
   {
    "duration": 335,
    "start_time": "2022-02-27T14:29:49.623Z"
   },
   {
    "duration": 366,
    "start_time": "2022-02-27T14:30:11.998Z"
   },
   {
    "duration": 341,
    "start_time": "2022-02-27T14:31:05.310Z"
   },
   {
    "duration": 302,
    "start_time": "2022-02-27T14:31:11.037Z"
   },
   {
    "duration": 318,
    "start_time": "2022-02-27T14:31:16.021Z"
   },
   {
    "duration": 330,
    "start_time": "2022-02-27T14:31:20.814Z"
   },
   {
    "duration": 305,
    "start_time": "2022-02-27T14:32:46.452Z"
   },
   {
    "duration": 317,
    "start_time": "2022-02-27T14:33:03.357Z"
   },
   {
    "duration": 409,
    "start_time": "2022-02-27T14:33:14.532Z"
   },
   {
    "duration": 328,
    "start_time": "2022-02-27T14:33:31.971Z"
   },
   {
    "duration": 330,
    "start_time": "2022-02-27T14:33:49.418Z"
   },
   {
    "duration": 361,
    "start_time": "2022-02-27T14:34:01.891Z"
   },
   {
    "duration": 96,
    "start_time": "2022-02-27T14:37:09.024Z"
   },
   {
    "duration": 10,
    "start_time": "2022-02-27T14:37:18.264Z"
   },
   {
    "duration": 13,
    "start_time": "2022-02-27T14:37:23.192Z"
   },
   {
    "duration": 3,
    "start_time": "2022-02-27T14:37:51.768Z"
   },
   {
    "duration": 311,
    "start_time": "2022-02-27T14:39:14.519Z"
   },
   {
    "duration": 14,
    "start_time": "2022-02-27T14:40:00.453Z"
   },
   {
    "duration": 240,
    "start_time": "2022-02-27T14:40:03.142Z"
   },
   {
    "duration": 14,
    "start_time": "2022-02-27T14:48:49.080Z"
   },
   {
    "duration": 20,
    "start_time": "2022-02-27T14:49:39.656Z"
   },
   {
    "duration": 349,
    "start_time": "2022-02-27T14:52:04.063Z"
   },
   {
    "duration": 367,
    "start_time": "2022-02-27T14:52:51.277Z"
   },
   {
    "duration": 15,
    "start_time": "2022-02-27T14:52:57.004Z"
   },
   {
    "duration": 15,
    "start_time": "2022-02-27T14:53:06.450Z"
   },
   {
    "duration": 298,
    "start_time": "2022-02-27T14:53:33.932Z"
   },
   {
    "duration": 350,
    "start_time": "2022-02-27T14:53:38.821Z"
   },
   {
    "duration": 15,
    "start_time": "2022-02-27T14:56:44.786Z"
   },
   {
    "duration": 359,
    "start_time": "2022-02-27T14:58:09.537Z"
   },
   {
    "duration": 14,
    "start_time": "2022-02-27T15:01:41.118Z"
   },
   {
    "duration": 14,
    "start_time": "2022-02-27T15:02:00.062Z"
   },
   {
    "duration": 234,
    "start_time": "2022-02-27T15:02:18.877Z"
   },
   {
    "duration": 323,
    "start_time": "2022-02-27T15:04:45.885Z"
   },
   {
    "duration": 15,
    "start_time": "2022-02-27T15:05:13.420Z"
   },
   {
    "duration": 294,
    "start_time": "2022-02-27T15:05:28.292Z"
   },
   {
    "duration": 239,
    "start_time": "2022-02-27T15:05:47.725Z"
   },
   {
    "duration": 243,
    "start_time": "2022-02-27T15:05:54.187Z"
   },
   {
    "duration": 16,
    "start_time": "2022-02-27T15:06:19.873Z"
   },
   {
    "duration": 240,
    "start_time": "2022-02-27T15:06:37.036Z"
   },
   {
    "duration": 15,
    "start_time": "2022-02-27T15:09:51.577Z"
   },
   {
    "duration": 338,
    "start_time": "2022-02-27T15:10:22.803Z"
   },
   {
    "duration": 205,
    "start_time": "2022-02-27T15:10:32.049Z"
   },
   {
    "duration": 14,
    "start_time": "2022-02-27T15:11:00.376Z"
   },
   {
    "duration": 217,
    "start_time": "2022-02-27T15:11:27.137Z"
   },
   {
    "duration": 21,
    "start_time": "2022-02-27T15:12:23.264Z"
   },
   {
    "duration": 234,
    "start_time": "2022-02-27T15:12:48.856Z"
   },
   {
    "duration": 8,
    "start_time": "2022-02-27T15:20:28.683Z"
   },
   {
    "duration": 19,
    "start_time": "2022-02-27T15:21:50.425Z"
   },
   {
    "duration": 8,
    "start_time": "2022-02-27T15:22:14.153Z"
   },
   {
    "duration": 3,
    "start_time": "2022-02-27T15:22:15.697Z"
   },
   {
    "duration": 278,
    "start_time": "2022-02-27T15:23:45.111Z"
   },
   {
    "duration": 6,
    "start_time": "2022-02-27T15:24:12.303Z"
   },
   {
    "duration": 260,
    "start_time": "2022-02-27T15:25:01.142Z"
   },
   {
    "duration": 8,
    "start_time": "2022-02-27T15:25:03.574Z"
   },
   {
    "duration": 3,
    "start_time": "2022-02-27T15:25:04.903Z"
   },
   {
    "duration": 5,
    "start_time": "2022-02-27T15:25:08.999Z"
   },
   {
    "duration": 7,
    "start_time": "2022-02-27T15:25:50.039Z"
   },
   {
    "duration": 7,
    "start_time": "2022-02-27T15:26:25.630Z"
   },
   {
    "duration": 7,
    "start_time": "2022-02-27T15:26:48.813Z"
   },
   {
    "duration": 6,
    "start_time": "2022-02-27T15:26:50.373Z"
   },
   {
    "duration": 7,
    "start_time": "2022-02-27T15:27:15.340Z"
   },
   {
    "duration": 6,
    "start_time": "2022-02-27T15:27:17.045Z"
   },
   {
    "duration": 6,
    "start_time": "2022-02-27T15:27:48.732Z"
   },
   {
    "duration": 6,
    "start_time": "2022-02-27T15:27:52.459Z"
   },
   {
    "duration": 6,
    "start_time": "2022-02-27T15:29:12.299Z"
   },
   {
    "duration": 94,
    "start_time": "2022-02-27T15:31:33.842Z"
   },
   {
    "duration": 8,
    "start_time": "2022-02-27T15:32:55.770Z"
   },
   {
    "duration": 5,
    "start_time": "2022-02-27T15:33:38.545Z"
   },
   {
    "duration": 266,
    "start_time": "2022-02-27T15:34:17.552Z"
   },
   {
    "duration": 5,
    "start_time": "2022-02-27T15:34:25.105Z"
   },
   {
    "duration": 10,
    "start_time": "2022-02-27T15:35:34.384Z"
   },
   {
    "duration": 4,
    "start_time": "2022-02-27T15:35:35.751Z"
   },
   {
    "duration": 13,
    "start_time": "2022-02-27T15:36:37.054Z"
   },
   {
    "duration": 6,
    "start_time": "2022-02-27T15:37:04.791Z"
   },
   {
    "duration": 1201,
    "start_time": "2022-02-27T20:35:12.682Z"
   },
   {
    "duration": 41,
    "start_time": "2022-02-27T20:35:14.308Z"
   },
   {
    "duration": 18,
    "start_time": "2022-02-27T20:35:14.805Z"
   },
   {
    "duration": 12,
    "start_time": "2022-02-27T20:35:15.253Z"
   },
   {
    "duration": 5,
    "start_time": "2022-02-27T20:35:16.765Z"
   },
   {
    "duration": 5,
    "start_time": "2022-02-27T20:35:17.278Z"
   },
   {
    "duration": 12,
    "start_time": "2022-02-27T20:35:17.757Z"
   },
   {
    "duration": 10,
    "start_time": "2022-02-27T20:35:18.228Z"
   },
   {
    "duration": 16,
    "start_time": "2022-02-27T20:35:18.653Z"
   },
   {
    "duration": 374,
    "start_time": "2022-02-27T20:35:19.229Z"
   },
   {
    "duration": 5,
    "start_time": "2022-02-27T20:35:19.662Z"
   },
   {
    "duration": 8,
    "start_time": "2022-02-27T20:35:20.286Z"
   },
   {
    "duration": 8,
    "start_time": "2022-02-27T20:35:20.734Z"
   },
   {
    "duration": 8,
    "start_time": "2022-02-27T20:35:21.191Z"
   },
   {
    "duration": 8,
    "start_time": "2022-02-27T20:35:21.653Z"
   },
   {
    "duration": 8,
    "start_time": "2022-02-27T20:35:22.165Z"
   },
   {
    "duration": 7,
    "start_time": "2022-02-27T20:35:22.590Z"
   },
   {
    "duration": 11,
    "start_time": "2022-02-27T20:35:23.006Z"
   },
   {
    "duration": 5,
    "start_time": "2022-02-27T20:35:23.372Z"
   },
   {
    "duration": 22,
    "start_time": "2022-02-27T20:35:23.775Z"
   },
   {
    "duration": 7,
    "start_time": "2022-02-27T20:35:24.173Z"
   },
   {
    "duration": 17,
    "start_time": "2022-02-27T20:35:24.614Z"
   },
   {
    "duration": 223,
    "start_time": "2022-02-27T20:35:26.470Z"
   },
   {
    "duration": 440,
    "start_time": "2022-02-27T20:35:28.757Z"
   },
   {
    "duration": 6,
    "start_time": "2022-02-27T20:35:29.692Z"
   },
   {
    "duration": 3,
    "start_time": "2022-02-27T20:35:30.166Z"
   },
   {
    "duration": 9,
    "start_time": "2022-02-27T20:35:30.868Z"
   },
   {
    "duration": 434,
    "start_time": "2022-02-27T20:35:31.524Z"
   },
   {
    "duration": 14,
    "start_time": "2022-02-27T20:35:33.614Z"
   },
   {
    "duration": 298,
    "start_time": "2022-02-27T20:35:34.206Z"
   },
   {
    "duration": 6,
    "start_time": "2022-02-27T20:35:36.333Z"
   },
   {
    "duration": 6,
    "start_time": "2022-02-27T20:35:36.852Z"
   },
   {
    "duration": 6,
    "start_time": "2022-02-27T20:35:37.317Z"
   },
   {
    "duration": 428,
    "start_time": "2022-02-27T20:35:37.885Z"
   },
   {
    "duration": 404,
    "start_time": "2022-02-27T20:35:38.462Z"
   },
   {
    "duration": 13,
    "start_time": "2022-02-27T20:35:39.461Z"
   },
   {
    "duration": 11,
    "start_time": "2022-02-27T20:35:39.998Z"
   },
   {
    "duration": 10,
    "start_time": "2022-02-27T20:35:40.622Z"
   },
   {
    "duration": 474,
    "start_time": "2022-02-27T20:35:41.183Z"
   },
   {
    "duration": 409,
    "start_time": "2022-02-27T20:35:42.245Z"
   },
   {
    "duration": 419,
    "start_time": "2022-02-27T20:35:43.093Z"
   },
   {
    "duration": 386,
    "start_time": "2022-02-27T20:35:44.052Z"
   },
   {
    "duration": 390,
    "start_time": "2022-02-27T20:35:44.982Z"
   },
   {
    "duration": 379,
    "start_time": "2022-02-27T20:35:45.949Z"
   },
   {
    "duration": 385,
    "start_time": "2022-02-27T20:35:46.789Z"
   },
   {
    "duration": 342,
    "start_time": "2022-02-27T20:35:47.645Z"
   },
   {
    "duration": 383,
    "start_time": "2022-02-27T20:35:48.501Z"
   },
   {
    "duration": 352,
    "start_time": "2022-02-27T20:35:49.342Z"
   },
   {
    "duration": 18,
    "start_time": "2022-02-27T20:35:51.717Z"
   },
   {
    "duration": 343,
    "start_time": "2022-02-27T20:35:52.412Z"
   },
   {
    "duration": 18,
    "start_time": "2022-02-27T20:35:55.748Z"
   },
   {
    "duration": 508,
    "start_time": "2022-02-27T20:35:56.358Z"
   },
   {
    "duration": 18,
    "start_time": "2022-02-27T20:35:56.868Z"
   },
   {
    "duration": 432,
    "start_time": "2022-02-27T20:35:57.501Z"
   },
   {
    "duration": 18,
    "start_time": "2022-02-27T20:35:58.052Z"
   },
   {
    "duration": 433,
    "start_time": "2022-02-27T20:35:58.701Z"
   },
   {
    "duration": 18,
    "start_time": "2022-02-27T20:36:00.756Z"
   },
   {
    "duration": 297,
    "start_time": "2022-02-27T20:36:01.412Z"
   },
   {
    "duration": 19,
    "start_time": "2022-02-27T20:36:02.204Z"
   },
   {
    "duration": 296,
    "start_time": "2022-02-27T20:36:02.764Z"
   },
   {
    "duration": 20,
    "start_time": "2022-02-27T20:36:03.564Z"
   },
   {
    "duration": 299,
    "start_time": "2022-02-27T20:36:04.117Z"
   },
   {
    "duration": 18,
    "start_time": "2022-02-27T20:36:06.245Z"
   },
   {
    "duration": 261,
    "start_time": "2022-02-27T20:36:06.788Z"
   },
   {
    "duration": 17,
    "start_time": "2022-02-27T20:36:07.348Z"
   },
   {
    "duration": 266,
    "start_time": "2022-02-27T20:36:07.950Z"
   },
   {
    "duration": 18,
    "start_time": "2022-02-27T20:36:08.686Z"
   },
   {
    "duration": 278,
    "start_time": "2022-02-27T20:36:09.269Z"
   },
   {
    "duration": 11,
    "start_time": "2022-02-27T20:36:12.028Z"
   },
   {
    "duration": 5,
    "start_time": "2022-02-27T20:36:12.844Z"
   },
   {
    "duration": 7,
    "start_time": "2022-02-27T20:36:15.549Z"
   },
   {
    "duration": 11,
    "start_time": "2022-02-27T20:36:16.348Z"
   },
   {
    "duration": 9,
    "start_time": "2022-02-27T20:36:23.148Z"
   },
   {
    "duration": 12,
    "start_time": "2022-02-27T20:36:49.748Z"
   },
   {
    "duration": 6,
    "start_time": "2022-02-27T20:36:50.284Z"
   },
   {
    "duration": 8,
    "start_time": "2022-02-27T20:36:50.804Z"
   },
   {
    "duration": 13,
    "start_time": "2022-02-27T20:36:51.613Z"
   },
   {
    "duration": 4,
    "start_time": "2022-02-27T20:36:52.125Z"
   },
   {
    "duration": 7,
    "start_time": "2022-02-27T20:36:52.900Z"
   },
   {
    "duration": 314,
    "start_time": "2022-03-07T21:31:41.571Z"
   },
   {
    "duration": 93,
    "start_time": "2022-03-07T21:33:31.661Z"
   },
   {
    "duration": 1203,
    "start_time": "2022-03-07T21:47:10.754Z"
   },
   {
    "duration": 38,
    "start_time": "2022-03-07T21:47:11.958Z"
   },
   {
    "duration": 17,
    "start_time": "2022-03-07T21:47:11.998Z"
   },
   {
    "duration": 10,
    "start_time": "2022-03-07T21:47:12.017Z"
   },
   {
    "duration": 5,
    "start_time": "2022-03-07T21:47:13.577Z"
   },
   {
    "duration": 4,
    "start_time": "2022-03-07T21:47:14.006Z"
   },
   {
    "duration": 10,
    "start_time": "2022-03-07T21:47:14.509Z"
   },
   {
    "duration": 9,
    "start_time": "2022-03-07T21:47:14.925Z"
   },
   {
    "duration": 14,
    "start_time": "2022-03-07T21:47:15.381Z"
   },
   {
    "duration": 383,
    "start_time": "2022-03-07T21:47:15.765Z"
   },
   {
    "duration": 304,
    "start_time": "2022-03-07T21:51:19.331Z"
   },
   {
    "duration": 288,
    "start_time": "2022-03-07T21:51:26.442Z"
   },
   {
    "duration": 1134,
    "start_time": "2022-03-07T21:53:09.922Z"
   },
   {
    "duration": 38,
    "start_time": "2022-03-07T21:53:11.643Z"
   },
   {
    "duration": 22,
    "start_time": "2022-03-07T21:53:12.297Z"
   },
   {
    "duration": 11,
    "start_time": "2022-03-07T21:53:14.131Z"
   },
   {
    "duration": 5,
    "start_time": "2022-03-07T21:53:15.987Z"
   },
   {
    "duration": 2,
    "start_time": "2022-03-07T21:53:16.594Z"
   },
   {
    "duration": 9,
    "start_time": "2022-03-07T21:53:17.092Z"
   },
   {
    "duration": 9,
    "start_time": "2022-03-07T21:53:17.619Z"
   },
   {
    "duration": 13,
    "start_time": "2022-03-07T21:53:18.690Z"
   },
   {
    "duration": 395,
    "start_time": "2022-03-07T21:53:19.730Z"
   },
   {
    "duration": 215,
    "start_time": "2022-03-07T21:53:33.946Z"
   },
   {
    "duration": 5,
    "start_time": "2022-03-07T21:53:39.089Z"
   },
   {
    "duration": 8,
    "start_time": "2022-03-07T21:53:39.953Z"
   },
   {
    "duration": 7,
    "start_time": "2022-03-07T21:53:40.426Z"
   },
   {
    "duration": 7,
    "start_time": "2022-03-07T21:53:40.955Z"
   },
   {
    "duration": 7,
    "start_time": "2022-03-07T21:53:41.386Z"
   },
   {
    "duration": 6,
    "start_time": "2022-03-07T21:53:41.898Z"
   },
   {
    "duration": 6,
    "start_time": "2022-03-07T21:53:42.314Z"
   },
   {
    "duration": 8,
    "start_time": "2022-03-07T21:53:43.425Z"
   },
   {
    "duration": 4,
    "start_time": "2022-03-07T21:53:43.947Z"
   },
   {
    "duration": 18,
    "start_time": "2022-03-07T21:53:44.457Z"
   },
   {
    "duration": 6,
    "start_time": "2022-03-07T21:53:45.017Z"
   },
   {
    "duration": 16,
    "start_time": "2022-03-07T21:53:46.570Z"
   },
   {
    "duration": 225,
    "start_time": "2022-03-07T21:53:49.322Z"
   },
   {
    "duration": 459,
    "start_time": "2022-03-07T21:53:52.290Z"
   },
   {
    "duration": 7,
    "start_time": "2022-03-07T21:53:55.554Z"
   },
   {
    "duration": 3,
    "start_time": "2022-03-07T21:53:56.348Z"
   },
   {
    "duration": 10,
    "start_time": "2022-03-07T21:53:56.961Z"
   },
   {
    "duration": 423,
    "start_time": "2022-03-07T21:53:57.779Z"
   },
   {
    "duration": 14,
    "start_time": "2022-03-07T21:54:05.809Z"
   },
   {
    "duration": 316,
    "start_time": "2022-03-07T21:54:06.609Z"
   },
   {
    "duration": 6,
    "start_time": "2022-03-07T21:54:10.737Z"
   },
   {
    "duration": 7,
    "start_time": "2022-03-07T21:54:11.114Z"
   },
   {
    "duration": 5,
    "start_time": "2022-03-07T21:54:11.497Z"
   },
   {
    "duration": 387,
    "start_time": "2022-03-07T21:54:11.929Z"
   },
   {
    "duration": 428,
    "start_time": "2022-03-07T21:54:12.377Z"
   },
   {
    "duration": 12,
    "start_time": "2022-03-07T21:54:12.874Z"
   },
   {
    "duration": 9,
    "start_time": "2022-03-07T21:54:13.650Z"
   },
   {
    "duration": 9,
    "start_time": "2022-03-07T21:54:14.097Z"
   },
   {
    "duration": 469,
    "start_time": "2022-03-07T21:54:14.537Z"
   },
   {
    "duration": 425,
    "start_time": "2022-03-07T21:54:15.089Z"
   },
   {
    "duration": 405,
    "start_time": "2022-03-07T21:54:15.643Z"
   },
   {
    "duration": 388,
    "start_time": "2022-03-07T21:54:16.440Z"
   },
   {
    "duration": 373,
    "start_time": "2022-03-07T21:54:17.042Z"
   },
   {
    "duration": 419,
    "start_time": "2022-03-07T21:54:17.755Z"
   },
   {
    "duration": 397,
    "start_time": "2022-03-07T21:54:18.553Z"
   },
   {
    "duration": 388,
    "start_time": "2022-03-07T21:54:19.289Z"
   },
   {
    "duration": 370,
    "start_time": "2022-03-07T21:54:20.034Z"
   },
   {
    "duration": 418,
    "start_time": "2022-03-07T21:54:20.762Z"
   },
   {
    "duration": 18,
    "start_time": "2022-03-07T21:54:24.009Z"
   },
   {
    "duration": 321,
    "start_time": "2022-03-07T21:54:24.697Z"
   },
   {
    "duration": 1161,
    "start_time": "2022-03-07T21:56:15.329Z"
   },
   {
    "duration": 39,
    "start_time": "2022-03-07T21:56:16.800Z"
   },
   {
    "duration": 19,
    "start_time": "2022-03-07T21:56:17.265Z"
   },
   {
    "duration": 12,
    "start_time": "2022-03-07T21:56:17.681Z"
   },
   {
    "duration": 5,
    "start_time": "2022-03-07T21:56:19.296Z"
   },
   {
    "duration": 5,
    "start_time": "2022-03-07T21:56:19.721Z"
   },
   {
    "duration": 12,
    "start_time": "2022-03-07T21:56:20.185Z"
   },
   {
    "duration": 10,
    "start_time": "2022-03-07T21:56:20.608Z"
   },
   {
    "duration": 15,
    "start_time": "2022-03-07T21:56:21.081Z"
   },
   {
    "duration": 376,
    "start_time": "2022-03-07T21:56:21.536Z"
   },
   {
    "duration": 5,
    "start_time": "2022-03-07T21:56:23.840Z"
   },
   {
    "duration": 8,
    "start_time": "2022-03-07T21:56:24.593Z"
   },
   {
    "duration": 8,
    "start_time": "2022-03-07T21:56:25.041Z"
   },
   {
    "duration": 8,
    "start_time": "2022-03-07T21:56:25.576Z"
   },
   {
    "duration": 8,
    "start_time": "2022-03-07T21:56:25.984Z"
   },
   {
    "duration": 9,
    "start_time": "2022-03-07T21:56:26.521Z"
   },
   {
    "duration": 8,
    "start_time": "2022-03-07T21:56:27.146Z"
   },
   {
    "duration": 8,
    "start_time": "2022-03-07T21:56:28.024Z"
   },
   {
    "duration": 5,
    "start_time": "2022-03-07T21:56:28.528Z"
   },
   {
    "duration": 20,
    "start_time": "2022-03-07T21:56:29.025Z"
   },
   {
    "duration": 6,
    "start_time": "2022-03-07T21:56:29.496Z"
   },
   {
    "duration": 17,
    "start_time": "2022-03-07T21:56:30.408Z"
   },
   {
    "duration": 238,
    "start_time": "2022-03-07T21:56:32.492Z"
   },
   {
    "duration": 507,
    "start_time": "2022-03-07T21:56:35.771Z"
   },
   {
    "duration": 7,
    "start_time": "2022-03-07T21:56:37.144Z"
   },
   {
    "duration": 4,
    "start_time": "2022-03-07T21:56:37.712Z"
   },
   {
    "duration": 9,
    "start_time": "2022-03-07T21:56:38.177Z"
   },
   {
    "duration": 436,
    "start_time": "2022-03-07T21:56:38.697Z"
   },
   {
    "duration": 336,
    "start_time": "2022-03-07T21:58:48.393Z"
   },
   {
    "duration": 1157,
    "start_time": "2022-03-07T21:59:04.394Z"
   },
   {
    "duration": 39,
    "start_time": "2022-03-07T21:59:05.553Z"
   },
   {
    "duration": 18,
    "start_time": "2022-03-07T21:59:05.594Z"
   },
   {
    "duration": 11,
    "start_time": "2022-03-07T21:59:06.298Z"
   },
   {
    "duration": 6,
    "start_time": "2022-03-07T21:59:07.858Z"
   },
   {
    "duration": 5,
    "start_time": "2022-03-07T21:59:08.282Z"
   },
   {
    "duration": 12,
    "start_time": "2022-03-07T21:59:08.722Z"
   },
   {
    "duration": 10,
    "start_time": "2022-03-07T21:59:09.114Z"
   },
   {
    "duration": 13,
    "start_time": "2022-03-07T21:59:09.562Z"
   },
   {
    "duration": 373,
    "start_time": "2022-03-07T21:59:10.082Z"
   },
   {
    "duration": 5,
    "start_time": "2022-03-07T21:59:11.465Z"
   },
   {
    "duration": 8,
    "start_time": "2022-03-07T21:59:12.074Z"
   },
   {
    "duration": 7,
    "start_time": "2022-03-07T21:59:13.594Z"
   },
   {
    "duration": 30,
    "start_time": "2022-03-07T21:59:13.603Z"
   },
   {
    "duration": 8,
    "start_time": "2022-03-07T21:59:14.314Z"
   },
   {
    "duration": 8,
    "start_time": "2022-03-07T21:59:15.113Z"
   },
   {
    "duration": 7,
    "start_time": "2022-03-07T21:59:15.628Z"
   },
   {
    "duration": 7,
    "start_time": "2022-03-07T21:59:16.594Z"
   },
   {
    "duration": 5,
    "start_time": "2022-03-07T21:59:17.129Z"
   },
   {
    "duration": 20,
    "start_time": "2022-03-07T21:59:17.667Z"
   },
   {
    "duration": 6,
    "start_time": "2022-03-07T21:59:18.217Z"
   },
   {
    "duration": 16,
    "start_time": "2022-03-07T21:59:19.130Z"
   },
   {
    "duration": 242,
    "start_time": "2022-03-07T21:59:21.337Z"
   },
   {
    "duration": 470,
    "start_time": "2022-03-07T21:59:23.898Z"
   },
   {
    "duration": 7,
    "start_time": "2022-03-07T21:59:24.498Z"
   },
   {
    "duration": 3,
    "start_time": "2022-03-07T21:59:25.194Z"
   },
   {
    "duration": 9,
    "start_time": "2022-03-07T21:59:25.769Z"
   },
   {
    "duration": 474,
    "start_time": "2022-03-07T21:59:26.394Z"
   },
   {
    "duration": 14,
    "start_time": "2022-03-07T21:59:30.434Z"
   },
   {
    "duration": 318,
    "start_time": "2022-03-07T21:59:31.322Z"
   },
   {
    "duration": 6,
    "start_time": "2022-03-07T21:59:34.553Z"
   },
   {
    "duration": 5,
    "start_time": "2022-03-07T21:59:35.178Z"
   },
   {
    "duration": 5,
    "start_time": "2022-03-07T21:59:35.722Z"
   },
   {
    "duration": 368,
    "start_time": "2022-03-07T21:59:36.513Z"
   },
   {
    "duration": 407,
    "start_time": "2022-03-07T21:59:37.042Z"
   },
   {
    "duration": 14,
    "start_time": "2022-03-07T21:59:37.786Z"
   },
   {
    "duration": 11,
    "start_time": "2022-03-07T21:59:38.498Z"
   },
   {
    "duration": 10,
    "start_time": "2022-03-07T21:59:39.154Z"
   },
   {
    "duration": 468,
    "start_time": "2022-03-07T21:59:39.721Z"
   },
   {
    "duration": 370,
    "start_time": "2022-03-07T21:59:40.521Z"
   },
   {
    "duration": 374,
    "start_time": "2022-03-07T21:59:41.393Z"
   },
   {
    "duration": 378,
    "start_time": "2022-03-07T21:59:42.234Z"
   },
   {
    "duration": 371,
    "start_time": "2022-03-07T21:59:42.994Z"
   },
   {
    "duration": 386,
    "start_time": "2022-03-07T21:59:43.801Z"
   },
   {
    "duration": 389,
    "start_time": "2022-03-07T21:59:44.627Z"
   },
   {
    "duration": 440,
    "start_time": "2022-03-07T21:59:45.537Z"
   },
   {
    "duration": 381,
    "start_time": "2022-03-07T21:59:46.505Z"
   },
   {
    "duration": 403,
    "start_time": "2022-03-07T21:59:47.498Z"
   },
   {
    "duration": 17,
    "start_time": "2022-03-07T21:59:50.121Z"
   },
   {
    "duration": 336,
    "start_time": "2022-03-07T21:59:51.058Z"
   },
   {
    "duration": 367,
    "start_time": "2022-03-07T21:59:54.037Z"
   },
   {
    "duration": 18,
    "start_time": "2022-03-07T22:01:13.562Z"
   },
   {
    "duration": 280,
    "start_time": "2022-03-07T22:01:34.520Z"
   },
   {
    "duration": 18,
    "start_time": "2022-03-07T22:01:43.825Z"
   },
   {
    "duration": 98,
    "start_time": "2022-03-07T22:02:03.664Z"
   },
   {
    "duration": 279,
    "start_time": "2022-03-07T22:02:09.448Z"
   },
   {
    "duration": 22,
    "start_time": "2022-03-07T22:08:05.004Z"
   },
   {
    "duration": 1120,
    "start_time": "2022-03-07T22:08:14.232Z"
   },
   {
    "duration": 40,
    "start_time": "2022-03-07T22:08:15.354Z"
   },
   {
    "duration": 20,
    "start_time": "2022-03-07T22:08:15.438Z"
   },
   {
    "duration": 12,
    "start_time": "2022-03-07T22:08:16.135Z"
   },
   {
    "duration": 5,
    "start_time": "2022-03-07T22:08:17.734Z"
   },
   {
    "duration": 5,
    "start_time": "2022-03-07T22:08:18.167Z"
   },
   {
    "duration": 11,
    "start_time": "2022-03-07T22:08:18.647Z"
   },
   {
    "duration": 9,
    "start_time": "2022-03-07T22:08:19.080Z"
   },
   {
    "duration": 16,
    "start_time": "2022-03-07T22:08:19.519Z"
   },
   {
    "duration": 371,
    "start_time": "2022-03-07T22:08:19.983Z"
   },
   {
    "duration": 4,
    "start_time": "2022-03-07T22:08:21.455Z"
   },
   {
    "duration": 7,
    "start_time": "2022-03-07T22:08:21.968Z"
   },
   {
    "duration": 8,
    "start_time": "2022-03-07T22:08:22.383Z"
   },
   {
    "duration": 7,
    "start_time": "2022-03-07T22:08:22.847Z"
   },
   {
    "duration": 8,
    "start_time": "2022-03-07T22:08:23.359Z"
   },
   {
    "duration": 7,
    "start_time": "2022-03-07T22:08:23.864Z"
   },
   {
    "duration": 7,
    "start_time": "2022-03-07T22:08:24.263Z"
   },
   {
    "duration": 8,
    "start_time": "2022-03-07T22:08:25.190Z"
   },
   {
    "duration": 5,
    "start_time": "2022-03-07T22:08:25.632Z"
   },
   {
    "duration": 21,
    "start_time": "2022-03-07T22:08:26.111Z"
   },
   {
    "duration": 7,
    "start_time": "2022-03-07T22:08:26.608Z"
   },
   {
    "duration": 16,
    "start_time": "2022-03-07T22:08:27.567Z"
   },
   {
    "duration": 229,
    "start_time": "2022-03-07T22:08:29.671Z"
   },
   {
    "duration": 470,
    "start_time": "2022-03-07T22:08:31.991Z"
   },
   {
    "duration": 9,
    "start_time": "2022-03-07T22:08:32.926Z"
   },
   {
    "duration": 4,
    "start_time": "2022-03-07T22:08:33.447Z"
   },
   {
    "duration": 10,
    "start_time": "2022-03-07T22:08:34.199Z"
   },
   {
    "duration": 425,
    "start_time": "2022-03-07T22:08:34.880Z"
   },
   {
    "duration": 14,
    "start_time": "2022-03-07T22:08:38.551Z"
   },
   {
    "duration": 339,
    "start_time": "2022-03-07T22:08:39.199Z"
   },
   {
    "duration": 6,
    "start_time": "2022-03-07T22:08:42.222Z"
   },
   {
    "duration": 5,
    "start_time": "2022-03-07T22:08:42.855Z"
   },
   {
    "duration": 5,
    "start_time": "2022-03-07T22:08:43.526Z"
   },
   {
    "duration": 386,
    "start_time": "2022-03-07T22:08:44.407Z"
   },
   {
    "duration": 397,
    "start_time": "2022-03-07T22:08:45.032Z"
   },
   {
    "duration": 14,
    "start_time": "2022-03-07T22:08:46.023Z"
   },
   {
    "duration": 9,
    "start_time": "2022-03-07T22:08:46.503Z"
   },
   {
    "duration": 9,
    "start_time": "2022-03-07T22:08:47.193Z"
   },
   {
    "duration": 448,
    "start_time": "2022-03-07T22:08:48.247Z"
   },
   {
    "duration": 365,
    "start_time": "2022-03-07T22:08:48.927Z"
   },
   {
    "duration": 343,
    "start_time": "2022-03-07T22:08:49.718Z"
   },
   {
    "duration": 415,
    "start_time": "2022-03-07T22:08:50.456Z"
   },
   {
    "duration": 362,
    "start_time": "2022-03-07T22:08:51.208Z"
   },
   {
    "duration": 417,
    "start_time": "2022-03-07T22:08:51.958Z"
   },
   {
    "duration": 405,
    "start_time": "2022-03-07T22:08:52.775Z"
   },
   {
    "duration": 401,
    "start_time": "2022-03-07T22:08:53.590Z"
   },
   {
    "duration": 403,
    "start_time": "2022-03-07T22:08:54.366Z"
   },
   {
    "duration": 371,
    "start_time": "2022-03-07T22:08:55.230Z"
   },
   {
    "duration": 17,
    "start_time": "2022-03-07T22:08:58.550Z"
   },
   {
    "duration": 317,
    "start_time": "2022-03-07T22:08:59.326Z"
   },
   {
    "duration": 18,
    "start_time": "2022-03-07T22:09:04.791Z"
   },
   {
    "duration": 555,
    "start_time": "2022-03-07T22:09:05.368Z"
   },
   {
    "duration": 19,
    "start_time": "2022-03-07T22:09:05.925Z"
   },
   {
    "duration": 546,
    "start_time": "2022-03-07T22:09:06.448Z"
   },
   {
    "duration": 19,
    "start_time": "2022-03-07T22:09:06.997Z"
   },
   {
    "duration": 458,
    "start_time": "2022-03-07T22:09:07.550Z"
   },
   {
    "duration": 20,
    "start_time": "2022-03-07T22:09:09.687Z"
   },
   {
    "duration": 313,
    "start_time": "2022-03-07T22:09:10.231Z"
   },
   {
    "duration": 19,
    "start_time": "2022-03-07T22:09:10.895Z"
   },
   {
    "duration": 319,
    "start_time": "2022-03-07T22:09:11.478Z"
   },
   {
    "duration": 18,
    "start_time": "2022-03-07T22:09:13.633Z"
   },
   {
    "duration": 330,
    "start_time": "2022-03-07T22:09:13.653Z"
   },
   {
    "duration": 19,
    "start_time": "2022-03-07T22:09:15.990Z"
   },
   {
    "duration": 283,
    "start_time": "2022-03-07T22:09:18.622Z"
   },
   {
    "duration": 17,
    "start_time": "2022-03-07T22:09:21.446Z"
   },
   {
    "duration": 304,
    "start_time": "2022-03-07T22:09:22.062Z"
   },
   {
    "duration": 18,
    "start_time": "2022-03-07T22:09:22.736Z"
   },
   {
    "duration": 294,
    "start_time": "2022-03-07T22:09:23.349Z"
   },
   {
    "duration": 11,
    "start_time": "2022-03-07T22:12:23.036Z"
   },
   {
    "duration": 4,
    "start_time": "2022-03-07T22:12:24.420Z"
   },
   {
    "duration": 13,
    "start_time": "2022-03-07T22:12:33.012Z"
   },
   {
    "duration": 5,
    "start_time": "2022-03-07T22:12:33.451Z"
   },
   {
    "duration": 6,
    "start_time": "2022-03-07T22:12:35.212Z"
   },
   {
    "duration": 89,
    "start_time": "2022-03-07T22:12:47.603Z"
   },
   {
    "duration": 104,
    "start_time": "2022-03-07T22:12:54.788Z"
   },
   {
    "duration": 7,
    "start_time": "2022-03-07T22:12:56.204Z"
   },
   {
    "duration": 87,
    "start_time": "2022-03-07T22:26:17.098Z"
   },
   {
    "duration": 89,
    "start_time": "2022-03-07T22:27:05.065Z"
   },
   {
    "duration": 20,
    "start_time": "2022-03-07T22:27:23.832Z"
   },
   {
    "duration": 340,
    "start_time": "2022-03-07T22:27:25.984Z"
   },
   {
    "duration": 18,
    "start_time": "2022-03-07T22:27:27.201Z"
   },
   {
    "duration": 492,
    "start_time": "2022-03-07T22:27:27.760Z"
   },
   {
    "duration": 24,
    "start_time": "2022-03-07T22:27:28.254Z"
   },
   {
    "duration": 455,
    "start_time": "2022-03-07T22:27:28.745Z"
   },
   {
    "duration": 97,
    "start_time": "2022-03-07T22:28:27.376Z"
   },
   {
    "duration": 1014,
    "start_time": "2022-03-08T14:07:33.204Z"
   },
   {
    "duration": 32,
    "start_time": "2022-03-08T14:07:34.220Z"
   },
   {
    "duration": 16,
    "start_time": "2022-03-08T14:07:34.826Z"
   },
   {
    "duration": 12,
    "start_time": "2022-03-08T14:07:35.299Z"
   },
   {
    "duration": 5,
    "start_time": "2022-03-08T14:07:37.042Z"
   },
   {
    "duration": 4,
    "start_time": "2022-03-08T14:07:37.435Z"
   },
   {
    "duration": 9,
    "start_time": "2022-03-08T14:07:37.900Z"
   },
   {
    "duration": 13,
    "start_time": "2022-03-08T14:07:38.363Z"
   },
   {
    "duration": 12,
    "start_time": "2022-03-08T14:07:38.835Z"
   },
   {
    "duration": 341,
    "start_time": "2022-03-08T14:07:39.283Z"
   },
   {
    "duration": 4,
    "start_time": "2022-03-08T14:07:40.866Z"
   },
   {
    "duration": 7,
    "start_time": "2022-03-08T14:07:41.324Z"
   },
   {
    "duration": 7,
    "start_time": "2022-03-08T14:07:41.754Z"
   },
   {
    "duration": 7,
    "start_time": "2022-03-08T14:07:42.186Z"
   },
   {
    "duration": 7,
    "start_time": "2022-03-08T14:07:42.595Z"
   },
   {
    "duration": 7,
    "start_time": "2022-03-08T14:07:43.043Z"
   },
   {
    "duration": 6,
    "start_time": "2022-03-08T14:07:43.425Z"
   },
   {
    "duration": 7,
    "start_time": "2022-03-08T14:07:44.283Z"
   },
   {
    "duration": 5,
    "start_time": "2022-03-08T14:07:44.786Z"
   },
   {
    "duration": 24,
    "start_time": "2022-03-08T14:07:45.235Z"
   },
   {
    "duration": 8,
    "start_time": "2022-03-08T14:07:45.715Z"
   },
   {
    "duration": 14,
    "start_time": "2022-03-08T14:07:46.666Z"
   },
   {
    "duration": 190,
    "start_time": "2022-03-08T14:07:48.730Z"
   },
   {
    "duration": 411,
    "start_time": "2022-03-08T14:07:51.098Z"
   },
   {
    "duration": 6,
    "start_time": "2022-03-08T14:07:52.019Z"
   },
   {
    "duration": 3,
    "start_time": "2022-03-08T14:07:52.490Z"
   },
   {
    "duration": 9,
    "start_time": "2022-03-08T14:07:53.242Z"
   },
   {
    "duration": 377,
    "start_time": "2022-03-08T14:07:53.786Z"
   },
   {
    "duration": 13,
    "start_time": "2022-03-08T14:07:58.722Z"
   },
   {
    "duration": 268,
    "start_time": "2022-03-08T14:08:00.314Z"
   },
   {
    "duration": 6,
    "start_time": "2022-03-08T14:08:46.066Z"
   },
   {
    "duration": 7,
    "start_time": "2022-03-08T14:09:22.921Z"
   },
   {
    "duration": 6,
    "start_time": "2022-03-08T14:09:24.985Z"
   },
   {
    "duration": 5,
    "start_time": "2022-03-08T14:09:25.889Z"
   },
   {
    "duration": 327,
    "start_time": "2022-03-08T14:09:26.610Z"
   },
   {
    "duration": 323,
    "start_time": "2022-03-08T14:09:27.498Z"
   },
   {
    "duration": 12,
    "start_time": "2022-03-08T14:09:28.537Z"
   },
   {
    "duration": 14,
    "start_time": "2022-03-08T14:10:25.873Z"
   },
   {
    "duration": 10,
    "start_time": "2022-03-08T14:10:27.281Z"
   },
   {
    "duration": 10,
    "start_time": "2022-03-08T14:10:36.058Z"
   },
   {
    "duration": 439,
    "start_time": "2022-03-08T14:10:37.209Z"
   },
   {
    "duration": 341,
    "start_time": "2022-03-08T14:10:37.920Z"
   },
   {
    "duration": 363,
    "start_time": "2022-03-08T14:10:38.463Z"
   },
   {
    "duration": 354,
    "start_time": "2022-03-08T14:10:39.079Z"
   },
   {
    "duration": 345,
    "start_time": "2022-03-08T14:10:39.673Z"
   },
   {
    "duration": 338,
    "start_time": "2022-03-08T14:10:40.313Z"
   },
   {
    "duration": 380,
    "start_time": "2022-03-08T14:10:40.960Z"
   },
   {
    "duration": 340,
    "start_time": "2022-03-08T14:10:41.673Z"
   },
   {
    "duration": 369,
    "start_time": "2022-03-08T14:10:42.247Z"
   },
   {
    "duration": 363,
    "start_time": "2022-03-08T14:10:43.688Z"
   },
   {
    "duration": 16,
    "start_time": "2022-03-08T14:11:42.548Z"
   },
   {
    "duration": 285,
    "start_time": "2022-03-08T14:11:43.233Z"
   },
   {
    "duration": 18,
    "start_time": "2022-03-08T14:21:13.822Z"
   },
   {
    "duration": 273,
    "start_time": "2022-03-08T14:21:15.929Z"
   },
   {
    "duration": 17,
    "start_time": "2022-03-08T14:21:43.530Z"
   },
   {
    "duration": 18,
    "start_time": "2022-03-08T14:22:31.918Z"
   },
   {
    "duration": 272,
    "start_time": "2022-03-08T14:22:34.617Z"
   },
   {
    "duration": 16,
    "start_time": "2022-03-08T14:22:37.273Z"
   },
   {
    "duration": 18,
    "start_time": "2022-03-08T14:25:11.381Z"
   },
   {
    "duration": 345,
    "start_time": "2022-03-08T14:25:13.063Z"
   },
   {
    "duration": 16,
    "start_time": "2022-03-08T14:25:16.119Z"
   },
   {
    "duration": 283,
    "start_time": "2022-03-08T14:25:22.903Z"
   },
   {
    "duration": 18,
    "start_time": "2022-03-08T14:26:16.781Z"
   },
   {
    "duration": 264,
    "start_time": "2022-03-08T14:26:19.198Z"
   },
   {
    "duration": 271,
    "start_time": "2022-03-08T14:26:51.158Z"
   },
   {
    "duration": 17,
    "start_time": "2022-03-08T14:32:37.674Z"
   },
   {
    "duration": 263,
    "start_time": "2022-03-08T14:32:38.530Z"
   },
   {
    "duration": 20,
    "start_time": "2022-03-08T14:32:39.281Z"
   },
   {
    "duration": 267,
    "start_time": "2022-03-08T14:32:40.138Z"
   },
   {
    "duration": 19,
    "start_time": "2022-03-08T14:32:46.586Z"
   },
   {
    "duration": 394,
    "start_time": "2022-03-08T14:32:47.299Z"
   },
   {
    "duration": 105,
    "start_time": "2022-03-08T14:32:47.839Z"
   },
   {
    "duration": 307,
    "start_time": "2022-03-08T14:32:48.386Z"
   },
   {
    "duration": 73,
    "start_time": "2022-03-08T14:32:48.914Z"
   },
   {
    "duration": 235,
    "start_time": "2022-03-08T14:32:49.641Z"
   },
   {
    "duration": 19,
    "start_time": "2022-03-08T14:33:17.282Z"
   },
   {
    "duration": 319,
    "start_time": "2022-03-08T14:33:17.962Z"
   },
   {
    "duration": 18,
    "start_time": "2022-03-08T14:33:26.577Z"
   },
   {
    "duration": 286,
    "start_time": "2022-03-08T14:33:28.273Z"
   },
   {
    "duration": 25,
    "start_time": "2022-03-08T14:38:13.504Z"
   },
   {
    "duration": 288,
    "start_time": "2022-03-08T14:42:11.972Z"
   },
   {
    "duration": 9,
    "start_time": "2022-03-08T14:42:16.258Z"
   },
   {
    "duration": 4,
    "start_time": "2022-03-08T14:42:16.531Z"
   },
   {
    "duration": 6,
    "start_time": "2022-03-08T14:42:17.003Z"
   },
   {
    "duration": 9,
    "start_time": "2022-03-08T14:42:17.435Z"
   },
   {
    "duration": 7,
    "start_time": "2022-03-08T14:42:17.883Z"
   },
   {
    "duration": 9,
    "start_time": "2022-03-08T14:42:21.939Z"
   },
   {
    "duration": 4,
    "start_time": "2022-03-08T14:42:22.284Z"
   },
   {
    "duration": 6,
    "start_time": "2022-03-08T14:42:22.747Z"
   },
   {
    "duration": 11,
    "start_time": "2022-03-08T14:42:23.500Z"
   },
   {
    "duration": 5,
    "start_time": "2022-03-08T14:42:25.459Z"
   },
   {
    "duration": 6,
    "start_time": "2022-03-08T14:42:26.123Z"
   },
   {
    "duration": 1226,
    "start_time": "2022-03-09T13:18:37.556Z"
   },
   {
    "duration": 41,
    "start_time": "2022-03-09T13:18:38.784Z"
   },
   {
    "duration": 23,
    "start_time": "2022-03-09T13:18:38.827Z"
   },
   {
    "duration": 17,
    "start_time": "2022-03-09T13:18:38.852Z"
   },
   {
    "duration": 8,
    "start_time": "2022-03-09T13:18:38.871Z"
   },
   {
    "duration": 22,
    "start_time": "2022-03-09T13:18:38.881Z"
   },
   {
    "duration": 12,
    "start_time": "2022-03-09T13:18:38.905Z"
   },
   {
    "duration": 13,
    "start_time": "2022-03-09T13:18:38.919Z"
   },
   {
    "duration": 19,
    "start_time": "2022-03-09T13:18:38.936Z"
   },
   {
    "duration": 418,
    "start_time": "2022-03-09T13:18:38.958Z"
   },
   {
    "duration": 5,
    "start_time": "2022-03-09T13:18:39.378Z"
   },
   {
    "duration": 19,
    "start_time": "2022-03-09T13:18:39.385Z"
   },
   {
    "duration": 28,
    "start_time": "2022-03-09T13:18:39.406Z"
   },
   {
    "duration": 17,
    "start_time": "2022-03-09T13:18:39.437Z"
   },
   {
    "duration": 24,
    "start_time": "2022-03-09T13:18:39.456Z"
   },
   {
    "duration": 18,
    "start_time": "2022-03-09T13:18:39.482Z"
   },
   {
    "duration": 18,
    "start_time": "2022-03-09T13:18:39.502Z"
   },
   {
    "duration": 34,
    "start_time": "2022-03-09T13:18:39.523Z"
   },
   {
    "duration": 32,
    "start_time": "2022-03-09T13:18:39.558Z"
   },
   {
    "duration": 32,
    "start_time": "2022-03-09T13:18:39.592Z"
   },
   {
    "duration": 10,
    "start_time": "2022-03-09T13:18:39.626Z"
   },
   {
    "duration": 27,
    "start_time": "2022-03-09T13:18:39.638Z"
   },
   {
    "duration": 251,
    "start_time": "2022-03-09T13:18:39.667Z"
   },
   {
    "duration": 484,
    "start_time": "2022-03-09T13:18:39.921Z"
   },
   {
    "duration": 8,
    "start_time": "2022-03-09T13:18:40.407Z"
   },
   {
    "duration": 9,
    "start_time": "2022-03-09T13:18:40.417Z"
   },
   {
    "duration": 16,
    "start_time": "2022-03-09T13:18:40.430Z"
   },
   {
    "duration": 461,
    "start_time": "2022-03-09T13:18:40.449Z"
   },
   {
    "duration": 17,
    "start_time": "2022-03-09T13:18:40.913Z"
   },
   {
    "duration": 373,
    "start_time": "2022-03-09T13:18:40.933Z"
   },
   {
    "duration": 10,
    "start_time": "2022-03-09T13:18:41.308Z"
   },
   {
    "duration": 9,
    "start_time": "2022-03-09T13:18:41.320Z"
   },
   {
    "duration": 11,
    "start_time": "2022-03-09T13:18:41.331Z"
   },
   {
    "duration": 403,
    "start_time": "2022-03-09T13:18:41.344Z"
   },
   {
    "duration": 391,
    "start_time": "2022-03-09T13:18:41.749Z"
   },
   {
    "duration": 17,
    "start_time": "2022-03-09T13:18:42.142Z"
   },
   {
    "duration": 9,
    "start_time": "2022-03-09T13:18:42.161Z"
   },
   {
    "duration": 34,
    "start_time": "2022-03-09T13:18:42.172Z"
   },
   {
    "duration": 472,
    "start_time": "2022-03-09T13:18:42.208Z"
   },
   {
    "duration": 404,
    "start_time": "2022-03-09T13:18:42.682Z"
   },
   {
    "duration": 426,
    "start_time": "2022-03-09T13:18:43.088Z"
   },
   {
    "duration": 381,
    "start_time": "2022-03-09T13:18:43.516Z"
   },
   {
    "duration": 380,
    "start_time": "2022-03-09T13:18:43.899Z"
   },
   {
    "duration": 421,
    "start_time": "2022-03-09T13:18:44.280Z"
   },
   {
    "duration": 367,
    "start_time": "2022-03-09T13:18:44.702Z"
   },
   {
    "duration": 430,
    "start_time": "2022-03-09T13:18:45.072Z"
   },
   {
    "duration": 386,
    "start_time": "2022-03-09T13:18:45.504Z"
   },
   {
    "duration": 431,
    "start_time": "2022-03-09T13:18:45.892Z"
   },
   {
    "duration": 18,
    "start_time": "2022-03-09T13:18:48.495Z"
   },
   {
    "duration": 5,
    "start_time": "2022-03-09T13:22:59.100Z"
   },
   {
    "duration": 61,
    "start_time": "2022-03-09T13:22:59.107Z"
   },
   {
    "duration": 32,
    "start_time": "2022-03-09T13:22:59.171Z"
   },
   {
    "duration": 25,
    "start_time": "2022-03-09T13:22:59.206Z"
   },
   {
    "duration": 19,
    "start_time": "2022-03-09T13:22:59.233Z"
   },
   {
    "duration": 25,
    "start_time": "2022-03-09T13:22:59.254Z"
   },
   {
    "duration": 49,
    "start_time": "2022-03-09T13:22:59.281Z"
   },
   {
    "duration": 13,
    "start_time": "2022-03-09T13:22:59.333Z"
   },
   {
    "duration": 13,
    "start_time": "2022-03-09T13:22:59.349Z"
   },
   {
    "duration": 461,
    "start_time": "2022-03-09T13:22:59.364Z"
   },
   {
    "duration": 5,
    "start_time": "2022-03-09T13:22:59.828Z"
   },
   {
    "duration": 11,
    "start_time": "2022-03-09T13:22:59.835Z"
   },
   {
    "duration": 11,
    "start_time": "2022-03-09T13:22:59.848Z"
   },
   {
    "duration": 9,
    "start_time": "2022-03-09T13:22:59.861Z"
   },
   {
    "duration": 32,
    "start_time": "2022-03-09T13:22:59.872Z"
   },
   {
    "duration": 7,
    "start_time": "2022-03-09T13:22:59.906Z"
   },
   {
    "duration": 11,
    "start_time": "2022-03-09T13:22:59.914Z"
   },
   {
    "duration": 13,
    "start_time": "2022-03-09T13:22:59.927Z"
   },
   {
    "duration": 8,
    "start_time": "2022-03-09T13:22:59.942Z"
   },
   {
    "duration": 26,
    "start_time": "2022-03-09T13:22:59.952Z"
   },
   {
    "duration": 6,
    "start_time": "2022-03-09T13:23:00.002Z"
   },
   {
    "duration": 29,
    "start_time": "2022-03-09T13:23:00.010Z"
   },
   {
    "duration": 251,
    "start_time": "2022-03-09T13:23:00.043Z"
   },
   {
    "duration": 833,
    "start_time": "2022-03-09T13:23:00.297Z"
   },
   {
    "duration": 7,
    "start_time": "2022-03-09T13:23:01.132Z"
   },
   {
    "duration": 14,
    "start_time": "2022-03-09T13:23:01.141Z"
   },
   {
    "duration": 29,
    "start_time": "2022-03-09T13:23:01.158Z"
   },
   {
    "duration": 450,
    "start_time": "2022-03-09T13:23:01.189Z"
   },
   {
    "duration": 15,
    "start_time": "2022-03-09T13:23:01.642Z"
   },
   {
    "duration": 374,
    "start_time": "2022-03-09T13:23:01.659Z"
   },
   {
    "duration": 13,
    "start_time": "2022-03-09T13:23:02.035Z"
   },
   {
    "duration": 15,
    "start_time": "2022-03-09T13:23:02.050Z"
   },
   {
    "duration": 34,
    "start_time": "2022-03-09T13:23:02.067Z"
   },
   {
    "duration": 744,
    "start_time": "2022-03-09T13:23:02.104Z"
   },
   {
    "duration": 433,
    "start_time": "2022-03-09T13:23:02.851Z"
   },
   {
    "duration": 31,
    "start_time": "2022-03-09T13:23:03.286Z"
   },
   {
    "duration": 12,
    "start_time": "2022-03-09T13:23:03.320Z"
   },
   {
    "duration": 14,
    "start_time": "2022-03-09T13:23:03.334Z"
   },
   {
    "duration": 463,
    "start_time": "2022-03-09T13:23:03.351Z"
   },
   {
    "duration": 498,
    "start_time": "2022-03-09T13:23:03.816Z"
   },
   {
    "duration": 413,
    "start_time": "2022-03-09T13:23:04.316Z"
   },
   {
    "duration": 420,
    "start_time": "2022-03-09T13:23:04.731Z"
   },
   {
    "duration": 395,
    "start_time": "2022-03-09T13:23:05.152Z"
   },
   {
    "duration": 511,
    "start_time": "2022-03-09T13:23:05.549Z"
   },
   {
    "duration": 440,
    "start_time": "2022-03-09T13:23:06.063Z"
   },
   {
    "duration": 447,
    "start_time": "2022-03-09T13:23:06.506Z"
   },
   {
    "duration": 436,
    "start_time": "2022-03-09T13:23:06.955Z"
   },
   {
    "duration": 423,
    "start_time": "2022-03-09T13:23:07.400Z"
   },
   {
    "duration": 24,
    "start_time": "2022-03-09T13:23:07.824Z"
   },
   {
    "duration": 331,
    "start_time": "2022-03-09T13:23:07.850Z"
   },
   {
    "duration": 32,
    "start_time": "2022-03-09T13:23:08.183Z"
   },
   {
    "duration": 446,
    "start_time": "2022-03-09T13:23:08.218Z"
   },
   {
    "duration": 21,
    "start_time": "2022-03-09T13:23:08.666Z"
   },
   {
    "duration": 355,
    "start_time": "2022-03-09T13:23:08.702Z"
   },
   {
    "duration": 21,
    "start_time": "2022-03-09T13:23:09.059Z"
   },
   {
    "duration": 356,
    "start_time": "2022-03-09T13:23:09.082Z"
   },
   {
    "duration": 20,
    "start_time": "2022-03-09T13:23:09.441Z"
   },
   {
    "duration": 400,
    "start_time": "2022-03-09T13:23:09.463Z"
   },
   {
    "duration": 18,
    "start_time": "2022-03-09T13:23:09.865Z"
   },
   {
    "duration": 379,
    "start_time": "2022-03-09T13:23:09.885Z"
   },
   {
    "duration": 18,
    "start_time": "2022-03-09T13:23:10.266Z"
   },
   {
    "duration": 325,
    "start_time": "2022-03-09T13:23:10.301Z"
   },
   {
    "duration": 20,
    "start_time": "2022-03-09T13:23:10.628Z"
   },
   {
    "duration": 385,
    "start_time": "2022-03-09T13:23:10.650Z"
   },
   {
    "duration": 21,
    "start_time": "2022-03-09T13:23:11.038Z"
   },
   {
    "duration": 429,
    "start_time": "2022-03-09T13:23:11.061Z"
   },
   {
    "duration": 25,
    "start_time": "2022-03-09T13:23:11.492Z"
   },
   {
    "duration": 365,
    "start_time": "2022-03-09T13:23:11.524Z"
   },
   {
    "duration": 23,
    "start_time": "2022-03-09T13:23:11.892Z"
   },
   {
    "duration": 315,
    "start_time": "2022-03-09T13:23:11.918Z"
   },
   {
    "duration": 15,
    "start_time": "2022-03-09T13:23:12.236Z"
   },
   {
    "duration": 4,
    "start_time": "2022-03-09T13:23:12.253Z"
   },
   {
    "duration": 16,
    "start_time": "2022-03-09T13:23:12.259Z"
   },
   {
    "duration": 31,
    "start_time": "2022-03-09T13:23:12.277Z"
   },
   {
    "duration": 11,
    "start_time": "2022-03-09T13:23:12.310Z"
   },
   {
    "duration": 15,
    "start_time": "2022-03-09T13:23:12.323Z"
   },
   {
    "duration": 5,
    "start_time": "2022-03-09T13:23:12.341Z"
   },
   {
    "duration": 14,
    "start_time": "2022-03-09T13:23:12.348Z"
   },
   {
    "duration": 45,
    "start_time": "2022-03-09T13:23:12.364Z"
   },
   {
    "duration": 7,
    "start_time": "2022-03-09T13:23:12.411Z"
   },
   {
    "duration": 10,
    "start_time": "2022-03-09T13:23:12.420Z"
   },
   {
    "duration": 1651,
    "start_time": "2022-03-09T14:28:12.522Z"
   },
   {
    "duration": 46,
    "start_time": "2022-03-09T14:28:14.176Z"
   },
   {
    "duration": 26,
    "start_time": "2022-03-09T14:28:14.224Z"
   },
   {
    "duration": 14,
    "start_time": "2022-03-09T14:28:15.034Z"
   },
   {
    "duration": 7,
    "start_time": "2022-03-09T14:28:17.336Z"
   },
   {
    "duration": 6,
    "start_time": "2022-03-09T14:28:17.854Z"
   },
   {
    "duration": 15,
    "start_time": "2022-03-09T14:28:18.458Z"
   },
   {
    "duration": 12,
    "start_time": "2022-03-09T14:28:19.216Z"
   },
   {
    "duration": 22,
    "start_time": "2022-03-09T14:28:19.980Z"
   },
   {
    "duration": 571,
    "start_time": "2022-03-09T14:28:20.759Z"
   },
   {
    "duration": 6,
    "start_time": "2022-03-09T14:28:23.831Z"
   },
   {
    "duration": 10,
    "start_time": "2022-03-09T14:28:24.763Z"
   },
   {
    "duration": 14,
    "start_time": "2022-03-09T14:28:25.706Z"
   },
   {
    "duration": 10,
    "start_time": "2022-03-09T14:28:26.496Z"
   },
   {
    "duration": 11,
    "start_time": "2022-03-09T14:28:27.297Z"
   },
   {
    "duration": 12,
    "start_time": "2022-03-09T14:28:28.067Z"
   },
   {
    "duration": 9,
    "start_time": "2022-03-09T14:28:28.806Z"
   },
   {
    "duration": 14,
    "start_time": "2022-03-09T14:28:30.282Z"
   },
   {
    "duration": 6,
    "start_time": "2022-03-09T14:28:30.960Z"
   },
   {
    "duration": 35,
    "start_time": "2022-03-09T14:28:31.771Z"
   },
   {
    "duration": 12,
    "start_time": "2022-03-09T14:28:32.487Z"
   },
   {
    "duration": 23,
    "start_time": "2022-03-09T14:28:33.692Z"
   },
   {
    "duration": 360,
    "start_time": "2022-03-09T14:28:36.791Z"
   },
   {
    "duration": 580,
    "start_time": "2022-03-09T14:28:42.918Z"
   },
   {
    "duration": 11,
    "start_time": "2022-03-09T14:28:54.786Z"
   },
   {
    "duration": 5,
    "start_time": "2022-03-09T14:29:03.669Z"
   },
   {
    "duration": 14,
    "start_time": "2022-03-09T14:29:04.673Z"
   },
   {
    "duration": 664,
    "start_time": "2022-03-09T14:29:06.827Z"
   },
   {
    "duration": 19,
    "start_time": "2022-03-09T14:33:44.522Z"
   },
   {
    "duration": 530,
    "start_time": "2022-03-09T14:33:45.875Z"
   },
   {
    "duration": 8,
    "start_time": "2022-03-09T14:35:00.051Z"
   },
   {
    "duration": 20,
    "start_time": "2022-03-09T14:39:31.907Z"
   },
   {
    "duration": 493,
    "start_time": "2022-03-09T14:39:32.856Z"
   },
   {
    "duration": 8,
    "start_time": "2022-03-09T14:39:37.477Z"
   },
   {
    "duration": 7,
    "start_time": "2022-03-09T14:39:38.289Z"
   },
   {
    "duration": 8,
    "start_time": "2022-03-09T14:39:43.576Z"
   },
   {
    "duration": 7,
    "start_time": "2022-03-09T14:39:44.481Z"
   },
   {
    "duration": 537,
    "start_time": "2022-03-09T14:39:48.504Z"
   },
   {
    "duration": 590,
    "start_time": "2022-03-09T14:39:50.152Z"
   },
   {
    "duration": 20,
    "start_time": "2022-03-09T14:39:51.185Z"
   },
   {
    "duration": 13,
    "start_time": "2022-03-09T14:39:52.276Z"
   },
   {
    "duration": 21,
    "start_time": "2022-03-09T14:40:39.283Z"
   },
   {
    "duration": 14,
    "start_time": "2022-03-09T14:40:40.275Z"
   },
   {
    "duration": 14,
    "start_time": "2022-03-09T14:40:42.001Z"
   },
   {
    "duration": 651,
    "start_time": "2022-03-09T14:40:44.932Z"
   },
   {
    "duration": 575,
    "start_time": "2022-03-09T14:40:45.586Z"
   },
   {
    "duration": 542,
    "start_time": "2022-03-09T14:40:47.008Z"
   },
   {
    "duration": 545,
    "start_time": "2022-03-09T14:40:47.923Z"
   },
   {
    "duration": 617,
    "start_time": "2022-03-09T14:40:48.840Z"
   },
   {
    "duration": 580,
    "start_time": "2022-03-09T14:40:49.817Z"
   },
   {
    "duration": 545,
    "start_time": "2022-03-09T14:40:51.256Z"
   },
   {
    "duration": 624,
    "start_time": "2022-03-09T14:40:54.033Z"
   },
   {
    "duration": 525,
    "start_time": "2022-03-09T14:40:54.894Z"
   },
   {
    "duration": 579,
    "start_time": "2022-03-09T14:40:56.036Z"
   },
   {
    "duration": 12,
    "start_time": "2022-03-09T14:42:15.649Z"
   },
   {
    "duration": 97,
    "start_time": "2022-03-09T14:43:00.729Z"
   },
   {
    "duration": 29,
    "start_time": "2022-03-09T14:43:14.972Z"
   },
   {
    "duration": 472,
    "start_time": "2022-03-09T14:43:16.636Z"
   },
   {
    "duration": 30,
    "start_time": "2022-03-09T14:43:23.036Z"
   },
   {
    "duration": 489,
    "start_time": "2022-03-09T14:43:25.386Z"
   },
   {
    "duration": 28,
    "start_time": "2022-03-09T14:48:24.396Z"
   },
   {
    "duration": 449,
    "start_time": "2022-03-09T14:48:37.613Z"
   },
   {
    "duration": 31,
    "start_time": "2022-03-09T14:48:42.277Z"
   },
   {
    "duration": 823,
    "start_time": "2022-03-09T14:48:51.548Z"
   },
   {
    "duration": 31,
    "start_time": "2022-03-09T14:48:52.813Z"
   },
   {
    "duration": 473,
    "start_time": "2022-03-09T14:48:55.426Z"
   },
   {
    "duration": 37,
    "start_time": "2022-03-09T14:52:46.786Z"
   },
   {
    "duration": 469,
    "start_time": "2022-03-09T14:52:49.525Z"
   },
   {
    "duration": 29,
    "start_time": "2022-03-09T14:53:11.339Z"
   },
   {
    "duration": 462,
    "start_time": "2022-03-09T14:53:14.503Z"
   },
   {
    "duration": 27,
    "start_time": "2022-03-09T14:53:21.164Z"
   },
   {
    "duration": 471,
    "start_time": "2022-03-09T14:53:22.372Z"
   },
   {
    "duration": 30,
    "start_time": "2022-03-09T14:56:53.810Z"
   },
   {
    "duration": 408,
    "start_time": "2022-03-09T14:56:56.565Z"
   },
   {
    "duration": 27,
    "start_time": "2022-03-09T14:57:02.474Z"
   },
   {
    "duration": 542,
    "start_time": "2022-03-09T14:57:03.779Z"
   },
   {
    "duration": 39,
    "start_time": "2022-03-09T14:57:11.876Z"
   },
   {
    "duration": 468,
    "start_time": "2022-03-09T14:57:13.043Z"
   },
   {
    "duration": 113,
    "start_time": "2022-03-09T14:57:53.388Z"
   },
   {
    "duration": 14,
    "start_time": "2022-03-09T14:59:04.872Z"
   },
   {
    "duration": 7,
    "start_time": "2022-03-09T14:59:05.572Z"
   },
   {
    "duration": 11,
    "start_time": "2022-03-09T14:59:06.283Z"
   },
   {
    "duration": 16,
    "start_time": "2022-03-09T14:59:07.228Z"
   },
   {
    "duration": 7,
    "start_time": "2022-03-09T14:59:13.146Z"
   },
   {
    "duration": 10,
    "start_time": "2022-03-09T14:59:15.211Z"
   },
   {
    "duration": 1304,
    "start_time": "2022-03-09T17:05:40.624Z"
   },
   {
    "duration": 58,
    "start_time": "2022-03-09T17:05:41.930Z"
   },
   {
    "duration": 19,
    "start_time": "2022-03-09T17:05:41.991Z"
   },
   {
    "duration": 12,
    "start_time": "2022-03-09T17:05:42.012Z"
   },
   {
    "duration": 4,
    "start_time": "2022-03-09T17:05:43.184Z"
   },
   {
    "duration": 4,
    "start_time": "2022-03-09T17:05:43.528Z"
   },
   {
    "duration": 13,
    "start_time": "2022-03-09T17:05:43.943Z"
   },
   {
    "duration": 9,
    "start_time": "2022-03-09T17:05:44.504Z"
   },
   {
    "duration": 13,
    "start_time": "2022-03-09T17:05:45.000Z"
   },
   {
    "duration": 333,
    "start_time": "2022-03-09T17:05:45.560Z"
   },
   {
    "duration": 4,
    "start_time": "2022-03-09T17:05:47.111Z"
   },
   {
    "duration": 9,
    "start_time": "2022-03-09T17:05:47.607Z"
   },
   {
    "duration": 6,
    "start_time": "2022-03-09T17:05:48.096Z"
   },
   {
    "duration": 6,
    "start_time": "2022-03-09T17:05:48.537Z"
   },
   {
    "duration": 7,
    "start_time": "2022-03-09T17:05:48.984Z"
   },
   {
    "duration": 6,
    "start_time": "2022-03-09T17:05:49.481Z"
   },
   {
    "duration": 6,
    "start_time": "2022-03-09T17:05:49.977Z"
   },
   {
    "duration": 8,
    "start_time": "2022-03-09T17:05:50.895Z"
   },
   {
    "duration": 4,
    "start_time": "2022-03-09T17:05:51.359Z"
   },
   {
    "duration": 18,
    "start_time": "2022-03-09T17:05:51.817Z"
   },
   {
    "duration": 6,
    "start_time": "2022-03-09T17:05:52.280Z"
   },
   {
    "duration": 13,
    "start_time": "2022-03-09T17:05:53.240Z"
   },
   {
    "duration": 182,
    "start_time": "2022-03-09T17:05:56.407Z"
   },
   {
    "duration": 251,
    "start_time": "2022-03-09T17:05:58.608Z"
   },
   {
    "duration": 6,
    "start_time": "2022-03-09T17:05:59.231Z"
   },
   {
    "duration": 3,
    "start_time": "2022-03-09T17:05:59.696Z"
   },
   {
    "duration": 7,
    "start_time": "2022-03-09T17:06:00.368Z"
   },
   {
    "duration": 402,
    "start_time": "2022-03-09T17:06:00.991Z"
   },
   {
    "duration": 11,
    "start_time": "2022-03-09T17:06:09.022Z"
   },
   {
    "duration": 247,
    "start_time": "2022-03-09T17:06:09.696Z"
   },
   {
    "duration": 6,
    "start_time": "2022-03-09T17:06:24.692Z"
   },
   {
    "duration": 8,
    "start_time": "2022-03-09T17:06:24.700Z"
   },
   {
    "duration": 4,
    "start_time": "2022-03-09T17:06:25.318Z"
   },
   {
    "duration": 357,
    "start_time": "2022-03-09T17:06:25.799Z"
   },
   {
    "duration": 349,
    "start_time": "2022-03-09T17:06:26.206Z"
   },
   {
    "duration": 13,
    "start_time": "2022-03-09T17:06:26.663Z"
   },
   {
    "duration": 7,
    "start_time": "2022-03-09T17:06:27.255Z"
   },
   {
    "duration": 8,
    "start_time": "2022-03-09T17:06:27.696Z"
   },
   {
    "duration": 342,
    "start_time": "2022-03-09T17:06:28.173Z"
   },
   {
    "duration": 503,
    "start_time": "2022-03-09T17:06:28.589Z"
   },
   {
    "duration": 428,
    "start_time": "2022-03-09T17:06:29.102Z"
   },
   {
    "duration": 372,
    "start_time": "2022-03-09T17:06:29.582Z"
   },
   {
    "duration": 318,
    "start_time": "2022-03-09T17:06:30.238Z"
   },
   {
    "duration": 394,
    "start_time": "2022-03-09T17:06:30.880Z"
   },
   {
    "duration": 358,
    "start_time": "2022-03-09T17:06:31.401Z"
   },
   {
    "duration": 304,
    "start_time": "2022-03-09T17:06:32.032Z"
   },
   {
    "duration": 439,
    "start_time": "2022-03-09T17:06:32.583Z"
   },
   {
    "duration": 411,
    "start_time": "2022-03-09T17:06:33.151Z"
   },
   {
    "duration": 18,
    "start_time": "2022-03-09T17:06:45.062Z"
   },
   {
    "duration": 240,
    "start_time": "2022-03-09T17:06:45.751Z"
   },
   {
    "duration": 15,
    "start_time": "2022-03-09T17:06:46.223Z"
   },
   {
    "duration": 241,
    "start_time": "2022-03-09T17:06:46.824Z"
   },
   {
    "duration": 17,
    "start_time": "2022-03-09T17:07:25.310Z"
   },
   {
    "duration": 244,
    "start_time": "2022-03-09T17:07:25.974Z"
   },
   {
    "duration": 23,
    "start_time": "2022-03-09T17:07:26.607Z"
   },
   {
    "duration": 336,
    "start_time": "2022-03-09T17:07:27.287Z"
   },
   {
    "duration": 20,
    "start_time": "2022-03-09T17:07:27.852Z"
   },
   {
    "duration": 237,
    "start_time": "2022-03-09T17:07:28.358Z"
   },
   {
    "duration": 17,
    "start_time": "2022-03-09T17:07:32.198Z"
   },
   {
    "duration": 238,
    "start_time": "2022-03-09T17:07:32.565Z"
   },
   {
    "duration": 16,
    "start_time": "2022-03-09T17:07:33.141Z"
   },
   {
    "duration": 249,
    "start_time": "2022-03-09T17:07:33.751Z"
   },
   {
    "duration": 23,
    "start_time": "2022-03-09T17:07:34.206Z"
   },
   {
    "duration": 349,
    "start_time": "2022-03-09T17:07:34.646Z"
   },
   {
    "duration": 25,
    "start_time": "2022-03-09T17:07:42.086Z"
   },
   {
    "duration": 322,
    "start_time": "2022-03-09T17:07:42.695Z"
   },
   {
    "duration": 22,
    "start_time": "2022-03-09T17:07:43.368Z"
   },
   {
    "duration": 392,
    "start_time": "2022-03-09T17:07:43.879Z"
   },
   {
    "duration": 16,
    "start_time": "2022-03-09T17:07:44.654Z"
   },
   {
    "duration": 289,
    "start_time": "2022-03-09T17:07:45.376Z"
   },
   {
    "duration": 9,
    "start_time": "2022-03-09T17:08:05.846Z"
   },
   {
    "duration": 5,
    "start_time": "2022-03-09T17:08:06.189Z"
   },
   {
    "duration": 9,
    "start_time": "2022-03-09T17:08:06.526Z"
   },
   {
    "duration": 9,
    "start_time": "2022-03-09T17:08:06.949Z"
   },
   {
    "duration": 7,
    "start_time": "2022-03-09T17:08:07.510Z"
   },
   {
    "duration": 10,
    "start_time": "2022-03-09T17:08:10.436Z"
   },
   {
    "duration": 4,
    "start_time": "2022-03-09T17:08:10.823Z"
   },
   {
    "duration": 6,
    "start_time": "2022-03-09T17:08:14.694Z"
   },
   {
    "duration": 11,
    "start_time": "2022-03-09T17:08:15.989Z"
   },
   {
    "duration": 376,
    "start_time": "2022-03-09T17:08:22.029Z"
   },
   {
    "duration": 12,
    "start_time": "2022-03-09T17:08:30.767Z"
   },
   {
    "duration": 4,
    "start_time": "2022-03-09T17:08:32.759Z"
   },
   {
    "duration": 9,
    "start_time": "2022-03-09T17:08:34.734Z"
   },
   {
    "duration": 94,
    "start_time": "2022-03-09T17:09:04.550Z"
   }
  ],
  "kernelspec": {
   "display_name": "Python 3 (ipykernel)",
   "language": "python",
   "name": "python3"
  },
  "language_info": {
   "codemirror_mode": {
    "name": "ipython",
    "version": 3
   },
   "file_extension": ".py",
   "mimetype": "text/x-python",
   "name": "python",
   "nbconvert_exporter": "python",
   "pygments_lexer": "ipython3",
   "version": "3.9.12"
  },
  "toc": {
   "base_numbering": 1,
   "nav_menu": {},
   "number_sections": true,
   "sideBar": true,
   "skip_h1_title": true,
   "title_cell": "Table of Contents",
   "title_sidebar": "Contents",
   "toc_cell": false,
   "toc_position": {
    "height": "calc(100% - 180px)",
    "left": "10px",
    "top": "150px",
    "width": "297.976px"
   },
   "toc_section_display": true,
   "toc_window_display": true
  }
 },
 "nbformat": 4,
 "nbformat_minor": 2
}
