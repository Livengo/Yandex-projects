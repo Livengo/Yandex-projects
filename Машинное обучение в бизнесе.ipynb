{
 "cells": [
  {
   "cell_type": "markdown",
   "metadata": {},
   "source": [
    "# Выбор локации для скважины"
   ]
  },
  {
   "cell_type": "markdown",
   "metadata": {},
   "source": [
    "Допустим, мы работаем в добывающей компании «ГлавРосГосНефть». Нужно решить, где бурить новую скважину.\n",
    "\n",
    "Нам предоставлены пробы нефти в трёх регионах: в каждом 10 000 месторождений, где измерили качество нефти и объём её запасов. Построим модель машинного обучения, которая поможет определить регион, где добыча принесёт наибольшую прибыль. Проанализируем возможную прибыль и риски техникой *Bootstrap.*\n",
    "\n",
    "Шаги для выбора локации:\n",
    "\n",
    "- В избранном регионе ищут месторождения, для каждого определяют значения признаков;\n",
    "- Строят модель и оценивают объём запасов;\n",
    "- Выбирают месторождения с самым высокими оценками значений. Количество месторождений зависит от бюджета компании и стоимости разработки одной скважины;\n",
    "- Прибыль равна суммарной прибыли отобранных месторождений."
   ]
  },
  {
   "cell_type": "markdown",
   "metadata": {},
   "source": [
    "# Описание данных"
   ]
  },
  {
   "cell_type": "markdown",
   "metadata": {},
   "source": [
    "- id — уникальный идентификатор скважины;\n",
    "- f0, f1, f2 — три признака точек (неважно, что они означают, но сами признаки значимы);\n",
    "- product — объём запасов в скважине (тыс. баррелей)."
   ]
  },
  {
   "cell_type": "markdown",
   "metadata": {},
   "source": [
    "# Условия задачи"
   ]
  },
  {
   "cell_type": "markdown",
   "metadata": {},
   "source": [
    "- Для обучения модели подходит только линейная регрессия (остальные — недостаточно предсказуемые).\n",
    "- При разведке региона исследуют 500 точек, из которых с помощью машинного обучения выбирают 200 лучших для разработки.\n",
    "- Бюджет на разработку скважин в регионе — 10 млрд рублей.\n",
    "- При нынешних ценах один баррель сырья приносит 450 рублей дохода. Доход с каждой единицы продукта составляет 450 тыс. рублей, поскольку объём указан в тысячах баррелей.\n",
    "- После оценки рисков нужно оставить лишь те регионы, в которых вероятность убытков меньше 2.5%. Среди них выбирают регион с наибольшей средней прибылью.\n",
    "- Данные синтетические: детали контрактов и характеристики месторождений не разглашаются."
   ]
  },
  {
   "cell_type": "markdown",
   "metadata": {},
   "source": [
    "## Загрузка и подготовка данных"
   ]
  },
  {
   "cell_type": "code",
   "execution_count": 1,
   "metadata": {},
   "outputs": [],
   "source": [
    "#Импортируем необходимые библиотеки\n",
    "import pandas as pd\n",
    "import numpy as np\n",
    "import scipy.stats as st\n",
    "from sklearn.preprocessing import StandardScaler\n",
    "from sklearn.model_selection import train_test_split\n",
    "from sklearn.linear_model import LinearRegression\n",
    "from sklearn.metrics import mean_squared_error"
   ]
  },
  {
   "cell_type": "code",
   "execution_count": 2,
   "metadata": {},
   "outputs": [],
   "source": [
    "#Откроем файлы\n",
    "df_zero = pd.read_csv('/datasets/geo_data_0.csv')\n",
    "df_first = pd.read_csv('/datasets/geo_data_1.csv')\n",
    "df_second = pd.read_csv('/datasets/geo_data_2.csv')"
   ]
  },
  {
   "cell_type": "code",
   "execution_count": 3,
   "metadata": {},
   "outputs": [
    {
     "data": {
      "text/html": [
       "<div>\n",
       "<style scoped>\n",
       "    .dataframe tbody tr th:only-of-type {\n",
       "        vertical-align: middle;\n",
       "    }\n",
       "\n",
       "    .dataframe tbody tr th {\n",
       "        vertical-align: top;\n",
       "    }\n",
       "\n",
       "    .dataframe thead th {\n",
       "        text-align: right;\n",
       "    }\n",
       "</style>\n",
       "<table border=\"1\" class=\"dataframe\">\n",
       "  <thead>\n",
       "    <tr style=\"text-align: right;\">\n",
       "      <th></th>\n",
       "      <th>id</th>\n",
       "      <th>f0</th>\n",
       "      <th>f1</th>\n",
       "      <th>f2</th>\n",
       "      <th>product</th>\n",
       "    </tr>\n",
       "  </thead>\n",
       "  <tbody>\n",
       "    <tr>\n",
       "      <th>0</th>\n",
       "      <td>txEyH</td>\n",
       "      <td>0.705745</td>\n",
       "      <td>-0.497823</td>\n",
       "      <td>1.221170</td>\n",
       "      <td>105.280062</td>\n",
       "    </tr>\n",
       "    <tr>\n",
       "      <th>1</th>\n",
       "      <td>2acmU</td>\n",
       "      <td>1.334711</td>\n",
       "      <td>-0.340164</td>\n",
       "      <td>4.365080</td>\n",
       "      <td>73.037750</td>\n",
       "    </tr>\n",
       "    <tr>\n",
       "      <th>2</th>\n",
       "      <td>409Wp</td>\n",
       "      <td>1.022732</td>\n",
       "      <td>0.151990</td>\n",
       "      <td>1.419926</td>\n",
       "      <td>85.265647</td>\n",
       "    </tr>\n",
       "    <tr>\n",
       "      <th>3</th>\n",
       "      <td>iJLyR</td>\n",
       "      <td>-0.032172</td>\n",
       "      <td>0.139033</td>\n",
       "      <td>2.978566</td>\n",
       "      <td>168.620776</td>\n",
       "    </tr>\n",
       "    <tr>\n",
       "      <th>4</th>\n",
       "      <td>Xdl7t</td>\n",
       "      <td>1.988431</td>\n",
       "      <td>0.155413</td>\n",
       "      <td>4.751769</td>\n",
       "      <td>154.036647</td>\n",
       "    </tr>\n",
       "    <tr>\n",
       "      <th>5</th>\n",
       "      <td>wX4Hy</td>\n",
       "      <td>0.969570</td>\n",
       "      <td>0.489775</td>\n",
       "      <td>-0.735383</td>\n",
       "      <td>64.741541</td>\n",
       "    </tr>\n",
       "    <tr>\n",
       "      <th>6</th>\n",
       "      <td>tL6pL</td>\n",
       "      <td>0.645075</td>\n",
       "      <td>0.530656</td>\n",
       "      <td>1.780266</td>\n",
       "      <td>49.055285</td>\n",
       "    </tr>\n",
       "    <tr>\n",
       "      <th>7</th>\n",
       "      <td>BYPU6</td>\n",
       "      <td>-0.400648</td>\n",
       "      <td>0.808337</td>\n",
       "      <td>-5.624670</td>\n",
       "      <td>72.943292</td>\n",
       "    </tr>\n",
       "    <tr>\n",
       "      <th>8</th>\n",
       "      <td>j9Oui</td>\n",
       "      <td>0.643105</td>\n",
       "      <td>-0.551583</td>\n",
       "      <td>2.372141</td>\n",
       "      <td>113.356160</td>\n",
       "    </tr>\n",
       "    <tr>\n",
       "      <th>9</th>\n",
       "      <td>OLuZU</td>\n",
       "      <td>2.173381</td>\n",
       "      <td>0.563698</td>\n",
       "      <td>9.441852</td>\n",
       "      <td>127.910945</td>\n",
       "    </tr>\n",
       "  </tbody>\n",
       "</table>\n",
       "</div>"
      ],
      "text/plain": [
       "      id        f0        f1        f2     product\n",
       "0  txEyH  0.705745 -0.497823  1.221170  105.280062\n",
       "1  2acmU  1.334711 -0.340164  4.365080   73.037750\n",
       "2  409Wp  1.022732  0.151990  1.419926   85.265647\n",
       "3  iJLyR -0.032172  0.139033  2.978566  168.620776\n",
       "4  Xdl7t  1.988431  0.155413  4.751769  154.036647\n",
       "5  wX4Hy  0.969570  0.489775 -0.735383   64.741541\n",
       "6  tL6pL  0.645075  0.530656  1.780266   49.055285\n",
       "7  BYPU6 -0.400648  0.808337 -5.624670   72.943292\n",
       "8  j9Oui  0.643105 -0.551583  2.372141  113.356160\n",
       "9  OLuZU  2.173381  0.563698  9.441852  127.910945"
      ]
     },
     "execution_count": 3,
     "metadata": {},
     "output_type": "execute_result"
    }
   ],
   "source": [
    "#Изучим первые 10 строк\n",
    "df_zero.head(10)"
   ]
  },
  {
   "cell_type": "code",
   "execution_count": 4,
   "metadata": {},
   "outputs": [
    {
     "data": {
      "text/html": [
       "<div>\n",
       "<style scoped>\n",
       "    .dataframe tbody tr th:only-of-type {\n",
       "        vertical-align: middle;\n",
       "    }\n",
       "\n",
       "    .dataframe tbody tr th {\n",
       "        vertical-align: top;\n",
       "    }\n",
       "\n",
       "    .dataframe thead th {\n",
       "        text-align: right;\n",
       "    }\n",
       "</style>\n",
       "<table border=\"1\" class=\"dataframe\">\n",
       "  <thead>\n",
       "    <tr style=\"text-align: right;\">\n",
       "      <th></th>\n",
       "      <th>id</th>\n",
       "      <th>f0</th>\n",
       "      <th>f1</th>\n",
       "      <th>f2</th>\n",
       "      <th>product</th>\n",
       "    </tr>\n",
       "  </thead>\n",
       "  <tbody>\n",
       "    <tr>\n",
       "      <th>0</th>\n",
       "      <td>kBEdx</td>\n",
       "      <td>-15.001348</td>\n",
       "      <td>-8.276000</td>\n",
       "      <td>-0.005876</td>\n",
       "      <td>3.179103</td>\n",
       "    </tr>\n",
       "    <tr>\n",
       "      <th>1</th>\n",
       "      <td>62mP7</td>\n",
       "      <td>14.272088</td>\n",
       "      <td>-3.475083</td>\n",
       "      <td>0.999183</td>\n",
       "      <td>26.953261</td>\n",
       "    </tr>\n",
       "    <tr>\n",
       "      <th>2</th>\n",
       "      <td>vyE1P</td>\n",
       "      <td>6.263187</td>\n",
       "      <td>-5.948386</td>\n",
       "      <td>5.001160</td>\n",
       "      <td>134.766305</td>\n",
       "    </tr>\n",
       "    <tr>\n",
       "      <th>3</th>\n",
       "      <td>KcrkZ</td>\n",
       "      <td>-13.081196</td>\n",
       "      <td>-11.506057</td>\n",
       "      <td>4.999415</td>\n",
       "      <td>137.945408</td>\n",
       "    </tr>\n",
       "    <tr>\n",
       "      <th>4</th>\n",
       "      <td>AHL4O</td>\n",
       "      <td>12.702195</td>\n",
       "      <td>-8.147433</td>\n",
       "      <td>5.004363</td>\n",
       "      <td>134.766305</td>\n",
       "    </tr>\n",
       "    <tr>\n",
       "      <th>5</th>\n",
       "      <td>HHckp</td>\n",
       "      <td>-3.327590</td>\n",
       "      <td>-2.205276</td>\n",
       "      <td>3.003647</td>\n",
       "      <td>84.038886</td>\n",
       "    </tr>\n",
       "    <tr>\n",
       "      <th>6</th>\n",
       "      <td>h5Ujo</td>\n",
       "      <td>-11.142655</td>\n",
       "      <td>-10.133399</td>\n",
       "      <td>4.002382</td>\n",
       "      <td>110.992147</td>\n",
       "    </tr>\n",
       "    <tr>\n",
       "      <th>7</th>\n",
       "      <td>muH9x</td>\n",
       "      <td>4.234715</td>\n",
       "      <td>-0.001354</td>\n",
       "      <td>2.004588</td>\n",
       "      <td>53.906522</td>\n",
       "    </tr>\n",
       "    <tr>\n",
       "      <th>8</th>\n",
       "      <td>YiRkx</td>\n",
       "      <td>13.355129</td>\n",
       "      <td>-0.332068</td>\n",
       "      <td>4.998647</td>\n",
       "      <td>134.766305</td>\n",
       "    </tr>\n",
       "    <tr>\n",
       "      <th>9</th>\n",
       "      <td>jG6Gi</td>\n",
       "      <td>1.069227</td>\n",
       "      <td>-11.025667</td>\n",
       "      <td>4.997844</td>\n",
       "      <td>137.945408</td>\n",
       "    </tr>\n",
       "  </tbody>\n",
       "</table>\n",
       "</div>"
      ],
      "text/plain": [
       "      id         f0         f1        f2     product\n",
       "0  kBEdx -15.001348  -8.276000 -0.005876    3.179103\n",
       "1  62mP7  14.272088  -3.475083  0.999183   26.953261\n",
       "2  vyE1P   6.263187  -5.948386  5.001160  134.766305\n",
       "3  KcrkZ -13.081196 -11.506057  4.999415  137.945408\n",
       "4  AHL4O  12.702195  -8.147433  5.004363  134.766305\n",
       "5  HHckp  -3.327590  -2.205276  3.003647   84.038886\n",
       "6  h5Ujo -11.142655 -10.133399  4.002382  110.992147\n",
       "7  muH9x   4.234715  -0.001354  2.004588   53.906522\n",
       "8  YiRkx  13.355129  -0.332068  4.998647  134.766305\n",
       "9  jG6Gi   1.069227 -11.025667  4.997844  137.945408"
      ]
     },
     "execution_count": 4,
     "metadata": {},
     "output_type": "execute_result"
    }
   ],
   "source": [
    "#Изучим первые 10 строк\n",
    "df_first.head(10)"
   ]
  },
  {
   "cell_type": "code",
   "execution_count": 5,
   "metadata": {},
   "outputs": [
    {
     "data": {
      "text/html": [
       "<div>\n",
       "<style scoped>\n",
       "    .dataframe tbody tr th:only-of-type {\n",
       "        vertical-align: middle;\n",
       "    }\n",
       "\n",
       "    .dataframe tbody tr th {\n",
       "        vertical-align: top;\n",
       "    }\n",
       "\n",
       "    .dataframe thead th {\n",
       "        text-align: right;\n",
       "    }\n",
       "</style>\n",
       "<table border=\"1\" class=\"dataframe\">\n",
       "  <thead>\n",
       "    <tr style=\"text-align: right;\">\n",
       "      <th></th>\n",
       "      <th>id</th>\n",
       "      <th>f0</th>\n",
       "      <th>f1</th>\n",
       "      <th>f2</th>\n",
       "      <th>product</th>\n",
       "    </tr>\n",
       "  </thead>\n",
       "  <tbody>\n",
       "    <tr>\n",
       "      <th>0</th>\n",
       "      <td>fwXo0</td>\n",
       "      <td>-1.146987</td>\n",
       "      <td>0.963328</td>\n",
       "      <td>-0.828965</td>\n",
       "      <td>27.758673</td>\n",
       "    </tr>\n",
       "    <tr>\n",
       "      <th>1</th>\n",
       "      <td>WJtFt</td>\n",
       "      <td>0.262778</td>\n",
       "      <td>0.269839</td>\n",
       "      <td>-2.530187</td>\n",
       "      <td>56.069697</td>\n",
       "    </tr>\n",
       "    <tr>\n",
       "      <th>2</th>\n",
       "      <td>ovLUW</td>\n",
       "      <td>0.194587</td>\n",
       "      <td>0.289035</td>\n",
       "      <td>-5.586433</td>\n",
       "      <td>62.871910</td>\n",
       "    </tr>\n",
       "    <tr>\n",
       "      <th>3</th>\n",
       "      <td>q6cA6</td>\n",
       "      <td>2.236060</td>\n",
       "      <td>-0.553760</td>\n",
       "      <td>0.930038</td>\n",
       "      <td>114.572842</td>\n",
       "    </tr>\n",
       "    <tr>\n",
       "      <th>4</th>\n",
       "      <td>WPMUX</td>\n",
       "      <td>-0.515993</td>\n",
       "      <td>1.716266</td>\n",
       "      <td>5.899011</td>\n",
       "      <td>149.600746</td>\n",
       "    </tr>\n",
       "    <tr>\n",
       "      <th>5</th>\n",
       "      <td>LzZXx</td>\n",
       "      <td>-0.758092</td>\n",
       "      <td>0.710691</td>\n",
       "      <td>2.585887</td>\n",
       "      <td>90.222465</td>\n",
       "    </tr>\n",
       "    <tr>\n",
       "      <th>6</th>\n",
       "      <td>WBHRv</td>\n",
       "      <td>-0.574891</td>\n",
       "      <td>0.317727</td>\n",
       "      <td>1.773745</td>\n",
       "      <td>45.641478</td>\n",
       "    </tr>\n",
       "    <tr>\n",
       "      <th>7</th>\n",
       "      <td>XO8fn</td>\n",
       "      <td>-1.906649</td>\n",
       "      <td>-2.458350</td>\n",
       "      <td>-0.177097</td>\n",
       "      <td>72.480640</td>\n",
       "    </tr>\n",
       "    <tr>\n",
       "      <th>8</th>\n",
       "      <td>ybmQ5</td>\n",
       "      <td>1.776292</td>\n",
       "      <td>-0.279356</td>\n",
       "      <td>3.004156</td>\n",
       "      <td>106.616832</td>\n",
       "    </tr>\n",
       "    <tr>\n",
       "      <th>9</th>\n",
       "      <td>OilcN</td>\n",
       "      <td>-1.214452</td>\n",
       "      <td>-0.439314</td>\n",
       "      <td>5.922514</td>\n",
       "      <td>52.954532</td>\n",
       "    </tr>\n",
       "  </tbody>\n",
       "</table>\n",
       "</div>"
      ],
      "text/plain": [
       "      id        f0        f1        f2     product\n",
       "0  fwXo0 -1.146987  0.963328 -0.828965   27.758673\n",
       "1  WJtFt  0.262778  0.269839 -2.530187   56.069697\n",
       "2  ovLUW  0.194587  0.289035 -5.586433   62.871910\n",
       "3  q6cA6  2.236060 -0.553760  0.930038  114.572842\n",
       "4  WPMUX -0.515993  1.716266  5.899011  149.600746\n",
       "5  LzZXx -0.758092  0.710691  2.585887   90.222465\n",
       "6  WBHRv -0.574891  0.317727  1.773745   45.641478\n",
       "7  XO8fn -1.906649 -2.458350 -0.177097   72.480640\n",
       "8  ybmQ5  1.776292 -0.279356  3.004156  106.616832\n",
       "9  OilcN -1.214452 -0.439314  5.922514   52.954532"
      ]
     },
     "execution_count": 5,
     "metadata": {},
     "output_type": "execute_result"
    }
   ],
   "source": [
    "#Изучим первые 10 строк\n",
    "df_second.head(10)"
   ]
  },
  {
   "cell_type": "code",
   "execution_count": 6,
   "metadata": {},
   "outputs": [
    {
     "name": "stdout",
     "output_type": "stream",
     "text": [
      "<class 'pandas.core.frame.DataFrame'>\n",
      "RangeIndex: 100000 entries, 0 to 99999\n",
      "Data columns (total 5 columns):\n",
      " #   Column   Non-Null Count   Dtype  \n",
      "---  ------   --------------   -----  \n",
      " 0   id       100000 non-null  object \n",
      " 1   f0       100000 non-null  float64\n",
      " 2   f1       100000 non-null  float64\n",
      " 3   f2       100000 non-null  float64\n",
      " 4   product  100000 non-null  float64\n",
      "dtypes: float64(4), object(1)\n",
      "memory usage: 3.8+ MB\n"
     ]
    }
   ],
   "source": [
    "#Посмотрим общую информацию\n",
    "df_zero.info()"
   ]
  },
  {
   "cell_type": "code",
   "execution_count": 7,
   "metadata": {},
   "outputs": [
    {
     "name": "stdout",
     "output_type": "stream",
     "text": [
      "<class 'pandas.core.frame.DataFrame'>\n",
      "RangeIndex: 100000 entries, 0 to 99999\n",
      "Data columns (total 5 columns):\n",
      " #   Column   Non-Null Count   Dtype  \n",
      "---  ------   --------------   -----  \n",
      " 0   id       100000 non-null  object \n",
      " 1   f0       100000 non-null  float64\n",
      " 2   f1       100000 non-null  float64\n",
      " 3   f2       100000 non-null  float64\n",
      " 4   product  100000 non-null  float64\n",
      "dtypes: float64(4), object(1)\n",
      "memory usage: 3.8+ MB\n"
     ]
    }
   ],
   "source": [
    "#Посмотрим общую информацию\n",
    "df_first.info()"
   ]
  },
  {
   "cell_type": "code",
   "execution_count": 8,
   "metadata": {},
   "outputs": [
    {
     "name": "stdout",
     "output_type": "stream",
     "text": [
      "<class 'pandas.core.frame.DataFrame'>\n",
      "RangeIndex: 100000 entries, 0 to 99999\n",
      "Data columns (total 5 columns):\n",
      " #   Column   Non-Null Count   Dtype  \n",
      "---  ------   --------------   -----  \n",
      " 0   id       100000 non-null  object \n",
      " 1   f0       100000 non-null  float64\n",
      " 2   f1       100000 non-null  float64\n",
      " 3   f2       100000 non-null  float64\n",
      " 4   product  100000 non-null  float64\n",
      "dtypes: float64(4), object(1)\n",
      "memory usage: 3.8+ MB\n"
     ]
    }
   ],
   "source": [
    "#Посмотрим общую информацию\n",
    "df_second.info()"
   ]
  },
  {
   "cell_type": "code",
   "execution_count": 9,
   "metadata": {},
   "outputs": [
    {
     "data": {
      "text/plain": [
       "0"
      ]
     },
     "execution_count": 9,
     "metadata": {},
     "output_type": "execute_result"
    }
   ],
   "source": [
    "#Проверим количество дубликатов\n",
    "df_zero.duplicated().sum()"
   ]
  },
  {
   "cell_type": "code",
   "execution_count": 10,
   "metadata": {},
   "outputs": [
    {
     "data": {
      "text/plain": [
       "0"
      ]
     },
     "execution_count": 10,
     "metadata": {},
     "output_type": "execute_result"
    }
   ],
   "source": [
    "#Проверим количество дубликатов\n",
    "df_first.duplicated().sum()"
   ]
  },
  {
   "cell_type": "code",
   "execution_count": 11,
   "metadata": {},
   "outputs": [
    {
     "data": {
      "text/plain": [
       "0"
      ]
     },
     "execution_count": 11,
     "metadata": {},
     "output_type": "execute_result"
    }
   ],
   "source": [
    "#Проверим количество дубликатов\n",
    "df_second.duplicated().sum()"
   ]
  },
  {
   "cell_type": "code",
   "execution_count": 12,
   "metadata": {},
   "outputs": [],
   "source": [
    "#Разделим данные на признаки\n",
    "features_names = ['f0', 'f1', 'f2']\n",
    "target_name = ['product']\n",
    "features_zero = df_zero[features_names]\n",
    "target_zero = df_zero[target_name]\n",
    "features_first = df_first[features_names]\n",
    "target_first = df_first[target_name]\n",
    "features_second = df_second[features_names]\n",
    "target_second = df_second[target_name]"
   ]
  },
  {
   "cell_type": "markdown",
   "metadata": {},
   "source": [
    "### Вывод"
   ]
  },
  {
   "cell_type": "markdown",
   "metadata": {},
   "source": [
    "С данными всё в порядке, пропусков и дубликатов не обнаружено. Произошло разделение на признаки. Сказать что-то конкретнее весьма затруднительно, поскольку нет точной информации о том, что означают сами данные в файлах."
   ]
  },
  {
   "cell_type": "markdown",
   "metadata": {},
   "source": [
    "## Обучение и проверка модели"
   ]
  },
  {
   "cell_type": "markdown",
   "metadata": {},
   "source": [
    "Обучим и проверим модель для каждого региона:\n",
    "\n",
    "- Разобьём данные на обучающую и валидационную выборки в соотношении 75:25.\n",
    "- Обучим модель и сделаем предсказания на валидационной выборке.\n",
    "- Сохраним предсказания и правильные ответы на валидационной выборке.\n",
    "- Напечатаем на экране средний запас предсказанного сырья и RMSE модели.\n",
    "- Проанализируем результаты."
   ]
  },
  {
   "cell_type": "code",
   "execution_count": 13,
   "metadata": {},
   "outputs": [],
   "source": [
    "#Напишем функцию для обучения модели и расчёта среднего запаса предсказанного сырья и RMSE модели\n",
    "def model_valid(features, target):\n",
    "    features_train, features_valid, target_train, target_valid = train_test_split(features, target, test_size=0.25, \n",
    "                                                                                  random_state=12345)\n",
    "    model = LinearRegression()\n",
    "    model.fit(features_train, target_train)\n",
    "    predictions_valid = model.predict(features_valid)\n",
    "    predictions_valid_mean = predictions_valid.mean()\n",
    "    rmse = mean_squared_error(target_valid, predictions_valid) ** 0.5\n",
    "    print('Средний запас предсказанного сырья:', predictions_valid_mean)\n",
    "    print('RMSE модели линейной регрессии на валидационной выборке:', rmse)\n",
    "    return target_valid, predictions_valid"
   ]
  },
  {
   "cell_type": "code",
   "execution_count": 14,
   "metadata": {},
   "outputs": [
    {
     "name": "stdout",
     "output_type": "stream",
     "text": [
      "Средний запас предсказанного сырья: 92.59256778438035\n",
      "RMSE модели линейной регрессии на валидационной выборке: 37.5794217150813\n"
     ]
    }
   ],
   "source": [
    "#Проверим для 0 региона\n",
    "target_zero_valid, predictions_zero = model_valid(features_zero, target_zero)"
   ]
  },
  {
   "cell_type": "code",
   "execution_count": 15,
   "metadata": {},
   "outputs": [
    {
     "name": "stdout",
     "output_type": "stream",
     "text": [
      "Средний запас предсказанного сырья: 68.728546895446\n",
      "RMSE модели линейной регрессии на валидационной выборке: 0.893099286775617\n"
     ]
    }
   ],
   "source": [
    "#Проверим для 1 региона\n",
    "target_first_valid, predictions_first = model_valid(features_first, target_first)"
   ]
  },
  {
   "cell_type": "code",
   "execution_count": 16,
   "metadata": {},
   "outputs": [
    {
     "name": "stdout",
     "output_type": "stream",
     "text": [
      "Средний запас предсказанного сырья: 94.96504596800489\n",
      "RMSE модели линейной регрессии на валидационной выборке: 40.02970873393434\n"
     ]
    }
   ],
   "source": [
    "#Проверим для 2 региона\n",
    "target_second_valid, predictions_second = model_valid(features_second, target_second)"
   ]
  },
  {
   "cell_type": "markdown",
   "metadata": {},
   "source": [
    "### Вывод"
   ]
  },
  {
   "cell_type": "markdown",
   "metadata": {},
   "source": [
    "Регион 0:\n",
    "\n",
    "- Средний запас предсказанного сырья: 92.59256778438035\n",
    "- RMSE модели линейной регрессии на валидационной выборке: 37.5794217150813\n",
    "\n",
    "Регион 1:\n",
    "\n",
    "- Средний запас предсказанного сырья: 68.728546895446\n",
    "- RMSE модели линейной регрессии на валидационной выборке: 0.893099286775617\n",
    "\n",
    "Регион 2:\n",
    "\n",
    "- Средний запас предсказанного сырья: 94.96504596800489\n",
    "- RMSE модели линейной регрессии на валидационной выборке: 40.02970873393434\n",
    "\n",
    "В регионах 0 и 2 достаточно высокий средний запас предсказанного сырья (92.6 и 95). Однако RMSE для данных регионов также высок (37.6 и 40). Это говорит о неоднозначности показателя, неточности модели регрессии.\n",
    "\n",
    "В регионе 1 средний запас предсказанного сырья составляет 68.7. Однако RMSE в данном регионе равен 0.9. Это говорит о точности предсказаний и качестве построенной модели."
   ]
  },
  {
   "cell_type": "markdown",
   "metadata": {},
   "source": [
    "## Подготовка к расчёту прибыли"
   ]
  },
  {
   "cell_type": "markdown",
   "metadata": {},
   "source": [
    "Подготовим к расчёту прибыли:\n",
    "\n",
    "- Все ключевые значения для расчётов сохраним в отдельных переменных.\n",
    "- Рассчитаем достаточный объём сырья для безубыточной разработки новой скважины. Сравним полученный объём сырья со средним запасом в каждом регионе.\n",
    "- Напишем выводы по этапу подготовки расчёта прибыли."
   ]
  },
  {
   "cell_type": "code",
   "execution_count": 17,
   "metadata": {},
   "outputs": [],
   "source": [
    "#По условию задачи сделаем обозначения\n",
    "\n",
    "BUDGET = 10 ** 10 #Бюджет на разработку скважин в регионе — 10 млрд рублей.\n",
    "\n",
    "TOP_WELLS = 200 #При разведке региона исследуют 500 точек, из которых с помощью машинного обучения выбирают 200 лучших \n",
    "WELLS = 500 #для разработки.\n",
    "\n",
    "PRODUCT = 4.5 * 10 ** 5 #один баррель сырья приносит 450 рублей дохода. Доход с каждой единицы продукта составляет \n",
    "#450 тыс. рублей, поскольку объём указан в тысячах баррелей."
   ]
  },
  {
   "cell_type": "code",
   "execution_count": 18,
   "metadata": {},
   "outputs": [
    {
     "name": "stdout",
     "output_type": "stream",
     "text": [
      "Достаточный объём сырья для безубыточной разработки новой скважины: 111.11111111111111\n"
     ]
    }
   ],
   "source": [
    "#Напишем формулу для расчёта достаточного объёма сырья для безубыточной разработки новой скважины\n",
    "min_product = BUDGET / (TOP_WELLS * PRODUCT)\n",
    "print('Достаточный объём сырья для безубыточной разработки новой скважины:', min_product)"
   ]
  },
  {
   "cell_type": "markdown",
   "metadata": {},
   "source": [
    "### Вывод"
   ]
  },
  {
   "cell_type": "markdown",
   "metadata": {},
   "source": [
    "- Минимальный объём сырья для безубыточной разработки новой скважины равен 111.11. Данный показатель рассчитан при условии выбора 200 лучших скважин из 500 в выборке.\n",
    "- Полученное значение превышает средние запасы предсказанного сырья на всех регионах."
   ]
  },
  {
   "cell_type": "markdown",
   "metadata": {},
   "source": [
    "## Расчёт прибыли"
   ]
  },
  {
   "cell_type": "markdown",
   "metadata": {},
   "source": [
    "Напишем функцию для расчёта прибыли по выбранным скважинам и предсказаниям модели:\n",
    "\n",
    "- Выберем скважины с максимальными значениями предсказаний.\n",
    "- Просуммируем целевое значение объёма сырья, соответствующее этим предсказаниям.\n",
    "- Рассчитаем прибыль для полученного объёма сырья."
   ]
  },
  {
   "cell_type": "code",
   "execution_count": 19,
   "metadata": {},
   "outputs": [],
   "source": [
    "#Преобразуем в pd.Series()\n",
    "target_zero_valid = pd.Series(target_zero_valid['product']).reset_index(drop=True)\n",
    "target_first_valid = pd.Series(target_first_valid['product']).reset_index(drop=True)\n",
    "target_second_valid = pd.Series(target_second_valid['product']).reset_index(drop=True)"
   ]
  },
  {
   "cell_type": "code",
   "execution_count": 20,
   "metadata": {},
   "outputs": [],
   "source": [
    "#Преобразуем в pd.Series()\n",
    "predictions_zero = pd.Series(*predictions_zero.reshape(1,-1))\n",
    "predictions_first = pd.Series(*predictions_first.reshape(1,-1))\n",
    "predictions_second = pd.Series(*predictions_second.reshape(1,-1))"
   ]
  },
  {
   "cell_type": "code",
   "execution_count": 21,
   "metadata": {},
   "outputs": [],
   "source": [
    "#Напишем функцию для расчёта прибыли по выбранным скважинам и предсказаниям модели\n",
    "def profit(target, predictions):\n",
    "    sample_predictions = predictions.sample(n=WELLS, replace=False, random_state=12345)\n",
    "    top_predictions = sample_predictions.sort_values(ascending=False)\n",
    "    top_targets = target[top_predictions.index][:TOP_WELLS]\n",
    "    return sum(top_targets) * PRODUCT - BUDGET"
   ]
  },
  {
   "cell_type": "code",
   "execution_count": 22,
   "metadata": {},
   "outputs": [
    {
     "data": {
      "text/plain": [
       "679068857.89"
      ]
     },
     "execution_count": 22,
     "metadata": {},
     "output_type": "execute_result"
    }
   ],
   "source": [
    "#Проверим прибыль для 0 региона\n",
    "round(profit(target_zero_valid, predictions_zero), 2)"
   ]
  },
  {
   "cell_type": "code",
   "execution_count": 23,
   "metadata": {},
   "outputs": [
    {
     "data": {
      "text/plain": [
       "779479884.18"
      ]
     },
     "execution_count": 23,
     "metadata": {},
     "output_type": "execute_result"
    }
   ],
   "source": [
    "#Проверим прибыль для 1 региона\n",
    "round(profit(target_first_valid, predictions_first), 2)"
   ]
  },
  {
   "cell_type": "code",
   "execution_count": 24,
   "metadata": {},
   "outputs": [
    {
     "data": {
      "text/plain": [
       "439990143.02"
      ]
     },
     "execution_count": 24,
     "metadata": {},
     "output_type": "execute_result"
    }
   ],
   "source": [
    "#Проверим прибыль для 2 региона\n",
    "round(profit(target_second_valid, predictions_second), 2)"
   ]
  },
  {
   "cell_type": "markdown",
   "metadata": {},
   "source": [
    "### Вывод"
   ]
  },
  {
   "cell_type": "markdown",
   "metadata": {},
   "source": [
    "Была рассчитана прибыль по выбранным скважинам и предсказаниям модели:\n",
    "- 0 регион - 679068857.89\n",
    "- 1 регион - 779479884.18\n",
    "- 2 регион - 439990143.02"
   ]
  },
  {
   "cell_type": "markdown",
   "metadata": {},
   "source": [
    "## Расчёт рисков"
   ]
  },
  {
   "cell_type": "markdown",
   "metadata": {},
   "source": [
    "Посчитаем риски и прибыль для каждого региона:\n",
    "- Применим технику Bootstrap с 1000 выборок, чтобы найти распределение прибыли.\n",
    "- Найдём среднюю прибыль, 95%-й доверительный интервал и риск убытков. Убыток — это отрицательная прибыль.\n",
    "- Напишем выводы: предложим регион для разработки скважин и обоснуем выбор."
   ]
  },
  {
   "cell_type": "code",
   "execution_count": 28,
   "metadata": {},
   "outputs": [],
   "source": [
    "#Напишем функцию для расчёта рисков, прибыли и доверительных интервалов для каждого региона\n",
    "state = np.random.RandomState(12345)\n",
    "def risk_income(predictions, target):\n",
    "    values = []\n",
    "    for i in range(1000):\n",
    "        target_sample = target.sample(n=WELLS, replace=True, random_state=state)\n",
    "        predictions_sample = predictions[target_sample.index]\n",
    "        values.append(profit(predictions_sample, target_sample))\n",
    "        \n",
    "    values = pd.Series(values)    \n",
    "    lower = values.quantile(0.025)\n",
    "    upper = values.quantile(0.975)\n",
    "    values_mean = values.mean()\n",
    "    risk = st.percentileofscore(values, 0)\n",
    "    print('Средняя прибыль:', values.mean())\n",
    "    print('Риск:', risk)\n",
    " \n",
    "    return lower, upper"
   ]
  },
  {
   "cell_type": "code",
   "execution_count": 29,
   "metadata": {},
   "outputs": [
    {
     "name": "stdout",
     "output_type": "stream",
     "text": [
      "Средняя прибыль: 425938526.9105928\n",
      "Риск: 6.0\n"
     ]
    },
    {
     "data": {
      "text/plain": [
       "(-102090094.83793645, 947976353.3583689)"
      ]
     },
     "execution_count": 29,
     "metadata": {},
     "output_type": "execute_result"
    }
   ],
   "source": [
    "risk_income(target_zero_valid, predictions_zero)"
   ]
  },
  {
   "cell_type": "code",
   "execution_count": 30,
   "metadata": {},
   "outputs": [
    {
     "name": "stdout",
     "output_type": "stream",
     "text": [
      "Средняя прибыль: 518259493.6973477\n",
      "Риск: 0.3\n"
     ]
    },
    {
     "data": {
      "text/plain": [
       "(128123231.43310332, 953612982.0669409)"
      ]
     },
     "execution_count": 30,
     "metadata": {},
     "output_type": "execute_result"
    }
   ],
   "source": [
    "risk_income(target_first_valid, predictions_first)"
   ]
  },
  {
   "cell_type": "code",
   "execution_count": 31,
   "metadata": {},
   "outputs": [
    {
     "name": "stdout",
     "output_type": "stream",
     "text": [
      "Средняя прибыль: 420194005.34405047\n",
      "Риск: 6.2\n"
     ]
    },
    {
     "data": {
      "text/plain": [
       "(-115852609.1600059, 989629939.8445663)"
      ]
     },
     "execution_count": 31,
     "metadata": {},
     "output_type": "execute_result"
    }
   ],
   "source": [
    "risk_income(target_second_valid, predictions_second)"
   ]
  },
  {
   "cell_type": "markdown",
   "metadata": {},
   "source": [
    "### Вывод"
   ]
  },
  {
   "cell_type": "markdown",
   "metadata": {},
   "source": [
    "Для 0 региона:\n",
    "- Средняя прибыль: 403017767.0801378\n",
    "- Риск: 6.5 %\n",
    "\n",
    "Доверительный интервал: (-127782657.57185954, 919876690.3573787)\n",
    "\n",
    "Для 1 региона:\n",
    "\n",
    "- Средняя прибыль: 515918291.97759277\n",
    "- Риск: 0.5 %\n",
    "\n",
    "Доверительный интервал: (100898364.46347028, 917963147.6971768)\n",
    "\n",
    "Для 2 региона:\n",
    "\n",
    "- Средняя прибыль: 413931776.94860935\n",
    "- Риск: 7.4 %\n",
    "\n",
    "Доверительный интервал:(-120725658.55790772, 998094387.7986639)\n",
    "\n",
    "Рекомендуется брать 1 регион для разработки скважин, так как там наименьший риск и доверительный интервал не имеет отрицательных значений."
   ]
  },
  {
   "cell_type": "markdown",
   "metadata": {},
   "source": [
    "## Общий вывод"
   ]
  },
  {
   "cell_type": "markdown",
   "metadata": {},
   "source": [
    "**Для 0 региона:**\n",
    "\n",
    "- Средний запас предсказанного сырья: 92.59256778438035\n",
    "- RMSE модели линейной регрессии на валидационной выборке: 37.5794217150813\n",
    "- Прибыль по выбранным скважинам и предсказаниям модели: 679068857.89\n",
    "\n",
    "*Техника BootStrap:*\n",
    "\n",
    "- Средняя прибыль: 403017767.0801378\n",
    "- Риск: 6.5 %\n",
    "- Доверительный интервал: (-127782657.57185954, 919876690.3573787)\n",
    "\n",
    "**Для 1 региона:**\n",
    "\n",
    "- Средний запас предсказанного сырья: 68.728546895446\n",
    "- RMSE модели линейной регрессии на валидационной выборке: 0.893099286775617\n",
    "- Прибыль по выбранным скважинам и предсказаниям модели: 779479884.18\n",
    "\n",
    "*Техника BootStrap:*\n",
    "\n",
    "- Средняя прибыль: 515918291.97759277\n",
    "- Риск: 0.5 %\n",
    "- Доверительный интервал: (100898364.46347028, 917963147.6971768)\n",
    "\n",
    "**Для 2 региона:**\n",
    "\n",
    "- Средний запас предсказанного сырья: 94.96504596800489\n",
    "- RMSE модели линейной регрессии на валидационной выборке: 40.02970873393434\n",
    "- Прибыль по выбранным скважинам и предсказаниям модели:439990143.02\n",
    "\n",
    "*Техника BootStrap:*\n",
    "\n",
    "- Средняя прибыль: 413931776.94860935\n",
    "- Риск: 7.4 %\n",
    "- Доверительный интервал:(-120725658.55790772, 998094387.7986639)\n",
    "\n",
    "В регионах 0 и 2 достаточно высокий средний запас предсказанного сырья (92.6 и 95). Однако RMSE для данных регионов также высок (37.6 и 40). Это говорит о неоднозначности показателя, неточности модели регрессии.\n",
    "\n",
    "В регионе 1 средний запас предсказанного сырья составляет 68.7. Однако RMSE в данном регионе равен 0.9. Это говорит о точности предсказаний и качестве построенной модели.\n",
    "\n",
    "**ДЛЯ РАЗРАБОТКИ СКВАЖИН РЕКОМЕНДУЕТСЯ БРАТЬ 1 РЕГИОН.**"
   ]
  }
 ],
 "metadata": {
  "ExecuteTimeLog": [
   {
    "duration": 1528,
    "start_time": "2022-03-24T06:42:02.208Z"
   },
   {
    "duration": 349,
    "start_time": "2022-03-24T06:43:04.088Z"
   },
   {
    "duration": 17,
    "start_time": "2022-03-24T06:43:17.275Z"
   },
   {
    "duration": 14,
    "start_time": "2022-03-24T06:43:34.553Z"
   },
   {
    "duration": 10,
    "start_time": "2022-03-24T06:43:48.019Z"
   },
   {
    "duration": 9,
    "start_time": "2022-03-24T06:43:55.397Z"
   },
   {
    "duration": 14,
    "start_time": "2022-03-24T06:44:42.350Z"
   },
   {
    "duration": 17,
    "start_time": "2022-03-24T06:44:51.201Z"
   },
   {
    "duration": 14,
    "start_time": "2022-03-24T06:44:59.722Z"
   },
   {
    "duration": 50,
    "start_time": "2022-03-24T06:47:05.166Z"
   },
   {
    "duration": 45,
    "start_time": "2022-03-24T06:47:14.830Z"
   },
   {
    "duration": 48,
    "start_time": "2022-03-24T06:47:24.364Z"
   },
   {
    "duration": 117,
    "start_time": "2022-03-24T07:08:41.806Z"
   },
   {
    "duration": 117,
    "start_time": "2022-03-24T07:10:02.322Z"
   },
   {
    "duration": 124,
    "start_time": "2022-03-24T07:10:14.760Z"
   },
   {
    "duration": 14,
    "start_time": "2022-03-24T07:10:54.248Z"
   },
   {
    "duration": 99,
    "start_time": "2022-03-24T07:20:21.272Z"
   },
   {
    "duration": 5,
    "start_time": "2022-03-24T07:20:25.172Z"
   },
   {
    "duration": 59,
    "start_time": "2022-03-24T07:20:26.956Z"
   },
   {
    "duration": 3,
    "start_time": "2022-03-24T07:24:16.814Z"
   },
   {
    "duration": 53,
    "start_time": "2022-03-24T07:24:20.703Z"
   },
   {
    "duration": 4,
    "start_time": "2022-03-24T07:25:11.023Z"
   },
   {
    "duration": 53,
    "start_time": "2022-03-24T07:25:11.917Z"
   },
   {
    "duration": 85,
    "start_time": "2022-03-24T07:30:01.971Z"
   },
   {
    "duration": 4,
    "start_time": "2022-03-24T07:30:15.508Z"
   },
   {
    "duration": 50,
    "start_time": "2022-03-24T07:30:19.302Z"
   },
   {
    "duration": 13,
    "start_time": "2022-03-24T07:33:45.065Z"
   },
   {
    "duration": 4,
    "start_time": "2022-03-24T07:33:47.735Z"
   },
   {
    "duration": 118,
    "start_time": "2022-03-24T07:33:48.717Z"
   },
   {
    "duration": 25,
    "start_time": "2022-03-24T07:34:20.524Z"
   },
   {
    "duration": 29,
    "start_time": "2022-03-24T08:05:29.395Z"
   },
   {
    "duration": 4,
    "start_time": "2022-03-24T08:25:57.092Z"
   },
   {
    "duration": 3,
    "start_time": "2022-03-24T08:25:57.873Z"
   },
   {
    "duration": 3,
    "start_time": "2022-03-24T08:26:12.844Z"
   },
   {
    "duration": 4,
    "start_time": "2022-03-24T08:26:13.378Z"
   },
   {
    "duration": 9,
    "start_time": "2022-03-24T09:17:46.185Z"
   },
   {
    "duration": 3,
    "start_time": "2022-03-24T09:17:48.053Z"
   },
   {
    "duration": 9,
    "start_time": "2022-03-24T09:17:48.913Z"
   },
   {
    "duration": 10,
    "start_time": "2022-03-24T09:18:00.211Z"
   },
   {
    "duration": 5,
    "start_time": "2022-03-24T09:18:01.843Z"
   },
   {
    "duration": 12,
    "start_time": "2022-03-24T09:18:02.586Z"
   },
   {
    "duration": 3,
    "start_time": "2022-03-24T09:20:56.703Z"
   },
   {
    "duration": 12,
    "start_time": "2022-03-24T09:21:01.937Z"
   },
   {
    "duration": 4,
    "start_time": "2022-03-24T09:21:11.440Z"
   },
   {
    "duration": 13,
    "start_time": "2022-03-24T09:21:11.938Z"
   },
   {
    "duration": 4,
    "start_time": "2022-03-24T09:22:07.865Z"
   },
   {
    "duration": 17,
    "start_time": "2022-03-24T09:22:08.484Z"
   },
   {
    "duration": 4,
    "start_time": "2022-03-24T09:24:05.875Z"
   },
   {
    "duration": 13,
    "start_time": "2022-03-24T09:24:12.402Z"
   },
   {
    "duration": 3,
    "start_time": "2022-03-24T09:24:25.370Z"
   },
   {
    "duration": 14,
    "start_time": "2022-03-24T09:24:26.022Z"
   },
   {
    "duration": 3,
    "start_time": "2022-03-24T09:24:59.024Z"
   },
   {
    "duration": 14,
    "start_time": "2022-03-24T09:24:59.543Z"
   },
   {
    "duration": 3,
    "start_time": "2022-03-24T09:27:03.296Z"
   },
   {
    "duration": 13,
    "start_time": "2022-03-24T09:27:04.224Z"
   },
   {
    "duration": 3,
    "start_time": "2022-03-24T09:28:55.291Z"
   },
   {
    "duration": 12,
    "start_time": "2022-03-24T09:28:56.180Z"
   },
   {
    "duration": 6,
    "start_time": "2022-03-24T09:29:52.081Z"
   },
   {
    "duration": 13,
    "start_time": "2022-03-24T09:29:52.741Z"
   },
   {
    "duration": 3,
    "start_time": "2022-03-24T09:32:34.807Z"
   },
   {
    "duration": 12,
    "start_time": "2022-03-24T09:32:35.288Z"
   },
   {
    "duration": 3,
    "start_time": "2022-03-24T09:35:25.996Z"
   },
   {
    "duration": 11,
    "start_time": "2022-03-24T09:35:26.503Z"
   },
   {
    "duration": 4,
    "start_time": "2022-03-24T09:35:50.150Z"
   },
   {
    "duration": 13,
    "start_time": "2022-03-24T09:35:51.946Z"
   },
   {
    "duration": 3,
    "start_time": "2022-03-24T09:35:59.122Z"
   },
   {
    "duration": 5,
    "start_time": "2022-03-24T09:39:38.080Z"
   },
   {
    "duration": 4,
    "start_time": "2022-03-24T09:39:47.693Z"
   },
   {
    "duration": 12,
    "start_time": "2022-03-24T09:39:48.293Z"
   },
   {
    "duration": 11,
    "start_time": "2022-03-24T09:43:13.948Z"
   },
   {
    "duration": 5,
    "start_time": "2022-03-24T09:45:22.026Z"
   },
   {
    "duration": 14,
    "start_time": "2022-03-24T09:45:38.812Z"
   },
   {
    "duration": 3,
    "start_time": "2022-03-24T09:49:20.422Z"
   },
   {
    "duration": 12,
    "start_time": "2022-03-24T09:49:34.905Z"
   },
   {
    "duration": 4,
    "start_time": "2022-03-24T09:50:22.740Z"
   },
   {
    "duration": 16,
    "start_time": "2022-03-24T09:50:23.160Z"
   },
   {
    "duration": 5,
    "start_time": "2022-03-24T09:50:34.794Z"
   },
   {
    "duration": 27,
    "start_time": "2022-03-24T09:50:35.218Z"
   },
   {
    "duration": 3,
    "start_time": "2022-03-24T09:52:58.088Z"
   },
   {
    "duration": 12,
    "start_time": "2022-03-24T09:52:58.664Z"
   },
   {
    "duration": 3,
    "start_time": "2022-03-24T09:53:39.170Z"
   },
   {
    "duration": 14,
    "start_time": "2022-03-24T09:53:39.698Z"
   },
   {
    "duration": 5,
    "start_time": "2022-03-24T09:53:53.746Z"
   },
   {
    "duration": 18,
    "start_time": "2022-03-24T09:53:54.440Z"
   },
   {
    "duration": 3,
    "start_time": "2022-03-24T09:54:44.754Z"
   },
   {
    "duration": 13,
    "start_time": "2022-03-24T09:54:45.192Z"
   },
   {
    "duration": 3,
    "start_time": "2022-03-24T09:54:56.569Z"
   },
   {
    "duration": 3,
    "start_time": "2022-03-24T09:54:57.263Z"
   },
   {
    "duration": 4,
    "start_time": "2022-03-24T09:55:00.075Z"
   },
   {
    "duration": 17,
    "start_time": "2022-03-24T09:55:00.642Z"
   },
   {
    "duration": 3,
    "start_time": "2022-03-24T09:55:12.991Z"
   },
   {
    "duration": 28,
    "start_time": "2022-03-24T09:55:12.996Z"
   },
   {
    "duration": 4,
    "start_time": "2022-03-24T09:55:27.604Z"
   },
   {
    "duration": 17,
    "start_time": "2022-03-24T09:55:28.756Z"
   },
   {
    "duration": 3,
    "start_time": "2022-03-24T09:55:53.289Z"
   },
   {
    "duration": 17,
    "start_time": "2022-03-24T09:55:55.188Z"
   },
   {
    "duration": 4,
    "start_time": "2022-03-24T09:56:28.150Z"
   },
   {
    "duration": 23,
    "start_time": "2022-03-24T09:56:28.819Z"
   },
   {
    "duration": 6,
    "start_time": "2022-03-24T09:57:30.751Z"
   },
   {
    "duration": 13,
    "start_time": "2022-03-24T09:58:08.062Z"
   },
   {
    "duration": 5,
    "start_time": "2022-03-24T09:58:15.620Z"
   },
   {
    "duration": 130,
    "start_time": "2022-03-24T09:59:51.072Z"
   },
   {
    "duration": 3,
    "start_time": "2022-03-24T09:59:55.086Z"
   },
   {
    "duration": 9,
    "start_time": "2022-03-24T10:00:09.353Z"
   },
   {
    "duration": 4,
    "start_time": "2022-03-24T10:01:20.628Z"
   },
   {
    "duration": 8,
    "start_time": "2022-03-24T10:01:21.749Z"
   },
   {
    "duration": 3,
    "start_time": "2022-03-24T10:01:50.714Z"
   },
   {
    "duration": 13,
    "start_time": "2022-03-24T10:01:51.847Z"
   },
   {
    "duration": 4,
    "start_time": "2022-03-24T10:02:14.354Z"
   },
   {
    "duration": 18,
    "start_time": "2022-03-24T10:02:15.033Z"
   },
   {
    "duration": 4,
    "start_time": "2022-03-24T10:02:51.816Z"
   },
   {
    "duration": 6,
    "start_time": "2022-03-24T10:02:52.346Z"
   },
   {
    "duration": 6,
    "start_time": "2022-03-24T10:03:02.463Z"
   },
   {
    "duration": 6,
    "start_time": "2022-03-24T10:03:13.072Z"
   },
   {
    "duration": 4,
    "start_time": "2022-03-24T10:03:58.233Z"
   },
   {
    "duration": 5,
    "start_time": "2022-03-24T10:03:58.775Z"
   },
   {
    "duration": 9,
    "start_time": "2022-03-24T10:03:59.250Z"
   },
   {
    "duration": 5,
    "start_time": "2022-03-24T10:03:59.624Z"
   },
   {
    "duration": 3,
    "start_time": "2022-03-24T10:52:30.883Z"
   },
   {
    "duration": 6,
    "start_time": "2022-03-24T10:52:31.566Z"
   },
   {
    "duration": 6,
    "start_time": "2022-03-24T10:52:32.456Z"
   },
   {
    "duration": 7,
    "start_time": "2022-03-24T10:52:33.125Z"
   },
   {
    "duration": 8,
    "start_time": "2022-03-24T10:55:34.090Z"
   },
   {
    "duration": 4,
    "start_time": "2022-03-24T10:55:37.543Z"
   },
   {
    "duration": 17,
    "start_time": "2022-03-24T10:55:38.571Z"
   },
   {
    "duration": 3,
    "start_time": "2022-03-24T10:55:52.401Z"
   },
   {
    "duration": 9,
    "start_time": "2022-03-24T10:55:53.522Z"
   },
   {
    "duration": 8,
    "start_time": "2022-03-24T10:56:01.271Z"
   },
   {
    "duration": 8,
    "start_time": "2022-03-24T10:56:06.192Z"
   },
   {
    "duration": 5,
    "start_time": "2022-03-24T10:57:31.115Z"
   },
   {
    "duration": 8,
    "start_time": "2022-03-24T10:57:31.849Z"
   },
   {
    "duration": 7,
    "start_time": "2022-03-24T10:57:36.258Z"
   },
   {
    "duration": 6,
    "start_time": "2022-03-24T10:57:41.075Z"
   },
   {
    "duration": 5,
    "start_time": "2022-03-24T11:20:04.494Z"
   },
   {
    "duration": 13,
    "start_time": "2022-03-24T11:20:25.868Z"
   },
   {
    "duration": 6,
    "start_time": "2022-03-24T11:20:49.129Z"
   },
   {
    "duration": 19,
    "start_time": "2022-03-24T11:20:50.422Z"
   },
   {
    "duration": 5,
    "start_time": "2022-03-24T11:21:30.714Z"
   },
   {
    "duration": 2055,
    "start_time": "2022-03-24T11:21:31.464Z"
   },
   {
    "duration": 4,
    "start_time": "2022-03-24T11:21:52.880Z"
   },
   {
    "duration": 1453,
    "start_time": "2022-03-24T11:21:53.534Z"
   },
   {
    "duration": 4,
    "start_time": "2022-03-24T11:22:02.584Z"
   },
   {
    "duration": 1519,
    "start_time": "2022-03-24T11:22:03.210Z"
   },
   {
    "duration": 6,
    "start_time": "2022-03-24T11:25:30.522Z"
   },
   {
    "duration": 1819,
    "start_time": "2022-03-24T11:25:31.168Z"
   },
   {
    "duration": 5,
    "start_time": "2022-03-24T11:28:54.629Z"
   },
   {
    "duration": 1524,
    "start_time": "2022-03-24T11:28:56.259Z"
   },
   {
    "duration": 3,
    "start_time": "2022-03-24T11:29:24.116Z"
   },
   {
    "duration": 6,
    "start_time": "2022-03-24T11:29:31.107Z"
   },
   {
    "duration": 1413,
    "start_time": "2022-03-24T11:29:31.747Z"
   },
   {
    "duration": 6,
    "start_time": "2022-03-24T11:29:47.420Z"
   },
   {
    "duration": 6,
    "start_time": "2022-03-24T11:29:49.853Z"
   },
   {
    "duration": 1798,
    "start_time": "2022-03-24T11:29:50.307Z"
   },
   {
    "duration": 5,
    "start_time": "2022-03-24T11:30:37.776Z"
   },
   {
    "duration": 1479,
    "start_time": "2022-03-24T11:30:38.633Z"
   },
   {
    "duration": 1462,
    "start_time": "2022-03-24T11:31:17.809Z"
   },
   {
    "duration": 1430,
    "start_time": "2022-03-24T11:31:39.897Z"
   },
   {
    "duration": 7,
    "start_time": "2022-03-24T11:33:51.156Z"
   },
   {
    "duration": 8,
    "start_time": "2022-03-24T11:33:59.532Z"
   },
   {
    "duration": 6,
    "start_time": "2022-03-24T11:34:05.485Z"
   },
   {
    "duration": 2290,
    "start_time": "2022-03-24T11:34:27.390Z"
   },
   {
    "duration": 2105,
    "start_time": "2022-03-24T11:34:44.344Z"
   },
   {
    "duration": 2124,
    "start_time": "2022-03-24T11:35:33.389Z"
   },
   {
    "duration": 1938,
    "start_time": "2022-03-24T11:35:47.471Z"
   },
   {
    "duration": 1769,
    "start_time": "2022-03-24T11:36:30.300Z"
   },
   {
    "duration": 1623,
    "start_time": "2022-03-24T11:37:27.603Z"
   },
   {
    "duration": 1256,
    "start_time": "2022-03-25T08:01:26.182Z"
   },
   {
    "duration": 486,
    "start_time": "2022-03-25T08:01:28.560Z"
   },
   {
    "duration": 17,
    "start_time": "2022-03-25T08:01:29.204Z"
   },
   {
    "duration": 10,
    "start_time": "2022-03-25T08:01:29.888Z"
   },
   {
    "duration": 10,
    "start_time": "2022-03-25T08:01:30.353Z"
   },
   {
    "duration": 16,
    "start_time": "2022-03-25T08:01:30.813Z"
   },
   {
    "duration": 15,
    "start_time": "2022-03-25T08:01:31.282Z"
   },
   {
    "duration": 14,
    "start_time": "2022-03-25T08:01:31.920Z"
   },
   {
    "duration": 54,
    "start_time": "2022-03-25T08:01:32.449Z"
   },
   {
    "duration": 47,
    "start_time": "2022-03-25T08:01:33.113Z"
   },
   {
    "duration": 49,
    "start_time": "2022-03-25T08:01:33.697Z"
   },
   {
    "duration": 11,
    "start_time": "2022-03-25T08:01:34.187Z"
   },
   {
    "duration": 5,
    "start_time": "2022-03-25T08:01:36.848Z"
   },
   {
    "duration": 96,
    "start_time": "2022-03-25T08:01:38.104Z"
   },
   {
    "duration": 27,
    "start_time": "2022-03-25T08:01:38.865Z"
   },
   {
    "duration": 31,
    "start_time": "2022-03-25T08:01:39.538Z"
   },
   {
    "duration": 3,
    "start_time": "2022-03-25T08:01:42.712Z"
   },
   {
    "duration": 3,
    "start_time": "2022-03-25T08:01:44.087Z"
   },
   {
    "duration": 4,
    "start_time": "2022-03-25T08:01:47.503Z"
   },
   {
    "duration": 4,
    "start_time": "2022-03-25T08:01:48.631Z"
   },
   {
    "duration": 4,
    "start_time": "2022-03-25T08:01:50.239Z"
   },
   {
    "duration": 5,
    "start_time": "2022-03-25T08:01:52.352Z"
   },
   {
    "duration": 6,
    "start_time": "2022-03-25T08:01:53.139Z"
   },
   {
    "duration": 7,
    "start_time": "2022-03-25T08:01:53.851Z"
   },
   {
    "duration": 5,
    "start_time": "2022-03-25T08:01:57.813Z"
   },
   {
    "duration": 115,
    "start_time": "2022-03-25T08:01:59.797Z"
   },
   {
    "duration": 15,
    "start_time": "2022-03-25T08:02:00.952Z"
   },
   {
    "duration": 6,
    "start_time": "2022-03-25T08:02:38.353Z"
   },
   {
    "duration": 1485,
    "start_time": "2022-03-25T08:02:39.497Z"
   },
   {
    "duration": 1847,
    "start_time": "2022-03-25T08:02:41.960Z"
   },
   {
    "duration": 1422,
    "start_time": "2022-03-25T08:02:44.576Z"
   }
  ],
  "kernelspec": {
   "display_name": "Python 3 (ipykernel)",
   "language": "python",
   "name": "python3"
  },
  "language_info": {
   "codemirror_mode": {
    "name": "ipython",
    "version": 3
   },
   "file_extension": ".py",
   "mimetype": "text/x-python",
   "name": "python",
   "nbconvert_exporter": "python",
   "pygments_lexer": "ipython3",
   "version": "3.9.12"
  },
  "toc": {
   "base_numbering": 1,
   "nav_menu": {},
   "number_sections": true,
   "sideBar": true,
   "skip_h1_title": true,
   "title_cell": "Table of Contents",
   "title_sidebar": "Contents",
   "toc_cell": false,
   "toc_position": {},
   "toc_section_display": true,
   "toc_window_display": false
  }
 },
 "nbformat": 4,
 "nbformat_minor": 2
}
