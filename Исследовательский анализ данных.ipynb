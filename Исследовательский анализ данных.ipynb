{
 "cells": [
  {
   "cell_type": "markdown",
   "metadata": {},
   "source": [
    "# Исследование объявлений о продаже квартир\n",
    "\n",
    "В вашем распоряжении данные сервиса Яндекс.Недвижимость — архив объявлений о продаже квартир в Санкт-Петербурге и соседних населённых пунктах за несколько лет. Нужно научиться определять рыночную стоимость объектов недвижимости. Ваша задача — установить параметры. Это позволит построить автоматизированную систему: она отследит аномалии и мошенническую деятельность. \n",
    "\n",
    "По каждой квартире на продажу доступны два вида данных. Первые вписаны пользователем, вторые получены автоматически на основе картографических данных. Например, расстояние до центра, аэропорта, ближайшего парка и водоёма. "
   ]
  },
  {
   "cell_type": "markdown",
   "metadata": {},
   "source": [
    "# Описание данных\n",
    "airports_nearest — расстояние до ближайшего аэропорта в метрах (м)\n",
    "\n",
    "balcony — число балконов\n",
    "\n",
    "ceiling_height — высота потолков (м)\n",
    "\n",
    "cityCenters_nearest — расстояние до центра города (м)\n",
    "\n",
    "days_exposition — сколько дней было размещено объявление (от публикации до снятия)\n",
    "\n",
    "first_day_exposition — дата публикации\n",
    "\n",
    "floor — этаж\n",
    "\n",
    "floors_total — всего этажей в доме\n",
    "\n",
    "is_apartment — апартаменты (булев тип)\n",
    "\n",
    "kitchen_area — площадь кухни в квадратных метрах (м²)\n",
    "\n",
    "last_price — цена на момент снятия с публикации\n",
    "\n",
    "living_area — жилая площадь в квадратных метрах (м²)\n",
    "\n",
    "locality_name — название населённого пункта\n",
    "\n",
    "open_plan — свободная планировка (булев тип)\n",
    "\n",
    "parks_around3000 — число парков в радиусе 3 км\n",
    "\n",
    "parks_nearest — расстояние до ближайшего парка (м)\n",
    "\n",
    "ponds_around3000 — число водоёмов в радиусе 3 км\n",
    "\n",
    "ponds_nearest — расстояние до ближайшего водоёма (м)\n",
    "\n",
    "rooms — число комнат\n",
    "\n",
    "studio — квартира-студия (булев тип)\n",
    "\n",
    "total_area — площадь квартиры в квадратных метрах (м²)\n",
    "\n",
    "total_images — число фотографий квартиры в объявлении"
   ]
  },
  {
   "cell_type": "markdown",
   "metadata": {},
   "source": [
    "## Изучение данных из файла"
   ]
  },
  {
   "cell_type": "code",
   "execution_count": 1,
   "metadata": {},
   "outputs": [
    {
     "data": {
      "text/html": [
       "<div>\n",
       "<style scoped>\n",
       "    .dataframe tbody tr th:only-of-type {\n",
       "        vertical-align: middle;\n",
       "    }\n",
       "\n",
       "    .dataframe tbody tr th {\n",
       "        vertical-align: top;\n",
       "    }\n",
       "\n",
       "    .dataframe thead th {\n",
       "        text-align: right;\n",
       "    }\n",
       "</style>\n",
       "<table border=\"1\" class=\"dataframe\">\n",
       "  <thead>\n",
       "    <tr style=\"text-align: right;\">\n",
       "      <th></th>\n",
       "      <th>total_images\\tlast_price\\ttotal_area\\tfirst_day_exposition\\trooms\\tceiling_height\\tfloors_total\\tliving_area\\tfloor\\tis_apartment\\tstudio\\topen_plan\\tkitchen_area\\tbalcony\\tlocality_name\\tairports_nearest\\tcityCenters_nearest\\tparks_around3000\\tparks_nearest\\tponds_around3000\\tponds_nearest\\tdays_exposition</th>\n",
       "    </tr>\n",
       "  </thead>\n",
       "  <tbody>\n",
       "    <tr>\n",
       "      <th>0</th>\n",
       "      <td>20\\t13000000.0\\t108.0\\t2019-03-07T00:00:00\\t3\\...</td>\n",
       "    </tr>\n",
       "    <tr>\n",
       "      <th>1</th>\n",
       "      <td>7\\t3350000.0\\t40.4\\t2018-12-04T00:00:00\\t1\\t\\t...</td>\n",
       "    </tr>\n",
       "    <tr>\n",
       "      <th>2</th>\n",
       "      <td>10\\t5196000.0\\t56.0\\t2015-08-20T00:00:00\\t2\\t\\...</td>\n",
       "    </tr>\n",
       "    <tr>\n",
       "      <th>3</th>\n",
       "      <td>0\\t64900000.0\\t159.0\\t2015-07-24T00:00:00\\t3\\t...</td>\n",
       "    </tr>\n",
       "    <tr>\n",
       "      <th>4</th>\n",
       "      <td>2\\t10000000.0\\t100.0\\t2018-06-19T00:00:00\\t2\\t...</td>\n",
       "    </tr>\n",
       "    <tr>\n",
       "      <th>5</th>\n",
       "      <td>10\\t2890000.0\\t30.4\\t2018-09-10T00:00:00\\t1\\t\\...</td>\n",
       "    </tr>\n",
       "    <tr>\n",
       "      <th>6</th>\n",
       "      <td>6\\t3700000.0\\t37.3\\t2017-11-02T00:00:00\\t1\\t\\t...</td>\n",
       "    </tr>\n",
       "    <tr>\n",
       "      <th>7</th>\n",
       "      <td>5\\t7915000.0\\t71.6\\t2019-04-18T00:00:00\\t2\\t\\t...</td>\n",
       "    </tr>\n",
       "    <tr>\n",
       "      <th>8</th>\n",
       "      <td>20\\t2900000.0\\t33.16\\t2018-05-23T00:00:00\\t1\\t...</td>\n",
       "    </tr>\n",
       "    <tr>\n",
       "      <th>9</th>\n",
       "      <td>18\\t5400000.0\\t61.0\\t2017-02-26T00:00:00\\t3\\t2...</td>\n",
       "    </tr>\n",
       "  </tbody>\n",
       "</table>\n",
       "</div>"
      ],
      "text/plain": [
       "  total_images\\tlast_price\\ttotal_area\\tfirst_day_exposition\\trooms\\tceiling_height\\tfloors_total\\tliving_area\\tfloor\\tis_apartment\\tstudio\\topen_plan\\tkitchen_area\\tbalcony\\tlocality_name\\tairports_nearest\\tcityCenters_nearest\\tparks_around3000\\tparks_nearest\\tponds_around3000\\tponds_nearest\\tdays_exposition\n",
       "0  20\\t13000000.0\\t108.0\\t2019-03-07T00:00:00\\t3\\...                                                                                                                                                                                                                                                                  \n",
       "1  7\\t3350000.0\\t40.4\\t2018-12-04T00:00:00\\t1\\t\\t...                                                                                                                                                                                                                                                                  \n",
       "2  10\\t5196000.0\\t56.0\\t2015-08-20T00:00:00\\t2\\t\\...                                                                                                                                                                                                                                                                  \n",
       "3  0\\t64900000.0\\t159.0\\t2015-07-24T00:00:00\\t3\\t...                                                                                                                                                                                                                                                                  \n",
       "4  2\\t10000000.0\\t100.0\\t2018-06-19T00:00:00\\t2\\t...                                                                                                                                                                                                                                                                  \n",
       "5  10\\t2890000.0\\t30.4\\t2018-09-10T00:00:00\\t1\\t\\...                                                                                                                                                                                                                                                                  \n",
       "6  6\\t3700000.0\\t37.3\\t2017-11-02T00:00:00\\t1\\t\\t...                                                                                                                                                                                                                                                                  \n",
       "7  5\\t7915000.0\\t71.6\\t2019-04-18T00:00:00\\t2\\t\\t...                                                                                                                                                                                                                                                                  \n",
       "8  20\\t2900000.0\\t33.16\\t2018-05-23T00:00:00\\t1\\t...                                                                                                                                                                                                                                                                  \n",
       "9  18\\t5400000.0\\t61.0\\t2017-02-26T00:00:00\\t3\\t2...                                                                                                                                                                                                                                                                  "
      ]
     },
     "execution_count": 1,
     "metadata": {},
     "output_type": "execute_result"
    }
   ],
   "source": [
    "#Импортируем необходимые библиотеки, откроем файл и посмотрим первые 10 строк\n",
    "import pandas as pd\n",
    "import matplotlib.pyplot as plt\n",
    "df = pd.read_csv('/datasets/real_estate_data.csv')\n",
    "df.head(10)"
   ]
  },
  {
   "cell_type": "code",
   "execution_count": 2,
   "metadata": {},
   "outputs": [
    {
     "data": {
      "text/html": [
       "<div>\n",
       "<style scoped>\n",
       "    .dataframe tbody tr th:only-of-type {\n",
       "        vertical-align: middle;\n",
       "    }\n",
       "\n",
       "    .dataframe tbody tr th {\n",
       "        vertical-align: top;\n",
       "    }\n",
       "\n",
       "    .dataframe thead th {\n",
       "        text-align: right;\n",
       "    }\n",
       "</style>\n",
       "<table border=\"1\" class=\"dataframe\">\n",
       "  <thead>\n",
       "    <tr style=\"text-align: right;\">\n",
       "      <th></th>\n",
       "      <th>total_images</th>\n",
       "      <th>last_price</th>\n",
       "      <th>total_area</th>\n",
       "      <th>first_day_exposition</th>\n",
       "      <th>rooms</th>\n",
       "      <th>ceiling_height</th>\n",
       "      <th>floors_total</th>\n",
       "      <th>living_area</th>\n",
       "      <th>floor</th>\n",
       "      <th>is_apartment</th>\n",
       "      <th>...</th>\n",
       "      <th>kitchen_area</th>\n",
       "      <th>balcony</th>\n",
       "      <th>locality_name</th>\n",
       "      <th>airports_nearest</th>\n",
       "      <th>cityCenters_nearest</th>\n",
       "      <th>parks_around3000</th>\n",
       "      <th>parks_nearest</th>\n",
       "      <th>ponds_around3000</th>\n",
       "      <th>ponds_nearest</th>\n",
       "      <th>days_exposition</th>\n",
       "    </tr>\n",
       "  </thead>\n",
       "  <tbody>\n",
       "    <tr>\n",
       "      <th>0</th>\n",
       "      <td>20</td>\n",
       "      <td>13000000.0</td>\n",
       "      <td>108.00</td>\n",
       "      <td>2019-03-07T00:00:00</td>\n",
       "      <td>3</td>\n",
       "      <td>2.70</td>\n",
       "      <td>16.0</td>\n",
       "      <td>51.00</td>\n",
       "      <td>8</td>\n",
       "      <td>NaN</td>\n",
       "      <td>...</td>\n",
       "      <td>25.00</td>\n",
       "      <td>NaN</td>\n",
       "      <td>Санкт-Петербург</td>\n",
       "      <td>18863.0</td>\n",
       "      <td>16028.0</td>\n",
       "      <td>1.0</td>\n",
       "      <td>482.0</td>\n",
       "      <td>2.0</td>\n",
       "      <td>755.0</td>\n",
       "      <td>NaN</td>\n",
       "    </tr>\n",
       "    <tr>\n",
       "      <th>1</th>\n",
       "      <td>7</td>\n",
       "      <td>3350000.0</td>\n",
       "      <td>40.40</td>\n",
       "      <td>2018-12-04T00:00:00</td>\n",
       "      <td>1</td>\n",
       "      <td>NaN</td>\n",
       "      <td>11.0</td>\n",
       "      <td>18.60</td>\n",
       "      <td>1</td>\n",
       "      <td>NaN</td>\n",
       "      <td>...</td>\n",
       "      <td>11.00</td>\n",
       "      <td>2.0</td>\n",
       "      <td>посёлок Шушары</td>\n",
       "      <td>12817.0</td>\n",
       "      <td>18603.0</td>\n",
       "      <td>0.0</td>\n",
       "      <td>NaN</td>\n",
       "      <td>0.0</td>\n",
       "      <td>NaN</td>\n",
       "      <td>81.0</td>\n",
       "    </tr>\n",
       "    <tr>\n",
       "      <th>2</th>\n",
       "      <td>10</td>\n",
       "      <td>5196000.0</td>\n",
       "      <td>56.00</td>\n",
       "      <td>2015-08-20T00:00:00</td>\n",
       "      <td>2</td>\n",
       "      <td>NaN</td>\n",
       "      <td>5.0</td>\n",
       "      <td>34.30</td>\n",
       "      <td>4</td>\n",
       "      <td>NaN</td>\n",
       "      <td>...</td>\n",
       "      <td>8.30</td>\n",
       "      <td>0.0</td>\n",
       "      <td>Санкт-Петербург</td>\n",
       "      <td>21741.0</td>\n",
       "      <td>13933.0</td>\n",
       "      <td>1.0</td>\n",
       "      <td>90.0</td>\n",
       "      <td>2.0</td>\n",
       "      <td>574.0</td>\n",
       "      <td>558.0</td>\n",
       "    </tr>\n",
       "    <tr>\n",
       "      <th>3</th>\n",
       "      <td>0</td>\n",
       "      <td>64900000.0</td>\n",
       "      <td>159.00</td>\n",
       "      <td>2015-07-24T00:00:00</td>\n",
       "      <td>3</td>\n",
       "      <td>NaN</td>\n",
       "      <td>14.0</td>\n",
       "      <td>NaN</td>\n",
       "      <td>9</td>\n",
       "      <td>NaN</td>\n",
       "      <td>...</td>\n",
       "      <td>NaN</td>\n",
       "      <td>0.0</td>\n",
       "      <td>Санкт-Петербург</td>\n",
       "      <td>28098.0</td>\n",
       "      <td>6800.0</td>\n",
       "      <td>2.0</td>\n",
       "      <td>84.0</td>\n",
       "      <td>3.0</td>\n",
       "      <td>234.0</td>\n",
       "      <td>424.0</td>\n",
       "    </tr>\n",
       "    <tr>\n",
       "      <th>4</th>\n",
       "      <td>2</td>\n",
       "      <td>10000000.0</td>\n",
       "      <td>100.00</td>\n",
       "      <td>2018-06-19T00:00:00</td>\n",
       "      <td>2</td>\n",
       "      <td>3.03</td>\n",
       "      <td>14.0</td>\n",
       "      <td>32.00</td>\n",
       "      <td>13</td>\n",
       "      <td>NaN</td>\n",
       "      <td>...</td>\n",
       "      <td>41.00</td>\n",
       "      <td>NaN</td>\n",
       "      <td>Санкт-Петербург</td>\n",
       "      <td>31856.0</td>\n",
       "      <td>8098.0</td>\n",
       "      <td>2.0</td>\n",
       "      <td>112.0</td>\n",
       "      <td>1.0</td>\n",
       "      <td>48.0</td>\n",
       "      <td>121.0</td>\n",
       "    </tr>\n",
       "    <tr>\n",
       "      <th>5</th>\n",
       "      <td>10</td>\n",
       "      <td>2890000.0</td>\n",
       "      <td>30.40</td>\n",
       "      <td>2018-09-10T00:00:00</td>\n",
       "      <td>1</td>\n",
       "      <td>NaN</td>\n",
       "      <td>12.0</td>\n",
       "      <td>14.40</td>\n",
       "      <td>5</td>\n",
       "      <td>NaN</td>\n",
       "      <td>...</td>\n",
       "      <td>9.10</td>\n",
       "      <td>NaN</td>\n",
       "      <td>городской посёлок Янино-1</td>\n",
       "      <td>NaN</td>\n",
       "      <td>NaN</td>\n",
       "      <td>NaN</td>\n",
       "      <td>NaN</td>\n",
       "      <td>NaN</td>\n",
       "      <td>NaN</td>\n",
       "      <td>55.0</td>\n",
       "    </tr>\n",
       "    <tr>\n",
       "      <th>6</th>\n",
       "      <td>6</td>\n",
       "      <td>3700000.0</td>\n",
       "      <td>37.30</td>\n",
       "      <td>2017-11-02T00:00:00</td>\n",
       "      <td>1</td>\n",
       "      <td>NaN</td>\n",
       "      <td>26.0</td>\n",
       "      <td>10.60</td>\n",
       "      <td>6</td>\n",
       "      <td>NaN</td>\n",
       "      <td>...</td>\n",
       "      <td>14.40</td>\n",
       "      <td>1.0</td>\n",
       "      <td>посёлок Парголово</td>\n",
       "      <td>52996.0</td>\n",
       "      <td>19143.0</td>\n",
       "      <td>0.0</td>\n",
       "      <td>NaN</td>\n",
       "      <td>0.0</td>\n",
       "      <td>NaN</td>\n",
       "      <td>155.0</td>\n",
       "    </tr>\n",
       "    <tr>\n",
       "      <th>7</th>\n",
       "      <td>5</td>\n",
       "      <td>7915000.0</td>\n",
       "      <td>71.60</td>\n",
       "      <td>2019-04-18T00:00:00</td>\n",
       "      <td>2</td>\n",
       "      <td>NaN</td>\n",
       "      <td>24.0</td>\n",
       "      <td>NaN</td>\n",
       "      <td>22</td>\n",
       "      <td>NaN</td>\n",
       "      <td>...</td>\n",
       "      <td>18.90</td>\n",
       "      <td>2.0</td>\n",
       "      <td>Санкт-Петербург</td>\n",
       "      <td>23982.0</td>\n",
       "      <td>11634.0</td>\n",
       "      <td>0.0</td>\n",
       "      <td>NaN</td>\n",
       "      <td>0.0</td>\n",
       "      <td>NaN</td>\n",
       "      <td>NaN</td>\n",
       "    </tr>\n",
       "    <tr>\n",
       "      <th>8</th>\n",
       "      <td>20</td>\n",
       "      <td>2900000.0</td>\n",
       "      <td>33.16</td>\n",
       "      <td>2018-05-23T00:00:00</td>\n",
       "      <td>1</td>\n",
       "      <td>NaN</td>\n",
       "      <td>27.0</td>\n",
       "      <td>15.43</td>\n",
       "      <td>26</td>\n",
       "      <td>NaN</td>\n",
       "      <td>...</td>\n",
       "      <td>8.81</td>\n",
       "      <td>NaN</td>\n",
       "      <td>посёлок Мурино</td>\n",
       "      <td>NaN</td>\n",
       "      <td>NaN</td>\n",
       "      <td>NaN</td>\n",
       "      <td>NaN</td>\n",
       "      <td>NaN</td>\n",
       "      <td>NaN</td>\n",
       "      <td>189.0</td>\n",
       "    </tr>\n",
       "    <tr>\n",
       "      <th>9</th>\n",
       "      <td>18</td>\n",
       "      <td>5400000.0</td>\n",
       "      <td>61.00</td>\n",
       "      <td>2017-02-26T00:00:00</td>\n",
       "      <td>3</td>\n",
       "      <td>2.50</td>\n",
       "      <td>9.0</td>\n",
       "      <td>43.60</td>\n",
       "      <td>7</td>\n",
       "      <td>NaN</td>\n",
       "      <td>...</td>\n",
       "      <td>6.50</td>\n",
       "      <td>2.0</td>\n",
       "      <td>Санкт-Петербург</td>\n",
       "      <td>50898.0</td>\n",
       "      <td>15008.0</td>\n",
       "      <td>0.0</td>\n",
       "      <td>NaN</td>\n",
       "      <td>0.0</td>\n",
       "      <td>NaN</td>\n",
       "      <td>289.0</td>\n",
       "    </tr>\n",
       "  </tbody>\n",
       "</table>\n",
       "<p>10 rows × 22 columns</p>\n",
       "</div>"
      ],
      "text/plain": [
       "   total_images  last_price  total_area first_day_exposition  rooms  \\\n",
       "0            20  13000000.0      108.00  2019-03-07T00:00:00      3   \n",
       "1             7   3350000.0       40.40  2018-12-04T00:00:00      1   \n",
       "2            10   5196000.0       56.00  2015-08-20T00:00:00      2   \n",
       "3             0  64900000.0      159.00  2015-07-24T00:00:00      3   \n",
       "4             2  10000000.0      100.00  2018-06-19T00:00:00      2   \n",
       "5            10   2890000.0       30.40  2018-09-10T00:00:00      1   \n",
       "6             6   3700000.0       37.30  2017-11-02T00:00:00      1   \n",
       "7             5   7915000.0       71.60  2019-04-18T00:00:00      2   \n",
       "8            20   2900000.0       33.16  2018-05-23T00:00:00      1   \n",
       "9            18   5400000.0       61.00  2017-02-26T00:00:00      3   \n",
       "\n",
       "   ceiling_height  floors_total  living_area  floor is_apartment  ...  \\\n",
       "0            2.70          16.0        51.00      8          NaN  ...   \n",
       "1             NaN          11.0        18.60      1          NaN  ...   \n",
       "2             NaN           5.0        34.30      4          NaN  ...   \n",
       "3             NaN          14.0          NaN      9          NaN  ...   \n",
       "4            3.03          14.0        32.00     13          NaN  ...   \n",
       "5             NaN          12.0        14.40      5          NaN  ...   \n",
       "6             NaN          26.0        10.60      6          NaN  ...   \n",
       "7             NaN          24.0          NaN     22          NaN  ...   \n",
       "8             NaN          27.0        15.43     26          NaN  ...   \n",
       "9            2.50           9.0        43.60      7          NaN  ...   \n",
       "\n",
       "   kitchen_area  balcony              locality_name  airports_nearest  \\\n",
       "0         25.00      NaN            Санкт-Петербург           18863.0   \n",
       "1         11.00      2.0             посёлок Шушары           12817.0   \n",
       "2          8.30      0.0            Санкт-Петербург           21741.0   \n",
       "3           NaN      0.0            Санкт-Петербург           28098.0   \n",
       "4         41.00      NaN            Санкт-Петербург           31856.0   \n",
       "5          9.10      NaN  городской посёлок Янино-1               NaN   \n",
       "6         14.40      1.0          посёлок Парголово           52996.0   \n",
       "7         18.90      2.0            Санкт-Петербург           23982.0   \n",
       "8          8.81      NaN             посёлок Мурино               NaN   \n",
       "9          6.50      2.0            Санкт-Петербург           50898.0   \n",
       "\n",
       "  cityCenters_nearest  parks_around3000  parks_nearest  ponds_around3000  \\\n",
       "0             16028.0               1.0          482.0               2.0   \n",
       "1             18603.0               0.0            NaN               0.0   \n",
       "2             13933.0               1.0           90.0               2.0   \n",
       "3              6800.0               2.0           84.0               3.0   \n",
       "4              8098.0               2.0          112.0               1.0   \n",
       "5                 NaN               NaN            NaN               NaN   \n",
       "6             19143.0               0.0            NaN               0.0   \n",
       "7             11634.0               0.0            NaN               0.0   \n",
       "8                 NaN               NaN            NaN               NaN   \n",
       "9             15008.0               0.0            NaN               0.0   \n",
       "\n",
       "   ponds_nearest  days_exposition  \n",
       "0          755.0              NaN  \n",
       "1            NaN             81.0  \n",
       "2          574.0            558.0  \n",
       "3          234.0            424.0  \n",
       "4           48.0            121.0  \n",
       "5            NaN             55.0  \n",
       "6            NaN            155.0  \n",
       "7            NaN              NaN  \n",
       "8            NaN            189.0  \n",
       "9            NaN            289.0  \n",
       "\n",
       "[10 rows x 22 columns]"
      ]
     },
     "execution_count": 2,
     "metadata": {},
     "output_type": "execute_result"
    }
   ],
   "source": [
    "#Откроем файл снова, поставив разделитель для строк, посмотрим первые 10\n",
    "df = pd.read_csv('/datasets/real_estate_data.csv', sep='\\t')\n",
    "df.head(10)"
   ]
  },
  {
   "cell_type": "code",
   "execution_count": 3,
   "metadata": {},
   "outputs": [
    {
     "name": "stdout",
     "output_type": "stream",
     "text": [
      "<class 'pandas.core.frame.DataFrame'>\n",
      "RangeIndex: 23699 entries, 0 to 23698\n",
      "Data columns (total 22 columns):\n",
      " #   Column                Non-Null Count  Dtype  \n",
      "---  ------                --------------  -----  \n",
      " 0   total_images          23699 non-null  int64  \n",
      " 1   last_price            23699 non-null  float64\n",
      " 2   total_area            23699 non-null  float64\n",
      " 3   first_day_exposition  23699 non-null  object \n",
      " 4   rooms                 23699 non-null  int64  \n",
      " 5   ceiling_height        14504 non-null  float64\n",
      " 6   floors_total          23613 non-null  float64\n",
      " 7   living_area           21796 non-null  float64\n",
      " 8   floor                 23699 non-null  int64  \n",
      " 9   is_apartment          2775 non-null   object \n",
      " 10  studio                23699 non-null  bool   \n",
      " 11  open_plan             23699 non-null  bool   \n",
      " 12  kitchen_area          21421 non-null  float64\n",
      " 13  balcony               12180 non-null  float64\n",
      " 14  locality_name         23650 non-null  object \n",
      " 15  airports_nearest      18157 non-null  float64\n",
      " 16  cityCenters_nearest   18180 non-null  float64\n",
      " 17  parks_around3000      18181 non-null  float64\n",
      " 18  parks_nearest         8079 non-null   float64\n",
      " 19  ponds_around3000      18181 non-null  float64\n",
      " 20  ponds_nearest         9110 non-null   float64\n",
      " 21  days_exposition       20518 non-null  float64\n",
      "dtypes: bool(2), float64(14), int64(3), object(3)\n",
      "memory usage: 3.7+ MB\n"
     ]
    }
   ],
   "source": [
    "#Выведем всю информацию о столбцах\n",
    "df.info()"
   ]
  },
  {
   "cell_type": "markdown",
   "metadata": {},
   "source": [
    "### Вывод"
   ]
  },
  {
   "cell_type": "markdown",
   "metadata": {},
   "source": [
    "В файле стоит разделитель строк '\\t', во многих столбцах есть пропущенные значения, многие из которых сложно чем-то заполнить, поэтому можно их оставить пустыми, а остальные заполнить для дальнейших расчётов и графиков."
   ]
  },
  {
   "cell_type": "markdown",
   "metadata": {},
   "source": [
    "## Предобработка данных"
   ]
  },
  {
   "cell_type": "markdown",
   "metadata": {},
   "source": [
    "Определим и изучим пропущенные значения:"
   ]
  },
  {
   "cell_type": "code",
   "execution_count": 4,
   "metadata": {},
   "outputs": [],
   "source": [
    "#Высоту потолков можно взять по медиане и заполнить этим значением все пропуски\n",
    "df['ceiling_height'] = df['ceiling_height'].fillna(df['ceiling_height'].median())"
   ]
  },
  {
   "cell_type": "code",
   "execution_count": 5,
   "metadata": {},
   "outputs": [],
   "source": [
    "#По этому столбцу очень мало заполненных строк, скорее всего этот столбец типа bool добавили недавно, поэтому его \n",
    "#можно заполнить значением False\n",
    "df['is_apartment'] = df['is_apartment'].fillna(False)"
   ]
  },
  {
   "cell_type": "code",
   "execution_count": 6,
   "metadata": {},
   "outputs": [],
   "source": [
    "#Пустые строки в столбце балкона можно заполнить 0, поскольку скорее всего это означает, что балконы не нужны + переведём \n",
    "#сразу в тип int\n",
    "df['balcony'] = df['balcony'].fillna(0).astype('int')"
   ]
  },
  {
   "cell_type": "code",
   "execution_count": 7,
   "metadata": {},
   "outputs": [],
   "source": [
    "#Для удобства переведём общую цену тоже в int\n",
    "df['last_price'] = df['last_price'].astype('int')"
   ]
  },
  {
   "cell_type": "code",
   "execution_count": 8,
   "metadata": {},
   "outputs": [],
   "source": [
    "#Перевёдём столбец с датой в соответствующий формат\n",
    "df['first_day_exposition'] = pd.to_datetime(df['first_day_exposition'], format = '%Y-%m-%d')"
   ]
  },
  {
   "cell_type": "code",
   "execution_count": 9,
   "metadata": {},
   "outputs": [
    {
     "data": {
      "text/plain": [
       "0"
      ]
     },
     "execution_count": 9,
     "metadata": {},
     "output_type": "execute_result"
    }
   ],
   "source": [
    "#Проверим, есть ли дублирующиеся строки\n",
    "df.duplicated().sum()"
   ]
  },
  {
   "cell_type": "code",
   "execution_count": 10,
   "metadata": {},
   "outputs": [
    {
     "data": {
      "text/plain": [
       "56.5"
      ]
     },
     "execution_count": 10,
     "metadata": {},
     "output_type": "execute_result"
    }
   ],
   "source": [
    "#Пустые строки с жилой площадью можно заполнить с помощью среднего процента от всех жилых площадей к общей, округлив его до\n",
    "#1 знака после запятой, посчитаем этот процент\n",
    "living_area_percent = round(((df['living_area'] * 100) / df['total_area']).mean(), 1)\n",
    "living_area_percent"
   ]
  },
  {
   "cell_type": "code",
   "execution_count": 11,
   "metadata": {},
   "outputs": [
    {
     "data": {
      "text/plain": [
       "18.7"
      ]
     },
     "execution_count": 11,
     "metadata": {},
     "output_type": "execute_result"
    }
   ],
   "source": [
    "#То же самое проделаем и для кухни\n",
    "kitchen_area_percent = round(((df['kitchen_area'] * 100) / df['total_area']).mean(), 1)\n",
    "kitchen_area_percent"
   ]
  },
  {
   "cell_type": "code",
   "execution_count": 12,
   "metadata": {},
   "outputs": [],
   "source": [
    "#Теперь заполним пустые строки жилой площади, умножив всю площадь на этот процент\n",
    "df['living_area'] = df['living_area'].fillna((df['total_area'] * living_area_percent) / 100)"
   ]
  },
  {
   "cell_type": "code",
   "execution_count": 13,
   "metadata": {},
   "outputs": [],
   "source": [
    "#То же самое проделаем и для кухни\n",
    "df['kitchen_area'] = df['kitchen_area'].fillna((df['total_area'] * kitchen_area_percent) / 100)"
   ]
  },
  {
   "cell_type": "code",
   "execution_count": 14,
   "metadata": {},
   "outputs": [
    {
     "data": {
      "text/plain": [
       "array([20,  7, 10,  0,  2,  6,  5, 18,  9,  1, 16, 11,  8, 12, 13,  3, 15,\n",
       "       17, 14, 19, 32,  4, 35, 39, 23, 21, 27, 30, 24, 25, 28, 31, 22, 29,\n",
       "       26, 50, 42, 37])"
      ]
     },
     "execution_count": 14,
     "metadata": {},
     "output_type": "execute_result"
    }
   ],
   "source": [
    "#Теперь проверим все значения для столбцов на их 'корректность', начнём с числа фотографий квартиры\n",
    "df['total_images'].unique()"
   ]
  },
  {
   "cell_type": "code",
   "execution_count": 15,
   "metadata": {},
   "outputs": [
    {
     "data": {
      "text/plain": [
       "8793         12190\n",
       "17456       430000\n",
       "14911       430000\n",
       "16274       440000\n",
       "17676       450000\n",
       "           ...    \n",
       "15651    300000000\n",
       "1436     330000000\n",
       "14706    401300000\n",
       "19540    420000000\n",
       "12971    763000000\n",
       "Name: last_price, Length: 23699, dtype: int64"
      ]
     },
     "execution_count": 15,
     "metadata": {},
     "output_type": "execute_result"
    }
   ],
   "source": [
    "#Цена\n",
    "df['last_price'].sort_values()"
   ]
  },
  {
   "cell_type": "code",
   "execution_count": 16,
   "metadata": {},
   "outputs": [
    {
     "data": {
      "text/plain": [
       "19904     12.0\n",
       "17961     13.0\n",
       "19546     13.0\n",
       "19807     13.0\n",
       "19558     13.2\n",
       "         ...  \n",
       "5358     590.0\n",
       "15651    618.0\n",
       "3117     631.0\n",
       "12859    631.2\n",
       "19540    900.0\n",
       "Name: total_area, Length: 23699, dtype: float64"
      ]
     },
     "execution_count": 16,
     "metadata": {},
     "output_type": "execute_result"
    }
   ],
   "source": [
    "#Общая площадь\n",
    "df['total_area'].sort_values()"
   ]
  },
  {
   "cell_type": "code",
   "execution_count": 17,
   "metadata": {},
   "outputs": [
    {
     "data": {
      "text/plain": [
       "10132   2014-11-27\n",
       "8393    2014-11-27\n",
       "15857   2014-11-27\n",
       "2831    2014-11-27\n",
       "696     2014-11-27\n",
       "           ...    \n",
       "10917   2019-05-03\n",
       "5986    2019-05-03\n",
       "9217    2019-05-03\n",
       "21887   2019-05-03\n",
       "15072   2019-05-03\n",
       "Name: first_day_exposition, Length: 23699, dtype: datetime64[ns]"
      ]
     },
     "execution_count": 17,
     "metadata": {},
     "output_type": "execute_result"
    }
   ],
   "source": [
    "#Первая дата размещения объявления\n",
    "df['first_day_exposition'].sort_values()"
   ]
  },
  {
   "cell_type": "code",
   "execution_count": 18,
   "metadata": {},
   "outputs": [
    {
     "data": {
      "text/plain": [
       "array([ 3,  1,  2,  4,  5,  6,  0,  7, 11,  8, 14, 10, 15,  9, 19, 16, 12])"
      ]
     },
     "execution_count": 18,
     "metadata": {},
     "output_type": "execute_result"
    }
   ],
   "source": [
    "#Количество комнат\n",
    "df['rooms'].unique()"
   ]
  },
  {
   "cell_type": "code",
   "execution_count": 19,
   "metadata": {},
   "outputs": [
    {
     "data": {
      "text/plain": [
       "22590      1.00\n",
       "5712       1.20\n",
       "16934      1.75\n",
       "20520      2.00\n",
       "552        2.00\n",
       "          ...  \n",
       "20478     27.00\n",
       "21377     27.50\n",
       "3148      32.00\n",
       "22336     32.00\n",
       "22869    100.00\n",
       "Name: ceiling_height, Length: 23699, dtype: float64"
      ]
     },
     "execution_count": 19,
     "metadata": {},
     "output_type": "execute_result"
    }
   ],
   "source": [
    "#Высота потолков\n",
    "df['ceiling_height'].sort_values()"
   ]
  },
  {
   "cell_type": "code",
   "execution_count": 20,
   "metadata": {},
   "outputs": [
    {
     "data": {
      "text/plain": [
       "array([16., 11.,  5., 14., 12., 26., 24., 27.,  9.,  6., 17., 25.,  3.,\n",
       "       23., 19., 18.,  4., 22.,  8.,  2., 10.,  7., 13., 15., nan, 20.,\n",
       "       28., 36., 21., 35., 34., 60.,  1., 29., 33., 52., 37.])"
      ]
     },
     "execution_count": 20,
     "metadata": {},
     "output_type": "execute_result"
    }
   ],
   "source": [
    "#Всего этажей\n",
    "df['floors_total'].unique()"
   ]
  },
  {
   "cell_type": "code",
   "execution_count": 21,
   "metadata": {},
   "outputs": [
    {
     "data": {
      "text/plain": [
       "13915      2.000\n",
       "21758      2.000\n",
       "3242       3.000\n",
       "23574      3.000\n",
       "17582      5.000\n",
       "          ...   \n",
       "4237     332.000\n",
       "12401    347.500\n",
       "3117     356.515\n",
       "5358     409.000\n",
       "19540    409.700\n",
       "Name: living_area, Length: 23699, dtype: float64"
      ]
     },
     "execution_count": 21,
     "metadata": {},
     "output_type": "execute_result"
    }
   ],
   "source": [
    "#Жилая площадь\n",
    "df['living_area'].sort_values()"
   ]
  },
  {
   "cell_type": "code",
   "execution_count": 22,
   "metadata": {},
   "outputs": [
    {
     "data": {
      "text/plain": [
       "array([ 8,  1,  4,  9, 13,  5,  6, 22, 26,  7,  3,  2, 11, 15, 18, 10, 19,\n",
       "       16, 20, 27, 25, 17, 14, 12, 21, 28, 24, 23, 30, 29, 32, 33, 31])"
      ]
     },
     "execution_count": 22,
     "metadata": {},
     "output_type": "execute_result"
    }
   ],
   "source": [
    "#Этаж, на котором расположена квартира\n",
    "df['floor'].unique()"
   ]
  },
  {
   "cell_type": "code",
   "execution_count": 23,
   "metadata": {},
   "outputs": [
    {
     "data": {
      "text/plain": [
       "20217      1.3\n",
       "19642      2.0\n",
       "16367      2.0\n",
       "906        2.0\n",
       "11033      2.0\n",
       "         ...  \n",
       "15016     93.5\n",
       "5358     100.0\n",
       "2489     100.7\n",
       "20215    107.0\n",
       "19540    112.0\n",
       "Name: kitchen_area, Length: 23699, dtype: float64"
      ]
     },
     "execution_count": 23,
     "metadata": {},
     "output_type": "execute_result"
    }
   ],
   "source": [
    "#Площадь кухни\n",
    "df['kitchen_area'].sort_values()"
   ]
  },
  {
   "cell_type": "code",
   "execution_count": 24,
   "metadata": {},
   "outputs": [
    {
     "data": {
      "text/plain": [
       "array([0, 2, 1, 5, 4, 3])"
      ]
     },
     "execution_count": 24,
     "metadata": {},
     "output_type": "execute_result"
    }
   ],
   "source": [
    "#Количество балконов\n",
    "df['balcony'].unique()"
   ]
  },
  {
   "cell_type": "code",
   "execution_count": 25,
   "metadata": {},
   "outputs": [
    {
     "data": {
      "text/plain": [
       "array(['Санкт-Петербург', 'посёлок Шушары', 'городской посёлок Янино-1',\n",
       "       'посёлок Парголово', 'посёлок Мурино', 'Ломоносов', 'Сертолово',\n",
       "       'Петергоф', 'Пушкин', 'деревня Кудрово', 'Коммунар', 'Колпино',\n",
       "       'поселок городского типа Красный Бор', 'Гатчина', 'поселок Мурино',\n",
       "       'деревня Фёдоровское', 'Выборг', 'Кронштадт', 'Кировск',\n",
       "       'деревня Новое Девяткино', 'посёлок Металлострой',\n",
       "       'посёлок городского типа Лебяжье',\n",
       "       'посёлок городского типа Сиверский', 'поселок Молодцово',\n",
       "       'поселок городского типа Кузьмоловский',\n",
       "       'садовое товарищество Новая Ропша', 'Павловск',\n",
       "       'деревня Пикколово', 'Всеволожск', 'Волхов', 'Кингисепп',\n",
       "       'Приозерск', 'Сестрорецк', 'деревня Куттузи', 'посёлок Аннино',\n",
       "       'поселок городского типа Ефимовский', 'посёлок Плодовое',\n",
       "       'деревня Заклинье', 'поселок Торковичи', 'поселок Первомайское',\n",
       "       'Красное Село', 'посёлок Понтонный', 'Сясьстрой', 'деревня Старая',\n",
       "       'деревня Лесколово', 'посёлок Новый Свет', 'Сланцы',\n",
       "       'село Путилово', 'Ивангород', 'Мурино', 'Шлиссельбург',\n",
       "       'Никольское', 'Зеленогорск', 'Сосновый Бор', 'поселок Новый Свет',\n",
       "       'деревня Оржицы', 'деревня Кальтино', 'Кудрово',\n",
       "       'поселок Романовка', 'посёлок Бугры', 'поселок Бугры',\n",
       "       'поселок городского типа Рощино', 'Кириши', 'Луга', 'Волосово',\n",
       "       'Отрадное', 'село Павлово', 'поселок Оредеж', 'село Копорье',\n",
       "       'посёлок городского типа Красный Бор', 'посёлок Молодёжное',\n",
       "       'Тихвин', 'посёлок Победа', 'деревня Нурма',\n",
       "       'поселок городского типа Синявино', 'Тосно',\n",
       "       'посёлок городского типа Кузьмоловский', 'посёлок Стрельна',\n",
       "       'Бокситогорск', 'посёлок Александровская', 'деревня Лопухинка',\n",
       "       'Пикалёво', 'поселок Терволово',\n",
       "       'поселок городского типа Советский', 'Подпорожье',\n",
       "       'посёлок Петровское', 'посёлок городского типа Токсово',\n",
       "       'поселок Сельцо', 'посёлок городского типа Вырица',\n",
       "       'деревня Кипень', 'деревня Келози', 'деревня Вартемяги',\n",
       "       'посёлок Тельмана', 'поселок Севастьяново',\n",
       "       'городской поселок Большая Ижора', nan,\n",
       "       'городской посёлок Павлово', 'деревня Агалатово',\n",
       "       'посёлок Новогорелово', 'городской посёлок Лесогорский',\n",
       "       'деревня Лаголово', 'поселок Цвелодубово',\n",
       "       'поселок городского типа Рахья', 'поселок городского типа Вырица',\n",
       "       'деревня Белогорка', 'поселок Заводской',\n",
       "       'городской посёлок Новоселье', 'деревня Большие Колпаны',\n",
       "       'деревня Горбунки', 'деревня Батово', 'деревня Заневка',\n",
       "       'деревня Иссад', 'Приморск', 'городской посёлок Фёдоровское',\n",
       "       'деревня Мистолово', 'Новая Ладога', 'поселок Зимитицы',\n",
       "       'поселок Барышево', 'деревня Разметелево',\n",
       "       'поселок городского типа имени Свердлова', 'деревня Пеники',\n",
       "       'поселок Рябово', 'деревня Пудомяги', 'поселок станции Корнево',\n",
       "       'деревня Низино', 'деревня Бегуницы', 'посёлок Поляны',\n",
       "       'городской посёлок Мга', 'поселок Елизаветино',\n",
       "       'посёлок городского типа Кузнечное', 'деревня Колтуши',\n",
       "       'поселок Запорожское', 'посёлок городского типа Рощино',\n",
       "       'деревня Гостилицы', 'деревня Малое Карлино',\n",
       "       'посёлок Мичуринское', 'посёлок городского типа имени Морозова',\n",
       "       'посёлок Песочный', 'посёлок Сосново', 'деревня Аро',\n",
       "       'поселок Ильичёво', 'посёлок городского типа Тайцы',\n",
       "       'деревня Малое Верево', 'деревня Извара', 'поселок станции Вещево',\n",
       "       'село Паша', 'деревня Калитино',\n",
       "       'посёлок городского типа Ульяновка', 'деревня Чудской Бор',\n",
       "       'поселок городского типа Дубровка', 'деревня Мины',\n",
       "       'поселок Войсковицы', 'посёлок городского типа имени Свердлова',\n",
       "       'деревня Коркино', 'посёлок Ропша',\n",
       "       'поселок городского типа Приладожский', 'посёлок Щеглово',\n",
       "       'посёлок Гаврилово', 'Лодейное Поле', 'деревня Рабитицы',\n",
       "       'поселок городского типа Никольский', 'деревня Кузьмолово',\n",
       "       'деревня Малые Колпаны', 'поселок Тельмана',\n",
       "       'посёлок Петро-Славянка', 'городской посёлок Назия',\n",
       "       'посёлок Репино', 'посёлок Ильичёво', 'поселок Углово',\n",
       "       'поселок Старая Малукса', 'садовое товарищество Рахья',\n",
       "       'поселок Аннино', 'поселок Победа', 'деревня Меньково',\n",
       "       'деревня Старые Бегуницы', 'посёлок Сапёрный', 'поселок Семрино',\n",
       "       'поселок Гаврилово', 'поселок Глажево', 'поселок Кобринское',\n",
       "       'деревня Гарболово', 'деревня Юкки',\n",
       "       'поселок станции Приветнинское', 'деревня Мануйлово',\n",
       "       'деревня Пчева', 'поселок Поляны', 'поселок Цвылёво',\n",
       "       'поселок Мельниково', 'посёлок Пудость', 'посёлок Усть-Луга',\n",
       "       'Светогорск', 'Любань', 'поселок Селезнёво',\n",
       "       'поселок городского типа Рябово', 'Каменногорск', 'деревня Кривко',\n",
       "       'поселок Глебычево', 'деревня Парицы', 'поселок Жилпосёлок',\n",
       "       'посёлок городского типа Мга', 'городской поселок Янино-1',\n",
       "       'посёлок Войскорово', 'село Никольское', 'посёлок Терволово',\n",
       "       'поселок Стеклянный', 'посёлок городского типа Важины',\n",
       "       'посёлок Мыза-Ивановка', 'село Русско-Высоцкое',\n",
       "       'поселок городского типа Лебяжье',\n",
       "       'поселок городского типа Форносово', 'село Старая Ладога',\n",
       "       'поселок Житково', 'городской посёлок Виллози', 'деревня Лампово',\n",
       "       'деревня Шпаньково', 'деревня Лаврики', 'посёлок Сумино',\n",
       "       'посёлок Возрождение', 'деревня Старосиверская',\n",
       "       'посёлок Кикерино', 'поселок Возрождение',\n",
       "       'деревня Старое Хинколово', 'посёлок Пригородный',\n",
       "       'посёлок Торфяное', 'городской посёлок Будогощь',\n",
       "       'поселок Суходолье', 'поселок Красная Долина', 'деревня Хапо-Ое',\n",
       "       'поселок городского типа Дружная Горка', 'поселок Лисий Нос',\n",
       "       'деревня Яльгелево', 'посёлок Стеклянный', 'село Рождествено',\n",
       "       'деревня Старополье', 'посёлок Левашово', 'деревня Сяськелево',\n",
       "       'деревня Камышовка',\n",
       "       'садоводческое некоммерческое товарищество Лесная Поляна',\n",
       "       'деревня Хязельки', 'поселок Жилгородок',\n",
       "       'посёлок городского типа Павлово', 'деревня Ялгино',\n",
       "       'поселок Новый Учхоз', 'городской посёлок Рощино',\n",
       "       'поселок Гончарово', 'поселок Почап', 'посёлок Сапёрное',\n",
       "       'посёлок Платформа 69-й километр', 'поселок Каложицы',\n",
       "       'деревня Фалилеево', 'деревня Пельгора',\n",
       "       'поселок городского типа Лесогорский', 'деревня Торошковичи',\n",
       "       'посёлок Белоостров', 'посёлок Алексеевка', 'поселок Серебрянский',\n",
       "       'поселок Лукаши', 'поселок Петровское', 'деревня Щеглово',\n",
       "       'поселок Мичуринское', 'деревня Тарасово', 'поселок Кингисеппский',\n",
       "       'посёлок при железнодорожной станции Вещево', 'поселок Ушаки',\n",
       "       'деревня Котлы', 'деревня Сижно', 'деревня Торосово',\n",
       "       'посёлок Форт Красная Горка', 'поселок городского типа Токсово',\n",
       "       'деревня Новолисино', 'посёлок станции Громово', 'деревня Глинка',\n",
       "       'посёлок Мельниково', 'поселок городского типа Назия',\n",
       "       'деревня Старая Пустошь', 'поселок Коммунары', 'поселок Починок',\n",
       "       'посёлок городского типа Вознесенье', 'деревня Разбегаево',\n",
       "       'посёлок городского типа Рябово', 'поселок Гладкое',\n",
       "       'посёлок при железнодорожной станции Приветнинское',\n",
       "       'поселок Тёсово-4', 'посёлок Жилгородок', 'деревня Бор',\n",
       "       'посёлок Коробицыно', 'деревня Большая Вруда', 'деревня Курковицы',\n",
       "       'посёлок Лисий Нос', 'городской посёлок Советский',\n",
       "       'посёлок Кобралово', 'деревня Суоранда', 'поселок Кобралово',\n",
       "       'поселок городского типа Кондратьево',\n",
       "       'коттеджный поселок Счастье', 'поселок Любань', 'деревня Реброво',\n",
       "       'деревня Зимитицы', 'деревня Тойворово', 'поселок Семиозерье',\n",
       "       'поселок Лесное', 'поселок Совхозный', 'поселок Усть-Луга',\n",
       "       'посёлок Ленинское', 'посёлок Суйда',\n",
       "       'посёлок городского типа Форносово', 'деревня Нижние Осельки',\n",
       "       'посёлок станции Свирь', 'поселок Перово', 'Высоцк',\n",
       "       'поселок Гарболово', 'село Шум', 'поселок Котельский',\n",
       "       'поселок станции Лужайка', 'деревня Большая Пустомержа',\n",
       "       'поселок Красносельское', 'деревня Вахнова Кара', 'деревня Пижма',\n",
       "       'коттеджный поселок Кивеннапа Север', 'поселок Коробицыно',\n",
       "       'поселок Ромашки', 'посёлок Перово', 'деревня Каськово',\n",
       "       'деревня Куровицы', 'посёлок Плоское', 'поселок Сумино',\n",
       "       'поселок городского типа Большая Ижора', 'поселок Кирпичное',\n",
       "       'деревня Ям-Тесово', 'деревня Раздолье', 'деревня Терпилицы',\n",
       "       'посёлок Шугозеро', 'деревня Ваганово', 'поселок Пушное',\n",
       "       'садовое товарищество Садко', 'посёлок Усть-Ижора',\n",
       "       'деревня Выскатка', 'городской посёлок Свирьстрой',\n",
       "       'поселок Громово', 'деревня Кисельня', 'посёлок Старая Малукса',\n",
       "       'деревня Трубников Бор', 'поселок Калитино',\n",
       "       'посёлок Высокоключевой', 'садовое товарищество Приладожский',\n",
       "       'посёлок Пансионат Зелёный Бор', 'деревня Ненимяки',\n",
       "       'поселок Пансионат Зелёный Бор', 'деревня Снегирёвка',\n",
       "       'деревня Рапполово', 'деревня Пустынка', 'поселок Рабитицы',\n",
       "       'деревня Большой Сабск', 'деревня Русско', 'деревня Лупполово',\n",
       "       'деревня Большое Рейзино', 'деревня Малая Романовка',\n",
       "       'поселок Дружноселье', 'поселок Пчевжа', 'поселок Володарское',\n",
       "       'деревня Нижняя', 'коттеджный посёлок Лесное', 'деревня Тихковицы',\n",
       "       'деревня Борисова Грива', 'посёлок Дзержинского'], dtype=object)"
      ]
     },
     "execution_count": 25,
     "metadata": {},
     "output_type": "execute_result"
    }
   ],
   "source": [
    "#Названия городов, посёлков и деревень, где расположена недвижимость\n",
    "df['locality_name'].unique()"
   ]
  },
  {
   "cell_type": "code",
   "execution_count": 26,
   "metadata": {},
   "outputs": [
    {
     "data": {
      "text/plain": [
       "21085       0.0\n",
       "12899    6450.0\n",
       "4017     6450.0\n",
       "7778     6914.0\n",
       "23150    6949.0\n",
       "          ...  \n",
       "23683       NaN\n",
       "23692       NaN\n",
       "23695       NaN\n",
       "23696       NaN\n",
       "23698       NaN\n",
       "Name: airports_nearest, Length: 23699, dtype: float64"
      ]
     },
     "execution_count": 26,
     "metadata": {},
     "output_type": "execute_result"
    }
   ],
   "source": [
    "#Ближайшие аэропорты\n",
    "df['airports_nearest'].sort_values()"
   ]
  },
  {
   "cell_type": "code",
   "execution_count": 27,
   "metadata": {},
   "outputs": [
    {
     "data": {
      "text/plain": [
       "13694    181.0\n",
       "1182     208.0\n",
       "8614     215.0\n",
       "1934     287.0\n",
       "20873    291.0\n",
       "         ...  \n",
       "23683      NaN\n",
       "23692      NaN\n",
       "23695      NaN\n",
       "23696      NaN\n",
       "23698      NaN\n",
       "Name: cityCenters_nearest, Length: 23699, dtype: float64"
      ]
     },
     "execution_count": 27,
     "metadata": {},
     "output_type": "execute_result"
    }
   ],
   "source": [
    "#Расстояние до центра города в метрах\n",
    "df['cityCenters_nearest'].sort_values()"
   ]
  },
  {
   "cell_type": "code",
   "execution_count": 28,
   "metadata": {},
   "outputs": [
    {
     "data": {
      "text/plain": [
       "7842     0.0\n",
       "18508    0.0\n",
       "18506    0.0\n",
       "10023    0.0\n",
       "18505    0.0\n",
       "        ... \n",
       "23683    NaN\n",
       "23692    NaN\n",
       "23695    NaN\n",
       "23696    NaN\n",
       "23698    NaN\n",
       "Name: parks_around3000, Length: 23699, dtype: float64"
      ]
     },
     "execution_count": 28,
     "metadata": {},
     "output_type": "execute_result"
    }
   ],
   "source": [
    "#Количество парков в радиусе 3 км\n",
    "df['parks_around3000'].sort_values()"
   ]
  },
  {
   "cell_type": "code",
   "execution_count": 29,
   "metadata": {},
   "outputs": [
    {
     "data": {
      "text/plain": [
       "14624    1.0\n",
       "11949    3.0\n",
       "22941    4.0\n",
       "9344     7.0\n",
       "20193    9.0\n",
       "        ... \n",
       "23691    NaN\n",
       "23692    NaN\n",
       "23695    NaN\n",
       "23696    NaN\n",
       "23698    NaN\n",
       "Name: parks_nearest, Length: 23699, dtype: float64"
      ]
     },
     "execution_count": 29,
     "metadata": {},
     "output_type": "execute_result"
    }
   ],
   "source": [
    "#Расстояние до ближайшего парка\n",
    "df['parks_nearest'].sort_values()"
   ]
  },
  {
   "cell_type": "code",
   "execution_count": 30,
   "metadata": {},
   "outputs": [
    {
     "data": {
      "text/plain": [
       "9828     0.0\n",
       "11442    0.0\n",
       "11444    0.0\n",
       "11445    0.0\n",
       "11448    0.0\n",
       "        ... \n",
       "23683    NaN\n",
       "23692    NaN\n",
       "23695    NaN\n",
       "23696    NaN\n",
       "23698    NaN\n",
       "Name: ponds_around3000, Length: 23699, dtype: float64"
      ]
     },
     "execution_count": 30,
     "metadata": {},
     "output_type": "execute_result"
    }
   ],
   "source": [
    "#Количество водоёмов в радиусе 3 км\n",
    "df['ponds_around3000'].sort_values()"
   ]
  },
  {
   "cell_type": "code",
   "execution_count": 31,
   "metadata": {},
   "outputs": [
    {
     "data": {
      "text/plain": [
       "17585    13.0\n",
       "1548     13.0\n",
       "23343    16.0\n",
       "10358    16.0\n",
       "20427    16.0\n",
       "         ... \n",
       "23690     NaN\n",
       "23692     NaN\n",
       "23695     NaN\n",
       "23696     NaN\n",
       "23698     NaN\n",
       "Name: ponds_nearest, Length: 23699, dtype: float64"
      ]
     },
     "execution_count": 31,
     "metadata": {},
     "output_type": "execute_result"
    }
   ],
   "source": [
    "df['ponds_nearest'].sort_values()"
   ]
  },
  {
   "cell_type": "code",
   "execution_count": 32,
   "metadata": {},
   "outputs": [
    {
     "data": {
      "text/plain": [
       "1632     1.0\n",
       "16053    2.0\n",
       "13061    2.0\n",
       "16212    2.0\n",
       "18680    3.0\n",
       "        ... \n",
       "23684    NaN\n",
       "23685    NaN\n",
       "23694    NaN\n",
       "23696    NaN\n",
       "23698    NaN\n",
       "Name: days_exposition, Length: 23699, dtype: float64"
      ]
     },
     "execution_count": 32,
     "metadata": {},
     "output_type": "execute_result"
    }
   ],
   "source": [
    "#Сколько дней размещено объявление\n",
    "df['days_exposition'].sort_values()"
   ]
  },
  {
   "cell_type": "code",
   "execution_count": 33,
   "metadata": {},
   "outputs": [
    {
     "name": "stdout",
     "output_type": "stream",
     "text": [
      "<class 'pandas.core.frame.DataFrame'>\n",
      "RangeIndex: 23699 entries, 0 to 23698\n",
      "Data columns (total 22 columns):\n",
      " #   Column                Non-Null Count  Dtype         \n",
      "---  ------                --------------  -----         \n",
      " 0   total_images          23699 non-null  int64         \n",
      " 1   last_price            23699 non-null  int64         \n",
      " 2   total_area            23699 non-null  float64       \n",
      " 3   first_day_exposition  23699 non-null  datetime64[ns]\n",
      " 4   rooms                 23699 non-null  int64         \n",
      " 5   ceiling_height        23699 non-null  float64       \n",
      " 6   floors_total          23613 non-null  float64       \n",
      " 7   living_area           23699 non-null  float64       \n",
      " 8   floor                 23699 non-null  int64         \n",
      " 9   is_apartment          23699 non-null  bool          \n",
      " 10  studio                23699 non-null  bool          \n",
      " 11  open_plan             23699 non-null  bool          \n",
      " 12  kitchen_area          23699 non-null  float64       \n",
      " 13  balcony               23699 non-null  int64         \n",
      " 14  locality_name         23650 non-null  object        \n",
      " 15  airports_nearest      18157 non-null  float64       \n",
      " 16  cityCenters_nearest   18180 non-null  float64       \n",
      " 17  parks_around3000      18181 non-null  float64       \n",
      " 18  parks_nearest         8079 non-null   float64       \n",
      " 19  ponds_around3000      18181 non-null  float64       \n",
      " 20  ponds_nearest         9110 non-null   float64       \n",
      " 21  days_exposition       20518 non-null  float64       \n",
      "dtypes: bool(3), datetime64[ns](1), float64(12), int64(5), object(1)\n",
      "memory usage: 3.5+ MB\n"
     ]
    }
   ],
   "source": [
    "#Теперь проверим информацию. какие типы данных у нас в столбцах \n",
    "df.info()"
   ]
  },
  {
   "cell_type": "markdown",
   "metadata": {},
   "source": [
    "### Вывод"
   ]
  },
  {
   "cell_type": "markdown",
   "metadata": {},
   "source": [
    "Столбец 'first_day_exposition' был переведён в формат даты. Столбец 'last_price' был переведён в тип 'int' для удобства. Пустые строки в столбце 'balcony' были заполнены 0 (скорее всего, было без балконов, просто не указали это). Пустые значения столбца 'ceiling_height' были заполнены медианным значением по всем высотам потолка, при этом в этом столбце имелись значения меньше 2 метров, что странно, поскольку это слишком маленькая высота, или же огромные (100 метров), что тоже странно. Пустые значения столбцов 'living_area' и 'kitchen_area' были заполнены с помощью среднего процента от общей площади, также в этих столбцах есть очень маленькие значения, скорее всего это ошибка, а возможно пространство не для квартиры. Пустые значения столбца 'is_apartment' были заполнены значением False, поскольку этот столбец скорее всего появился недавно (в нём было очень мало строк). Остальные строки не были заполнены, поскольку неизвестно, чем их заполнять (0, среднее или медиана не подойдут). Скорее всего, это ошибка в картографических данных, или же просто не указана информация (хотя это тоже странно, ведь в названии мест проживания тоже есть пропуски). В комнатах есть значение 0, что скорее всего означает то, что их нет, или что комната всего 1 (тогда стоит более детально узнать, что понимается по 0 комнат, а что под 1). В целов с остальном с данными всё в порядке, названия столбцов указаны корректно. "
   ]
  },
  {
   "cell_type": "markdown",
   "metadata": {},
   "source": [
    "## Расчёты и добавление результатов в таблицу"
   ]
  },
  {
   "cell_type": "markdown",
   "metadata": {},
   "source": [
    "Посчитаем и добавим в таблицу\n",
    "цену квадратного метра;\n",
    "день недели, месяц и год публикации объявления;\n",
    "этаж квартиры; варианты — первый, последний, другой;\n",
    "соотношение жилой и общей площади, а также отношение площади кухни к общей."
   ]
  },
  {
   "cell_type": "code",
   "execution_count": 34,
   "metadata": {},
   "outputs": [],
   "source": [
    "#Посчитаем цену квадратного метра\n",
    "df['price_per_square_meter'] = (df['last_price'] / df['total_area']).astype('int')"
   ]
  },
  {
   "cell_type": "code",
   "execution_count": 35,
   "metadata": {},
   "outputs": [],
   "source": [
    "#Выберем из даты день недели\n",
    "df['weekday'] = df['first_day_exposition'].dt.weekday"
   ]
  },
  {
   "cell_type": "code",
   "execution_count": 36,
   "metadata": {},
   "outputs": [],
   "source": [
    "#Выберем из даты месяц\n",
    "df['month'] = df['first_day_exposition'].dt.month"
   ]
  },
  {
   "cell_type": "code",
   "execution_count": 37,
   "metadata": {},
   "outputs": [],
   "source": [
    "#Выберем из даты год\n",
    "df['year'] = df['first_day_exposition'].dt.year"
   ]
  },
  {
   "cell_type": "code",
   "execution_count": 38,
   "metadata": {},
   "outputs": [],
   "source": [
    "#Напишем функцию, которая будет категоризировать этажи в зависимости от положения (первый. другой, последний)\n",
    "def floor_category(row):\n",
    "    floor = row['floor']\n",
    "    floors_total = row['floors_total']\n",
    "    if floor == 1:\n",
    "        return 'первый'\n",
    "    if floor == floors_total:\n",
    "        return 'последний'\n",
    "    return 'другой'"
   ]
  },
  {
   "cell_type": "code",
   "execution_count": 39,
   "metadata": {},
   "outputs": [],
   "source": [
    "#Применим функцию к новому столбцу 'floor_category'\n",
    "df['floor_category'] = df.apply(floor_category, axis=1)"
   ]
  },
  {
   "cell_type": "code",
   "execution_count": 40,
   "metadata": {},
   "outputs": [],
   "source": [
    "#Посчитаем доли жилой площади к общей\n",
    "df['living_area_ratio'] = round((df['living_area'] / df['total_area']), 2)"
   ]
  },
  {
   "cell_type": "code",
   "execution_count": 41,
   "metadata": {},
   "outputs": [],
   "source": [
    "#Посчитаем доли площади кухни к общей\n",
    "df['kitchen_area_ratio'] = round((df['kitchen_area'] / df['total_area']), 2)"
   ]
  },
  {
   "cell_type": "code",
   "execution_count": 42,
   "metadata": {},
   "outputs": [
    {
     "data": {
      "text/html": [
       "<div>\n",
       "<style scoped>\n",
       "    .dataframe tbody tr th:only-of-type {\n",
       "        vertical-align: middle;\n",
       "    }\n",
       "\n",
       "    .dataframe tbody tr th {\n",
       "        vertical-align: top;\n",
       "    }\n",
       "\n",
       "    .dataframe thead th {\n",
       "        text-align: right;\n",
       "    }\n",
       "</style>\n",
       "<table border=\"1\" class=\"dataframe\">\n",
       "  <thead>\n",
       "    <tr style=\"text-align: right;\">\n",
       "      <th></th>\n",
       "      <th>total_images</th>\n",
       "      <th>last_price</th>\n",
       "      <th>total_area</th>\n",
       "      <th>first_day_exposition</th>\n",
       "      <th>rooms</th>\n",
       "      <th>ceiling_height</th>\n",
       "      <th>floors_total</th>\n",
       "      <th>living_area</th>\n",
       "      <th>floor</th>\n",
       "      <th>is_apartment</th>\n",
       "      <th>...</th>\n",
       "      <th>ponds_around3000</th>\n",
       "      <th>ponds_nearest</th>\n",
       "      <th>days_exposition</th>\n",
       "      <th>price_per_square_meter</th>\n",
       "      <th>weekday</th>\n",
       "      <th>month</th>\n",
       "      <th>year</th>\n",
       "      <th>floor_category</th>\n",
       "      <th>living_area_ratio</th>\n",
       "      <th>kitchen_area_ratio</th>\n",
       "    </tr>\n",
       "  </thead>\n",
       "  <tbody>\n",
       "    <tr>\n",
       "      <th>0</th>\n",
       "      <td>20</td>\n",
       "      <td>13000000</td>\n",
       "      <td>108.00</td>\n",
       "      <td>2019-03-07</td>\n",
       "      <td>3</td>\n",
       "      <td>2.70</td>\n",
       "      <td>16.0</td>\n",
       "      <td>51.000</td>\n",
       "      <td>8</td>\n",
       "      <td>False</td>\n",
       "      <td>...</td>\n",
       "      <td>2.0</td>\n",
       "      <td>755.0</td>\n",
       "      <td>NaN</td>\n",
       "      <td>120370</td>\n",
       "      <td>3</td>\n",
       "      <td>3</td>\n",
       "      <td>2019</td>\n",
       "      <td>другой</td>\n",
       "      <td>0.47</td>\n",
       "      <td>0.23</td>\n",
       "    </tr>\n",
       "    <tr>\n",
       "      <th>1</th>\n",
       "      <td>7</td>\n",
       "      <td>3350000</td>\n",
       "      <td>40.40</td>\n",
       "      <td>2018-12-04</td>\n",
       "      <td>1</td>\n",
       "      <td>2.65</td>\n",
       "      <td>11.0</td>\n",
       "      <td>18.600</td>\n",
       "      <td>1</td>\n",
       "      <td>False</td>\n",
       "      <td>...</td>\n",
       "      <td>0.0</td>\n",
       "      <td>NaN</td>\n",
       "      <td>81.0</td>\n",
       "      <td>82920</td>\n",
       "      <td>1</td>\n",
       "      <td>12</td>\n",
       "      <td>2018</td>\n",
       "      <td>первый</td>\n",
       "      <td>0.46</td>\n",
       "      <td>0.27</td>\n",
       "    </tr>\n",
       "    <tr>\n",
       "      <th>2</th>\n",
       "      <td>10</td>\n",
       "      <td>5196000</td>\n",
       "      <td>56.00</td>\n",
       "      <td>2015-08-20</td>\n",
       "      <td>2</td>\n",
       "      <td>2.65</td>\n",
       "      <td>5.0</td>\n",
       "      <td>34.300</td>\n",
       "      <td>4</td>\n",
       "      <td>False</td>\n",
       "      <td>...</td>\n",
       "      <td>2.0</td>\n",
       "      <td>574.0</td>\n",
       "      <td>558.0</td>\n",
       "      <td>92785</td>\n",
       "      <td>3</td>\n",
       "      <td>8</td>\n",
       "      <td>2015</td>\n",
       "      <td>другой</td>\n",
       "      <td>0.61</td>\n",
       "      <td>0.15</td>\n",
       "    </tr>\n",
       "    <tr>\n",
       "      <th>3</th>\n",
       "      <td>0</td>\n",
       "      <td>64900000</td>\n",
       "      <td>159.00</td>\n",
       "      <td>2015-07-24</td>\n",
       "      <td>3</td>\n",
       "      <td>2.65</td>\n",
       "      <td>14.0</td>\n",
       "      <td>89.835</td>\n",
       "      <td>9</td>\n",
       "      <td>False</td>\n",
       "      <td>...</td>\n",
       "      <td>3.0</td>\n",
       "      <td>234.0</td>\n",
       "      <td>424.0</td>\n",
       "      <td>408176</td>\n",
       "      <td>4</td>\n",
       "      <td>7</td>\n",
       "      <td>2015</td>\n",
       "      <td>другой</td>\n",
       "      <td>0.56</td>\n",
       "      <td>0.19</td>\n",
       "    </tr>\n",
       "    <tr>\n",
       "      <th>4</th>\n",
       "      <td>2</td>\n",
       "      <td>10000000</td>\n",
       "      <td>100.00</td>\n",
       "      <td>2018-06-19</td>\n",
       "      <td>2</td>\n",
       "      <td>3.03</td>\n",
       "      <td>14.0</td>\n",
       "      <td>32.000</td>\n",
       "      <td>13</td>\n",
       "      <td>False</td>\n",
       "      <td>...</td>\n",
       "      <td>1.0</td>\n",
       "      <td>48.0</td>\n",
       "      <td>121.0</td>\n",
       "      <td>100000</td>\n",
       "      <td>1</td>\n",
       "      <td>6</td>\n",
       "      <td>2018</td>\n",
       "      <td>другой</td>\n",
       "      <td>0.32</td>\n",
       "      <td>0.41</td>\n",
       "    </tr>\n",
       "    <tr>\n",
       "      <th>5</th>\n",
       "      <td>10</td>\n",
       "      <td>2890000</td>\n",
       "      <td>30.40</td>\n",
       "      <td>2018-09-10</td>\n",
       "      <td>1</td>\n",
       "      <td>2.65</td>\n",
       "      <td>12.0</td>\n",
       "      <td>14.400</td>\n",
       "      <td>5</td>\n",
       "      <td>False</td>\n",
       "      <td>...</td>\n",
       "      <td>NaN</td>\n",
       "      <td>NaN</td>\n",
       "      <td>55.0</td>\n",
       "      <td>95065</td>\n",
       "      <td>0</td>\n",
       "      <td>9</td>\n",
       "      <td>2018</td>\n",
       "      <td>другой</td>\n",
       "      <td>0.47</td>\n",
       "      <td>0.30</td>\n",
       "    </tr>\n",
       "    <tr>\n",
       "      <th>6</th>\n",
       "      <td>6</td>\n",
       "      <td>3700000</td>\n",
       "      <td>37.30</td>\n",
       "      <td>2017-11-02</td>\n",
       "      <td>1</td>\n",
       "      <td>2.65</td>\n",
       "      <td>26.0</td>\n",
       "      <td>10.600</td>\n",
       "      <td>6</td>\n",
       "      <td>False</td>\n",
       "      <td>...</td>\n",
       "      <td>0.0</td>\n",
       "      <td>NaN</td>\n",
       "      <td>155.0</td>\n",
       "      <td>99195</td>\n",
       "      <td>3</td>\n",
       "      <td>11</td>\n",
       "      <td>2017</td>\n",
       "      <td>другой</td>\n",
       "      <td>0.28</td>\n",
       "      <td>0.39</td>\n",
       "    </tr>\n",
       "    <tr>\n",
       "      <th>7</th>\n",
       "      <td>5</td>\n",
       "      <td>7915000</td>\n",
       "      <td>71.60</td>\n",
       "      <td>2019-04-18</td>\n",
       "      <td>2</td>\n",
       "      <td>2.65</td>\n",
       "      <td>24.0</td>\n",
       "      <td>40.454</td>\n",
       "      <td>22</td>\n",
       "      <td>False</td>\n",
       "      <td>...</td>\n",
       "      <td>0.0</td>\n",
       "      <td>NaN</td>\n",
       "      <td>NaN</td>\n",
       "      <td>110544</td>\n",
       "      <td>3</td>\n",
       "      <td>4</td>\n",
       "      <td>2019</td>\n",
       "      <td>другой</td>\n",
       "      <td>0.56</td>\n",
       "      <td>0.26</td>\n",
       "    </tr>\n",
       "    <tr>\n",
       "      <th>8</th>\n",
       "      <td>20</td>\n",
       "      <td>2900000</td>\n",
       "      <td>33.16</td>\n",
       "      <td>2018-05-23</td>\n",
       "      <td>1</td>\n",
       "      <td>2.65</td>\n",
       "      <td>27.0</td>\n",
       "      <td>15.430</td>\n",
       "      <td>26</td>\n",
       "      <td>False</td>\n",
       "      <td>...</td>\n",
       "      <td>NaN</td>\n",
       "      <td>NaN</td>\n",
       "      <td>189.0</td>\n",
       "      <td>87454</td>\n",
       "      <td>2</td>\n",
       "      <td>5</td>\n",
       "      <td>2018</td>\n",
       "      <td>другой</td>\n",
       "      <td>0.47</td>\n",
       "      <td>0.27</td>\n",
       "    </tr>\n",
       "    <tr>\n",
       "      <th>9</th>\n",
       "      <td>18</td>\n",
       "      <td>5400000</td>\n",
       "      <td>61.00</td>\n",
       "      <td>2017-02-26</td>\n",
       "      <td>3</td>\n",
       "      <td>2.50</td>\n",
       "      <td>9.0</td>\n",
       "      <td>43.600</td>\n",
       "      <td>7</td>\n",
       "      <td>False</td>\n",
       "      <td>...</td>\n",
       "      <td>0.0</td>\n",
       "      <td>NaN</td>\n",
       "      <td>289.0</td>\n",
       "      <td>88524</td>\n",
       "      <td>6</td>\n",
       "      <td>2</td>\n",
       "      <td>2017</td>\n",
       "      <td>другой</td>\n",
       "      <td>0.71</td>\n",
       "      <td>0.11</td>\n",
       "    </tr>\n",
       "  </tbody>\n",
       "</table>\n",
       "<p>10 rows × 29 columns</p>\n",
       "</div>"
      ],
      "text/plain": [
       "   total_images  last_price  total_area first_day_exposition  rooms  \\\n",
       "0            20    13000000      108.00           2019-03-07      3   \n",
       "1             7     3350000       40.40           2018-12-04      1   \n",
       "2            10     5196000       56.00           2015-08-20      2   \n",
       "3             0    64900000      159.00           2015-07-24      3   \n",
       "4             2    10000000      100.00           2018-06-19      2   \n",
       "5            10     2890000       30.40           2018-09-10      1   \n",
       "6             6     3700000       37.30           2017-11-02      1   \n",
       "7             5     7915000       71.60           2019-04-18      2   \n",
       "8            20     2900000       33.16           2018-05-23      1   \n",
       "9            18     5400000       61.00           2017-02-26      3   \n",
       "\n",
       "   ceiling_height  floors_total  living_area  floor  is_apartment  ...  \\\n",
       "0            2.70          16.0       51.000      8         False  ...   \n",
       "1            2.65          11.0       18.600      1         False  ...   \n",
       "2            2.65           5.0       34.300      4         False  ...   \n",
       "3            2.65          14.0       89.835      9         False  ...   \n",
       "4            3.03          14.0       32.000     13         False  ...   \n",
       "5            2.65          12.0       14.400      5         False  ...   \n",
       "6            2.65          26.0       10.600      6         False  ...   \n",
       "7            2.65          24.0       40.454     22         False  ...   \n",
       "8            2.65          27.0       15.430     26         False  ...   \n",
       "9            2.50           9.0       43.600      7         False  ...   \n",
       "\n",
       "   ponds_around3000  ponds_nearest  days_exposition  price_per_square_meter  \\\n",
       "0               2.0          755.0              NaN                  120370   \n",
       "1               0.0            NaN             81.0                   82920   \n",
       "2               2.0          574.0            558.0                   92785   \n",
       "3               3.0          234.0            424.0                  408176   \n",
       "4               1.0           48.0            121.0                  100000   \n",
       "5               NaN            NaN             55.0                   95065   \n",
       "6               0.0            NaN            155.0                   99195   \n",
       "7               0.0            NaN              NaN                  110544   \n",
       "8               NaN            NaN            189.0                   87454   \n",
       "9               0.0            NaN            289.0                   88524   \n",
       "\n",
       "  weekday  month  year  floor_category  living_area_ratio  kitchen_area_ratio  \n",
       "0       3      3  2019          другой               0.47                0.23  \n",
       "1       1     12  2018          первый               0.46                0.27  \n",
       "2       3      8  2015          другой               0.61                0.15  \n",
       "3       4      7  2015          другой               0.56                0.19  \n",
       "4       1      6  2018          другой               0.32                0.41  \n",
       "5       0      9  2018          другой               0.47                0.30  \n",
       "6       3     11  2017          другой               0.28                0.39  \n",
       "7       3      4  2019          другой               0.56                0.26  \n",
       "8       2      5  2018          другой               0.47                0.27  \n",
       "9       6      2  2017          другой               0.71                0.11  \n",
       "\n",
       "[10 rows x 29 columns]"
      ]
     },
     "execution_count": 42,
     "metadata": {},
     "output_type": "execute_result"
    }
   ],
   "source": [
    "#Выведем первые 10 строк для просмотра\n",
    "df.head(10)"
   ]
  },
  {
   "cell_type": "markdown",
   "metadata": {},
   "source": [
    "### Вывод"
   ]
  },
  {
   "cell_type": "markdown",
   "metadata": {},
   "source": [
    "Были посчитаны: цена квадратного метра; день недели, месяц и год публикации объявления; этаж квартиры (варианты — первый, последний, другой); соотношение жилой и общей площади, отношение площади кухни к общей. Разбивка по категориям в некоторых случаях неприминима, поскольку там, где были пустые значения в этажах, она может записать, что это 'первый' или 'другой' этаж, неизвестно, сколько всего этажей в здании и является ли помещение на данном этаже последним. Что касается долей, то они тоже могут быть не везде точными, поскольку пропуски мы заполняли с помощью среднего процента от всех общих площадей."
   ]
  },
  {
   "cell_type": "markdown",
   "metadata": {},
   "source": [
    "## Исследовательский анализ данных"
   ]
  },
  {
   "cell_type": "markdown",
   "metadata": {},
   "source": [
    "Изучим следующие параметры: площадь, цена, число комнат, высота потолков. Построим гистограммы для каждого параметра."
   ]
  },
  {
   "cell_type": "code",
   "execution_count": 43,
   "metadata": {},
   "outputs": [
    {
     "data": {
      "text/plain": [
       "<AxesSubplot:>"
      ]
     },
     "execution_count": 43,
     "metadata": {},
     "output_type": "execute_result"
    },
    {
     "data": {
      "image/png": "[encoded data removed]",
      "text/plain": [
       "<Figure size 432x288 with 1 Axes>"
      ]
     },
     "metadata": {
      "needs_background": "light"
     },
     "output_type": "display_data"
    }
   ],
   "source": [
    "#Построим гистограмму для общей площади\n",
    "df['total_area'].hist(bins=100)"
   ]
  },
  {
   "cell_type": "code",
   "execution_count": 44,
   "metadata": {},
   "outputs": [
    {
     "data": {
      "text/plain": [
       "<AxesSubplot:>"
      ]
     },
     "execution_count": 44,
     "metadata": {},
     "output_type": "execute_result"
    },
    {
     "data": {
      "image/png": "[encoded data removed]",
      "text/plain": [
       "<Figure size 432x288 with 1 Axes>"
      ]
     },
     "metadata": {
      "needs_background": "light"
     },
     "output_type": "display_data"
    }
   ],
   "source": [
    "#Посмотрим первые 200 значений по оси y для более детальной картины\n",
    "df['total_area'].hist(bins=100, range=(0, 200))"
   ]
  },
  {
   "cell_type": "code",
   "execution_count": 45,
   "metadata": {},
   "outputs": [
    {
     "data": {
      "text/plain": [
       "<AxesSubplot:>"
      ]
     },
     "execution_count": 45,
     "metadata": {},
     "output_type": "execute_result"
    },
    {
     "data": {
      "image/png": "[encoded data removed]",
      "text/plain": [
       "<Figure size 432x288 with 1 Axes>"
      ]
     },
     "metadata": {
      "needs_background": "light"
     },
     "output_type": "display_data"
    }
   ],
   "source": [
    "#Построим гистограмму для цены\n",
    "df['last_price'].hist(bins=100)"
   ]
  },
  {
   "cell_type": "code",
   "execution_count": 46,
   "metadata": {},
   "outputs": [
    {
     "data": {
      "text/plain": [
       "<AxesSubplot:>"
      ]
     },
     "execution_count": 46,
     "metadata": {},
     "output_type": "execute_result"
    },
    {
     "data": {
      "image/png": "[encoded data removed]",
      "text/plain": [
       "<Figure size 432x288 with 1 Axes>"
      ]
     },
     "metadata": {
      "needs_background": "light"
     },
     "output_type": "display_data"
    }
   ],
   "source": [
    "#Посмотрим первые 10000000 значений по оси y для более детальной картины\n",
    "df['last_price'].hist(bins=100, range=(0, 10000000))"
   ]
  },
  {
   "cell_type": "code",
   "execution_count": 47,
   "metadata": {},
   "outputs": [
    {
     "data": {
      "text/plain": [
       "<AxesSubplot:>"
      ]
     },
     "execution_count": 47,
     "metadata": {},
     "output_type": "execute_result"
    },
    {
     "data": {
      "image/png": "[encoded data removed]",
      "text/plain": [
       "<Figure size 432x288 with 1 Axes>"
      ]
     },
     "metadata": {
      "needs_background": "light"
     },
     "output_type": "display_data"
    }
   ],
   "source": [
    "#Построим гистограмму для количества комнат\n",
    "df['rooms'].hist(bins=100)"
   ]
  },
  {
   "cell_type": "code",
   "execution_count": 48,
   "metadata": {},
   "outputs": [
    {
     "data": {
      "text/plain": [
       "<AxesSubplot:>"
      ]
     },
     "execution_count": 48,
     "metadata": {},
     "output_type": "execute_result"
    },
    {
     "data": {
      "image/png": "[encoded data removed]",
      "text/plain": [
       "<Figure size 432x288 with 1 Axes>"
      ]
     },
     "metadata": {
      "needs_background": "light"
     },
     "output_type": "display_data"
    }
   ],
   "source": [
    "#Построим гистограмму для высоты потолков\n",
    "df['ceiling_height'].hist(bins=100)"
   ]
  },
  {
   "cell_type": "code",
   "execution_count": 49,
   "metadata": {},
   "outputs": [
    {
     "data": {
      "text/plain": [
       "<AxesSubplot:>"
      ]
     },
     "execution_count": 49,
     "metadata": {},
     "output_type": "execute_result"
    },
    {
     "data": {
      "image/png": "[encoded data removed]",
      "text/plain": [
       "<Figure size 432x288 with 1 Axes>"
      ]
     },
     "metadata": {
      "needs_background": "light"
     },
     "output_type": "display_data"
    }
   ],
   "source": [
    "#Посмотрим первые 15 значений по оси y для более детальной картины\n",
    "df['ceiling_height'].hist(bins=100, range=(0, 5))"
   ]
  },
  {
   "cell_type": "markdown",
   "metadata": {},
   "source": [
    "### Вывод"
   ]
  },
  {
   "cell_type": "markdown",
   "metadata": {},
   "source": [
    "Были изучены следующие параметры: площадь, цена, число комнат, высота потолков и построены гистограммы для каждого параметра. В целом они более-менее похожи либо на нормальное, либо на распределение Пуассона, но в некоторых есть непонятные значения, скорее всего это выбросы (например, число комнат = 0 или низкая высота потолка, как мы могли увидеть в Предобработке данных)."
   ]
  },
  {
   "cell_type": "markdown",
   "metadata": {},
   "source": [
    "Изучим время продажи квартиры. Построим гистограмму. Посчитаем среднее и медиану. Опишем, сколько обычно занимает продажа. Когда можно считать, что продажи прошли очень быстро, а когда необычно долго?"
   ]
  },
  {
   "cell_type": "code",
   "execution_count": 50,
   "metadata": {},
   "outputs": [
    {
     "data": {
      "text/plain": [
       "<AxesSubplot:>"
      ]
     },
     "execution_count": 50,
     "metadata": {},
     "output_type": "execute_result"
    },
    {
     "data": {
      "image/png": "[encoded data removed]",
      "text/plain": [
       "<Figure size 432x288 with 1 Axes>"
      ]
     },
     "metadata": {
      "needs_background": "light"
     },
     "output_type": "display_data"
    }
   ],
   "source": [
    "#Построим гистограмму для времени продажи квартиры\n",
    "df['days_exposition'].hist(bins=100)"
   ]
  },
  {
   "cell_type": "code",
   "execution_count": 51,
   "metadata": {},
   "outputs": [
    {
     "data": {
      "text/plain": [
       "<AxesSubplot:>"
      ]
     },
     "execution_count": 51,
     "metadata": {},
     "output_type": "execute_result"
    },
    {
     "data": {
      "image/png": "[encoded data removed]",
      "text/plain": [
       "<Figure size 432x288 with 1 Axes>"
      ]
     },
     "metadata": {
      "needs_background": "light"
     },
     "output_type": "display_data"
    }
   ],
   "source": [
    "#Рассмотрим более подробно первые 200 значений на оси y\n",
    "df['days_exposition'].hist(bins=100, range=(0, 200))"
   ]
  },
  {
   "cell_type": "code",
   "execution_count": 53,
   "metadata": {},
   "outputs": [],
   "source": [
    "#Заменим все пустые значения в столбце 'days_exposition' на 0\n",
    "df['days_exposition'] = df['days_exposition'].fillna(0).astype('int')"
   ]
  },
  {
   "cell_type": "code",
   "execution_count": 54,
   "metadata": {},
   "outputs": [
    {
     "data": {
      "text/plain": [
       "{'whiskers': [<matplotlib.lines.Line2D at 0x7f02b253b790>,\n",
       "  <matplotlib.lines.Line2D at 0x7f02b253baf0>],\n",
       " 'caps': [<matplotlib.lines.Line2D at 0x7f02b253be50>,\n",
       "  <matplotlib.lines.Line2D at 0x7f02b25481f0>],\n",
       " 'boxes': [<matplotlib.lines.Line2D at 0x7f02b253b430>],\n",
       " 'medians': [<matplotlib.lines.Line2D at 0x7f02b2548550>],\n",
       " 'fliers': [<matplotlib.lines.Line2D at 0x7f02b25488b0>],\n",
       " 'means': []}"
      ]
     },
     "execution_count": 54,
     "metadata": {},
     "output_type": "execute_result"
    },
    {
     "data": {
      "image/png": "[encoded data removed]",
      "text/plain": [
       "<Figure size 432x288 with 1 Axes>"
      ]
     },
     "metadata": {
      "needs_background": "light"
     },
     "output_type": "display_data"
    }
   ],
   "source": [
    "#Построим диаграмму размаха для определения быстрых и долгих продаж\n",
    "plt.boxplot(df['days_exposition'])"
   ]
  },
  {
   "cell_type": "code",
   "execution_count": 55,
   "metadata": {},
   "outputs": [
    {
     "data": {
      "text/plain": [
       "count    23699.000000\n",
       "mean       156.608844\n",
       "std        213.546873\n",
       "min          0.000000\n",
       "25%         22.000000\n",
       "50%         74.000000\n",
       "75%        199.000000\n",
       "max       1580.000000\n",
       "Name: days_exposition, dtype: float64"
      ]
     },
     "execution_count": 55,
     "metadata": {},
     "output_type": "execute_result"
    }
   ],
   "source": [
    "#Рассмотрим значения более подробно\n",
    "df['days_exposition'].describe()"
   ]
  },
  {
   "cell_type": "code",
   "execution_count": 56,
   "metadata": {},
   "outputs": [
    {
     "data": {
      "text/plain": [
       "0       3181\n",
       "45       880\n",
       "60       538\n",
       "7        234\n",
       "30       208\n",
       "        ... \n",
       "1112       1\n",
       "1080       1\n",
       "1064       1\n",
       "1032       1\n",
       "1391       1\n",
       "Name: days_exposition, Length: 1142, dtype: int64"
      ]
     },
     "execution_count": 56,
     "metadata": {},
     "output_type": "execute_result"
    }
   ],
   "source": [
    "#Посмотрим самые выделяющиеся значения на гистограмме\n",
    "df['days_exposition'].value_counts()"
   ]
  },
  {
   "cell_type": "markdown",
   "metadata": {},
   "source": [
    "### Вывод"
   ]
  },
  {
   "cell_type": "markdown",
   "metadata": {},
   "source": [
    "Гистограмма по времени продажи показала, что есть выбиающиеся значения: 45, 60, 7, 30, 90. По сути - это все значения сроков публикации на Яндекс.Недвижимость (https://yandex.ru/support/realty/owner/home/add-ads-housing.html), но стоит это внимательно рассмотреть, поскольку некоторые помещения могли продаться именно в эти дни. Среднее значение продажи = 181 день, а медиана = 95 дней, что почти в 2 раза меньше. По диаграмме размаха можно сказать, что нормальным временем продажи квартиры является период с 1 по ~500 дней. Сама гистограмма похожа на распределение Пуассона."
   ]
  },
  {
   "cell_type": "markdown",
   "metadata": {},
   "source": [
    "Уберём редкие и выбивающиеся значения. Опишем, какие особенности обнаружили."
   ]
  },
  {
   "cell_type": "code",
   "execution_count": 57,
   "metadata": {},
   "outputs": [],
   "source": [
    "#Теперь выберем данные, в которых не будет выбивающихся значений, как в прошлой гистограмме и добавим к ним 0\n",
    "#Используем функцию query()\n",
    "good_data = df.query('days_exposition not in (0, 7, 30, 45, 60, 90)')"
   ]
  },
  {
   "cell_type": "code",
   "execution_count": 58,
   "metadata": {},
   "outputs": [
    {
     "data": {
      "text/plain": [
       "<AxesSubplot:>"
      ]
     },
     "execution_count": 58,
     "metadata": {},
     "output_type": "execute_result"
    },
    {
     "data": {
      "image/png": "[encoded data removed]",
      "text/plain": [
       "<Figure size 432x288 with 1 Axes>"
      ]
     },
     "metadata": {
      "needs_background": "light"
     },
     "output_type": "display_data"
    }
   ],
   "source": [
    "#Теперь построим 'отфильтрованную' гистограмму\n",
    "good_data['days_exposition'].hist(bins=100, range=(0,200))             "
   ]
  },
  {
   "cell_type": "code",
   "execution_count": 59,
   "metadata": {},
   "outputs": [
    {
     "data": {
      "text/plain": [
       "4       176\n",
       "3       158\n",
       "5       152\n",
       "14      148\n",
       "9       143\n",
       "       ... \n",
       "1112      1\n",
       "1080      1\n",
       "1064      1\n",
       "1032      1\n",
       "1391      1\n",
       "Name: days_exposition, Length: 1136, dtype: int64"
      ]
     },
     "execution_count": 59,
     "metadata": {},
     "output_type": "execute_result"
    }
   ],
   "source": [
    "#Проверим значения для 'отфильтрованных' данных\n",
    "good_data['days_exposition'].value_counts()"
   ]
  },
  {
   "cell_type": "code",
   "execution_count": 60,
   "metadata": {},
   "outputs": [
    {
     "data": {
      "text/plain": [
       "{'whiskers': [<matplotlib.lines.Line2D at 0x7f02b2336610>,\n",
       "  <matplotlib.lines.Line2D at 0x7f02b2336970>],\n",
       " 'caps': [<matplotlib.lines.Line2D at 0x7f02b2336cd0>,\n",
       "  <matplotlib.lines.Line2D at 0x7f02b2343070>],\n",
       " 'boxes': [<matplotlib.lines.Line2D at 0x7f02b23362b0>],\n",
       " 'medians': [<matplotlib.lines.Line2D at 0x7f02b23433d0>],\n",
       " 'fliers': [<matplotlib.lines.Line2D at 0x7f02b2343730>],\n",
       " 'means': []}"
      ]
     },
     "execution_count": 60,
     "metadata": {},
     "output_type": "execute_result"
    },
    {
     "data": {
      "image/png": "[encoded data removed]",
      "text/plain": [
       "<Figure size 432x288 with 1 Axes>"
      ]
     },
     "metadata": {
      "needs_background": "light"
     },
     "output_type": "display_data"
    }
   ],
   "source": [
    "#Построим диаграмму рассеяния для 'отфильтрованных' данных\n",
    "plt.boxplot(good_data['days_exposition'])"
   ]
  },
  {
   "cell_type": "code",
   "execution_count": 61,
   "metadata": {},
   "outputs": [
    {
     "data": {
      "text/plain": [
       "count    18454.000000\n",
       "mean       195.803349\n",
       "std        226.760010\n",
       "min          1.000000\n",
       "25%         44.000000\n",
       "50%        114.000000\n",
       "75%        259.000000\n",
       "max       1580.000000\n",
       "Name: days_exposition, dtype: float64"
      ]
     },
     "execution_count": 61,
     "metadata": {},
     "output_type": "execute_result"
    }
   ],
   "source": [
    "#Проверим теперь среднее значение и медиану\n",
    "good_data['days_exposition'].describe()"
   ]
  },
  {
   "cell_type": "markdown",
   "metadata": {},
   "source": [
    "### Вывод"
   ]
  },
  {
   "cell_type": "markdown",
   "metadata": {},
   "source": [
    "Был создан новый датафрейм, из которого убрались выбивающиеся значения  7, 30, 45, 60, 90 и 0. Теперь диаграмма похожа на распределения Пуассона. Теперь среднее = 196, медиана = 114 (такой разбор скорее всего из-за наличия некоторых крупных выбросов). С 'отфильтрованными' данными теперь нормально время продажи - от 1 до ~600 дней, остальные значения являются выбросами."
   ]
  },
  {
   "cell_type": "markdown",
   "metadata": {},
   "source": [
    "Какие факторы больше всего влияют на стоимость квартиры? Изучим, зависит ли цена от площади, числа комнат, удалённости от центра. Изучим зависимость цены от того, на каком этаже расположена квартира: первом, последнем или другом. Также изучим зависимость от даты размещения: дня недели, месяца и года."
   ]
  },
  {
   "cell_type": "code",
   "execution_count": 62,
   "metadata": {},
   "outputs": [
    {
     "data": {
      "text/plain": [
       "0.65"
      ]
     },
     "execution_count": 62,
     "metadata": {},
     "output_type": "execute_result"
    }
   ],
   "source": [
    "#Найдём коэффициент корреляции общей площади к цене и округлим его до 2 знаков после запятой\n",
    "round(df['total_area'].corr(df['last_price']), 2)"
   ]
  },
  {
   "cell_type": "code",
   "execution_count": 63,
   "metadata": {},
   "outputs": [
    {
     "data": {
      "text/plain": [
       "0.36"
      ]
     },
     "execution_count": 63,
     "metadata": {},
     "output_type": "execute_result"
    }
   ],
   "source": [
    "#Найдём коэффициент корреляции количества комнат к цене и округлим его до 2 знаков после запятой\n",
    "round(df['rooms'].corr(df['last_price']), 2)"
   ]
  },
  {
   "cell_type": "code",
   "execution_count": 64,
   "metadata": {},
   "outputs": [
    {
     "data": {
      "text/plain": [
       "-0.21"
      ]
     },
     "execution_count": 64,
     "metadata": {},
     "output_type": "execute_result"
    }
   ],
   "source": [
    "#Найдём коэффициент корреляции расстояния до центра к цене и округлим его до 2 знаков после запятой\n",
    "round(df['cityCenters_nearest'].corr(df['last_price']), 2)"
   ]
  },
  {
   "cell_type": "code",
   "execution_count": 65,
   "metadata": {},
   "outputs": [
    {
     "data": {
      "text/html": [
       "<div>\n",
       "<style scoped>\n",
       "    .dataframe tbody tr th:only-of-type {\n",
       "        vertical-align: middle;\n",
       "    }\n",
       "\n",
       "    .dataframe tbody tr th {\n",
       "        vertical-align: top;\n",
       "    }\n",
       "\n",
       "    .dataframe thead tr th {\n",
       "        text-align: left;\n",
       "    }\n",
       "\n",
       "    .dataframe thead tr:last-of-type th {\n",
       "        text-align: right;\n",
       "    }\n",
       "</style>\n",
       "<table border=\"1\" class=\"dataframe\">\n",
       "  <thead>\n",
       "    <tr>\n",
       "      <th></th>\n",
       "      <th>mean</th>\n",
       "      <th>median</th>\n",
       "      <th>count</th>\n",
       "    </tr>\n",
       "    <tr>\n",
       "      <th></th>\n",
       "      <th>last_price</th>\n",
       "      <th>last_price</th>\n",
       "      <th>last_price</th>\n",
       "    </tr>\n",
       "    <tr>\n",
       "      <th>floor_category</th>\n",
       "      <th></th>\n",
       "      <th></th>\n",
       "      <th></th>\n",
       "    </tr>\n",
       "  </thead>\n",
       "  <tbody>\n",
       "    <tr>\n",
       "      <th>другой</th>\n",
       "      <td>6.675444e+06</td>\n",
       "      <td>4850000</td>\n",
       "      <td>17446</td>\n",
       "    </tr>\n",
       "    <tr>\n",
       "      <th>первый</th>\n",
       "      <td>4.803560e+06</td>\n",
       "      <td>3900000</td>\n",
       "      <td>2917</td>\n",
       "    </tr>\n",
       "    <tr>\n",
       "      <th>последний</th>\n",
       "      <td>7.361025e+06</td>\n",
       "      <td>4300000</td>\n",
       "      <td>3336</td>\n",
       "    </tr>\n",
       "  </tbody>\n",
       "</table>\n",
       "</div>"
      ],
      "text/plain": [
       "                        mean     median      count\n",
       "                  last_price last_price last_price\n",
       "floor_category                                    \n",
       "другой          6.675444e+06    4850000      17446\n",
       "первый          4.803560e+06    3900000       2917\n",
       "последний       7.361025e+06    4300000       3336"
      ]
     },
     "execution_count": 65,
     "metadata": {},
     "output_type": "execute_result"
    },
    {
     "data": {
      "image/png": "[encoded data removed]",
      "text/plain": [
       "<Figure size 432x288 with 1 Axes>"
      ]
     },
     "metadata": {
      "needs_background": "light"
     },
     "output_type": "display_data"
    }
   ],
   "source": [
    "#Сделаем сводную таблицу и построим график зависимости цены от категории этажа\n",
    "floor_pivot_table = df.pivot_table(index='floor_category', values='last_price', aggfunc=['mean', 'median', 'count'])\n",
    "floor_pivot_table.plot(y='median')\n",
    "floor_pivot_table"
   ]
  },
  {
   "cell_type": "code",
   "execution_count": 66,
   "metadata": {},
   "outputs": [
    {
     "data": {
      "text/plain": [
       "0.03"
      ]
     },
     "execution_count": 66,
     "metadata": {},
     "output_type": "execute_result"
    }
   ],
   "source": [
    "#Ешё можно посмотреть коэффициент корреляции этажа от цены\n",
    "round(df['floor'].corr(df['last_price']), 2)"
   ]
  },
  {
   "cell_type": "code",
   "execution_count": 67,
   "metadata": {},
   "outputs": [
    {
     "data": {
      "text/html": [
       "<div>\n",
       "<style scoped>\n",
       "    .dataframe tbody tr th:only-of-type {\n",
       "        vertical-align: middle;\n",
       "    }\n",
       "\n",
       "    .dataframe tbody tr th {\n",
       "        vertical-align: top;\n",
       "    }\n",
       "\n",
       "    .dataframe thead tr th {\n",
       "        text-align: left;\n",
       "    }\n",
       "\n",
       "    .dataframe thead tr:last-of-type th {\n",
       "        text-align: right;\n",
       "    }\n",
       "</style>\n",
       "<table border=\"1\" class=\"dataframe\">\n",
       "  <thead>\n",
       "    <tr>\n",
       "      <th></th>\n",
       "      <th>mean</th>\n",
       "      <th>median</th>\n",
       "      <th>count</th>\n",
       "    </tr>\n",
       "    <tr>\n",
       "      <th></th>\n",
       "      <th>last_price</th>\n",
       "      <th>last_price</th>\n",
       "      <th>last_price</th>\n",
       "    </tr>\n",
       "    <tr>\n",
       "      <th>weekday</th>\n",
       "      <th></th>\n",
       "      <th></th>\n",
       "      <th></th>\n",
       "    </tr>\n",
       "  </thead>\n",
       "  <tbody>\n",
       "    <tr>\n",
       "      <th>0</th>\n",
       "      <td>6.511613e+06</td>\n",
       "      <td>4650000</td>\n",
       "      <td>3612</td>\n",
       "    </tr>\n",
       "    <tr>\n",
       "      <th>1</th>\n",
       "      <td>6.394233e+06</td>\n",
       "      <td>4730000</td>\n",
       "      <td>4183</td>\n",
       "    </tr>\n",
       "    <tr>\n",
       "      <th>2</th>\n",
       "      <td>6.627970e+06</td>\n",
       "      <td>4700000</td>\n",
       "      <td>3974</td>\n",
       "    </tr>\n",
       "    <tr>\n",
       "      <th>3</th>\n",
       "      <td>6.708663e+06</td>\n",
       "      <td>4650000</td>\n",
       "      <td>4295</td>\n",
       "    </tr>\n",
       "    <tr>\n",
       "      <th>4</th>\n",
       "      <td>6.372131e+06</td>\n",
       "      <td>4585000</td>\n",
       "      <td>4000</td>\n",
       "    </tr>\n",
       "    <tr>\n",
       "      <th>5</th>\n",
       "      <td>6.976804e+06</td>\n",
       "      <td>4555000</td>\n",
       "      <td>1936</td>\n",
       "    </tr>\n",
       "    <tr>\n",
       "      <th>6</th>\n",
       "      <td>6.246180e+06</td>\n",
       "      <td>4550000</td>\n",
       "      <td>1699</td>\n",
       "    </tr>\n",
       "  </tbody>\n",
       "</table>\n",
       "</div>"
      ],
      "text/plain": [
       "                 mean     median      count\n",
       "           last_price last_price last_price\n",
       "weekday                                    \n",
       "0        6.511613e+06    4650000       3612\n",
       "1        6.394233e+06    4730000       4183\n",
       "2        6.627970e+06    4700000       3974\n",
       "3        6.708663e+06    4650000       4295\n",
       "4        6.372131e+06    4585000       4000\n",
       "5        6.976804e+06    4555000       1936\n",
       "6        6.246180e+06    4550000       1699"
      ]
     },
     "execution_count": 67,
     "metadata": {},
     "output_type": "execute_result"
    },
    {
     "data": {
      "image/png": "[encoded data removed]",
      "text/plain": [
       "<Figure size 432x288 with 1 Axes>"
      ]
     },
     "metadata": {
      "needs_background": "light"
     },
     "output_type": "display_data"
    }
   ],
   "source": [
    "#Сделаем сводную таблицу и построим график зависимости цены от дня недели\n",
    "weekday_pivot_table = df.pivot_table(index='weekday', values='last_price', aggfunc=['mean', 'median', 'count'])\n",
    "weekday_pivot_table.plot(y='median')\n",
    "weekday_pivot_table"
   ]
  },
  {
   "cell_type": "code",
   "execution_count": 68,
   "metadata": {},
   "outputs": [
    {
     "data": {
      "text/html": [
       "<div>\n",
       "<style scoped>\n",
       "    .dataframe tbody tr th:only-of-type {\n",
       "        vertical-align: middle;\n",
       "    }\n",
       "\n",
       "    .dataframe tbody tr th {\n",
       "        vertical-align: top;\n",
       "    }\n",
       "\n",
       "    .dataframe thead tr th {\n",
       "        text-align: left;\n",
       "    }\n",
       "\n",
       "    .dataframe thead tr:last-of-type th {\n",
       "        text-align: right;\n",
       "    }\n",
       "</style>\n",
       "<table border=\"1\" class=\"dataframe\">\n",
       "  <thead>\n",
       "    <tr>\n",
       "      <th></th>\n",
       "      <th>mean</th>\n",
       "      <th>median</th>\n",
       "      <th>count</th>\n",
       "    </tr>\n",
       "    <tr>\n",
       "      <th></th>\n",
       "      <th>last_price</th>\n",
       "      <th>last_price</th>\n",
       "      <th>last_price</th>\n",
       "    </tr>\n",
       "    <tr>\n",
       "      <th>month</th>\n",
       "      <th></th>\n",
       "      <th></th>\n",
       "      <th></th>\n",
       "    </tr>\n",
       "  </thead>\n",
       "  <tbody>\n",
       "    <tr>\n",
       "      <th>1</th>\n",
       "      <td>6.668233e+06</td>\n",
       "      <td>4600000</td>\n",
       "      <td>1500</td>\n",
       "    </tr>\n",
       "    <tr>\n",
       "      <th>2</th>\n",
       "      <td>6.468500e+06</td>\n",
       "      <td>4650000</td>\n",
       "      <td>2640</td>\n",
       "    </tr>\n",
       "    <tr>\n",
       "      <th>3</th>\n",
       "      <td>6.359275e+06</td>\n",
       "      <td>4650000</td>\n",
       "      <td>2587</td>\n",
       "    </tr>\n",
       "    <tr>\n",
       "      <th>4</th>\n",
       "      <td>6.737198e+06</td>\n",
       "      <td>4800000</td>\n",
       "      <td>2379</td>\n",
       "    </tr>\n",
       "    <tr>\n",
       "      <th>5</th>\n",
       "      <td>6.600435e+06</td>\n",
       "      <td>4515000</td>\n",
       "      <td>1274</td>\n",
       "    </tr>\n",
       "    <tr>\n",
       "      <th>6</th>\n",
       "      <td>6.310269e+06</td>\n",
       "      <td>4400000</td>\n",
       "      <td>1760</td>\n",
       "    </tr>\n",
       "    <tr>\n",
       "      <th>7</th>\n",
       "      <td>6.649337e+06</td>\n",
       "      <td>4650000</td>\n",
       "      <td>1695</td>\n",
       "    </tr>\n",
       "    <tr>\n",
       "      <th>8</th>\n",
       "      <td>6.350233e+06</td>\n",
       "      <td>4570000</td>\n",
       "      <td>1744</td>\n",
       "    </tr>\n",
       "    <tr>\n",
       "      <th>9</th>\n",
       "      <td>6.825470e+06</td>\n",
       "      <td>4700000</td>\n",
       "      <td>1981</td>\n",
       "    </tr>\n",
       "    <tr>\n",
       "      <th>10</th>\n",
       "      <td>6.235013e+06</td>\n",
       "      <td>4570000</td>\n",
       "      <td>2127</td>\n",
       "    </tr>\n",
       "    <tr>\n",
       "      <th>11</th>\n",
       "      <td>6.461363e+06</td>\n",
       "      <td>4700000</td>\n",
       "      <td>2371</td>\n",
       "    </tr>\n",
       "    <tr>\n",
       "      <th>12</th>\n",
       "      <td>7.011731e+06</td>\n",
       "      <td>4700000</td>\n",
       "      <td>1641</td>\n",
       "    </tr>\n",
       "  </tbody>\n",
       "</table>\n",
       "</div>"
      ],
      "text/plain": [
       "               mean     median      count\n",
       "         last_price last_price last_price\n",
       "month                                    \n",
       "1      6.668233e+06    4600000       1500\n",
       "2      6.468500e+06    4650000       2640\n",
       "3      6.359275e+06    4650000       2587\n",
       "4      6.737198e+06    4800000       2379\n",
       "5      6.600435e+06    4515000       1274\n",
       "6      6.310269e+06    4400000       1760\n",
       "7      6.649337e+06    4650000       1695\n",
       "8      6.350233e+06    4570000       1744\n",
       "9      6.825470e+06    4700000       1981\n",
       "10     6.235013e+06    4570000       2127\n",
       "11     6.461363e+06    4700000       2371\n",
       "12     7.011731e+06    4700000       1641"
      ]
     },
     "execution_count": 68,
     "metadata": {},
     "output_type": "execute_result"
    },
    {
     "data": {
      "image/png": "[encoded data removed]",
      "text/plain": [
       "<Figure size 432x288 with 1 Axes>"
      ]
     },
     "metadata": {
      "needs_background": "light"
     },
     "output_type": "display_data"
    }
   ],
   "source": [
    "#Сделаем сводную таблицу и построим график зависимости цены от месяца\n",
    "month_pivot_table = df.pivot_table(index='month', values='last_price', aggfunc=['mean', 'median', 'count'])\n",
    "month_pivot_table.plot(y='median')\n",
    "month_pivot_table"
   ]
  },
  {
   "cell_type": "code",
   "execution_count": 69,
   "metadata": {},
   "outputs": [
    {
     "data": {
      "text/html": [
       "<div>\n",
       "<style scoped>\n",
       "    .dataframe tbody tr th:only-of-type {\n",
       "        vertical-align: middle;\n",
       "    }\n",
       "\n",
       "    .dataframe tbody tr th {\n",
       "        vertical-align: top;\n",
       "    }\n",
       "\n",
       "    .dataframe thead tr th {\n",
       "        text-align: left;\n",
       "    }\n",
       "\n",
       "    .dataframe thead tr:last-of-type th {\n",
       "        text-align: right;\n",
       "    }\n",
       "</style>\n",
       "<table border=\"1\" class=\"dataframe\">\n",
       "  <thead>\n",
       "    <tr>\n",
       "      <th></th>\n",
       "      <th>mean</th>\n",
       "      <th>median</th>\n",
       "      <th>count</th>\n",
       "    </tr>\n",
       "    <tr>\n",
       "      <th></th>\n",
       "      <th>last_price</th>\n",
       "      <th>last_price</th>\n",
       "      <th>last_price</th>\n",
       "    </tr>\n",
       "    <tr>\n",
       "      <th>year</th>\n",
       "      <th></th>\n",
       "      <th></th>\n",
       "      <th></th>\n",
       "    </tr>\n",
       "  </thead>\n",
       "  <tbody>\n",
       "    <tr>\n",
       "      <th>2014</th>\n",
       "      <td>1.208714e+07</td>\n",
       "      <td>7700000</td>\n",
       "      <td>137</td>\n",
       "    </tr>\n",
       "    <tr>\n",
       "      <th>2015</th>\n",
       "      <td>8.572833e+06</td>\n",
       "      <td>5350000</td>\n",
       "      <td>1191</td>\n",
       "    </tr>\n",
       "    <tr>\n",
       "      <th>2016</th>\n",
       "      <td>6.827912e+06</td>\n",
       "      <td>4550000</td>\n",
       "      <td>2783</td>\n",
       "    </tr>\n",
       "    <tr>\n",
       "      <th>2017</th>\n",
       "      <td>6.585729e+06</td>\n",
       "      <td>4500000</td>\n",
       "      <td>8190</td>\n",
       "    </tr>\n",
       "    <tr>\n",
       "      <th>2018</th>\n",
       "      <td>5.950966e+06</td>\n",
       "      <td>4550000</td>\n",
       "      <td>8519</td>\n",
       "    </tr>\n",
       "    <tr>\n",
       "      <th>2019</th>\n",
       "      <td>6.782388e+06</td>\n",
       "      <td>5050000</td>\n",
       "      <td>2879</td>\n",
       "    </tr>\n",
       "  </tbody>\n",
       "</table>\n",
       "</div>"
      ],
      "text/plain": [
       "              mean     median      count\n",
       "        last_price last_price last_price\n",
       "year                                    \n",
       "2014  1.208714e+07    7700000        137\n",
       "2015  8.572833e+06    5350000       1191\n",
       "2016  6.827912e+06    4550000       2783\n",
       "2017  6.585729e+06    4500000       8190\n",
       "2018  5.950966e+06    4550000       8519\n",
       "2019  6.782388e+06    5050000       2879"
      ]
     },
     "execution_count": 69,
     "metadata": {},
     "output_type": "execute_result"
    },
    {
     "data": {
      "image/png": "[encoded data removed]",
      "text/plain": [
       "<Figure size 432x288 with 1 Axes>"
      ]
     },
     "metadata": {
      "needs_background": "light"
     },
     "output_type": "display_data"
    }
   ],
   "source": [
    "#Сделаем сводную таблицу и построим график зависимости цены от года\n",
    "year_pivot_table = df.pivot_table(index='year', values='last_price', aggfunc=['mean', 'median', 'count'])\n",
    "year_pivot_table.plot(y='median')\n",
    "year_pivot_table"
   ]
  },
  {
   "cell_type": "markdown",
   "metadata": {},
   "source": [
    "### Вывод"
   ]
  },
  {
   "cell_type": "markdown",
   "metadata": {},
   "source": [
    "- коэффициент корреляции общей площади к цене = 0.65, это говорит о том, что есть зависимость площади от цены (чем больше площадь, тем больше цена), но не настолько сильная, поскольку могут быть другие факторы (например, территория, на которой расположен участок);\n",
    "- коэффициент корреляции количества комнат к цене = 0.36, это говорит о том, что есть не очень большая зависимость (скорее всего, есть другие факторы, например общая площадь);\n",
    "- коэффициент корреляции расстояния до центра к цене = -0.21, это говорит о том, что зависимости между этими 2 параметрами почти нет (скорее всего, есть другие факторы);\n",
    "- зависимость категории этажа от цены достаточно сложно понять по графику, там другие факторы (например, территория или максимальное количество этажей), при этом коэффициент корреляции этажа = 0.03, что говорит почти о полном отсутствии зависимости;\n",
    "- зависимость дня недели от цены показывает, что наиболее дорогие продажи были сделаны во вторник, низкие - выходные;\n",
    "- зависимость месяца от цены показывает, что наиболее дорогие продажи были сделаны в 4, 7, 9 месяцах, низкие - 1, 6, 8, 10;\n",
    "- зависимость цены от года показывает, что наиболее дорогие продажи были сделаны в 2014 году, в остальных годах убывает, но с 2017 по 2019 года был небольшой рост;"
   ]
  },
  {
   "cell_type": "markdown",
   "metadata": {},
   "source": [
    "Выберем 10 населённых пунктов с наибольшим числом объявлений. Посчитаем среднюю цену квадратного метра в этих населённых пунктах. Выделим населённые пункты с самой высокой и низкой стоимостью жилья. Эти данные можно найти по имени в столбце locality_name."
   ]
  },
  {
   "cell_type": "code",
   "execution_count": 70,
   "metadata": {},
   "outputs": [
    {
     "data": {
      "text/plain": [
       "Санкт-Петербург      15721\n",
       "посёлок Мурино         522\n",
       "посёлок Шушары         440\n",
       "Всеволожск             398\n",
       "Пушкин                 369\n",
       "Колпино                338\n",
       "посёлок Парголово      327\n",
       "Гатчина                307\n",
       "деревня Кудрово        299\n",
       "Выборг                 237\n",
       "Name: locality_name, dtype: int64"
      ]
     },
     "execution_count": 70,
     "metadata": {},
     "output_type": "execute_result"
    }
   ],
   "source": [
    "#Выберем первые 10 населённых пунктов с наибольшим числом объявлений\n",
    "df['locality_name'].value_counts().head(10)"
   ]
  },
  {
   "cell_type": "code",
   "execution_count": 71,
   "metadata": {},
   "outputs": [
    {
     "data": {
      "text/html": [
       "<div>\n",
       "<style scoped>\n",
       "    .dataframe tbody tr th:only-of-type {\n",
       "        vertical-align: middle;\n",
       "    }\n",
       "\n",
       "    .dataframe tbody tr th {\n",
       "        vertical-align: top;\n",
       "    }\n",
       "\n",
       "    .dataframe thead th {\n",
       "        text-align: right;\n",
       "    }\n",
       "</style>\n",
       "<table border=\"1\" class=\"dataframe\">\n",
       "  <thead>\n",
       "    <tr style=\"text-align: right;\">\n",
       "      <th></th>\n",
       "      <th>count</th>\n",
       "      <th>median</th>\n",
       "    </tr>\n",
       "    <tr>\n",
       "      <th>locality_name</th>\n",
       "      <th></th>\n",
       "      <th></th>\n",
       "    </tr>\n",
       "  </thead>\n",
       "  <tbody>\n",
       "    <tr>\n",
       "      <th>Санкт-Петербург</th>\n",
       "      <td>15721</td>\n",
       "      <td>104761.0</td>\n",
       "    </tr>\n",
       "    <tr>\n",
       "      <th>посёлок Мурино</th>\n",
       "      <td>522</td>\n",
       "      <td>85878.0</td>\n",
       "    </tr>\n",
       "    <tr>\n",
       "      <th>посёлок Шушары</th>\n",
       "      <td>440</td>\n",
       "      <td>76876.0</td>\n",
       "    </tr>\n",
       "    <tr>\n",
       "      <th>Всеволожск</th>\n",
       "      <td>398</td>\n",
       "      <td>65789.0</td>\n",
       "    </tr>\n",
       "    <tr>\n",
       "      <th>Пушкин</th>\n",
       "      <td>369</td>\n",
       "      <td>100000.0</td>\n",
       "    </tr>\n",
       "    <tr>\n",
       "      <th>Колпино</th>\n",
       "      <td>338</td>\n",
       "      <td>74723.5</td>\n",
       "    </tr>\n",
       "    <tr>\n",
       "      <th>посёлок Парголово</th>\n",
       "      <td>327</td>\n",
       "      <td>91642.0</td>\n",
       "    </tr>\n",
       "    <tr>\n",
       "      <th>Гатчина</th>\n",
       "      <td>307</td>\n",
       "      <td>67796.0</td>\n",
       "    </tr>\n",
       "    <tr>\n",
       "      <th>деревня Кудрово</th>\n",
       "      <td>299</td>\n",
       "      <td>91860.0</td>\n",
       "    </tr>\n",
       "    <tr>\n",
       "      <th>Выборг</th>\n",
       "      <td>237</td>\n",
       "      <td>58158.0</td>\n",
       "    </tr>\n",
       "  </tbody>\n",
       "</table>\n",
       "</div>"
      ],
      "text/plain": [
       "                   count    median\n",
       "locality_name                     \n",
       "Санкт-Петербург    15721  104761.0\n",
       "посёлок Мурино       522   85878.0\n",
       "посёлок Шушары       440   76876.0\n",
       "Всеволожск           398   65789.0\n",
       "Пушкин               369  100000.0\n",
       "Колпино              338   74723.5\n",
       "посёлок Парголово    327   91642.0\n",
       "Гатчина              307   67796.0\n",
       "деревня Кудрово      299   91860.0\n",
       "Выборг               237   58158.0"
      ]
     },
     "execution_count": 71,
     "metadata": {},
     "output_type": "execute_result"
    }
   ],
   "source": [
    "#Для них с помощью сводной таблицы посчитаем медианную цену квадратного метра в этих населённых пунктах\n",
    "locality_name_pivot_table = df.pivot_table(index='locality_name', values='price_per_square_meter', \n",
    "                                           aggfunc=['count','median'])\n",
    "locality_name_pivot_table.columns = ['count', 'median']\n",
    "locality_name_pivot_table.sort_values(by='count', ascending=False).head(10)"
   ]
  },
  {
   "cell_type": "code",
   "execution_count": 72,
   "metadata": {},
   "outputs": [
    {
     "data": {
      "text/html": [
       "<div>\n",
       "<style scoped>\n",
       "    .dataframe tbody tr th:only-of-type {\n",
       "        vertical-align: middle;\n",
       "    }\n",
       "\n",
       "    .dataframe tbody tr th {\n",
       "        vertical-align: top;\n",
       "    }\n",
       "\n",
       "    .dataframe thead th {\n",
       "        text-align: right;\n",
       "    }\n",
       "</style>\n",
       "<table border=\"1\" class=\"dataframe\">\n",
       "  <thead>\n",
       "    <tr style=\"text-align: right;\">\n",
       "      <th></th>\n",
       "      <th>count</th>\n",
       "      <th>median</th>\n",
       "    </tr>\n",
       "    <tr>\n",
       "      <th>locality_name</th>\n",
       "      <th></th>\n",
       "      <th></th>\n",
       "    </tr>\n",
       "  </thead>\n",
       "  <tbody>\n",
       "    <tr>\n",
       "      <th>деревня Хязельки</th>\n",
       "      <td>1</td>\n",
       "      <td>11000000.0</td>\n",
       "    </tr>\n",
       "    <tr>\n",
       "      <th>деревня Бор</th>\n",
       "      <td>2</td>\n",
       "      <td>10397600.0</td>\n",
       "    </tr>\n",
       "    <tr>\n",
       "      <th>посёлок Александровская</th>\n",
       "      <td>2</td>\n",
       "      <td>8725000.0</td>\n",
       "    </tr>\n",
       "    <tr>\n",
       "      <th>посёлок Репино</th>\n",
       "      <td>4</td>\n",
       "      <td>8083708.0</td>\n",
       "    </tr>\n",
       "    <tr>\n",
       "      <th>Санкт-Петербург</th>\n",
       "      <td>15721</td>\n",
       "      <td>5500000.0</td>\n",
       "    </tr>\n",
       "    <tr>\n",
       "      <th>Сестрорецк</th>\n",
       "      <td>183</td>\n",
       "      <td>5450000.0</td>\n",
       "    </tr>\n",
       "    <tr>\n",
       "      <th>Пушкин</th>\n",
       "      <td>369</td>\n",
       "      <td>5180000.0</td>\n",
       "    </tr>\n",
       "    <tr>\n",
       "      <th>посёлок Лисий Нос</th>\n",
       "      <td>2</td>\n",
       "      <td>5027500.0</td>\n",
       "    </tr>\n",
       "    <tr>\n",
       "      <th>деревня Глинка</th>\n",
       "      <td>2</td>\n",
       "      <td>4750000.0</td>\n",
       "    </tr>\n",
       "    <tr>\n",
       "      <th>Зеленогорск</th>\n",
       "      <td>24</td>\n",
       "      <td>4750000.0</td>\n",
       "    </tr>\n",
       "  </tbody>\n",
       "</table>\n",
       "</div>"
      ],
      "text/plain": [
       "                         count      median\n",
       "locality_name                             \n",
       "деревня Хязельки             1  11000000.0\n",
       "деревня Бор                  2  10397600.0\n",
       "посёлок Александровская      2   8725000.0\n",
       "посёлок Репино               4   8083708.0\n",
       "Санкт-Петербург          15721   5500000.0\n",
       "Сестрорецк                 183   5450000.0\n",
       "Пушкин                     369   5180000.0\n",
       "посёлок Лисий Нос            2   5027500.0\n",
       "деревня Глинка               2   4750000.0\n",
       "Зеленогорск                 24   4750000.0"
      ]
     },
     "execution_count": 72,
     "metadata": {},
     "output_type": "execute_result"
    }
   ],
   "source": [
    "#Выберем населённые пункты с самой высокой стоимостью жилья\n",
    "locality_name_price_pivot_table = df.pivot_table(index='locality_name', values='last_price', \n",
    "                                           aggfunc=['count','median'])\n",
    "locality_name_price_pivot_table.columns = ['count', 'median']\n",
    "locality_name_price_pivot_table.sort_values(by='median', ascending=False).head(10)"
   ]
  },
  {
   "cell_type": "code",
   "execution_count": 73,
   "metadata": {},
   "outputs": [
    {
     "data": {
      "text/html": [
       "<div>\n",
       "<style scoped>\n",
       "    .dataframe tbody tr th:only-of-type {\n",
       "        vertical-align: middle;\n",
       "    }\n",
       "\n",
       "    .dataframe tbody tr th {\n",
       "        vertical-align: top;\n",
       "    }\n",
       "\n",
       "    .dataframe thead th {\n",
       "        text-align: right;\n",
       "    }\n",
       "</style>\n",
       "<table border=\"1\" class=\"dataframe\">\n",
       "  <thead>\n",
       "    <tr style=\"text-align: right;\">\n",
       "      <th></th>\n",
       "      <th>count</th>\n",
       "      <th>median</th>\n",
       "    </tr>\n",
       "    <tr>\n",
       "      <th>locality_name</th>\n",
       "      <th></th>\n",
       "      <th></th>\n",
       "    </tr>\n",
       "  </thead>\n",
       "  <tbody>\n",
       "    <tr>\n",
       "      <th>деревня Вахнова Кара</th>\n",
       "      <td>1</td>\n",
       "      <td>450000.0</td>\n",
       "    </tr>\n",
       "    <tr>\n",
       "      <th>деревня Старополье</th>\n",
       "      <td>3</td>\n",
       "      <td>450000.0</td>\n",
       "    </tr>\n",
       "    <tr>\n",
       "      <th>деревня Чудской Бор</th>\n",
       "      <td>1</td>\n",
       "      <td>500000.0</td>\n",
       "    </tr>\n",
       "    <tr>\n",
       "      <th>поселок Совхозный</th>\n",
       "      <td>2</td>\n",
       "      <td>517500.0</td>\n",
       "    </tr>\n",
       "    <tr>\n",
       "      <th>посёлок станции Свирь</th>\n",
       "      <td>2</td>\n",
       "      <td>575000.0</td>\n",
       "    </tr>\n",
       "    <tr>\n",
       "      <th>деревня Выскатка</th>\n",
       "      <td>2</td>\n",
       "      <td>585000.0</td>\n",
       "    </tr>\n",
       "    <tr>\n",
       "      <th>деревня Ям-Тесово</th>\n",
       "      <td>2</td>\n",
       "      <td>625000.0</td>\n",
       "    </tr>\n",
       "    <tr>\n",
       "      <th>поселок Цвылёво</th>\n",
       "      <td>1</td>\n",
       "      <td>650000.0</td>\n",
       "    </tr>\n",
       "    <tr>\n",
       "      <th>деревня Коркино</th>\n",
       "      <td>2</td>\n",
       "      <td>650000.0</td>\n",
       "    </tr>\n",
       "    <tr>\n",
       "      <th>деревня Фалилеево</th>\n",
       "      <td>2</td>\n",
       "      <td>650000.0</td>\n",
       "    </tr>\n",
       "  </tbody>\n",
       "</table>\n",
       "</div>"
      ],
      "text/plain": [
       "                       count    median\n",
       "locality_name                         \n",
       "деревня Вахнова Кара       1  450000.0\n",
       "деревня Старополье         3  450000.0\n",
       "деревня Чудской Бор        1  500000.0\n",
       "поселок Совхозный          2  517500.0\n",
       "посёлок станции Свирь      2  575000.0\n",
       "деревня Выскатка           2  585000.0\n",
       "деревня Ям-Тесово          2  625000.0\n",
       "поселок Цвылёво            1  650000.0\n",
       "деревня Коркино            2  650000.0\n",
       "деревня Фалилеево          2  650000.0"
      ]
     },
     "execution_count": 73,
     "metadata": {},
     "output_type": "execute_result"
    }
   ],
   "source": [
    "#С самой низкой стоимостью жилья\n",
    "locality_name_price_pivot_table.sort_values(by='median').head(10)"
   ]
  },
  {
   "cell_type": "markdown",
   "metadata": {},
   "source": [
    "### Вывод"
   ]
  },
  {
   "cell_type": "markdown",
   "metadata": {},
   "source": [
    "Были выбраны первые 10 населённых пунктов с наибольшим количество объявлений, для них были выведены медианные значения цены квадратного метра. Для 10 территорий были посчитаны медианные значения самых высоких стоимостей жилья и самых низких. Скорее всего, некоторые значения являются неккоректными, поскольку их мало в плане количества, либо это большие дома/особняки (для высоких цен), или маленькие дома в деревнях (для низких цен)."
   ]
  },
  {
   "cell_type": "markdown",
   "metadata": {},
   "source": [
    "Изучим предложения квартир: для каждой квартиры есть информация о расстоянии до центра. Выделим квартиры в Санкт-Петербурге (locality_name). Наша задача — выяснить, какая область входит в центр. Создадим столбец с расстоянием до центра в километрах: округлим до целых значений. После этого посчитаем среднюю цену для каждого километра. Построим график: он должен показывать, как цена зависит от удалённости от центра. Определим границу, где график сильно меняется, — это и будет центральная зона."
   ]
  },
  {
   "cell_type": "code",
   "execution_count": 74,
   "metadata": {},
   "outputs": [],
   "source": [
    "#Создадим в датафрейме новый столбец с расстоянием до центра в километрах\n",
    "df['cityCenters_nearest_km'] = round(df['cityCenters_nearest'] / 1000, 0)"
   ]
  },
  {
   "cell_type": "code",
   "execution_count": 75,
   "metadata": {},
   "outputs": [
    {
     "data": {
      "text/html": [
       "<div>\n",
       "<style scoped>\n",
       "    .dataframe tbody tr th:only-of-type {\n",
       "        vertical-align: middle;\n",
       "    }\n",
       "\n",
       "    .dataframe tbody tr th {\n",
       "        vertical-align: top;\n",
       "    }\n",
       "\n",
       "    .dataframe thead th {\n",
       "        text-align: right;\n",
       "    }\n",
       "</style>\n",
       "<table border=\"1\" class=\"dataframe\">\n",
       "  <thead>\n",
       "    <tr style=\"text-align: right;\">\n",
       "      <th></th>\n",
       "      <th>last_price</th>\n",
       "    </tr>\n",
       "    <tr>\n",
       "      <th>cityCenters_nearest_km</th>\n",
       "      <th></th>\n",
       "    </tr>\n",
       "  </thead>\n",
       "  <tbody>\n",
       "    <tr>\n",
       "      <th>0.0</th>\n",
       "      <td>17900000</td>\n",
       "    </tr>\n",
       "    <tr>\n",
       "      <th>1.0</th>\n",
       "      <td>11395000</td>\n",
       "    </tr>\n",
       "    <tr>\n",
       "      <th>2.0</th>\n",
       "      <td>10000000</td>\n",
       "    </tr>\n",
       "    <tr>\n",
       "      <th>3.0</th>\n",
       "      <td>8409000</td>\n",
       "    </tr>\n",
       "    <tr>\n",
       "      <th>4.0</th>\n",
       "      <td>9200000</td>\n",
       "    </tr>\n",
       "    <tr>\n",
       "      <th>5.0</th>\n",
       "      <td>9500000</td>\n",
       "    </tr>\n",
       "    <tr>\n",
       "      <th>6.0</th>\n",
       "      <td>8900000</td>\n",
       "    </tr>\n",
       "    <tr>\n",
       "      <th>7.0</th>\n",
       "      <td>7800000</td>\n",
       "    </tr>\n",
       "    <tr>\n",
       "      <th>8.0</th>\n",
       "      <td>7450000</td>\n",
       "    </tr>\n",
       "    <tr>\n",
       "      <th>9.0</th>\n",
       "      <td>5300000</td>\n",
       "    </tr>\n",
       "    <tr>\n",
       "      <th>10.0</th>\n",
       "      <td>5000000</td>\n",
       "    </tr>\n",
       "    <tr>\n",
       "      <th>11.0</th>\n",
       "      <td>5072500</td>\n",
       "    </tr>\n",
       "    <tr>\n",
       "      <th>12.0</th>\n",
       "      <td>4950000</td>\n",
       "    </tr>\n",
       "    <tr>\n",
       "      <th>13.0</th>\n",
       "      <td>5200000</td>\n",
       "    </tr>\n",
       "    <tr>\n",
       "      <th>14.0</th>\n",
       "      <td>4870000</td>\n",
       "    </tr>\n",
       "    <tr>\n",
       "      <th>15.0</th>\n",
       "      <td>4900000</td>\n",
       "    </tr>\n",
       "    <tr>\n",
       "      <th>16.0</th>\n",
       "      <td>4750000</td>\n",
       "    </tr>\n",
       "    <tr>\n",
       "      <th>17.0</th>\n",
       "      <td>4580000</td>\n",
       "    </tr>\n",
       "    <tr>\n",
       "      <th>18.0</th>\n",
       "      <td>4300000</td>\n",
       "    </tr>\n",
       "    <tr>\n",
       "      <th>19.0</th>\n",
       "      <td>4500000</td>\n",
       "    </tr>\n",
       "    <tr>\n",
       "      <th>20.0</th>\n",
       "      <td>5550000</td>\n",
       "    </tr>\n",
       "    <tr>\n",
       "      <th>21.0</th>\n",
       "      <td>5289476</td>\n",
       "    </tr>\n",
       "    <tr>\n",
       "      <th>22.0</th>\n",
       "      <td>4925000</td>\n",
       "    </tr>\n",
       "    <tr>\n",
       "      <th>23.0</th>\n",
       "      <td>4500000</td>\n",
       "    </tr>\n",
       "    <tr>\n",
       "      <th>24.0</th>\n",
       "      <td>3480000</td>\n",
       "    </tr>\n",
       "    <tr>\n",
       "      <th>25.0</th>\n",
       "      <td>3794881</td>\n",
       "    </tr>\n",
       "    <tr>\n",
       "      <th>26.0</th>\n",
       "      <td>3320000</td>\n",
       "    </tr>\n",
       "    <tr>\n",
       "      <th>27.0</th>\n",
       "      <td>8300000</td>\n",
       "    </tr>\n",
       "    <tr>\n",
       "      <th>28.0</th>\n",
       "      <td>4990000</td>\n",
       "    </tr>\n",
       "    <tr>\n",
       "      <th>29.0</th>\n",
       "      <td>4535000</td>\n",
       "    </tr>\n",
       "  </tbody>\n",
       "</table>\n",
       "</div>"
      ],
      "text/plain": [
       "                        last_price\n",
       "cityCenters_nearest_km            \n",
       "0.0                       17900000\n",
       "1.0                       11395000\n",
       "2.0                       10000000\n",
       "3.0                        8409000\n",
       "4.0                        9200000\n",
       "5.0                        9500000\n",
       "6.0                        8900000\n",
       "7.0                        7800000\n",
       "8.0                        7450000\n",
       "9.0                        5300000\n",
       "10.0                       5000000\n",
       "11.0                       5072500\n",
       "12.0                       4950000\n",
       "13.0                       5200000\n",
       "14.0                       4870000\n",
       "15.0                       4900000\n",
       "16.0                       4750000\n",
       "17.0                       4580000\n",
       "18.0                       4300000\n",
       "19.0                       4500000\n",
       "20.0                       5550000\n",
       "21.0                       5289476\n",
       "22.0                       4925000\n",
       "23.0                       4500000\n",
       "24.0                       3480000\n",
       "25.0                       3794881\n",
       "26.0                       3320000\n",
       "27.0                       8300000\n",
       "28.0                       4990000\n",
       "29.0                       4535000"
      ]
     },
     "execution_count": 75,
     "metadata": {},
     "output_type": "execute_result"
    },
    {
     "data": {
      "image/png": "[encoded data removed]",
      "text/plain": [
       "<Figure size 432x288 with 1 Axes>"
      ]
     },
     "metadata": {
      "needs_background": "light"
     },
     "output_type": "display_data"
    }
   ],
   "source": [
    "#Создадим сводную таблицу (Санкт-Петербург выберем с помощью query()), построим график и выведем значения километров с \n",
    "#медианным значением цены\n",
    "spb_distance_pivot_table = df.query('locality_name == \"Санкт-Петербург\"').pivot_table(index='cityCenters_nearest_km',\n",
    "                                                                     values='last_price', aggfunc='median')\n",
    "spb_distance_pivot_table.plot()\n",
    "spb_distance_pivot_table"
   ]
  },
  {
   "cell_type": "markdown",
   "metadata": {},
   "source": [
    "### Вывод"
   ]
  },
  {
   "cell_type": "markdown",
   "metadata": {},
   "source": [
    "Был построен график зависимости цены от расстояния до центра в километрах для Санкт-Петербурга. Центральная зона находится в диапазоне от 0 до 3 км."
   ]
  },
  {
   "cell_type": "markdown",
   "metadata": {},
   "source": [
    "Выделим сегмент квартир в центре. Проанализируем эту территорию и изучите следующие параметры: площадь, цена, число комнат, высота потолков. Также выделим факторы, которые влияют на стоимость квартиры (число комнат, этаж, удалённость от центра, дата размещения объявления). Сделаем выводы. Отличаются ли они от общих выводов по всему городу?"
   ]
  },
  {
   "cell_type": "code",
   "execution_count": 76,
   "metadata": {},
   "outputs": [],
   "source": [
    "#Создадим 'отфильтрованный' датафрейм для квартир в центре Санкт-Петербурга\n",
    "spb_center = df.query('locality_name == \"Санкт-Петербург\" and cityCenters_nearest_km <= 3')"
   ]
  },
  {
   "cell_type": "code",
   "execution_count": 77,
   "metadata": {},
   "outputs": [
    {
     "data": {
      "text/plain": [
       "0.24"
      ]
     },
     "execution_count": 77,
     "metadata": {},
     "output_type": "execute_result"
    }
   ],
   "source": [
    "#Найдём коэффициент корреляции количества комнат от цены в центре Санкт-Петербурга\n",
    "round(spb_center['rooms'].corr(spb_center['last_price']), 2)"
   ]
  },
  {
   "cell_type": "code",
   "execution_count": 78,
   "metadata": {},
   "outputs": [
    {
     "data": {
      "text/plain": [
       "0.57"
      ]
     },
     "execution_count": 78,
     "metadata": {},
     "output_type": "execute_result"
    }
   ],
   "source": [
    "#Найдём коэффициент корреляции общей площади от цены в центре Санкт-Петербурга\n",
    "round(spb_center['total_area'].corr(spb_center['last_price']), 2)"
   ]
  },
  {
   "cell_type": "code",
   "execution_count": 79,
   "metadata": {},
   "outputs": [
    {
     "data": {
      "text/plain": [
       "0.03"
      ]
     },
     "execution_count": 79,
     "metadata": {},
     "output_type": "execute_result"
    }
   ],
   "source": [
    "#Найдём коэффициент корреляции высоты потолка от цены в центре Санкт-Петербурга\n",
    "round(spb_center['ceiling_height'].corr(spb_center['last_price']), 2)"
   ]
  },
  {
   "cell_type": "code",
   "execution_count": 80,
   "metadata": {},
   "outputs": [
    {
     "data": {
      "text/plain": [
       "0.83"
      ]
     },
     "execution_count": 80,
     "metadata": {},
     "output_type": "execute_result"
    }
   ],
   "source": [
    "#Найдём коэффициент корреляции цены квадратного метра от всей цены в центре Санкт-Петербурга\n",
    "round(spb_center['price_per_square_meter'].corr(spb_center['last_price']), 2)"
   ]
  },
  {
   "cell_type": "code",
   "execution_count": 81,
   "metadata": {},
   "outputs": [
    {
     "data": {
      "text/plain": [
       "<AxesSubplot:xlabel='rooms'>"
      ]
     },
     "execution_count": 81,
     "metadata": {},
     "output_type": "execute_result"
    },
    {
     "data": {
      "image/png": "[encoded data removed]",
      "text/plain": [
       "<Figure size 432x288 with 1 Axes>"
      ]
     },
     "metadata": {
      "needs_background": "light"
     },
     "output_type": "display_data"
    },
    {
     "data": {
      "image/png": "[encoded data removed]",
      "text/plain": [
       "<Figure size 432x288 with 1 Axes>"
      ]
     },
     "metadata": {
      "needs_background": "light"
     },
     "output_type": "display_data"
    }
   ],
   "source": [
    "#Создадим сводные таблицы зависимости цены от количества комнат для 'отфильтрованных' данных центра Санкт-Петербурга и \n",
    "#сравним их со всеми данными Санкт-Петербурга и построим графики\n",
    "spb_center_rooms_pivot_table = spb_center.pivot_table(index='rooms', values='last_price', aggfunc=['count', 'median'])\n",
    "\n",
    "spb_center_rooms_pivot_table.columns = ['count', 'median']\n",
    "\n",
    "spb_center_rooms_pivot_table_all = df.query('locality_name == \"Санкт-Петербург\"').pivot_table(\n",
    "    index='rooms', values='last_price', aggfunc=['count', 'median'])\n",
    "\n",
    "spb_center_rooms_pivot_table_all.columns = ['count', 'median']\n",
    "\n",
    "spb_center_rooms_pivot_table.plot(y='median')\n",
    "spb_center_rooms_pivot_table_all.plot(y='median')"
   ]
  },
  {
   "cell_type": "code",
   "execution_count": 82,
   "metadata": {},
   "outputs": [
    {
     "data": {
      "text/plain": [
       "<AxesSubplot:xlabel='floor_category'>"
      ]
     },
     "execution_count": 82,
     "metadata": {},
     "output_type": "execute_result"
    },
    {
     "data": {
      "image/png": "[encoded data removed]",
      "text/plain": [
       "<Figure size 432x288 with 1 Axes>"
      ]
     },
     "metadata": {
      "needs_background": "light"
     },
     "output_type": "display_data"
    },
    {
     "data": {
      "image/png": "[encoded data removed]",
      "text/plain": [
       "<Figure size 432x288 with 1 Axes>"
      ]
     },
     "metadata": {
      "needs_background": "light"
     },
     "output_type": "display_data"
    }
   ],
   "source": [
    "#Создадим сводные таблицы зависимости цены от категории этажа для 'отфильтрованных' данных центра Санкт-Петербурга и \n",
    "#сравним их со всеми данными Санкт-Петербурга и построим графики\n",
    "spb_center_floor_pivot_table = spb_center.pivot_table(index='floor_category', values='last_price', \n",
    "                                                      aggfunc=['count', 'median'])\n",
    "\n",
    "spb_center_floor_pivot_table.columns = ['count', 'median']\n",
    "\n",
    "spb_center_floor_pivot_table_all = df.query('locality_name == \"Санкт-Петербург\"').pivot_table(\n",
    "    index='floor_category', values='last_price', aggfunc=['count', 'median'])\n",
    "\n",
    "spb_center_floor_pivot_table_all.columns = ['count', 'median']\n",
    "\n",
    "spb_center_floor_pivot_table.plot(y='median')\n",
    "spb_center_floor_pivot_table_all.plot(y='median')"
   ]
  },
  {
   "cell_type": "code",
   "execution_count": 83,
   "metadata": {},
   "outputs": [
    {
     "data": {
      "text/plain": [
       "<AxesSubplot:xlabel='cityCenters_nearest_km'>"
      ]
     },
     "execution_count": 83,
     "metadata": {},
     "output_type": "execute_result"
    },
    {
     "data": {
      "image/png": "[encoded data removed]",
      "text/plain": [
       "<Figure size 432x288 with 1 Axes>"
      ]
     },
     "metadata": {
      "needs_background": "light"
     },
     "output_type": "display_data"
    },
    {
     "data": {
      "image/png": "[encoded data removed]",
      "text/plain": [
       "<Figure size 432x288 with 1 Axes>"
      ]
     },
     "metadata": {
      "needs_background": "light"
     },
     "output_type": "display_data"
    }
   ],
   "source": [
    "#Создадим сводные таблицы зависимости цены от расстояния до центра для 'отфильтрованных' данных центра Санкт-Петербурга и \n",
    "#сравним их со всеми данными Санкт-Петербурга и построим графики\n",
    "spb_center_distance_pivot_table = spb_center.pivot_table(index='cityCenters_nearest_km', values='last_price', \n",
    "                                                         aggfunc=['count', 'median'])\n",
    "spb_center_distance_pivot_table.columns = ['count', 'median']\n",
    "\n",
    "spb_center_distance_pivot_table_all = df.query('locality_name == \"Санкт-Петербург\"').pivot_table(\n",
    "    index='cityCenters_nearest_km', values='last_price', aggfunc=['count', 'median'])\n",
    "\n",
    "spb_center_distance_pivot_table_all.columns = ['count', 'median']\n",
    "\n",
    "spb_center_distance_pivot_table.plot(y='median')\n",
    "spb_center_distance_pivot_table_all.plot(y='median')"
   ]
  },
  {
   "cell_type": "code",
   "execution_count": 84,
   "metadata": {},
   "outputs": [
    {
     "data": {
      "text/plain": [
       "<AxesSubplot:xlabel='year'>"
      ]
     },
     "execution_count": 84,
     "metadata": {},
     "output_type": "execute_result"
    },
    {
     "data": {
      "image/png": "[encoded data removed]",
      "text/plain": [
       "<Figure size 432x288 with 1 Axes>"
      ]
     },
     "metadata": {
      "needs_background": "light"
     },
     "output_type": "display_data"
    },
    {
     "data": {
      "image/png": "[encoded data removed]",
      "text/plain": [
       "<Figure size 432x288 with 1 Axes>"
      ]
     },
     "metadata": {
      "needs_background": "light"
     },
     "output_type": "display_data"
    }
   ],
   "source": [
    "#Создадим сводные таблицы зависимости цены от года для 'отфильтрованных' данных центра Санкт-Петербурга и \n",
    "#сравним их со всеми данными Санкт-Петербурга и построим графики\n",
    "spb_center_exposition_pivot_table = spb_center.pivot_table(index='year', values='last_price', \n",
    "                                                           aggfunc=['count', 'median'])\n",
    "\n",
    "spb_center_exposition_pivot_table.columns = ['count', 'median']\n",
    "\n",
    "spb_center_exposition_pivot_table_all = df.query('locality_name == \"Санкт-Петербург\"').pivot_table(\n",
    "    index='year', values='last_price', aggfunc=['count', 'median'])\n",
    "\n",
    "spb_center_exposition_pivot_table_all.columns = ['count', 'median']\n",
    "\n",
    "spb_center_exposition_pivot_table.plot(y='median')\n",
    "spb_center_exposition_pivot_table_all.plot(y='median')"
   ]
  },
  {
   "cell_type": "markdown",
   "metadata": {},
   "source": [
    "### Вывод"
   ]
  },
  {
   "cell_type": "markdown",
   "metadata": {},
   "source": [
    "- коэффициент корреляции количества комнат от цены в центре Санкт-Петербурга = 0.24, что говорит о слабой зависимости между этими значениями (скорее всего, есть другие факторы);\n",
    "- коэффициент корреляции общей площади от цены в центре Санкт-Петербурга = 0.57, что говорит о небольшой зависимости между этими значениями (скорее всего, есть другие факторы);\n",
    "- коэффициент корреляции общей площади от цены в центре Санкт-Петербурга = 0.03, что говорит о полном отсутствии зависимости между этими значениями (есть другие факторы);\n",
    "- коэффициент корреляции цены квадратного метра от всей цены в центре Санкт-Петербурга = 0.83, что говорит об очень сильной зависимости между этими значениями (что логично);\n",
    "- зависимости цены от количества комнат для 'отфильтрованных' данных центра Санкт-Петербурга и всеми данными Санкт-Петербурга показывает, что самые дорогие помещения с комнатами - 9 и 12 соответственно (что может быть странно, поскольку это слишком много комнат и может быть вброс данных);\n",
    "- зависимости цены от категории этажей для 'отфильтрованных' данных центра Санкт-Петербурга и всеми данными Санкт-Петербурга мало что показывает, скорее всего какой-то зависимости тут нет (возможно, нужно посмотреть по другим параметрам);\n",
    "- зависимости цены от расстояния до центра для 'отфильтрованных' данных центра Санкт-Петербурга и всеми данными Санкт-Петербурга мало что показывает, поскольку второй вариант более расширенный, а первый более подробный;\n",
    "- зависимости цены от даты для 'отфильтрованных' данных центра Санкт-Петербурга и всеми данными Санкт-Петербурга имеют похожие графики, только в первом случае имеется резкий переход с 2015 по 2017 года, а во втором - более плавный для тех же периодов;"
   ]
  },
  {
   "cell_type": "markdown",
   "metadata": {},
   "source": [
    "## Общий вывод"
   ]
  },
  {
   "cell_type": "markdown",
   "metadata": {},
   "source": [
    "Были изучены и проанализированы данные по Яндекс.Недвижимости. Были заполнены пропуски и изменены типы данных там, где это возможно. Были посчитаны дополнительные параметры для дальнейшей их обработки (в виде коэффициентов корреляции или графиков). Были отфильтрованы данные, убраны выбирающиеся значения. Для корреляции и графиков нельзя всё сказать однозначно, они зависят от многоих параметров, поскольку были взяты средние или медианные значения и они не могут показать всю картину в целом. Также есть данные, по которым трудно сказать, выброс это или действительно такое значение. Был выявлен центр в Санкт-Петербурге, который расположен в радиусе 3км. Более подробные выводы находятся в шагах."
   ]
  }
 ],
 "metadata": {
  "ExecuteTimeLog": [
   {
    "duration": 888,
    "start_time": "2022-01-12T07:06:38.540Z"
   },
   {
    "duration": 78,
    "start_time": "2022-01-12T07:06:55.421Z"
   },
   {
    "duration": 12,
    "start_time": "2022-01-12T07:07:18.714Z"
   },
   {
    "duration": 117,
    "start_time": "2022-01-12T07:08:26.234Z"
   },
   {
    "duration": 162,
    "start_time": "2022-01-12T07:08:54.865Z"
   },
   {
    "duration": 76,
    "start_time": "2022-01-12T07:09:21.799Z"
   },
   {
    "duration": 80,
    "start_time": "2022-01-12T07:10:29.658Z"
   },
   {
    "duration": 120,
    "start_time": "2022-01-12T07:11:41.592Z"
   },
   {
    "duration": 78,
    "start_time": "2022-01-12T07:12:27.496Z"
   },
   {
    "duration": 78,
    "start_time": "2022-01-12T07:12:51.007Z"
   },
   {
    "duration": 819,
    "start_time": "2022-01-12T07:13:08.307Z"
   },
   {
    "duration": 79,
    "start_time": "2022-01-12T07:13:13.587Z"
   },
   {
    "duration": 116,
    "start_time": "2022-01-12T07:14:11.900Z"
   },
   {
    "duration": 16,
    "start_time": "2022-01-12T07:14:22.044Z"
   },
   {
    "duration": 102,
    "start_time": "2022-01-12T07:14:50.076Z"
   },
   {
    "duration": 14,
    "start_time": "2022-01-12T07:15:08.355Z"
   },
   {
    "duration": 57,
    "start_time": "2022-01-12T07:15:58.277Z"
   },
   {
    "duration": 473,
    "start_time": "2022-01-12T07:18:23.869Z"
   },
   {
    "duration": 8,
    "start_time": "2022-01-12T07:18:35.670Z"
   },
   {
    "duration": 7,
    "start_time": "2022-01-12T07:18:55.269Z"
   },
   {
    "duration": 6,
    "start_time": "2022-01-12T07:19:02.763Z"
   },
   {
    "duration": 11,
    "start_time": "2022-01-12T07:19:22.165Z"
   },
   {
    "duration": 6,
    "start_time": "2022-01-12T07:19:49.423Z"
   },
   {
    "duration": 7,
    "start_time": "2022-01-12T07:20:04.382Z"
   },
   {
    "duration": 121,
    "start_time": "2022-01-12T07:23:39.724Z"
   },
   {
    "duration": 9540,
    "start_time": "2022-01-12T07:23:47.916Z"
   },
   {
    "duration": 366,
    "start_time": "2022-01-12T07:24:10.063Z"
   },
   {
    "duration": 8,
    "start_time": "2022-01-12T07:24:36.959Z"
   },
   {
    "duration": 21,
    "start_time": "2022-01-12T07:24:48.451Z"
   },
   {
    "duration": 7,
    "start_time": "2022-01-12T07:24:59.191Z"
   },
   {
    "duration": 872,
    "start_time": "2022-01-12T07:56:28.834Z"
   },
   {
    "duration": 115,
    "start_time": "2022-01-12T07:56:34.452Z"
   },
   {
    "duration": 17,
    "start_time": "2022-01-12T07:56:37.841Z"
   },
   {
    "duration": 55,
    "start_time": "2022-01-12T07:56:49.339Z"
   },
   {
    "duration": 10,
    "start_time": "2022-01-12T07:57:07.834Z"
   },
   {
    "duration": 7,
    "start_time": "2022-01-12T07:57:19.913Z"
   },
   {
    "duration": 10,
    "start_time": "2022-01-12T07:57:33.936Z"
   },
   {
    "duration": 483,
    "start_time": "2022-01-12T08:00:55.153Z"
   },
   {
    "duration": 6,
    "start_time": "2022-01-12T08:01:19.906Z"
   },
   {
    "duration": 8,
    "start_time": "2022-01-12T08:01:22.393Z"
   },
   {
    "duration": 11133,
    "start_time": "2022-01-12T08:02:26.048Z"
   },
   {
    "duration": 70,
    "start_time": "2022-01-12T08:02:49.172Z"
   },
   {
    "duration": 10,
    "start_time": "2022-01-12T08:03:25.442Z"
   },
   {
    "duration": 55,
    "start_time": "2022-01-12T08:08:06.283Z"
   },
   {
    "duration": 6,
    "start_time": "2022-01-12T08:10:11.643Z"
   },
   {
    "duration": 7,
    "start_time": "2022-01-12T08:10:36.515Z"
   },
   {
    "duration": 11,
    "start_time": "2022-01-12T08:11:19.835Z"
   },
   {
    "duration": 12,
    "start_time": "2022-01-12T08:11:49.579Z"
   },
   {
    "duration": 11,
    "start_time": "2022-01-12T08:11:56.210Z"
   },
   {
    "duration": 26,
    "start_time": "2022-01-12T08:12:25.244Z"
   },
   {
    "duration": 21,
    "start_time": "2022-01-12T08:12:53.823Z"
   },
   {
    "duration": 8540,
    "start_time": "2022-01-12T08:20:58.929Z"
   },
   {
    "duration": 5628,
    "start_time": "2022-01-12T08:21:17.741Z"
   },
   {
    "duration": 8,
    "start_time": "2022-01-12T08:23:28.350Z"
   },
   {
    "duration": 9,
    "start_time": "2022-01-12T08:23:38.602Z"
   },
   {
    "duration": 6,
    "start_time": "2022-01-12T08:34:27.216Z"
   },
   {
    "duration": 19,
    "start_time": "2022-01-12T08:34:57.104Z"
   },
   {
    "duration": 13,
    "start_time": "2022-01-12T08:35:21.151Z"
   },
   {
    "duration": 22,
    "start_time": "2022-01-12T08:37:04.993Z"
   },
   {
    "duration": -47,
    "start_time": "2022-01-12T08:37:31.444Z"
   },
   {
    "duration": 53,
    "start_time": "2022-01-12T08:38:06.552Z"
   },
   {
    "duration": 7,
    "start_time": "2022-01-12T08:42:09.440Z"
   },
   {
    "duration": 933,
    "start_time": "2022-01-12T08:45:05.293Z"
   },
   {
    "duration": 115,
    "start_time": "2022-01-12T08:45:08.901Z"
   },
   {
    "duration": 16,
    "start_time": "2022-01-12T08:45:12.693Z"
   },
   {
    "duration": 7,
    "start_time": "2022-01-12T08:45:26.085Z"
   },
   {
    "duration": 8,
    "start_time": "2022-01-12T08:45:28.268Z"
   },
   {
    "duration": 6,
    "start_time": "2022-01-12T08:45:30.198Z"
   },
   {
    "duration": 545,
    "start_time": "2022-01-12T08:46:41.077Z"
   },
   {
    "duration": 6,
    "start_time": "2022-01-12T08:46:49.165Z"
   },
   {
    "duration": 12,
    "start_time": "2022-01-12T08:48:03.414Z"
   },
   {
    "duration": 8,
    "start_time": "2022-01-12T08:48:47.045Z"
   },
   {
    "duration": 7,
    "start_time": "2022-01-12T08:49:11.334Z"
   },
   {
    "duration": 37,
    "start_time": "2022-01-12T08:50:55.711Z"
   },
   {
    "duration": 16,
    "start_time": "2022-01-12T08:51:22.635Z"
   },
   {
    "duration": 520,
    "start_time": "2022-01-12T12:38:59.401Z"
   },
   {
    "duration": 87,
    "start_time": "2022-01-12T12:41:57.105Z"
   },
   {
    "duration": 8,
    "start_time": "2022-01-12T12:42:23.017Z"
   },
   {
    "duration": 8,
    "start_time": "2022-01-12T12:44:28.416Z"
   },
   {
    "duration": 10,
    "start_time": "2022-01-12T12:46:29.919Z"
   },
   {
    "duration": 6,
    "start_time": "2022-01-12T12:47:08.225Z"
   },
   {
    "duration": 9,
    "start_time": "2022-01-12T12:48:42.826Z"
   },
   {
    "duration": 9,
    "start_time": "2022-01-12T12:48:58.095Z"
   },
   {
    "duration": 6,
    "start_time": "2022-01-12T12:49:47.351Z"
   },
   {
    "duration": 7,
    "start_time": "2022-01-12T12:54:01.239Z"
   },
   {
    "duration": 6,
    "start_time": "2022-01-12T12:54:32.190Z"
   },
   {
    "duration": 9,
    "start_time": "2022-01-12T12:54:55.985Z"
   },
   {
    "duration": 11,
    "start_time": "2022-01-12T12:55:06.459Z"
   },
   {
    "duration": 9,
    "start_time": "2022-01-12T12:55:26.379Z"
   },
   {
    "duration": 11,
    "start_time": "2022-01-12T12:58:03.998Z"
   },
   {
    "duration": 8,
    "start_time": "2022-01-12T13:01:09.224Z"
   },
   {
    "duration": 9,
    "start_time": "2022-01-12T13:01:45.771Z"
   },
   {
    "duration": 9,
    "start_time": "2022-01-12T13:01:54.655Z"
   },
   {
    "duration": 8,
    "start_time": "2022-01-12T13:02:05.222Z"
   },
   {
    "duration": 8,
    "start_time": "2022-01-12T13:02:34.017Z"
   },
   {
    "duration": 8,
    "start_time": "2022-01-12T13:02:56.223Z"
   },
   {
    "duration": 7,
    "start_time": "2022-01-12T13:04:20.339Z"
   },
   {
    "duration": 6,
    "start_time": "2022-01-12T13:06:02.351Z"
   },
   {
    "duration": 7,
    "start_time": "2022-01-12T13:06:13.128Z"
   },
   {
    "duration": 8,
    "start_time": "2022-01-12T13:06:38.479Z"
   },
   {
    "duration": 6,
    "start_time": "2022-01-12T13:07:03.209Z"
   },
   {
    "duration": 7,
    "start_time": "2022-01-12T13:07:50.008Z"
   },
   {
    "duration": 13,
    "start_time": "2022-01-12T13:08:37.256Z"
   },
   {
    "duration": 10,
    "start_time": "2022-01-12T13:23:09.104Z"
   },
   {
    "duration": 10,
    "start_time": "2022-01-12T13:23:39.051Z"
   },
   {
    "duration": 10,
    "start_time": "2022-01-12T13:24:22.073Z"
   },
   {
    "duration": 11,
    "start_time": "2022-01-12T13:25:05.772Z"
   },
   {
    "duration": 9,
    "start_time": "2022-01-12T13:25:23.592Z"
   },
   {
    "duration": 11,
    "start_time": "2022-01-12T13:25:35.354Z"
   },
   {
    "duration": 10,
    "start_time": "2022-01-12T13:25:55.300Z"
   },
   {
    "duration": 10,
    "start_time": "2022-01-12T13:26:15.625Z"
   },
   {
    "duration": 11,
    "start_time": "2022-01-12T13:26:43.600Z"
   },
   {
    "duration": 11,
    "start_time": "2022-01-12T13:27:02.680Z"
   },
   {
    "duration": 10,
    "start_time": "2022-01-12T13:27:43.953Z"
   },
   {
    "duration": 6,
    "start_time": "2022-01-12T13:27:52.789Z"
   },
   {
    "duration": 7,
    "start_time": "2022-01-12T13:27:58.065Z"
   },
   {
    "duration": 11,
    "start_time": "2022-01-12T13:28:10.781Z"
   },
   {
    "duration": 7,
    "start_time": "2022-01-12T13:28:24.048Z"
   },
   {
    "duration": 6,
    "start_time": "2022-01-12T13:28:37.355Z"
   },
   {
    "duration": 7,
    "start_time": "2022-01-12T13:28:51.650Z"
   },
   {
    "duration": 7,
    "start_time": "2022-01-12T13:29:07.209Z"
   },
   {
    "duration": 6,
    "start_time": "2022-01-12T13:29:15.642Z"
   },
   {
    "duration": 11,
    "start_time": "2022-01-12T13:29:59.584Z"
   },
   {
    "duration": 10,
    "start_time": "2022-01-12T13:30:16.215Z"
   },
   {
    "duration": 11,
    "start_time": "2022-01-12T13:30:22.383Z"
   },
   {
    "duration": 10,
    "start_time": "2022-01-12T13:31:24.138Z"
   },
   {
    "duration": 7,
    "start_time": "2022-01-12T13:31:30.677Z"
   },
   {
    "duration": 5,
    "start_time": "2022-01-12T13:31:45.933Z"
   },
   {
    "duration": 6,
    "start_time": "2022-01-12T13:32:01.401Z"
   },
   {
    "duration": 11,
    "start_time": "2022-01-12T13:32:22.874Z"
   },
   {
    "duration": 6,
    "start_time": "2022-01-12T13:32:37.202Z"
   },
   {
    "duration": 8,
    "start_time": "2022-01-12T13:32:58.050Z"
   },
   {
    "duration": 10,
    "start_time": "2022-01-12T13:33:29.947Z"
   },
   {
    "duration": 13,
    "start_time": "2022-01-12T13:34:26.474Z"
   },
   {
    "duration": 10,
    "start_time": "2022-01-12T13:34:45.233Z"
   },
   {
    "duration": 10,
    "start_time": "2022-01-12T13:34:58.892Z"
   },
   {
    "duration": 10,
    "start_time": "2022-01-12T13:35:29.201Z"
   },
   {
    "duration": 10,
    "start_time": "2022-01-12T13:35:31.322Z"
   },
   {
    "duration": 11,
    "start_time": "2022-01-12T13:36:04.678Z"
   },
   {
    "duration": 26,
    "start_time": "2022-01-12T13:36:12.636Z"
   },
   {
    "duration": 5,
    "start_time": "2022-01-12T13:38:38.170Z"
   },
   {
    "duration": 9,
    "start_time": "2022-01-12T13:38:48.834Z"
   },
   {
    "duration": 5,
    "start_time": "2022-01-12T13:39:38.660Z"
   },
   {
    "duration": 6,
    "start_time": "2022-01-12T13:40:12.379Z"
   },
   {
    "duration": 10,
    "start_time": "2022-01-12T13:43:33.350Z"
   },
   {
    "duration": 9,
    "start_time": "2022-01-12T13:43:35.793Z"
   },
   {
    "duration": 8,
    "start_time": "2022-01-12T13:43:37.587Z"
   },
   {
    "duration": 5,
    "start_time": "2022-01-12T13:49:11.943Z"
   },
   {
    "duration": 890,
    "start_time": "2022-01-12T13:49:14.356Z"
   },
   {
    "duration": 12,
    "start_time": "2022-01-12T13:49:29.622Z"
   },
   {
    "duration": 4,
    "start_time": "2022-01-12T13:50:02.807Z"
   },
   {
    "duration": 907,
    "start_time": "2022-01-12T13:50:05.095Z"
   },
   {
    "duration": 10,
    "start_time": "2022-01-12T13:50:07.439Z"
   },
   {
    "duration": 6,
    "start_time": "2022-01-12T13:51:04.173Z"
   },
   {
    "duration": 1019,
    "start_time": "2022-01-12T13:51:05.974Z"
   },
   {
    "duration": 10,
    "start_time": "2022-01-12T13:51:08.447Z"
   },
   {
    "duration": 6,
    "start_time": "2022-01-12T13:53:05.817Z"
   },
   {
    "duration": 7,
    "start_time": "2022-01-12T13:53:28.168Z"
   },
   {
    "duration": 23,
    "start_time": "2022-01-12T13:53:41.340Z"
   },
   {
    "duration": 41,
    "start_time": "2022-01-12T13:53:49.861Z"
   },
   {
    "duration": 6,
    "start_time": "2022-01-12T13:55:13.862Z"
   },
   {
    "duration": 6,
    "start_time": "2022-01-12T13:55:22.520Z"
   },
   {
    "duration": 41,
    "start_time": "2022-01-12T13:55:24.684Z"
   },
   {
    "duration": 5,
    "start_time": "2022-01-12T13:55:42.798Z"
   },
   {
    "duration": 5,
    "start_time": "2022-01-12T13:55:45.330Z"
   },
   {
    "duration": 40,
    "start_time": "2022-01-12T13:55:47.463Z"
   },
   {
    "duration": 48,
    "start_time": "2022-01-12T13:56:58.824Z"
   },
   {
    "duration": 4,
    "start_time": "2022-01-12T14:02:44.682Z"
   },
   {
    "duration": 52,
    "start_time": "2022-01-12T14:02:50.479Z"
   },
   {
    "duration": 4,
    "start_time": "2022-01-12T14:04:34.457Z"
   },
   {
    "duration": 131,
    "start_time": "2022-01-12T14:06:39.012Z"
   },
   {
    "duration": 546,
    "start_time": "2022-01-12T14:07:33.268Z"
   },
   {
    "duration": 3216,
    "start_time": "2022-01-12T14:07:42.971Z"
   },
   {
    "duration": 276,
    "start_time": "2022-01-12T14:07:52.642Z"
   },
   {
    "duration": 530,
    "start_time": "2022-01-12T14:08:56.585Z"
   },
   {
    "duration": 566,
    "start_time": "2022-01-12T14:09:11.403Z"
   },
   {
    "duration": 378,
    "start_time": "2022-01-12T14:09:57.068Z"
   },
   {
    "duration": 735,
    "start_time": "2022-01-12T14:11:09.961Z"
   },
   {
    "duration": 713,
    "start_time": "2022-01-12T14:12:08.277Z"
   },
   {
    "duration": 571,
    "start_time": "2022-01-12T14:12:16.156Z"
   },
   {
    "duration": 563,
    "start_time": "2022-01-12T14:13:50.100Z"
   },
   {
    "duration": 296,
    "start_time": "2022-01-12T14:14:12.533Z"
   },
   {
    "duration": 3391,
    "start_time": "2022-01-12T14:14:23.172Z"
   },
   {
    "duration": 556,
    "start_time": "2022-01-12T14:14:41.236Z"
   },
   {
    "duration": 713,
    "start_time": "2022-01-12T14:15:17.186Z"
   },
   {
    "duration": 537,
    "start_time": "2022-01-12T14:16:18.167Z"
   },
   {
    "duration": 647,
    "start_time": "2022-01-12T14:18:27.734Z"
   },
   {
    "duration": 618,
    "start_time": "2022-01-12T14:19:44.508Z"
   },
   {
    "duration": 338,
    "start_time": "2022-01-12T14:20:10.294Z"
   },
   {
    "duration": 670,
    "start_time": "2022-01-12T14:21:39.334Z"
   },
   {
    "duration": 543,
    "start_time": "2022-01-12T14:22:09.400Z"
   },
   {
    "duration": 400,
    "start_time": "2022-01-12T14:22:16.069Z"
   },
   {
    "duration": 550,
    "start_time": "2022-01-12T14:22:27.076Z"
   },
   {
    "duration": 563,
    "start_time": "2022-01-12T14:23:11.733Z"
   },
   {
    "duration": 1092,
    "start_time": "2022-01-12T14:23:36.477Z"
   },
   {
    "duration": 558,
    "start_time": "2022-01-12T14:23:48.903Z"
   },
   {
    "duration": 522,
    "start_time": "2022-01-12T14:23:51.345Z"
   },
   {
    "duration": 595,
    "start_time": "2022-01-12T14:24:30.966Z"
   },
   {
    "duration": 588,
    "start_time": "2022-01-12T14:24:46.341Z"
   },
   {
    "duration": 10007,
    "start_time": "2022-01-12T14:25:14.103Z"
   },
   {
    "duration": 592,
    "start_time": "2022-01-12T14:25:34.933Z"
   },
   {
    "duration": 522,
    "start_time": "2022-01-12T14:25:47.421Z"
   },
   {
    "duration": 872,
    "start_time": "2022-01-12T14:26:21.238Z"
   },
   {
    "duration": 638,
    "start_time": "2022-01-12T14:28:25.920Z"
   },
   {
    "duration": 523,
    "start_time": "2022-01-12T14:29:07.772Z"
   },
   {
    "duration": 523,
    "start_time": "2022-01-12T14:29:55.944Z"
   },
   {
    "duration": 329,
    "start_time": "2022-01-13T13:22:36.893Z"
   },
   {
    "duration": 645,
    "start_time": "2022-01-13T13:22:49.185Z"
   },
   {
    "duration": 87,
    "start_time": "2022-01-13T13:22:50.341Z"
   },
   {
    "duration": 16,
    "start_time": "2022-01-13T13:22:51.963Z"
   },
   {
    "duration": 5,
    "start_time": "2022-01-13T13:22:55.397Z"
   },
   {
    "duration": 6,
    "start_time": "2022-01-13T13:22:55.962Z"
   },
   {
    "duration": 5,
    "start_time": "2022-01-13T13:22:56.458Z"
   },
   {
    "duration": 6,
    "start_time": "2022-01-13T13:22:57.058Z"
   },
   {
    "duration": 8,
    "start_time": "2022-01-13T13:22:57.577Z"
   },
   {
    "duration": 27,
    "start_time": "2022-01-13T13:22:58.081Z"
   },
   {
    "duration": 7,
    "start_time": "2022-01-13T13:23:00.171Z"
   },
   {
    "duration": 5,
    "start_time": "2022-01-13T13:23:00.713Z"
   },
   {
    "duration": 5,
    "start_time": "2022-01-13T13:23:01.289Z"
   },
   {
    "duration": 5,
    "start_time": "2022-01-13T13:23:01.969Z"
   },
   {
    "duration": 5,
    "start_time": "2022-01-13T13:23:02.569Z"
   },
   {
    "duration": 8,
    "start_time": "2022-01-13T13:23:03.113Z"
   },
   {
    "duration": 8,
    "start_time": "2022-01-13T13:23:03.673Z"
   },
   {
    "duration": 9,
    "start_time": "2022-01-13T13:23:05.730Z"
   },
   {
    "duration": 5,
    "start_time": "2022-01-13T13:23:06.281Z"
   },
   {
    "duration": 7,
    "start_time": "2022-01-13T13:23:06.899Z"
   },
   {
    "duration": 5,
    "start_time": "2022-01-13T13:23:08.617Z"
   },
   {
    "duration": 8,
    "start_time": "2022-01-13T13:23:09.202Z"
   },
   {
    "duration": 4,
    "start_time": "2022-01-13T13:23:09.865Z"
   },
   {
    "duration": 10,
    "start_time": "2022-01-13T13:23:11.609Z"
   },
   {
    "duration": 4,
    "start_time": "2022-01-13T13:23:12.201Z"
   },
   {
    "duration": 9,
    "start_time": "2022-01-13T13:23:12.753Z"
   },
   {
    "duration": 11,
    "start_time": "2022-01-13T13:23:14.514Z"
   },
   {
    "duration": 11,
    "start_time": "2022-01-13T13:23:15.203Z"
   },
   {
    "duration": 7,
    "start_time": "2022-01-13T13:23:15.817Z"
   },
   {
    "duration": 7,
    "start_time": "2022-01-13T13:23:17.538Z"
   },
   {
    "duration": 8,
    "start_time": "2022-01-13T13:23:18.129Z"
   },
   {
    "duration": 8,
    "start_time": "2022-01-13T13:23:20.466Z"
   },
   {
    "duration": 10,
    "start_time": "2022-01-13T13:23:21.089Z"
   },
   {
    "duration": 13,
    "start_time": "2022-01-13T13:23:21.601Z"
   },
   {
    "duration": 4,
    "start_time": "2022-01-13T13:23:25.188Z"
   },
   {
    "duration": 7,
    "start_time": "2022-01-13T13:23:25.761Z"
   },
   {
    "duration": 7,
    "start_time": "2022-01-13T13:23:26.306Z"
   },
   {
    "duration": 5,
    "start_time": "2022-01-13T13:23:26.826Z"
   },
   {
    "duration": 4,
    "start_time": "2022-01-13T13:23:27.305Z"
   },
   {
    "duration": 459,
    "start_time": "2022-01-13T13:23:27.849Z"
   },
   {
    "duration": 4,
    "start_time": "2022-01-13T13:23:28.417Z"
   },
   {
    "duration": 4,
    "start_time": "2022-01-13T13:23:28.930Z"
   },
   {
    "duration": 26,
    "start_time": "2022-01-13T13:23:30.678Z"
   },
   {
    "duration": 442,
    "start_time": "2022-01-13T13:23:34.292Z"
   },
   {
    "duration": 364,
    "start_time": "2022-01-13T13:23:37.418Z"
   },
   {
    "duration": 362,
    "start_time": "2022-01-13T13:23:39.138Z"
   },
   {
    "duration": 337,
    "start_time": "2022-01-13T13:23:42.018Z"
   },
   {
    "duration": 365,
    "start_time": "2022-01-13T13:23:43.491Z"
   },
   {
    "duration": 410,
    "start_time": "2022-01-13T13:23:45.907Z"
   },
   {
    "duration": 342,
    "start_time": "2022-01-13T13:23:47.463Z"
   },
   {
    "duration": 350,
    "start_time": "2022-01-13T13:23:52.156Z"
   },
   {
    "duration": 354,
    "start_time": "2022-01-13T13:23:57.439Z"
   },
   {
    "duration": 9,
    "start_time": "2022-01-13T13:24:40.444Z"
   },
   {
    "duration": 7,
    "start_time": "2022-01-13T13:32:37.338Z"
   },
   {
    "duration": 16,
    "start_time": "2022-01-13T13:33:51.095Z"
   },
   {
    "duration": 7637,
    "start_time": "2022-01-13T13:34:10.217Z"
   },
   {
    "duration": 367,
    "start_time": "2022-01-13T13:35:02.562Z"
   },
   {
    "duration": 11,
    "start_time": "2022-01-13T13:38:30.565Z"
   },
   {
    "duration": 540,
    "start_time": "2022-01-13T13:38:32.525Z"
   },
   {
    "duration": 75,
    "start_time": "2022-01-13T13:41:07.788Z"
   },
   {
    "duration": 11,
    "start_time": "2022-01-13T13:41:24.065Z"
   },
   {
    "duration": 370,
    "start_time": "2022-01-13T13:41:25.891Z"
   },
   {
    "duration": 46,
    "start_time": "2022-01-13T13:42:10.448Z"
   },
   {
    "duration": 57,
    "start_time": "2022-01-13T13:42:42.877Z"
   },
   {
    "duration": 206,
    "start_time": "2022-01-13T13:43:24.272Z"
   },
   {
    "duration": 354,
    "start_time": "2022-01-13T13:43:34.496Z"
   },
   {
    "duration": 11,
    "start_time": "2022-01-13T13:45:46.546Z"
   },
   {
    "duration": 365,
    "start_time": "2022-01-13T13:46:17.809Z"
   },
   {
    "duration": 752,
    "start_time": "2022-01-13T13:46:38.197Z"
   },
   {
    "duration": 76,
    "start_time": "2022-01-13T13:46:39.157Z"
   },
   {
    "duration": 12,
    "start_time": "2022-01-13T13:46:40.272Z"
   },
   {
    "duration": 5,
    "start_time": "2022-01-13T13:46:43.661Z"
   },
   {
    "duration": 5,
    "start_time": "2022-01-13T13:46:44.316Z"
   },
   {
    "duration": 6,
    "start_time": "2022-01-13T13:46:44.795Z"
   },
   {
    "duration": 5,
    "start_time": "2022-01-13T13:46:45.234Z"
   },
   {
    "duration": 8,
    "start_time": "2022-01-13T13:46:45.566Z"
   },
   {
    "duration": 25,
    "start_time": "2022-01-13T13:46:45.874Z"
   },
   {
    "duration": 8,
    "start_time": "2022-01-13T13:46:46.220Z"
   },
   {
    "duration": 6,
    "start_time": "2022-01-13T13:46:46.510Z"
   },
   {
    "duration": 5,
    "start_time": "2022-01-13T13:46:47.756Z"
   },
   {
    "duration": 4,
    "start_time": "2022-01-13T13:46:51.308Z"
   },
   {
    "duration": 5,
    "start_time": "2022-01-13T13:46:52.113Z"
   },
   {
    "duration": 7,
    "start_time": "2022-01-13T13:46:52.845Z"
   },
   {
    "duration": 8,
    "start_time": "2022-01-13T13:46:53.443Z"
   },
   {
    "duration": 9,
    "start_time": "2022-01-13T13:46:54.069Z"
   },
   {
    "duration": 5,
    "start_time": "2022-01-13T13:46:54.755Z"
   },
   {
    "duration": 6,
    "start_time": "2022-01-13T13:46:55.436Z"
   },
   {
    "duration": 6,
    "start_time": "2022-01-13T13:46:56.211Z"
   },
   {
    "duration": 10,
    "start_time": "2022-01-13T13:46:56.930Z"
   },
   {
    "duration": 4,
    "start_time": "2022-01-13T13:46:57.652Z"
   },
   {
    "duration": 8,
    "start_time": "2022-01-13T13:46:58.442Z"
   },
   {
    "duration": 4,
    "start_time": "2022-01-13T13:46:59.267Z"
   },
   {
    "duration": 7,
    "start_time": "2022-01-13T13:47:00.115Z"
   },
   {
    "duration": 8,
    "start_time": "2022-01-13T13:47:01.027Z"
   },
   {
    "duration": 11,
    "start_time": "2022-01-13T13:47:01.804Z"
   },
   {
    "duration": 7,
    "start_time": "2022-01-13T13:47:02.523Z"
   },
   {
    "duration": 8,
    "start_time": "2022-01-13T13:47:03.197Z"
   },
   {
    "duration": 7,
    "start_time": "2022-01-13T13:47:03.987Z"
   },
   {
    "duration": 7,
    "start_time": "2022-01-13T13:47:04.715Z"
   },
   {
    "duration": 8,
    "start_time": "2022-01-13T13:47:05.395Z"
   },
   {
    "duration": 11,
    "start_time": "2022-01-13T13:47:06.121Z"
   },
   {
    "duration": 5,
    "start_time": "2022-01-13T13:47:09.171Z"
   },
   {
    "duration": 7,
    "start_time": "2022-01-13T13:47:10.556Z"
   },
   {
    "duration": 6,
    "start_time": "2022-01-13T13:47:11.243Z"
   },
   {
    "duration": 6,
    "start_time": "2022-01-13T13:47:11.854Z"
   },
   {
    "duration": 3,
    "start_time": "2022-01-13T13:47:12.458Z"
   },
   {
    "duration": 456,
    "start_time": "2022-01-13T13:47:13.099Z"
   },
   {
    "duration": 5,
    "start_time": "2022-01-13T13:47:14.045Z"
   },
   {
    "duration": 6,
    "start_time": "2022-01-13T13:47:14.836Z"
   },
   {
    "duration": 31,
    "start_time": "2022-01-13T13:47:15.854Z"
   },
   {
    "duration": 437,
    "start_time": "2022-01-13T13:47:19.341Z"
   },
   {
    "duration": 359,
    "start_time": "2022-01-13T13:47:20.317Z"
   },
   {
    "duration": 358,
    "start_time": "2022-01-13T13:47:21.299Z"
   },
   {
    "duration": 340,
    "start_time": "2022-01-13T13:47:22.380Z"
   },
   {
    "duration": 365,
    "start_time": "2022-01-13T13:47:26.675Z"
   },
   {
    "duration": 406,
    "start_time": "2022-01-13T13:47:27.987Z"
   },
   {
    "duration": 340,
    "start_time": "2022-01-13T13:47:29.774Z"
   },
   {
    "duration": 344,
    "start_time": "2022-01-13T13:47:39.684Z"
   },
   {
    "duration": 362,
    "start_time": "2022-01-13T13:47:41.428Z"
   },
   {
    "duration": 10,
    "start_time": "2022-01-13T13:47:42.195Z"
   },
   {
    "duration": 8,
    "start_time": "2022-01-13T13:47:43.557Z"
   },
   {
    "duration": 17,
    "start_time": "2022-01-13T13:47:46.645Z"
   },
   {
    "duration": 341,
    "start_time": "2022-01-13T13:47:49.196Z"
   },
   {
    "duration": 342,
    "start_time": "2022-01-13T13:48:04.764Z"
   },
   {
    "duration": 311,
    "start_time": "2022-01-13T13:49:00.405Z"
   },
   {
    "duration": 15,
    "start_time": "2022-01-13T13:49:05.540Z"
   },
   {
    "duration": 456,
    "start_time": "2022-01-13T13:49:07.860Z"
   },
   {
    "duration": 12,
    "start_time": "2022-01-13T13:49:36.588Z"
   },
   {
    "duration": 338,
    "start_time": "2022-01-13T13:49:38.596Z"
   },
   {
    "duration": 11,
    "start_time": "2022-01-13T13:52:47.453Z"
   },
   {
    "duration": 392,
    "start_time": "2022-01-13T13:52:52.331Z"
   },
   {
    "duration": 334,
    "start_time": "2022-01-13T13:53:03.709Z"
   },
   {
    "duration": 336,
    "start_time": "2022-01-13T13:53:19.428Z"
   },
   {
    "duration": 471,
    "start_time": "2022-01-13T13:53:27.791Z"
   },
   {
    "duration": 9,
    "start_time": "2022-01-13T13:53:32.998Z"
   },
   {
    "duration": 343,
    "start_time": "2022-01-13T13:53:34.748Z"
   },
   {
    "duration": 9,
    "start_time": "2022-01-13T13:53:53.363Z"
   },
   {
    "duration": 354,
    "start_time": "2022-01-13T13:53:55.116Z"
   },
   {
    "duration": 7,
    "start_time": "2022-01-13T13:54:50.788Z"
   },
   {
    "duration": 343,
    "start_time": "2022-01-13T13:54:52.923Z"
   },
   {
    "duration": 10,
    "start_time": "2022-01-13T13:57:12.716Z"
   },
   {
    "duration": 342,
    "start_time": "2022-01-13T13:57:16.683Z"
   },
   {
    "duration": 9,
    "start_time": "2022-01-13T13:57:29.348Z"
   },
   {
    "duration": 355,
    "start_time": "2022-01-13T13:57:31.075Z"
   },
   {
    "duration": 58,
    "start_time": "2022-01-13T13:58:33.788Z"
   },
   {
    "duration": 10,
    "start_time": "2022-01-13T13:58:43.916Z"
   },
   {
    "duration": 472,
    "start_time": "2022-01-13T13:58:47.013Z"
   },
   {
    "duration": 10,
    "start_time": "2022-01-13T13:58:54.812Z"
   },
   {
    "duration": 371,
    "start_time": "2022-01-13T13:58:56.804Z"
   },
   {
    "duration": 9,
    "start_time": "2022-01-13T14:01:40.816Z"
   },
   {
    "duration": 344,
    "start_time": "2022-01-13T14:01:42.877Z"
   },
   {
    "duration": 7,
    "start_time": "2022-01-13T14:03:04.976Z"
   },
   {
    "duration": 9,
    "start_time": "2022-01-13T14:03:55.176Z"
   },
   {
    "duration": 344,
    "start_time": "2022-01-13T14:03:57.020Z"
   },
   {
    "duration": 10,
    "start_time": "2022-01-13T14:06:32.389Z"
   },
   {
    "duration": 352,
    "start_time": "2022-01-13T14:06:34.377Z"
   },
   {
    "duration": 8,
    "start_time": "2022-01-13T14:11:59.084Z"
   },
   {
    "duration": 384,
    "start_time": "2022-01-13T14:12:01.285Z"
   },
   {
    "duration": 9,
    "start_time": "2022-01-13T14:12:25.461Z"
   },
   {
    "duration": 351,
    "start_time": "2022-01-13T14:12:28.084Z"
   },
   {
    "duration": 7,
    "start_time": "2022-01-13T14:15:40.469Z"
   },
   {
    "duration": 9,
    "start_time": "2022-01-13T14:16:15.685Z"
   },
   {
    "duration": 9,
    "start_time": "2022-01-13T14:16:31.508Z"
   },
   {
    "duration": 7,
    "start_time": "2022-01-13T14:17:42.445Z"
   },
   {
    "duration": 10,
    "start_time": "2022-01-13T14:17:48.084Z"
   },
   {
    "duration": 505,
    "start_time": "2022-01-13T14:17:51.268Z"
   },
   {
    "duration": 8,
    "start_time": "2022-01-13T14:21:32.197Z"
   },
   {
    "duration": 345,
    "start_time": "2022-01-13T14:21:34.222Z"
   },
   {
    "duration": 8,
    "start_time": "2022-01-13T14:23:06.229Z"
   },
   {
    "duration": 349,
    "start_time": "2022-01-13T14:23:08.324Z"
   },
   {
    "duration": 1181,
    "start_time": "2022-01-13T17:16:28.589Z"
   },
   {
    "duration": 176,
    "start_time": "2022-01-13T17:16:29.774Z"
   },
   {
    "duration": 24,
    "start_time": "2022-01-13T17:16:29.954Z"
   },
   {
    "duration": 7,
    "start_time": "2022-01-13T17:16:31.347Z"
   },
   {
    "duration": 7,
    "start_time": "2022-01-13T17:16:31.628Z"
   },
   {
    "duration": 6,
    "start_time": "2022-01-13T17:16:32.099Z"
   },
   {
    "duration": 7,
    "start_time": "2022-01-13T17:16:35.019Z"
   },
   {
    "duration": 17,
    "start_time": "2022-01-13T17:16:35.427Z"
   },
   {
    "duration": 37,
    "start_time": "2022-01-13T17:16:35.739Z"
   },
   {
    "duration": 13,
    "start_time": "2022-01-13T17:16:37.356Z"
   },
   {
    "duration": 9,
    "start_time": "2022-01-13T17:16:37.946Z"
   },
   {
    "duration": 8,
    "start_time": "2022-01-13T17:16:38.410Z"
   },
   {
    "duration": 9,
    "start_time": "2022-01-13T17:16:38.795Z"
   },
   {
    "duration": 10,
    "start_time": "2022-01-13T17:16:39.182Z"
   },
   {
    "duration": 7,
    "start_time": "2022-01-13T17:16:40.651Z"
   },
   {
    "duration": 10,
    "start_time": "2022-01-13T17:16:41.419Z"
   },
   {
    "duration": 10,
    "start_time": "2022-01-13T17:16:42.091Z"
   },
   {
    "duration": 11,
    "start_time": "2022-01-13T17:16:42.788Z"
   },
   {
    "duration": 13,
    "start_time": "2022-01-13T17:16:43.515Z"
   },
   {
    "duration": 10,
    "start_time": "2022-01-13T17:16:44.204Z"
   },
   {
    "duration": 8,
    "start_time": "2022-01-13T17:16:44.772Z"
   },
   {
    "duration": 11,
    "start_time": "2022-01-13T17:16:45.419Z"
   },
   {
    "duration": 8,
    "start_time": "2022-01-13T17:16:45.986Z"
   },
   {
    "duration": 10,
    "start_time": "2022-01-13T17:16:46.595Z"
   },
   {
    "duration": 7,
    "start_time": "2022-01-13T17:16:47.155Z"
   },
   {
    "duration": 9,
    "start_time": "2022-01-13T17:16:47.956Z"
   },
   {
    "duration": 11,
    "start_time": "2022-01-13T17:16:48.610Z"
   },
   {
    "duration": 11,
    "start_time": "2022-01-13T17:16:49.355Z"
   },
   {
    "duration": 11,
    "start_time": "2022-01-13T17:16:50.003Z"
   },
   {
    "duration": 10,
    "start_time": "2022-01-13T17:16:50.666Z"
   },
   {
    "duration": 11,
    "start_time": "2022-01-13T17:16:51.283Z"
   },
   {
    "duration": 10,
    "start_time": "2022-01-13T17:16:51.978Z"
   },
   {
    "duration": 11,
    "start_time": "2022-01-13T17:16:52.603Z"
   },
   {
    "duration": 16,
    "start_time": "2022-01-13T17:16:53.211Z"
   },
   {
    "duration": 6,
    "start_time": "2022-01-13T17:16:58.243Z"
   },
   {
    "duration": 8,
    "start_time": "2022-01-13T17:16:58.763Z"
   },
   {
    "duration": 8,
    "start_time": "2022-01-13T17:16:59.236Z"
   },
   {
    "duration": 10,
    "start_time": "2022-01-13T17:16:59.715Z"
   },
   {
    "duration": 5,
    "start_time": "2022-01-13T17:17:00.164Z"
   },
   {
    "duration": 788,
    "start_time": "2022-01-13T17:17:00.651Z"
   },
   {
    "duration": 5,
    "start_time": "2022-01-13T17:17:02.027Z"
   },
   {
    "duration": 6,
    "start_time": "2022-01-13T17:17:02.707Z"
   },
   {
    "duration": 38,
    "start_time": "2022-01-13T17:17:03.619Z"
   },
   {
    "duration": 679,
    "start_time": "2022-01-13T17:17:07.452Z"
   },
   {
    "duration": 584,
    "start_time": "2022-01-13T17:17:08.699Z"
   },
   {
    "duration": 590,
    "start_time": "2022-01-13T17:17:09.362Z"
   },
   {
    "duration": 550,
    "start_time": "2022-01-13T17:17:10.379Z"
   },
   {
    "duration": 561,
    "start_time": "2022-01-13T17:17:11.314Z"
   },
   {
    "duration": 619,
    "start_time": "2022-01-13T17:17:12.515Z"
   },
   {
    "duration": 528,
    "start_time": "2022-01-13T17:17:13.595Z"
   },
   {
    "duration": 553,
    "start_time": "2022-01-13T17:17:24.268Z"
   },
   {
    "duration": 554,
    "start_time": "2022-01-13T17:17:25.651Z"
   },
   {
    "duration": 12,
    "start_time": "2022-01-13T17:17:27.851Z"
   },
   {
    "duration": 9,
    "start_time": "2022-01-13T17:17:29.524Z"
   },
   {
    "duration": 20,
    "start_time": "2022-01-13T17:17:33.338Z"
   },
   {
    "duration": 661,
    "start_time": "2022-01-13T17:17:34.283Z"
   },
   {
    "duration": 12,
    "start_time": "2022-01-13T17:17:50.772Z"
   },
   {
    "duration": 16,
    "start_time": "2022-01-13T17:18:01.948Z"
   },
   {
    "duration": 555,
    "start_time": "2022-01-13T17:18:04.195Z"
   },
   {
    "duration": 10,
    "start_time": "2022-01-13T17:18:35.004Z"
   },
   {
    "duration": 640,
    "start_time": "2022-01-13T17:18:37.060Z"
   },
   {
    "duration": 6,
    "start_time": "2022-01-13T17:19:30.460Z"
   },
   {
    "duration": 14,
    "start_time": "2022-01-13T17:19:35.068Z"
   },
   {
    "duration": 561,
    "start_time": "2022-01-13T17:19:36.747Z"
   },
   {
    "duration": 565,
    "start_time": "2022-01-13T17:20:07.749Z"
   },
   {
    "duration": 14,
    "start_time": "2022-01-13T17:20:57.628Z"
   },
   {
    "duration": 557,
    "start_time": "2022-01-13T17:20:59.795Z"
   },
   {
    "duration": 12,
    "start_time": "2022-01-13T17:21:28.804Z"
   },
   {
    "duration": 590,
    "start_time": "2022-01-13T17:21:30.507Z"
   },
   {
    "duration": 726,
    "start_time": "2022-01-13T17:22:27.661Z"
   },
   {
    "duration": 11,
    "start_time": "2022-01-13T17:22:35.459Z"
   },
   {
    "duration": 877,
    "start_time": "2022-01-13T17:22:37.285Z"
   },
   {
    "duration": 9,
    "start_time": "2022-01-13T17:26:39.188Z"
   },
   {
    "duration": 1011,
    "start_time": "2022-01-14T06:07:48.487Z"
   },
   {
    "duration": 102,
    "start_time": "2022-01-14T06:07:49.504Z"
   },
   {
    "duration": 15,
    "start_time": "2022-01-14T06:07:53.773Z"
   },
   {
    "duration": 6,
    "start_time": "2022-01-14T06:07:56.499Z"
   },
   {
    "duration": 8,
    "start_time": "2022-01-14T06:07:57.097Z"
   },
   {
    "duration": 8,
    "start_time": "2022-01-14T06:07:57.747Z"
   },
   {
    "duration": 7,
    "start_time": "2022-01-14T06:07:58.580Z"
   },
   {
    "duration": 11,
    "start_time": "2022-01-14T06:07:59.309Z"
   },
   {
    "duration": 38,
    "start_time": "2022-01-14T06:07:59.953Z"
   },
   {
    "duration": 11,
    "start_time": "2022-01-14T06:08:00.661Z"
   },
   {
    "duration": 8,
    "start_time": "2022-01-14T06:08:01.877Z"
   },
   {
    "duration": 6,
    "start_time": "2022-01-14T06:08:03.029Z"
   },
   {
    "duration": 6,
    "start_time": "2022-01-14T06:08:04.083Z"
   },
   {
    "duration": 10,
    "start_time": "2022-01-14T06:08:04.955Z"
   },
   {
    "duration": 7,
    "start_time": "2022-01-14T06:08:05.854Z"
   },
   {
    "duration": 11,
    "start_time": "2022-01-14T06:08:07.061Z"
   },
   {
    "duration": 12,
    "start_time": "2022-01-14T06:08:08.147Z"
   },
   {
    "duration": 13,
    "start_time": "2022-01-14T06:08:09.189Z"
   },
   {
    "duration": 7,
    "start_time": "2022-01-14T06:08:10.120Z"
   },
   {
    "duration": 9,
    "start_time": "2022-01-14T06:08:11.459Z"
   },
   {
    "duration": 7,
    "start_time": "2022-01-14T06:08:19.244Z"
   },
   {
    "duration": 10,
    "start_time": "2022-01-14T06:08:20.044Z"
   },
   {
    "duration": 6,
    "start_time": "2022-01-14T06:08:21.366Z"
   },
   {
    "duration": 10,
    "start_time": "2022-01-14T06:08:22.541Z"
   },
   {
    "duration": 6,
    "start_time": "2022-01-14T06:08:25.613Z"
   },
   {
    "duration": 8,
    "start_time": "2022-01-14T06:08:26.491Z"
   },
   {
    "duration": 10,
    "start_time": "2022-01-14T06:08:29.484Z"
   },
   {
    "duration": 11,
    "start_time": "2022-01-14T06:08:41.251Z"
   },
   {
    "duration": 12,
    "start_time": "2022-01-14T06:08:43.495Z"
   },
   {
    "duration": 10,
    "start_time": "2022-01-14T06:08:44.291Z"
   },
   {
    "duration": 9,
    "start_time": "2022-01-14T06:08:49.356Z"
   },
   {
    "duration": 9,
    "start_time": "2022-01-14T06:08:52.552Z"
   },
   {
    "duration": 11,
    "start_time": "2022-01-14T06:08:54.333Z"
   },
   {
    "duration": 17,
    "start_time": "2022-01-14T06:08:59.236Z"
   },
   {
    "duration": 6,
    "start_time": "2022-01-14T06:09:04.472Z"
   },
   {
    "duration": 8,
    "start_time": "2022-01-14T06:09:05.373Z"
   },
   {
    "duration": 8,
    "start_time": "2022-01-14T06:09:06.068Z"
   },
   {
    "duration": 8,
    "start_time": "2022-01-14T06:09:06.795Z"
   },
   {
    "duration": 5,
    "start_time": "2022-01-14T06:09:07.791Z"
   },
   {
    "duration": 773,
    "start_time": "2022-01-14T06:09:10.068Z"
   },
   {
    "duration": 5,
    "start_time": "2022-01-14T06:09:10.843Z"
   },
   {
    "duration": 6,
    "start_time": "2022-01-14T06:09:11.339Z"
   },
   {
    "duration": 35,
    "start_time": "2022-01-14T06:09:12.131Z"
   },
   {
    "duration": 659,
    "start_time": "2022-01-14T06:09:16.948Z"
   },
   {
    "duration": 554,
    "start_time": "2022-01-14T06:09:17.835Z"
   },
   {
    "duration": 542,
    "start_time": "2022-01-14T06:09:19.647Z"
   },
   {
    "duration": 533,
    "start_time": "2022-01-14T06:09:21.292Z"
   },
   {
    "duration": 545,
    "start_time": "2022-01-14T06:09:24.125Z"
   },
   {
    "duration": 598,
    "start_time": "2022-01-14T06:09:28.526Z"
   },
   {
    "duration": 523,
    "start_time": "2022-01-14T06:09:32.179Z"
   },
   {
    "duration": 579,
    "start_time": "2022-01-14T06:09:37.346Z"
   },
   {
    "duration": 547,
    "start_time": "2022-01-14T06:09:40.404Z"
   },
   {
    "duration": 13,
    "start_time": "2022-01-14T06:09:44.387Z"
   },
   {
    "duration": 9,
    "start_time": "2022-01-14T06:09:45.501Z"
   },
   {
    "duration": 8,
    "start_time": "2022-01-14T06:09:50.987Z"
   },
   {
    "duration": 18,
    "start_time": "2022-01-14T06:10:06.884Z"
   },
   {
    "duration": 526,
    "start_time": "2022-01-14T06:10:08.253Z"
   },
   {
    "duration": 8,
    "start_time": "2022-01-14T06:10:11.222Z"
   },
   {
    "duration": 10,
    "start_time": "2022-01-14T06:12:29.533Z"
   },
   {
    "duration": 340,
    "start_time": "2022-01-14T06:18:45.103Z"
   },
   {
    "duration": 213,
    "start_time": "2022-01-14T06:20:51.765Z"
   },
   {
    "duration": 239,
    "start_time": "2022-01-14T06:21:52.501Z"
   },
   {
    "duration": 396,
    "start_time": "2022-01-14T06:30:39.246Z"
   },
   {
    "duration": 8,
    "start_time": "2022-01-14T06:31:07.999Z"
   },
   {
    "duration": 8,
    "start_time": "2022-01-14T06:31:27.664Z"
   },
   {
    "duration": 6,
    "start_time": "2022-01-14T06:32:06.024Z"
   },
   {
    "duration": 7,
    "start_time": "2022-01-14T06:34:04.167Z"
   },
   {
    "duration": 1304,
    "start_time": "2022-01-14T06:36:10.302Z"
   },
   {
    "duration": 257,
    "start_time": "2022-01-14T06:39:08.855Z"
   },
   {
    "duration": 6692,
    "start_time": "2022-01-14T06:39:32.199Z"
   },
   {
    "duration": 6684,
    "start_time": "2022-01-14T06:40:27.985Z"
   },
   {
    "duration": 742,
    "start_time": "2022-01-14T06:40:35.126Z"
   },
   {
    "duration": 296,
    "start_time": "2022-01-14T06:41:36.425Z"
   },
   {
    "duration": 274,
    "start_time": "2022-01-14T06:42:34.347Z"
   },
   {
    "duration": 7,
    "start_time": "2022-01-14T06:43:34.294Z"
   },
   {
    "duration": 6,
    "start_time": "2022-01-14T06:43:42.182Z"
   },
   {
    "duration": 8,
    "start_time": "2022-01-14T06:43:47.398Z"
   },
   {
    "duration": 1084,
    "start_time": "2022-01-14T06:44:40.907Z"
   },
   {
    "duration": 1177,
    "start_time": "2022-01-14T06:52:56.369Z"
   },
   {
    "duration": 20,
    "start_time": "2022-01-14T06:54:51.888Z"
   },
   {
    "duration": 312,
    "start_time": "2022-01-14T06:55:44.208Z"
   },
   {
    "duration": 16,
    "start_time": "2022-01-14T06:55:58.769Z"
   },
   {
    "duration": 45,
    "start_time": "2022-01-14T06:57:15.127Z"
   },
   {
    "duration": 8226,
    "start_time": "2022-01-14T07:02:13.169Z"
   },
   {
    "duration": 42,
    "start_time": "2022-01-14T07:02:36.815Z"
   },
   {
    "duration": 7214,
    "start_time": "2022-01-14T07:03:09.873Z"
   },
   {
    "duration": 7,
    "start_time": "2022-01-14T07:05:48.630Z"
   },
   {
    "duration": 13,
    "start_time": "2022-01-14T07:06:46.286Z"
   },
   {
    "duration": 7,
    "start_time": "2022-01-14T07:07:59.048Z"
   },
   {
    "duration": 7,
    "start_time": "2022-01-14T07:08:44.737Z"
   },
   {
    "duration": 7,
    "start_time": "2022-01-14T07:09:17.465Z"
   },
   {
    "duration": 9,
    "start_time": "2022-01-14T07:11:10.275Z"
   },
   {
    "duration": 289,
    "start_time": "2022-01-14T07:15:59.026Z"
   },
   {
    "duration": 272,
    "start_time": "2022-01-14T07:16:14.680Z"
   },
   {
    "duration": 7,
    "start_time": "2022-01-14T07:17:47.272Z"
   },
   {
    "duration": 7,
    "start_time": "2022-01-14T07:17:55.049Z"
   },
   {
    "duration": 7071,
    "start_time": "2022-01-14T07:18:27.959Z"
   },
   {
    "duration": 275,
    "start_time": "2022-01-14T07:18:41.688Z"
   },
   {
    "duration": 273,
    "start_time": "2022-01-14T07:20:50.362Z"
   },
   {
    "duration": 274,
    "start_time": "2022-01-14T07:21:02.266Z"
   },
   {
    "duration": 318,
    "start_time": "2022-01-14T07:21:54.521Z"
   },
   {
    "duration": 321,
    "start_time": "2022-01-14T07:23:23.553Z"
   },
   {
    "duration": 310,
    "start_time": "2022-01-14T07:24:47.520Z"
   },
   {
    "duration": 12,
    "start_time": "2022-01-14T07:30:48.068Z"
   },
   {
    "duration": 264,
    "start_time": "2022-01-14T07:31:28.993Z"
   },
   {
    "duration": 250,
    "start_time": "2022-01-14T07:32:07.018Z"
   },
   {
    "duration": 272,
    "start_time": "2022-01-14T07:32:31.129Z"
   },
   {
    "duration": 46,
    "start_time": "2022-01-14T07:32:39.919Z"
   },
   {
    "duration": 367,
    "start_time": "2022-01-14T07:32:51.457Z"
   },
   {
    "duration": 7241,
    "start_time": "2022-01-14T07:34:43.546Z"
   },
   {
    "duration": 81,
    "start_time": "2022-01-14T07:34:58.905Z"
   },
   {
    "duration": 11,
    "start_time": "2022-01-14T07:35:04.778Z"
   },
   {
    "duration": 256,
    "start_time": "2022-01-14T07:39:37.924Z"
   },
   {
    "duration": 40,
    "start_time": "2022-01-14T07:40:16.587Z"
   },
   {
    "duration": 37,
    "start_time": "2022-01-14T07:40:26.117Z"
   },
   {
    "duration": 327,
    "start_time": "2022-01-14T07:41:28.665Z"
   },
   {
    "duration": 38,
    "start_time": "2022-01-14T07:41:44.243Z"
   },
   {
    "duration": 41,
    "start_time": "2022-01-14T07:42:46.384Z"
   },
   {
    "duration": 292,
    "start_time": "2022-01-14T07:43:21.197Z"
   },
   {
    "duration": 290,
    "start_time": "2022-01-14T07:44:18.828Z"
   },
   {
    "duration": 289,
    "start_time": "2022-01-14T07:44:59.214Z"
   },
   {
    "duration": 285,
    "start_time": "2022-01-14T07:45:24.740Z"
   },
   {
    "duration": 37,
    "start_time": "2022-01-14T07:45:30.611Z"
   },
   {
    "duration": 38,
    "start_time": "2022-01-14T07:47:07.812Z"
   },
   {
    "duration": 12,
    "start_time": "2022-01-14T07:47:24.463Z"
   },
   {
    "duration": 12,
    "start_time": "2022-01-14T07:48:06.102Z"
   },
   {
    "duration": 12,
    "start_time": "2022-01-14T07:48:38.788Z"
   },
   {
    "duration": 447,
    "start_time": "2022-01-14T07:48:52.822Z"
   },
   {
    "duration": 12,
    "start_time": "2022-01-14T07:49:10.213Z"
   },
   {
    "duration": 11,
    "start_time": "2022-01-14T07:49:32.778Z"
   },
   {
    "duration": 37,
    "start_time": "2022-01-14T07:50:28.284Z"
   },
   {
    "duration": 16,
    "start_time": "2022-01-14T07:50:52.779Z"
   },
   {
    "duration": 13,
    "start_time": "2022-01-14T07:51:10.470Z"
   },
   {
    "duration": 11,
    "start_time": "2022-01-14T07:51:22.119Z"
   },
   {
    "duration": 12,
    "start_time": "2022-01-14T07:51:32.189Z"
   },
   {
    "duration": 85,
    "start_time": "2022-01-14T07:53:13.850Z"
   },
   {
    "duration": 6,
    "start_time": "2022-01-14T07:56:57.005Z"
   },
   {
    "duration": 288,
    "start_time": "2022-01-14T08:03:19.597Z"
   },
   {
    "duration": 296,
    "start_time": "2022-01-14T08:04:06.198Z"
   },
   {
    "duration": 6839,
    "start_time": "2022-01-14T08:04:33.991Z"
   },
   {
    "duration": 7374,
    "start_time": "2022-01-14T08:05:11.407Z"
   },
   {
    "duration": 304,
    "start_time": "2022-01-14T08:05:34.600Z"
   },
   {
    "duration": 270,
    "start_time": "2022-01-14T08:05:58.836Z"
   },
   {
    "duration": 5,
    "start_time": "2022-01-14T08:06:06.789Z"
   },
   {
    "duration": 304,
    "start_time": "2022-01-14T08:06:09.162Z"
   },
   {
    "duration": 313,
    "start_time": "2022-01-14T08:22:51.116Z"
   },
   {
    "duration": 11,
    "start_time": "2022-01-14T08:29:17.301Z"
   },
   {
    "duration": 281,
    "start_time": "2022-01-14T08:30:40.445Z"
   },
   {
    "duration": 7,
    "start_time": "2022-01-14T08:32:26.453Z"
   },
   {
    "duration": 7,
    "start_time": "2022-01-14T08:33:07.703Z"
   },
   {
    "duration": 7,
    "start_time": "2022-01-14T08:34:09.085Z"
   },
   {
    "duration": 6,
    "start_time": "2022-01-14T08:34:54.876Z"
   },
   {
    "duration": 7,
    "start_time": "2022-01-14T08:34:56.715Z"
   },
   {
    "duration": 6,
    "start_time": "2022-01-14T08:34:58.628Z"
   },
   {
    "duration": 7,
    "start_time": "2022-01-14T08:36:05.077Z"
   },
   {
    "duration": 321,
    "start_time": "2022-01-14T08:42:13.833Z"
   },
   {
    "duration": 300,
    "start_time": "2022-01-14T08:43:14.117Z"
   },
   {
    "duration": 295,
    "start_time": "2022-01-14T08:44:58.414Z"
   },
   {
    "duration": 285,
    "start_time": "2022-01-14T08:45:13.079Z"
   },
   {
    "duration": 34,
    "start_time": "2022-01-14T08:45:19.613Z"
   },
   {
    "duration": 319,
    "start_time": "2022-01-14T08:45:40.051Z"
   },
   {
    "duration": 36,
    "start_time": "2022-01-14T08:46:03.069Z"
   },
   {
    "duration": 436,
    "start_time": "2022-01-14T08:46:17.382Z"
   },
   {
    "duration": 339,
    "start_time": "2022-01-14T08:46:51.942Z"
   },
   {
    "duration": 306,
    "start_time": "2022-01-14T08:47:48.176Z"
   },
   {
    "duration": 301,
    "start_time": "2022-01-14T08:48:03.733Z"
   },
   {
    "duration": 284,
    "start_time": "2022-01-14T08:48:45.966Z"
   },
   {
    "duration": 313,
    "start_time": "2022-01-14T08:50:27.735Z"
   },
   {
    "duration": 433,
    "start_time": "2022-01-14T08:55:24.487Z"
   },
   {
    "duration": 303,
    "start_time": "2022-01-14T08:56:03.568Z"
   },
   {
    "duration": 288,
    "start_time": "2022-01-14T08:58:09.431Z"
   },
   {
    "duration": 282,
    "start_time": "2022-01-14T08:58:41.999Z"
   },
   {
    "duration": 319,
    "start_time": "2022-01-14T08:58:56.719Z"
   },
   {
    "duration": 290,
    "start_time": "2022-01-14T08:59:26.751Z"
   },
   {
    "duration": 293,
    "start_time": "2022-01-14T09:01:20.975Z"
   },
   {
    "duration": 687,
    "start_time": "2022-01-14T11:41:24.235Z"
   },
   {
    "duration": 580,
    "start_time": "2022-01-14T11:45:23.161Z"
   },
   {
    "duration": 600,
    "start_time": "2022-01-14T11:45:54.312Z"
   },
   {
    "duration": 617,
    "start_time": "2022-01-14T11:46:07.530Z"
   },
   {
    "duration": 717,
    "start_time": "2022-01-14T11:47:12.490Z"
   },
   {
    "duration": 607,
    "start_time": "2022-01-14T11:47:25.588Z"
   },
   {
    "duration": 589,
    "start_time": "2022-01-14T11:48:26.609Z"
   },
   {
    "duration": 13,
    "start_time": "2022-01-14T11:49:54.963Z"
   },
   {
    "duration": 668,
    "start_time": "2022-01-14T11:51:40.755Z"
   },
   {
    "duration": 884,
    "start_time": "2022-01-14T11:52:59.739Z"
   },
   {
    "duration": 607,
    "start_time": "2022-01-14T11:53:41.410Z"
   },
   {
    "duration": 577,
    "start_time": "2022-01-14T11:53:56.370Z"
   },
   {
    "duration": 565,
    "start_time": "2022-01-14T11:54:02.625Z"
   },
   {
    "duration": 611,
    "start_time": "2022-01-14T11:55:08.770Z"
   },
   {
    "duration": 592,
    "start_time": "2022-01-14T11:57:06.491Z"
   },
   {
    "duration": 10,
    "start_time": "2022-01-14T13:57:38.383Z"
   },
   {
    "duration": 1043,
    "start_time": "2022-01-16T16:11:27.971Z"
   },
   {
    "duration": 128,
    "start_time": "2022-01-16T16:11:29.017Z"
   },
   {
    "duration": 24,
    "start_time": "2022-01-16T16:11:29.148Z"
   },
   {
    "duration": 8,
    "start_time": "2022-01-16T16:11:29.175Z"
   },
   {
    "duration": 7,
    "start_time": "2022-01-16T16:11:29.186Z"
   },
   {
    "duration": 8,
    "start_time": "2022-01-16T16:11:29.196Z"
   },
   {
    "duration": 9,
    "start_time": "2022-01-16T16:11:29.207Z"
   },
   {
    "duration": 50,
    "start_time": "2022-01-16T16:11:29.220Z"
   },
   {
    "duration": 39,
    "start_time": "2022-01-16T16:11:29.274Z"
   },
   {
    "duration": 15,
    "start_time": "2022-01-16T16:11:29.316Z"
   },
   {
    "duration": 35,
    "start_time": "2022-01-16T16:11:29.333Z"
   },
   {
    "duration": 6,
    "start_time": "2022-01-16T16:11:29.371Z"
   },
   {
    "duration": 11,
    "start_time": "2022-01-16T16:11:29.380Z"
   },
   {
    "duration": 9,
    "start_time": "2022-01-16T16:11:29.394Z"
   },
   {
    "duration": 12,
    "start_time": "2022-01-16T16:11:29.405Z"
   },
   {
    "duration": 53,
    "start_time": "2022-01-16T16:11:29.420Z"
   },
   {
    "duration": 12,
    "start_time": "2022-01-16T16:11:29.476Z"
   },
   {
    "duration": 6,
    "start_time": "2022-01-16T16:11:29.490Z"
   },
   {
    "duration": 14,
    "start_time": "2022-01-16T16:11:29.499Z"
   },
   {
    "duration": 52,
    "start_time": "2022-01-16T16:11:29.516Z"
   },
   {
    "duration": 13,
    "start_time": "2022-01-16T16:11:29.571Z"
   },
   {
    "duration": 5,
    "start_time": "2022-01-16T16:11:29.587Z"
   },
   {
    "duration": 10,
    "start_time": "2022-01-16T16:11:29.598Z"
   },
   {
    "duration": 6,
    "start_time": "2022-01-16T16:11:29.611Z"
   },
   {
    "duration": 8,
    "start_time": "2022-01-16T16:11:29.667Z"
   },
   {
    "duration": 14,
    "start_time": "2022-01-16T16:11:29.678Z"
   },
   {
    "duration": 14,
    "start_time": "2022-01-16T16:11:29.695Z"
   },
   {
    "duration": 10,
    "start_time": "2022-01-16T16:11:29.712Z"
   },
   {
    "duration": 10,
    "start_time": "2022-01-16T16:11:29.768Z"
   },
   {
    "duration": 9,
    "start_time": "2022-01-16T16:11:29.780Z"
   },
   {
    "duration": 12,
    "start_time": "2022-01-16T16:11:29.792Z"
   },
   {
    "duration": 12,
    "start_time": "2022-01-16T16:11:29.806Z"
   },
   {
    "duration": 61,
    "start_time": "2022-01-16T16:11:29.820Z"
   },
   {
    "duration": 5,
    "start_time": "2022-01-16T16:11:29.883Z"
   },
   {
    "duration": 12,
    "start_time": "2022-01-16T16:11:29.891Z"
   },
   {
    "duration": 16,
    "start_time": "2022-01-16T16:11:29.905Z"
   },
   {
    "duration": 9,
    "start_time": "2022-01-16T16:11:29.923Z"
   },
   {
    "duration": 4,
    "start_time": "2022-01-16T16:11:29.968Z"
   },
   {
    "duration": 887,
    "start_time": "2022-01-16T16:11:29.974Z"
   },
   {
    "duration": 5,
    "start_time": "2022-01-16T16:11:30.867Z"
   },
   {
    "duration": 18,
    "start_time": "2022-01-16T16:11:30.874Z"
   },
   {
    "duration": 49,
    "start_time": "2022-01-16T16:11:30.895Z"
   },
   {
    "duration": 636,
    "start_time": "2022-01-16T16:11:30.946Z"
   },
   {
    "duration": 757,
    "start_time": "2022-01-16T16:11:31.585Z"
   },
   {
    "duration": 599,
    "start_time": "2022-01-16T16:11:32.344Z"
   },
   {
    "duration": 573,
    "start_time": "2022-01-16T16:11:32.945Z"
   },
   {
    "duration": 569,
    "start_time": "2022-01-16T16:11:33.520Z"
   },
   {
    "duration": 583,
    "start_time": "2022-01-16T16:11:34.092Z"
   },
   {
    "duration": 645,
    "start_time": "2022-01-16T16:11:34.677Z"
   },
   {
    "duration": 586,
    "start_time": "2022-01-16T16:11:35.325Z"
   },
   {
    "duration": 613,
    "start_time": "2022-01-16T16:11:35.914Z"
   },
   {
    "duration": 253,
    "start_time": "2022-01-16T16:11:36.529Z"
   },
   {
    "duration": 14,
    "start_time": "2022-01-16T16:11:36.784Z"
   },
   {
    "duration": 9,
    "start_time": "2022-01-16T16:11:36.801Z"
   },
   {
    "duration": 8,
    "start_time": "2022-01-16T16:11:36.814Z"
   },
   {
    "duration": 65,
    "start_time": "2022-01-16T16:11:36.825Z"
   },
   {
    "duration": 851,
    "start_time": "2022-01-16T16:11:36.894Z"
   },
   {
    "duration": 20,
    "start_time": "2022-01-16T16:11:37.748Z"
   },
   {
    "duration": 248,
    "start_time": "2022-01-16T16:11:37.771Z"
   },
   {
    "duration": 12,
    "start_time": "2022-01-16T16:11:38.021Z"
   },
   {
    "duration": 8,
    "start_time": "2022-01-16T16:11:38.035Z"
   },
   {
    "duration": 7,
    "start_time": "2022-01-16T16:11:38.067Z"
   },
   {
    "duration": 10,
    "start_time": "2022-01-16T16:11:38.077Z"
   },
   {
    "duration": 321,
    "start_time": "2022-01-16T16:11:38.090Z"
   },
   {
    "duration": 8,
    "start_time": "2022-01-16T16:11:38.413Z"
   },
   {
    "duration": 460,
    "start_time": "2022-01-16T16:11:38.424Z"
   },
   {
    "duration": 362,
    "start_time": "2022-01-16T16:11:38.888Z"
   },
   {
    "duration": 349,
    "start_time": "2022-01-16T16:11:39.257Z"
   },
   {
    "duration": 470,
    "start_time": "2022-01-16T16:11:39.609Z"
   },
   {
    "duration": -86,
    "start_time": "2022-01-16T16:11:40.167Z"
   },
   {
    "duration": -88,
    "start_time": "2022-01-16T16:11:40.171Z"
   },
   {
    "duration": -91,
    "start_time": "2022-01-16T16:11:40.175Z"
   },
   {
    "duration": -93,
    "start_time": "2022-01-16T16:11:40.178Z"
   },
   {
    "duration": -95,
    "start_time": "2022-01-16T16:11:40.182Z"
   },
   {
    "duration": -98,
    "start_time": "2022-01-16T16:11:40.188Z"
   },
   {
    "duration": -100,
    "start_time": "2022-01-16T16:11:40.192Z"
   },
   {
    "duration": -103,
    "start_time": "2022-01-16T16:11:40.197Z"
   },
   {
    "duration": -104,
    "start_time": "2022-01-16T16:11:40.200Z"
   },
   {
    "duration": -106,
    "start_time": "2022-01-16T16:11:40.204Z"
   },
   {
    "duration": -108,
    "start_time": "2022-01-16T16:11:40.207Z"
   },
   {
    "duration": -108,
    "start_time": "2022-01-16T16:11:40.210Z"
   },
   {
    "duration": -109,
    "start_time": "2022-01-16T16:11:40.213Z"
   },
   {
    "duration": -110,
    "start_time": "2022-01-16T16:11:40.216Z"
   },
   {
    "duration": 12,
    "start_time": "2022-01-16T16:11:57.413Z"
   },
   {
    "duration": 61,
    "start_time": "2022-01-16T16:12:01.512Z"
   },
   {
    "duration": 40,
    "start_time": "2022-01-16T16:12:01.575Z"
   },
   {
    "duration": 11,
    "start_time": "2022-01-16T16:12:01.618Z"
   },
   {
    "duration": 38,
    "start_time": "2022-01-16T16:12:01.632Z"
   },
   {
    "duration": 342,
    "start_time": "2022-01-16T16:12:01.672Z"
   },
   {
    "duration": 12,
    "start_time": "2022-01-16T16:12:02.016Z"
   },
   {
    "duration": 41,
    "start_time": "2022-01-16T16:12:02.030Z"
   },
   {
    "duration": 28,
    "start_time": "2022-01-16T16:12:02.075Z"
   },
   {
    "duration": 23,
    "start_time": "2022-01-16T16:12:02.107Z"
   },
   {
    "duration": 28,
    "start_time": "2022-01-16T16:12:02.133Z"
   },
   {
    "duration": 667,
    "start_time": "2022-01-16T16:12:02.164Z"
   },
   {
    "duration": 624,
    "start_time": "2022-01-16T16:12:02.833Z"
   },
   {
    "duration": 772,
    "start_time": "2022-01-16T16:12:03.460Z"
   },
   {
    "duration": 625,
    "start_time": "2022-01-16T16:12:04.235Z"
   },
   {
    "duration": 1386,
    "start_time": "2022-11-22T15:06:37.674Z"
   },
   {
    "duration": 118,
    "start_time": "2022-11-22T15:06:40.014Z"
   },
   {
    "duration": 22,
    "start_time": "2022-11-22T15:06:40.761Z"
   },
   {
    "duration": 5,
    "start_time": "2022-11-22T15:06:42.882Z"
   },
   {
    "duration": 5,
    "start_time": "2022-11-22T15:06:43.691Z"
   },
   {
    "duration": 5,
    "start_time": "2022-11-22T15:06:43.930Z"
   },
   {
    "duration": 5,
    "start_time": "2022-11-22T15:06:44.509Z"
   },
   {
    "duration": 8,
    "start_time": "2022-11-22T15:06:44.745Z"
   },
   {
    "duration": 22,
    "start_time": "2022-11-22T15:06:44.953Z"
   },
   {
    "duration": 8,
    "start_time": "2022-11-22T15:06:45.146Z"
   },
   {
    "duration": 5,
    "start_time": "2022-11-22T15:06:45.345Z"
   },
   {
    "duration": 5,
    "start_time": "2022-11-22T15:06:45.515Z"
   },
   {
    "duration": 4,
    "start_time": "2022-11-22T15:06:45.866Z"
   },
   {
    "duration": 4,
    "start_time": "2022-11-22T15:06:46.130Z"
   },
   {
    "duration": 7,
    "start_time": "2022-11-22T15:06:46.322Z"
   },
   {
    "duration": 7,
    "start_time": "2022-11-22T15:06:46.490Z"
   },
   {
    "duration": 7,
    "start_time": "2022-11-22T15:06:46.690Z"
   },
   {
    "duration": 4,
    "start_time": "2022-11-22T15:06:46.867Z"
   },
   {
    "duration": 7,
    "start_time": "2022-11-22T15:06:47.065Z"
   },
   {
    "duration": 5,
    "start_time": "2022-11-22T15:06:47.363Z"
   },
   {
    "duration": 8,
    "start_time": "2022-11-22T15:06:47.626Z"
   },
   {
    "duration": 4,
    "start_time": "2022-11-22T15:06:47.890Z"
   },
   {
    "duration": 7,
    "start_time": "2022-11-22T15:06:48.145Z"
   },
   {
    "duration": 5,
    "start_time": "2022-11-22T15:06:48.473Z"
   },
   {
    "duration": 7,
    "start_time": "2022-11-22T15:06:48.738Z"
   },
   {
    "duration": 7,
    "start_time": "2022-11-22T15:06:49.018Z"
   },
   {
    "duration": 8,
    "start_time": "2022-11-22T15:06:49.266Z"
   },
   {
    "duration": 7,
    "start_time": "2022-11-22T15:06:49.538Z"
   },
   {
    "duration": 7,
    "start_time": "2022-11-22T15:06:49.805Z"
   },
   {
    "duration": 7,
    "start_time": "2022-11-22T15:06:50.066Z"
   },
   {
    "duration": 8,
    "start_time": "2022-11-22T15:06:50.314Z"
   },
   {
    "duration": 9,
    "start_time": "2022-11-22T15:06:50.557Z"
   },
   {
    "duration": 14,
    "start_time": "2022-11-22T15:06:50.802Z"
   },
   {
    "duration": 5,
    "start_time": "2022-11-22T15:06:52.451Z"
   },
   {
    "duration": 6,
    "start_time": "2022-11-22T15:06:52.793Z"
   },
   {
    "duration": 6,
    "start_time": "2022-11-22T15:06:53.425Z"
   },
   {
    "duration": 6,
    "start_time": "2022-11-22T15:06:53.737Z"
   },
   {
    "duration": 4,
    "start_time": "2022-11-22T15:06:54.009Z"
   },
   {
    "duration": 290,
    "start_time": "2022-11-22T15:06:54.258Z"
   },
   {
    "duration": 4,
    "start_time": "2022-11-22T15:06:54.555Z"
   },
   {
    "duration": 4,
    "start_time": "2022-11-22T15:06:55.570Z"
   },
   {
    "duration": 27,
    "start_time": "2022-11-22T15:06:55.875Z"
   },
   {
    "duration": 286,
    "start_time": "2022-11-22T15:06:57.509Z"
   },
   {
    "duration": 246,
    "start_time": "2022-11-22T15:06:59.091Z"
   },
   {
    "duration": 245,
    "start_time": "2022-11-22T15:07:00.041Z"
   },
   {
    "duration": 234,
    "start_time": "2022-11-22T15:07:00.793Z"
   },
   {
    "duration": 266,
    "start_time": "2022-11-22T15:07:01.417Z"
   },
   {
    "duration": 270,
    "start_time": "2022-11-22T15:07:02.187Z"
   },
   {
    "duration": 319,
    "start_time": "2022-11-22T15:07:03.041Z"
   },
   {
    "duration": 261,
    "start_time": "2022-11-22T15:07:07.930Z"
   },
   {
    "duration": 260,
    "start_time": "2022-11-22T15:07:08.618Z"
   },
   {
    "duration": 83,
    "start_time": "2022-11-22T15:07:09.498Z"
   },
   {
    "duration": 87,
    "start_time": "2022-11-22T15:07:22.858Z"
   },
   {
    "duration": 106,
    "start_time": "2022-11-22T15:08:02.234Z"
   },
   {
    "duration": 91,
    "start_time": "2022-11-22T15:08:25.948Z"
   },
   {
    "duration": 762,
    "start_time": "2022-11-22T15:10:31.805Z"
   },
   {
    "duration": 96,
    "start_time": "2022-11-22T15:10:32.977Z"
   },
   {
    "duration": 16,
    "start_time": "2022-11-22T15:10:33.296Z"
   },
   {
    "duration": 5,
    "start_time": "2022-11-22T15:10:34.225Z"
   },
   {
    "duration": 6,
    "start_time": "2022-11-22T15:10:34.583Z"
   },
   {
    "duration": 5,
    "start_time": "2022-11-22T15:10:34.697Z"
   },
   {
    "duration": 5,
    "start_time": "2022-11-22T15:10:35.056Z"
   },
   {
    "duration": 7,
    "start_time": "2022-11-22T15:10:35.137Z"
   },
   {
    "duration": 22,
    "start_time": "2022-11-22T15:10:35.288Z"
   },
   {
    "duration": 6,
    "start_time": "2022-11-22T15:10:35.440Z"
   },
   {
    "duration": 5,
    "start_time": "2022-11-22T15:10:35.584Z"
   },
   {
    "duration": 4,
    "start_time": "2022-11-22T15:10:35.736Z"
   },
   {
    "duration": 5,
    "start_time": "2022-11-22T15:10:35.968Z"
   },
   {
    "duration": 5,
    "start_time": "2022-11-22T15:10:36.136Z"
   },
   {
    "duration": 7,
    "start_time": "2022-11-22T15:10:36.280Z"
   },
   {
    "duration": 8,
    "start_time": "2022-11-22T15:10:36.424Z"
   },
   {
    "duration": 8,
    "start_time": "2022-11-22T15:10:36.568Z"
   },
   {
    "duration": 5,
    "start_time": "2022-11-22T15:10:36.736Z"
   },
   {
    "duration": 8,
    "start_time": "2022-11-22T15:10:36.887Z"
   },
   {
    "duration": 5,
    "start_time": "2022-11-22T15:10:37.047Z"
   },
   {
    "duration": 7,
    "start_time": "2022-11-22T15:10:37.168Z"
   },
   {
    "duration": 5,
    "start_time": "2022-11-22T15:10:37.360Z"
   },
   {
    "duration": 8,
    "start_time": "2022-11-22T15:10:37.511Z"
   },
   {
    "duration": 5,
    "start_time": "2022-11-22T15:10:37.679Z"
   },
   {
    "duration": 6,
    "start_time": "2022-11-22T15:10:37.865Z"
   },
   {
    "duration": 7,
    "start_time": "2022-11-22T15:10:38.050Z"
   },
   {
    "duration": 8,
    "start_time": "2022-11-22T15:10:38.248Z"
   },
   {
    "duration": 8,
    "start_time": "2022-11-22T15:10:38.439Z"
   },
   {
    "duration": 8,
    "start_time": "2022-11-22T15:10:38.656Z"
   },
   {
    "duration": 7,
    "start_time": "2022-11-22T15:10:38.864Z"
   },
   {
    "duration": 8,
    "start_time": "2022-11-22T15:10:39.047Z"
   },
   {
    "duration": 8,
    "start_time": "2022-11-22T15:10:39.238Z"
   },
   {
    "duration": 13,
    "start_time": "2022-11-22T15:10:39.423Z"
   },
   {
    "duration": 4,
    "start_time": "2022-11-22T15:10:41.087Z"
   },
   {
    "duration": 6,
    "start_time": "2022-11-22T15:10:41.495Z"
   },
   {
    "duration": 6,
    "start_time": "2022-11-22T15:10:41.862Z"
   },
   {
    "duration": 6,
    "start_time": "2022-11-22T15:10:42.192Z"
   },
   {
    "duration": 3,
    "start_time": "2022-11-22T15:10:42.384Z"
   },
   {
    "duration": 263,
    "start_time": "2022-11-22T15:10:42.648Z"
   },
   {
    "duration": 3,
    "start_time": "2022-11-22T15:10:42.919Z"
   },
   {
    "duration": 4,
    "start_time": "2022-11-22T15:10:43.255Z"
   },
   {
    "duration": 23,
    "start_time": "2022-11-22T15:10:43.760Z"
   },
   {
    "duration": 260,
    "start_time": "2022-11-22T15:10:45.279Z"
   },
   {
    "duration": 236,
    "start_time": "2022-11-22T15:10:46.303Z"
   },
   {
    "duration": 252,
    "start_time": "2022-11-22T15:10:46.541Z"
   },
   {
    "duration": 233,
    "start_time": "2022-11-22T15:10:46.795Z"
   },
   {
    "duration": 254,
    "start_time": "2022-11-22T15:10:47.035Z"
   },
   {
    "duration": 214,
    "start_time": "2022-11-22T15:10:47.454Z"
   },
   {
    "duration": 276,
    "start_time": "2022-11-22T15:10:48.062Z"
   },
   {
    "duration": 212,
    "start_time": "2022-11-22T15:10:50.560Z"
   },
   {
    "duration": 270,
    "start_time": "2022-11-22T15:10:59.375Z"
   },
   {
    "duration": 5,
    "start_time": "2022-11-22T15:11:24.626Z"
   },
   {
    "duration": 103,
    "start_time": "2022-11-22T15:11:29.272Z"
   },
   {
    "duration": 719,
    "start_time": "2022-11-22T15:12:17.530Z"
   },
   {
    "duration": 101,
    "start_time": "2022-11-22T15:12:18.672Z"
   },
   {
    "duration": 15,
    "start_time": "2022-11-22T15:12:18.966Z"
   },
   {
    "duration": 4,
    "start_time": "2022-11-22T15:12:20.031Z"
   },
   {
    "duration": 6,
    "start_time": "2022-11-22T15:12:20.375Z"
   },
   {
    "duration": 5,
    "start_time": "2022-11-22T15:12:20.551Z"
   },
   {
    "duration": 6,
    "start_time": "2022-11-22T15:12:20.875Z"
   },
   {
    "duration": 8,
    "start_time": "2022-11-22T15:12:21.040Z"
   },
   {
    "duration": 24,
    "start_time": "2022-11-22T15:12:21.208Z"
   },
   {
    "duration": 7,
    "start_time": "2022-11-22T15:12:21.383Z"
   },
   {
    "duration": 6,
    "start_time": "2022-11-22T15:12:21.543Z"
   },
   {
    "duration": 5,
    "start_time": "2022-11-22T15:12:21.703Z"
   },
   {
    "duration": 4,
    "start_time": "2022-11-22T15:12:22.055Z"
   },
   {
    "duration": 5,
    "start_time": "2022-11-22T15:12:22.215Z"
   },
   {
    "duration": 10,
    "start_time": "2022-11-22T15:12:22.391Z"
   },
   {
    "duration": 10,
    "start_time": "2022-11-22T15:12:22.551Z"
   },
   {
    "duration": 9,
    "start_time": "2022-11-22T15:12:22.735Z"
   },
   {
    "duration": 4,
    "start_time": "2022-11-22T15:12:22.903Z"
   },
   {
    "duration": 8,
    "start_time": "2022-11-22T15:12:23.072Z"
   },
   {
    "duration": 5,
    "start_time": "2022-11-22T15:12:23.231Z"
   },
   {
    "duration": 8,
    "start_time": "2022-11-22T15:12:23.391Z"
   },
   {
    "duration": 5,
    "start_time": "2022-11-22T15:12:23.568Z"
   },
   {
    "duration": 7,
    "start_time": "2022-11-22T15:12:23.735Z"
   },
   {
    "duration": 4,
    "start_time": "2022-11-22T15:12:23.903Z"
   },
   {
    "duration": 6,
    "start_time": "2022-11-22T15:12:24.056Z"
   },
   {
    "duration": 7,
    "start_time": "2022-11-22T15:12:24.215Z"
   },
   {
    "duration": 8,
    "start_time": "2022-11-22T15:12:24.368Z"
   },
   {
    "duration": 7,
    "start_time": "2022-11-22T15:12:24.528Z"
   },
   {
    "duration": 8,
    "start_time": "2022-11-22T15:12:24.671Z"
   },
   {
    "duration": 7,
    "start_time": "2022-11-22T15:12:24.824Z"
   },
   {
    "duration": 9,
    "start_time": "2022-11-22T15:12:24.970Z"
   },
   {
    "duration": 8,
    "start_time": "2022-11-22T15:12:25.134Z"
   },
   {
    "duration": 13,
    "start_time": "2022-11-22T15:12:25.295Z"
   },
   {
    "duration": 4,
    "start_time": "2022-11-22T15:12:26.319Z"
   },
   {
    "duration": 5,
    "start_time": "2022-11-22T15:12:26.495Z"
   },
   {
    "duration": 7,
    "start_time": "2022-11-22T15:12:26.703Z"
   },
   {
    "duration": 5,
    "start_time": "2022-11-22T15:12:26.903Z"
   },
   {
    "duration": 3,
    "start_time": "2022-11-22T15:12:27.080Z"
   },
   {
    "duration": 274,
    "start_time": "2022-11-22T15:12:27.255Z"
   },
   {
    "duration": 6,
    "start_time": "2022-11-22T15:12:27.531Z"
   },
   {
    "duration": 4,
    "start_time": "2022-11-22T15:12:27.607Z"
   },
   {
    "duration": 28,
    "start_time": "2022-11-22T15:12:27.816Z"
   },
   {
    "duration": 276,
    "start_time": "2022-11-22T15:12:28.832Z"
   },
   {
    "duration": 238,
    "start_time": "2022-11-22T15:12:29.271Z"
   },
   {
    "duration": 252,
    "start_time": "2022-11-22T15:12:30.902Z"
   },
   {
    "duration": 231,
    "start_time": "2022-11-22T15:12:31.241Z"
   },
   {
    "duration": 243,
    "start_time": "2022-11-22T15:12:31.668Z"
   },
   {
    "duration": 234,
    "start_time": "2022-11-22T15:12:32.095Z"
   },
   {
    "duration": 376,
    "start_time": "2022-11-22T15:12:32.511Z"
   },
   {
    "duration": 234,
    "start_time": "2022-11-22T15:12:34.240Z"
   },
   {
    "duration": 245,
    "start_time": "2022-11-22T15:12:34.887Z"
   },
   {
    "duration": 83,
    "start_time": "2022-11-22T15:12:35.591Z"
   },
   {
    "duration": 6,
    "start_time": "2022-11-22T15:12:56.894Z"
   },
   {
    "duration": 95,
    "start_time": "2022-11-22T15:12:59.367Z"
   },
   {
    "duration": 10,
    "start_time": "2022-11-22T15:13:02.847Z"
   },
   {
    "duration": 6,
    "start_time": "2022-11-22T15:13:03.222Z"
   },
   {
    "duration": 15,
    "start_time": "2022-11-22T15:13:09.783Z"
   },
   {
    "duration": 244,
    "start_time": "2022-11-22T15:13:10.191Z"
   },
   {
    "duration": 6,
    "start_time": "2022-11-22T15:13:10.487Z"
   },
   {
    "duration": 103,
    "start_time": "2022-11-22T15:13:11.039Z"
   },
   {
    "duration": 7,
    "start_time": "2022-11-22T15:13:11.375Z"
   },
   {
    "duration": 6,
    "start_time": "2022-11-22T15:13:12.760Z"
   },
   {
    "duration": 5,
    "start_time": "2022-11-22T15:13:12.954Z"
   },
   {
    "duration": 5,
    "start_time": "2022-11-22T15:13:13.399Z"
   },
   {
    "duration": 217,
    "start_time": "2022-11-22T15:13:13.576Z"
   },
   {
    "duration": 6,
    "start_time": "2022-11-22T15:13:13.983Z"
   },
   {
    "duration": 154,
    "start_time": "2022-11-22T15:13:14.176Z"
   },
   {
    "duration": 154,
    "start_time": "2022-11-22T15:13:14.341Z"
   },
   {
    "duration": 149,
    "start_time": "2022-11-22T15:13:14.535Z"
   },
   {
    "duration": 8,
    "start_time": "2022-11-22T15:13:15.839Z"
   },
   {
    "duration": 25,
    "start_time": "2022-11-22T15:13:16.423Z"
   },
   {
    "duration": 25,
    "start_time": "2022-11-22T15:13:16.999Z"
   },
   {
    "duration": 8,
    "start_time": "2022-11-22T15:13:17.519Z"
   },
   {
    "duration": 4,
    "start_time": "2022-11-22T15:13:19.128Z"
   },
   {
    "duration": 167,
    "start_time": "2022-11-22T15:13:19.504Z"
   },
   {
    "duration": 8,
    "start_time": "2022-11-22T15:13:20.839Z"
   },
   {
    "duration": 6,
    "start_time": "2022-11-22T15:13:21.079Z"
   },
   {
    "duration": 6,
    "start_time": "2022-11-22T15:13:21.390Z"
   },
   {
    "duration": 5,
    "start_time": "2022-11-22T15:13:21.632Z"
   },
   {
    "duration": 6,
    "start_time": "2022-11-22T15:13:21.854Z"
   },
   {
    "duration": 292,
    "start_time": "2022-11-22T15:13:22.071Z"
   },
   {
    "duration": 346,
    "start_time": "2022-11-22T15:13:22.365Z"
   },
   {
    "duration": 279,
    "start_time": "2022-11-22T15:13:23.079Z"
   },
   {
    "duration": 291,
    "start_time": "2022-11-22T15:13:23.360Z"
   }
  ],
  "kernelspec": {
   "display_name": "Python 3 (ipykernel)",
   "language": "python",
   "name": "python3"
  },
  "language_info": {
   "codemirror_mode": {
    "name": "ipython",
    "version": 3
   },
   "file_extension": ".py",
   "mimetype": "text/x-python",
   "name": "python",
   "nbconvert_exporter": "python",
   "pygments_lexer": "ipython3",
   "version": "3.9.12"
  },
  "toc": {
   "base_numbering": 1,
   "nav_menu": {},
   "number_sections": true,
   "sideBar": true,
   "skip_h1_title": true,
   "title_cell": "Содержание",
   "title_sidebar": "Contents",
   "toc_cell": true,
   "toc_position": {},
   "toc_section_display": true,
   "toc_window_display": true
  }
 },
 "nbformat": 4,
 "nbformat_minor": 2
}
