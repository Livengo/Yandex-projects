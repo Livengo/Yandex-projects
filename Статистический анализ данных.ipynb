{
 "cells": [
  {
   "cell_type": "markdown",
   "metadata": {},
   "source": [
    "# Описание проекта\n",
    "\n",
    "Вы аналитик компании «Мегалайн» — федерального оператора сотовой связи. Клиентам предлагают два тарифных плана: «Смарт» и «Ультра». Чтобы скорректировать рекламный бюджет, коммерческий департамент хочет понять, какой тариф приносит больше денег.\n",
    "Вам предстоит сделать предварительный анализ тарифов на небольшой выборке клиентов. В вашем распоряжении данные 500 пользователей «Мегалайна»: кто они, откуда, каким тарифом пользуются, сколько звонков и сообщений каждый отправил за 2018 год. Нужно проанализировать поведение клиентов и сделать вывод — какой тариф лучше."
   ]
  },
  {
   "cell_type": "markdown",
   "metadata": {},
   "source": [
    "# Описание тарифов\n",
    "**Тариф «Смарт»**\n",
    "\n",
    "Ежемесячная плата: 550 рублей\n",
    "\n",
    "Включено 500 минут разговора, 50 сообщений и 15 Гб интернет-трафика\n",
    "\n",
    "Стоимость услуг сверх тарифного пакета:\n",
    "\n",
    "- минута разговора: 3 рубля\n",
    "\n",
    "- сообщение: 3 рубля\n",
    "\n",
    "- 1 Гб интернет-трафика: 200 рублей\n",
    "\n",
    "**Тариф «Ультра»**\n",
    "\n",
    "Ежемесячная плата: 1950 рублей\n",
    "\n",
    "Включено 3000 минут разговора, 1000 сообщений и 30 Гб интернет-трафика\n",
    "\n",
    "Стоимость услуг сверх тарифного пакета:\n",
    "\n",
    "- минута разговора: 1 рубль\n",
    "\n",
    "- сообщение: 1 рубль\n",
    "\n",
    "- 1 Гб интернет-трафика: 150 рублей"
   ]
  },
  {
   "cell_type": "markdown",
   "metadata": {},
   "source": [
    "# Описание данных\n",
    "\n",
    "**Таблица users (информация о пользователях):**\n",
    "\n",
    "- user_id — уникальный идентификатор пользователя\n",
    "- first_name — имя пользователя\n",
    "- last_name — фамилия пользователя\n",
    "- age — возраст пользователя (годы)\n",
    "- reg_date — дата подключения тарифа (день, месяц, год)\n",
    "- churn_date — дата прекращения пользования тарифом (если значение пропущено, то тариф ещё действовал на момент выгрузки данных)\n",
    "- city — город проживания пользователя\n",
    "- tariff — название тарифного плана\n",
    "\n",
    "**Таблица calls (информация о звонках):**\n",
    "\n",
    "- id — уникальный номер звонка\n",
    "- call_date — дата звонка\n",
    "- duration — длительность звонка в минутах\n",
    "- user_id — идентификатор пользователя, сделавшего звонок\n",
    "\n",
    "**Таблица messages (информация о сообщениях):**\n",
    "\n",
    "- id — уникальный номер сообщения\n",
    "- message_date — дата сообщения\n",
    "- user_id — идентификатор пользователя, отправившего сообщение\n",
    "\n",
    "**Таблица internet (информация об интернет-сессиях):**\n",
    "\n",
    "- id — уникальный номер сессии\n",
    "- mb_used — объём потраченного за сессию интернет-трафика (в мегабайтах)\n",
    "- session_date — дата интернет-сессии\n",
    "- user_id — идентификатор пользователя\n",
    "\n",
    "**Таблица tariffs (информация о тарифах):**\n",
    "\n",
    "- tariff_name — название тарифа\n",
    "- rub_monthly_fee — ежемесячная абонентская плата в рублях\n",
    "- minutes_included — количество минут разговора в месяц, включённых в абонентскую плату\n",
    "- messages_included — количество сообщений в месяц, включённых в абонентскую плату\n",
    "- mb_per_month_included — объём интернет-трафика, включённого в абонентскую плату (в мегабайтах)\n",
    "- rub_per_minute — стоимость минуты разговора сверх тарифного пакета (например, если в тарифе 100 минут разговора в месяц, то со 101 минуты будет взиматься плата)\n",
    "- rub_per_message — стоимость отправки сообщения сверх тарифного пакета\n",
    "- rub_per_gb — стоимость дополнительного гигабайта интернет-трафика сверх тарифного пакета (1 гигабайт = 1024 мегабайта)"
   ]
  },
  {
   "cell_type": "markdown",
   "metadata": {},
   "source": [
    "## Откроем файл с данными и изучим общую информацию"
   ]
  },
  {
   "cell_type": "code",
   "execution_count": 2,
   "metadata": {},
   "outputs": [],
   "source": [
    "#Импортируем все необходимые библиотеки\n",
    "import pandas as pd\n",
    "import numpy as np\n",
    "import matplotlib.pyplot as plt\n",
    "import scipy.stats as st"
   ]
  },
  {
   "cell_type": "code",
   "execution_count": 3,
   "metadata": {},
   "outputs": [],
   "source": [
    "#Открываем каждый файл для изучения\n",
    "calls = pd.read_csv('/datasets/calls.csv')\n",
    "internet = pd.read_csv('/datasets/internet.csv')\n",
    "messages = pd.read_csv('/datasets/messages.csv')\n",
    "tariffs = pd.read_csv('/datasets/tariffs.csv')\n",
    "users = pd.read_csv('/datasets/users.csv')"
   ]
  },
  {
   "cell_type": "code",
   "execution_count": 4,
   "metadata": {},
   "outputs": [
    {
     "data": {
      "text/html": [
       "<div>\n",
       "<style scoped>\n",
       "    .dataframe tbody tr th:only-of-type {\n",
       "        vertical-align: middle;\n",
       "    }\n",
       "\n",
       "    .dataframe tbody tr th {\n",
       "        vertical-align: top;\n",
       "    }\n",
       "\n",
       "    .dataframe thead th {\n",
       "        text-align: right;\n",
       "    }\n",
       "</style>\n",
       "<table border=\"1\" class=\"dataframe\">\n",
       "  <thead>\n",
       "    <tr style=\"text-align: right;\">\n",
       "      <th></th>\n",
       "      <th>id</th>\n",
       "      <th>call_date</th>\n",
       "      <th>duration</th>\n",
       "      <th>user_id</th>\n",
       "    </tr>\n",
       "  </thead>\n",
       "  <tbody>\n",
       "    <tr>\n",
       "      <td>0</td>\n",
       "      <td>1000_0</td>\n",
       "      <td>2018-07-25</td>\n",
       "      <td>0.00</td>\n",
       "      <td>1000</td>\n",
       "    </tr>\n",
       "    <tr>\n",
       "      <td>1</td>\n",
       "      <td>1000_1</td>\n",
       "      <td>2018-08-17</td>\n",
       "      <td>0.00</td>\n",
       "      <td>1000</td>\n",
       "    </tr>\n",
       "    <tr>\n",
       "      <td>2</td>\n",
       "      <td>1000_2</td>\n",
       "      <td>2018-06-11</td>\n",
       "      <td>2.85</td>\n",
       "      <td>1000</td>\n",
       "    </tr>\n",
       "    <tr>\n",
       "      <td>3</td>\n",
       "      <td>1000_3</td>\n",
       "      <td>2018-09-21</td>\n",
       "      <td>13.80</td>\n",
       "      <td>1000</td>\n",
       "    </tr>\n",
       "    <tr>\n",
       "      <td>4</td>\n",
       "      <td>1000_4</td>\n",
       "      <td>2018-12-15</td>\n",
       "      <td>5.18</td>\n",
       "      <td>1000</td>\n",
       "    </tr>\n",
       "    <tr>\n",
       "      <td>5</td>\n",
       "      <td>1000_5</td>\n",
       "      <td>2018-11-02</td>\n",
       "      <td>0.00</td>\n",
       "      <td>1000</td>\n",
       "    </tr>\n",
       "    <tr>\n",
       "      <td>6</td>\n",
       "      <td>1000_6</td>\n",
       "      <td>2018-10-18</td>\n",
       "      <td>0.00</td>\n",
       "      <td>1000</td>\n",
       "    </tr>\n",
       "    <tr>\n",
       "      <td>7</td>\n",
       "      <td>1000_7</td>\n",
       "      <td>2018-08-22</td>\n",
       "      <td>18.31</td>\n",
       "      <td>1000</td>\n",
       "    </tr>\n",
       "    <tr>\n",
       "      <td>8</td>\n",
       "      <td>1000_8</td>\n",
       "      <td>2018-09-15</td>\n",
       "      <td>18.44</td>\n",
       "      <td>1000</td>\n",
       "    </tr>\n",
       "    <tr>\n",
       "      <td>9</td>\n",
       "      <td>1000_9</td>\n",
       "      <td>2018-08-15</td>\n",
       "      <td>0.00</td>\n",
       "      <td>1000</td>\n",
       "    </tr>\n",
       "  </tbody>\n",
       "</table>\n",
       "</div>"
      ],
      "text/plain": [
       "       id   call_date  duration  user_id\n",
       "0  1000_0  2018-07-25      0.00     1000\n",
       "1  1000_1  2018-08-17      0.00     1000\n",
       "2  1000_2  2018-06-11      2.85     1000\n",
       "3  1000_3  2018-09-21     13.80     1000\n",
       "4  1000_4  2018-12-15      5.18     1000\n",
       "5  1000_5  2018-11-02      0.00     1000\n",
       "6  1000_6  2018-10-18      0.00     1000\n",
       "7  1000_7  2018-08-22     18.31     1000\n",
       "8  1000_8  2018-09-15     18.44     1000\n",
       "9  1000_9  2018-08-15      0.00     1000"
      ]
     },
     "execution_count": 4,
     "metadata": {},
     "output_type": "execute_result"
    }
   ],
   "source": [
    "#Посмотрим первые 10 строк из файла \"calls\"\n",
    "calls.head(10)"
   ]
  },
  {
   "cell_type": "code",
   "execution_count": 5,
   "metadata": {},
   "outputs": [
    {
     "data": {
      "text/html": [
       "<div>\n",
       "<style scoped>\n",
       "    .dataframe tbody tr th:only-of-type {\n",
       "        vertical-align: middle;\n",
       "    }\n",
       "\n",
       "    .dataframe tbody tr th {\n",
       "        vertical-align: top;\n",
       "    }\n",
       "\n",
       "    .dataframe thead th {\n",
       "        text-align: right;\n",
       "    }\n",
       "</style>\n",
       "<table border=\"1\" class=\"dataframe\">\n",
       "  <thead>\n",
       "    <tr style=\"text-align: right;\">\n",
       "      <th></th>\n",
       "      <th>duration</th>\n",
       "      <th>user_id</th>\n",
       "    </tr>\n",
       "  </thead>\n",
       "  <tbody>\n",
       "    <tr>\n",
       "      <td>count</td>\n",
       "      <td>202607.000000</td>\n",
       "      <td>202607.000000</td>\n",
       "    </tr>\n",
       "    <tr>\n",
       "      <td>mean</td>\n",
       "      <td>6.755887</td>\n",
       "      <td>1253.940619</td>\n",
       "    </tr>\n",
       "    <tr>\n",
       "      <td>std</td>\n",
       "      <td>5.843365</td>\n",
       "      <td>144.722751</td>\n",
       "    </tr>\n",
       "    <tr>\n",
       "      <td>min</td>\n",
       "      <td>0.000000</td>\n",
       "      <td>1000.000000</td>\n",
       "    </tr>\n",
       "    <tr>\n",
       "      <td>25%</td>\n",
       "      <td>1.300000</td>\n",
       "      <td>1126.000000</td>\n",
       "    </tr>\n",
       "    <tr>\n",
       "      <td>50%</td>\n",
       "      <td>6.000000</td>\n",
       "      <td>1260.000000</td>\n",
       "    </tr>\n",
       "    <tr>\n",
       "      <td>75%</td>\n",
       "      <td>10.700000</td>\n",
       "      <td>1379.000000</td>\n",
       "    </tr>\n",
       "    <tr>\n",
       "      <td>max</td>\n",
       "      <td>38.000000</td>\n",
       "      <td>1499.000000</td>\n",
       "    </tr>\n",
       "  </tbody>\n",
       "</table>\n",
       "</div>"
      ],
      "text/plain": [
       "            duration        user_id\n",
       "count  202607.000000  202607.000000\n",
       "mean        6.755887    1253.940619\n",
       "std         5.843365     144.722751\n",
       "min         0.000000    1000.000000\n",
       "25%         1.300000    1126.000000\n",
       "50%         6.000000    1260.000000\n",
       "75%        10.700000    1379.000000\n",
       "max        38.000000    1499.000000"
      ]
     },
     "execution_count": 5,
     "metadata": {},
     "output_type": "execute_result"
    }
   ],
   "source": [
    "#Посмотрим значения в файле \"calls\"\n",
    "calls.describe()"
   ]
  },
  {
   "cell_type": "code",
   "execution_count": 6,
   "metadata": {},
   "outputs": [
    {
     "data": {
      "text/html": [
       "<div>\n",
       "<style scoped>\n",
       "    .dataframe tbody tr th:only-of-type {\n",
       "        vertical-align: middle;\n",
       "    }\n",
       "\n",
       "    .dataframe tbody tr th {\n",
       "        vertical-align: top;\n",
       "    }\n",
       "\n",
       "    .dataframe thead th {\n",
       "        text-align: right;\n",
       "    }\n",
       "</style>\n",
       "<table border=\"1\" class=\"dataframe\">\n",
       "  <thead>\n",
       "    <tr style=\"text-align: right;\">\n",
       "      <th></th>\n",
       "      <th>Unnamed: 0</th>\n",
       "      <th>id</th>\n",
       "      <th>mb_used</th>\n",
       "      <th>session_date</th>\n",
       "      <th>user_id</th>\n",
       "    </tr>\n",
       "  </thead>\n",
       "  <tbody>\n",
       "    <tr>\n",
       "      <td>0</td>\n",
       "      <td>0</td>\n",
       "      <td>1000_0</td>\n",
       "      <td>112.95</td>\n",
       "      <td>2018-11-25</td>\n",
       "      <td>1000</td>\n",
       "    </tr>\n",
       "    <tr>\n",
       "      <td>1</td>\n",
       "      <td>1</td>\n",
       "      <td>1000_1</td>\n",
       "      <td>1052.81</td>\n",
       "      <td>2018-09-07</td>\n",
       "      <td>1000</td>\n",
       "    </tr>\n",
       "    <tr>\n",
       "      <td>2</td>\n",
       "      <td>2</td>\n",
       "      <td>1000_2</td>\n",
       "      <td>1197.26</td>\n",
       "      <td>2018-06-25</td>\n",
       "      <td>1000</td>\n",
       "    </tr>\n",
       "    <tr>\n",
       "      <td>3</td>\n",
       "      <td>3</td>\n",
       "      <td>1000_3</td>\n",
       "      <td>550.27</td>\n",
       "      <td>2018-08-22</td>\n",
       "      <td>1000</td>\n",
       "    </tr>\n",
       "    <tr>\n",
       "      <td>4</td>\n",
       "      <td>4</td>\n",
       "      <td>1000_4</td>\n",
       "      <td>302.56</td>\n",
       "      <td>2018-09-24</td>\n",
       "      <td>1000</td>\n",
       "    </tr>\n",
       "    <tr>\n",
       "      <td>5</td>\n",
       "      <td>5</td>\n",
       "      <td>1000_5</td>\n",
       "      <td>399.97</td>\n",
       "      <td>2018-10-02</td>\n",
       "      <td>1000</td>\n",
       "    </tr>\n",
       "    <tr>\n",
       "      <td>6</td>\n",
       "      <td>6</td>\n",
       "      <td>1000_6</td>\n",
       "      <td>540.08</td>\n",
       "      <td>2018-09-07</td>\n",
       "      <td>1000</td>\n",
       "    </tr>\n",
       "    <tr>\n",
       "      <td>7</td>\n",
       "      <td>7</td>\n",
       "      <td>1000_7</td>\n",
       "      <td>415.70</td>\n",
       "      <td>2018-07-11</td>\n",
       "      <td>1000</td>\n",
       "    </tr>\n",
       "    <tr>\n",
       "      <td>8</td>\n",
       "      <td>8</td>\n",
       "      <td>1000_8</td>\n",
       "      <td>505.40</td>\n",
       "      <td>2018-10-08</td>\n",
       "      <td>1000</td>\n",
       "    </tr>\n",
       "    <tr>\n",
       "      <td>9</td>\n",
       "      <td>9</td>\n",
       "      <td>1000_9</td>\n",
       "      <td>345.54</td>\n",
       "      <td>2018-09-03</td>\n",
       "      <td>1000</td>\n",
       "    </tr>\n",
       "  </tbody>\n",
       "</table>\n",
       "</div>"
      ],
      "text/plain": [
       "   Unnamed: 0      id  mb_used session_date  user_id\n",
       "0           0  1000_0   112.95   2018-11-25     1000\n",
       "1           1  1000_1  1052.81   2018-09-07     1000\n",
       "2           2  1000_2  1197.26   2018-06-25     1000\n",
       "3           3  1000_3   550.27   2018-08-22     1000\n",
       "4           4  1000_4   302.56   2018-09-24     1000\n",
       "5           5  1000_5   399.97   2018-10-02     1000\n",
       "6           6  1000_6   540.08   2018-09-07     1000\n",
       "7           7  1000_7   415.70   2018-07-11     1000\n",
       "8           8  1000_8   505.40   2018-10-08     1000\n",
       "9           9  1000_9   345.54   2018-09-03     1000"
      ]
     },
     "execution_count": 6,
     "metadata": {},
     "output_type": "execute_result"
    }
   ],
   "source": [
    "#Посмотрим первые 10 строк из файла \"internet\"\n",
    "internet.head(10)"
   ]
  },
  {
   "cell_type": "code",
   "execution_count": 7,
   "metadata": {},
   "outputs": [],
   "source": [
    "#Здесь есть дополнительный столбец с индексами, поскольку он нам не нужен, его можно убрать\n",
    "internet = pd.read_csv('/datasets/internet.csv', index_col=0)"
   ]
  },
  {
   "cell_type": "code",
   "execution_count": 8,
   "metadata": {},
   "outputs": [
    {
     "data": {
      "text/html": [
       "<div>\n",
       "<style scoped>\n",
       "    .dataframe tbody tr th:only-of-type {\n",
       "        vertical-align: middle;\n",
       "    }\n",
       "\n",
       "    .dataframe tbody tr th {\n",
       "        vertical-align: top;\n",
       "    }\n",
       "\n",
       "    .dataframe thead th {\n",
       "        text-align: right;\n",
       "    }\n",
       "</style>\n",
       "<table border=\"1\" class=\"dataframe\">\n",
       "  <thead>\n",
       "    <tr style=\"text-align: right;\">\n",
       "      <th></th>\n",
       "      <th>id</th>\n",
       "      <th>mb_used</th>\n",
       "      <th>session_date</th>\n",
       "      <th>user_id</th>\n",
       "    </tr>\n",
       "  </thead>\n",
       "  <tbody>\n",
       "    <tr>\n",
       "      <td>0</td>\n",
       "      <td>1000_0</td>\n",
       "      <td>112.95</td>\n",
       "      <td>2018-11-25</td>\n",
       "      <td>1000</td>\n",
       "    </tr>\n",
       "    <tr>\n",
       "      <td>1</td>\n",
       "      <td>1000_1</td>\n",
       "      <td>1052.81</td>\n",
       "      <td>2018-09-07</td>\n",
       "      <td>1000</td>\n",
       "    </tr>\n",
       "    <tr>\n",
       "      <td>2</td>\n",
       "      <td>1000_2</td>\n",
       "      <td>1197.26</td>\n",
       "      <td>2018-06-25</td>\n",
       "      <td>1000</td>\n",
       "    </tr>\n",
       "    <tr>\n",
       "      <td>3</td>\n",
       "      <td>1000_3</td>\n",
       "      <td>550.27</td>\n",
       "      <td>2018-08-22</td>\n",
       "      <td>1000</td>\n",
       "    </tr>\n",
       "    <tr>\n",
       "      <td>4</td>\n",
       "      <td>1000_4</td>\n",
       "      <td>302.56</td>\n",
       "      <td>2018-09-24</td>\n",
       "      <td>1000</td>\n",
       "    </tr>\n",
       "    <tr>\n",
       "      <td>5</td>\n",
       "      <td>1000_5</td>\n",
       "      <td>399.97</td>\n",
       "      <td>2018-10-02</td>\n",
       "      <td>1000</td>\n",
       "    </tr>\n",
       "    <tr>\n",
       "      <td>6</td>\n",
       "      <td>1000_6</td>\n",
       "      <td>540.08</td>\n",
       "      <td>2018-09-07</td>\n",
       "      <td>1000</td>\n",
       "    </tr>\n",
       "    <tr>\n",
       "      <td>7</td>\n",
       "      <td>1000_7</td>\n",
       "      <td>415.70</td>\n",
       "      <td>2018-07-11</td>\n",
       "      <td>1000</td>\n",
       "    </tr>\n",
       "    <tr>\n",
       "      <td>8</td>\n",
       "      <td>1000_8</td>\n",
       "      <td>505.40</td>\n",
       "      <td>2018-10-08</td>\n",
       "      <td>1000</td>\n",
       "    </tr>\n",
       "    <tr>\n",
       "      <td>9</td>\n",
       "      <td>1000_9</td>\n",
       "      <td>345.54</td>\n",
       "      <td>2018-09-03</td>\n",
       "      <td>1000</td>\n",
       "    </tr>\n",
       "  </tbody>\n",
       "</table>\n",
       "</div>"
      ],
      "text/plain": [
       "       id  mb_used session_date  user_id\n",
       "0  1000_0   112.95   2018-11-25     1000\n",
       "1  1000_1  1052.81   2018-09-07     1000\n",
       "2  1000_2  1197.26   2018-06-25     1000\n",
       "3  1000_3   550.27   2018-08-22     1000\n",
       "4  1000_4   302.56   2018-09-24     1000\n",
       "5  1000_5   399.97   2018-10-02     1000\n",
       "6  1000_6   540.08   2018-09-07     1000\n",
       "7  1000_7   415.70   2018-07-11     1000\n",
       "8  1000_8   505.40   2018-10-08     1000\n",
       "9  1000_9   345.54   2018-09-03     1000"
      ]
     },
     "execution_count": 8,
     "metadata": {},
     "output_type": "execute_result"
    }
   ],
   "source": [
    "#Опять посмотрим первые 10 строк из файла \"internet\" после изменений\n",
    "internet.head(10)"
   ]
  },
  {
   "cell_type": "code",
   "execution_count": 9,
   "metadata": {},
   "outputs": [
    {
     "data": {
      "text/html": [
       "<div>\n",
       "<style scoped>\n",
       "    .dataframe tbody tr th:only-of-type {\n",
       "        vertical-align: middle;\n",
       "    }\n",
       "\n",
       "    .dataframe tbody tr th {\n",
       "        vertical-align: top;\n",
       "    }\n",
       "\n",
       "    .dataframe thead th {\n",
       "        text-align: right;\n",
       "    }\n",
       "</style>\n",
       "<table border=\"1\" class=\"dataframe\">\n",
       "  <thead>\n",
       "    <tr style=\"text-align: right;\">\n",
       "      <th></th>\n",
       "      <th>mb_used</th>\n",
       "      <th>user_id</th>\n",
       "    </tr>\n",
       "  </thead>\n",
       "  <tbody>\n",
       "    <tr>\n",
       "      <td>count</td>\n",
       "      <td>149396.000000</td>\n",
       "      <td>149396.000000</td>\n",
       "    </tr>\n",
       "    <tr>\n",
       "      <td>mean</td>\n",
       "      <td>370.192426</td>\n",
       "      <td>1252.099842</td>\n",
       "    </tr>\n",
       "    <tr>\n",
       "      <td>std</td>\n",
       "      <td>278.300951</td>\n",
       "      <td>144.050823</td>\n",
       "    </tr>\n",
       "    <tr>\n",
       "      <td>min</td>\n",
       "      <td>0.000000</td>\n",
       "      <td>1000.000000</td>\n",
       "    </tr>\n",
       "    <tr>\n",
       "      <td>25%</td>\n",
       "      <td>138.187500</td>\n",
       "      <td>1130.000000</td>\n",
       "    </tr>\n",
       "    <tr>\n",
       "      <td>50%</td>\n",
       "      <td>348.015000</td>\n",
       "      <td>1251.000000</td>\n",
       "    </tr>\n",
       "    <tr>\n",
       "      <td>75%</td>\n",
       "      <td>559.552500</td>\n",
       "      <td>1380.000000</td>\n",
       "    </tr>\n",
       "    <tr>\n",
       "      <td>max</td>\n",
       "      <td>1724.830000</td>\n",
       "      <td>1499.000000</td>\n",
       "    </tr>\n",
       "  </tbody>\n",
       "</table>\n",
       "</div>"
      ],
      "text/plain": [
       "             mb_used        user_id\n",
       "count  149396.000000  149396.000000\n",
       "mean      370.192426    1252.099842\n",
       "std       278.300951     144.050823\n",
       "min         0.000000    1000.000000\n",
       "25%       138.187500    1130.000000\n",
       "50%       348.015000    1251.000000\n",
       "75%       559.552500    1380.000000\n",
       "max      1724.830000    1499.000000"
      ]
     },
     "execution_count": 9,
     "metadata": {},
     "output_type": "execute_result"
    }
   ],
   "source": [
    "#Посмотрим значения в файле \"internet\"\n",
    "internet.describe()"
   ]
  },
  {
   "cell_type": "code",
   "execution_count": 10,
   "metadata": {},
   "outputs": [
    {
     "data": {
      "text/html": [
       "<div>\n",
       "<style scoped>\n",
       "    .dataframe tbody tr th:only-of-type {\n",
       "        vertical-align: middle;\n",
       "    }\n",
       "\n",
       "    .dataframe tbody tr th {\n",
       "        vertical-align: top;\n",
       "    }\n",
       "\n",
       "    .dataframe thead th {\n",
       "        text-align: right;\n",
       "    }\n",
       "</style>\n",
       "<table border=\"1\" class=\"dataframe\">\n",
       "  <thead>\n",
       "    <tr style=\"text-align: right;\">\n",
       "      <th></th>\n",
       "      <th>id</th>\n",
       "      <th>message_date</th>\n",
       "      <th>user_id</th>\n",
       "    </tr>\n",
       "  </thead>\n",
       "  <tbody>\n",
       "    <tr>\n",
       "      <td>0</td>\n",
       "      <td>1000_0</td>\n",
       "      <td>2018-06-27</td>\n",
       "      <td>1000</td>\n",
       "    </tr>\n",
       "    <tr>\n",
       "      <td>1</td>\n",
       "      <td>1000_1</td>\n",
       "      <td>2018-10-08</td>\n",
       "      <td>1000</td>\n",
       "    </tr>\n",
       "    <tr>\n",
       "      <td>2</td>\n",
       "      <td>1000_2</td>\n",
       "      <td>2018-08-04</td>\n",
       "      <td>1000</td>\n",
       "    </tr>\n",
       "    <tr>\n",
       "      <td>3</td>\n",
       "      <td>1000_3</td>\n",
       "      <td>2018-06-16</td>\n",
       "      <td>1000</td>\n",
       "    </tr>\n",
       "    <tr>\n",
       "      <td>4</td>\n",
       "      <td>1000_4</td>\n",
       "      <td>2018-12-05</td>\n",
       "      <td>1000</td>\n",
       "    </tr>\n",
       "    <tr>\n",
       "      <td>5</td>\n",
       "      <td>1000_5</td>\n",
       "      <td>2018-06-20</td>\n",
       "      <td>1000</td>\n",
       "    </tr>\n",
       "    <tr>\n",
       "      <td>6</td>\n",
       "      <td>1000_6</td>\n",
       "      <td>2018-11-19</td>\n",
       "      <td>1000</td>\n",
       "    </tr>\n",
       "    <tr>\n",
       "      <td>7</td>\n",
       "      <td>1000_7</td>\n",
       "      <td>2018-10-29</td>\n",
       "      <td>1000</td>\n",
       "    </tr>\n",
       "    <tr>\n",
       "      <td>8</td>\n",
       "      <td>1000_8</td>\n",
       "      <td>2018-06-25</td>\n",
       "      <td>1000</td>\n",
       "    </tr>\n",
       "    <tr>\n",
       "      <td>9</td>\n",
       "      <td>1000_9</td>\n",
       "      <td>2018-12-18</td>\n",
       "      <td>1000</td>\n",
       "    </tr>\n",
       "  </tbody>\n",
       "</table>\n",
       "</div>"
      ],
      "text/plain": [
       "       id message_date  user_id\n",
       "0  1000_0   2018-06-27     1000\n",
       "1  1000_1   2018-10-08     1000\n",
       "2  1000_2   2018-08-04     1000\n",
       "3  1000_3   2018-06-16     1000\n",
       "4  1000_4   2018-12-05     1000\n",
       "5  1000_5   2018-06-20     1000\n",
       "6  1000_6   2018-11-19     1000\n",
       "7  1000_7   2018-10-29     1000\n",
       "8  1000_8   2018-06-25     1000\n",
       "9  1000_9   2018-12-18     1000"
      ]
     },
     "execution_count": 10,
     "metadata": {},
     "output_type": "execute_result"
    }
   ],
   "source": [
    "#Посмотрим первые 10 строк из файла \"messages\"\n",
    "messages.head(10)"
   ]
  },
  {
   "cell_type": "code",
   "execution_count": 11,
   "metadata": {},
   "outputs": [
    {
     "data": {
      "text/html": [
       "<div>\n",
       "<style scoped>\n",
       "    .dataframe tbody tr th:only-of-type {\n",
       "        vertical-align: middle;\n",
       "    }\n",
       "\n",
       "    .dataframe tbody tr th {\n",
       "        vertical-align: top;\n",
       "    }\n",
       "\n",
       "    .dataframe thead th {\n",
       "        text-align: right;\n",
       "    }\n",
       "</style>\n",
       "<table border=\"1\" class=\"dataframe\">\n",
       "  <thead>\n",
       "    <tr style=\"text-align: right;\">\n",
       "      <th></th>\n",
       "      <th>user_id</th>\n",
       "    </tr>\n",
       "  </thead>\n",
       "  <tbody>\n",
       "    <tr>\n",
       "      <td>count</td>\n",
       "      <td>123036.000000</td>\n",
       "    </tr>\n",
       "    <tr>\n",
       "      <td>mean</td>\n",
       "      <td>1256.989410</td>\n",
       "    </tr>\n",
       "    <tr>\n",
       "      <td>std</td>\n",
       "      <td>143.523967</td>\n",
       "    </tr>\n",
       "    <tr>\n",
       "      <td>min</td>\n",
       "      <td>1000.000000</td>\n",
       "    </tr>\n",
       "    <tr>\n",
       "      <td>25%</td>\n",
       "      <td>1134.000000</td>\n",
       "    </tr>\n",
       "    <tr>\n",
       "      <td>50%</td>\n",
       "      <td>1271.000000</td>\n",
       "    </tr>\n",
       "    <tr>\n",
       "      <td>75%</td>\n",
       "      <td>1381.000000</td>\n",
       "    </tr>\n",
       "    <tr>\n",
       "      <td>max</td>\n",
       "      <td>1499.000000</td>\n",
       "    </tr>\n",
       "  </tbody>\n",
       "</table>\n",
       "</div>"
      ],
      "text/plain": [
       "             user_id\n",
       "count  123036.000000\n",
       "mean     1256.989410\n",
       "std       143.523967\n",
       "min      1000.000000\n",
       "25%      1134.000000\n",
       "50%      1271.000000\n",
       "75%      1381.000000\n",
       "max      1499.000000"
      ]
     },
     "execution_count": 11,
     "metadata": {},
     "output_type": "execute_result"
    }
   ],
   "source": [
    "#Посмотрим значения в файле \"messages\"\n",
    "messages.describe()"
   ]
  },
  {
   "cell_type": "code",
   "execution_count": 12,
   "metadata": {},
   "outputs": [
    {
     "data": {
      "text/html": [
       "<div>\n",
       "<style scoped>\n",
       "    .dataframe tbody tr th:only-of-type {\n",
       "        vertical-align: middle;\n",
       "    }\n",
       "\n",
       "    .dataframe tbody tr th {\n",
       "        vertical-align: top;\n",
       "    }\n",
       "\n",
       "    .dataframe thead th {\n",
       "        text-align: right;\n",
       "    }\n",
       "</style>\n",
       "<table border=\"1\" class=\"dataframe\">\n",
       "  <thead>\n",
       "    <tr style=\"text-align: right;\">\n",
       "      <th></th>\n",
       "      <th>messages_included</th>\n",
       "      <th>mb_per_month_included</th>\n",
       "      <th>minutes_included</th>\n",
       "      <th>rub_monthly_fee</th>\n",
       "      <th>rub_per_gb</th>\n",
       "      <th>rub_per_message</th>\n",
       "      <th>rub_per_minute</th>\n",
       "      <th>tariff_name</th>\n",
       "    </tr>\n",
       "  </thead>\n",
       "  <tbody>\n",
       "    <tr>\n",
       "      <td>0</td>\n",
       "      <td>50</td>\n",
       "      <td>15360</td>\n",
       "      <td>500</td>\n",
       "      <td>550</td>\n",
       "      <td>200</td>\n",
       "      <td>3</td>\n",
       "      <td>3</td>\n",
       "      <td>smart</td>\n",
       "    </tr>\n",
       "    <tr>\n",
       "      <td>1</td>\n",
       "      <td>1000</td>\n",
       "      <td>30720</td>\n",
       "      <td>3000</td>\n",
       "      <td>1950</td>\n",
       "      <td>150</td>\n",
       "      <td>1</td>\n",
       "      <td>1</td>\n",
       "      <td>ultra</td>\n",
       "    </tr>\n",
       "  </tbody>\n",
       "</table>\n",
       "</div>"
      ],
      "text/plain": [
       "   messages_included  mb_per_month_included  minutes_included  \\\n",
       "0                 50                  15360               500   \n",
       "1               1000                  30720              3000   \n",
       "\n",
       "   rub_monthly_fee  rub_per_gb  rub_per_message  rub_per_minute tariff_name  \n",
       "0              550         200                3               3       smart  \n",
       "1             1950         150                1               1       ultra  "
      ]
     },
     "execution_count": 12,
     "metadata": {},
     "output_type": "execute_result"
    }
   ],
   "source": [
    "#Посмотрим первые 10 строк из файла \"tariffs\"\n",
    "tariffs.head(10)"
   ]
  },
  {
   "cell_type": "code",
   "execution_count": 13,
   "metadata": {},
   "outputs": [
    {
     "data": {
      "text/html": [
       "<div>\n",
       "<style scoped>\n",
       "    .dataframe tbody tr th:only-of-type {\n",
       "        vertical-align: middle;\n",
       "    }\n",
       "\n",
       "    .dataframe tbody tr th {\n",
       "        vertical-align: top;\n",
       "    }\n",
       "\n",
       "    .dataframe thead th {\n",
       "        text-align: right;\n",
       "    }\n",
       "</style>\n",
       "<table border=\"1\" class=\"dataframe\">\n",
       "  <thead>\n",
       "    <tr style=\"text-align: right;\">\n",
       "      <th></th>\n",
       "      <th>messages_included</th>\n",
       "      <th>mb_per_month_included</th>\n",
       "      <th>minutes_included</th>\n",
       "      <th>rub_monthly_fee</th>\n",
       "      <th>rub_per_gb</th>\n",
       "      <th>rub_per_message</th>\n",
       "      <th>rub_per_minute</th>\n",
       "    </tr>\n",
       "  </thead>\n",
       "  <tbody>\n",
       "    <tr>\n",
       "      <td>count</td>\n",
       "      <td>2.000000</td>\n",
       "      <td>2.000000</td>\n",
       "      <td>2.000000</td>\n",
       "      <td>2.000000</td>\n",
       "      <td>2.000000</td>\n",
       "      <td>2.000000</td>\n",
       "      <td>2.000000</td>\n",
       "    </tr>\n",
       "    <tr>\n",
       "      <td>mean</td>\n",
       "      <td>525.000000</td>\n",
       "      <td>23040.000000</td>\n",
       "      <td>1750.000000</td>\n",
       "      <td>1250.000000</td>\n",
       "      <td>175.000000</td>\n",
       "      <td>2.000000</td>\n",
       "      <td>2.000000</td>\n",
       "    </tr>\n",
       "    <tr>\n",
       "      <td>std</td>\n",
       "      <td>671.751442</td>\n",
       "      <td>10861.160159</td>\n",
       "      <td>1767.766953</td>\n",
       "      <td>989.949494</td>\n",
       "      <td>35.355339</td>\n",
       "      <td>1.414214</td>\n",
       "      <td>1.414214</td>\n",
       "    </tr>\n",
       "    <tr>\n",
       "      <td>min</td>\n",
       "      <td>50.000000</td>\n",
       "      <td>15360.000000</td>\n",
       "      <td>500.000000</td>\n",
       "      <td>550.000000</td>\n",
       "      <td>150.000000</td>\n",
       "      <td>1.000000</td>\n",
       "      <td>1.000000</td>\n",
       "    </tr>\n",
       "    <tr>\n",
       "      <td>25%</td>\n",
       "      <td>287.500000</td>\n",
       "      <td>19200.000000</td>\n",
       "      <td>1125.000000</td>\n",
       "      <td>900.000000</td>\n",
       "      <td>162.500000</td>\n",
       "      <td>1.500000</td>\n",
       "      <td>1.500000</td>\n",
       "    </tr>\n",
       "    <tr>\n",
       "      <td>50%</td>\n",
       "      <td>525.000000</td>\n",
       "      <td>23040.000000</td>\n",
       "      <td>1750.000000</td>\n",
       "      <td>1250.000000</td>\n",
       "      <td>175.000000</td>\n",
       "      <td>2.000000</td>\n",
       "      <td>2.000000</td>\n",
       "    </tr>\n",
       "    <tr>\n",
       "      <td>75%</td>\n",
       "      <td>762.500000</td>\n",
       "      <td>26880.000000</td>\n",
       "      <td>2375.000000</td>\n",
       "      <td>1600.000000</td>\n",
       "      <td>187.500000</td>\n",
       "      <td>2.500000</td>\n",
       "      <td>2.500000</td>\n",
       "    </tr>\n",
       "    <tr>\n",
       "      <td>max</td>\n",
       "      <td>1000.000000</td>\n",
       "      <td>30720.000000</td>\n",
       "      <td>3000.000000</td>\n",
       "      <td>1950.000000</td>\n",
       "      <td>200.000000</td>\n",
       "      <td>3.000000</td>\n",
       "      <td>3.000000</td>\n",
       "    </tr>\n",
       "  </tbody>\n",
       "</table>\n",
       "</div>"
      ],
      "text/plain": [
       "       messages_included  mb_per_month_included  minutes_included  \\\n",
       "count           2.000000               2.000000          2.000000   \n",
       "mean          525.000000           23040.000000       1750.000000   \n",
       "std           671.751442           10861.160159       1767.766953   \n",
       "min            50.000000           15360.000000        500.000000   \n",
       "25%           287.500000           19200.000000       1125.000000   \n",
       "50%           525.000000           23040.000000       1750.000000   \n",
       "75%           762.500000           26880.000000       2375.000000   \n",
       "max          1000.000000           30720.000000       3000.000000   \n",
       "\n",
       "       rub_monthly_fee  rub_per_gb  rub_per_message  rub_per_minute  \n",
       "count         2.000000    2.000000         2.000000        2.000000  \n",
       "mean       1250.000000  175.000000         2.000000        2.000000  \n",
       "std         989.949494   35.355339         1.414214        1.414214  \n",
       "min         550.000000  150.000000         1.000000        1.000000  \n",
       "25%         900.000000  162.500000         1.500000        1.500000  \n",
       "50%        1250.000000  175.000000         2.000000        2.000000  \n",
       "75%        1600.000000  187.500000         2.500000        2.500000  \n",
       "max        1950.000000  200.000000         3.000000        3.000000  "
      ]
     },
     "execution_count": 13,
     "metadata": {},
     "output_type": "execute_result"
    }
   ],
   "source": [
    "#Посмотрим значения в файле \"tariffs\"\n",
    "tariffs.describe()"
   ]
  },
  {
   "cell_type": "code",
   "execution_count": 14,
   "metadata": {},
   "outputs": [
    {
     "data": {
      "text/html": [
       "<div>\n",
       "<style scoped>\n",
       "    .dataframe tbody tr th:only-of-type {\n",
       "        vertical-align: middle;\n",
       "    }\n",
       "\n",
       "    .dataframe tbody tr th {\n",
       "        vertical-align: top;\n",
       "    }\n",
       "\n",
       "    .dataframe thead th {\n",
       "        text-align: right;\n",
       "    }\n",
       "</style>\n",
       "<table border=\"1\" class=\"dataframe\">\n",
       "  <thead>\n",
       "    <tr style=\"text-align: right;\">\n",
       "      <th></th>\n",
       "      <th>user_id</th>\n",
       "      <th>age</th>\n",
       "      <th>churn_date</th>\n",
       "      <th>city</th>\n",
       "      <th>first_name</th>\n",
       "      <th>last_name</th>\n",
       "      <th>reg_date</th>\n",
       "      <th>tariff</th>\n",
       "    </tr>\n",
       "  </thead>\n",
       "  <tbody>\n",
       "    <tr>\n",
       "      <td>0</td>\n",
       "      <td>1000</td>\n",
       "      <td>52</td>\n",
       "      <td>NaN</td>\n",
       "      <td>Краснодар</td>\n",
       "      <td>Рафаил</td>\n",
       "      <td>Верещагин</td>\n",
       "      <td>2018-05-25</td>\n",
       "      <td>ultra</td>\n",
       "    </tr>\n",
       "    <tr>\n",
       "      <td>1</td>\n",
       "      <td>1001</td>\n",
       "      <td>41</td>\n",
       "      <td>NaN</td>\n",
       "      <td>Москва</td>\n",
       "      <td>Иван</td>\n",
       "      <td>Ежов</td>\n",
       "      <td>2018-11-01</td>\n",
       "      <td>smart</td>\n",
       "    </tr>\n",
       "    <tr>\n",
       "      <td>2</td>\n",
       "      <td>1002</td>\n",
       "      <td>59</td>\n",
       "      <td>NaN</td>\n",
       "      <td>Стерлитамак</td>\n",
       "      <td>Евгений</td>\n",
       "      <td>Абрамович</td>\n",
       "      <td>2018-06-17</td>\n",
       "      <td>smart</td>\n",
       "    </tr>\n",
       "    <tr>\n",
       "      <td>3</td>\n",
       "      <td>1003</td>\n",
       "      <td>23</td>\n",
       "      <td>NaN</td>\n",
       "      <td>Москва</td>\n",
       "      <td>Белла</td>\n",
       "      <td>Белякова</td>\n",
       "      <td>2018-08-17</td>\n",
       "      <td>ultra</td>\n",
       "    </tr>\n",
       "    <tr>\n",
       "      <td>4</td>\n",
       "      <td>1004</td>\n",
       "      <td>68</td>\n",
       "      <td>NaN</td>\n",
       "      <td>Новокузнецк</td>\n",
       "      <td>Татьяна</td>\n",
       "      <td>Авдеенко</td>\n",
       "      <td>2018-05-14</td>\n",
       "      <td>ultra</td>\n",
       "    </tr>\n",
       "    <tr>\n",
       "      <td>5</td>\n",
       "      <td>1005</td>\n",
       "      <td>67</td>\n",
       "      <td>NaN</td>\n",
       "      <td>Набережные Челны</td>\n",
       "      <td>Афанасий</td>\n",
       "      <td>Горлов</td>\n",
       "      <td>2018-01-25</td>\n",
       "      <td>smart</td>\n",
       "    </tr>\n",
       "    <tr>\n",
       "      <td>6</td>\n",
       "      <td>1006</td>\n",
       "      <td>21</td>\n",
       "      <td>NaN</td>\n",
       "      <td>Ульяновск</td>\n",
       "      <td>Леонид</td>\n",
       "      <td>Ермолаев</td>\n",
       "      <td>2018-02-26</td>\n",
       "      <td>smart</td>\n",
       "    </tr>\n",
       "    <tr>\n",
       "      <td>7</td>\n",
       "      <td>1007</td>\n",
       "      <td>65</td>\n",
       "      <td>NaN</td>\n",
       "      <td>Москва</td>\n",
       "      <td>Юна</td>\n",
       "      <td>Березина</td>\n",
       "      <td>2018-04-19</td>\n",
       "      <td>smart</td>\n",
       "    </tr>\n",
       "    <tr>\n",
       "      <td>8</td>\n",
       "      <td>1008</td>\n",
       "      <td>63</td>\n",
       "      <td>NaN</td>\n",
       "      <td>Челябинск</td>\n",
       "      <td>Рустэм</td>\n",
       "      <td>Пономарёв</td>\n",
       "      <td>2018-12-19</td>\n",
       "      <td>smart</td>\n",
       "    </tr>\n",
       "    <tr>\n",
       "      <td>9</td>\n",
       "      <td>1009</td>\n",
       "      <td>24</td>\n",
       "      <td>NaN</td>\n",
       "      <td>Пермь</td>\n",
       "      <td>Василиса</td>\n",
       "      <td>Блинова</td>\n",
       "      <td>2018-03-22</td>\n",
       "      <td>smart</td>\n",
       "    </tr>\n",
       "  </tbody>\n",
       "</table>\n",
       "</div>"
      ],
      "text/plain": [
       "   user_id  age churn_date              city first_name  last_name  \\\n",
       "0     1000   52        NaN         Краснодар     Рафаил  Верещагин   \n",
       "1     1001   41        NaN            Москва       Иван       Ежов   \n",
       "2     1002   59        NaN       Стерлитамак    Евгений  Абрамович   \n",
       "3     1003   23        NaN            Москва      Белла   Белякова   \n",
       "4     1004   68        NaN       Новокузнецк    Татьяна   Авдеенко   \n",
       "5     1005   67        NaN  Набережные Челны   Афанасий     Горлов   \n",
       "6     1006   21        NaN         Ульяновск     Леонид   Ермолаев   \n",
       "7     1007   65        NaN            Москва        Юна   Березина   \n",
       "8     1008   63        NaN         Челябинск     Рустэм  Пономарёв   \n",
       "9     1009   24        NaN             Пермь   Василиса    Блинова   \n",
       "\n",
       "     reg_date tariff  \n",
       "0  2018-05-25  ultra  \n",
       "1  2018-11-01  smart  \n",
       "2  2018-06-17  smart  \n",
       "3  2018-08-17  ultra  \n",
       "4  2018-05-14  ultra  \n",
       "5  2018-01-25  smart  \n",
       "6  2018-02-26  smart  \n",
       "7  2018-04-19  smart  \n",
       "8  2018-12-19  smart  \n",
       "9  2018-03-22  smart  "
      ]
     },
     "execution_count": 14,
     "metadata": {},
     "output_type": "execute_result"
    }
   ],
   "source": [
    "#Посмотрим первые 10 строк из файла \"users\"\n",
    "users.head(10)"
   ]
  },
  {
   "cell_type": "code",
   "execution_count": 15,
   "metadata": {},
   "outputs": [
    {
     "data": {
      "text/html": [
       "<div>\n",
       "<style scoped>\n",
       "    .dataframe tbody tr th:only-of-type {\n",
       "        vertical-align: middle;\n",
       "    }\n",
       "\n",
       "    .dataframe tbody tr th {\n",
       "        vertical-align: top;\n",
       "    }\n",
       "\n",
       "    .dataframe thead th {\n",
       "        text-align: right;\n",
       "    }\n",
       "</style>\n",
       "<table border=\"1\" class=\"dataframe\">\n",
       "  <thead>\n",
       "    <tr style=\"text-align: right;\">\n",
       "      <th></th>\n",
       "      <th>user_id</th>\n",
       "      <th>age</th>\n",
       "    </tr>\n",
       "  </thead>\n",
       "  <tbody>\n",
       "    <tr>\n",
       "      <td>count</td>\n",
       "      <td>500.000000</td>\n",
       "      <td>500.00000</td>\n",
       "    </tr>\n",
       "    <tr>\n",
       "      <td>mean</td>\n",
       "      <td>1249.500000</td>\n",
       "      <td>46.58800</td>\n",
       "    </tr>\n",
       "    <tr>\n",
       "      <td>std</td>\n",
       "      <td>144.481833</td>\n",
       "      <td>16.66763</td>\n",
       "    </tr>\n",
       "    <tr>\n",
       "      <td>min</td>\n",
       "      <td>1000.000000</td>\n",
       "      <td>18.00000</td>\n",
       "    </tr>\n",
       "    <tr>\n",
       "      <td>25%</td>\n",
       "      <td>1124.750000</td>\n",
       "      <td>32.00000</td>\n",
       "    </tr>\n",
       "    <tr>\n",
       "      <td>50%</td>\n",
       "      <td>1249.500000</td>\n",
       "      <td>46.00000</td>\n",
       "    </tr>\n",
       "    <tr>\n",
       "      <td>75%</td>\n",
       "      <td>1374.250000</td>\n",
       "      <td>62.00000</td>\n",
       "    </tr>\n",
       "    <tr>\n",
       "      <td>max</td>\n",
       "      <td>1499.000000</td>\n",
       "      <td>75.00000</td>\n",
       "    </tr>\n",
       "  </tbody>\n",
       "</table>\n",
       "</div>"
      ],
      "text/plain": [
       "           user_id        age\n",
       "count   500.000000  500.00000\n",
       "mean   1249.500000   46.58800\n",
       "std     144.481833   16.66763\n",
       "min    1000.000000   18.00000\n",
       "25%    1124.750000   32.00000\n",
       "50%    1249.500000   46.00000\n",
       "75%    1374.250000   62.00000\n",
       "max    1499.000000   75.00000"
      ]
     },
     "execution_count": 15,
     "metadata": {},
     "output_type": "execute_result"
    }
   ],
   "source": [
    "#Посмотрим значения в файле \"users\"\n",
    "users.describe()"
   ]
  },
  {
   "cell_type": "code",
   "execution_count": 16,
   "metadata": {},
   "outputs": [
    {
     "name": "stdout",
     "output_type": "stream",
     "text": [
      "<class 'pandas.core.frame.DataFrame'>\n",
      "RangeIndex: 202607 entries, 0 to 202606\n",
      "Data columns (total 4 columns):\n",
      "id           202607 non-null object\n",
      "call_date    202607 non-null object\n",
      "duration     202607 non-null float64\n",
      "user_id      202607 non-null int64\n",
      "dtypes: float64(1), int64(1), object(2)\n",
      "memory usage: 6.2+ MB\n",
      "None\n",
      "\n",
      "<class 'pandas.core.frame.DataFrame'>\n",
      "Int64Index: 149396 entries, 0 to 149395\n",
      "Data columns (total 4 columns):\n",
      "id              149396 non-null object\n",
      "mb_used         149396 non-null float64\n",
      "session_date    149396 non-null object\n",
      "user_id         149396 non-null int64\n",
      "dtypes: float64(1), int64(1), object(2)\n",
      "memory usage: 5.7+ MB\n",
      "None\n",
      "\n",
      "<class 'pandas.core.frame.DataFrame'>\n",
      "RangeIndex: 123036 entries, 0 to 123035\n",
      "Data columns (total 3 columns):\n",
      "id              123036 non-null object\n",
      "message_date    123036 non-null object\n",
      "user_id         123036 non-null int64\n",
      "dtypes: int64(1), object(2)\n",
      "memory usage: 2.8+ MB\n",
      "None\n",
      "\n",
      "<class 'pandas.core.frame.DataFrame'>\n",
      "RangeIndex: 2 entries, 0 to 1\n",
      "Data columns (total 8 columns):\n",
      "messages_included        2 non-null int64\n",
      "mb_per_month_included    2 non-null int64\n",
      "minutes_included         2 non-null int64\n",
      "rub_monthly_fee          2 non-null int64\n",
      "rub_per_gb               2 non-null int64\n",
      "rub_per_message          2 non-null int64\n",
      "rub_per_minute           2 non-null int64\n",
      "tariff_name              2 non-null object\n",
      "dtypes: int64(7), object(1)\n",
      "memory usage: 256.0+ bytes\n",
      "None\n",
      "\n",
      "<class 'pandas.core.frame.DataFrame'>\n",
      "RangeIndex: 500 entries, 0 to 499\n",
      "Data columns (total 8 columns):\n",
      "user_id       500 non-null int64\n",
      "age           500 non-null int64\n",
      "churn_date    38 non-null object\n",
      "city          500 non-null object\n",
      "first_name    500 non-null object\n",
      "last_name     500 non-null object\n",
      "reg_date      500 non-null object\n",
      "tariff        500 non-null object\n",
      "dtypes: int64(2), object(6)\n",
      "memory usage: 31.4+ KB\n",
      "None\n",
      "\n"
     ]
    }
   ],
   "source": [
    "#Посмотрим общую информацию во всех файлах сразу\n",
    "for data in [calls, internet, messages, tariffs, users]: print(data.info(), end='\\n\\n')"
   ]
  },
  {
   "cell_type": "markdown",
   "metadata": {},
   "source": [
    "### Вывод"
   ]
  },
  {
   "cell_type": "markdown",
   "metadata": {},
   "source": [
    "Для анализа у нас предоставлено 500 пользователей компании \"Мегалайн\". В принципе, можно сказать, что данные в большинстве случаев в порядке. Пропуски есть только в файле \"users\" в столбце 'churn_date' (который можно оставить без заполнения, он нам не важен для анализа), в остальных случаях можно поменять тип данных там, где есть даты, а также округлить значения с мегабайтами и временем разговора в большую сторону."
   ]
  },
  {
   "cell_type": "markdown",
   "metadata": {},
   "source": [
    "## Подготовьте данные"
   ]
  },
  {
   "cell_type": "code",
   "execution_count": 17,
   "metadata": {},
   "outputs": [
    {
     "data": {
      "text/plain": [
       "1263_385     1\n",
       "1324_750     1\n",
       "1363_246     1\n",
       "1490_195     1\n",
       "1263_498     1\n",
       "            ..\n",
       "1200_376     1\n",
       "1412_325     1\n",
       "1196_1140    1\n",
       "1363_927     1\n",
       "1032_58      1\n",
       "Name: id, Length: 202607, dtype: int64"
      ]
     },
     "execution_count": 17,
     "metadata": {},
     "output_type": "execute_result"
    }
   ],
   "source": [
    "#Подробнее изучим данные для каждого столбца из файла \"calls\"\n",
    "calls['id'].value_counts()"
   ]
  },
  {
   "cell_type": "code",
   "execution_count": 18,
   "metadata": {},
   "outputs": [
    {
     "data": {
      "text/plain": [
       "2018-12-31    1435\n",
       "2018-12-29    1202\n",
       "2018-12-30    1192\n",
       "2018-12-22    1158\n",
       "2018-12-26    1149\n",
       "              ... \n",
       "2018-01-05      20\n",
       "2018-01-07      18\n",
       "2018-01-02       9\n",
       "2018-01-03       7\n",
       "2018-01-01       5\n",
       "Name: call_date, Length: 365, dtype: int64"
      ]
     },
     "execution_count": 18,
     "metadata": {},
     "output_type": "execute_result"
    }
   ],
   "source": [
    "calls['call_date'].value_counts()"
   ]
  },
  {
   "cell_type": "code",
   "execution_count": 19,
   "metadata": {},
   "outputs": [
    {
     "data": {
      "text/plain": [
       "0.00     39613\n",
       "4.49       142\n",
       "5.50       142\n",
       "6.15       141\n",
       "6.38       141\n",
       "         ...  \n",
       "27.02        1\n",
       "26.19        1\n",
       "25.34        1\n",
       "27.13        1\n",
       "24.28        1\n",
       "Name: duration, Length: 2871, dtype: int64"
      ]
     },
     "execution_count": 19,
     "metadata": {},
     "output_type": "execute_result"
    }
   ],
   "source": [
    "calls['duration'].value_counts()"
   ]
  },
  {
   "cell_type": "code",
   "execution_count": 20,
   "metadata": {},
   "outputs": [
    {
     "data": {
      "text/plain": [
       "1377    1760\n",
       "1168    1692\n",
       "1375    1560\n",
       "1453    1440\n",
       "1196    1240\n",
       "        ... \n",
       "1397      33\n",
       "1442      28\n",
       "1373      24\n",
       "1016      20\n",
       "1257      14\n",
       "Name: user_id, Length: 492, dtype: int64"
      ]
     },
     "execution_count": 20,
     "metadata": {},
     "output_type": "execute_result"
    }
   ],
   "source": [
    "calls['user_id'].value_counts()"
   ]
  },
  {
   "cell_type": "code",
   "execution_count": 21,
   "metadata": {},
   "outputs": [
    {
     "data": {
      "text/plain": [
       "0"
      ]
     },
     "execution_count": 21,
     "metadata": {},
     "output_type": "execute_result"
    }
   ],
   "source": [
    "#Проверим, есть ли дубликаты в файле \"calls\"\n",
    "calls.duplicated().sum()"
   ]
  },
  {
   "cell_type": "code",
   "execution_count": 22,
   "metadata": {},
   "outputs": [],
   "source": [
    "#Поменяем тип данных в столбце \"call_date\"\n",
    "calls['call_date'] = pd.to_datetime(calls['call_date'])"
   ]
  },
  {
   "cell_type": "code",
   "execution_count": 23,
   "metadata": {},
   "outputs": [
    {
     "name": "stdout",
     "output_type": "stream",
     "text": [
      "<class 'pandas.core.frame.DataFrame'>\n",
      "RangeIndex: 202607 entries, 0 to 202606\n",
      "Data columns (total 4 columns):\n",
      "id           202607 non-null object\n",
      "call_date    202607 non-null datetime64[ns]\n",
      "duration     202607 non-null float64\n",
      "user_id      202607 non-null int64\n",
      "dtypes: datetime64[ns](1), float64(1), int64(1), object(1)\n",
      "memory usage: 6.2+ MB\n"
     ]
    }
   ],
   "source": [
    "#Проверим изменения\n",
    "calls.info()"
   ]
  },
  {
   "cell_type": "code",
   "execution_count": 24,
   "metadata": {},
   "outputs": [
    {
     "data": {
      "text/plain": [
       "1263_385    1\n",
       "1424_49     1\n",
       "1449_189    1\n",
       "1062_6      1\n",
       "1185_480    1\n",
       "           ..\n",
       "1490_169    1\n",
       "1263_394    1\n",
       "1363_40     1\n",
       "1381_335    1\n",
       "1014_439    1\n",
       "Name: id, Length: 149396, dtype: int64"
      ]
     },
     "execution_count": 24,
     "metadata": {},
     "output_type": "execute_result"
    }
   ],
   "source": [
    "#Подробнее изучим данные для каждого столбца из файла \"internet\"\n",
    "internet['id'].value_counts()"
   ]
  },
  {
   "cell_type": "code",
   "execution_count": 25,
   "metadata": {},
   "outputs": [
    {
     "data": {
      "text/plain": [
       "0.00      19598\n",
       "197.56        9\n",
       "447.30        9\n",
       "335.91        9\n",
       "108.95        8\n",
       "          ...  \n",
       "72.49         1\n",
       "846.22        1\n",
       "429.17        1\n",
       "899.03        1\n",
       "483.87        1\n",
       "Name: mb_used, Length: 70003, dtype: int64"
      ]
     },
     "execution_count": 25,
     "metadata": {},
     "output_type": "execute_result"
    }
   ],
   "source": [
    "internet['mb_used'].value_counts()"
   ]
  },
  {
   "cell_type": "code",
   "execution_count": 26,
   "metadata": {},
   "outputs": [
    {
     "data": {
      "text/plain": [
       "2018-12-31    1057\n",
       "2018-12-30     903\n",
       "2018-12-25     859\n",
       "2018-12-26     844\n",
       "2018-12-22     834\n",
       "              ... \n",
       "2018-01-05      14\n",
       "2018-01-04       9\n",
       "2018-01-03       6\n",
       "2018-01-01       3\n",
       "2018-01-02       3\n",
       "Name: session_date, Length: 365, dtype: int64"
      ]
     },
     "execution_count": 26,
     "metadata": {},
     "output_type": "execute_result"
    }
   ],
   "source": [
    "internet['session_date'].value_counts()"
   ]
  },
  {
   "cell_type": "code",
   "execution_count": 27,
   "metadata": {},
   "outputs": [
    {
     "data": {
      "text/plain": [
       "1496    834\n",
       "1227    812\n",
       "1204    789\n",
       "1240    764\n",
       "1251    759\n",
       "       ... \n",
       "1151     35\n",
       "1467     27\n",
       "1343     26\n",
       "1192     22\n",
       "1399      8\n",
       "Name: user_id, Length: 497, dtype: int64"
      ]
     },
     "execution_count": 27,
     "metadata": {},
     "output_type": "execute_result"
    }
   ],
   "source": [
    "internet['user_id'].value_counts()"
   ]
  },
  {
   "cell_type": "code",
   "execution_count": 28,
   "metadata": {},
   "outputs": [
    {
     "data": {
      "text/plain": [
       "0"
      ]
     },
     "execution_count": 28,
     "metadata": {},
     "output_type": "execute_result"
    }
   ],
   "source": [
    "#Проверим, есть ли дубликаты в файле \"internet\"\n",
    "internet.duplicated().sum()"
   ]
  },
  {
   "cell_type": "code",
   "execution_count": 29,
   "metadata": {},
   "outputs": [],
   "source": [
    "#Поменяем тип данных в столбце \"session_date\"\n",
    "internet['session_date'] = pd.to_datetime(internet['session_date'])"
   ]
  },
  {
   "cell_type": "code",
   "execution_count": 30,
   "metadata": {},
   "outputs": [
    {
     "name": "stdout",
     "output_type": "stream",
     "text": [
      "<class 'pandas.core.frame.DataFrame'>\n",
      "Int64Index: 149396 entries, 0 to 149395\n",
      "Data columns (total 4 columns):\n",
      "id              149396 non-null object\n",
      "mb_used         149396 non-null float64\n",
      "session_date    149396 non-null datetime64[ns]\n",
      "user_id         149396 non-null int64\n",
      "dtypes: datetime64[ns](1), float64(1), int64(1), object(1)\n",
      "memory usage: 5.7+ MB\n"
     ]
    }
   ],
   "source": [
    "#Проверим изменения\n",
    "internet.info()"
   ]
  },
  {
   "cell_type": "code",
   "execution_count": 31,
   "metadata": {},
   "outputs": [
    {
     "data": {
      "text/plain": [
       "1096_452    1\n",
       "1424_49     1\n",
       "1447_150    1\n",
       "1028_473    1\n",
       "1404_32     1\n",
       "           ..\n",
       "1113_164    1\n",
       "1221_196    1\n",
       "1203_83     1\n",
       "1481_74     1\n",
       "1032_58     1\n",
       "Name: id, Length: 123036, dtype: int64"
      ]
     },
     "execution_count": 31,
     "metadata": {},
     "output_type": "execute_result"
    }
   ],
   "source": [
    "#Подробнее изучим данные для каждого столбца из файла \"messages\"\n",
    "messages['id'].value_counts()"
   ]
  },
  {
   "cell_type": "code",
   "execution_count": 32,
   "metadata": {},
   "outputs": [
    {
     "data": {
      "text/plain": [
       "2018-12-31    859\n",
       "2018-12-30    765\n",
       "2018-12-21    712\n",
       "2018-12-29    702\n",
       "2018-12-26    699\n",
       "             ... \n",
       "2018-01-11     12\n",
       "2018-01-02     10\n",
       "2018-01-04     10\n",
       "2018-01-05     10\n",
       "2018-01-03      4\n",
       "Name: message_date, Length: 364, dtype: int64"
      ]
     },
     "execution_count": 32,
     "metadata": {},
     "output_type": "execute_result"
    }
   ],
   "source": [
    "messages['message_date'].value_counts()"
   ]
  },
  {
   "cell_type": "code",
   "execution_count": 33,
   "metadata": {},
   "outputs": [
    {
     "data": {
      "text/plain": [
       "1277    1463\n",
       "1089    1408\n",
       "1231    1384\n",
       "1385    1380\n",
       "1356    1224\n",
       "        ... \n",
       "1389       6\n",
       "1279       5\n",
       "1074       3\n",
       "1159       2\n",
       "1141       1\n",
       "Name: user_id, Length: 426, dtype: int64"
      ]
     },
     "execution_count": 33,
     "metadata": {},
     "output_type": "execute_result"
    }
   ],
   "source": [
    "messages['user_id'].value_counts()"
   ]
  },
  {
   "cell_type": "code",
   "execution_count": 34,
   "metadata": {},
   "outputs": [
    {
     "data": {
      "text/plain": [
       "0"
      ]
     },
     "execution_count": 34,
     "metadata": {},
     "output_type": "execute_result"
    }
   ],
   "source": [
    "#Проверим, есть ли дубликаты в файле \"messages\"\n",
    "messages.duplicated().sum()"
   ]
  },
  {
   "cell_type": "code",
   "execution_count": 35,
   "metadata": {},
   "outputs": [],
   "source": [
    "#Поменяем тип данных в столбце \"message_date\"\n",
    "messages['message_date'] = pd.to_datetime(messages['message_date'])"
   ]
  },
  {
   "cell_type": "code",
   "execution_count": 36,
   "metadata": {},
   "outputs": [
    {
     "name": "stdout",
     "output_type": "stream",
     "text": [
      "<class 'pandas.core.frame.DataFrame'>\n",
      "RangeIndex: 123036 entries, 0 to 123035\n",
      "Data columns (total 3 columns):\n",
      "id              123036 non-null object\n",
      "message_date    123036 non-null datetime64[ns]\n",
      "user_id         123036 non-null int64\n",
      "dtypes: datetime64[ns](1), int64(1), object(1)\n",
      "memory usage: 2.8+ MB\n"
     ]
    }
   ],
   "source": [
    "#Проверим изменения\n",
    "messages.info()"
   ]
  },
  {
   "cell_type": "code",
   "execution_count": 37,
   "metadata": {},
   "outputs": [
    {
     "data": {
      "text/html": [
       "<div>\n",
       "<style scoped>\n",
       "    .dataframe tbody tr th:only-of-type {\n",
       "        vertical-align: middle;\n",
       "    }\n",
       "\n",
       "    .dataframe tbody tr th {\n",
       "        vertical-align: top;\n",
       "    }\n",
       "\n",
       "    .dataframe thead th {\n",
       "        text-align: right;\n",
       "    }\n",
       "</style>\n",
       "<table border=\"1\" class=\"dataframe\">\n",
       "  <thead>\n",
       "    <tr style=\"text-align: right;\">\n",
       "      <th></th>\n",
       "      <th>messages_included</th>\n",
       "      <th>mb_per_month_included</th>\n",
       "      <th>minutes_included</th>\n",
       "      <th>rub_monthly_fee</th>\n",
       "      <th>rub_per_gb</th>\n",
       "      <th>rub_per_message</th>\n",
       "      <th>rub_per_minute</th>\n",
       "      <th>tariff_name</th>\n",
       "    </tr>\n",
       "  </thead>\n",
       "  <tbody>\n",
       "    <tr>\n",
       "      <td>0</td>\n",
       "      <td>50</td>\n",
       "      <td>15360</td>\n",
       "      <td>500</td>\n",
       "      <td>550</td>\n",
       "      <td>200</td>\n",
       "      <td>3</td>\n",
       "      <td>3</td>\n",
       "      <td>smart</td>\n",
       "    </tr>\n",
       "    <tr>\n",
       "      <td>1</td>\n",
       "      <td>1000</td>\n",
       "      <td>30720</td>\n",
       "      <td>3000</td>\n",
       "      <td>1950</td>\n",
       "      <td>150</td>\n",
       "      <td>1</td>\n",
       "      <td>1</td>\n",
       "      <td>ultra</td>\n",
       "    </tr>\n",
       "  </tbody>\n",
       "</table>\n",
       "</div>"
      ],
      "text/plain": [
       "   messages_included  mb_per_month_included  minutes_included  \\\n",
       "0                 50                  15360               500   \n",
       "1               1000                  30720              3000   \n",
       "\n",
       "   rub_monthly_fee  rub_per_gb  rub_per_message  rub_per_minute tariff_name  \n",
       "0              550         200                3               3       smart  \n",
       "1             1950         150                1               1       ultra  "
      ]
     },
     "execution_count": 37,
     "metadata": {},
     "output_type": "execute_result"
    }
   ],
   "source": [
    "#Для файла \"tariffs\" нет смысла проверять все данные, поскольку там всего лишь хранится информация о 2 тарифах\n",
    "tariffs"
   ]
  },
  {
   "cell_type": "code",
   "execution_count": 38,
   "metadata": {},
   "outputs": [
    {
     "data": {
      "text/plain": [
       "1023    1\n",
       "1194    1\n",
       "1181    1\n",
       "1182    1\n",
       "1183    1\n",
       "       ..\n",
       "1362    1\n",
       "1363    1\n",
       "1364    1\n",
       "1365    1\n",
       "1024    1\n",
       "Name: user_id, Length: 500, dtype: int64"
      ]
     },
     "execution_count": 38,
     "metadata": {},
     "output_type": "execute_result"
    }
   ],
   "source": [
    "#Подробнее изучим данные для каждого столбца из файла \"users\"\n",
    "users['user_id'].value_counts()"
   ]
  },
  {
   "cell_type": "code",
   "execution_count": 39,
   "metadata": {},
   "outputs": [
    {
     "data": {
      "text/plain": [
       "53    14\n",
       "42    14\n",
       "63    13\n",
       "71    13\n",
       "64    13\n",
       "73    12\n",
       "21    12\n",
       "40    12\n",
       "39    11\n",
       "47    11\n",
       "29    11\n",
       "26    11\n",
       "37    11\n",
       "41    10\n",
       "36    10\n",
       "58    10\n",
       "45    10\n",
       "70    10\n",
       "52    10\n",
       "51     9\n",
       "27     9\n",
       "48     9\n",
       "50     9\n",
       "28     9\n",
       "30     9\n",
       "24     9\n",
       "20     9\n",
       "19     9\n",
       "56     9\n",
       "23     9\n",
       "68     9\n",
       "66     9\n",
       "65     9\n",
       "69     8\n",
       "62     8\n",
       "60     8\n",
       "44     8\n",
       "55     8\n",
       "25     7\n",
       "43     7\n",
       "67     7\n",
       "35     7\n",
       "74     7\n",
       "32     7\n",
       "31     7\n",
       "46     7\n",
       "75     6\n",
       "54     6\n",
       "59     6\n",
       "18     6\n",
       "33     5\n",
       "34     5\n",
       "38     5\n",
       "22     5\n",
       "72     5\n",
       "49     4\n",
       "57     4\n",
       "61     3\n",
       "Name: age, dtype: int64"
      ]
     },
     "execution_count": 39,
     "metadata": {},
     "output_type": "execute_result"
    }
   ],
   "source": [
    "users['age'].value_counts()"
   ]
  },
  {
   "cell_type": "code",
   "execution_count": 40,
   "metadata": {},
   "outputs": [
    {
     "data": {
      "text/plain": [
       "2018-12-21    2\n",
       "2018-12-03    2\n",
       "2018-10-14    2\n",
       "2018-12-09    2\n",
       "2018-10-03    2\n",
       "2018-08-31    1\n",
       "2018-12-18    1\n",
       "2018-09-27    1\n",
       "2018-10-25    1\n",
       "2018-10-05    1\n",
       "2018-10-28    1\n",
       "2018-10-27    1\n",
       "2018-12-25    1\n",
       "2018-11-13    1\n",
       "2018-12-11    1\n",
       "2018-11-26    1\n",
       "2018-11-16    1\n",
       "2018-12-20    1\n",
       "2018-10-04    1\n",
       "2018-08-17    1\n",
       "2018-12-24    1\n",
       "2018-12-26    1\n",
       "2018-09-02    1\n",
       "2018-11-27    1\n",
       "2018-11-22    1\n",
       "2018-12-23    1\n",
       "2018-12-30    1\n",
       "2018-11-21    1\n",
       "2018-09-26    1\n",
       "2018-11-07    1\n",
       "2018-12-16    1\n",
       "2018-11-30    1\n",
       "2018-12-14    1\n",
       "Name: churn_date, dtype: int64"
      ]
     },
     "execution_count": 40,
     "metadata": {},
     "output_type": "execute_result"
    }
   ],
   "source": [
    "users['churn_date'].value_counts()"
   ]
  },
  {
   "cell_type": "code",
   "execution_count": 41,
   "metadata": {},
   "outputs": [
    {
     "data": {
      "text/plain": [
       "Москва             99\n",
       "Санкт-Петербург    39\n",
       "Новосибирск        16\n",
       "Казань             14\n",
       "Омск               14\n",
       "                   ..\n",
       "Химки               1\n",
       "Архангельск         1\n",
       "Подольск            1\n",
       "Нижневартовск       1\n",
       "Иваново             1\n",
       "Name: city, Length: 76, dtype: int64"
      ]
     },
     "execution_count": 41,
     "metadata": {},
     "output_type": "execute_result"
    }
   ],
   "source": [
    "users['city'].value_counts()"
   ]
  },
  {
   "cell_type": "code",
   "execution_count": 42,
   "metadata": {},
   "outputs": [
    {
     "data": {
      "text/plain": [
       "Радим       6\n",
       "Леонид      5\n",
       "Пётр        5\n",
       "Габриель    4\n",
       "Андрей      4\n",
       "           ..\n",
       "Майя        1\n",
       "Милена      1\n",
       "Геодар      1\n",
       "Рем         1\n",
       "Людмила     1\n",
       "Name: first_name, Length: 246, dtype: int64"
      ]
     },
     "execution_count": 42,
     "metadata": {},
     "output_type": "execute_result"
    }
   ],
   "source": [
    "users['first_name'].value_counts()"
   ]
  },
  {
   "cell_type": "code",
   "execution_count": 43,
   "metadata": {},
   "outputs": [
    {
     "data": {
      "text/plain": [
       "Андреенко     5\n",
       "Аничкина      3\n",
       "Алексеенко    3\n",
       "Озерова       3\n",
       "Булгаков      3\n",
       "             ..\n",
       "Абрамычева    1\n",
       "Алёшкова      1\n",
       "Карасев       1\n",
       "Сазонов       1\n",
       "Шарапов       1\n",
       "Name: last_name, Length: 419, dtype: int64"
      ]
     },
     "execution_count": 43,
     "metadata": {},
     "output_type": "execute_result"
    }
   ],
   "source": [
    "users['last_name'].value_counts()"
   ]
  },
  {
   "cell_type": "code",
   "execution_count": 44,
   "metadata": {},
   "outputs": [
    {
     "data": {
      "text/plain": [
       "2018-05-28    8\n",
       "2018-10-05    5\n",
       "2018-11-16    5\n",
       "2018-04-03    5\n",
       "2018-07-16    5\n",
       "             ..\n",
       "2018-05-16    1\n",
       "2018-05-22    1\n",
       "2018-12-01    1\n",
       "2018-08-18    1\n",
       "2018-04-04    1\n",
       "Name: reg_date, Length: 270, dtype: int64"
      ]
     },
     "execution_count": 44,
     "metadata": {},
     "output_type": "execute_result"
    }
   ],
   "source": [
    "users['reg_date'].value_counts()"
   ]
  },
  {
   "cell_type": "code",
   "execution_count": 45,
   "metadata": {},
   "outputs": [
    {
     "data": {
      "text/plain": [
       "smart    351\n",
       "ultra    149\n",
       "Name: tariff, dtype: int64"
      ]
     },
     "execution_count": 45,
     "metadata": {},
     "output_type": "execute_result"
    }
   ],
   "source": [
    "users['tariff'].value_counts()"
   ]
  },
  {
   "cell_type": "code",
   "execution_count": 46,
   "metadata": {},
   "outputs": [
    {
     "data": {
      "text/plain": [
       "0"
      ]
     },
     "execution_count": 46,
     "metadata": {},
     "output_type": "execute_result"
    }
   ],
   "source": [
    "#Проверим, есть ли дубликаты в файле \"users\"\n",
    "users.duplicated().sum()"
   ]
  },
  {
   "cell_type": "code",
   "execution_count": 47,
   "metadata": {},
   "outputs": [],
   "source": [
    "#Поменяем тип данных в столбце \"reg_date\"\n",
    "users['reg_date'] = pd.to_datetime(users['reg_date'])"
   ]
  },
  {
   "cell_type": "code",
   "execution_count": 48,
   "metadata": {},
   "outputs": [],
   "source": [
    "#Поменяем тип данных в столбце \"churn_date\"\n",
    "users['churn_date'] = pd.to_datetime(users['churn_date'])"
   ]
  },
  {
   "cell_type": "code",
   "execution_count": 49,
   "metadata": {},
   "outputs": [
    {
     "data": {
      "text/html": [
       "<div>\n",
       "<style scoped>\n",
       "    .dataframe tbody tr th:only-of-type {\n",
       "        vertical-align: middle;\n",
       "    }\n",
       "\n",
       "    .dataframe tbody tr th {\n",
       "        vertical-align: top;\n",
       "    }\n",
       "\n",
       "    .dataframe thead th {\n",
       "        text-align: right;\n",
       "    }\n",
       "</style>\n",
       "<table border=\"1\" class=\"dataframe\">\n",
       "  <thead>\n",
       "    <tr style=\"text-align: right;\">\n",
       "      <th></th>\n",
       "      <th>user_id</th>\n",
       "      <th>age</th>\n",
       "      <th>churn_date</th>\n",
       "      <th>city</th>\n",
       "      <th>first_name</th>\n",
       "      <th>last_name</th>\n",
       "      <th>reg_date</th>\n",
       "      <th>tariff</th>\n",
       "    </tr>\n",
       "  </thead>\n",
       "  <tbody>\n",
       "    <tr>\n",
       "      <td>0</td>\n",
       "      <td>1000</td>\n",
       "      <td>52</td>\n",
       "      <td>NaT</td>\n",
       "      <td>Краснодар</td>\n",
       "      <td>Рафаил</td>\n",
       "      <td>Верещагин</td>\n",
       "      <td>2018-05-25</td>\n",
       "      <td>ultra</td>\n",
       "    </tr>\n",
       "    <tr>\n",
       "      <td>1</td>\n",
       "      <td>1001</td>\n",
       "      <td>41</td>\n",
       "      <td>NaT</td>\n",
       "      <td>Москва</td>\n",
       "      <td>Иван</td>\n",
       "      <td>Ежов</td>\n",
       "      <td>2018-11-01</td>\n",
       "      <td>smart</td>\n",
       "    </tr>\n",
       "    <tr>\n",
       "      <td>2</td>\n",
       "      <td>1002</td>\n",
       "      <td>59</td>\n",
       "      <td>NaT</td>\n",
       "      <td>Стерлитамак</td>\n",
       "      <td>Евгений</td>\n",
       "      <td>Абрамович</td>\n",
       "      <td>2018-06-17</td>\n",
       "      <td>smart</td>\n",
       "    </tr>\n",
       "    <tr>\n",
       "      <td>3</td>\n",
       "      <td>1003</td>\n",
       "      <td>23</td>\n",
       "      <td>NaT</td>\n",
       "      <td>Москва</td>\n",
       "      <td>Белла</td>\n",
       "      <td>Белякова</td>\n",
       "      <td>2018-08-17</td>\n",
       "      <td>ultra</td>\n",
       "    </tr>\n",
       "    <tr>\n",
       "      <td>4</td>\n",
       "      <td>1004</td>\n",
       "      <td>68</td>\n",
       "      <td>NaT</td>\n",
       "      <td>Новокузнецк</td>\n",
       "      <td>Татьяна</td>\n",
       "      <td>Авдеенко</td>\n",
       "      <td>2018-05-14</td>\n",
       "      <td>ultra</td>\n",
       "    </tr>\n",
       "    <tr>\n",
       "      <td>...</td>\n",
       "      <td>...</td>\n",
       "      <td>...</td>\n",
       "      <td>...</td>\n",
       "      <td>...</td>\n",
       "      <td>...</td>\n",
       "      <td>...</td>\n",
       "      <td>...</td>\n",
       "      <td>...</td>\n",
       "    </tr>\n",
       "    <tr>\n",
       "      <td>494</td>\n",
       "      <td>1494</td>\n",
       "      <td>62</td>\n",
       "      <td>NaT</td>\n",
       "      <td>Омск</td>\n",
       "      <td>Ренат</td>\n",
       "      <td>Андропов</td>\n",
       "      <td>2018-08-17</td>\n",
       "      <td>smart</td>\n",
       "    </tr>\n",
       "    <tr>\n",
       "      <td>495</td>\n",
       "      <td>1495</td>\n",
       "      <td>65</td>\n",
       "      <td>NaT</td>\n",
       "      <td>Иркутск</td>\n",
       "      <td>Авксентий</td>\n",
       "      <td>Фокин</td>\n",
       "      <td>2018-08-28</td>\n",
       "      <td>ultra</td>\n",
       "    </tr>\n",
       "    <tr>\n",
       "      <td>496</td>\n",
       "      <td>1496</td>\n",
       "      <td>36</td>\n",
       "      <td>NaT</td>\n",
       "      <td>Вологда</td>\n",
       "      <td>Трифон</td>\n",
       "      <td>Блохин</td>\n",
       "      <td>2018-01-27</td>\n",
       "      <td>smart</td>\n",
       "    </tr>\n",
       "    <tr>\n",
       "      <td>497</td>\n",
       "      <td>1497</td>\n",
       "      <td>32</td>\n",
       "      <td>NaT</td>\n",
       "      <td>Челябинск</td>\n",
       "      <td>Каролина</td>\n",
       "      <td>Агеева</td>\n",
       "      <td>2018-10-09</td>\n",
       "      <td>smart</td>\n",
       "    </tr>\n",
       "    <tr>\n",
       "      <td>499</td>\n",
       "      <td>1499</td>\n",
       "      <td>35</td>\n",
       "      <td>NaT</td>\n",
       "      <td>Пермь</td>\n",
       "      <td>Гектор</td>\n",
       "      <td>Корнилов</td>\n",
       "      <td>2018-09-27</td>\n",
       "      <td>smart</td>\n",
       "    </tr>\n",
       "  </tbody>\n",
       "</table>\n",
       "<p>462 rows × 8 columns</p>\n",
       "</div>"
      ],
      "text/plain": [
       "     user_id  age churn_date         city first_name  last_name   reg_date  \\\n",
       "0       1000   52        NaT    Краснодар     Рафаил  Верещагин 2018-05-25   \n",
       "1       1001   41        NaT       Москва       Иван       Ежов 2018-11-01   \n",
       "2       1002   59        NaT  Стерлитамак    Евгений  Абрамович 2018-06-17   \n",
       "3       1003   23        NaT       Москва      Белла   Белякова 2018-08-17   \n",
       "4       1004   68        NaT  Новокузнецк    Татьяна   Авдеенко 2018-05-14   \n",
       "..       ...  ...        ...          ...        ...        ...        ...   \n",
       "494     1494   62        NaT         Омск      Ренат   Андропов 2018-08-17   \n",
       "495     1495   65        NaT      Иркутск  Авксентий      Фокин 2018-08-28   \n",
       "496     1496   36        NaT      Вологда     Трифон     Блохин 2018-01-27   \n",
       "497     1497   32        NaT    Челябинск   Каролина     Агеева 2018-10-09   \n",
       "499     1499   35        NaT        Пермь     Гектор   Корнилов 2018-09-27   \n",
       "\n",
       "    tariff  \n",
       "0    ultra  \n",
       "1    smart  \n",
       "2    smart  \n",
       "3    ultra  \n",
       "4    ultra  \n",
       "..     ...  \n",
       "494  smart  \n",
       "495  ultra  \n",
       "496  smart  \n",
       "497  smart  \n",
       "499  smart  \n",
       "\n",
       "[462 rows x 8 columns]"
      ]
     },
     "execution_count": 49,
     "metadata": {},
     "output_type": "execute_result"
    }
   ],
   "source": [
    "#Посмотрим пропуски в столбце \"churn_date\"\n",
    "users[users['churn_date'].isna()]"
   ]
  },
  {
   "cell_type": "code",
   "execution_count": 50,
   "metadata": {},
   "outputs": [
    {
     "name": "stdout",
     "output_type": "stream",
     "text": [
      "<class 'pandas.core.frame.DataFrame'>\n",
      "RangeIndex: 500 entries, 0 to 499\n",
      "Data columns (total 8 columns):\n",
      "user_id       500 non-null int64\n",
      "age           500 non-null int64\n",
      "churn_date    38 non-null datetime64[ns]\n",
      "city          500 non-null object\n",
      "first_name    500 non-null object\n",
      "last_name     500 non-null object\n",
      "reg_date      500 non-null datetime64[ns]\n",
      "tariff        500 non-null object\n",
      "dtypes: datetime64[ns](2), int64(2), object(4)\n",
      "memory usage: 31.4+ KB\n"
     ]
    }
   ],
   "source": [
    "#Проверим изменения\n",
    "users.info()"
   ]
  },
  {
   "cell_type": "markdown",
   "metadata": {},
   "source": [
    "### Вывод"
   ]
  },
  {
   "cell_type": "markdown",
   "metadata": {},
   "source": [
    "Как было сказано в выводе 1.1, с данными по большей части всё в порядке. Был проведён более детальный анализ, а именно: осмотр каждого столбца в файле, проверка на наличие дубликатов (не было обнаружено), изменение типа данных в столбцах с датами. В файле \"users\" в столбце \"churn_date\" есть пропуски, но их можно ничем не заполнять, а оставить как есть, поскольку они нам для дальнейшего анализа не важны (скорее всего, этот столбец означает дату договора, если значение отстутствует, то договор по-прежнему действует, а если есть дата, то это дата окончания договора, в принципе можно было бы создать отдельный столбец с булевыми значениями, но оставим как есть)."
   ]
  },
  {
   "cell_type": "markdown",
   "metadata": {},
   "source": [
    "## Расчёт для каждого пользователя"
   ]
  },
  {
   "cell_type": "markdown",
   "metadata": {},
   "source": [
    "### Количество сделанных звонков и израсходованных минут разговора по месяцам"
   ]
  },
  {
   "cell_type": "code",
   "execution_count": 51,
   "metadata": {},
   "outputs": [],
   "source": [
    "#Создадим новый столбец с номером месяца из столбца \"call_date\"\n",
    "calls['month'] = pd.DatetimeIndex(calls['call_date']).month"
   ]
  },
  {
   "cell_type": "code",
   "execution_count": 52,
   "metadata": {},
   "outputs": [],
   "source": [
    "#Округлим значения продолжительности звонков в большую сторону\n",
    "calls['duration'] = calls['duration'].apply(np.ceil)"
   ]
  },
  {
   "cell_type": "code",
   "execution_count": 53,
   "metadata": {},
   "outputs": [],
   "source": [
    "#Объединим 2 таблицы с помощью метода \"merge\"\n",
    "users_calls = calls.merge(users, on='user_id', how='inner')"
   ]
  },
  {
   "cell_type": "code",
   "execution_count": 54,
   "metadata": {},
   "outputs": [
    {
     "data": {
      "text/html": [
       "<div>\n",
       "<style scoped>\n",
       "    .dataframe tbody tr th:only-of-type {\n",
       "        vertical-align: middle;\n",
       "    }\n",
       "\n",
       "    .dataframe tbody tr th {\n",
       "        vertical-align: top;\n",
       "    }\n",
       "\n",
       "    .dataframe thead th {\n",
       "        text-align: right;\n",
       "    }\n",
       "</style>\n",
       "<table border=\"1\" class=\"dataframe\">\n",
       "  <thead>\n",
       "    <tr style=\"text-align: right;\">\n",
       "      <th></th>\n",
       "      <th></th>\n",
       "      <th>calls</th>\n",
       "      <th>duration</th>\n",
       "    </tr>\n",
       "    <tr>\n",
       "      <th>user_id</th>\n",
       "      <th>month</th>\n",
       "      <th></th>\n",
       "      <th></th>\n",
       "    </tr>\n",
       "  </thead>\n",
       "  <tbody>\n",
       "    <tr>\n",
       "      <td rowspan=\"5\" valign=\"top\">1000</td>\n",
       "      <td>5</td>\n",
       "      <td>22</td>\n",
       "      <td>159.0</td>\n",
       "    </tr>\n",
       "    <tr>\n",
       "      <td>6</td>\n",
       "      <td>43</td>\n",
       "      <td>172.0</td>\n",
       "    </tr>\n",
       "    <tr>\n",
       "      <td>7</td>\n",
       "      <td>47</td>\n",
       "      <td>340.0</td>\n",
       "    </tr>\n",
       "    <tr>\n",
       "      <td>8</td>\n",
       "      <td>52</td>\n",
       "      <td>408.0</td>\n",
       "    </tr>\n",
       "    <tr>\n",
       "      <td>9</td>\n",
       "      <td>58</td>\n",
       "      <td>466.0</td>\n",
       "    </tr>\n",
       "    <tr>\n",
       "      <td>...</td>\n",
       "      <td>...</td>\n",
       "      <td>...</td>\n",
       "      <td>...</td>\n",
       "    </tr>\n",
       "    <tr>\n",
       "      <td>1498</td>\n",
       "      <td>10</td>\n",
       "      <td>41</td>\n",
       "      <td>247.0</td>\n",
       "    </tr>\n",
       "    <tr>\n",
       "      <td rowspan=\"4\" valign=\"top\">1499</td>\n",
       "      <td>9</td>\n",
       "      <td>9</td>\n",
       "      <td>70.0</td>\n",
       "    </tr>\n",
       "    <tr>\n",
       "      <td>10</td>\n",
       "      <td>68</td>\n",
       "      <td>449.0</td>\n",
       "    </tr>\n",
       "    <tr>\n",
       "      <td>11</td>\n",
       "      <td>74</td>\n",
       "      <td>612.0</td>\n",
       "    </tr>\n",
       "    <tr>\n",
       "      <td>12</td>\n",
       "      <td>69</td>\n",
       "      <td>492.0</td>\n",
       "    </tr>\n",
       "  </tbody>\n",
       "</table>\n",
       "<p>3174 rows × 2 columns</p>\n",
       "</div>"
      ],
      "text/plain": [
       "               calls  duration\n",
       "user_id month                 \n",
       "1000    5         22     159.0\n",
       "        6         43     172.0\n",
       "        7         47     340.0\n",
       "        8         52     408.0\n",
       "        9         58     466.0\n",
       "...              ...       ...\n",
       "1498    10        41     247.0\n",
       "1499    9          9      70.0\n",
       "        10        68     449.0\n",
       "        11        74     612.0\n",
       "        12        69     492.0\n",
       "\n",
       "[3174 rows x 2 columns]"
      ]
     },
     "execution_count": 54,
     "metadata": {},
     "output_type": "execute_result"
    }
   ],
   "source": [
    "#Создадим сводную таблицу с данными из 2 объединённых таблиц и посчитаем для каждого столбца количество звонков и сумму их \n",
    "#продолжительности\n",
    "users_calls_pivot_table = users_calls.pivot_table(index=['user_id', 'month'], values=['call_date', 'duration'],\n",
    "                                                  aggfunc={'call_date' : 'count', \n",
    "                                                           'duration' : 'sum'})\n",
    "users_calls_pivot_table.columns = ['calls', 'duration']\n",
    "users_calls_pivot_table"
   ]
  },
  {
   "cell_type": "markdown",
   "metadata": {},
   "source": [
    "### Вывод"
   ]
  },
  {
   "cell_type": "markdown",
   "metadata": {},
   "source": [
    "Были получены и выведены данные по количеству сделанных звонков и израсходованных минут разговора по месяцам для каждого пользователя."
   ]
  },
  {
   "cell_type": "markdown",
   "metadata": {},
   "source": [
    "### Количество отправленных сообщений по месяцам"
   ]
  },
  {
   "cell_type": "code",
   "execution_count": 55,
   "metadata": {},
   "outputs": [],
   "source": [
    "#Создадим новый столбец с номером месяца из столбца \"message_date\"\n",
    "messages['month'] = pd.DatetimeIndex(messages['message_date']).month"
   ]
  },
  {
   "cell_type": "code",
   "execution_count": 56,
   "metadata": {},
   "outputs": [],
   "source": [
    "#Объединим 2 таблицы с помощью метода \"merge\"\n",
    "users_messages = messages.merge(users, on='user_id', how='inner')"
   ]
  },
  {
   "cell_type": "code",
   "execution_count": 57,
   "metadata": {},
   "outputs": [
    {
     "data": {
      "text/html": [
       "<div>\n",
       "<style scoped>\n",
       "    .dataframe tbody tr th:only-of-type {\n",
       "        vertical-align: middle;\n",
       "    }\n",
       "\n",
       "    .dataframe tbody tr th {\n",
       "        vertical-align: top;\n",
       "    }\n",
       "\n",
       "    .dataframe thead th {\n",
       "        text-align: right;\n",
       "    }\n",
       "</style>\n",
       "<table border=\"1\" class=\"dataframe\">\n",
       "  <thead>\n",
       "    <tr style=\"text-align: right;\">\n",
       "      <th></th>\n",
       "      <th></th>\n",
       "      <th>messages</th>\n",
       "    </tr>\n",
       "    <tr>\n",
       "      <th>user_id</th>\n",
       "      <th>month</th>\n",
       "      <th></th>\n",
       "    </tr>\n",
       "  </thead>\n",
       "  <tbody>\n",
       "    <tr>\n",
       "      <td rowspan=\"5\" valign=\"top\">1000</td>\n",
       "      <td>5</td>\n",
       "      <td>22</td>\n",
       "    </tr>\n",
       "    <tr>\n",
       "      <td>6</td>\n",
       "      <td>60</td>\n",
       "    </tr>\n",
       "    <tr>\n",
       "      <td>7</td>\n",
       "      <td>75</td>\n",
       "    </tr>\n",
       "    <tr>\n",
       "      <td>8</td>\n",
       "      <td>81</td>\n",
       "    </tr>\n",
       "    <tr>\n",
       "      <td>9</td>\n",
       "      <td>57</td>\n",
       "    </tr>\n",
       "    <tr>\n",
       "      <td>...</td>\n",
       "      <td>...</td>\n",
       "      <td>...</td>\n",
       "    </tr>\n",
       "    <tr>\n",
       "      <td>1498</td>\n",
       "      <td>10</td>\n",
       "      <td>42</td>\n",
       "    </tr>\n",
       "    <tr>\n",
       "      <td rowspan=\"4\" valign=\"top\">1499</td>\n",
       "      <td>9</td>\n",
       "      <td>11</td>\n",
       "    </tr>\n",
       "    <tr>\n",
       "      <td>10</td>\n",
       "      <td>48</td>\n",
       "    </tr>\n",
       "    <tr>\n",
       "      <td>11</td>\n",
       "      <td>59</td>\n",
       "    </tr>\n",
       "    <tr>\n",
       "      <td>12</td>\n",
       "      <td>66</td>\n",
       "    </tr>\n",
       "  </tbody>\n",
       "</table>\n",
       "<p>2717 rows × 1 columns</p>\n",
       "</div>"
      ],
      "text/plain": [
       "               messages\n",
       "user_id month          \n",
       "1000    5            22\n",
       "        6            60\n",
       "        7            75\n",
       "        8            81\n",
       "        9            57\n",
       "...                 ...\n",
       "1498    10           42\n",
       "1499    9            11\n",
       "        10           48\n",
       "        11           59\n",
       "        12           66\n",
       "\n",
       "[2717 rows x 1 columns]"
      ]
     },
     "execution_count": 57,
     "metadata": {},
     "output_type": "execute_result"
    }
   ],
   "source": [
    "#Создадим сводную таблицу с данными из 2 объединённых таблиц и посчитаем количество сообщений\n",
    "users_messages_pivot_table = users_messages.pivot_table(index=['user_id', 'month'], values='message_date',\n",
    "                                                  aggfunc='count')\n",
    "users_messages_pivot_table.columns = ['messages']\n",
    "users_messages_pivot_table"
   ]
  },
  {
   "cell_type": "markdown",
   "metadata": {},
   "source": [
    "### Вывод"
   ]
  },
  {
   "cell_type": "markdown",
   "metadata": {},
   "source": [
    "Были получены и выведены данные по количеству отправленных сообщений по месяцам для каждого пользователя."
   ]
  },
  {
   "cell_type": "markdown",
   "metadata": {},
   "source": [
    "### Объем израсходованного интернет-трафика по месяцам"
   ]
  },
  {
   "cell_type": "code",
   "execution_count": 58,
   "metadata": {},
   "outputs": [],
   "source": [
    "#Создадим новый столбец с номером месяца из столбца \"session_date\"\n",
    "internet['month'] = pd.DatetimeIndex(internet['session_date']).month"
   ]
  },
  {
   "cell_type": "code",
   "execution_count": 59,
   "metadata": {},
   "outputs": [],
   "source": [
    "#Округлим значения израсходованного трафика в большую сторону\n",
    "internet['mb_used'] = internet['mb_used'].apply(np.ceil)"
   ]
  },
  {
   "cell_type": "code",
   "execution_count": 60,
   "metadata": {},
   "outputs": [],
   "source": [
    "#Объединим 2 таблицы с помощью метода \"merge\"\n",
    "users_internet = internet.merge(users, on='user_id', how='inner')"
   ]
  },
  {
   "cell_type": "code",
   "execution_count": 61,
   "metadata": {},
   "outputs": [
    {
     "data": {
      "text/html": [
       "<div>\n",
       "<style scoped>\n",
       "    .dataframe tbody tr th:only-of-type {\n",
       "        vertical-align: middle;\n",
       "    }\n",
       "\n",
       "    .dataframe tbody tr th {\n",
       "        vertical-align: top;\n",
       "    }\n",
       "\n",
       "    .dataframe thead th {\n",
       "        text-align: right;\n",
       "    }\n",
       "</style>\n",
       "<table border=\"1\" class=\"dataframe\">\n",
       "  <thead>\n",
       "    <tr style=\"text-align: right;\">\n",
       "      <th></th>\n",
       "      <th></th>\n",
       "      <th>mb_used</th>\n",
       "    </tr>\n",
       "    <tr>\n",
       "      <th>user_id</th>\n",
       "      <th>month</th>\n",
       "      <th></th>\n",
       "    </tr>\n",
       "  </thead>\n",
       "  <tbody>\n",
       "    <tr>\n",
       "      <td rowspan=\"5\" valign=\"top\">1000</td>\n",
       "      <td>5</td>\n",
       "      <td>2256.0</td>\n",
       "    </tr>\n",
       "    <tr>\n",
       "      <td>6</td>\n",
       "      <td>23257.0</td>\n",
       "    </tr>\n",
       "    <tr>\n",
       "      <td>7</td>\n",
       "      <td>14016.0</td>\n",
       "    </tr>\n",
       "    <tr>\n",
       "      <td>8</td>\n",
       "      <td>14070.0</td>\n",
       "    </tr>\n",
       "    <tr>\n",
       "      <td>9</td>\n",
       "      <td>14581.0</td>\n",
       "    </tr>\n",
       "    <tr>\n",
       "      <td>...</td>\n",
       "      <td>...</td>\n",
       "      <td>...</td>\n",
       "    </tr>\n",
       "    <tr>\n",
       "      <td>1498</td>\n",
       "      <td>10</td>\n",
       "      <td>20604.0</td>\n",
       "    </tr>\n",
       "    <tr>\n",
       "      <td rowspan=\"4\" valign=\"top\">1499</td>\n",
       "      <td>9</td>\n",
       "      <td>1848.0</td>\n",
       "    </tr>\n",
       "    <tr>\n",
       "      <td>10</td>\n",
       "      <td>17809.0</td>\n",
       "    </tr>\n",
       "    <tr>\n",
       "      <td>11</td>\n",
       "      <td>17984.0</td>\n",
       "    </tr>\n",
       "    <tr>\n",
       "      <td>12</td>\n",
       "      <td>13077.0</td>\n",
       "    </tr>\n",
       "  </tbody>\n",
       "</table>\n",
       "<p>3203 rows × 1 columns</p>\n",
       "</div>"
      ],
      "text/plain": [
       "               mb_used\n",
       "user_id month         \n",
       "1000    5       2256.0\n",
       "        6      23257.0\n",
       "        7      14016.0\n",
       "        8      14070.0\n",
       "        9      14581.0\n",
       "...                ...\n",
       "1498    10     20604.0\n",
       "1499    9       1848.0\n",
       "        10     17809.0\n",
       "        11     17984.0\n",
       "        12     13077.0\n",
       "\n",
       "[3203 rows x 1 columns]"
      ]
     },
     "execution_count": 61,
     "metadata": {},
     "output_type": "execute_result"
    }
   ],
   "source": [
    "#Создадим сводную таблицу с данными из 2 объединённых таблиц и посчитаем сумму использованных мегабайт\n",
    "users_internet_pivot_table = users_internet.pivot_table(index=['user_id', 'month'], values='mb_used',\n",
    "                                                  aggfunc='sum')\n",
    "users_internet_pivot_table.columns = ['mb_used']\n",
    "users_internet_pivot_table"
   ]
  },
  {
   "cell_type": "markdown",
   "metadata": {},
   "source": [
    "### Вывод"
   ]
  },
  {
   "cell_type": "markdown",
   "metadata": {},
   "source": [
    "Были получены и выведены данные по объему израсходованного интернет-трафика по месяцам для каждого пользователя."
   ]
  },
  {
   "cell_type": "markdown",
   "metadata": {},
   "source": [
    "### Объединение всех сводных таблиц"
   ]
  },
  {
   "cell_type": "code",
   "execution_count": 62,
   "metadata": {},
   "outputs": [
    {
     "data": {
      "text/html": [
       "<div>\n",
       "<style scoped>\n",
       "    .dataframe tbody tr th:only-of-type {\n",
       "        vertical-align: middle;\n",
       "    }\n",
       "\n",
       "    .dataframe tbody tr th {\n",
       "        vertical-align: top;\n",
       "    }\n",
       "\n",
       "    .dataframe thead th {\n",
       "        text-align: right;\n",
       "    }\n",
       "</style>\n",
       "<table border=\"1\" class=\"dataframe\">\n",
       "  <thead>\n",
       "    <tr style=\"text-align: right;\">\n",
       "      <th></th>\n",
       "      <th></th>\n",
       "      <th>calls</th>\n",
       "      <th>duration</th>\n",
       "      <th>messages</th>\n",
       "      <th>mb_used</th>\n",
       "    </tr>\n",
       "    <tr>\n",
       "      <th>user_id</th>\n",
       "      <th>month</th>\n",
       "      <th></th>\n",
       "      <th></th>\n",
       "      <th></th>\n",
       "      <th></th>\n",
       "    </tr>\n",
       "  </thead>\n",
       "  <tbody>\n",
       "    <tr>\n",
       "      <td rowspan=\"8\" valign=\"top\">1000</td>\n",
       "      <td>5</td>\n",
       "      <td>22.0</td>\n",
       "      <td>159.0</td>\n",
       "      <td>22.0</td>\n",
       "      <td>2256.0</td>\n",
       "    </tr>\n",
       "    <tr>\n",
       "      <td>6</td>\n",
       "      <td>43.0</td>\n",
       "      <td>172.0</td>\n",
       "      <td>60.0</td>\n",
       "      <td>23257.0</td>\n",
       "    </tr>\n",
       "    <tr>\n",
       "      <td>7</td>\n",
       "      <td>47.0</td>\n",
       "      <td>340.0</td>\n",
       "      <td>75.0</td>\n",
       "      <td>14016.0</td>\n",
       "    </tr>\n",
       "    <tr>\n",
       "      <td>8</td>\n",
       "      <td>52.0</td>\n",
       "      <td>408.0</td>\n",
       "      <td>81.0</td>\n",
       "      <td>14070.0</td>\n",
       "    </tr>\n",
       "    <tr>\n",
       "      <td>9</td>\n",
       "      <td>58.0</td>\n",
       "      <td>466.0</td>\n",
       "      <td>57.0</td>\n",
       "      <td>14581.0</td>\n",
       "    </tr>\n",
       "    <tr>\n",
       "      <td>10</td>\n",
       "      <td>57.0</td>\n",
       "      <td>350.0</td>\n",
       "      <td>73.0</td>\n",
       "      <td>14717.0</td>\n",
       "    </tr>\n",
       "    <tr>\n",
       "      <td>11</td>\n",
       "      <td>43.0</td>\n",
       "      <td>338.0</td>\n",
       "      <td>58.0</td>\n",
       "      <td>14768.0</td>\n",
       "    </tr>\n",
       "    <tr>\n",
       "      <td>12</td>\n",
       "      <td>46.0</td>\n",
       "      <td>333.0</td>\n",
       "      <td>70.0</td>\n",
       "      <td>9827.0</td>\n",
       "    </tr>\n",
       "    <tr>\n",
       "      <td rowspan=\"2\" valign=\"top\">1001</td>\n",
       "      <td>11</td>\n",
       "      <td>59.0</td>\n",
       "      <td>430.0</td>\n",
       "      <td>NaN</td>\n",
       "      <td>18452.0</td>\n",
       "    </tr>\n",
       "    <tr>\n",
       "      <td>12</td>\n",
       "      <td>63.0</td>\n",
       "      <td>414.0</td>\n",
       "      <td>NaN</td>\n",
       "      <td>14053.0</td>\n",
       "    </tr>\n",
       "    <tr>\n",
       "      <td rowspan=\"7\" valign=\"top\">1002</td>\n",
       "      <td>6</td>\n",
       "      <td>15.0</td>\n",
       "      <td>117.0</td>\n",
       "      <td>4.0</td>\n",
       "      <td>10871.0</td>\n",
       "    </tr>\n",
       "    <tr>\n",
       "      <td>7</td>\n",
       "      <td>26.0</td>\n",
       "      <td>214.0</td>\n",
       "      <td>11.0</td>\n",
       "      <td>17601.0</td>\n",
       "    </tr>\n",
       "    <tr>\n",
       "      <td>8</td>\n",
       "      <td>42.0</td>\n",
       "      <td>289.0</td>\n",
       "      <td>13.0</td>\n",
       "      <td>20347.0</td>\n",
       "    </tr>\n",
       "    <tr>\n",
       "      <td>9</td>\n",
       "      <td>36.0</td>\n",
       "      <td>206.0</td>\n",
       "      <td>4.0</td>\n",
       "      <td>16712.0</td>\n",
       "    </tr>\n",
       "    <tr>\n",
       "      <td>10</td>\n",
       "      <td>33.0</td>\n",
       "      <td>212.0</td>\n",
       "      <td>10.0</td>\n",
       "      <td>13905.0</td>\n",
       "    </tr>\n",
       "    <tr>\n",
       "      <td>11</td>\n",
       "      <td>32.0</td>\n",
       "      <td>243.0</td>\n",
       "      <td>16.0</td>\n",
       "      <td>18610.0</td>\n",
       "    </tr>\n",
       "    <tr>\n",
       "      <td>12</td>\n",
       "      <td>33.0</td>\n",
       "      <td>236.0</td>\n",
       "      <td>12.0</td>\n",
       "      <td>18137.0</td>\n",
       "    </tr>\n",
       "    <tr>\n",
       "      <td rowspan=\"3\" valign=\"top\">1003</td>\n",
       "      <td>8</td>\n",
       "      <td>55.0</td>\n",
       "      <td>380.0</td>\n",
       "      <td>37.0</td>\n",
       "      <td>8571.0</td>\n",
       "    </tr>\n",
       "    <tr>\n",
       "      <td>9</td>\n",
       "      <td>134.0</td>\n",
       "      <td>961.0</td>\n",
       "      <td>91.0</td>\n",
       "      <td>12479.0</td>\n",
       "    </tr>\n",
       "    <tr>\n",
       "      <td>10</td>\n",
       "      <td>108.0</td>\n",
       "      <td>855.0</td>\n",
       "      <td>83.0</td>\n",
       "      <td>14779.0</td>\n",
       "    </tr>\n",
       "  </tbody>\n",
       "</table>\n",
       "</div>"
      ],
      "text/plain": [
       "               calls  duration  messages  mb_used\n",
       "user_id month                                    \n",
       "1000    5       22.0     159.0      22.0   2256.0\n",
       "        6       43.0     172.0      60.0  23257.0\n",
       "        7       47.0     340.0      75.0  14016.0\n",
       "        8       52.0     408.0      81.0  14070.0\n",
       "        9       58.0     466.0      57.0  14581.0\n",
       "        10      57.0     350.0      73.0  14717.0\n",
       "        11      43.0     338.0      58.0  14768.0\n",
       "        12      46.0     333.0      70.0   9827.0\n",
       "1001    11      59.0     430.0       NaN  18452.0\n",
       "        12      63.0     414.0       NaN  14053.0\n",
       "1002    6       15.0     117.0       4.0  10871.0\n",
       "        7       26.0     214.0      11.0  17601.0\n",
       "        8       42.0     289.0      13.0  20347.0\n",
       "        9       36.0     206.0       4.0  16712.0\n",
       "        10      33.0     212.0      10.0  13905.0\n",
       "        11      32.0     243.0      16.0  18610.0\n",
       "        12      33.0     236.0      12.0  18137.0\n",
       "1003    8       55.0     380.0      37.0   8571.0\n",
       "        9      134.0     961.0      91.0  12479.0\n",
       "        10     108.0     855.0      83.0  14779.0"
      ]
     },
     "execution_count": 62,
     "metadata": {},
     "output_type": "execute_result"
    }
   ],
   "source": [
    "#Для дальнейшего удобства в анализе объединим все сводные таблицы в одну большую таблицу\n",
    "dfs = [users_calls_pivot_table, users_messages_pivot_table, users_internet_pivot_table]\n",
    "grouped_dfs = pd.concat(dfs, axis=1)\n",
    "grouped_dfs.head(20)"
   ]
  },
  {
   "cell_type": "markdown",
   "metadata": {},
   "source": [
    "### Вывод"
   ]
  },
  {
   "cell_type": "markdown",
   "metadata": {},
   "source": [
    "Были объединены полученные нами таблицы со звонками, сообщениями и интернет-трафиком для дальнейшего удобства в анализе."
   ]
  },
  {
   "cell_type": "markdown",
   "metadata": {},
   "source": [
    "### Помесячная выручка с каждого пользователя (вычтим бесплатный лимит из суммарного количества звонков, сообщений и интернет-трафика; остаток умножим на значение из тарифного плана; прибавим абонентскую плату, соответствующую тарифному плану)"
   ]
  },
  {
   "cell_type": "code",
   "execution_count": 63,
   "metadata": {},
   "outputs": [],
   "source": [
    "#Заменим все пропуски данных на 0\n",
    "grouped_dfs.loc[grouped_dfs['duration'].isna(), 'duration'] = 0\n",
    "grouped_dfs.loc[grouped_dfs['messages'].isna(), 'messages'] = 0\n",
    "grouped_dfs.loc[grouped_dfs['mb_used'].isna(), 'mb_used'] = 0"
   ]
  },
  {
   "cell_type": "code",
   "execution_count": 64,
   "metadata": {},
   "outputs": [],
   "source": [
    "#Добавим в нашу большую таблицу столбец с тарифом для каждого пользователя\n",
    "for user in grouped_dfs.index:\n",
    "    grouped_dfs.loc[user, 'tariff'] = users.loc[user[0] - 1000, 'tariff']"
   ]
  },
  {
   "cell_type": "code",
   "execution_count": 65,
   "metadata": {},
   "outputs": [
    {
     "data": {
      "text/html": [
       "<div>\n",
       "<style scoped>\n",
       "    .dataframe tbody tr th:only-of-type {\n",
       "        vertical-align: middle;\n",
       "    }\n",
       "\n",
       "    .dataframe tbody tr th {\n",
       "        vertical-align: top;\n",
       "    }\n",
       "\n",
       "    .dataframe thead th {\n",
       "        text-align: right;\n",
       "    }\n",
       "</style>\n",
       "<table border=\"1\" class=\"dataframe\">\n",
       "  <thead>\n",
       "    <tr style=\"text-align: right;\">\n",
       "      <th></th>\n",
       "      <th></th>\n",
       "      <th>calls</th>\n",
       "      <th>duration</th>\n",
       "      <th>messages</th>\n",
       "      <th>mb_used</th>\n",
       "      <th>tariff</th>\n",
       "    </tr>\n",
       "    <tr>\n",
       "      <th>user_id</th>\n",
       "      <th>month</th>\n",
       "      <th></th>\n",
       "      <th></th>\n",
       "      <th></th>\n",
       "      <th></th>\n",
       "      <th></th>\n",
       "    </tr>\n",
       "  </thead>\n",
       "  <tbody>\n",
       "    <tr>\n",
       "      <td rowspan=\"8\" valign=\"top\">1000</td>\n",
       "      <td>5</td>\n",
       "      <td>22.0</td>\n",
       "      <td>159.0</td>\n",
       "      <td>22.0</td>\n",
       "      <td>2256.0</td>\n",
       "      <td>ultra</td>\n",
       "    </tr>\n",
       "    <tr>\n",
       "      <td>6</td>\n",
       "      <td>43.0</td>\n",
       "      <td>172.0</td>\n",
       "      <td>60.0</td>\n",
       "      <td>23257.0</td>\n",
       "      <td>ultra</td>\n",
       "    </tr>\n",
       "    <tr>\n",
       "      <td>7</td>\n",
       "      <td>47.0</td>\n",
       "      <td>340.0</td>\n",
       "      <td>75.0</td>\n",
       "      <td>14016.0</td>\n",
       "      <td>ultra</td>\n",
       "    </tr>\n",
       "    <tr>\n",
       "      <td>8</td>\n",
       "      <td>52.0</td>\n",
       "      <td>408.0</td>\n",
       "      <td>81.0</td>\n",
       "      <td>14070.0</td>\n",
       "      <td>ultra</td>\n",
       "    </tr>\n",
       "    <tr>\n",
       "      <td>9</td>\n",
       "      <td>58.0</td>\n",
       "      <td>466.0</td>\n",
       "      <td>57.0</td>\n",
       "      <td>14581.0</td>\n",
       "      <td>ultra</td>\n",
       "    </tr>\n",
       "    <tr>\n",
       "      <td>10</td>\n",
       "      <td>57.0</td>\n",
       "      <td>350.0</td>\n",
       "      <td>73.0</td>\n",
       "      <td>14717.0</td>\n",
       "      <td>ultra</td>\n",
       "    </tr>\n",
       "    <tr>\n",
       "      <td>11</td>\n",
       "      <td>43.0</td>\n",
       "      <td>338.0</td>\n",
       "      <td>58.0</td>\n",
       "      <td>14768.0</td>\n",
       "      <td>ultra</td>\n",
       "    </tr>\n",
       "    <tr>\n",
       "      <td>12</td>\n",
       "      <td>46.0</td>\n",
       "      <td>333.0</td>\n",
       "      <td>70.0</td>\n",
       "      <td>9827.0</td>\n",
       "      <td>ultra</td>\n",
       "    </tr>\n",
       "    <tr>\n",
       "      <td rowspan=\"2\" valign=\"top\">1001</td>\n",
       "      <td>11</td>\n",
       "      <td>59.0</td>\n",
       "      <td>430.0</td>\n",
       "      <td>0.0</td>\n",
       "      <td>18452.0</td>\n",
       "      <td>smart</td>\n",
       "    </tr>\n",
       "    <tr>\n",
       "      <td>12</td>\n",
       "      <td>63.0</td>\n",
       "      <td>414.0</td>\n",
       "      <td>0.0</td>\n",
       "      <td>14053.0</td>\n",
       "      <td>smart</td>\n",
       "    </tr>\n",
       "  </tbody>\n",
       "</table>\n",
       "</div>"
      ],
      "text/plain": [
       "               calls  duration  messages  mb_used tariff\n",
       "user_id month                                           \n",
       "1000    5       22.0     159.0      22.0   2256.0  ultra\n",
       "        6       43.0     172.0      60.0  23257.0  ultra\n",
       "        7       47.0     340.0      75.0  14016.0  ultra\n",
       "        8       52.0     408.0      81.0  14070.0  ultra\n",
       "        9       58.0     466.0      57.0  14581.0  ultra\n",
       "        10      57.0     350.0      73.0  14717.0  ultra\n",
       "        11      43.0     338.0      58.0  14768.0  ultra\n",
       "        12      46.0     333.0      70.0   9827.0  ultra\n",
       "1001    11      59.0     430.0       0.0  18452.0  smart\n",
       "        12      63.0     414.0       0.0  14053.0  smart"
      ]
     },
     "execution_count": 65,
     "metadata": {},
     "output_type": "execute_result"
    }
   ],
   "source": [
    "#Посмотрим изменения\n",
    "grouped_dfs.head(10)"
   ]
  },
  {
   "cell_type": "code",
   "execution_count": 66,
   "metadata": {},
   "outputs": [],
   "source": [
    "#Напишем функцию, которая будет считать выручку за оба тарифа для каждого пользователя по месяцам в зависимости от того, \n",
    "#использовали ли они какие-то дополнительные услуги или пользовались только базовым набором \n",
    "def revenue(row):\n",
    "    \n",
    "    messages = row['messages']\n",
    "    mb_used = row['mb_used']\n",
    "    tariff = row['tariff']\n",
    "    duration = row['duration']\n",
    "    \n",
    "    if tariff == 'smart':\n",
    "        \n",
    "        extra_duration_smart = duration - tariffs.loc[0, 'minutes_included']\n",
    "        extra_messages_smart = messages - tariffs.loc[0, 'messages_included']\n",
    "        extra_mb_smart = mb_used - tariffs.loc[0, 'mb_per_month_included']\n",
    "        \n",
    "        if extra_duration_smart < 0: \n",
    "            \n",
    "            extra_duration_smart = 0\n",
    "        \n",
    "        if extra_messages_smart < 0: \n",
    "            \n",
    "            extra_messages_smart = 0\n",
    "        \n",
    "        if extra_mb_smart < 0: \n",
    "            \n",
    "            extra_mb_smart = 0\n",
    "        \n",
    "        return (tariffs.loc[0, 'rub_per_message'] * extra_messages_smart + \n",
    "                   (tariffs.loc[0, 'rub_per_gb'] / 1024) * extra_mb_smart + \n",
    "                   tariffs.loc[0, 'rub_per_minute'] * extra_duration_smart + \n",
    "                   tariffs.loc[0, 'rub_monthly_fee']\n",
    "               )\n",
    "    else:\n",
    "        \n",
    "        extra_duration_ultra = duration - tariffs.loc[1, 'minutes_included']\n",
    "        extra_messages_ultra = messages - tariffs.loc[1, 'messages_included']\n",
    "        extra_mb_ultra = mb_used - tariffs.loc[1, 'mb_per_month_included']\n",
    "        \n",
    "        if extra_duration_ultra < 0: \n",
    "            \n",
    "            extra_duration_ultra = 0\n",
    "        \n",
    "        if extra_messages_ultra < 0: \n",
    "            \n",
    "            extra_messages_ultra = 0\n",
    "        \n",
    "        if extra_mb_ultra < 0: \n",
    "            \n",
    "            extra_mb_ultra = 0\n",
    "        \n",
    "        return (tariffs.loc[1, 'rub_per_message'] * extra_messages_ultra + \n",
    "                   (tariffs.loc[1, 'rub_per_gb'] / 1024) * extra_mb_ultra + \n",
    "                   tariffs.loc[1, 'rub_per_minute'] * extra_duration_ultra + \n",
    "                   tariffs.loc[1, 'rub_monthly_fee']\n",
    "               )"
   ]
  },
  {
   "cell_type": "code",
   "execution_count": 67,
   "metadata": {},
   "outputs": [
    {
     "data": {
      "text/html": [
       "<div>\n",
       "<style scoped>\n",
       "    .dataframe tbody tr th:only-of-type {\n",
       "        vertical-align: middle;\n",
       "    }\n",
       "\n",
       "    .dataframe tbody tr th {\n",
       "        vertical-align: top;\n",
       "    }\n",
       "\n",
       "    .dataframe thead th {\n",
       "        text-align: right;\n",
       "    }\n",
       "</style>\n",
       "<table border=\"1\" class=\"dataframe\">\n",
       "  <thead>\n",
       "    <tr style=\"text-align: right;\">\n",
       "      <th></th>\n",
       "      <th></th>\n",
       "      <th>calls</th>\n",
       "      <th>duration</th>\n",
       "      <th>messages</th>\n",
       "      <th>mb_used</th>\n",
       "      <th>tariff</th>\n",
       "      <th>revenue</th>\n",
       "    </tr>\n",
       "    <tr>\n",
       "      <th>user_id</th>\n",
       "      <th>month</th>\n",
       "      <th></th>\n",
       "      <th></th>\n",
       "      <th></th>\n",
       "      <th></th>\n",
       "      <th></th>\n",
       "      <th></th>\n",
       "    </tr>\n",
       "  </thead>\n",
       "  <tbody>\n",
       "    <tr>\n",
       "      <td rowspan=\"8\" valign=\"top\">1000</td>\n",
       "      <td>5</td>\n",
       "      <td>22.0</td>\n",
       "      <td>159.0</td>\n",
       "      <td>22.0</td>\n",
       "      <td>2256.0</td>\n",
       "      <td>ultra</td>\n",
       "      <td>1950.00000</td>\n",
       "    </tr>\n",
       "    <tr>\n",
       "      <td>6</td>\n",
       "      <td>43.0</td>\n",
       "      <td>172.0</td>\n",
       "      <td>60.0</td>\n",
       "      <td>23257.0</td>\n",
       "      <td>ultra</td>\n",
       "      <td>1950.00000</td>\n",
       "    </tr>\n",
       "    <tr>\n",
       "      <td>7</td>\n",
       "      <td>47.0</td>\n",
       "      <td>340.0</td>\n",
       "      <td>75.0</td>\n",
       "      <td>14016.0</td>\n",
       "      <td>ultra</td>\n",
       "      <td>1950.00000</td>\n",
       "    </tr>\n",
       "    <tr>\n",
       "      <td>8</td>\n",
       "      <td>52.0</td>\n",
       "      <td>408.0</td>\n",
       "      <td>81.0</td>\n",
       "      <td>14070.0</td>\n",
       "      <td>ultra</td>\n",
       "      <td>1950.00000</td>\n",
       "    </tr>\n",
       "    <tr>\n",
       "      <td>9</td>\n",
       "      <td>58.0</td>\n",
       "      <td>466.0</td>\n",
       "      <td>57.0</td>\n",
       "      <td>14581.0</td>\n",
       "      <td>ultra</td>\n",
       "      <td>1950.00000</td>\n",
       "    </tr>\n",
       "    <tr>\n",
       "      <td>10</td>\n",
       "      <td>57.0</td>\n",
       "      <td>350.0</td>\n",
       "      <td>73.0</td>\n",
       "      <td>14717.0</td>\n",
       "      <td>ultra</td>\n",
       "      <td>1950.00000</td>\n",
       "    </tr>\n",
       "    <tr>\n",
       "      <td>11</td>\n",
       "      <td>43.0</td>\n",
       "      <td>338.0</td>\n",
       "      <td>58.0</td>\n",
       "      <td>14768.0</td>\n",
       "      <td>ultra</td>\n",
       "      <td>1950.00000</td>\n",
       "    </tr>\n",
       "    <tr>\n",
       "      <td>12</td>\n",
       "      <td>46.0</td>\n",
       "      <td>333.0</td>\n",
       "      <td>70.0</td>\n",
       "      <td>9827.0</td>\n",
       "      <td>ultra</td>\n",
       "      <td>1950.00000</td>\n",
       "    </tr>\n",
       "    <tr>\n",
       "      <td rowspan=\"2\" valign=\"top\">1001</td>\n",
       "      <td>11</td>\n",
       "      <td>59.0</td>\n",
       "      <td>430.0</td>\n",
       "      <td>0.0</td>\n",
       "      <td>18452.0</td>\n",
       "      <td>smart</td>\n",
       "      <td>1153.90625</td>\n",
       "    </tr>\n",
       "    <tr>\n",
       "      <td>12</td>\n",
       "      <td>63.0</td>\n",
       "      <td>414.0</td>\n",
       "      <td>0.0</td>\n",
       "      <td>14053.0</td>\n",
       "      <td>smart</td>\n",
       "      <td>550.00000</td>\n",
       "    </tr>\n",
       "  </tbody>\n",
       "</table>\n",
       "</div>"
      ],
      "text/plain": [
       "               calls  duration  messages  mb_used tariff     revenue\n",
       "user_id month                                                       \n",
       "1000    5       22.0     159.0      22.0   2256.0  ultra  1950.00000\n",
       "        6       43.0     172.0      60.0  23257.0  ultra  1950.00000\n",
       "        7       47.0     340.0      75.0  14016.0  ultra  1950.00000\n",
       "        8       52.0     408.0      81.0  14070.0  ultra  1950.00000\n",
       "        9       58.0     466.0      57.0  14581.0  ultra  1950.00000\n",
       "        10      57.0     350.0      73.0  14717.0  ultra  1950.00000\n",
       "        11      43.0     338.0      58.0  14768.0  ultra  1950.00000\n",
       "        12      46.0     333.0      70.0   9827.0  ultra  1950.00000\n",
       "1001    11      59.0     430.0       0.0  18452.0  smart  1153.90625\n",
       "        12      63.0     414.0       0.0  14053.0  smart   550.00000"
      ]
     },
     "execution_count": 67,
     "metadata": {},
     "output_type": "execute_result"
    }
   ],
   "source": [
    "#Создадим новый столбец с выручкой и применим к нему нашу функцию\n",
    "grouped_dfs['revenue'] = grouped_dfs.apply(revenue, axis=1)\n",
    "grouped_dfs.head(10)"
   ]
  },
  {
   "cell_type": "markdown",
   "metadata": {},
   "source": [
    "### Вывод"
   ]
  },
  {
   "cell_type": "markdown",
   "metadata": {},
   "source": [
    "Были посчитаны выручки и тарифы для каждого пользователя в зависимости от месяца. Как можно заметить, в первых 10 значениях есть пользователь, который заплатил за 11 месяц примерно в 2 раза больше, чем за базовый набор услуг тарифа \"Смарт\", это говорит о том, что пользователям не хватает базового пакета и они доплачивают за что-то другое (например, интернет-трафик). Изучим это поподробнее."
   ]
  },
  {
   "cell_type": "markdown",
   "metadata": {},
   "source": [
    "## Проанализируем данные"
   ]
  },
  {
   "cell_type": "markdown",
   "metadata": {},
   "source": [
    "###  Сколько минут разговора, сколько сообщений и какой объём интернет-трафика требуется пользователям каждого тарифа в месяц в среднем? "
   ]
  },
  {
   "cell_type": "code",
   "execution_count": 68,
   "metadata": {},
   "outputs": [
    {
     "data": {
      "text/html": [
       "<div>\n",
       "<style scoped>\n",
       "    .dataframe tbody tr th:only-of-type {\n",
       "        vertical-align: middle;\n",
       "    }\n",
       "\n",
       "    .dataframe tbody tr th {\n",
       "        vertical-align: top;\n",
       "    }\n",
       "\n",
       "    .dataframe thead th {\n",
       "        text-align: right;\n",
       "    }\n",
       "</style>\n",
       "<table border=\"1\" class=\"dataframe\">\n",
       "  <thead>\n",
       "    <tr style=\"text-align: right;\">\n",
       "      <th></th>\n",
       "      <th>duration</th>\n",
       "      <th>mb_used</th>\n",
       "      <th>messages</th>\n",
       "      <th>revenue</th>\n",
       "      <th>tariff</th>\n",
       "    </tr>\n",
       "    <tr>\n",
       "      <th>user_id</th>\n",
       "      <th></th>\n",
       "      <th></th>\n",
       "      <th></th>\n",
       "      <th></th>\n",
       "      <th></th>\n",
       "    </tr>\n",
       "  </thead>\n",
       "  <tbody>\n",
       "    <tr>\n",
       "      <td>1000</td>\n",
       "      <td>339.0</td>\n",
       "      <td>14325.5</td>\n",
       "      <td>65.0</td>\n",
       "      <td>1950.000000</td>\n",
       "      <td>ultra</td>\n",
       "    </tr>\n",
       "    <tr>\n",
       "      <td>1001</td>\n",
       "      <td>422.0</td>\n",
       "      <td>16252.5</td>\n",
       "      <td>0.0</td>\n",
       "      <td>851.953125</td>\n",
       "      <td>smart</td>\n",
       "    </tr>\n",
       "    <tr>\n",
       "      <td>1002</td>\n",
       "      <td>214.0</td>\n",
       "      <td>17601.0</td>\n",
       "      <td>11.0</td>\n",
       "      <td>987.695312</td>\n",
       "      <td>smart</td>\n",
       "    </tr>\n",
       "    <tr>\n",
       "      <td>1003</td>\n",
       "      <td>824.0</td>\n",
       "      <td>11368.0</td>\n",
       "      <td>83.0</td>\n",
       "      <td>1950.000000</td>\n",
       "      <td>ultra</td>\n",
       "    </tr>\n",
       "    <tr>\n",
       "      <td>1004</td>\n",
       "      <td>132.5</td>\n",
       "      <td>17828.5</td>\n",
       "      <td>154.5</td>\n",
       "      <td>1950.000000</td>\n",
       "      <td>ultra</td>\n",
       "    </tr>\n",
       "    <tr>\n",
       "      <td>1005</td>\n",
       "      <td>593.5</td>\n",
       "      <td>7843.0</td>\n",
       "      <td>49.0</td>\n",
       "      <td>836.500000</td>\n",
       "      <td>smart</td>\n",
       "    </tr>\n",
       "    <tr>\n",
       "      <td>1006</td>\n",
       "      <td>356.0</td>\n",
       "      <td>15543.0</td>\n",
       "      <td>0.0</td>\n",
       "      <td>585.742188</td>\n",
       "      <td>smart</td>\n",
       "    </tr>\n",
       "    <tr>\n",
       "      <td>1007</td>\n",
       "      <td>480.0</td>\n",
       "      <td>14444.0</td>\n",
       "      <td>26.0</td>\n",
       "      <td>843.500000</td>\n",
       "      <td>smart</td>\n",
       "    </tr>\n",
       "    <tr>\n",
       "      <td>1008</td>\n",
       "      <td>339.0</td>\n",
       "      <td>13236.0</td>\n",
       "      <td>56.0</td>\n",
       "      <td>568.000000</td>\n",
       "      <td>smart</td>\n",
       "    </tr>\n",
       "    <tr>\n",
       "      <td>1009</td>\n",
       "      <td>221.0</td>\n",
       "      <td>17754.5</td>\n",
       "      <td>12.0</td>\n",
       "      <td>1017.675781</td>\n",
       "      <td>smart</td>\n",
       "    </tr>\n",
       "    <tr>\n",
       "      <td>1010</td>\n",
       "      <td>245.0</td>\n",
       "      <td>16173.0</td>\n",
       "      <td>0.0</td>\n",
       "      <td>708.789062</td>\n",
       "      <td>smart</td>\n",
       "    </tr>\n",
       "    <tr>\n",
       "      <td>1011</td>\n",
       "      <td>454.5</td>\n",
       "      <td>18570.0</td>\n",
       "      <td>12.5</td>\n",
       "      <td>1363.625000</td>\n",
       "      <td>smart</td>\n",
       "    </tr>\n",
       "    <tr>\n",
       "      <td>1012</td>\n",
       "      <td>226.5</td>\n",
       "      <td>22212.0</td>\n",
       "      <td>14.5</td>\n",
       "      <td>1888.281250</td>\n",
       "      <td>smart</td>\n",
       "    </tr>\n",
       "    <tr>\n",
       "      <td>1013</td>\n",
       "      <td>468.0</td>\n",
       "      <td>15272.5</td>\n",
       "      <td>21.0</td>\n",
       "      <td>1950.000000</td>\n",
       "      <td>ultra</td>\n",
       "    </tr>\n",
       "    <tr>\n",
       "      <td>1014</td>\n",
       "      <td>239.0</td>\n",
       "      <td>25299.5</td>\n",
       "      <td>45.5</td>\n",
       "      <td>2495.808594</td>\n",
       "      <td>smart</td>\n",
       "    </tr>\n",
       "    <tr>\n",
       "      <td>1015</td>\n",
       "      <td>454.0</td>\n",
       "      <td>19653.0</td>\n",
       "      <td>68.0</td>\n",
       "      <td>1460.476562</td>\n",
       "      <td>smart</td>\n",
       "    </tr>\n",
       "    <tr>\n",
       "      <td>1016</td>\n",
       "      <td>61.0</td>\n",
       "      <td>13417.0</td>\n",
       "      <td>71.0</td>\n",
       "      <td>1950.000000</td>\n",
       "      <td>ultra</td>\n",
       "    </tr>\n",
       "    <tr>\n",
       "      <td>1017</td>\n",
       "      <td>377.5</td>\n",
       "      <td>17770.5</td>\n",
       "      <td>0.0</td>\n",
       "      <td>1020.800781</td>\n",
       "      <td>smart</td>\n",
       "    </tr>\n",
       "    <tr>\n",
       "      <td>1018</td>\n",
       "      <td>679.0</td>\n",
       "      <td>6341.0</td>\n",
       "      <td>25.0</td>\n",
       "      <td>1950.000000</td>\n",
       "      <td>ultra</td>\n",
       "    </tr>\n",
       "    <tr>\n",
       "      <td>1019</td>\n",
       "      <td>373.0</td>\n",
       "      <td>17212.5</td>\n",
       "      <td>20.0</td>\n",
       "      <td>1950.000000</td>\n",
       "      <td>ultra</td>\n",
       "    </tr>\n",
       "  </tbody>\n",
       "</table>\n",
       "</div>"
      ],
      "text/plain": [
       "         duration  mb_used  messages      revenue tariff\n",
       "user_id                                                 \n",
       "1000        339.0  14325.5      65.0  1950.000000  ultra\n",
       "1001        422.0  16252.5       0.0   851.953125  smart\n",
       "1002        214.0  17601.0      11.0   987.695312  smart\n",
       "1003        824.0  11368.0      83.0  1950.000000  ultra\n",
       "1004        132.5  17828.5     154.5  1950.000000  ultra\n",
       "1005        593.5   7843.0      49.0   836.500000  smart\n",
       "1006        356.0  15543.0       0.0   585.742188  smart\n",
       "1007        480.0  14444.0      26.0   843.500000  smart\n",
       "1008        339.0  13236.0      56.0   568.000000  smart\n",
       "1009        221.0  17754.5      12.0  1017.675781  smart\n",
       "1010        245.0  16173.0       0.0   708.789062  smart\n",
       "1011        454.5  18570.0      12.5  1363.625000  smart\n",
       "1012        226.5  22212.0      14.5  1888.281250  smart\n",
       "1013        468.0  15272.5      21.0  1950.000000  ultra\n",
       "1014        239.0  25299.5      45.5  2495.808594  smart\n",
       "1015        454.0  19653.0      68.0  1460.476562  smart\n",
       "1016         61.0  13417.0      71.0  1950.000000  ultra\n",
       "1017        377.5  17770.5       0.0  1020.800781  smart\n",
       "1018        679.0   6341.0      25.0  1950.000000  ultra\n",
       "1019        373.0  17212.5      20.0  1950.000000  ultra"
      ]
     },
     "execution_count": 68,
     "metadata": {},
     "output_type": "execute_result"
    }
   ],
   "source": [
    "#Создадим сводную таблицу и посчитаем в ней средние значения минут разговора, количества сообщений и интернет-трафика для \n",
    "#каждого пользователя в месяц в среднем\n",
    "grouped_dfs_median_pivot_table = grouped_dfs.pivot_table(index='user_id', \n",
    "                                                         values=['duration', 'messages', 'mb_used', 'revenue'], \n",
    "                                                         aggfunc='median')\n",
    "\n",
    "for user_id in users['user_id']:\n",
    "    grouped_dfs_median_pivot_table.loc[user_id, 'tariff'] = users.loc[user_id - 1000, 'tariff']\n",
    "\n",
    "grouped_dfs_median_pivot_table.head(20)"
   ]
  },
  {
   "cell_type": "code",
   "execution_count": 69,
   "metadata": {},
   "outputs": [
    {
     "data": {
      "text/html": [
       "<div>\n",
       "<style scoped>\n",
       "    .dataframe tbody tr th:only-of-type {\n",
       "        vertical-align: middle;\n",
       "    }\n",
       "\n",
       "    .dataframe tbody tr th {\n",
       "        vertical-align: top;\n",
       "    }\n",
       "\n",
       "    .dataframe thead tr th {\n",
       "        text-align: left;\n",
       "    }\n",
       "\n",
       "    .dataframe thead tr:last-of-type th {\n",
       "        text-align: right;\n",
       "    }\n",
       "</style>\n",
       "<table border=\"1\" class=\"dataframe\">\n",
       "  <thead>\n",
       "    <tr>\n",
       "      <th></th>\n",
       "      <th colspan=\"3\" halign=\"left\">duration</th>\n",
       "      <th colspan=\"3\" halign=\"left\">mb_used</th>\n",
       "      <th colspan=\"3\" halign=\"left\">messages</th>\n",
       "    </tr>\n",
       "    <tr>\n",
       "      <th></th>\n",
       "      <th>median</th>\n",
       "      <th>std</th>\n",
       "      <th>var</th>\n",
       "      <th>median</th>\n",
       "      <th>std</th>\n",
       "      <th>var</th>\n",
       "      <th>median</th>\n",
       "      <th>std</th>\n",
       "      <th>var</th>\n",
       "    </tr>\n",
       "    <tr>\n",
       "      <th>tariff</th>\n",
       "      <th></th>\n",
       "      <th></th>\n",
       "      <th></th>\n",
       "      <th></th>\n",
       "      <th></th>\n",
       "      <th></th>\n",
       "      <th></th>\n",
       "      <th></th>\n",
       "      <th></th>\n",
       "    </tr>\n",
       "  </thead>\n",
       "  <tbody>\n",
       "    <tr>\n",
       "      <td>smart</td>\n",
       "      <td>439.75</td>\n",
       "      <td>160.266622</td>\n",
       "      <td>25685.390127</td>\n",
       "      <td>16948.0</td>\n",
       "      <td>4179.542704</td>\n",
       "      <td>1.746858e+07</td>\n",
       "      <td>28.5</td>\n",
       "      <td>28.010653</td>\n",
       "      <td>784.596662</td>\n",
       "    </tr>\n",
       "    <tr>\n",
       "      <td>ultra</td>\n",
       "      <td>535.25</td>\n",
       "      <td>303.793641</td>\n",
       "      <td>92290.576519</td>\n",
       "      <td>19750.5</td>\n",
       "      <td>8901.168701</td>\n",
       "      <td>7.923080e+07</td>\n",
       "      <td>47.5</td>\n",
       "      <td>49.236809</td>\n",
       "      <td>2424.263318</td>\n",
       "    </tr>\n",
       "  </tbody>\n",
       "</table>\n",
       "</div>"
      ],
      "text/plain": [
       "       duration                            mb_used                             \\\n",
       "         median         std           var   median          std           var   \n",
       "tariff                                                                          \n",
       "smart    439.75  160.266622  25685.390127  16948.0  4179.542704  1.746858e+07   \n",
       "ultra    535.25  303.793641  92290.576519  19750.5  8901.168701  7.923080e+07   \n",
       "\n",
       "       messages                          \n",
       "         median        std          var  \n",
       "tariff                                   \n",
       "smart      28.5  28.010653   784.596662  \n",
       "ultra      47.5  49.236809  2424.263318  "
      ]
     },
     "execution_count": 69,
     "metadata": {},
     "output_type": "execute_result"
    }
   ],
   "source": [
    "#Посчитаем среднее количество, дисперсию и стандартное отклонение продолжительности звонков, объёма использованного \n",
    "#интернет-трафика и количества отправленных сообщений в зависимости от тарифа\n",
    "grouped_dfs_median_stat_pivot_table = grouped_dfs_median_pivot_table.pivot_table(\n",
    "    index=['tariff'], \n",
    "    values=['duration', 'messages', 'mb_used'], \n",
    "    aggfunc={'duration': [np.median, np.var, np.std], \n",
    "             'messages': [np.median, np.var, np.std], \n",
    "             'mb_used': [np.median, np.var, np.std]})\n",
    "\n",
    "grouped_dfs_median_stat_pivot_table"
   ]
  },
  {
   "cell_type": "code",
   "execution_count": 70,
   "metadata": {},
   "outputs": [
    {
     "data": {
      "text/plain": [
       "<matplotlib.legend.Legend at 0x7f86bd584650>"
      ]
     },
     "execution_count": 70,
     "metadata": {},
     "output_type": "execute_result"
    },
    {
     "data": {
      "image/png": "[encoded data removed]",
      "text/plain": [
       "<Figure size 432x288 with 1 Axes>"
      ]
     },
     "metadata": {
      "needs_background": "light"
     },
     "output_type": "display_data"
    }
   ],
   "source": [
    "#Построим гистограммы для продолжительности звонков для обоих тарифов\n",
    "for tariff in ['smart', 'ultra']:\n",
    "    grouped_dfs_median_pivot_table.query('tariff == @tariff')['duration'].hist(bins=10, alpha=0.5)\n",
    "\n",
    "plt.title('Продолжительность звонков')\n",
    "plt.xlabel('Длительность звонков в минутах')\n",
    "plt.ylabel('Число пользователей') \n",
    "plt.legend(['smart', 'ultra'])"
   ]
  },
  {
   "cell_type": "code",
   "execution_count": 71,
   "metadata": {},
   "outputs": [
    {
     "data": {
      "text/plain": [
       "<matplotlib.legend.Legend at 0x7f86bce32550>"
      ]
     },
     "execution_count": 71,
     "metadata": {},
     "output_type": "execute_result"
    },
    {
     "data": {
      "image/png": "[encoded data removed]",
      "text/plain": [
       "<Figure size 432x288 with 1 Axes>"
      ]
     },
     "metadata": {
      "needs_background": "light"
     },
     "output_type": "display_data"
    }
   ],
   "source": [
    "#Построим гистограммы для объёма использованного интернет-трафика для обоих тарифов\n",
    "for tariff in ['smart', 'ultra']:\n",
    "    grouped_dfs_median_pivot_table.query('tariff == @tariff')['mb_used'].hist(bins=10, alpha=0.5)\n",
    "\n",
    "plt.title('Интернет-трафик')\n",
    "plt.xlabel('Количество использованного интернет-трафика в мегабайтах')\n",
    "plt.ylabel('Число пользователей') \n",
    "plt.legend(['smart', 'ultra'])"
   ]
  },
  {
   "cell_type": "code",
   "execution_count": 72,
   "metadata": {},
   "outputs": [
    {
     "data": {
      "text/plain": [
       "<matplotlib.legend.Legend at 0x7f86bc8cb190>"
      ]
     },
     "execution_count": 72,
     "metadata": {},
     "output_type": "execute_result"
    },
    {
     "data": {
      "image/png": "[encoded data removed]",
      "text/plain": [
       "<Figure size 432x288 with 1 Axes>"
      ]
     },
     "metadata": {
      "needs_background": "light"
     },
     "output_type": "display_data"
    }
   ],
   "source": [
    "#Построим гистограммы для количества отправленных сообщений для обоих тарифов\n",
    "for tariff in ['smart', 'ultra']:\n",
    "    grouped_dfs_median_pivot_table.query('tariff == @tariff')['messages'].hist(bins=10, alpha=0.5)\n",
    "\n",
    "plt.title('Сообщения')\n",
    "plt.xlabel('Количество отправленных сообщений')\n",
    "plt.ylabel('Число пользователей') \n",
    "plt.legend(['smart', 'ultra'])"
   ]
  },
  {
   "cell_type": "markdown",
   "metadata": {},
   "source": [
    "### Вывод"
   ]
  },
  {
   "cell_type": "markdown",
   "metadata": {},
   "source": [
    "Судя по полученным данным, дисперсия, стандартное отклонение и среднее количество гораздо больше у пользователей с тарифом \"Ультра\", чем у пользователей с тарифом \"Смарт\". Также поведения пользователей тарифа \"Ультра\" более разнообразно в сравнении с пользователями других тарифов, их хоть и меньше, поскольку они гораздо больше пользуются услугами, включёнными в их базовый набор (скорее всего это связано с тем, что им предоставляется больше свободных минут для разговора, больше количество отправленных сообщений и больший объём интернет-трафика, а пользователям тарифа \"Смарт\" приходится доплачивать дополнительные деньги за лишние минуты звонков, количество сообщений и интернет-трафик).\n",
    "\n",
    "Сами гистограммы похожи на нормальное распределение (продолжительность звонков и объём интернет-трафика) и распределение Пуассона (количество отправленных сообщений)."
   ]
  },
  {
   "cell_type": "markdown",
   "metadata": {},
   "source": [
    "## Проверка гипотез"
   ]
  },
  {
   "cell_type": "markdown",
   "metadata": {},
   "source": [
    "### Гипотеза: Средняя выручка пользователей тарифов «Ультра» и «Смарт» различаются"
   ]
  },
  {
   "cell_type": "markdown",
   "metadata": {},
   "source": [
    "Для начала сформулируем 2 наши гипотезы:\n",
    "- Нулевая гипотеза - средние выручки пользователей тарифов \"Ультра\" и \"Смарт\" равны;\n",
    "- Альтернативная гипотеза - средняя выручки пользователей тарифов \"Ультра\" и \"Смарт\" различаются;"
   ]
  },
  {
   "cell_type": "code",
   "execution_count": 73,
   "metadata": {},
   "outputs": [],
   "source": [
    "#Для начала сделаем выборку для каждого тарифа\n",
    "\n",
    "tariff_smart = grouped_dfs.query('tariff == \"smart\"')['revenue']\n",
    "tariff_ultra = grouped_dfs.query('tariff == \"ultra\"')['revenue']\n"
   ]
  },
  {
   "cell_type": "code",
   "execution_count": 74,
   "metadata": {},
   "outputs": [],
   "source": [
    "#Возьмём уровень статистической значимости = 0.05\n",
    "alpha = .05"
   ]
  },
  {
   "cell_type": "code",
   "execution_count": 75,
   "metadata": {},
   "outputs": [],
   "source": [
    "#Проверим гипотезу о равенстве среднего 2 генеральных совокупностей с помощью t-теста\n",
    "results = st.ttest_ind(\n",
    "    tariff_smart, \n",
    "    tariff_ultra, \n",
    "    equal_var=False) #в данном случае непонятно, являются ли равными дисперсии выборок, скорее всего нет, поэтому возьмём \n",
    "                     #значение equal_var=False"
   ]
  },
  {
   "cell_type": "code",
   "execution_count": 76,
   "metadata": {},
   "outputs": [
    {
     "name": "stdout",
     "output_type": "stream",
     "text": [
      "p-значение: 8.931402711366754e-296\n",
      "Отвергаем нулевую гипотезу\n"
     ]
    }
   ],
   "source": [
    "#Проверим получившееся p-значение (вероятность получить наблюдаемый или еще более далекий от предполагаемого результат при \n",
    "#условии, что нулевая гипотеза верна) и проверим, верна ли наша нулевая гипотеза\n",
    "\n",
    "print('p-значение:', results.pvalue)\n",
    "if (results.pvalue < alpha):\n",
    "    print(\"Отвергаем нулевую гипотезу\")\n",
    "else:\n",
    "    print(\"Не получилось отвергнуть нулевую гипотезу\")"
   ]
  },
  {
   "cell_type": "code",
   "execution_count": 77,
   "metadata": {},
   "outputs": [
    {
     "data": {
      "text/html": [
       "<div>\n",
       "<style scoped>\n",
       "    .dataframe tbody tr th:only-of-type {\n",
       "        vertical-align: middle;\n",
       "    }\n",
       "\n",
       "    .dataframe tbody tr th {\n",
       "        vertical-align: top;\n",
       "    }\n",
       "\n",
       "    .dataframe thead th {\n",
       "        text-align: right;\n",
       "    }\n",
       "</style>\n",
       "<table border=\"1\" class=\"dataframe\">\n",
       "  <thead>\n",
       "    <tr style=\"text-align: right;\">\n",
       "      <th></th>\n",
       "      <th>revenue</th>\n",
       "    </tr>\n",
       "    <tr>\n",
       "      <th>tariff</th>\n",
       "      <th></th>\n",
       "    </tr>\n",
       "  </thead>\n",
       "  <tbody>\n",
       "    <tr>\n",
       "      <td>smart</td>\n",
       "      <td>959.898438</td>\n",
       "    </tr>\n",
       "    <tr>\n",
       "      <td>ultra</td>\n",
       "      <td>1950.000000</td>\n",
       "    </tr>\n",
       "  </tbody>\n",
       "</table>\n",
       "</div>"
      ],
      "text/plain": [
       "            revenue\n",
       "tariff             \n",
       "smart    959.898438\n",
       "ultra   1950.000000"
      ]
     },
     "execution_count": 77,
     "metadata": {},
     "output_type": "execute_result"
    }
   ],
   "source": [
    "#Посмотрим теперь средние значения выручек с каждого тарифа в среднем\n",
    "\n",
    "grouped_dfs.pivot_table(index='tariff', values='revenue', aggfunc='median')"
   ]
  },
  {
   "cell_type": "code",
   "execution_count": 78,
   "metadata": {},
   "outputs": [
    {
     "data": {
      "text/plain": [
       "smart    351\n",
       "ultra    149\n",
       "Name: tariff, dtype: int64"
      ]
     },
     "execution_count": 78,
     "metadata": {},
     "output_type": "execute_result"
    }
   ],
   "source": [
    "#Ещё раз посмотрим количество пользователей тарифом \"Смарт\" и \"Ультра\"\n",
    "users['tariff'].value_counts()"
   ]
  },
  {
   "cell_type": "code",
   "execution_count": 79,
   "metadata": {},
   "outputs": [
    {
     "name": "stdout",
     "output_type": "stream",
     "text": [
      "Выручка с пользователей тарифа \"Смарт\" в месяц: 346437\n",
      "Выручка с пользователей тарифа \"Ультра\" в месяц: 290550\n"
     ]
    }
   ],
   "source": [
    "print('Выручка с пользователей тарифа \"Смарт\" в месяц:', 987 * 351)\n",
    "print('Выручка с пользователей тарифа \"Ультра\" в месяц:', 1950 * 149)"
   ]
  },
  {
   "cell_type": "markdown",
   "metadata": {},
   "source": [
    "### Вывод"
   ]
  },
  {
   "cell_type": "markdown",
   "metadata": {},
   "source": [
    "Нулевая гипотеза была отвергнута, значит, доход от каждого тарифа различается. И ведь действительно, средние выручки между 2 тарифами различаются почти в 2 раза. Если посчитать, сколько в среднем переплачивают люди за тариф \"Смарт\", то получим: 987 - 550 = 437 рублей, а цена тарифа \"Ультра\" и так равна 1950 рублям. Значит, пользователям тарифа \"Смарт\" в большинстве случаем не хватает стандартного пакета, который включён в тариф, и они часто платят за дополнительные услуги (интернет, звонки, сообщения).\n",
    "\n",
    "В среднем, выручка с пользователей тарифа \"Смарт\" больше, чем с пользователей тарифа \"Ультра\" в месяц (346437 и 290550). Связано это с большим числов клиентов первого тарифа."
   ]
  },
  {
   "cell_type": "markdown",
   "metadata": {},
   "source": [
    "### Гипотеза: Средняя выручка пользователей из Москвы отличается от выручки пользователей из других регионов"
   ]
  },
  {
   "cell_type": "markdown",
   "metadata": {},
   "source": [
    "Для начала сформулируем 2 наши гипотезы:\n",
    "\n",
    "- Нулевая гипотеза - средние выручки пользователей из Москвы и из других регионов равны;\n",
    "- Альтернативная гипотеза - средние выручки пользователей из Москвы и из других регионов различаются;"
   ]
  },
  {
   "cell_type": "code",
   "execution_count": 80,
   "metadata": {},
   "outputs": [],
   "source": [
    "#Добавим в нашу таблицу столбец с городами\n",
    "for user in grouped_dfs.index:\n",
    "    grouped_dfs.loc[user, 'city'] = users.loc[user[0] - 1000, 'city']"
   ]
  },
  {
   "cell_type": "code",
   "execution_count": 81,
   "metadata": {},
   "outputs": [],
   "source": [
    "#Сделаем выборку для Москвы и остальных городов\n",
    "moscow_city = grouped_dfs.query('city == \"Москва\"')['revenue']\n",
    "other_regions = grouped_dfs.query('city != \"Москва\"')['revenue']"
   ]
  },
  {
   "cell_type": "code",
   "execution_count": 82,
   "metadata": {},
   "outputs": [],
   "source": [
    "#Возьмём уровень статистической значимости = 0.05\n",
    "alpha = .05"
   ]
  },
  {
   "cell_type": "code",
   "execution_count": 83,
   "metadata": {},
   "outputs": [],
   "source": [
    "#Проверим гипотезу о равенстве среднего 2 генеральных совокупностей с помощью t-теста\n",
    "results = st.ttest_ind(\n",
    "    moscow_city, \n",
    "    other_regions, \n",
    "    equal_var=False) #в данном случае непонятно, являются ли равными дисперсии выборок, скорее всего нет, поэтому возьмём \n",
    "                     #значение equal_var=False"
   ]
  },
  {
   "cell_type": "code",
   "execution_count": 84,
   "metadata": {},
   "outputs": [
    {
     "name": "stdout",
     "output_type": "stream",
     "text": [
      "p-значение: 0.4549775646471024\n",
      "Не получилось отвергнуть нулевую гипотезу\n"
     ]
    }
   ],
   "source": [
    "#Проверим получившееся p-значение (вероятность получить наблюдаемый или еще более далекий от предполагаемого результат при \n",
    "#условии, что нулевая гипотеза верна) и проверим, верна ли наша нулевая гипотеза\n",
    "\n",
    "print('p-значение:', results.pvalue)\n",
    "if (results.pvalue < alpha):\n",
    "    print(\"Отвергаем нулевую гипотезу\")\n",
    "else:\n",
    "    print(\"Не получилось отвергнуть нулевую гипотезу\")"
   ]
  },
  {
   "cell_type": "code",
   "execution_count": 85,
   "metadata": {},
   "outputs": [],
   "source": [
    "#Напишем функцию, которая выделит отдельно Москву и остальные регионы\n",
    "def region(city):\n",
    "    if city == 'Москва':\n",
    "        return 'Москва'\n",
    "    else:\n",
    "        return 'Другой регион'"
   ]
  },
  {
   "cell_type": "code",
   "execution_count": 86,
   "metadata": {},
   "outputs": [],
   "source": [
    "#Применим функцию\n",
    "grouped_dfs['region'] = grouped_dfs['city'].apply(region)"
   ]
  },
  {
   "cell_type": "code",
   "execution_count": 87,
   "metadata": {},
   "outputs": [
    {
     "data": {
      "text/html": [
       "<div>\n",
       "<style scoped>\n",
       "    .dataframe tbody tr th:only-of-type {\n",
       "        vertical-align: middle;\n",
       "    }\n",
       "\n",
       "    .dataframe tbody tr th {\n",
       "        vertical-align: top;\n",
       "    }\n",
       "\n",
       "    .dataframe thead th {\n",
       "        text-align: right;\n",
       "    }\n",
       "</style>\n",
       "<table border=\"1\" class=\"dataframe\">\n",
       "  <thead>\n",
       "    <tr style=\"text-align: right;\">\n",
       "      <th></th>\n",
       "      <th>revenue</th>\n",
       "    </tr>\n",
       "    <tr>\n",
       "      <th>region</th>\n",
       "      <th></th>\n",
       "    </tr>\n",
       "  </thead>\n",
       "  <tbody>\n",
       "    <tr>\n",
       "      <td>Другой регион</td>\n",
       "      <td>1518.078125</td>\n",
       "    </tr>\n",
       "    <tr>\n",
       "      <td>Москва</td>\n",
       "      <td>1704.632812</td>\n",
       "    </tr>\n",
       "  </tbody>\n",
       "</table>\n",
       "</div>"
      ],
      "text/plain": [
       "                   revenue\n",
       "region                    \n",
       "Другой регион  1518.078125\n",
       "Москва         1704.632812"
      ]
     },
     "execution_count": 87,
     "metadata": {},
     "output_type": "execute_result"
    }
   ],
   "source": [
    "#Посмотрим теперь средние выручки с Москвы и других регионов\n",
    "grouped_dfs.pivot_table(index='region', values='revenue', aggfunc='median')"
   ]
  },
  {
   "cell_type": "markdown",
   "metadata": {},
   "source": [
    "### Вывод"
   ]
  },
  {
   "cell_type": "markdown",
   "metadata": {},
   "source": [
    "Нулевая гипотеза не была отвергнута (значит, средние выручки пользователей из Москвы и из других регионов равны). Действительно, средние выручки в Москве и других регионах не сильно отличаются друг от друга (примерно в 188 рублей). Если мы отклоняем гипотезу и принимаем, что средние выручки пользователей из Москвы и из других регионов различаются, то мы бы ошиблись с вероятностью 50.3%."
   ]
  },
  {
   "cell_type": "markdown",
   "metadata": {},
   "source": [
    "## Общий вывод"
   ]
  },
  {
   "cell_type": "markdown",
   "metadata": {},
   "source": [
    "Был проведён анализ пользователей 2 тарифов. Выручка с пользователей тарифа \"Смарт\" больше, чем с пользователей тарифа \"Ультра\" в месяц (связано с большим числом клиентов первого тарифа). Были рассмотрены 2 гипотезы: средняя выручка пользователей тарифов «Ультра» и «Смарт» совпадают (не подтвердилась), средняя выручка пользователей из Москвы совпадает с выручкой пользователей из других регионов (подтвердилась). По большей части с данными уже было всё в порядке (исключения - тип данных в датах и пропуски в файле \"users\" в столбце \"churn_date\"), дубликатов не было. Дисперсия, стандартное отклонение и среднее количество гораздо больше у пользователей с тарифом \"Ультра\", чем у пользователей с тарифом \"Смарт\". Гистограммы похожи на нормальное распределение (продолжительность звонков и объём интернет-трафика) и распределение Пуассона (количество отправленных сообщений). Для более подробных выводов рекомендуется обращаться к оглавлению и рассматривать каждый пункт по отдельности.\n",
    "\n",
    "- Дисперсия гораздо выше у пользователей тарифа \"Ультра\", поскольку их поведение более разнообразное по сравнению с пользователями тарифа \"Смарт\" (для этого достаточно посмотреть графики в пункте 4);\n",
    "- Разница в количестве пользователей тарифов прослеживается в выручке (пользователей тарифа \"Смарт\" больше и с них выручка в месяц в среднем выше, чем с пользователей тарифа \"Ультра\"), в среднем значении, дисперсии и в стандартном отклонении (как уже писалось выше, поведение пользователей тарифа \"Ультра\" более разнообразное, поскольку у них базовый пакет услуг гораздо больше, чем у пользователей тарифа \"Смарт\", которым приходится доплачивать за дополнительные гигабайты, минуты звонка и сообщения;\n",
    "- Тариф \"Смарт\" лучше и доступнее тарифа \"Ультра\", если человек не собирается пользоваться интернетом слишком много, поскольку цена за 1 Гб достаточно большая (200 рублей). Но, если же пользователь активно пользуется интернетом, много болтает по телефону и пишет сообщения, то ему возможно потребуется тариф \"Ультра\", поскольку там шире базовый пакет, и в среднем за него никто не переплачивал больше 1950 рублей, несмотря на то, что плата за дополнительные услуги меньше;"
   ]
  }
 ],
 "metadata": {
  "ExecuteTimeLog": [
   {
    "duration": 672,
    "start_time": "2022-01-26T10:02:03.592Z"
   },
   {
    "duration": 441,
    "start_time": "2022-01-26T10:03:17.714Z"
   },
   {
    "duration": 14,
    "start_time": "2022-01-26T10:03:29.360Z"
   },
   {
    "duration": 33,
    "start_time": "2022-01-26T10:03:37.128Z"
   },
   {
    "duration": 22,
    "start_time": "2022-01-26T10:03:45.744Z"
   },
   {
    "duration": 258,
    "start_time": "2022-01-26T10:03:56.008Z"
   },
   {
    "duration": 34,
    "start_time": "2022-01-26T10:04:11.432Z"
   },
   {
    "duration": 10,
    "start_time": "2022-01-26T10:05:02.665Z"
   },
   {
    "duration": 9,
    "start_time": "2022-01-26T10:05:07.145Z"
   },
   {
    "duration": 11,
    "start_time": "2022-01-26T10:05:13.689Z"
   },
   {
    "duration": 33,
    "start_time": "2022-01-26T10:05:32.073Z"
   },
   {
    "duration": 19,
    "start_time": "2022-01-26T10:05:43.024Z"
   },
   {
    "duration": 7,
    "start_time": "2022-01-26T10:06:04.561Z"
   },
   {
    "duration": 14,
    "start_time": "2022-01-26T10:06:12.337Z"
   },
   {
    "duration": 15,
    "start_time": "2022-01-26T10:06:19.057Z"
   },
   {
    "duration": 8,
    "start_time": "2022-01-26T10:06:54.904Z"
   },
   {
    "duration": 28,
    "start_time": "2022-01-26T10:07:08.144Z"
   },
   {
    "duration": 7,
    "start_time": "2022-01-26T10:07:44.480Z"
   },
   {
    "duration": 11,
    "start_time": "2022-01-26T10:11:10.352Z"
   },
   {
    "duration": 17,
    "start_time": "2022-01-26T10:11:20.024Z"
   },
   {
    "duration": 7,
    "start_time": "2022-01-26T10:11:27.168Z"
   },
   {
    "duration": 4574,
    "start_time": "2022-01-26T10:14:33.961Z"
   },
   {
    "duration": 187,
    "start_time": "2022-01-26T10:14:41.769Z"
   },
   {
    "duration": 33,
    "start_time": "2022-01-26T10:15:48.113Z"
   },
   {
    "duration": 311,
    "start_time": "2022-01-26T10:16:36.809Z"
   },
   {
    "duration": 10,
    "start_time": "2022-01-26T10:17:00.020Z"
   },
   {
    "duration": 11,
    "start_time": "2022-01-26T10:17:19.380Z"
   },
   {
    "duration": 7,
    "start_time": "2022-01-26T10:17:47.069Z"
   },
   {
    "duration": 95,
    "start_time": "2022-01-26T10:18:37.988Z"
   },
   {
    "duration": 8,
    "start_time": "2022-01-26T10:19:01.949Z"
   },
   {
    "duration": 17,
    "start_time": "2022-01-26T10:19:06.268Z"
   },
   {
    "duration": 48,
    "start_time": "2022-01-26T10:23:18.973Z"
   },
   {
    "duration": 81,
    "start_time": "2022-01-26T10:23:37.341Z"
   },
   {
    "duration": 27,
    "start_time": "2022-01-26T10:24:17.861Z"
   },
   {
    "duration": 47,
    "start_time": "2022-01-26T10:24:32.990Z"
   },
   {
    "duration": 45,
    "start_time": "2022-01-26T10:25:18.245Z"
   },
   {
    "duration": 9,
    "start_time": "2022-01-26T10:31:12.629Z"
   },
   {
    "duration": 467,
    "start_time": "2022-01-26T10:31:24.589Z"
   },
   {
    "duration": 10,
    "start_time": "2022-01-26T10:31:29.510Z"
   },
   {
    "duration": 26,
    "start_time": "2022-01-26T10:31:31.317Z"
   },
   {
    "duration": 51,
    "start_time": "2022-01-26T10:31:48.238Z"
   },
   {
    "duration": 140,
    "start_time": "2022-01-26T10:31:57.614Z"
   },
   {
    "duration": 17,
    "start_time": "2022-01-26T10:32:18.358Z"
   },
   {
    "duration": 17,
    "start_time": "2022-01-26T10:32:30.781Z"
   },
   {
    "duration": 8,
    "start_time": "2022-01-26T10:32:49.813Z"
   },
   {
    "duration": 20,
    "start_time": "2022-01-26T10:34:51.262Z"
   },
   {
    "duration": 13,
    "start_time": "2022-01-26T10:34:55.166Z"
   },
   {
    "duration": 44,
    "start_time": "2022-01-26T10:36:31.830Z"
   },
   {
    "duration": 227,
    "start_time": "2022-01-26T10:38:23.783Z"
   },
   {
    "duration": 14,
    "start_time": "2022-01-26T10:39:04.758Z"
   },
   {
    "duration": 7,
    "start_time": "2022-01-26T10:39:16.829Z"
   },
   {
    "duration": 58,
    "start_time": "2022-01-26T10:40:56.159Z"
   },
   {
    "duration": 18,
    "start_time": "2022-01-26T10:41:18.446Z"
   },
   {
    "duration": 12,
    "start_time": "2022-01-26T10:41:23.981Z"
   },
   {
    "duration": 6,
    "start_time": "2022-01-26T10:50:41.509Z"
   },
   {
    "duration": 8,
    "start_time": "2022-01-26T10:51:44.694Z"
   },
   {
    "duration": 8,
    "start_time": "2022-01-26T10:51:59.935Z"
   },
   {
    "duration": 7,
    "start_time": "2022-01-26T10:52:15.015Z"
   },
   {
    "duration": 7,
    "start_time": "2022-01-26T10:52:48.182Z"
   },
   {
    "duration": 8,
    "start_time": "2022-01-26T10:52:59.055Z"
   },
   {
    "duration": 6,
    "start_time": "2022-01-26T10:53:12.023Z"
   },
   {
    "duration": 8,
    "start_time": "2022-01-26T10:53:24.870Z"
   },
   {
    "duration": 6,
    "start_time": "2022-01-26T10:53:46.150Z"
   },
   {
    "duration": 4,
    "start_time": "2022-01-26T10:54:27.606Z"
   },
   {
    "duration": 7,
    "start_time": "2022-01-26T10:54:38.247Z"
   },
   {
    "duration": 167,
    "start_time": "2022-01-26T10:57:22.087Z"
   },
   {
    "duration": 6,
    "start_time": "2022-01-26T10:57:31.598Z"
   },
   {
    "duration": 8,
    "start_time": "2022-01-26T10:58:04.041Z"
   },
   {
    "duration": 5,
    "start_time": "2022-01-26T11:01:09.030Z"
   },
   {
    "duration": 7,
    "start_time": "2022-01-26T11:01:10.998Z"
   },
   {
    "duration": 34,
    "start_time": "2022-01-26T11:02:21.199Z"
   },
   {
    "duration": 182,
    "start_time": "2022-01-26T11:15:20.735Z"
   },
   {
    "duration": 197,
    "start_time": "2022-01-26T11:18:23.645Z"
   },
   {
    "duration": 50,
    "start_time": "2022-01-26T11:23:07.830Z"
   },
   {
    "duration": 77,
    "start_time": "2022-01-26T11:23:18.550Z"
   },
   {
    "duration": 80,
    "start_time": "2022-01-26T11:27:05.007Z"
   },
   {
    "duration": 63,
    "start_time": "2022-01-26T11:30:09.367Z"
   },
   {
    "duration": 92,
    "start_time": "2022-01-26T11:32:51.536Z"
   },
   {
    "duration": 34,
    "start_time": "2022-01-26T11:33:26.993Z"
   },
   {
    "duration": 37,
    "start_time": "2022-01-26T11:36:51.584Z"
   },
   {
    "duration": 11,
    "start_time": "2022-01-26T11:39:14.424Z"
   },
   {
    "duration": 38,
    "start_time": "2022-01-26T11:39:16.928Z"
   },
   {
    "duration": 16,
    "start_time": "2022-01-26T11:42:20.441Z"
   },
   {
    "duration": 31,
    "start_time": "2022-01-26T11:43:25.976Z"
   },
   {
    "duration": 49,
    "start_time": "2022-01-26T11:46:16.992Z"
   },
   {
    "duration": 19,
    "start_time": "2022-01-26T11:49:03.223Z"
   },
   {
    "duration": 10,
    "start_time": "2022-01-26T11:50:46.401Z"
   },
   {
    "duration": 35,
    "start_time": "2022-01-26T11:51:19.641Z"
   },
   {
    "duration": 64,
    "start_time": "2022-01-26T11:53:03.914Z"
   },
   {
    "duration": 70,
    "start_time": "2022-01-26T11:55:36.786Z"
   },
   {
    "duration": 38,
    "start_time": "2022-01-26T11:56:02.833Z"
   },
   {
    "duration": 78,
    "start_time": "2022-01-26T11:56:19.490Z"
   },
   {
    "duration": 33,
    "start_time": "2022-01-26T12:16:36.043Z"
   },
   {
    "duration": 29,
    "start_time": "2022-01-26T12:18:30.083Z"
   },
   {
    "duration": 47,
    "start_time": "2022-01-26T12:18:59.035Z"
   },
   {
    "duration": 93,
    "start_time": "2022-01-26T12:19:01.012Z"
   },
   {
    "duration": 17,
    "start_time": "2022-01-26T12:19:08.931Z"
   },
   {
    "duration": 7,
    "start_time": "2022-01-26T12:19:10.402Z"
   },
   {
    "duration": 37,
    "start_time": "2022-01-26T12:19:11.794Z"
   },
   {
    "duration": 41,
    "start_time": "2022-01-26T12:19:13.531Z"
   },
   {
    "duration": 30,
    "start_time": "2022-01-26T12:19:17.067Z"
   },
   {
    "duration": 14,
    "start_time": "2022-01-26T12:23:39.707Z"
   },
   {
    "duration": 11,
    "start_time": "2022-01-26T12:24:56.128Z"
   },
   {
    "duration": 9,
    "start_time": "2022-01-26T12:25:16.664Z"
   },
   {
    "duration": 9,
    "start_time": "2022-01-26T12:25:31.439Z"
   },
   {
    "duration": 200,
    "start_time": "2022-01-26T12:25:55.184Z"
   },
   {
    "duration": 183,
    "start_time": "2022-01-26T12:26:03.631Z"
   },
   {
    "duration": 21,
    "start_time": "2022-01-26T12:26:12.344Z"
   },
   {
    "duration": 1929,
    "start_time": "2022-01-26T12:46:35.316Z"
   },
   {
    "duration": 12,
    "start_time": "2022-01-26T12:46:45.988Z"
   },
   {
    "duration": 176,
    "start_time": "2022-01-26T12:47:10.444Z"
   },
   {
    "duration": 187,
    "start_time": "2022-01-26T12:47:48.821Z"
   },
   {
    "duration": 1889,
    "start_time": "2022-01-26T12:48:17.085Z"
   },
   {
    "duration": 12,
    "start_time": "2022-01-26T12:48:21.317Z"
   },
   {
    "duration": 180,
    "start_time": "2022-01-26T12:56:01.165Z"
   },
   {
    "duration": 176,
    "start_time": "2022-01-26T12:56:08.901Z"
   },
   {
    "duration": 1884,
    "start_time": "2022-01-26T12:56:18.093Z"
   },
   {
    "duration": 196,
    "start_time": "2022-01-26T13:00:07.734Z"
   },
   {
    "duration": 215,
    "start_time": "2022-01-26T13:00:17.422Z"
   },
   {
    "duration": 213,
    "start_time": "2022-01-26T13:00:24.351Z"
   },
   {
    "duration": 199,
    "start_time": "2022-01-26T13:00:29.654Z"
   },
   {
    "duration": 1978,
    "start_time": "2022-01-26T13:00:35.646Z"
   },
   {
    "duration": 18,
    "start_time": "2022-01-26T13:00:38.271Z"
   },
   {
    "duration": 176,
    "start_time": "2022-01-26T13:01:16.534Z"
   },
   {
    "duration": 1933,
    "start_time": "2022-01-26T13:01:31.982Z"
   },
   {
    "duration": 4407,
    "start_time": "2022-01-26T13:02:40.237Z"
   },
   {
    "duration": 4797,
    "start_time": "2022-01-26T13:04:04.102Z"
   },
   {
    "duration": 4480,
    "start_time": "2022-01-26T13:07:55.896Z"
   },
   {
    "duration": 1826,
    "start_time": "2022-01-26T13:08:16.350Z"
   },
   {
    "duration": 12,
    "start_time": "2022-01-26T13:08:30.302Z"
   },
   {
    "duration": 7,
    "start_time": "2022-01-26T13:08:41.567Z"
   },
   {
    "duration": 4619,
    "start_time": "2022-01-26T13:08:45.942Z"
   },
   {
    "duration": 6,
    "start_time": "2022-01-26T13:10:58.159Z"
   },
   {
    "duration": 5149,
    "start_time": "2022-01-26T13:11:01.320Z"
   },
   {
    "duration": 1824,
    "start_time": "2022-01-26T13:13:35.358Z"
   },
   {
    "duration": 12,
    "start_time": "2022-01-26T13:13:38.430Z"
   },
   {
    "duration": 7,
    "start_time": "2022-01-26T13:13:55.822Z"
   },
   {
    "duration": 4608,
    "start_time": "2022-01-26T13:14:14.990Z"
   },
   {
    "duration": 10,
    "start_time": "2022-01-26T13:18:52.255Z"
   },
   {
    "duration": 4951,
    "start_time": "2022-01-26T13:18:57.350Z"
   },
   {
    "duration": 6,
    "start_time": "2022-01-26T13:19:40.526Z"
   },
   {
    "duration": 4870,
    "start_time": "2022-01-26T13:19:42.599Z"
   },
   {
    "duration": 7,
    "start_time": "2022-01-26T13:20:00.359Z"
   },
   {
    "duration": 4736,
    "start_time": "2022-01-26T13:20:02.312Z"
   },
   {
    "duration": 2031,
    "start_time": "2022-01-26T13:20:43.095Z"
   },
   {
    "duration": 12,
    "start_time": "2022-01-26T13:20:46.254Z"
   },
   {
    "duration": 6,
    "start_time": "2022-01-26T13:21:06.158Z"
   },
   {
    "duration": 4576,
    "start_time": "2022-01-26T13:22:53.687Z"
   },
   {
    "duration": 5352,
    "start_time": "2022-01-26T13:23:03.912Z"
   },
   {
    "duration": 5137,
    "start_time": "2022-01-26T13:23:27.095Z"
   },
   {
    "duration": 654,
    "start_time": "2022-01-26T13:24:24.311Z"
   },
   {
    "duration": 511,
    "start_time": "2022-01-26T13:24:25.494Z"
   },
   {
    "duration": 13,
    "start_time": "2022-01-26T13:24:26.445Z"
   },
   {
    "duration": 32,
    "start_time": "2022-01-26T13:24:27.359Z"
   },
   {
    "duration": 10,
    "start_time": "2022-01-26T13:24:28.479Z"
   },
   {
    "duration": 153,
    "start_time": "2022-01-26T13:24:29.078Z"
   },
   {
    "duration": 12,
    "start_time": "2022-01-26T13:24:30.614Z"
   },
   {
    "duration": 26,
    "start_time": "2022-01-26T13:24:31.126Z"
   },
   {
    "duration": 15,
    "start_time": "2022-01-26T13:24:31.607Z"
   },
   {
    "duration": 24,
    "start_time": "2022-01-26T13:24:32.008Z"
   },
   {
    "duration": 8,
    "start_time": "2022-01-26T13:24:32.439Z"
   },
   {
    "duration": 42,
    "start_time": "2022-01-26T13:24:32.895Z"
   },
   {
    "duration": 18,
    "start_time": "2022-01-26T13:24:33.305Z"
   },
   {
    "duration": 16,
    "start_time": "2022-01-26T13:24:33.678Z"
   },
   {
    "duration": 52,
    "start_time": "2022-01-26T13:24:34.119Z"
   },
   {
    "duration": 365,
    "start_time": "2022-01-26T13:24:36.286Z"
   },
   {
    "duration": 23,
    "start_time": "2022-01-26T13:24:37.246Z"
   },
   {
    "duration": 21,
    "start_time": "2022-01-26T13:24:37.904Z"
   },
   {
    "duration": 9,
    "start_time": "2022-01-26T13:24:38.694Z"
   },
   {
    "duration": 112,
    "start_time": "2022-01-26T13:24:39.262Z"
   },
   {
    "duration": 30,
    "start_time": "2022-01-26T13:24:39.838Z"
   },
   {
    "duration": 16,
    "start_time": "2022-01-26T13:24:40.566Z"
   },
   {
    "duration": 146,
    "start_time": "2022-01-26T13:24:41.238Z"
   },
   {
    "duration": 19,
    "start_time": "2022-01-26T13:24:41.974Z"
   },
   {
    "duration": 18,
    "start_time": "2022-01-26T13:24:42.669Z"
   },
   {
    "duration": 8,
    "start_time": "2022-01-26T13:24:43.399Z"
   },
   {
    "duration": 50,
    "start_time": "2022-01-26T13:24:44.054Z"
   },
   {
    "duration": 33,
    "start_time": "2022-01-26T13:24:44.798Z"
   },
   {
    "duration": 13,
    "start_time": "2022-01-26T13:24:45.374Z"
   },
   {
    "duration": 134,
    "start_time": "2022-01-26T13:24:45.950Z"
   },
   {
    "duration": 23,
    "start_time": "2022-01-26T13:24:46.902Z"
   },
   {
    "duration": 7,
    "start_time": "2022-01-26T13:24:47.566Z"
   },
   {
    "duration": 58,
    "start_time": "2022-01-26T13:24:48.270Z"
   },
   {
    "duration": 18,
    "start_time": "2022-01-26T13:24:48.926Z"
   },
   {
    "duration": 14,
    "start_time": "2022-01-26T13:24:49.615Z"
   },
   {
    "duration": 6,
    "start_time": "2022-01-26T13:24:50.342Z"
   },
   {
    "duration": 69,
    "start_time": "2022-01-26T13:24:51.102Z"
   },
   {
    "duration": 8,
    "start_time": "2022-01-26T13:24:51.934Z"
   },
   {
    "duration": 6,
    "start_time": "2022-01-26T13:25:04.374Z"
   },
   {
    "duration": 7,
    "start_time": "2022-01-26T13:25:05.278Z"
   },
   {
    "duration": 7,
    "start_time": "2022-01-26T13:25:06.046Z"
   },
   {
    "duration": 7,
    "start_time": "2022-01-26T13:25:06.758Z"
   },
   {
    "duration": 7,
    "start_time": "2022-01-26T13:25:07.366Z"
   },
   {
    "duration": 7,
    "start_time": "2022-01-26T13:25:08.022Z"
   },
   {
    "duration": 7,
    "start_time": "2022-01-26T13:25:08.846Z"
   },
   {
    "duration": 12,
    "start_time": "2022-01-26T13:25:09.711Z"
   },
   {
    "duration": 5,
    "start_time": "2022-01-26T13:25:11.062Z"
   },
   {
    "duration": 5,
    "start_time": "2022-01-26T13:25:11.638Z"
   },
   {
    "duration": 16,
    "start_time": "2022-01-26T13:25:12.423Z"
   },
   {
    "duration": 10,
    "start_time": "2022-01-26T13:25:15.790Z"
   },
   {
    "duration": 24,
    "start_time": "2022-01-26T13:25:19.678Z"
   },
   {
    "duration": 12,
    "start_time": "2022-01-26T13:25:20.278Z"
   },
   {
    "duration": 72,
    "start_time": "2022-01-26T13:25:20.894Z"
   },
   {
    "duration": 72,
    "start_time": "2022-01-26T13:25:21.542Z"
   },
   {
    "duration": 15,
    "start_time": "2022-01-26T13:25:24.534Z"
   },
   {
    "duration": 29,
    "start_time": "2022-01-26T13:25:25.142Z"
   },
   {
    "duration": 50,
    "start_time": "2022-01-26T13:25:25.791Z"
   },
   {
    "duration": 18,
    "start_time": "2022-01-26T13:25:28.230Z"
   },
   {
    "duration": 10,
    "start_time": "2022-01-26T13:25:28.886Z"
   },
   {
    "duration": 40,
    "start_time": "2022-01-26T13:25:29.494Z"
   },
   {
    "duration": 64,
    "start_time": "2022-01-26T13:25:30.111Z"
   },
   {
    "duration": 35,
    "start_time": "2022-01-26T13:25:33.127Z"
   },
   {
    "duration": 36,
    "start_time": "2022-01-26T13:25:35.694Z"
   },
   {
    "duration": 2207,
    "start_time": "2022-01-26T13:25:36.326Z"
   },
   {
    "duration": 12,
    "start_time": "2022-01-26T13:25:39.422Z"
   },
   {
    "duration": 14,
    "start_time": "2022-01-26T13:25:44.304Z"
   },
   {
    "duration": 4854,
    "start_time": "2022-01-26T13:25:46.655Z"
   },
   {
    "duration": 95,
    "start_time": "2022-01-26T13:29:42.488Z"
   },
   {
    "duration": 6,
    "start_time": "2022-01-26T13:29:56.639Z"
   },
   {
    "duration": 4938,
    "start_time": "2022-01-26T13:30:07.127Z"
   },
   {
    "duration": 6,
    "start_time": "2022-01-26T13:31:12.256Z"
   },
   {
    "duration": 4581,
    "start_time": "2022-01-26T13:31:15.703Z"
   },
   {
    "duration": 4539,
    "start_time": "2022-01-26T13:39:03.424Z"
   },
   {
    "duration": 4499,
    "start_time": "2022-01-26T13:40:05.633Z"
   },
   {
    "duration": 4604,
    "start_time": "2022-01-26T13:42:04.209Z"
   },
   {
    "duration": 58,
    "start_time": "2022-01-26T13:42:39.745Z"
   },
   {
    "duration": 8,
    "start_time": "2022-01-26T13:43:00.816Z"
   },
   {
    "duration": 4741,
    "start_time": "2022-01-26T13:44:04.009Z"
   },
   {
    "duration": 4505,
    "start_time": "2022-01-26T13:44:20.424Z"
   },
   {
    "duration": 4673,
    "start_time": "2022-01-26T13:48:08.937Z"
   },
   {
    "duration": 185,
    "start_time": "2022-01-26T13:49:16.425Z"
   },
   {
    "duration": 4383,
    "start_time": "2022-01-26T13:49:24.081Z"
   },
   {
    "duration": 4445,
    "start_time": "2022-01-26T13:50:17.225Z"
   },
   {
    "duration": 4432,
    "start_time": "2022-01-26T13:50:57.793Z"
   },
   {
    "duration": 5461,
    "start_time": "2022-01-26T13:51:08.481Z"
   },
   {
    "duration": 4475,
    "start_time": "2022-01-26T13:53:46.354Z"
   },
   {
    "duration": 7,
    "start_time": "2022-01-26T13:53:52.233Z"
   },
   {
    "duration": 879,
    "start_time": "2022-01-26T13:53:54.042Z"
   },
   {
    "duration": 18,
    "start_time": "2022-01-26T14:00:16.450Z"
   },
   {
    "duration": 209,
    "start_time": "2022-01-26T14:01:09.169Z"
   },
   {
    "duration": 220,
    "start_time": "2022-01-26T14:01:39.369Z"
   },
   {
    "duration": 85,
    "start_time": "2022-01-26T14:17:44.050Z"
   },
   {
    "duration": 181,
    "start_time": "2022-01-26T14:18:07.691Z"
   },
   {
    "duration": 59,
    "start_time": "2022-01-26T14:18:33.339Z"
   },
   {
    "duration": 174,
    "start_time": "2022-01-26T14:18:40.354Z"
   },
   {
    "duration": 181,
    "start_time": "2022-01-26T14:20:27.372Z"
   },
   {
    "duration": 424,
    "start_time": "2022-01-26T14:25:38.850Z"
   },
   {
    "duration": 181,
    "start_time": "2022-01-26T14:26:05.907Z"
   },
   {
    "duration": 29,
    "start_time": "2022-01-26T14:32:59.091Z"
   },
   {
    "duration": 176,
    "start_time": "2022-01-26T14:33:31.332Z"
   },
   {
    "duration": 36,
    "start_time": "2022-01-26T14:35:28.643Z"
   },
   {
    "duration": 42,
    "start_time": "2022-01-26T14:35:52.476Z"
   },
   {
    "duration": 2766,
    "start_time": "2022-01-26T14:37:53.851Z"
   },
   {
    "duration": 921,
    "start_time": "2022-01-26T14:38:10.347Z"
   },
   {
    "duration": 244,
    "start_time": "2022-01-26T14:41:02.316Z"
   },
   {
    "duration": 4363,
    "start_time": "2022-01-26T14:41:29.403Z"
   },
   {
    "duration": 4348,
    "start_time": "2022-01-26T14:44:36.452Z"
   },
   {
    "duration": 191,
    "start_time": "2022-01-26T14:49:39.708Z"
   },
   {
    "duration": 190,
    "start_time": "2022-01-26T14:50:04.844Z"
   },
   {
    "duration": 181,
    "start_time": "2022-01-26T14:50:25.251Z"
   },
   {
    "duration": 368,
    "start_time": "2022-01-26T14:50:43.148Z"
   },
   {
    "duration": 242,
    "start_time": "2022-01-26T14:50:53.805Z"
   },
   {
    "duration": 1716,
    "start_time": "2022-01-26T14:51:51.148Z"
   },
   {
    "duration": 708,
    "start_time": "2022-01-26T14:52:14.099Z"
   },
   {
    "duration": 184,
    "start_time": "2022-01-26T14:52:39.500Z"
   },
   {
    "duration": 143,
    "start_time": "2022-01-26T14:53:07.884Z"
   },
   {
    "duration": 175,
    "start_time": "2022-01-26T14:54:34.156Z"
   },
   {
    "duration": 490,
    "start_time": "2022-01-26T14:54:53.252Z"
   },
   {
    "duration": 476,
    "start_time": "2022-01-26T14:55:05.820Z"
   },
   {
    "duration": 461,
    "start_time": "2022-01-26T14:55:15.077Z"
   },
   {
    "duration": 139,
    "start_time": "2022-01-26T14:56:11.244Z"
   },
   {
    "duration": 193,
    "start_time": "2022-01-26T14:57:21.604Z"
   },
   {
    "duration": 409,
    "start_time": "2022-01-26T14:57:34.812Z"
   },
   {
    "duration": 701,
    "start_time": "2022-01-26T14:57:58.893Z"
   },
   {
    "duration": 173,
    "start_time": "2022-01-26T15:00:18.548Z"
   },
   {
    "duration": 212,
    "start_time": "2022-01-26T15:00:26.372Z"
   },
   {
    "duration": 413,
    "start_time": "2022-01-26T15:00:50.860Z"
   },
   {
    "duration": 235,
    "start_time": "2022-01-26T15:03:56.484Z"
   },
   {
    "duration": 195,
    "start_time": "2022-01-26T15:05:39.677Z"
   },
   {
    "duration": 195,
    "start_time": "2022-01-26T15:08:16.645Z"
   },
   {
    "duration": 196,
    "start_time": "2022-01-26T15:08:24.494Z"
   },
   {
    "duration": 188,
    "start_time": "2022-01-26T15:09:45.693Z"
   },
   {
    "duration": 202,
    "start_time": "2022-01-26T15:09:56.205Z"
   },
   {
    "duration": 1394,
    "start_time": "2022-01-26T15:10:03.486Z"
   },
   {
    "duration": 383,
    "start_time": "2022-01-26T15:10:17.949Z"
   },
   {
    "duration": 689,
    "start_time": "2022-01-26T15:15:56.989Z"
   },
   {
    "duration": 576,
    "start_time": "2022-01-26T15:16:11.093Z"
   },
   {
    "duration": 636,
    "start_time": "2022-01-26T15:17:15.670Z"
   },
   {
    "duration": 670,
    "start_time": "2022-01-26T15:18:35.501Z"
   },
   {
    "duration": 257,
    "start_time": "2022-01-26T15:19:06.205Z"
   },
   {
    "duration": 411,
    "start_time": "2022-01-26T15:19:22.101Z"
   },
   {
    "duration": 257,
    "start_time": "2022-01-26T15:19:42.533Z"
   },
   {
    "duration": 175,
    "start_time": "2022-01-26T15:25:23.662Z"
   },
   {
    "duration": 63,
    "start_time": "2022-01-26T15:27:40.942Z"
   },
   {
    "duration": 192,
    "start_time": "2022-01-26T15:27:49.397Z"
   },
   {
    "duration": 363,
    "start_time": "2022-01-26T15:27:54.733Z"
   },
   {
    "duration": 266,
    "start_time": "2022-01-26T15:28:02.855Z"
   },
   {
    "duration": 261,
    "start_time": "2022-01-26T15:28:08.981Z"
   },
   {
    "duration": 178,
    "start_time": "2022-01-26T15:44:10.551Z"
   },
   {
    "duration": 358,
    "start_time": "2022-01-26T15:44:20.431Z"
   },
   {
    "duration": 186,
    "start_time": "2022-01-26T15:44:40.200Z"
   },
   {
    "duration": 356,
    "start_time": "2022-01-28T09:52:42.320Z"
   },
   {
    "duration": 913,
    "start_time": "2022-01-28T09:53:00.324Z"
   },
   {
    "duration": 584,
    "start_time": "2022-01-28T09:53:01.240Z"
   },
   {
    "duration": 17,
    "start_time": "2022-01-28T09:53:02.443Z"
   },
   {
    "duration": 43,
    "start_time": "2022-01-28T09:53:03.171Z"
   },
   {
    "duration": 15,
    "start_time": "2022-01-28T09:53:03.764Z"
   },
   {
    "duration": 191,
    "start_time": "2022-01-28T09:53:04.227Z"
   },
   {
    "duration": 13,
    "start_time": "2022-01-28T09:53:04.676Z"
   },
   {
    "duration": 36,
    "start_time": "2022-01-28T09:53:05.084Z"
   },
   {
    "duration": 11,
    "start_time": "2022-01-28T09:53:05.539Z"
   },
   {
    "duration": 23,
    "start_time": "2022-01-28T09:53:06.011Z"
   },
   {
    "duration": 12,
    "start_time": "2022-01-28T09:53:06.555Z"
   },
   {
    "duration": 43,
    "start_time": "2022-01-28T09:53:07.131Z"
   },
   {
    "duration": 15,
    "start_time": "2022-01-28T09:53:07.660Z"
   },
   {
    "duration": 31,
    "start_time": "2022-01-28T09:53:08.228Z"
   },
   {
    "duration": 85,
    "start_time": "2022-01-28T09:53:08.924Z"
   },
   {
    "duration": 299,
    "start_time": "2022-01-28T09:53:11.777Z"
   },
   {
    "duration": 27,
    "start_time": "2022-01-28T09:53:12.635Z"
   },
   {
    "duration": 22,
    "start_time": "2022-01-28T09:53:13.291Z"
   },
   {
    "duration": 11,
    "start_time": "2022-01-28T09:53:13.939Z"
   },
   {
    "duration": 130,
    "start_time": "2022-01-28T09:53:14.547Z"
   },
   {
    "duration": 56,
    "start_time": "2022-01-28T09:53:15.396Z"
   },
   {
    "duration": 21,
    "start_time": "2022-01-28T09:53:16.171Z"
   },
   {
    "duration": 152,
    "start_time": "2022-01-28T09:53:16.771Z"
   },
   {
    "duration": 22,
    "start_time": "2022-01-28T09:53:17.435Z"
   },
   {
    "duration": 23,
    "start_time": "2022-01-28T09:53:18.075Z"
   },
   {
    "duration": 10,
    "start_time": "2022-01-28T09:53:18.764Z"
   },
   {
    "duration": 63,
    "start_time": "2022-01-28T09:53:19.620Z"
   },
   {
    "duration": 31,
    "start_time": "2022-01-28T09:53:20.283Z"
   },
   {
    "duration": 16,
    "start_time": "2022-01-28T09:53:20.827Z"
   },
   {
    "duration": 129,
    "start_time": "2022-01-28T09:53:21.363Z"
   },
   {
    "duration": 18,
    "start_time": "2022-01-28T09:53:22.067Z"
   },
   {
    "duration": 11,
    "start_time": "2022-01-28T09:53:22.635Z"
   },
   {
    "duration": 68,
    "start_time": "2022-01-28T09:53:23.235Z"
   },
   {
    "duration": 27,
    "start_time": "2022-01-28T09:53:23.779Z"
   },
   {
    "duration": 14,
    "start_time": "2022-01-28T09:53:24.323Z"
   },
   {
    "duration": 9,
    "start_time": "2022-01-28T09:53:24.899Z"
   },
   {
    "duration": 9,
    "start_time": "2022-01-28T09:53:25.643Z"
   },
   {
    "duration": 10,
    "start_time": "2022-01-28T09:53:26.747Z"
   },
   {
    "duration": 11,
    "start_time": "2022-01-28T09:53:27.491Z"
   },
   {
    "duration": 11,
    "start_time": "2022-01-28T09:53:28.260Z"
   },
   {
    "duration": 13,
    "start_time": "2022-01-28T09:53:28.971Z"
   },
   {
    "duration": 9,
    "start_time": "2022-01-28T09:53:29.603Z"
   },
   {
    "duration": 12,
    "start_time": "2022-01-28T09:53:30.171Z"
   },
   {
    "duration": 11,
    "start_time": "2022-01-28T09:53:30.764Z"
   },
   {
    "duration": 11,
    "start_time": "2022-01-28T09:53:31.555Z"
   },
   {
    "duration": 6,
    "start_time": "2022-01-28T09:53:32.139Z"
   },
   {
    "duration": 7,
    "start_time": "2022-01-28T09:53:32.683Z"
   },
   {
    "duration": 26,
    "start_time": "2022-01-28T09:53:33.228Z"
   },
   {
    "duration": 10,
    "start_time": "2022-01-28T09:53:33.979Z"
   },
   {
    "duration": 30,
    "start_time": "2022-01-28T09:53:37.044Z"
   },
   {
    "duration": 16,
    "start_time": "2022-01-28T09:53:37.667Z"
   },
   {
    "duration": 80,
    "start_time": "2022-01-28T09:53:38.467Z"
   },
   {
    "duration": 95,
    "start_time": "2022-01-28T09:53:39.715Z"
   },
   {
    "duration": 21,
    "start_time": "2022-01-28T09:53:42.539Z"
   },
   {
    "duration": 45,
    "start_time": "2022-01-28T09:53:43.003Z"
   },
   {
    "duration": 62,
    "start_time": "2022-01-28T09:53:43.595Z"
   },
   {
    "duration": 25,
    "start_time": "2022-01-28T09:53:45.795Z"
   },
   {
    "duration": 11,
    "start_time": "2022-01-28T09:53:46.274Z"
   },
   {
    "duration": 55,
    "start_time": "2022-01-28T09:53:46.795Z"
   },
   {
    "duration": 77,
    "start_time": "2022-01-28T09:53:47.347Z"
   },
   {
    "duration": 50,
    "start_time": "2022-01-28T09:53:49.586Z"
   },
   {
    "duration": 33,
    "start_time": "2022-01-28T09:53:51.635Z"
   },
   {
    "duration": 3913,
    "start_time": "2022-01-28T09:53:52.219Z"
   },
   {
    "duration": 18,
    "start_time": "2022-01-28T09:53:56.135Z"
   },
   {
    "duration": 10,
    "start_time": "2022-01-28T09:53:58.067Z"
   },
   {
    "duration": 1088,
    "start_time": "2022-01-28T09:54:00.371Z"
   },
   {
    "duration": 389,
    "start_time": "2022-01-28T09:54:06.578Z"
   },
   {
    "duration": 44,
    "start_time": "2022-01-28T09:54:07.627Z"
   },
   {
    "duration": 375,
    "start_time": "2022-01-28T09:54:08.227Z"
   },
   {
    "duration": 386,
    "start_time": "2022-01-28T09:54:09.219Z"
   },
   {
    "duration": 358,
    "start_time": "2022-01-28T09:54:10.138Z"
   },
   {
    "duration": 399,
    "start_time": "2022-01-28T09:54:13.193Z"
   },
   {
    "duration": 476,
    "start_time": "2022-01-28T09:54:36.811Z"
   },
   {
    "duration": 16,
    "start_time": "2022-01-28T09:54:40.547Z"
   },
   {
    "duration": 18,
    "start_time": "2022-01-28T10:04:00.829Z"
   },
   {
    "duration": 5,
    "start_time": "2022-01-28T10:04:03.151Z"
   },
   {
    "duration": 6,
    "start_time": "2022-01-28T10:05:23.813Z"
   },
   {
    "duration": 8,
    "start_time": "2022-01-28T10:05:25.374Z"
   },
   {
    "duration": 19,
    "start_time": "2022-01-28T10:06:27.966Z"
   },
   {
    "duration": 4318,
    "start_time": "2022-01-28T10:19:16.406Z"
   },
   {
    "duration": 14,
    "start_time": "2022-01-28T10:20:58.461Z"
   },
   {
    "duration": 4,
    "start_time": "2022-01-28T10:22:04.829Z"
   },
   {
    "duration": 5,
    "start_time": "2022-01-28T10:22:51.438Z"
   },
   {
    "duration": 6,
    "start_time": "2022-01-28T10:23:00.894Z"
   },
   {
    "duration": 9,
    "start_time": "2022-01-28T10:23:53.231Z"
   },
   {
    "duration": 13,
    "start_time": "2022-01-28T10:24:15.606Z"
   },
   {
    "duration": 5,
    "start_time": "2022-01-28T10:24:17.182Z"
   },
   {
    "duration": 5,
    "start_time": "2022-01-28T10:24:17.726Z"
   },
   {
    "duration": 6,
    "start_time": "2022-01-28T10:24:18.246Z"
   },
   {
    "duration": 31,
    "start_time": "2022-01-28T10:31:26.667Z"
   },
   {
    "duration": 22,
    "start_time": "2022-01-28T10:32:17.323Z"
   },
   {
    "duration": 349,
    "start_time": "2022-01-28T10:35:44.467Z"
   },
   {
    "duration": 5,
    "start_time": "2022-01-28T10:36:00.555Z"
   },
   {
    "duration": 1569,
    "start_time": "2022-01-28T10:36:02.354Z"
   },
   {
    "duration": 4,
    "start_time": "2022-01-28T10:37:44.907Z"
   },
   {
    "duration": 1374,
    "start_time": "2022-01-28T10:37:48.859Z"
   },
   {
    "duration": 1511,
    "start_time": "2022-01-28T10:41:01.133Z"
   },
   {
    "duration": 4,
    "start_time": "2022-01-28T10:42:07.148Z"
   },
   {
    "duration": 1473,
    "start_time": "2022-01-28T10:42:08.588Z"
   },
   {
    "duration": 4,
    "start_time": "2022-01-28T10:44:00.619Z"
   },
   {
    "duration": 7,
    "start_time": "2022-01-28T10:44:03.396Z"
   },
   {
    "duration": 28,
    "start_time": "2022-01-28T10:46:35.813Z"
   },
   {
    "duration": 15,
    "start_time": "2022-01-28T11:44:33.352Z"
   },
   {
    "duration": 381,
    "start_time": "2022-01-28T13:08:43.858Z"
   },
   {
    "duration": 4,
    "start_time": "2022-01-28T13:15:44.889Z"
   },
   {
    "duration": 312,
    "start_time": "2022-01-28T13:15:56.849Z"
   },
   {
    "duration": 8,
    "start_time": "2022-01-28T13:16:16.185Z"
   },
   {
    "duration": 7,
    "start_time": "2022-01-28T13:17:45.537Z"
   },
   {
    "duration": 7,
    "start_time": "2022-01-28T13:17:53.785Z"
   },
   {
    "duration": 986,
    "start_time": "2022-02-06T08:44:51.293Z"
   },
   {
    "duration": 358,
    "start_time": "2022-02-06T08:44:52.281Z"
   },
   {
    "duration": 11,
    "start_time": "2022-02-06T08:44:52.641Z"
   },
   {
    "duration": 29,
    "start_time": "2022-02-06T08:44:52.653Z"
   },
   {
    "duration": 8,
    "start_time": "2022-02-06T08:44:52.683Z"
   },
   {
    "duration": 117,
    "start_time": "2022-02-06T08:44:52.692Z"
   },
   {
    "duration": 8,
    "start_time": "2022-02-06T08:44:52.810Z"
   },
   {
    "duration": 26,
    "start_time": "2022-02-06T08:44:52.820Z"
   },
   {
    "duration": 6,
    "start_time": "2022-02-06T08:44:52.848Z"
   },
   {
    "duration": 21,
    "start_time": "2022-02-06T08:44:52.856Z"
   },
   {
    "duration": 7,
    "start_time": "2022-02-06T08:44:52.878Z"
   },
   {
    "duration": 40,
    "start_time": "2022-02-06T08:44:52.887Z"
   },
   {
    "duration": 10,
    "start_time": "2022-02-06T08:44:52.928Z"
   },
   {
    "duration": 19,
    "start_time": "2022-02-06T08:44:52.939Z"
   },
   {
    "duration": 63,
    "start_time": "2022-02-06T08:44:52.960Z"
   },
   {
    "duration": 210,
    "start_time": "2022-02-06T08:44:53.025Z"
   },
   {
    "duration": 20,
    "start_time": "2022-02-06T08:44:53.237Z"
   },
   {
    "duration": 14,
    "start_time": "2022-02-06T08:44:53.258Z"
   },
   {
    "duration": 6,
    "start_time": "2022-02-06T08:44:53.273Z"
   },
   {
    "duration": 108,
    "start_time": "2022-02-06T08:44:53.281Z"
   },
   {
    "duration": 37,
    "start_time": "2022-02-06T08:44:53.390Z"
   },
   {
    "duration": 14,
    "start_time": "2022-02-06T08:44:53.428Z"
   },
   {
    "duration": 100,
    "start_time": "2022-02-06T08:44:53.445Z"
   },
   {
    "duration": 14,
    "start_time": "2022-02-06T08:44:53.547Z"
   },
   {
    "duration": 15,
    "start_time": "2022-02-06T08:44:53.563Z"
   },
   {
    "duration": 6,
    "start_time": "2022-02-06T08:44:53.580Z"
   },
   {
    "duration": 55,
    "start_time": "2022-02-06T08:44:53.588Z"
   },
   {
    "duration": 18,
    "start_time": "2022-02-06T08:44:53.645Z"
   },
   {
    "duration": 11,
    "start_time": "2022-02-06T08:44:53.664Z"
   },
   {
    "duration": 95,
    "start_time": "2022-02-06T08:44:53.676Z"
   },
   {
    "duration": 13,
    "start_time": "2022-02-06T08:44:53.773Z"
   },
   {
    "duration": 7,
    "start_time": "2022-02-06T08:44:53.787Z"
   },
   {
    "duration": 39,
    "start_time": "2022-02-06T08:44:53.812Z"
   },
   {
    "duration": 16,
    "start_time": "2022-02-06T08:44:53.852Z"
   },
   {
    "duration": 12,
    "start_time": "2022-02-06T08:44:53.869Z"
   },
   {
    "duration": 6,
    "start_time": "2022-02-06T08:44:53.882Z"
   },
   {
    "duration": 26,
    "start_time": "2022-02-06T08:44:53.890Z"
   },
   {
    "duration": 6,
    "start_time": "2022-02-06T08:44:53.917Z"
   },
   {
    "duration": 5,
    "start_time": "2022-02-06T08:44:53.925Z"
   },
   {
    "duration": 7,
    "start_time": "2022-02-06T08:44:53.932Z"
   },
   {
    "duration": 6,
    "start_time": "2022-02-06T08:44:53.940Z"
   },
   {
    "duration": 7,
    "start_time": "2022-02-06T08:44:53.947Z"
   },
   {
    "duration": 5,
    "start_time": "2022-02-06T08:44:53.956Z"
   },
   {
    "duration": 5,
    "start_time": "2022-02-06T08:44:53.962Z"
   },
   {
    "duration": 48,
    "start_time": "2022-02-06T08:44:53.968Z"
   },
   {
    "duration": 4,
    "start_time": "2022-02-06T08:44:54.018Z"
   },
   {
    "duration": 6,
    "start_time": "2022-02-06T08:44:54.023Z"
   },
   {
    "duration": 16,
    "start_time": "2022-02-06T08:44:54.030Z"
   },
   {
    "duration": 6,
    "start_time": "2022-02-06T08:44:54.047Z"
   },
   {
    "duration": 26,
    "start_time": "2022-02-06T08:44:54.054Z"
   },
   {
    "duration": 34,
    "start_time": "2022-02-06T08:44:54.082Z"
   },
   {
    "duration": 54,
    "start_time": "2022-02-06T08:44:54.118Z"
   },
   {
    "duration": 87,
    "start_time": "2022-02-06T08:44:54.174Z"
   },
   {
    "duration": 15,
    "start_time": "2022-02-06T08:44:54.263Z"
   },
   {
    "duration": 42,
    "start_time": "2022-02-06T08:44:54.279Z"
   },
   {
    "duration": 42,
    "start_time": "2022-02-06T08:44:54.323Z"
   },
   {
    "duration": 15,
    "start_time": "2022-02-06T08:44:54.367Z"
   },
   {
    "duration": 7,
    "start_time": "2022-02-06T08:44:54.384Z"
   },
   {
    "duration": 34,
    "start_time": "2022-02-06T08:44:54.412Z"
   },
   {
    "duration": 48,
    "start_time": "2022-02-06T08:44:54.448Z"
   },
   {
    "duration": 43,
    "start_time": "2022-02-06T08:44:54.498Z"
   },
   {
    "duration": 19,
    "start_time": "2022-02-06T08:44:54.543Z"
   },
   {
    "duration": 1925,
    "start_time": "2022-02-06T08:44:54.564Z"
   },
   {
    "duration": 10,
    "start_time": "2022-02-06T08:44:56.491Z"
   },
   {
    "duration": 16,
    "start_time": "2022-02-06T08:44:56.503Z"
   },
   {
    "duration": 562,
    "start_time": "2022-02-06T08:44:56.521Z"
   },
   {
    "duration": 212,
    "start_time": "2022-02-06T08:44:57.085Z"
   },
   {
    "duration": 31,
    "start_time": "2022-02-06T08:44:57.302Z"
   },
   {
    "duration": 238,
    "start_time": "2022-02-06T08:44:57.335Z"
   },
   {
    "duration": 234,
    "start_time": "2022-02-06T08:44:57.574Z"
   },
   {
    "duration": 237,
    "start_time": "2022-02-06T08:44:57.812Z"
   },
   {
    "duration": 8,
    "start_time": "2022-02-06T08:44:58.050Z"
   },
   {
    "duration": 3,
    "start_time": "2022-02-06T08:44:58.060Z"
   },
   {
    "duration": 5,
    "start_time": "2022-02-06T08:44:58.064Z"
   },
   {
    "duration": 4,
    "start_time": "2022-02-06T08:44:58.071Z"
   },
   {
    "duration": 14,
    "start_time": "2022-02-06T08:44:58.077Z"
   },
   {
    "duration": 5,
    "start_time": "2022-02-06T08:44:58.112Z"
   },
   {
    "duration": 4,
    "start_time": "2022-02-06T08:44:58.119Z"
   },
   {
    "duration": 1851,
    "start_time": "2022-02-06T08:44:58.124Z"
   },
   {
    "duration": 7,
    "start_time": "2022-02-06T08:44:59.977Z"
   },
   {
    "duration": 2,
    "start_time": "2022-02-06T08:44:59.986Z"
   },
   {
    "duration": 5,
    "start_time": "2022-02-06T08:44:59.989Z"
   },
   {
    "duration": 18,
    "start_time": "2022-02-06T08:44:59.995Z"
   },
   {
    "duration": 5,
    "start_time": "2022-02-06T08:45:00.014Z"
   },
   {
    "duration": 6,
    "start_time": "2022-02-06T08:45:00.021Z"
   },
   {
    "duration": 14,
    "start_time": "2022-02-06T08:45:00.029Z"
   },
   {
    "duration": 18,
    "start_time": "2022-02-06T09:17:35.064Z"
   },
   {
    "duration": 6,
    "start_time": "2022-02-06T09:17:40.647Z"
   },
   {
    "duration": 1128,
    "start_time": "2022-02-06T10:42:45.280Z"
   },
   {
    "duration": 405,
    "start_time": "2022-02-06T10:42:46.956Z"
   },
   {
    "duration": 12,
    "start_time": "2022-02-06T10:42:48.945Z"
   },
   {
    "duration": 44,
    "start_time": "2022-02-06T10:42:51.901Z"
   },
   {
    "duration": 10,
    "start_time": "2022-02-06T10:42:53.369Z"
   },
   {
    "duration": 137,
    "start_time": "2022-02-06T10:42:53.796Z"
   },
   {
    "duration": 9,
    "start_time": "2022-02-06T10:42:54.298Z"
   },
   {
    "duration": 23,
    "start_time": "2022-02-06T10:42:54.835Z"
   },
   {
    "duration": 8,
    "start_time": "2022-02-06T10:42:55.714Z"
   },
   {
    "duration": 14,
    "start_time": "2022-02-06T10:42:56.250Z"
   },
   {
    "duration": 8,
    "start_time": "2022-02-06T10:42:56.787Z"
   },
   {
    "duration": 28,
    "start_time": "2022-02-06T10:42:57.299Z"
   },
   {
    "duration": 11,
    "start_time": "2022-02-06T10:42:57.779Z"
   },
   {
    "duration": 15,
    "start_time": "2022-02-06T10:42:58.338Z"
   },
   {
    "duration": 50,
    "start_time": "2022-02-06T10:42:58.953Z"
   },
   {
    "duration": 277,
    "start_time": "2022-02-06T10:43:03.842Z"
   },
   {
    "duration": 32,
    "start_time": "2022-02-06T10:43:04.346Z"
   },
   {
    "duration": 14,
    "start_time": "2022-02-06T10:43:04.866Z"
   },
   {
    "duration": 9,
    "start_time": "2022-02-06T10:43:05.373Z"
   },
   {
    "duration": 115,
    "start_time": "2022-02-06T10:43:05.906Z"
   },
   {
    "duration": 32,
    "start_time": "2022-02-06T10:43:07.586Z"
   },
   {
    "duration": 14,
    "start_time": "2022-02-06T10:43:08.210Z"
   },
   {
    "duration": 121,
    "start_time": "2022-02-06T10:43:08.769Z"
   },
   {
    "duration": 16,
    "start_time": "2022-02-06T10:43:09.331Z"
   },
   {
    "duration": 17,
    "start_time": "2022-02-06T10:43:09.810Z"
   },
   {
    "duration": 7,
    "start_time": "2022-02-06T10:43:10.258Z"
   },
   {
    "duration": 39,
    "start_time": "2022-02-06T10:43:10.810Z"
   },
   {
    "duration": 21,
    "start_time": "2022-02-06T10:43:11.482Z"
   },
   {
    "duration": 13,
    "start_time": "2022-02-06T10:43:11.970Z"
   },
   {
    "duration": 93,
    "start_time": "2022-02-06T10:43:12.891Z"
   },
   {
    "duration": 15,
    "start_time": "2022-02-06T10:43:13.394Z"
   },
   {
    "duration": 7,
    "start_time": "2022-02-06T10:43:13.906Z"
   },
   {
    "duration": 41,
    "start_time": "2022-02-06T10:43:14.346Z"
   },
   {
    "duration": 18,
    "start_time": "2022-02-06T10:43:14.850Z"
   },
   {
    "duration": 11,
    "start_time": "2022-02-06T10:43:15.282Z"
   },
   {
    "duration": 8,
    "start_time": "2022-02-06T10:43:15.786Z"
   },
   {
    "duration": 7,
    "start_time": "2022-02-06T10:43:18.058Z"
   },
   {
    "duration": 8,
    "start_time": "2022-02-06T10:43:18.617Z"
   },
   {
    "duration": 6,
    "start_time": "2022-02-06T10:43:19.082Z"
   },
   {
    "duration": 6,
    "start_time": "2022-02-06T10:43:19.603Z"
   },
   {
    "duration": 7,
    "start_time": "2022-02-06T10:43:20.147Z"
   },
   {
    "duration": 7,
    "start_time": "2022-02-06T10:43:20.634Z"
   },
   {
    "duration": 7,
    "start_time": "2022-02-06T10:43:21.170Z"
   },
   {
    "duration": 6,
    "start_time": "2022-02-06T10:43:21.705Z"
   },
   {
    "duration": 7,
    "start_time": "2022-02-06T10:43:22.258Z"
   },
   {
    "duration": 4,
    "start_time": "2022-02-06T10:43:22.665Z"
   },
   {
    "duration": 5,
    "start_time": "2022-02-06T10:43:23.026Z"
   },
   {
    "duration": 18,
    "start_time": "2022-02-06T10:43:23.370Z"
   },
   {
    "duration": 7,
    "start_time": "2022-02-06T10:43:24.146Z"
   },
   {
    "duration": 23,
    "start_time": "2022-02-06T10:43:29.953Z"
   },
   {
    "duration": 5,
    "start_time": "2022-02-06T10:43:32.049Z"
   },
   {
    "duration": 63,
    "start_time": "2022-02-06T10:43:34.449Z"
   },
   {
    "duration": 72,
    "start_time": "2022-02-06T10:43:37.402Z"
   },
   {
    "duration": 18,
    "start_time": "2022-02-06T10:43:40.473Z"
   },
   {
    "duration": 31,
    "start_time": "2022-02-06T10:43:41.345Z"
   },
   {
    "duration": 47,
    "start_time": "2022-02-06T10:43:41.874Z"
   },
   {
    "duration": 18,
    "start_time": "2022-02-06T10:43:45.297Z"
   },
   {
    "duration": 11,
    "start_time": "2022-02-06T10:44:40.873Z"
   },
   {
    "duration": 39,
    "start_time": "2022-02-06T10:44:42.793Z"
   },
   {
    "duration": 56,
    "start_time": "2022-02-06T10:44:44.608Z"
   },
   {
    "duration": 27,
    "start_time": "2022-02-06T10:45:04.717Z"
   },
   {
    "duration": 28,
    "start_time": "2022-02-06T10:45:21.632Z"
   },
   {
    "duration": 4,
    "start_time": "2022-02-06T10:46:04.135Z"
   },
   {
    "duration": 37,
    "start_time": "2022-02-06T10:46:06.633Z"
   },
   {
    "duration": 45,
    "start_time": "2022-02-06T10:46:08.896Z"
   },
   {
    "duration": 5,
    "start_time": "2022-02-06T10:46:22.688Z"
   },
   {
    "duration": 50,
    "start_time": "2022-02-06T10:46:23.273Z"
   },
   {
    "duration": 358,
    "start_time": "2022-02-06T10:46:23.712Z"
   },
   {
    "duration": 54,
    "start_time": "2022-02-06T10:46:38.207Z"
   },
   {
    "duration": 5,
    "start_time": "2022-02-06T10:46:54.039Z"
   },
   {
    "duration": 40,
    "start_time": "2022-02-06T10:46:56.013Z"
   },
   {
    "duration": 44,
    "start_time": "2022-02-06T10:46:58.671Z"
   },
   {
    "duration": 5,
    "start_time": "2022-02-06T10:47:10.064Z"
   },
   {
    "duration": 5,
    "start_time": "2022-02-06T10:48:03.055Z"
   },
   {
    "duration": 40,
    "start_time": "2022-02-06T10:48:04.863Z"
   },
   {
    "duration": 42,
    "start_time": "2022-02-06T10:48:06.351Z"
   },
   {
    "duration": 6,
    "start_time": "2022-02-06T10:48:41.541Z"
   },
   {
    "duration": 37,
    "start_time": "2022-02-06T10:48:42.366Z"
   },
   {
    "duration": 45,
    "start_time": "2022-02-06T10:48:42.879Z"
   },
   {
    "duration": 1019,
    "start_time": "2022-02-06T10:51:07.876Z"
   },
   {
    "duration": 6,
    "start_time": "2022-02-06T10:51:15.700Z"
   },
   {
    "duration": 40,
    "start_time": "2022-02-06T10:51:17.629Z"
   },
   {
    "duration": 51,
    "start_time": "2022-02-06T10:51:19.260Z"
   },
   {
    "duration": 4,
    "start_time": "2022-02-06T10:51:29.540Z"
   },
   {
    "duration": 42,
    "start_time": "2022-02-06T10:51:30.060Z"
   },
   {
    "duration": 44,
    "start_time": "2022-02-06T10:51:30.533Z"
   },
   {
    "duration": 258,
    "start_time": "2022-02-06T10:52:23.988Z"
   },
   {
    "duration": 704,
    "start_time": "2022-02-06T10:53:16.843Z"
   },
   {
    "duration": 40,
    "start_time": "2022-02-06T10:53:18.204Z"
   },
   {
    "duration": 42,
    "start_time": "2022-02-06T10:53:19.123Z"
   },
   {
    "duration": 4,
    "start_time": "2022-02-06T10:53:28.931Z"
   },
   {
    "duration": 41,
    "start_time": "2022-02-06T10:53:29.402Z"
   },
   {
    "duration": 58,
    "start_time": "2022-02-06T10:53:30.331Z"
   },
   {
    "duration": 714,
    "start_time": "2022-02-06T10:54:18.482Z"
   },
   {
    "duration": 42,
    "start_time": "2022-02-06T10:54:19.198Z"
   },
   {
    "duration": 48,
    "start_time": "2022-02-06T10:54:19.666Z"
   },
   {
    "duration": 956,
    "start_time": "2022-02-06T10:54:54.778Z"
   },
   {
    "duration": 42,
    "start_time": "2022-02-06T10:54:56.369Z"
   },
   {
    "duration": 49,
    "start_time": "2022-02-06T10:54:56.970Z"
   },
   {
    "duration": 4,
    "start_time": "2022-02-06T10:55:05.690Z"
   },
   {
    "duration": 39,
    "start_time": "2022-02-06T10:55:06.172Z"
   },
   {
    "duration": 57,
    "start_time": "2022-02-06T10:55:07.674Z"
   },
   {
    "duration": 5,
    "start_time": "2022-02-06T10:55:21.282Z"
   },
   {
    "duration": 41,
    "start_time": "2022-02-06T10:55:21.721Z"
   },
   {
    "duration": 44,
    "start_time": "2022-02-06T10:55:22.153Z"
   },
   {
    "duration": 257,
    "start_time": "2022-02-06T10:57:20.392Z"
   },
   {
    "duration": 5,
    "start_time": "2022-02-06T10:58:12.040Z"
   },
   {
    "duration": 48,
    "start_time": "2022-02-06T10:58:13.127Z"
   },
   {
    "duration": 68,
    "start_time": "2022-02-06T10:58:13.671Z"
   },
   {
    "duration": 723,
    "start_time": "2022-02-06T10:58:46.751Z"
   },
   {
    "duration": 45,
    "start_time": "2022-02-06T10:58:47.476Z"
   },
   {
    "duration": 42,
    "start_time": "2022-02-06T10:58:47.648Z"
   },
   {
    "duration": 6,
    "start_time": "2022-02-06T11:00:58.605Z"
   },
   {
    "duration": 41,
    "start_time": "2022-02-06T11:00:58.966Z"
   },
   {
    "duration": 43,
    "start_time": "2022-02-06T11:00:59.328Z"
   },
   {
    "duration": 5,
    "start_time": "2022-02-06T11:01:50.238Z"
   },
   {
    "duration": 40,
    "start_time": "2022-02-06T11:01:50.733Z"
   },
   {
    "duration": 47,
    "start_time": "2022-02-06T11:01:52.212Z"
   },
   {
    "duration": 27,
    "start_time": "2022-02-06T11:02:02.213Z"
   },
   {
    "duration": 5,
    "start_time": "2022-02-06T11:02:37.125Z"
   },
   {
    "duration": 38,
    "start_time": "2022-02-06T11:02:39.796Z"
   },
   {
    "duration": 41,
    "start_time": "2022-02-06T11:02:43.795Z"
   },
   {
    "duration": 6,
    "start_time": "2022-02-06T11:03:00.917Z"
   },
   {
    "duration": 38,
    "start_time": "2022-02-06T11:03:01.509Z"
   },
   {
    "duration": 44,
    "start_time": "2022-02-06T11:03:01.853Z"
   },
   {
    "duration": 84,
    "start_time": "2022-02-06T11:06:48.994Z"
   },
   {
    "duration": 7,
    "start_time": "2022-02-06T11:07:09.825Z"
   },
   {
    "duration": 43,
    "start_time": "2022-02-06T11:07:10.778Z"
   },
   {
    "duration": 41,
    "start_time": "2022-02-06T11:07:11.602Z"
   },
   {
    "duration": 6,
    "start_time": "2022-02-06T11:07:21.497Z"
   },
   {
    "duration": 41,
    "start_time": "2022-02-06T11:07:22.150Z"
   },
   {
    "duration": 41,
    "start_time": "2022-02-06T11:07:22.474Z"
   },
   {
    "duration": 735,
    "start_time": "2022-02-06T11:07:32.104Z"
   },
   {
    "duration": 40,
    "start_time": "2022-02-06T11:07:32.841Z"
   },
   {
    "duration": 59,
    "start_time": "2022-02-06T11:07:32.883Z"
   },
   {
    "duration": 6,
    "start_time": "2022-02-06T11:07:44.449Z"
   },
   {
    "duration": 41,
    "start_time": "2022-02-06T11:07:45.482Z"
   },
   {
    "duration": 56,
    "start_time": "2022-02-06T11:07:45.809Z"
   },
   {
    "duration": 13,
    "start_time": "2022-02-06T11:07:58.787Z"
   },
   {
    "duration": 42,
    "start_time": "2022-02-06T11:07:59.152Z"
   },
   {
    "duration": 45,
    "start_time": "2022-02-06T11:07:59.460Z"
   },
   {
    "duration": 5,
    "start_time": "2022-02-06T11:09:11.744Z"
   },
   {
    "duration": 41,
    "start_time": "2022-02-06T11:09:12.136Z"
   },
   {
    "duration": 54,
    "start_time": "2022-02-06T11:09:12.473Z"
   },
   {
    "duration": 6,
    "start_time": "2022-02-06T11:09:17.688Z"
   },
   {
    "duration": 43,
    "start_time": "2022-02-06T11:09:17.968Z"
   },
   {
    "duration": 42,
    "start_time": "2022-02-06T11:09:18.224Z"
   },
   {
    "duration": 19,
    "start_time": "2022-02-06T11:09:31.492Z"
   },
   {
    "duration": 7,
    "start_time": "2022-02-06T11:09:31.968Z"
   },
   {
    "duration": 41,
    "start_time": "2022-02-06T11:09:32.392Z"
   },
   {
    "duration": 42,
    "start_time": "2022-02-06T11:09:32.743Z"
   },
   {
    "duration": 738,
    "start_time": "2022-02-06T11:09:49.097Z"
   },
   {
    "duration": 38,
    "start_time": "2022-02-06T11:09:49.837Z"
   },
   {
    "duration": 58,
    "start_time": "2022-02-06T11:09:49.877Z"
   },
   {
    "duration": 742,
    "start_time": "2022-02-06T11:10:10.312Z"
   },
   {
    "duration": 39,
    "start_time": "2022-02-06T11:10:11.056Z"
   },
   {
    "duration": 56,
    "start_time": "2022-02-06T11:10:11.096Z"
   },
   {
    "duration": 5,
    "start_time": "2022-02-06T11:10:20.639Z"
   },
   {
    "duration": 40,
    "start_time": "2022-02-06T11:10:20.975Z"
   },
   {
    "duration": 47,
    "start_time": "2022-02-06T11:10:21.240Z"
   },
   {
    "duration": 4,
    "start_time": "2022-02-06T11:19:50.730Z"
   },
   {
    "duration": 40,
    "start_time": "2022-02-06T11:19:51.153Z"
   },
   {
    "duration": 42,
    "start_time": "2022-02-06T11:19:52.594Z"
   },
   {
    "duration": 5,
    "start_time": "2022-02-06T11:20:33.833Z"
   },
   {
    "duration": 40,
    "start_time": "2022-02-06T11:20:34.556Z"
   },
   {
    "duration": 47,
    "start_time": "2022-02-06T11:20:35.441Z"
   },
   {
    "duration": 5,
    "start_time": "2022-02-06T11:20:47.945Z"
   },
   {
    "duration": 43,
    "start_time": "2022-02-06T11:20:48.752Z"
   },
   {
    "duration": 49,
    "start_time": "2022-02-06T11:20:49.074Z"
   },
   {
    "duration": 7,
    "start_time": "2022-02-06T11:22:12.952Z"
   },
   {
    "duration": 38,
    "start_time": "2022-02-06T11:22:13.510Z"
   },
   {
    "duration": 46,
    "start_time": "2022-02-06T11:22:14.009Z"
   },
   {
    "duration": 8,
    "start_time": "2022-02-06T11:22:23.887Z"
   },
   {
    "duration": 53,
    "start_time": "2022-02-06T11:22:24.264Z"
   },
   {
    "duration": 60,
    "start_time": "2022-02-06T11:22:24.591Z"
   },
   {
    "duration": 6,
    "start_time": "2022-02-06T11:22:41.215Z"
   },
   {
    "duration": 40,
    "start_time": "2022-02-06T11:22:41.696Z"
   },
   {
    "duration": 48,
    "start_time": "2022-02-06T11:22:42.095Z"
   },
   {
    "duration": 6,
    "start_time": "2022-02-06T11:22:47.064Z"
   },
   {
    "duration": 48,
    "start_time": "2022-02-06T11:22:47.496Z"
   },
   {
    "duration": 55,
    "start_time": "2022-02-06T11:22:47.784Z"
   },
   {
    "duration": 7,
    "start_time": "2022-02-06T11:22:58.095Z"
   },
   {
    "duration": 49,
    "start_time": "2022-02-06T11:22:58.374Z"
   },
   {
    "duration": 46,
    "start_time": "2022-02-06T11:22:58.640Z"
   },
   {
    "duration": 30,
    "start_time": "2022-02-06T11:23:19.367Z"
   },
   {
    "duration": 7,
    "start_time": "2022-02-06T11:24:00.864Z"
   },
   {
    "duration": 41,
    "start_time": "2022-02-06T11:24:01.238Z"
   },
   {
    "duration": 57,
    "start_time": "2022-02-06T11:24:01.519Z"
   },
   {
    "duration": 7,
    "start_time": "2022-02-06T11:24:07.358Z"
   },
   {
    "duration": 41,
    "start_time": "2022-02-06T11:24:08.310Z"
   },
   {
    "duration": 54,
    "start_time": "2022-02-06T11:24:08.582Z"
   },
   {
    "duration": 9,
    "start_time": "2022-02-06T11:24:23.510Z"
   },
   {
    "duration": 7,
    "start_time": "2022-02-06T11:24:43.182Z"
   },
   {
    "duration": 41,
    "start_time": "2022-02-06T11:24:44.070Z"
   },
   {
    "duration": 55,
    "start_time": "2022-02-06T11:24:44.629Z"
   },
   {
    "duration": 8,
    "start_time": "2022-02-06T11:25:00.214Z"
   },
   {
    "duration": 41,
    "start_time": "2022-02-06T11:25:00.574Z"
   },
   {
    "duration": 51,
    "start_time": "2022-02-06T11:25:00.893Z"
   },
   {
    "duration": 407,
    "start_time": "2022-02-06T11:27:19.973Z"
   },
   {
    "duration": -842,
    "start_time": "2022-02-06T11:27:21.225Z"
   },
   {
    "duration": 250,
    "start_time": "2022-02-06T11:27:26.892Z"
   },
   {
    "duration": 6,
    "start_time": "2022-02-06T11:28:43.580Z"
   },
   {
    "duration": 39,
    "start_time": "2022-02-06T11:28:44.011Z"
   },
   {
    "duration": 45,
    "start_time": "2022-02-06T11:28:44.459Z"
   },
   {
    "duration": 7,
    "start_time": "2022-02-06T11:29:15.290Z"
   },
   {
    "duration": 40,
    "start_time": "2022-02-06T11:29:15.666Z"
   },
   {
    "duration": 45,
    "start_time": "2022-02-06T11:29:16.003Z"
   },
   {
    "duration": 5,
    "start_time": "2022-02-06T11:29:28.977Z"
   },
   {
    "duration": 39,
    "start_time": "2022-02-06T11:29:29.418Z"
   },
   {
    "duration": 45,
    "start_time": "2022-02-06T11:29:29.825Z"
   },
   {
    "duration": 7,
    "start_time": "2022-02-06T11:30:10.202Z"
   },
   {
    "duration": 44,
    "start_time": "2022-02-06T11:30:10.626Z"
   },
   {
    "duration": 46,
    "start_time": "2022-02-06T11:30:11.179Z"
   },
   {
    "duration": 5,
    "start_time": "2022-02-06T11:30:31.825Z"
   },
   {
    "duration": 40,
    "start_time": "2022-02-06T11:30:32.289Z"
   },
   {
    "duration": 44,
    "start_time": "2022-02-06T11:30:32.713Z"
   },
   {
    "duration": 1055,
    "start_time": "2022-02-06T11:30:52.563Z"
   },
   {
    "duration": 417,
    "start_time": "2022-02-06T11:30:53.620Z"
   },
   {
    "duration": 13,
    "start_time": "2022-02-06T11:30:54.039Z"
   },
   {
    "duration": 34,
    "start_time": "2022-02-06T11:30:54.054Z"
   },
   {
    "duration": 10,
    "start_time": "2022-02-06T11:30:55.052Z"
   },
   {
    "duration": 158,
    "start_time": "2022-02-06T11:30:55.461Z"
   },
   {
    "duration": 9,
    "start_time": "2022-02-06T11:30:55.899Z"
   },
   {
    "duration": 25,
    "start_time": "2022-02-06T11:30:56.379Z"
   },
   {
    "duration": 10,
    "start_time": "2022-02-06T11:30:56.809Z"
   },
   {
    "duration": 14,
    "start_time": "2022-02-06T11:30:57.251Z"
   },
   {
    "duration": 8,
    "start_time": "2022-02-06T11:30:57.667Z"
   },
   {
    "duration": 31,
    "start_time": "2022-02-06T11:30:58.083Z"
   },
   {
    "duration": 11,
    "start_time": "2022-02-06T11:30:58.492Z"
   },
   {
    "duration": 15,
    "start_time": "2022-02-06T11:30:58.898Z"
   },
   {
    "duration": 55,
    "start_time": "2022-02-06T11:30:59.371Z"
   },
   {
    "duration": 314,
    "start_time": "2022-02-06T11:31:01.850Z"
   },
   {
    "duration": 22,
    "start_time": "2022-02-06T11:31:02.275Z"
   },
   {
    "duration": 13,
    "start_time": "2022-02-06T11:31:02.698Z"
   },
   {
    "duration": 8,
    "start_time": "2022-02-06T11:31:03.146Z"
   },
   {
    "duration": 111,
    "start_time": "2022-02-06T11:31:03.562Z"
   },
   {
    "duration": 32,
    "start_time": "2022-02-06T11:31:04.003Z"
   },
   {
    "duration": 18,
    "start_time": "2022-02-06T11:31:04.379Z"
   },
   {
    "duration": 143,
    "start_time": "2022-02-06T11:31:04.682Z"
   },
   {
    "duration": 20,
    "start_time": "2022-02-06T11:31:09.443Z"
   },
   {
    "duration": 19,
    "start_time": "2022-02-06T11:31:10.026Z"
   },
   {
    "duration": 8,
    "start_time": "2022-02-06T11:31:10.530Z"
   },
   {
    "duration": 44,
    "start_time": "2022-02-06T11:31:11.019Z"
   },
   {
    "duration": 21,
    "start_time": "2022-02-06T11:31:11.522Z"
   },
   {
    "duration": 13,
    "start_time": "2022-02-06T11:31:12.035Z"
   },
   {
    "duration": 110,
    "start_time": "2022-02-06T11:31:12.522Z"
   },
   {
    "duration": 18,
    "start_time": "2022-02-06T11:31:13.226Z"
   },
   {
    "duration": 9,
    "start_time": "2022-02-06T11:31:13.713Z"
   },
   {
    "duration": 53,
    "start_time": "2022-02-06T11:31:14.218Z"
   },
   {
    "duration": 19,
    "start_time": "2022-02-06T11:31:14.762Z"
   },
   {
    "duration": 13,
    "start_time": "2022-02-06T11:31:15.218Z"
   },
   {
    "duration": 8,
    "start_time": "2022-02-06T11:31:15.635Z"
   },
   {
    "duration": 8,
    "start_time": "2022-02-06T11:31:16.218Z"
   },
   {
    "duration": 7,
    "start_time": "2022-02-06T11:31:16.834Z"
   },
   {
    "duration": 7,
    "start_time": "2022-02-06T11:31:17.313Z"
   },
   {
    "duration": 7,
    "start_time": "2022-02-06T11:31:17.874Z"
   },
   {
    "duration": 6,
    "start_time": "2022-02-06T11:31:18.395Z"
   },
   {
    "duration": 7,
    "start_time": "2022-02-06T11:31:18.842Z"
   },
   {
    "duration": 7,
    "start_time": "2022-02-06T11:31:19.361Z"
   },
   {
    "duration": 6,
    "start_time": "2022-02-06T11:31:19.897Z"
   },
   {
    "duration": 7,
    "start_time": "2022-02-06T11:31:20.401Z"
   },
   {
    "duration": 5,
    "start_time": "2022-02-06T11:31:20.835Z"
   },
   {
    "duration": 5,
    "start_time": "2022-02-06T11:31:21.338Z"
   },
   {
    "duration": 19,
    "start_time": "2022-02-06T11:31:21.786Z"
   },
   {
    "duration": 7,
    "start_time": "2022-02-06T11:31:22.234Z"
   },
   {
    "duration": 24,
    "start_time": "2022-02-06T11:31:26.138Z"
   },
   {
    "duration": 5,
    "start_time": "2022-02-06T11:31:27.122Z"
   },
   {
    "duration": 62,
    "start_time": "2022-02-06T11:31:29.625Z"
   },
   {
    "duration": 72,
    "start_time": "2022-02-06T11:31:30.499Z"
   },
   {
    "duration": 16,
    "start_time": "2022-02-06T11:31:35.297Z"
   },
   {
    "duration": 29,
    "start_time": "2022-02-06T11:31:36.473Z"
   },
   {
    "duration": 51,
    "start_time": "2022-02-06T11:31:36.859Z"
   },
   {
    "duration": 18,
    "start_time": "2022-02-06T11:31:40.985Z"
   },
   {
    "duration": 10,
    "start_time": "2022-02-06T11:31:41.626Z"
   },
   {
    "duration": 41,
    "start_time": "2022-02-06T11:31:42.409Z"
   },
   {
    "duration": 58,
    "start_time": "2022-02-06T11:31:42.969Z"
   },
   {
    "duration": 5,
    "start_time": "2022-02-06T11:32:55.145Z"
   },
   {
    "duration": 39,
    "start_time": "2022-02-06T11:32:55.729Z"
   },
   {
    "duration": 50,
    "start_time": "2022-02-06T11:32:56.113Z"
   },
   {
    "duration": 6,
    "start_time": "2022-02-06T11:33:36.001Z"
   },
   {
    "duration": 40,
    "start_time": "2022-02-06T11:33:36.489Z"
   },
   {
    "duration": 57,
    "start_time": "2022-02-06T11:33:36.868Z"
   },
   {
    "duration": 6,
    "start_time": "2022-02-06T11:34:42.999Z"
   },
   {
    "duration": 36,
    "start_time": "2022-02-06T11:34:43.384Z"
   },
   {
    "duration": 43,
    "start_time": "2022-02-06T11:34:43.713Z"
   },
   {
    "duration": 6,
    "start_time": "2022-02-06T11:35:01.576Z"
   },
   {
    "duration": 41,
    "start_time": "2022-02-06T11:35:01.960Z"
   },
   {
    "duration": 52,
    "start_time": "2022-02-06T11:35:02.216Z"
   },
   {
    "duration": 7,
    "start_time": "2022-02-06T11:35:15.359Z"
   },
   {
    "duration": 38,
    "start_time": "2022-02-06T11:35:15.682Z"
   },
   {
    "duration": 49,
    "start_time": "2022-02-06T11:35:15.928Z"
   },
   {
    "duration": 703,
    "start_time": "2022-02-06T11:36:09.950Z"
   },
   {
    "duration": 45,
    "start_time": "2022-02-06T11:36:10.656Z"
   },
   {
    "duration": 58,
    "start_time": "2022-02-06T11:36:11.911Z"
   },
   {
    "duration": 4,
    "start_time": "2022-02-06T11:36:50.455Z"
   },
   {
    "duration": 41,
    "start_time": "2022-02-06T11:36:50.845Z"
   },
   {
    "duration": 48,
    "start_time": "2022-02-06T11:36:51.185Z"
   },
   {
    "duration": 42,
    "start_time": "2022-02-06T11:37:03.079Z"
   },
   {
    "duration": 51,
    "start_time": "2022-02-06T11:41:56.643Z"
   },
   {
    "duration": 33,
    "start_time": "2022-02-06T11:41:58.995Z"
   },
   {
    "duration": 2806,
    "start_time": "2022-02-06T11:41:59.843Z"
   },
   {
    "duration": 22,
    "start_time": "2022-02-06T11:42:02.652Z"
   },
   {
    "duration": 14,
    "start_time": "2022-02-06T11:42:02.677Z"
   },
   {
    "duration": 620,
    "start_time": "2022-02-06T11:42:02.694Z"
   },
   {
    "duration": 366,
    "start_time": "2022-02-06T11:42:04.115Z"
   },
   {
    "duration": 30,
    "start_time": "2022-02-06T11:42:04.707Z"
   },
   {
    "duration": 284,
    "start_time": "2022-02-06T11:42:06.434Z"
   },
   {
    "duration": 640,
    "start_time": "2022-02-06T11:43:49.641Z"
   },
   {
    "duration": 488,
    "start_time": "2022-02-06T11:44:19.562Z"
   },
   {
    "duration": 481,
    "start_time": "2022-02-06T11:45:45.080Z"
   },
   {
    "duration": 710,
    "start_time": "2022-02-06T11:46:49.800Z"
   },
   {
    "duration": 532,
    "start_time": "2022-02-06T11:50:23.126Z"
   },
   {
    "duration": 349,
    "start_time": "2022-02-06T11:50:37.660Z"
   },
   {
    "duration": 370,
    "start_time": "2022-02-06T11:51:27.948Z"
   },
   {
    "duration": 371,
    "start_time": "2022-02-06T11:51:44.508Z"
   },
   {
    "duration": 516,
    "start_time": "2022-02-06T11:52:18.485Z"
   },
   {
    "duration": 500,
    "start_time": "2022-02-06T11:52:37.059Z"
   },
   {
    "duration": 1042,
    "start_time": "2022-02-06T11:53:21.139Z"
   },
   {
    "duration": 547,
    "start_time": "2022-02-06T11:53:34.628Z"
   },
   {
    "duration": 316,
    "start_time": "2022-02-06T11:53:49.835Z"
   },
   {
    "duration": 312,
    "start_time": "2022-02-06T11:53:58.131Z"
   },
   {
    "duration": 497,
    "start_time": "2022-02-06T11:54:07.700Z"
   },
   {
    "duration": 239,
    "start_time": "2022-02-06T11:54:19.811Z"
   },
   {
    "duration": 332,
    "start_time": "2022-02-06T11:56:38.018Z"
   },
   {
    "duration": 365,
    "start_time": "2022-02-06T11:56:43.593Z"
   },
   {
    "duration": 373,
    "start_time": "2022-02-06T11:58:39.960Z"
   },
   {
    "duration": 227,
    "start_time": "2022-02-06T11:59:13.959Z"
   },
   {
    "duration": 241,
    "start_time": "2022-02-06T12:00:13.334Z"
   },
   {
    "duration": 250,
    "start_time": "2022-02-06T12:00:20.910Z"
   },
   {
    "duration": 262,
    "start_time": "2022-02-06T12:02:10.837Z"
   },
   {
    "duration": 253,
    "start_time": "2022-02-06T12:03:21.621Z"
   },
   {
    "duration": 270,
    "start_time": "2022-02-06T12:03:24.132Z"
   },
   {
    "duration": 368,
    "start_time": "2022-02-06T12:04:19.948Z"
   },
   {
    "duration": 245,
    "start_time": "2022-02-06T12:04:31.940Z"
   },
   {
    "duration": 89,
    "start_time": "2022-02-06T15:28:25.218Z"
   },
   {
    "duration": 1060,
    "start_time": "2022-02-06T15:28:39.044Z"
   },
   {
    "duration": 431,
    "start_time": "2022-02-06T15:28:40.107Z"
   },
   {
    "duration": 14,
    "start_time": "2022-02-06T15:28:40.540Z"
   },
   {
    "duration": 34,
    "start_time": "2022-02-06T15:28:40.556Z"
   },
   {
    "duration": 10,
    "start_time": "2022-02-06T15:28:41.348Z"
   },
   {
    "duration": 153,
    "start_time": "2022-02-06T15:28:41.821Z"
   },
   {
    "duration": 10,
    "start_time": "2022-02-06T15:28:42.350Z"
   },
   {
    "duration": 25,
    "start_time": "2022-02-06T15:28:42.766Z"
   },
   {
    "duration": 9,
    "start_time": "2022-02-06T15:28:43.293Z"
   },
   {
    "duration": 15,
    "start_time": "2022-02-06T15:28:43.741Z"
   },
   {
    "duration": 9,
    "start_time": "2022-02-06T15:28:44.238Z"
   },
   {
    "duration": 29,
    "start_time": "2022-02-06T15:28:44.663Z"
   },
   {
    "duration": 11,
    "start_time": "2022-02-06T15:28:45.093Z"
   },
   {
    "duration": 16,
    "start_time": "2022-02-06T15:28:45.557Z"
   },
   {
    "duration": 59,
    "start_time": "2022-02-06T15:28:46.021Z"
   },
   {
    "duration": 295,
    "start_time": "2022-02-06T15:28:48.485Z"
   },
   {
    "duration": 23,
    "start_time": "2022-02-06T15:28:49.269Z"
   },
   {
    "duration": 13,
    "start_time": "2022-02-06T15:28:49.862Z"
   },
   {
    "duration": 7,
    "start_time": "2022-02-06T15:28:50.430Z"
   },
   {
    "duration": 105,
    "start_time": "2022-02-06T15:28:50.958Z"
   },
   {
    "duration": 32,
    "start_time": "2022-02-06T15:28:51.599Z"
   },
   {
    "duration": 15,
    "start_time": "2022-02-06T15:28:52.652Z"
   },
   {
    "duration": 139,
    "start_time": "2022-02-06T15:28:55.653Z"
   },
   {
    "duration": 18,
    "start_time": "2022-02-06T15:28:56.269Z"
   },
   {
    "duration": 18,
    "start_time": "2022-02-06T15:28:56.838Z"
   },
   {
    "duration": 7,
    "start_time": "2022-02-06T15:28:57.309Z"
   },
   {
    "duration": 43,
    "start_time": "2022-02-06T15:28:57.942Z"
   },
   {
    "duration": 22,
    "start_time": "2022-02-06T15:28:58.469Z"
   },
   {
    "duration": 13,
    "start_time": "2022-02-06T15:28:58.911Z"
   },
   {
    "duration": 119,
    "start_time": "2022-02-06T15:28:59.364Z"
   },
   {
    "duration": 17,
    "start_time": "2022-02-06T15:28:59.861Z"
   },
   {
    "duration": 8,
    "start_time": "2022-02-06T15:29:00.349Z"
   },
   {
    "duration": 49,
    "start_time": "2022-02-06T15:29:00.837Z"
   },
   {
    "duration": 18,
    "start_time": "2022-02-06T15:29:01.325Z"
   },
   {
    "duration": 12,
    "start_time": "2022-02-06T15:29:01.757Z"
   },
   {
    "duration": 8,
    "start_time": "2022-02-06T15:29:02.229Z"
   },
   {
    "duration": 7,
    "start_time": "2022-02-06T15:29:02.725Z"
   },
   {
    "duration": 7,
    "start_time": "2022-02-06T15:29:03.292Z"
   },
   {
    "duration": 6,
    "start_time": "2022-02-06T15:29:03.765Z"
   },
   {
    "duration": 9,
    "start_time": "2022-02-06T15:29:04.253Z"
   },
   {
    "duration": 8,
    "start_time": "2022-02-06T15:29:04.781Z"
   },
   {
    "duration": 7,
    "start_time": "2022-02-06T15:29:05.205Z"
   },
   {
    "duration": 7,
    "start_time": "2022-02-06T15:29:05.733Z"
   },
   {
    "duration": 7,
    "start_time": "2022-02-06T15:29:06.237Z"
   },
   {
    "duration": 7,
    "start_time": "2022-02-06T15:29:06.734Z"
   },
   {
    "duration": 5,
    "start_time": "2022-02-06T15:29:07.180Z"
   },
   {
    "duration": 5,
    "start_time": "2022-02-06T15:29:07.629Z"
   },
   {
    "duration": 18,
    "start_time": "2022-02-06T15:29:08.238Z"
   },
   {
    "duration": 7,
    "start_time": "2022-02-06T15:29:08.678Z"
   },
   {
    "duration": 24,
    "start_time": "2022-02-06T15:29:11.388Z"
   },
   {
    "duration": 5,
    "start_time": "2022-02-06T15:29:12.196Z"
   },
   {
    "duration": 64,
    "start_time": "2022-02-06T15:29:13.780Z"
   },
   {
    "duration": 79,
    "start_time": "2022-02-06T15:29:14.293Z"
   },
   {
    "duration": 16,
    "start_time": "2022-02-06T15:29:16.603Z"
   },
   {
    "duration": 32,
    "start_time": "2022-02-06T15:29:17.076Z"
   },
   {
    "duration": 49,
    "start_time": "2022-02-06T15:29:17.605Z"
   },
   {
    "duration": 19,
    "start_time": "2022-02-06T15:29:19.589Z"
   },
   {
    "duration": 5,
    "start_time": "2022-02-06T15:29:20.013Z"
   },
   {
    "duration": 37,
    "start_time": "2022-02-06T15:29:20.445Z"
   },
   {
    "duration": 61,
    "start_time": "2022-02-06T15:29:21.092Z"
   },
   {
    "duration": 34,
    "start_time": "2022-02-06T15:29:23.548Z"
   },
   {
    "duration": 22,
    "start_time": "2022-02-06T15:29:26.388Z"
   },
   {
    "duration": 2033,
    "start_time": "2022-02-06T15:29:27.269Z"
   },
   {
    "duration": 12,
    "start_time": "2022-02-06T15:29:29.732Z"
   },
   {
    "duration": 8,
    "start_time": "2022-02-06T15:29:30.525Z"
   },
   {
    "duration": 647,
    "start_time": "2022-02-06T15:29:31.981Z"
   },
   {
    "duration": 261,
    "start_time": "2022-02-06T15:29:34.644Z"
   },
   {
    "duration": 33,
    "start_time": "2022-02-06T15:29:35.445Z"
   },
   {
    "duration": 297,
    "start_time": "2022-02-06T15:29:36.300Z"
   },
   {
    "duration": 304,
    "start_time": "2022-02-06T15:29:38.164Z"
   },
   {
    "duration": 295,
    "start_time": "2022-02-06T15:29:39.093Z"
   },
   {
    "duration": 10,
    "start_time": "2022-02-06T15:29:42.429Z"
   },
   {
    "duration": 3,
    "start_time": "2022-02-06T15:29:42.971Z"
   },
   {
    "duration": 4,
    "start_time": "2022-02-06T15:29:43.452Z"
   },
   {
    "duration": 4,
    "start_time": "2022-02-06T15:29:43.965Z"
   },
   {
    "duration": 14,
    "start_time": "2022-02-06T15:29:44.949Z"
   },
   {
    "duration": 6,
    "start_time": "2022-02-06T15:29:45.469Z"
   },
   {
    "duration": 4,
    "start_time": "2022-02-06T15:29:46.036Z"
   },
   {
    "duration": 2084,
    "start_time": "2022-02-06T15:29:48.083Z"
   },
   {
    "duration": 10,
    "start_time": "2022-02-06T15:29:50.876Z"
   },
   {
    "duration": 2,
    "start_time": "2022-02-06T15:29:51.364Z"
   },
   {
    "duration": 4,
    "start_time": "2022-02-06T15:29:51.844Z"
   },
   {
    "duration": 4,
    "start_time": "2022-02-06T15:29:52.740Z"
   },
   {
    "duration": 3,
    "start_time": "2022-02-06T15:29:53.236Z"
   },
   {
    "duration": 4,
    "start_time": "2022-02-06T15:29:53.757Z"
   },
   {
    "duration": 14,
    "start_time": "2022-02-06T15:29:54.284Z"
   }
  ],
  "kernelspec": {
   "display_name": "Python 3 (ipykernel)",
   "language": "python",
   "name": "python3"
  },
  "language_info": {
   "codemirror_mode": {
    "name": "ipython",
    "version": 3
   },
   "file_extension": ".py",
   "mimetype": "text/x-python",
   "name": "python",
   "nbconvert_exporter": "python",
   "pygments_lexer": "ipython3",
   "version": "3.9.12"
  },
  "toc": {
   "base_numbering": 1,
   "nav_menu": {},
   "number_sections": true,
   "sideBar": true,
   "skip_h1_title": true,
   "title_cell": "Table of Contents",
   "title_sidebar": "Contents",
   "toc_cell": false,
   "toc_position": {},
   "toc_section_display": true,
   "toc_window_display": false
  }
 },
 "nbformat": 4,
 "nbformat_minor": 2
}
